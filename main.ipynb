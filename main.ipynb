{
 "cells": [
  {
   "cell_type": "markdown",
   "metadata": {},
   "source": [
    "Import relevant Libraries"
   ]
  },
  {
   "cell_type": "code",
   "execution_count": 38,
   "metadata": {},
   "outputs": [],
   "source": [
    "import pandas as pd\n",
    "import seaborn as sns\n",
    "import plotly.express as px\n",
    "from plotly.subplots import make_subplots\n",
    "import plotly.graph_objects as go\n",
    "import matplotlib.pyplot as plt\n",
    "sns.set_style('whitegrid')"
   ]
  },
  {
   "cell_type": "markdown",
   "metadata": {},
   "source": [
    "Read all files"
   ]
  },
  {
   "cell_type": "code",
   "execution_count": 39,
   "metadata": {},
   "outputs": [
    {
     "name": "stdout",
     "output_type": "stream",
     "text": [
      "Unnamed: 0       0\n",
      "id_major         0\n",
      "id_university    0\n",
      "type             0\n",
      "major_name       0\n",
      "capacity         0\n",
      "dtype: int64\n"
     ]
    },
    {
     "data": {
      "text/html": [
       "<div>\n",
       "<style scoped>\n",
       "    .dataframe tbody tr th:only-of-type {\n",
       "        vertical-align: middle;\n",
       "    }\n",
       "\n",
       "    .dataframe tbody tr th {\n",
       "        vertical-align: top;\n",
       "    }\n",
       "\n",
       "    .dataframe thead th {\n",
       "        text-align: right;\n",
       "    }\n",
       "</style>\n",
       "<table border=\"1\" class=\"dataframe\">\n",
       "  <thead>\n",
       "    <tr style=\"text-align: right;\">\n",
       "      <th></th>\n",
       "      <th>Unnamed: 0</th>\n",
       "      <th>id_major</th>\n",
       "      <th>id_university</th>\n",
       "      <th>type</th>\n",
       "      <th>major_name</th>\n",
       "      <th>capacity</th>\n",
       "    </tr>\n",
       "  </thead>\n",
       "  <tbody>\n",
       "    <tr>\n",
       "      <th>960</th>\n",
       "      <td>960</td>\n",
       "      <td>3731087</td>\n",
       "      <td>373</td>\n",
       "      <td>science</td>\n",
       "      <td>PENDIDIKAN TEKNIK INFORMATIKA</td>\n",
       "      <td>45</td>\n",
       "    </tr>\n",
       "    <tr>\n",
       "      <th>1509</th>\n",
       "      <td>1509</td>\n",
       "      <td>7511057</td>\n",
       "      <td>751</td>\n",
       "      <td>science</td>\n",
       "      <td>MANAJEMEN SUMBERDAYA PERAIRAN</td>\n",
       "      <td>36</td>\n",
       "    </tr>\n",
       "    <tr>\n",
       "      <th>185</th>\n",
       "      <td>185</td>\n",
       "      <td>1331052</td>\n",
       "      <td>133</td>\n",
       "      <td>science</td>\n",
       "      <td>PENDIDIKAN MATEMATIKA</td>\n",
       "      <td>36</td>\n",
       "    </tr>\n",
       "    <tr>\n",
       "      <th>455</th>\n",
       "      <td>455</td>\n",
       "      <td>3211182</td>\n",
       "      <td>321</td>\n",
       "      <td>science</td>\n",
       "      <td>TEKNIK INDUSTRI</td>\n",
       "      <td>48</td>\n",
       "    </tr>\n",
       "    <tr>\n",
       "      <th>546</th>\n",
       "      <td>546</td>\n",
       "      <td>3331091</td>\n",
       "      <td>333</td>\n",
       "      <td>science</td>\n",
       "      <td>PENDIDIKAN DOKTER GIGI</td>\n",
       "      <td>70</td>\n",
       "    </tr>\n",
       "  </tbody>\n",
       "</table>\n",
       "</div>"
      ],
      "text/plain": [
       "      Unnamed: 0  id_major  id_university     type  \\\n",
       "960          960   3731087            373  science   \n",
       "1509        1509   7511057            751  science   \n",
       "185          185   1331052            133  science   \n",
       "455          455   3211182            321  science   \n",
       "546          546   3331091            333  science   \n",
       "\n",
       "                          major_name  capacity  \n",
       "960   PENDIDIKAN TEKNIK INFORMATIKA         45  \n",
       "1509   MANAJEMEN SUMBERDAYA PERAIRAN        36  \n",
       "185            PENDIDIKAN MATEMATIKA        36  \n",
       "455                  TEKNIK INDUSTRI        48  \n",
       "546           PENDIDIKAN DOKTER GIGI        70  "
      ]
     },
     "execution_count": 39,
     "metadata": {},
     "output_type": "execute_result"
    }
   ],
   "source": [
    "# Major file, inside here we have id_major\tid_university\ttype\tmajor_name\tcapacity columns\n",
    "majors = pd.read_csv('./files/majors.csv')\n",
    "print(majors.isna().sum()) #check for some null \n",
    "majors.sample(5)"
   ]
  },
  {
   "cell_type": "code",
   "execution_count": 40,
   "metadata": {},
   "outputs": [
    {
     "name": "stdout",
     "output_type": "stream",
     "text": [
      "Unnamed: 0         0\n",
      "id_university      0\n",
      "university_name    0\n",
      "dtype: int64\n"
     ]
    },
    {
     "data": {
      "text/html": [
       "<div>\n",
       "<style scoped>\n",
       "    .dataframe tbody tr th:only-of-type {\n",
       "        vertical-align: middle;\n",
       "    }\n",
       "\n",
       "    .dataframe tbody tr th {\n",
       "        vertical-align: top;\n",
       "    }\n",
       "\n",
       "    .dataframe thead th {\n",
       "        text-align: right;\n",
       "    }\n",
       "</style>\n",
       "<table border=\"1\" class=\"dataframe\">\n",
       "  <thead>\n",
       "    <tr style=\"text-align: right;\">\n",
       "      <th></th>\n",
       "      <th>Unnamed: 0</th>\n",
       "      <th>id_university</th>\n",
       "      <th>university_name</th>\n",
       "    </tr>\n",
       "  </thead>\n",
       "  <tbody>\n",
       "    <tr>\n",
       "      <th>76</th>\n",
       "      <td>76</td>\n",
       "      <td>751</td>\n",
       "      <td>UNIVERSITAS HALUOLEO</td>\n",
       "    </tr>\n",
       "    <tr>\n",
       "      <th>40</th>\n",
       "      <td>40</td>\n",
       "      <td>356</td>\n",
       "      <td>UNIVERSITAS NEGERI SEMARANG</td>\n",
       "    </tr>\n",
       "    <tr>\n",
       "      <th>1</th>\n",
       "      <td>1</td>\n",
       "      <td>112</td>\n",
       "      <td>UNIVERSITAS MALIKUSSALEH</td>\n",
       "    </tr>\n",
       "    <tr>\n",
       "      <th>82</th>\n",
       "      <td>82</td>\n",
       "      <td>912</td>\n",
       "      <td>UNIVERSITAS MUSAMUS MERAUKE</td>\n",
       "    </tr>\n",
       "    <tr>\n",
       "      <th>29</th>\n",
       "      <td>29</td>\n",
       "      <td>333</td>\n",
       "      <td>UNIVERSITAS PADJADJARAN</td>\n",
       "    </tr>\n",
       "  </tbody>\n",
       "</table>\n",
       "</div>"
      ],
      "text/plain": [
       "    Unnamed: 0  id_university              university_name\n",
       "76          76            751         UNIVERSITAS HALUOLEO\n",
       "40          40            356  UNIVERSITAS NEGERI SEMARANG\n",
       "1            1            112     UNIVERSITAS MALIKUSSALEH\n",
       "82          82            912  UNIVERSITAS MUSAMUS MERAUKE\n",
       "29          29            333      UNIVERSITAS PADJADJARAN"
      ]
     },
     "execution_count": 40,
     "metadata": {},
     "output_type": "execute_result"
    }
   ],
   "source": [
    "# we have id_university and the name of the university \n",
    "universities = pd.read_csv('./files/universities.csv')\n",
    "print(universities.isna().sum()) #check some null \n",
    "universities.sample(5)"
   ]
  },
  {
   "cell_type": "code",
   "execution_count": 41,
   "metadata": {},
   "outputs": [
    {
     "name": "stdout",
     "output_type": "stream",
     "text": [
      "Unnamed: 0              0\n",
      "id_first_major          0\n",
      "id_first_university     0\n",
      "id_second_major         0\n",
      "id_second_university    0\n",
      "id_user                 0\n",
      "score_eko               0\n",
      "score_geo               0\n",
      "score_kmb               0\n",
      "score_kpu               0\n",
      "score_kua               0\n",
      "score_mat               0\n",
      "score_ppu               0\n",
      "score_sej               0\n",
      "score_sos               0\n",
      "dtype: int64\n"
     ]
    },
    {
     "data": {
      "text/html": [
       "<div>\n",
       "<style scoped>\n",
       "    .dataframe tbody tr th:only-of-type {\n",
       "        vertical-align: middle;\n",
       "    }\n",
       "\n",
       "    .dataframe tbody tr th {\n",
       "        vertical-align: top;\n",
       "    }\n",
       "\n",
       "    .dataframe thead th {\n",
       "        text-align: right;\n",
       "    }\n",
       "</style>\n",
       "<table border=\"1\" class=\"dataframe\">\n",
       "  <thead>\n",
       "    <tr style=\"text-align: right;\">\n",
       "      <th></th>\n",
       "      <th>Unnamed: 0</th>\n",
       "      <th>id_first_major</th>\n",
       "      <th>id_first_university</th>\n",
       "      <th>id_second_major</th>\n",
       "      <th>id_second_university</th>\n",
       "      <th>id_user</th>\n",
       "      <th>score_eko</th>\n",
       "      <th>score_geo</th>\n",
       "      <th>score_kmb</th>\n",
       "      <th>score_kpu</th>\n",
       "      <th>score_kua</th>\n",
       "      <th>score_mat</th>\n",
       "      <th>score_ppu</th>\n",
       "      <th>score_sej</th>\n",
       "      <th>score_sos</th>\n",
       "    </tr>\n",
       "  </thead>\n",
       "  <tbody>\n",
       "    <tr>\n",
       "      <th>1426</th>\n",
       "      <td>1426</td>\n",
       "      <td>6112064</td>\n",
       "      <td>611</td>\n",
       "      <td>6112072</td>\n",
       "      <td>611</td>\n",
       "      <td>13179</td>\n",
       "      <td>716</td>\n",
       "      <td>562</td>\n",
       "      <td>620</td>\n",
       "      <td>553</td>\n",
       "      <td>545</td>\n",
       "      <td>502</td>\n",
       "      <td>524</td>\n",
       "      <td>542</td>\n",
       "      <td>602</td>\n",
       "    </tr>\n",
       "    <tr>\n",
       "      <th>6549</th>\n",
       "      <td>6549</td>\n",
       "      <td>3112176</td>\n",
       "      <td>311</td>\n",
       "      <td>3112095</td>\n",
       "      <td>311</td>\n",
       "      <td>49836</td>\n",
       "      <td>527</td>\n",
       "      <td>535</td>\n",
       "      <td>530</td>\n",
       "      <td>618</td>\n",
       "      <td>486</td>\n",
       "      <td>305</td>\n",
       "      <td>549</td>\n",
       "      <td>380</td>\n",
       "      <td>531</td>\n",
       "    </tr>\n",
       "    <tr>\n",
       "      <th>18113</th>\n",
       "      <td>18113</td>\n",
       "      <td>3512111</td>\n",
       "      <td>351</td>\n",
       "      <td>3512126</td>\n",
       "      <td>351</td>\n",
       "      <td>122455</td>\n",
       "      <td>445</td>\n",
       "      <td>467</td>\n",
       "      <td>567</td>\n",
       "      <td>520</td>\n",
       "      <td>530</td>\n",
       "      <td>489</td>\n",
       "      <td>519</td>\n",
       "      <td>589</td>\n",
       "      <td>516</td>\n",
       "    </tr>\n",
       "    <tr>\n",
       "      <th>9986</th>\n",
       "      <td>9986</td>\n",
       "      <td>3222133</td>\n",
       "      <td>322</td>\n",
       "      <td>3222454</td>\n",
       "      <td>322</td>\n",
       "      <td>73051</td>\n",
       "      <td>515</td>\n",
       "      <td>534</td>\n",
       "      <td>476</td>\n",
       "      <td>449</td>\n",
       "      <td>497</td>\n",
       "      <td>430</td>\n",
       "      <td>429</td>\n",
       "      <td>659</td>\n",
       "      <td>550</td>\n",
       "    </tr>\n",
       "    <tr>\n",
       "      <th>56223</th>\n",
       "      <td>56223</td>\n",
       "      <td>3242056</td>\n",
       "      <td>324</td>\n",
       "      <td>3242041</td>\n",
       "      <td>324</td>\n",
       "      <td>307840</td>\n",
       "      <td>561</td>\n",
       "      <td>562</td>\n",
       "      <td>480</td>\n",
       "      <td>509</td>\n",
       "      <td>491</td>\n",
       "      <td>525</td>\n",
       "      <td>503</td>\n",
       "      <td>614</td>\n",
       "      <td>619</td>\n",
       "    </tr>\n",
       "  </tbody>\n",
       "</table>\n",
       "</div>"
      ],
      "text/plain": [
       "       Unnamed: 0  id_first_major  id_first_university  id_second_major  \\\n",
       "1426         1426         6112064                  611          6112072   \n",
       "6549         6549         3112176                  311          3112095   \n",
       "18113       18113         3512111                  351          3512126   \n",
       "9986         9986         3222133                  322          3222454   \n",
       "56223       56223         3242056                  324          3242041   \n",
       "\n",
       "       id_second_university  id_user  score_eko  score_geo  score_kmb  \\\n",
       "1426                    611    13179        716        562        620   \n",
       "6549                    311    49836        527        535        530   \n",
       "18113                   351   122455        445        467        567   \n",
       "9986                    322    73051        515        534        476   \n",
       "56223                   324   307840        561        562        480   \n",
       "\n",
       "       score_kpu  score_kua  score_mat  score_ppu  score_sej  score_sos  \n",
       "1426         553        545        502        524        542        602  \n",
       "6549         618        486        305        549        380        531  \n",
       "18113        520        530        489        519        589        516  \n",
       "9986         449        497        430        429        659        550  \n",
       "56223        509        491        525        503        614        619  "
      ]
     },
     "execution_count": 41,
     "metadata": {},
     "output_type": "execute_result"
    }
   ],
   "source": [
    "# in here we have all the test score from humanities\n",
    "score_humanities = pd.read_csv('./files/score_humanities.csv')\n",
    "print(score_humanities.isna().sum()) #check some null \n",
    "score_humanities.sample(5)"
   ]
  },
  {
   "cell_type": "code",
   "execution_count": 42,
   "metadata": {},
   "outputs": [
    {
     "name": "stdout",
     "output_type": "stream",
     "text": [
      "Unnamed: 0              0\n",
      "id_first_major          0\n",
      "id_first_university     0\n",
      "id_second_major         0\n",
      "id_second_university    0\n",
      "id_user                 0\n",
      "score_bio               0\n",
      "score_fis               0\n",
      "score_kim               0\n",
      "score_kmb               0\n",
      "score_kpu               0\n",
      "score_kua               0\n",
      "score_mat               0\n",
      "score_ppu               0\n",
      "dtype: int64\n"
     ]
    },
    {
     "data": {
      "text/html": [
       "<div>\n",
       "<style scoped>\n",
       "    .dataframe tbody tr th:only-of-type {\n",
       "        vertical-align: middle;\n",
       "    }\n",
       "\n",
       "    .dataframe tbody tr th {\n",
       "        vertical-align: top;\n",
       "    }\n",
       "\n",
       "    .dataframe thead th {\n",
       "        text-align: right;\n",
       "    }\n",
       "</style>\n",
       "<table border=\"1\" class=\"dataframe\">\n",
       "  <thead>\n",
       "    <tr style=\"text-align: right;\">\n",
       "      <th></th>\n",
       "      <th>Unnamed: 0</th>\n",
       "      <th>id_first_major</th>\n",
       "      <th>id_first_university</th>\n",
       "      <th>id_second_major</th>\n",
       "      <th>id_second_university</th>\n",
       "      <th>id_user</th>\n",
       "      <th>score_bio</th>\n",
       "      <th>score_fis</th>\n",
       "      <th>score_kim</th>\n",
       "      <th>score_kmb</th>\n",
       "      <th>score_kpu</th>\n",
       "      <th>score_kua</th>\n",
       "      <th>score_mat</th>\n",
       "      <th>score_ppu</th>\n",
       "    </tr>\n",
       "  </thead>\n",
       "  <tbody>\n",
       "    <tr>\n",
       "      <th>78612</th>\n",
       "      <td>78612</td>\n",
       "      <td>3211166</td>\n",
       "      <td>321</td>\n",
       "      <td>3411017</td>\n",
       "      <td>341</td>\n",
       "      <td>310315</td>\n",
       "      <td>690</td>\n",
       "      <td>721</td>\n",
       "      <td>605</td>\n",
       "      <td>643</td>\n",
       "      <td>787</td>\n",
       "      <td>810</td>\n",
       "      <td>614</td>\n",
       "      <td>567</td>\n",
       "    </tr>\n",
       "    <tr>\n",
       "      <th>80875</th>\n",
       "      <td>80875</td>\n",
       "      <td>1711067</td>\n",
       "      <td>171</td>\n",
       "      <td>1711342</td>\n",
       "      <td>171</td>\n",
       "      <td>317358</td>\n",
       "      <td>483</td>\n",
       "      <td>579</td>\n",
       "      <td>556</td>\n",
       "      <td>550</td>\n",
       "      <td>518</td>\n",
       "      <td>538</td>\n",
       "      <td>478</td>\n",
       "      <td>503</td>\n",
       "    </tr>\n",
       "    <tr>\n",
       "      <th>20476</th>\n",
       "      <td>20476</td>\n",
       "      <td>3851085</td>\n",
       "      <td>385</td>\n",
       "      <td>3851062</td>\n",
       "      <td>385</td>\n",
       "      <td>92373</td>\n",
       "      <td>456</td>\n",
       "      <td>358</td>\n",
       "      <td>524</td>\n",
       "      <td>417</td>\n",
       "      <td>554</td>\n",
       "      <td>525</td>\n",
       "      <td>511</td>\n",
       "      <td>484</td>\n",
       "    </tr>\n",
       "    <tr>\n",
       "      <th>53972</th>\n",
       "      <td>53972</td>\n",
       "      <td>3551267</td>\n",
       "      <td>355</td>\n",
       "      <td>3551275</td>\n",
       "      <td>355</td>\n",
       "      <td>219038</td>\n",
       "      <td>553</td>\n",
       "      <td>593</td>\n",
       "      <td>624</td>\n",
       "      <td>590</td>\n",
       "      <td>495</td>\n",
       "      <td>543</td>\n",
       "      <td>506</td>\n",
       "      <td>588</td>\n",
       "    </tr>\n",
       "    <tr>\n",
       "      <th>50475</th>\n",
       "      <td>50475</td>\n",
       "      <td>3331083</td>\n",
       "      <td>333</td>\n",
       "      <td>3721271</td>\n",
       "      <td>372</td>\n",
       "      <td>208404</td>\n",
       "      <td>616</td>\n",
       "      <td>583</td>\n",
       "      <td>470</td>\n",
       "      <td>647</td>\n",
       "      <td>587</td>\n",
       "      <td>502</td>\n",
       "      <td>612</td>\n",
       "      <td>562</td>\n",
       "    </tr>\n",
       "  </tbody>\n",
       "</table>\n",
       "</div>"
      ],
      "text/plain": [
       "       Unnamed: 0  id_first_major  id_first_university  id_second_major  \\\n",
       "78612       78612         3211166                  321          3411017   \n",
       "80875       80875         1711067                  171          1711342   \n",
       "20476       20476         3851085                  385          3851062   \n",
       "53972       53972         3551267                  355          3551275   \n",
       "50475       50475         3331083                  333          3721271   \n",
       "\n",
       "       id_second_university  id_user  score_bio  score_fis  score_kim  \\\n",
       "78612                   341   310315        690        721        605   \n",
       "80875                   171   317358        483        579        556   \n",
       "20476                   385    92373        456        358        524   \n",
       "53972                   355   219038        553        593        624   \n",
       "50475                   372   208404        616        583        470   \n",
       "\n",
       "       score_kmb  score_kpu  score_kua  score_mat  score_ppu  \n",
       "78612        643        787        810        614        567  \n",
       "80875        550        518        538        478        503  \n",
       "20476        417        554        525        511        484  \n",
       "53972        590        495        543        506        588  \n",
       "50475        647        587        502        612        562  "
      ]
     },
     "execution_count": 42,
     "metadata": {},
     "output_type": "execute_result"
    }
   ],
   "source": [
    "# we have all the test score from science\n",
    "score_science = pd.read_csv('./files/score_science.csv')\n",
    "print(score_science.isna().sum()) #check some null \n",
    "score_science.sample(5)"
   ]
  },
  {
   "cell_type": "markdown",
   "metadata": {},
   "source": [
    "there is no missing data in any of these files, so we can continue to merge some files"
   ]
  },
  {
   "cell_type": "code",
   "execution_count": 43,
   "metadata": {},
   "outputs": [
    {
     "data": {
      "text/html": [
       "<div>\n",
       "<style scoped>\n",
       "    .dataframe tbody tr th:only-of-type {\n",
       "        vertical-align: middle;\n",
       "    }\n",
       "\n",
       "    .dataframe tbody tr th {\n",
       "        vertical-align: top;\n",
       "    }\n",
       "\n",
       "    .dataframe thead th {\n",
       "        text-align: right;\n",
       "    }\n",
       "</style>\n",
       "<table border=\"1\" class=\"dataframe\">\n",
       "  <thead>\n",
       "    <tr style=\"text-align: right;\">\n",
       "      <th></th>\n",
       "      <th>id_university</th>\n",
       "      <th>university_name</th>\n",
       "      <th>id_major</th>\n",
       "      <th>major_name</th>\n",
       "      <th>capacity</th>\n",
       "    </tr>\n",
       "  </thead>\n",
       "  <tbody>\n",
       "    <tr>\n",
       "      <th>0</th>\n",
       "      <td>111</td>\n",
       "      <td>UNIVERSITAS SYIAH KUALA</td>\n",
       "      <td>1111014</td>\n",
       "      <td>PENDIDIKAN DOKTER HEWAN</td>\n",
       "      <td>88</td>\n",
       "    </tr>\n",
       "    <tr>\n",
       "      <th>1</th>\n",
       "      <td>111</td>\n",
       "      <td>UNIVERSITAS SYIAH KUALA</td>\n",
       "      <td>1111022</td>\n",
       "      <td>TEKNIK SIPIL</td>\n",
       "      <td>64</td>\n",
       "    </tr>\n",
       "    <tr>\n",
       "      <th>2</th>\n",
       "      <td>111</td>\n",
       "      <td>UNIVERSITAS SYIAH KUALA</td>\n",
       "      <td>1111037</td>\n",
       "      <td>TEKNIK MESIN</td>\n",
       "      <td>48</td>\n",
       "    </tr>\n",
       "    <tr>\n",
       "      <th>3</th>\n",
       "      <td>111</td>\n",
       "      <td>UNIVERSITAS SYIAH KUALA</td>\n",
       "      <td>1111045</td>\n",
       "      <td>TEKNIK KIMIA</td>\n",
       "      <td>48</td>\n",
       "    </tr>\n",
       "    <tr>\n",
       "      <th>4</th>\n",
       "      <td>111</td>\n",
       "      <td>UNIVERSITAS SYIAH KUALA</td>\n",
       "      <td>1111053</td>\n",
       "      <td>ARSITEKTUR</td>\n",
       "      <td>48</td>\n",
       "    </tr>\n",
       "    <tr>\n",
       "      <th>...</th>\n",
       "      <td>...</td>\n",
       "      <td>...</td>\n",
       "      <td>...</td>\n",
       "      <td>...</td>\n",
       "      <td>...</td>\n",
       "    </tr>\n",
       "    <tr>\n",
       "      <th>3162</th>\n",
       "      <td>921</td>\n",
       "      <td>UNIVERSITAS PAPUA</td>\n",
       "      <td>9212011</td>\n",
       "      <td>EKONOMI PEMBANGUNAN</td>\n",
       "      <td>32</td>\n",
       "    </tr>\n",
       "    <tr>\n",
       "      <th>3163</th>\n",
       "      <td>921</td>\n",
       "      <td>UNIVERSITAS PAPUA</td>\n",
       "      <td>9212042</td>\n",
       "      <td>MANAJEMEN</td>\n",
       "      <td>32</td>\n",
       "    </tr>\n",
       "    <tr>\n",
       "      <th>3164</th>\n",
       "      <td>921</td>\n",
       "      <td>UNIVERSITAS PAPUA</td>\n",
       "      <td>9212057</td>\n",
       "      <td>AKUNTANSI</td>\n",
       "      <td>32</td>\n",
       "    </tr>\n",
       "    <tr>\n",
       "      <th>3165</th>\n",
       "      <td>921</td>\n",
       "      <td>UNIVERSITAS PAPUA</td>\n",
       "      <td>9212065</td>\n",
       "      <td>PENDIDIKAN BAHASA INDONESIA</td>\n",
       "      <td>16</td>\n",
       "    </tr>\n",
       "    <tr>\n",
       "      <th>3166</th>\n",
       "      <td>921</td>\n",
       "      <td>UNIVERSITAS PAPUA</td>\n",
       "      <td>9212073</td>\n",
       "      <td>PENDIDIKAN BAHASA INGGRIS</td>\n",
       "      <td>16</td>\n",
       "    </tr>\n",
       "  </tbody>\n",
       "</table>\n",
       "<p>3167 rows × 5 columns</p>\n",
       "</div>"
      ],
      "text/plain": [
       "      id_university          university_name  id_major  \\\n",
       "0               111  UNIVERSITAS SYIAH KUALA   1111014   \n",
       "1               111  UNIVERSITAS SYIAH KUALA   1111022   \n",
       "2               111  UNIVERSITAS SYIAH KUALA   1111037   \n",
       "3               111  UNIVERSITAS SYIAH KUALA   1111045   \n",
       "4               111  UNIVERSITAS SYIAH KUALA   1111053   \n",
       "...             ...                      ...       ...   \n",
       "3162            921        UNIVERSITAS PAPUA   9212011   \n",
       "3163            921        UNIVERSITAS PAPUA   9212042   \n",
       "3164            921        UNIVERSITAS PAPUA   9212057   \n",
       "3165            921        UNIVERSITAS PAPUA   9212065   \n",
       "3166            921        UNIVERSITAS PAPUA   9212073   \n",
       "\n",
       "                       major_name  capacity  \n",
       "0         PENDIDIKAN DOKTER HEWAN        88  \n",
       "1                    TEKNIK SIPIL        64  \n",
       "2                    TEKNIK MESIN        48  \n",
       "3                    TEKNIK KIMIA        48  \n",
       "4                      ARSITEKTUR        48  \n",
       "...                           ...       ...  \n",
       "3162          EKONOMI PEMBANGUNAN        32  \n",
       "3163                    MANAJEMEN        32  \n",
       "3164                    AKUNTANSI        32  \n",
       "3165  PENDIDIKAN BAHASA INDONESIA        16  \n",
       "3166    PENDIDIKAN BAHASA INGGRIS        16  \n",
       "\n",
       "[3167 rows x 5 columns]"
      ]
     },
     "execution_count": 43,
     "metadata": {},
     "output_type": "execute_result"
    }
   ],
   "source": [
    "major_univ = pd.merge(left=universities[['id_university','university_name']],right=majors[['id_major','major_name','id_university','capacity']],on='id_university')\n",
    "major_univ # we have merged our data, so it will be easier to be read"
   ]
  },
  {
   "cell_type": "markdown",
   "metadata": {},
   "source": [
    "for science data"
   ]
  },
  {
   "cell_type": "code",
   "execution_count": 44,
   "metadata": {},
   "outputs": [],
   "source": [
    "df_science = pd.merge(left=score_science,right=major_univ,left_on=['id_first_major','id_first_university'],right_on=['id_major','id_university'],suffixes=('_left','_right')) # merge first major and first university\n",
    "df_science = df_science.rename(columns={'university_name':'first_univ','major_name':'first_major','capacity':'first_capacity'}).drop(['id_university','id_major'],axis=1) # then rename the columns name that have been merged and also drop the id\n",
    "df_science = pd.merge(left=df_science,right=major_univ,left_on=['id_second_major','id_second_university'],right_on=['id_major','id_university'],suffixes=('_left','_right')) #  now second major and second university\n",
    "df_science = df_science.rename(columns={'university_name':'second_univ','major_name':'second_major','capacity':'second_capacity'}).drop(['id_university','id_major','Unnamed: 0','id_first_major','id_first_university','id_second_major','id_second_university','id_user'],axis=1) # same like before"
   ]
  },
  {
   "cell_type": "code",
   "execution_count": 45,
   "metadata": {},
   "outputs": [
    {
     "data": {
      "text/html": [
       "<div>\n",
       "<style scoped>\n",
       "    .dataframe tbody tr th:only-of-type {\n",
       "        vertical-align: middle;\n",
       "    }\n",
       "\n",
       "    .dataframe tbody tr th {\n",
       "        vertical-align: top;\n",
       "    }\n",
       "\n",
       "    .dataframe thead th {\n",
       "        text-align: right;\n",
       "    }\n",
       "</style>\n",
       "<table border=\"1\" class=\"dataframe\">\n",
       "  <thead>\n",
       "    <tr style=\"text-align: right;\">\n",
       "      <th></th>\n",
       "      <th>score_bio</th>\n",
       "      <th>score_fis</th>\n",
       "      <th>score_kim</th>\n",
       "      <th>score_kmb</th>\n",
       "      <th>score_kpu</th>\n",
       "      <th>score_kua</th>\n",
       "      <th>score_mat</th>\n",
       "      <th>score_ppu</th>\n",
       "      <th>first_univ</th>\n",
       "      <th>first_major</th>\n",
       "      <th>first_capacity</th>\n",
       "      <th>second_univ</th>\n",
       "      <th>second_major</th>\n",
       "      <th>second_capacity</th>\n",
       "    </tr>\n",
       "  </thead>\n",
       "  <tbody>\n",
       "    <tr>\n",
       "      <th>0</th>\n",
       "      <td>400</td>\n",
       "      <td>400</td>\n",
       "      <td>400</td>\n",
       "      <td>400</td>\n",
       "      <td>400</td>\n",
       "      <td>400</td>\n",
       "      <td>400</td>\n",
       "      <td>400</td>\n",
       "      <td>INSTITUT TEKNOLOGI BANDUNG</td>\n",
       "      <td>SEKOLAH ILMU &amp; TEKNO. HAYATI - PROG. SAINS</td>\n",
       "      <td>64</td>\n",
       "      <td>UNIVERSITAS PADJADJARAN</td>\n",
       "      <td>PSIKOLOGI</td>\n",
       "      <td>80</td>\n",
       "    </tr>\n",
       "    <tr>\n",
       "      <th>1</th>\n",
       "      <td>704</td>\n",
       "      <td>447</td>\n",
       "      <td>630</td>\n",
       "      <td>561</td>\n",
       "      <td>518</td>\n",
       "      <td>541</td>\n",
       "      <td>585</td>\n",
       "      <td>599</td>\n",
       "      <td>INSTITUT TEKNOLOGI BANDUNG</td>\n",
       "      <td>SEKOLAH ILMU &amp; TEKNO. HAYATI - PROG. SAINS</td>\n",
       "      <td>64</td>\n",
       "      <td>UNIVERSITAS PADJADJARAN</td>\n",
       "      <td>PSIKOLOGI</td>\n",
       "      <td>80</td>\n",
       "    </tr>\n",
       "    <tr>\n",
       "      <th>2</th>\n",
       "      <td>715</td>\n",
       "      <td>532</td>\n",
       "      <td>633</td>\n",
       "      <td>579</td>\n",
       "      <td>732</td>\n",
       "      <td>804</td>\n",
       "      <td>402</td>\n",
       "      <td>608</td>\n",
       "      <td>INSTITUT TEKNOLOGI BANDUNG</td>\n",
       "      <td>SEKOLAH ILMU &amp; TEKNO. HAYATI - PROG. SAINS</td>\n",
       "      <td>64</td>\n",
       "      <td>UNIVERSITAS PADJADJARAN</td>\n",
       "      <td>PSIKOLOGI</td>\n",
       "      <td>80</td>\n",
       "    </tr>\n",
       "    <tr>\n",
       "      <th>3</th>\n",
       "      <td>446</td>\n",
       "      <td>511</td>\n",
       "      <td>400</td>\n",
       "      <td>548</td>\n",
       "      <td>679</td>\n",
       "      <td>567</td>\n",
       "      <td>513</td>\n",
       "      <td>538</td>\n",
       "      <td>INSTITUT TEKNOLOGI BANDUNG</td>\n",
       "      <td>SEKOLAH ILMU &amp; TEKNO. HAYATI - PROG. SAINS</td>\n",
       "      <td>64</td>\n",
       "      <td>UNIVERSITAS PADJADJARAN</td>\n",
       "      <td>PSIKOLOGI</td>\n",
       "      <td>80</td>\n",
       "    </tr>\n",
       "    <tr>\n",
       "      <th>4</th>\n",
       "      <td>489</td>\n",
       "      <td>533</td>\n",
       "      <td>367</td>\n",
       "      <td>481</td>\n",
       "      <td>487</td>\n",
       "      <td>544</td>\n",
       "      <td>499</td>\n",
       "      <td>469</td>\n",
       "      <td>INSTITUT TEKNOLOGI BANDUNG</td>\n",
       "      <td>SEKOLAH ILMU &amp; TEKNO. HAYATI - PROG. SAINS</td>\n",
       "      <td>64</td>\n",
       "      <td>UNIVERSITAS PADJADJARAN</td>\n",
       "      <td>PSIKOLOGI</td>\n",
       "      <td>80</td>\n",
       "    </tr>\n",
       "    <tr>\n",
       "      <th>...</th>\n",
       "      <td>...</td>\n",
       "      <td>...</td>\n",
       "      <td>...</td>\n",
       "      <td>...</td>\n",
       "      <td>...</td>\n",
       "      <td>...</td>\n",
       "      <td>...</td>\n",
       "      <td>...</td>\n",
       "      <td>...</td>\n",
       "      <td>...</td>\n",
       "      <td>...</td>\n",
       "      <td>...</td>\n",
       "      <td>...</td>\n",
       "      <td>...</td>\n",
       "    </tr>\n",
       "    <tr>\n",
       "      <th>86223</th>\n",
       "      <td>336</td>\n",
       "      <td>466</td>\n",
       "      <td>476</td>\n",
       "      <td>511</td>\n",
       "      <td>378</td>\n",
       "      <td>393</td>\n",
       "      <td>589</td>\n",
       "      <td>470</td>\n",
       "      <td>UNIVERSITAS NEGERI GORONTALO</td>\n",
       "      <td>PENDIDIKAN GEOGRAFI</td>\n",
       "      <td>54</td>\n",
       "      <td>UNIVERSITAS NEGERI GORONTALO</td>\n",
       "      <td>PENDIDIKAN ILMU PENGETAHUAN ALAM</td>\n",
       "      <td>27</td>\n",
       "    </tr>\n",
       "    <tr>\n",
       "      <th>86224</th>\n",
       "      <td>520</td>\n",
       "      <td>483</td>\n",
       "      <td>654</td>\n",
       "      <td>545</td>\n",
       "      <td>606</td>\n",
       "      <td>722</td>\n",
       "      <td>425</td>\n",
       "      <td>495</td>\n",
       "      <td>UNIVERSITAS BORNEO TARAKAN</td>\n",
       "      <td>AKUAKULTUR</td>\n",
       "      <td>48</td>\n",
       "      <td>UNIVERSITAS BORNEO TARAKAN</td>\n",
       "      <td>AGRIBISNIS</td>\n",
       "      <td>48</td>\n",
       "    </tr>\n",
       "    <tr>\n",
       "      <th>86225</th>\n",
       "      <td>435</td>\n",
       "      <td>413</td>\n",
       "      <td>441</td>\n",
       "      <td>408</td>\n",
       "      <td>516</td>\n",
       "      <td>526</td>\n",
       "      <td>564</td>\n",
       "      <td>390</td>\n",
       "      <td>UNIVERSITAS SYIAH KUALA</td>\n",
       "      <td>AGROTEKNOLOGI (PSDKU GAYO LUES)</td>\n",
       "      <td>20</td>\n",
       "      <td>UNIVERSITAS SYIAH KUALA</td>\n",
       "      <td>KEHUTANAN (PSDKU GAYO LUES)</td>\n",
       "      <td>16</td>\n",
       "    </tr>\n",
       "    <tr>\n",
       "      <th>86226</th>\n",
       "      <td>482</td>\n",
       "      <td>516</td>\n",
       "      <td>453</td>\n",
       "      <td>546</td>\n",
       "      <td>569</td>\n",
       "      <td>597</td>\n",
       "      <td>587</td>\n",
       "      <td>633</td>\n",
       "      <td>UNIVERSITAS PALANGKARAYA</td>\n",
       "      <td>KIMIA</td>\n",
       "      <td>30</td>\n",
       "      <td>UNIVERSITAS PALANGKARAYA</td>\n",
       "      <td>FISIKA</td>\n",
       "      <td>30</td>\n",
       "    </tr>\n",
       "    <tr>\n",
       "      <th>86227</th>\n",
       "      <td>466</td>\n",
       "      <td>494</td>\n",
       "      <td>562</td>\n",
       "      <td>593</td>\n",
       "      <td>591</td>\n",
       "      <td>547</td>\n",
       "      <td>552</td>\n",
       "      <td>543</td>\n",
       "      <td>UNIVERSITAS NUSA CENDANA</td>\n",
       "      <td>PEND. KIMIA</td>\n",
       "      <td>68</td>\n",
       "      <td>UNIVERSITAS NUSA CENDANA</td>\n",
       "      <td>PEND. TEKNIK ELEKTRO</td>\n",
       "      <td>36</td>\n",
       "    </tr>\n",
       "  </tbody>\n",
       "</table>\n",
       "<p>86228 rows × 14 columns</p>\n",
       "</div>"
      ],
      "text/plain": [
       "       score_bio  score_fis  score_kim  score_kmb  score_kpu  score_kua  \\\n",
       "0            400        400        400        400        400        400   \n",
       "1            704        447        630        561        518        541   \n",
       "2            715        532        633        579        732        804   \n",
       "3            446        511        400        548        679        567   \n",
       "4            489        533        367        481        487        544   \n",
       "...          ...        ...        ...        ...        ...        ...   \n",
       "86223        336        466        476        511        378        393   \n",
       "86224        520        483        654        545        606        722   \n",
       "86225        435        413        441        408        516        526   \n",
       "86226        482        516        453        546        569        597   \n",
       "86227        466        494        562        593        591        547   \n",
       "\n",
       "       score_mat  score_ppu                    first_univ  \\\n",
       "0            400        400    INSTITUT TEKNOLOGI BANDUNG   \n",
       "1            585        599    INSTITUT TEKNOLOGI BANDUNG   \n",
       "2            402        608    INSTITUT TEKNOLOGI BANDUNG   \n",
       "3            513        538    INSTITUT TEKNOLOGI BANDUNG   \n",
       "4            499        469    INSTITUT TEKNOLOGI BANDUNG   \n",
       "...          ...        ...                           ...   \n",
       "86223        589        470  UNIVERSITAS NEGERI GORONTALO   \n",
       "86224        425        495    UNIVERSITAS BORNEO TARAKAN   \n",
       "86225        564        390       UNIVERSITAS SYIAH KUALA   \n",
       "86226        587        633      UNIVERSITAS PALANGKARAYA   \n",
       "86227        552        543      UNIVERSITAS NUSA CENDANA   \n",
       "\n",
       "                                      first_major  first_capacity  \\\n",
       "0      SEKOLAH ILMU & TEKNO. HAYATI - PROG. SAINS              64   \n",
       "1      SEKOLAH ILMU & TEKNO. HAYATI - PROG. SAINS              64   \n",
       "2      SEKOLAH ILMU & TEKNO. HAYATI - PROG. SAINS              64   \n",
       "3      SEKOLAH ILMU & TEKNO. HAYATI - PROG. SAINS              64   \n",
       "4      SEKOLAH ILMU & TEKNO. HAYATI - PROG. SAINS              64   \n",
       "...                                           ...             ...   \n",
       "86223                         PENDIDIKAN GEOGRAFI              54   \n",
       "86224                                  AKUAKULTUR              48   \n",
       "86225             AGROTEKNOLOGI (PSDKU GAYO LUES)              20   \n",
       "86226                                       KIMIA              30   \n",
       "86227                                 PEND. KIMIA              68   \n",
       "\n",
       "                        second_univ                      second_major  \\\n",
       "0           UNIVERSITAS PADJADJARAN                         PSIKOLOGI   \n",
       "1           UNIVERSITAS PADJADJARAN                         PSIKOLOGI   \n",
       "2           UNIVERSITAS PADJADJARAN                         PSIKOLOGI   \n",
       "3           UNIVERSITAS PADJADJARAN                         PSIKOLOGI   \n",
       "4           UNIVERSITAS PADJADJARAN                         PSIKOLOGI   \n",
       "...                             ...                               ...   \n",
       "86223  UNIVERSITAS NEGERI GORONTALO  PENDIDIKAN ILMU PENGETAHUAN ALAM   \n",
       "86224    UNIVERSITAS BORNEO TARAKAN                        AGRIBISNIS   \n",
       "86225       UNIVERSITAS SYIAH KUALA       KEHUTANAN (PSDKU GAYO LUES)   \n",
       "86226      UNIVERSITAS PALANGKARAYA                            FISIKA   \n",
       "86227      UNIVERSITAS NUSA CENDANA              PEND. TEKNIK ELEKTRO   \n",
       "\n",
       "       second_capacity  \n",
       "0                   80  \n",
       "1                   80  \n",
       "2                   80  \n",
       "3                   80  \n",
       "4                   80  \n",
       "...                ...  \n",
       "86223               27  \n",
       "86224               48  \n",
       "86225               16  \n",
       "86226               30  \n",
       "86227               36  \n",
       "\n",
       "[86228 rows x 14 columns]"
      ]
     },
     "execution_count": 45,
     "metadata": {},
     "output_type": "execute_result"
    }
   ],
   "source": [
    "df_science # now we can just use a single file to get all of the information"
   ]
  },
  {
   "cell_type": "code",
   "execution_count": 46,
   "metadata": {},
   "outputs": [],
   "source": [
    "# because the capacity of utbk is 40% from the maximum capacity so we need to change the capacity value\n",
    "df_science['first_capacity'] = df_science['first_capacity'].apply(lambda x: int(x*40/100))\n",
    "df_science['second_capacity'] = df_science['second_capacity'].apply(lambda x: int(x*40/100))"
   ]
  },
  {
   "cell_type": "code",
   "execution_count": 47,
   "metadata": {},
   "outputs": [],
   "source": [
    "df_science['specialized_score']=df_science[['score_bio','score_fis','score_kim','score_mat']].mean(axis=1) #get avg score \n",
    "df_science['general_score'] = df_science[['score_kmb','score_kpu','score_kua','score_ppu']].mean(axis=1)  #get avg score\n",
    "df_science['average_score'] = df_science.iloc[:,:8].mean(axis=1) # avg score"
   ]
  },
  {
   "cell_type": "code",
   "execution_count": 48,
   "metadata": {},
   "outputs": [
    {
     "data": {
      "text/plain": [
       "array(['score_bio', 'score_fis', 'score_kim', 'score_kmb', 'score_kpu',\n",
       "       'score_kua', 'score_mat', 'score_ppu', 'first_univ', 'first_major',\n",
       "       'first_capacity', 'second_univ', 'second_major', 'second_capacity',\n",
       "       'specialized_score', 'general_score', 'average_score'],\n",
       "      dtype=object)"
      ]
     },
     "execution_count": 48,
     "metadata": {},
     "output_type": "execute_result"
    }
   ],
   "source": [
    "df_science.columns.values"
   ]
  },
  {
   "cell_type": "code",
   "execution_count": 49,
   "metadata": {},
   "outputs": [],
   "source": [
    "df_science = df_science[['score_bio', 'score_fis', 'score_kim','score_mat', 'score_kmb', 'score_kpu','score_kua', 'score_ppu','specialized_score','general_score','average_score','first_univ', 'first_major','first_capacity', 'second_univ', 'second_major', 'second_capacity']] #rearrange columns index "
   ]
  },
  {
   "cell_type": "code",
   "execution_count": 50,
   "metadata": {},
   "outputs": [
    {
     "data": {
      "text/html": [
       "<div>\n",
       "<style scoped>\n",
       "    .dataframe tbody tr th:only-of-type {\n",
       "        vertical-align: middle;\n",
       "    }\n",
       "\n",
       "    .dataframe tbody tr th {\n",
       "        vertical-align: top;\n",
       "    }\n",
       "\n",
       "    .dataframe thead th {\n",
       "        text-align: right;\n",
       "    }\n",
       "</style>\n",
       "<table border=\"1\" class=\"dataframe\">\n",
       "  <thead>\n",
       "    <tr style=\"text-align: right;\">\n",
       "      <th></th>\n",
       "      <th>score_bio</th>\n",
       "      <th>score_fis</th>\n",
       "      <th>score_kim</th>\n",
       "      <th>score_mat</th>\n",
       "      <th>score_kmb</th>\n",
       "      <th>score_kpu</th>\n",
       "      <th>score_kua</th>\n",
       "      <th>score_ppu</th>\n",
       "      <th>specialized_score</th>\n",
       "      <th>general_score</th>\n",
       "      <th>average_score</th>\n",
       "      <th>first_univ</th>\n",
       "      <th>first_major</th>\n",
       "      <th>first_capacity</th>\n",
       "      <th>second_univ</th>\n",
       "      <th>second_major</th>\n",
       "      <th>second_capacity</th>\n",
       "    </tr>\n",
       "  </thead>\n",
       "  <tbody>\n",
       "    <tr>\n",
       "      <th>0</th>\n",
       "      <td>400</td>\n",
       "      <td>400</td>\n",
       "      <td>400</td>\n",
       "      <td>400</td>\n",
       "      <td>400</td>\n",
       "      <td>400</td>\n",
       "      <td>400</td>\n",
       "      <td>400</td>\n",
       "      <td>400.00</td>\n",
       "      <td>400.00</td>\n",
       "      <td>400.000</td>\n",
       "      <td>INSTITUT TEKNOLOGI BANDUNG</td>\n",
       "      <td>SEKOLAH ILMU &amp; TEKNO. HAYATI - PROG. SAINS</td>\n",
       "      <td>25</td>\n",
       "      <td>UNIVERSITAS PADJADJARAN</td>\n",
       "      <td>PSIKOLOGI</td>\n",
       "      <td>32</td>\n",
       "    </tr>\n",
       "    <tr>\n",
       "      <th>1</th>\n",
       "      <td>704</td>\n",
       "      <td>447</td>\n",
       "      <td>630</td>\n",
       "      <td>585</td>\n",
       "      <td>561</td>\n",
       "      <td>518</td>\n",
       "      <td>541</td>\n",
       "      <td>599</td>\n",
       "      <td>591.50</td>\n",
       "      <td>554.75</td>\n",
       "      <td>573.125</td>\n",
       "      <td>INSTITUT TEKNOLOGI BANDUNG</td>\n",
       "      <td>SEKOLAH ILMU &amp; TEKNO. HAYATI - PROG. SAINS</td>\n",
       "      <td>25</td>\n",
       "      <td>UNIVERSITAS PADJADJARAN</td>\n",
       "      <td>PSIKOLOGI</td>\n",
       "      <td>32</td>\n",
       "    </tr>\n",
       "    <tr>\n",
       "      <th>2</th>\n",
       "      <td>715</td>\n",
       "      <td>532</td>\n",
       "      <td>633</td>\n",
       "      <td>402</td>\n",
       "      <td>579</td>\n",
       "      <td>732</td>\n",
       "      <td>804</td>\n",
       "      <td>608</td>\n",
       "      <td>570.50</td>\n",
       "      <td>680.75</td>\n",
       "      <td>625.625</td>\n",
       "      <td>INSTITUT TEKNOLOGI BANDUNG</td>\n",
       "      <td>SEKOLAH ILMU &amp; TEKNO. HAYATI - PROG. SAINS</td>\n",
       "      <td>25</td>\n",
       "      <td>UNIVERSITAS PADJADJARAN</td>\n",
       "      <td>PSIKOLOGI</td>\n",
       "      <td>32</td>\n",
       "    </tr>\n",
       "    <tr>\n",
       "      <th>3</th>\n",
       "      <td>446</td>\n",
       "      <td>511</td>\n",
       "      <td>400</td>\n",
       "      <td>513</td>\n",
       "      <td>548</td>\n",
       "      <td>679</td>\n",
       "      <td>567</td>\n",
       "      <td>538</td>\n",
       "      <td>467.50</td>\n",
       "      <td>583.00</td>\n",
       "      <td>525.250</td>\n",
       "      <td>INSTITUT TEKNOLOGI BANDUNG</td>\n",
       "      <td>SEKOLAH ILMU &amp; TEKNO. HAYATI - PROG. SAINS</td>\n",
       "      <td>25</td>\n",
       "      <td>UNIVERSITAS PADJADJARAN</td>\n",
       "      <td>PSIKOLOGI</td>\n",
       "      <td>32</td>\n",
       "    </tr>\n",
       "    <tr>\n",
       "      <th>4</th>\n",
       "      <td>489</td>\n",
       "      <td>533</td>\n",
       "      <td>367</td>\n",
       "      <td>499</td>\n",
       "      <td>481</td>\n",
       "      <td>487</td>\n",
       "      <td>544</td>\n",
       "      <td>469</td>\n",
       "      <td>472.00</td>\n",
       "      <td>495.25</td>\n",
       "      <td>483.625</td>\n",
       "      <td>INSTITUT TEKNOLOGI BANDUNG</td>\n",
       "      <td>SEKOLAH ILMU &amp; TEKNO. HAYATI - PROG. SAINS</td>\n",
       "      <td>25</td>\n",
       "      <td>UNIVERSITAS PADJADJARAN</td>\n",
       "      <td>PSIKOLOGI</td>\n",
       "      <td>32</td>\n",
       "    </tr>\n",
       "    <tr>\n",
       "      <th>...</th>\n",
       "      <td>...</td>\n",
       "      <td>...</td>\n",
       "      <td>...</td>\n",
       "      <td>...</td>\n",
       "      <td>...</td>\n",
       "      <td>...</td>\n",
       "      <td>...</td>\n",
       "      <td>...</td>\n",
       "      <td>...</td>\n",
       "      <td>...</td>\n",
       "      <td>...</td>\n",
       "      <td>...</td>\n",
       "      <td>...</td>\n",
       "      <td>...</td>\n",
       "      <td>...</td>\n",
       "      <td>...</td>\n",
       "      <td>...</td>\n",
       "    </tr>\n",
       "    <tr>\n",
       "      <th>86223</th>\n",
       "      <td>336</td>\n",
       "      <td>466</td>\n",
       "      <td>476</td>\n",
       "      <td>589</td>\n",
       "      <td>511</td>\n",
       "      <td>378</td>\n",
       "      <td>393</td>\n",
       "      <td>470</td>\n",
       "      <td>466.75</td>\n",
       "      <td>438.00</td>\n",
       "      <td>452.375</td>\n",
       "      <td>UNIVERSITAS NEGERI GORONTALO</td>\n",
       "      <td>PENDIDIKAN GEOGRAFI</td>\n",
       "      <td>21</td>\n",
       "      <td>UNIVERSITAS NEGERI GORONTALO</td>\n",
       "      <td>PENDIDIKAN ILMU PENGETAHUAN ALAM</td>\n",
       "      <td>10</td>\n",
       "    </tr>\n",
       "    <tr>\n",
       "      <th>86224</th>\n",
       "      <td>520</td>\n",
       "      <td>483</td>\n",
       "      <td>654</td>\n",
       "      <td>425</td>\n",
       "      <td>545</td>\n",
       "      <td>606</td>\n",
       "      <td>722</td>\n",
       "      <td>495</td>\n",
       "      <td>520.50</td>\n",
       "      <td>592.00</td>\n",
       "      <td>556.250</td>\n",
       "      <td>UNIVERSITAS BORNEO TARAKAN</td>\n",
       "      <td>AKUAKULTUR</td>\n",
       "      <td>19</td>\n",
       "      <td>UNIVERSITAS BORNEO TARAKAN</td>\n",
       "      <td>AGRIBISNIS</td>\n",
       "      <td>19</td>\n",
       "    </tr>\n",
       "    <tr>\n",
       "      <th>86225</th>\n",
       "      <td>435</td>\n",
       "      <td>413</td>\n",
       "      <td>441</td>\n",
       "      <td>564</td>\n",
       "      <td>408</td>\n",
       "      <td>516</td>\n",
       "      <td>526</td>\n",
       "      <td>390</td>\n",
       "      <td>463.25</td>\n",
       "      <td>460.00</td>\n",
       "      <td>461.625</td>\n",
       "      <td>UNIVERSITAS SYIAH KUALA</td>\n",
       "      <td>AGROTEKNOLOGI (PSDKU GAYO LUES)</td>\n",
       "      <td>8</td>\n",
       "      <td>UNIVERSITAS SYIAH KUALA</td>\n",
       "      <td>KEHUTANAN (PSDKU GAYO LUES)</td>\n",
       "      <td>6</td>\n",
       "    </tr>\n",
       "    <tr>\n",
       "      <th>86226</th>\n",
       "      <td>482</td>\n",
       "      <td>516</td>\n",
       "      <td>453</td>\n",
       "      <td>587</td>\n",
       "      <td>546</td>\n",
       "      <td>569</td>\n",
       "      <td>597</td>\n",
       "      <td>633</td>\n",
       "      <td>509.50</td>\n",
       "      <td>586.25</td>\n",
       "      <td>547.875</td>\n",
       "      <td>UNIVERSITAS PALANGKARAYA</td>\n",
       "      <td>KIMIA</td>\n",
       "      <td>12</td>\n",
       "      <td>UNIVERSITAS PALANGKARAYA</td>\n",
       "      <td>FISIKA</td>\n",
       "      <td>12</td>\n",
       "    </tr>\n",
       "    <tr>\n",
       "      <th>86227</th>\n",
       "      <td>466</td>\n",
       "      <td>494</td>\n",
       "      <td>562</td>\n",
       "      <td>552</td>\n",
       "      <td>593</td>\n",
       "      <td>591</td>\n",
       "      <td>547</td>\n",
       "      <td>543</td>\n",
       "      <td>518.50</td>\n",
       "      <td>568.50</td>\n",
       "      <td>543.500</td>\n",
       "      <td>UNIVERSITAS NUSA CENDANA</td>\n",
       "      <td>PEND. KIMIA</td>\n",
       "      <td>27</td>\n",
       "      <td>UNIVERSITAS NUSA CENDANA</td>\n",
       "      <td>PEND. TEKNIK ELEKTRO</td>\n",
       "      <td>14</td>\n",
       "    </tr>\n",
       "  </tbody>\n",
       "</table>\n",
       "<p>86228 rows × 17 columns</p>\n",
       "</div>"
      ],
      "text/plain": [
       "       score_bio  score_fis  score_kim  score_mat  score_kmb  score_kpu  \\\n",
       "0            400        400        400        400        400        400   \n",
       "1            704        447        630        585        561        518   \n",
       "2            715        532        633        402        579        732   \n",
       "3            446        511        400        513        548        679   \n",
       "4            489        533        367        499        481        487   \n",
       "...          ...        ...        ...        ...        ...        ...   \n",
       "86223        336        466        476        589        511        378   \n",
       "86224        520        483        654        425        545        606   \n",
       "86225        435        413        441        564        408        516   \n",
       "86226        482        516        453        587        546        569   \n",
       "86227        466        494        562        552        593        591   \n",
       "\n",
       "       score_kua  score_ppu  specialized_score  general_score  average_score  \\\n",
       "0            400        400             400.00         400.00        400.000   \n",
       "1            541        599             591.50         554.75        573.125   \n",
       "2            804        608             570.50         680.75        625.625   \n",
       "3            567        538             467.50         583.00        525.250   \n",
       "4            544        469             472.00         495.25        483.625   \n",
       "...          ...        ...                ...            ...            ...   \n",
       "86223        393        470             466.75         438.00        452.375   \n",
       "86224        722        495             520.50         592.00        556.250   \n",
       "86225        526        390             463.25         460.00        461.625   \n",
       "86226        597        633             509.50         586.25        547.875   \n",
       "86227        547        543             518.50         568.50        543.500   \n",
       "\n",
       "                         first_univ  \\\n",
       "0        INSTITUT TEKNOLOGI BANDUNG   \n",
       "1        INSTITUT TEKNOLOGI BANDUNG   \n",
       "2        INSTITUT TEKNOLOGI BANDUNG   \n",
       "3        INSTITUT TEKNOLOGI BANDUNG   \n",
       "4        INSTITUT TEKNOLOGI BANDUNG   \n",
       "...                             ...   \n",
       "86223  UNIVERSITAS NEGERI GORONTALO   \n",
       "86224    UNIVERSITAS BORNEO TARAKAN   \n",
       "86225       UNIVERSITAS SYIAH KUALA   \n",
       "86226      UNIVERSITAS PALANGKARAYA   \n",
       "86227      UNIVERSITAS NUSA CENDANA   \n",
       "\n",
       "                                      first_major  first_capacity  \\\n",
       "0      SEKOLAH ILMU & TEKNO. HAYATI - PROG. SAINS              25   \n",
       "1      SEKOLAH ILMU & TEKNO. HAYATI - PROG. SAINS              25   \n",
       "2      SEKOLAH ILMU & TEKNO. HAYATI - PROG. SAINS              25   \n",
       "3      SEKOLAH ILMU & TEKNO. HAYATI - PROG. SAINS              25   \n",
       "4      SEKOLAH ILMU & TEKNO. HAYATI - PROG. SAINS              25   \n",
       "...                                           ...             ...   \n",
       "86223                         PENDIDIKAN GEOGRAFI              21   \n",
       "86224                                  AKUAKULTUR              19   \n",
       "86225             AGROTEKNOLOGI (PSDKU GAYO LUES)               8   \n",
       "86226                                       KIMIA              12   \n",
       "86227                                 PEND. KIMIA              27   \n",
       "\n",
       "                        second_univ                      second_major  \\\n",
       "0           UNIVERSITAS PADJADJARAN                         PSIKOLOGI   \n",
       "1           UNIVERSITAS PADJADJARAN                         PSIKOLOGI   \n",
       "2           UNIVERSITAS PADJADJARAN                         PSIKOLOGI   \n",
       "3           UNIVERSITAS PADJADJARAN                         PSIKOLOGI   \n",
       "4           UNIVERSITAS PADJADJARAN                         PSIKOLOGI   \n",
       "...                             ...                               ...   \n",
       "86223  UNIVERSITAS NEGERI GORONTALO  PENDIDIKAN ILMU PENGETAHUAN ALAM   \n",
       "86224    UNIVERSITAS BORNEO TARAKAN                        AGRIBISNIS   \n",
       "86225       UNIVERSITAS SYIAH KUALA       KEHUTANAN (PSDKU GAYO LUES)   \n",
       "86226      UNIVERSITAS PALANGKARAYA                            FISIKA   \n",
       "86227      UNIVERSITAS NUSA CENDANA              PEND. TEKNIK ELEKTRO   \n",
       "\n",
       "       second_capacity  \n",
       "0                   32  \n",
       "1                   32  \n",
       "2                   32  \n",
       "3                   32  \n",
       "4                   32  \n",
       "...                ...  \n",
       "86223               10  \n",
       "86224               19  \n",
       "86225                6  \n",
       "86226               12  \n",
       "86227               14  \n",
       "\n",
       "[86228 rows x 17 columns]"
      ]
     },
     "execution_count": 50,
     "metadata": {},
     "output_type": "execute_result"
    }
   ],
   "source": [
    "df_science"
   ]
  },
  {
   "cell_type": "markdown",
   "metadata": {},
   "source": [
    "for humanities data"
   ]
  },
  {
   "cell_type": "code",
   "execution_count": 51,
   "metadata": {},
   "outputs": [],
   "source": [
    "df_humanites = pd.merge(left=score_humanities,right=major_univ,left_on=['id_first_major','id_first_university'],right_on=['id_major','id_university'],suffixes=('_left','_right')) # merge first major and first university\n",
    "df_humanites = df_humanites.rename(columns={'university_name':'first_univ','major_name':'first_major','capacity':'first_capacity'}).drop(['id_university','id_major'],axis=1) # then rename the columns name that have been merged and also drop the id\n",
    "df_humanites = pd.merge(left=df_humanites,right=major_univ,left_on=['id_second_major','id_second_university'],right_on=['id_major','id_university'],suffixes=('_left','_right')) #  now second major and second university\n",
    "df_humanites = df_humanites.rename(columns={'university_name':'second_univ','major_name':'second_major','capacity':'second_capacity'}).drop(['id_university','id_major','Unnamed: 0','id_first_major','id_first_university','id_second_major','id_second_university','id_user'],axis=1) # same like before"
   ]
  },
  {
   "cell_type": "code",
   "execution_count": 52,
   "metadata": {},
   "outputs": [
    {
     "data": {
      "text/html": [
       "<div>\n",
       "<style scoped>\n",
       "    .dataframe tbody tr th:only-of-type {\n",
       "        vertical-align: middle;\n",
       "    }\n",
       "\n",
       "    .dataframe tbody tr th {\n",
       "        vertical-align: top;\n",
       "    }\n",
       "\n",
       "    .dataframe thead th {\n",
       "        text-align: right;\n",
       "    }\n",
       "</style>\n",
       "<table border=\"1\" class=\"dataframe\">\n",
       "  <thead>\n",
       "    <tr style=\"text-align: right;\">\n",
       "      <th></th>\n",
       "      <th>score_eko</th>\n",
       "      <th>score_geo</th>\n",
       "      <th>score_kmb</th>\n",
       "      <th>score_kpu</th>\n",
       "      <th>score_kua</th>\n",
       "      <th>score_mat</th>\n",
       "      <th>score_ppu</th>\n",
       "      <th>score_sej</th>\n",
       "      <th>score_sos</th>\n",
       "      <th>first_univ</th>\n",
       "      <th>first_major</th>\n",
       "      <th>first_capacity</th>\n",
       "      <th>second_univ</th>\n",
       "      <th>second_major</th>\n",
       "      <th>second_capacity</th>\n",
       "    </tr>\n",
       "  </thead>\n",
       "  <tbody>\n",
       "    <tr>\n",
       "      <th>0</th>\n",
       "      <td>778</td>\n",
       "      <td>486</td>\n",
       "      <td>679</td>\n",
       "      <td>594</td>\n",
       "      <td>643</td>\n",
       "      <td>686</td>\n",
       "      <td>559</td>\n",
       "      <td>392</td>\n",
       "      <td>676</td>\n",
       "      <td>INSTITUT TEKNOLOGI BANDUNG</td>\n",
       "      <td>FAKULTAS SENIRUPA DAN DESAIN (FSRD)</td>\n",
       "      <td>100</td>\n",
       "      <td>UNIVERSITAS SEBELAS MARET</td>\n",
       "      <td>DESAIN KOMUNIKASI VISUAL</td>\n",
       "      <td>30</td>\n",
       "    </tr>\n",
       "    <tr>\n",
       "      <th>1</th>\n",
       "      <td>803</td>\n",
       "      <td>638</td>\n",
       "      <td>659</td>\n",
       "      <td>696</td>\n",
       "      <td>685</td>\n",
       "      <td>494</td>\n",
       "      <td>576</td>\n",
       "      <td>676</td>\n",
       "      <td>694</td>\n",
       "      <td>INSTITUT TEKNOLOGI BANDUNG</td>\n",
       "      <td>FAKULTAS SENIRUPA DAN DESAIN (FSRD)</td>\n",
       "      <td>100</td>\n",
       "      <td>UNIVERSITAS SEBELAS MARET</td>\n",
       "      <td>DESAIN KOMUNIKASI VISUAL</td>\n",
       "      <td>30</td>\n",
       "    </tr>\n",
       "    <tr>\n",
       "      <th>2</th>\n",
       "      <td>601</td>\n",
       "      <td>560</td>\n",
       "      <td>575</td>\n",
       "      <td>611</td>\n",
       "      <td>629</td>\n",
       "      <td>509</td>\n",
       "      <td>607</td>\n",
       "      <td>775</td>\n",
       "      <td>629</td>\n",
       "      <td>INSTITUT TEKNOLOGI BANDUNG</td>\n",
       "      <td>FAKULTAS SENIRUPA DAN DESAIN (FSRD)</td>\n",
       "      <td>100</td>\n",
       "      <td>UNIVERSITAS SEBELAS MARET</td>\n",
       "      <td>DESAIN KOMUNIKASI VISUAL</td>\n",
       "      <td>30</td>\n",
       "    </tr>\n",
       "  </tbody>\n",
       "</table>\n",
       "</div>"
      ],
      "text/plain": [
       "   score_eko  score_geo  score_kmb  score_kpu  score_kua  score_mat  \\\n",
       "0        778        486        679        594        643        686   \n",
       "1        803        638        659        696        685        494   \n",
       "2        601        560        575        611        629        509   \n",
       "\n",
       "   score_ppu  score_sej  score_sos                  first_univ  \\\n",
       "0        559        392        676  INSTITUT TEKNOLOGI BANDUNG   \n",
       "1        576        676        694  INSTITUT TEKNOLOGI BANDUNG   \n",
       "2        607        775        629  INSTITUT TEKNOLOGI BANDUNG   \n",
       "\n",
       "                           first_major  first_capacity  \\\n",
       "0  FAKULTAS SENIRUPA DAN DESAIN (FSRD)             100   \n",
       "1  FAKULTAS SENIRUPA DAN DESAIN (FSRD)             100   \n",
       "2  FAKULTAS SENIRUPA DAN DESAIN (FSRD)             100   \n",
       "\n",
       "                 second_univ              second_major  second_capacity  \n",
       "0  UNIVERSITAS SEBELAS MARET  DESAIN KOMUNIKASI VISUAL               30  \n",
       "1  UNIVERSITAS SEBELAS MARET  DESAIN KOMUNIKASI VISUAL               30  \n",
       "2  UNIVERSITAS SEBELAS MARET  DESAIN KOMUNIKASI VISUAL               30  "
      ]
     },
     "execution_count": 52,
     "metadata": {},
     "output_type": "execute_result"
    }
   ],
   "source": [
    "df_humanites.head(3)"
   ]
  },
  {
   "cell_type": "code",
   "execution_count": 53,
   "metadata": {},
   "outputs": [],
   "source": [
    "# because the capacity of utbk is 40% from the maximum capacity so we need to change the capacity value\n",
    "df_humanites['first_capacity'] = df_humanites['first_capacity'].apply(lambda x: int(x*40/100))\n",
    "df_humanites['second_capacity'] = df_humanites['second_capacity'].apply(lambda x: int(x*40/100))"
   ]
  },
  {
   "cell_type": "code",
   "execution_count": 54,
   "metadata": {},
   "outputs": [
    {
     "data": {
      "text/plain": [
       "Index(['score_eko', 'score_geo', 'score_kmb', 'score_kpu', 'score_kua',\n",
       "       'score_mat', 'score_ppu', 'score_sej', 'score_sos', 'first_univ',\n",
       "       'first_major', 'first_capacity', 'second_univ', 'second_major',\n",
       "       'second_capacity'],\n",
       "      dtype='object')"
      ]
     },
     "execution_count": 54,
     "metadata": {},
     "output_type": "execute_result"
    }
   ],
   "source": [
    "df_humanites.columns"
   ]
  },
  {
   "cell_type": "code",
   "execution_count": 55,
   "metadata": {},
   "outputs": [],
   "source": [
    "df_humanites['specialized_score']=df_humanites[['score_eko','score_geo','score_sej','score_sos']].mean(axis=1) #get avg score \n",
    "df_humanites['general_score'] = df_humanites[['score_kmb','score_kpu','score_kua','score_ppu','score_mat']].mean(axis=1)  #get avg score\n",
    "df_humanites['average_score'] = df_humanites.iloc[:,:8].mean(axis=1) # avg score"
   ]
  },
  {
   "cell_type": "code",
   "execution_count": 56,
   "metadata": {},
   "outputs": [],
   "source": [
    "df_humanites = df_humanites[['score_eko', 'score_geo', 'score_sej','score_sos','score_mat', 'score_kmb', 'score_kpu','score_kua', 'score_ppu','specialized_score','general_score','average_score','first_univ', 'first_major','first_capacity', 'second_univ', 'second_major', 'second_capacity']] #rearrange columns index "
   ]
  },
  {
   "cell_type": "code",
   "execution_count": 57,
   "metadata": {},
   "outputs": [
    {
     "data": {
      "text/html": [
       "<div>\n",
       "<style scoped>\n",
       "    .dataframe tbody tr th:only-of-type {\n",
       "        vertical-align: middle;\n",
       "    }\n",
       "\n",
       "    .dataframe tbody tr th {\n",
       "        vertical-align: top;\n",
       "    }\n",
       "\n",
       "    .dataframe thead th {\n",
       "        text-align: right;\n",
       "    }\n",
       "</style>\n",
       "<table border=\"1\" class=\"dataframe\">\n",
       "  <thead>\n",
       "    <tr style=\"text-align: right;\">\n",
       "      <th></th>\n",
       "      <th>score_eko</th>\n",
       "      <th>score_geo</th>\n",
       "      <th>score_sej</th>\n",
       "      <th>score_sos</th>\n",
       "      <th>score_mat</th>\n",
       "      <th>score_kmb</th>\n",
       "      <th>score_kpu</th>\n",
       "      <th>score_kua</th>\n",
       "      <th>score_ppu</th>\n",
       "      <th>specialized_score</th>\n",
       "      <th>general_score</th>\n",
       "      <th>average_score</th>\n",
       "      <th>first_univ</th>\n",
       "      <th>first_major</th>\n",
       "      <th>first_capacity</th>\n",
       "      <th>second_univ</th>\n",
       "      <th>second_major</th>\n",
       "      <th>second_capacity</th>\n",
       "    </tr>\n",
       "  </thead>\n",
       "  <tbody>\n",
       "    <tr>\n",
       "      <th>0</th>\n",
       "      <td>778</td>\n",
       "      <td>486</td>\n",
       "      <td>392</td>\n",
       "      <td>676</td>\n",
       "      <td>686</td>\n",
       "      <td>679</td>\n",
       "      <td>594</td>\n",
       "      <td>643</td>\n",
       "      <td>559</td>\n",
       "      <td>583.00</td>\n",
       "      <td>632.2</td>\n",
       "      <td>602.125</td>\n",
       "      <td>INSTITUT TEKNOLOGI BANDUNG</td>\n",
       "      <td>FAKULTAS SENIRUPA DAN DESAIN (FSRD)</td>\n",
       "      <td>40</td>\n",
       "      <td>UNIVERSITAS SEBELAS MARET</td>\n",
       "      <td>DESAIN KOMUNIKASI VISUAL</td>\n",
       "      <td>12</td>\n",
       "    </tr>\n",
       "    <tr>\n",
       "      <th>1</th>\n",
       "      <td>803</td>\n",
       "      <td>638</td>\n",
       "      <td>676</td>\n",
       "      <td>694</td>\n",
       "      <td>494</td>\n",
       "      <td>659</td>\n",
       "      <td>696</td>\n",
       "      <td>685</td>\n",
       "      <td>576</td>\n",
       "      <td>702.75</td>\n",
       "      <td>622.0</td>\n",
       "      <td>653.375</td>\n",
       "      <td>INSTITUT TEKNOLOGI BANDUNG</td>\n",
       "      <td>FAKULTAS SENIRUPA DAN DESAIN (FSRD)</td>\n",
       "      <td>40</td>\n",
       "      <td>UNIVERSITAS SEBELAS MARET</td>\n",
       "      <td>DESAIN KOMUNIKASI VISUAL</td>\n",
       "      <td>12</td>\n",
       "    </tr>\n",
       "    <tr>\n",
       "      <th>2</th>\n",
       "      <td>601</td>\n",
       "      <td>560</td>\n",
       "      <td>775</td>\n",
       "      <td>629</td>\n",
       "      <td>509</td>\n",
       "      <td>575</td>\n",
       "      <td>611</td>\n",
       "      <td>629</td>\n",
       "      <td>607</td>\n",
       "      <td>641.25</td>\n",
       "      <td>586.2</td>\n",
       "      <td>608.375</td>\n",
       "      <td>INSTITUT TEKNOLOGI BANDUNG</td>\n",
       "      <td>FAKULTAS SENIRUPA DAN DESAIN (FSRD)</td>\n",
       "      <td>40</td>\n",
       "      <td>UNIVERSITAS SEBELAS MARET</td>\n",
       "      <td>DESAIN KOMUNIKASI VISUAL</td>\n",
       "      <td>12</td>\n",
       "    </tr>\n",
       "    <tr>\n",
       "      <th>3</th>\n",
       "      <td>612</td>\n",
       "      <td>494</td>\n",
       "      <td>617</td>\n",
       "      <td>548</td>\n",
       "      <td>548</td>\n",
       "      <td>524</td>\n",
       "      <td>549</td>\n",
       "      <td>589</td>\n",
       "      <td>508</td>\n",
       "      <td>567.75</td>\n",
       "      <td>543.6</td>\n",
       "      <td>555.125</td>\n",
       "      <td>INSTITUT TEKNOLOGI BANDUNG</td>\n",
       "      <td>FAKULTAS SENIRUPA DAN DESAIN (FSRD)</td>\n",
       "      <td>40</td>\n",
       "      <td>UNIVERSITAS SEBELAS MARET</td>\n",
       "      <td>DESAIN KOMUNIKASI VISUAL</td>\n",
       "      <td>12</td>\n",
       "    </tr>\n",
       "    <tr>\n",
       "      <th>4</th>\n",
       "      <td>493</td>\n",
       "      <td>573</td>\n",
       "      <td>474</td>\n",
       "      <td>560</td>\n",
       "      <td>641</td>\n",
       "      <td>586</td>\n",
       "      <td>582</td>\n",
       "      <td>504</td>\n",
       "      <td>608</td>\n",
       "      <td>525.00</td>\n",
       "      <td>584.2</td>\n",
       "      <td>557.625</td>\n",
       "      <td>INSTITUT TEKNOLOGI BANDUNG</td>\n",
       "      <td>FAKULTAS SENIRUPA DAN DESAIN (FSRD)</td>\n",
       "      <td>40</td>\n",
       "      <td>UNIVERSITAS SEBELAS MARET</td>\n",
       "      <td>DESAIN KOMUNIKASI VISUAL</td>\n",
       "      <td>12</td>\n",
       "    </tr>\n",
       "  </tbody>\n",
       "</table>\n",
       "</div>"
      ],
      "text/plain": [
       "   score_eko  score_geo  score_sej  score_sos  score_mat  score_kmb  \\\n",
       "0        778        486        392        676        686        679   \n",
       "1        803        638        676        694        494        659   \n",
       "2        601        560        775        629        509        575   \n",
       "3        612        494        617        548        548        524   \n",
       "4        493        573        474        560        641        586   \n",
       "\n",
       "   score_kpu  score_kua  score_ppu  specialized_score  general_score  \\\n",
       "0        594        643        559             583.00          632.2   \n",
       "1        696        685        576             702.75          622.0   \n",
       "2        611        629        607             641.25          586.2   \n",
       "3        549        589        508             567.75          543.6   \n",
       "4        582        504        608             525.00          584.2   \n",
       "\n",
       "   average_score                  first_univ  \\\n",
       "0        602.125  INSTITUT TEKNOLOGI BANDUNG   \n",
       "1        653.375  INSTITUT TEKNOLOGI BANDUNG   \n",
       "2        608.375  INSTITUT TEKNOLOGI BANDUNG   \n",
       "3        555.125  INSTITUT TEKNOLOGI BANDUNG   \n",
       "4        557.625  INSTITUT TEKNOLOGI BANDUNG   \n",
       "\n",
       "                           first_major  first_capacity  \\\n",
       "0  FAKULTAS SENIRUPA DAN DESAIN (FSRD)              40   \n",
       "1  FAKULTAS SENIRUPA DAN DESAIN (FSRD)              40   \n",
       "2  FAKULTAS SENIRUPA DAN DESAIN (FSRD)              40   \n",
       "3  FAKULTAS SENIRUPA DAN DESAIN (FSRD)              40   \n",
       "4  FAKULTAS SENIRUPA DAN DESAIN (FSRD)              40   \n",
       "\n",
       "                 second_univ              second_major  second_capacity  \n",
       "0  UNIVERSITAS SEBELAS MARET  DESAIN KOMUNIKASI VISUAL               12  \n",
       "1  UNIVERSITAS SEBELAS MARET  DESAIN KOMUNIKASI VISUAL               12  \n",
       "2  UNIVERSITAS SEBELAS MARET  DESAIN KOMUNIKASI VISUAL               12  \n",
       "3  UNIVERSITAS SEBELAS MARET  DESAIN KOMUNIKASI VISUAL               12  \n",
       "4  UNIVERSITAS SEBELAS MARET  DESAIN KOMUNIKASI VISUAL               12  "
      ]
     },
     "execution_count": 57,
     "metadata": {},
     "output_type": "execute_result"
    }
   ],
   "source": [
    "df_humanites.head()"
   ]
  },
  {
   "cell_type": "markdown",
   "metadata": {},
   "source": [
    "visualization"
   ]
  },
  {
   "cell_type": "code",
   "execution_count": 58,
   "metadata": {},
   "outputs": [],
   "source": [
    "a = df_science.drop(['second_univ',\t'second_major',\t'second_capacity'],axis=1).groupby('first_univ').size().sort_values(ascending=False).reset_index().head(10).rename(columns={0:'Total','first_univ':'Universities'}) #DF for science\n",
    "\n",
    "b = df_humanites.drop(['second_univ',\t'second_major',\t'second_capacity'],axis=1).groupby('first_univ').size().sort_values(ascending=False).reset_index().head(10).rename(columns={0:'Total','first_univ':'Universities'}) #DF for humanit"
   ]
  },
  {
   "cell_type": "code",
   "execution_count": 59,
   "metadata": {},
   "outputs": [
    {
     "data": {
      "application/vnd.plotly.v1+json": {
       "config": {
        "plotlyServerURL": "https://plot.ly"
       },
       "data": [
        {
         "alignmentgroup": "True",
         "cliponaxis": true,
         "hovertemplate": "Universities=%{y}<br>Total=%{x}<extra></extra>",
         "legendgroup": "UNIVERSITAS BRAWIJAYA",
         "marker": {
          "color": "rgb(127, 60, 141)",
          "pattern": {
           "shape": "\\"
          }
         },
         "name": "UNIVERSITAS BRAWIJAYA",
         "offsetgroup": "UNIVERSITAS BRAWIJAYA",
         "orientation": "h",
         "showlegend": true,
         "textangle": 0,
         "textfont": {
          "size": 11
         },
         "textposition": "outside",
         "texttemplate": "%{x}",
         "type": "bar",
         "x": [
          6187
         ],
         "xaxis": "x",
         "y": [
          "UNIVERSITAS BRAWIJAYA"
         ],
         "yaxis": "y"
        },
        {
         "alignmentgroup": "True",
         "cliponaxis": true,
         "hovertemplate": "Universities=%{y}<br>Total=%{x}<extra></extra>",
         "legendgroup": "UNIVERSITAS GADJAH MADA",
         "marker": {
          "color": "rgb(17, 165, 121)",
          "pattern": {
           "shape": "\\"
          }
         },
         "name": "UNIVERSITAS GADJAH MADA",
         "offsetgroup": "UNIVERSITAS GADJAH MADA",
         "orientation": "h",
         "showlegend": true,
         "textangle": 0,
         "textfont": {
          "size": 11
         },
         "textposition": "outside",
         "texttemplate": "%{x}",
         "type": "bar",
         "x": [
          5597
         ],
         "xaxis": "x",
         "y": [
          "UNIVERSITAS GADJAH MADA"
         ],
         "yaxis": "y"
        },
        {
         "alignmentgroup": "True",
         "cliponaxis": true,
         "hovertemplate": "Universities=%{y}<br>Total=%{x}<extra></extra>",
         "legendgroup": "UNIVERSITAS DIPONEGORO",
         "marker": {
          "color": "rgb(57, 105, 172)",
          "pattern": {
           "shape": "\\"
          }
         },
         "name": "UNIVERSITAS DIPONEGORO",
         "offsetgroup": "UNIVERSITAS DIPONEGORO",
         "orientation": "h",
         "showlegend": true,
         "textangle": 0,
         "textfont": {
          "size": 11
         },
         "textposition": "outside",
         "texttemplate": "%{x}",
         "type": "bar",
         "x": [
          5387
         ],
         "xaxis": "x",
         "y": [
          "UNIVERSITAS DIPONEGORO"
         ],
         "yaxis": "y"
        },
        {
         "alignmentgroup": "True",
         "cliponaxis": true,
         "hovertemplate": "Universities=%{y}<br>Total=%{x}<extra></extra>",
         "legendgroup": "UNIVERSITAS PADJADJARAN",
         "marker": {
          "color": "rgb(242, 183, 1)",
          "pattern": {
           "shape": "\\"
          }
         },
         "name": "UNIVERSITAS PADJADJARAN",
         "offsetgroup": "UNIVERSITAS PADJADJARAN",
         "orientation": "h",
         "showlegend": true,
         "textangle": 0,
         "textfont": {
          "size": 11
         },
         "textposition": "outside",
         "texttemplate": "%{x}",
         "type": "bar",
         "x": [
          4709
         ],
         "xaxis": "x",
         "y": [
          "UNIVERSITAS PADJADJARAN"
         ],
         "yaxis": "y"
        },
        {
         "alignmentgroup": "True",
         "cliponaxis": true,
         "hovertemplate": "Universities=%{y}<br>Total=%{x}<extra></extra>",
         "legendgroup": "UNIVERSITAS INDONESIA",
         "marker": {
          "color": "rgb(231, 63, 116)",
          "pattern": {
           "shape": "\\"
          }
         },
         "name": "UNIVERSITAS INDONESIA",
         "offsetgroup": "UNIVERSITAS INDONESIA",
         "orientation": "h",
         "showlegend": true,
         "textangle": 0,
         "textfont": {
          "size": 11
         },
         "textposition": "outside",
         "texttemplate": "%{x}",
         "type": "bar",
         "x": [
          4389
         ],
         "xaxis": "x",
         "y": [
          "UNIVERSITAS INDONESIA"
         ],
         "yaxis": "y"
        },
        {
         "alignmentgroup": "True",
         "cliponaxis": true,
         "hovertemplate": "Universities=%{y}<br>Total=%{x}<extra></extra>",
         "legendgroup": "INSTITUT PERTANIAN BOGOR",
         "marker": {
          "color": "rgb(128, 186, 90)",
          "pattern": {
           "shape": "\\"
          }
         },
         "name": "INSTITUT PERTANIAN BOGOR",
         "offsetgroup": "INSTITUT PERTANIAN BOGOR",
         "orientation": "h",
         "showlegend": true,
         "textangle": 0,
         "textfont": {
          "size": 11
         },
         "textposition": "outside",
         "texttemplate": "%{x}",
         "type": "bar",
         "x": [
          3917
         ],
         "xaxis": "x",
         "y": [
          "INSTITUT PERTANIAN BOGOR"
         ],
         "yaxis": "y"
        },
        {
         "alignmentgroup": "True",
         "cliponaxis": true,
         "hovertemplate": "Universities=%{y}<br>Total=%{x}<extra></extra>",
         "legendgroup": "UNIVERSITAS SEBELAS MARET",
         "marker": {
          "color": "rgb(230, 131, 16)",
          "pattern": {
           "shape": "\\"
          }
         },
         "name": "UNIVERSITAS SEBELAS MARET",
         "offsetgroup": "UNIVERSITAS SEBELAS MARET",
         "orientation": "h",
         "showlegend": true,
         "textangle": 0,
         "textfont": {
          "size": 11
         },
         "textposition": "outside",
         "texttemplate": "%{x}",
         "type": "bar",
         "x": [
          3899
         ],
         "xaxis": "x",
         "y": [
          "UNIVERSITAS SEBELAS MARET"
         ],
         "yaxis": "y"
        },
        {
         "alignmentgroup": "True",
         "cliponaxis": true,
         "hovertemplate": "Universities=%{y}<br>Total=%{x}<extra></extra>",
         "legendgroup": "INSTITUT TEKNOLOGI SEPULUH NOPEMBER",
         "marker": {
          "color": "rgb(0, 134, 149)",
          "pattern": {
           "shape": "\\"
          }
         },
         "name": "INSTITUT TEKNOLOGI SEPULUH NOPEMBER",
         "offsetgroup": "INSTITUT TEKNOLOGI SEPULUH NOPEMBER",
         "orientation": "h",
         "showlegend": true,
         "textangle": 0,
         "textfont": {
          "size": 11
         },
         "textposition": "outside",
         "texttemplate": "%{x}",
         "type": "bar",
         "x": [
          3358
         ],
         "xaxis": "x",
         "y": [
          "INSTITUT TEKNOLOGI SEPULUH NOPEMBER"
         ],
         "yaxis": "y"
        },
        {
         "alignmentgroup": "True",
         "cliponaxis": true,
         "hovertemplate": "Universities=%{y}<br>Total=%{x}<extra></extra>",
         "legendgroup": "INSTITUT TEKNOLOGI BANDUNG",
         "marker": {
          "color": "rgb(207, 28, 144)",
          "pattern": {
           "shape": "\\"
          }
         },
         "name": "INSTITUT TEKNOLOGI BANDUNG",
         "offsetgroup": "INSTITUT TEKNOLOGI BANDUNG",
         "orientation": "h",
         "showlegend": true,
         "textangle": 0,
         "textfont": {
          "size": 11
         },
         "textposition": "outside",
         "texttemplate": "%{x}",
         "type": "bar",
         "x": [
          3265
         ],
         "xaxis": "x",
         "y": [
          "INSTITUT TEKNOLOGI BANDUNG"
         ],
         "yaxis": "y"
        },
        {
         "alignmentgroup": "True",
         "cliponaxis": true,
         "hovertemplate": "Universities=%{y}<br>Total=%{x}<extra></extra>",
         "legendgroup": "UNIVERSITAS JENDERAL SOEDIRMAN",
         "marker": {
          "color": "rgb(249, 123, 114)",
          "pattern": {
           "shape": "\\"
          }
         },
         "name": "UNIVERSITAS JENDERAL SOEDIRMAN",
         "offsetgroup": "UNIVERSITAS JENDERAL SOEDIRMAN",
         "orientation": "h",
         "showlegend": true,
         "textangle": 0,
         "textfont": {
          "size": 11
         },
         "textposition": "outside",
         "texttemplate": "%{x}",
         "type": "bar",
         "x": [
          2616
         ],
         "xaxis": "x",
         "y": [
          "UNIVERSITAS JENDERAL SOEDIRMAN"
         ],
         "yaxis": "y"
        }
       ],
       "layout": {
        "barmode": "relative",
        "legend": {
         "title": {
          "text": "Universities"
         },
         "tracegroupgap": 0
        },
        "margin": {
         "t": 60
        },
        "template": {
         "data": {
          "bar": [
           {
            "error_x": {
             "color": "#2a3f5f"
            },
            "error_y": {
             "color": "#2a3f5f"
            },
            "marker": {
             "line": {
              "color": "#E5ECF6",
              "width": 0.5
             },
             "pattern": {
              "fillmode": "overlay",
              "size": 10,
              "solidity": 0.2
             }
            },
            "type": "bar"
           }
          ],
          "barpolar": [
           {
            "marker": {
             "line": {
              "color": "#E5ECF6",
              "width": 0.5
             },
             "pattern": {
              "fillmode": "overlay",
              "size": 10,
              "solidity": 0.2
             }
            },
            "type": "barpolar"
           }
          ],
          "carpet": [
           {
            "aaxis": {
             "endlinecolor": "#2a3f5f",
             "gridcolor": "white",
             "linecolor": "white",
             "minorgridcolor": "white",
             "startlinecolor": "#2a3f5f"
            },
            "baxis": {
             "endlinecolor": "#2a3f5f",
             "gridcolor": "white",
             "linecolor": "white",
             "minorgridcolor": "white",
             "startlinecolor": "#2a3f5f"
            },
            "type": "carpet"
           }
          ],
          "choropleth": [
           {
            "colorbar": {
             "outlinewidth": 0,
             "ticks": ""
            },
            "type": "choropleth"
           }
          ],
          "contour": [
           {
            "colorbar": {
             "outlinewidth": 0,
             "ticks": ""
            },
            "colorscale": [
             [
              0,
              "#0d0887"
             ],
             [
              0.1111111111111111,
              "#46039f"
             ],
             [
              0.2222222222222222,
              "#7201a8"
             ],
             [
              0.3333333333333333,
              "#9c179e"
             ],
             [
              0.4444444444444444,
              "#bd3786"
             ],
             [
              0.5555555555555556,
              "#d8576b"
             ],
             [
              0.6666666666666666,
              "#ed7953"
             ],
             [
              0.7777777777777778,
              "#fb9f3a"
             ],
             [
              0.8888888888888888,
              "#fdca26"
             ],
             [
              1,
              "#f0f921"
             ]
            ],
            "type": "contour"
           }
          ],
          "contourcarpet": [
           {
            "colorbar": {
             "outlinewidth": 0,
             "ticks": ""
            },
            "type": "contourcarpet"
           }
          ],
          "heatmap": [
           {
            "colorbar": {
             "outlinewidth": 0,
             "ticks": ""
            },
            "colorscale": [
             [
              0,
              "#0d0887"
             ],
             [
              0.1111111111111111,
              "#46039f"
             ],
             [
              0.2222222222222222,
              "#7201a8"
             ],
             [
              0.3333333333333333,
              "#9c179e"
             ],
             [
              0.4444444444444444,
              "#bd3786"
             ],
             [
              0.5555555555555556,
              "#d8576b"
             ],
             [
              0.6666666666666666,
              "#ed7953"
             ],
             [
              0.7777777777777778,
              "#fb9f3a"
             ],
             [
              0.8888888888888888,
              "#fdca26"
             ],
             [
              1,
              "#f0f921"
             ]
            ],
            "type": "heatmap"
           }
          ],
          "heatmapgl": [
           {
            "colorbar": {
             "outlinewidth": 0,
             "ticks": ""
            },
            "colorscale": [
             [
              0,
              "#0d0887"
             ],
             [
              0.1111111111111111,
              "#46039f"
             ],
             [
              0.2222222222222222,
              "#7201a8"
             ],
             [
              0.3333333333333333,
              "#9c179e"
             ],
             [
              0.4444444444444444,
              "#bd3786"
             ],
             [
              0.5555555555555556,
              "#d8576b"
             ],
             [
              0.6666666666666666,
              "#ed7953"
             ],
             [
              0.7777777777777778,
              "#fb9f3a"
             ],
             [
              0.8888888888888888,
              "#fdca26"
             ],
             [
              1,
              "#f0f921"
             ]
            ],
            "type": "heatmapgl"
           }
          ],
          "histogram": [
           {
            "marker": {
             "pattern": {
              "fillmode": "overlay",
              "size": 10,
              "solidity": 0.2
             }
            },
            "type": "histogram"
           }
          ],
          "histogram2d": [
           {
            "colorbar": {
             "outlinewidth": 0,
             "ticks": ""
            },
            "colorscale": [
             [
              0,
              "#0d0887"
             ],
             [
              0.1111111111111111,
              "#46039f"
             ],
             [
              0.2222222222222222,
              "#7201a8"
             ],
             [
              0.3333333333333333,
              "#9c179e"
             ],
             [
              0.4444444444444444,
              "#bd3786"
             ],
             [
              0.5555555555555556,
              "#d8576b"
             ],
             [
              0.6666666666666666,
              "#ed7953"
             ],
             [
              0.7777777777777778,
              "#fb9f3a"
             ],
             [
              0.8888888888888888,
              "#fdca26"
             ],
             [
              1,
              "#f0f921"
             ]
            ],
            "type": "histogram2d"
           }
          ],
          "histogram2dcontour": [
           {
            "colorbar": {
             "outlinewidth": 0,
             "ticks": ""
            },
            "colorscale": [
             [
              0,
              "#0d0887"
             ],
             [
              0.1111111111111111,
              "#46039f"
             ],
             [
              0.2222222222222222,
              "#7201a8"
             ],
             [
              0.3333333333333333,
              "#9c179e"
             ],
             [
              0.4444444444444444,
              "#bd3786"
             ],
             [
              0.5555555555555556,
              "#d8576b"
             ],
             [
              0.6666666666666666,
              "#ed7953"
             ],
             [
              0.7777777777777778,
              "#fb9f3a"
             ],
             [
              0.8888888888888888,
              "#fdca26"
             ],
             [
              1,
              "#f0f921"
             ]
            ],
            "type": "histogram2dcontour"
           }
          ],
          "mesh3d": [
           {
            "colorbar": {
             "outlinewidth": 0,
             "ticks": ""
            },
            "type": "mesh3d"
           }
          ],
          "parcoords": [
           {
            "line": {
             "colorbar": {
              "outlinewidth": 0,
              "ticks": ""
             }
            },
            "type": "parcoords"
           }
          ],
          "pie": [
           {
            "automargin": true,
            "type": "pie"
           }
          ],
          "scatter": [
           {
            "marker": {
             "colorbar": {
              "outlinewidth": 0,
              "ticks": ""
             }
            },
            "type": "scatter"
           }
          ],
          "scatter3d": [
           {
            "line": {
             "colorbar": {
              "outlinewidth": 0,
              "ticks": ""
             }
            },
            "marker": {
             "colorbar": {
              "outlinewidth": 0,
              "ticks": ""
             }
            },
            "type": "scatter3d"
           }
          ],
          "scattercarpet": [
           {
            "marker": {
             "colorbar": {
              "outlinewidth": 0,
              "ticks": ""
             }
            },
            "type": "scattercarpet"
           }
          ],
          "scattergeo": [
           {
            "marker": {
             "colorbar": {
              "outlinewidth": 0,
              "ticks": ""
             }
            },
            "type": "scattergeo"
           }
          ],
          "scattergl": [
           {
            "marker": {
             "colorbar": {
              "outlinewidth": 0,
              "ticks": ""
             }
            },
            "type": "scattergl"
           }
          ],
          "scattermapbox": [
           {
            "marker": {
             "colorbar": {
              "outlinewidth": 0,
              "ticks": ""
             }
            },
            "type": "scattermapbox"
           }
          ],
          "scatterpolar": [
           {
            "marker": {
             "colorbar": {
              "outlinewidth": 0,
              "ticks": ""
             }
            },
            "type": "scatterpolar"
           }
          ],
          "scatterpolargl": [
           {
            "marker": {
             "colorbar": {
              "outlinewidth": 0,
              "ticks": ""
             }
            },
            "type": "scatterpolargl"
           }
          ],
          "scatterternary": [
           {
            "marker": {
             "colorbar": {
              "outlinewidth": 0,
              "ticks": ""
             }
            },
            "type": "scatterternary"
           }
          ],
          "surface": [
           {
            "colorbar": {
             "outlinewidth": 0,
             "ticks": ""
            },
            "colorscale": [
             [
              0,
              "#0d0887"
             ],
             [
              0.1111111111111111,
              "#46039f"
             ],
             [
              0.2222222222222222,
              "#7201a8"
             ],
             [
              0.3333333333333333,
              "#9c179e"
             ],
             [
              0.4444444444444444,
              "#bd3786"
             ],
             [
              0.5555555555555556,
              "#d8576b"
             ],
             [
              0.6666666666666666,
              "#ed7953"
             ],
             [
              0.7777777777777778,
              "#fb9f3a"
             ],
             [
              0.8888888888888888,
              "#fdca26"
             ],
             [
              1,
              "#f0f921"
             ]
            ],
            "type": "surface"
           }
          ],
          "table": [
           {
            "cells": {
             "fill": {
              "color": "#EBF0F8"
             },
             "line": {
              "color": "white"
             }
            },
            "header": {
             "fill": {
              "color": "#C8D4E3"
             },
             "line": {
              "color": "white"
             }
            },
            "type": "table"
           }
          ]
         },
         "layout": {
          "annotationdefaults": {
           "arrowcolor": "#2a3f5f",
           "arrowhead": 0,
           "arrowwidth": 1
          },
          "autotypenumbers": "strict",
          "coloraxis": {
           "colorbar": {
            "outlinewidth": 0,
            "ticks": ""
           }
          },
          "colorscale": {
           "diverging": [
            [
             0,
             "#8e0152"
            ],
            [
             0.1,
             "#c51b7d"
            ],
            [
             0.2,
             "#de77ae"
            ],
            [
             0.3,
             "#f1b6da"
            ],
            [
             0.4,
             "#fde0ef"
            ],
            [
             0.5,
             "#f7f7f7"
            ],
            [
             0.6,
             "#e6f5d0"
            ],
            [
             0.7,
             "#b8e186"
            ],
            [
             0.8,
             "#7fbc41"
            ],
            [
             0.9,
             "#4d9221"
            ],
            [
             1,
             "#276419"
            ]
           ],
           "sequential": [
            [
             0,
             "#0d0887"
            ],
            [
             0.1111111111111111,
             "#46039f"
            ],
            [
             0.2222222222222222,
             "#7201a8"
            ],
            [
             0.3333333333333333,
             "#9c179e"
            ],
            [
             0.4444444444444444,
             "#bd3786"
            ],
            [
             0.5555555555555556,
             "#d8576b"
            ],
            [
             0.6666666666666666,
             "#ed7953"
            ],
            [
             0.7777777777777778,
             "#fb9f3a"
            ],
            [
             0.8888888888888888,
             "#fdca26"
            ],
            [
             1,
             "#f0f921"
            ]
           ],
           "sequentialminus": [
            [
             0,
             "#0d0887"
            ],
            [
             0.1111111111111111,
             "#46039f"
            ],
            [
             0.2222222222222222,
             "#7201a8"
            ],
            [
             0.3333333333333333,
             "#9c179e"
            ],
            [
             0.4444444444444444,
             "#bd3786"
            ],
            [
             0.5555555555555556,
             "#d8576b"
            ],
            [
             0.6666666666666666,
             "#ed7953"
            ],
            [
             0.7777777777777778,
             "#fb9f3a"
            ],
            [
             0.8888888888888888,
             "#fdca26"
            ],
            [
             1,
             "#f0f921"
            ]
           ]
          },
          "colorway": [
           "#636efa",
           "#EF553B",
           "#00cc96",
           "#ab63fa",
           "#FFA15A",
           "#19d3f3",
           "#FF6692",
           "#B6E880",
           "#FF97FF",
           "#FECB52"
          ],
          "font": {
           "color": "#2a3f5f"
          },
          "geo": {
           "bgcolor": "white",
           "lakecolor": "white",
           "landcolor": "#E5ECF6",
           "showlakes": true,
           "showland": true,
           "subunitcolor": "white"
          },
          "hoverlabel": {
           "align": "left"
          },
          "hovermode": "closest",
          "mapbox": {
           "style": "light"
          },
          "paper_bgcolor": "white",
          "plot_bgcolor": "#E5ECF6",
          "polar": {
           "angularaxis": {
            "gridcolor": "white",
            "linecolor": "white",
            "ticks": ""
           },
           "bgcolor": "#E5ECF6",
           "radialaxis": {
            "gridcolor": "white",
            "linecolor": "white",
            "ticks": ""
           }
          },
          "scene": {
           "xaxis": {
            "backgroundcolor": "#E5ECF6",
            "gridcolor": "white",
            "gridwidth": 2,
            "linecolor": "white",
            "showbackground": true,
            "ticks": "",
            "zerolinecolor": "white"
           },
           "yaxis": {
            "backgroundcolor": "#E5ECF6",
            "gridcolor": "white",
            "gridwidth": 2,
            "linecolor": "white",
            "showbackground": true,
            "ticks": "",
            "zerolinecolor": "white"
           },
           "zaxis": {
            "backgroundcolor": "#E5ECF6",
            "gridcolor": "white",
            "gridwidth": 2,
            "linecolor": "white",
            "showbackground": true,
            "ticks": "",
            "zerolinecolor": "white"
           }
          },
          "shapedefaults": {
           "line": {
            "color": "#2a3f5f"
           }
          },
          "ternary": {
           "aaxis": {
            "gridcolor": "white",
            "linecolor": "white",
            "ticks": ""
           },
           "baxis": {
            "gridcolor": "white",
            "linecolor": "white",
            "ticks": ""
           },
           "bgcolor": "#E5ECF6",
           "caxis": {
            "gridcolor": "white",
            "linecolor": "white",
            "ticks": ""
           }
          },
          "title": {
           "x": 0.05
          },
          "xaxis": {
           "automargin": true,
           "gridcolor": "white",
           "linecolor": "white",
           "ticks": "",
           "title": {
            "standoff": 15
           },
           "zerolinecolor": "white",
           "zerolinewidth": 2
          },
          "yaxis": {
           "automargin": true,
           "gridcolor": "white",
           "linecolor": "white",
           "ticks": "",
           "title": {
            "standoff": 15
           },
           "zerolinecolor": "white",
           "zerolinewidth": 2
          }
         }
        },
        "title": {
         "text": "Top Universities Choices 2019 Based on First Choice for Science Majors"
        },
        "width": 1300,
        "xaxis": {
         "anchor": "y",
         "domain": [
          0,
          1
         ],
         "tickangle": 0,
         "tickfont": {
          "color": "red",
          "family": "Rockwell",
          "size": 12
         },
         "title": {
          "text": "Total"
         }
        },
        "yaxis": {
         "anchor": "x",
         "categoryarray": [
          "UNIVERSITAS JENDERAL SOEDIRMAN",
          "INSTITUT TEKNOLOGI BANDUNG",
          "INSTITUT TEKNOLOGI SEPULUH NOPEMBER",
          "UNIVERSITAS SEBELAS MARET",
          "INSTITUT PERTANIAN BOGOR",
          "UNIVERSITAS INDONESIA",
          "UNIVERSITAS PADJADJARAN",
          "UNIVERSITAS DIPONEGORO",
          "UNIVERSITAS GADJAH MADA",
          "UNIVERSITAS BRAWIJAYA"
         ],
         "categoryorder": "array",
         "domain": [
          0,
          1
         ],
         "tickangle": 0,
         "tickfont": {
          "color": "black",
          "family": "Rockwell",
          "size": 12
         },
         "title": {
          "text": "Universities"
         }
        }
       }
      }
     },
     "metadata": {},
     "output_type": "display_data"
    },
    {
     "data": {
      "application/vnd.plotly.v1+json": {
       "config": {
        "plotlyServerURL": "https://plot.ly"
       },
       "data": [
        {
         "alignmentgroup": "True",
         "cliponaxis": true,
         "hovertemplate": "Universities=%{y}<br>Total=%{x}<extra></extra>",
         "legendgroup": "UNIVERSITAS INDONESIA",
         "marker": {
          "color": "#636efa",
          "pattern": {
           "shape": "/"
          }
         },
         "name": "UNIVERSITAS INDONESIA",
         "offsetgroup": "UNIVERSITAS INDONESIA",
         "orientation": "h",
         "showlegend": true,
         "textangle": 0,
         "textfont": {
          "size": 11
         },
         "textposition": "outside",
         "texttemplate": "%{x}",
         "type": "bar",
         "x": [
          4459
         ],
         "xaxis": "x",
         "y": [
          "UNIVERSITAS INDONESIA"
         ],
         "yaxis": "y"
        },
        {
         "alignmentgroup": "True",
         "cliponaxis": true,
         "hovertemplate": "Universities=%{y}<br>Total=%{x}<extra></extra>",
         "legendgroup": "UNIVERSITAS PADJADJARAN",
         "marker": {
          "color": "#EF553B",
          "pattern": {
           "shape": "/"
          }
         },
         "name": "UNIVERSITAS PADJADJARAN",
         "offsetgroup": "UNIVERSITAS PADJADJARAN",
         "orientation": "h",
         "showlegend": true,
         "textangle": 0,
         "textfont": {
          "size": 11
         },
         "textposition": "outside",
         "texttemplate": "%{x}",
         "type": "bar",
         "x": [
          3798
         ],
         "xaxis": "x",
         "y": [
          "UNIVERSITAS PADJADJARAN"
         ],
         "yaxis": "y"
        },
        {
         "alignmentgroup": "True",
         "cliponaxis": true,
         "hovertemplate": "Universities=%{y}<br>Total=%{x}<extra></extra>",
         "legendgroup": "UNIVERSITAS BRAWIJAYA",
         "marker": {
          "color": "#00cc96",
          "pattern": {
           "shape": "/"
          }
         },
         "name": "UNIVERSITAS BRAWIJAYA",
         "offsetgroup": "UNIVERSITAS BRAWIJAYA",
         "orientation": "h",
         "showlegend": true,
         "textangle": 0,
         "textfont": {
          "size": 11
         },
         "textposition": "outside",
         "texttemplate": "%{x}",
         "type": "bar",
         "x": [
          3471
         ],
         "xaxis": "x",
         "y": [
          "UNIVERSITAS BRAWIJAYA"
         ],
         "yaxis": "y"
        },
        {
         "alignmentgroup": "True",
         "cliponaxis": true,
         "hovertemplate": "Universities=%{y}<br>Total=%{x}<extra></extra>",
         "legendgroup": "UNIVERSITAS PENDIDIKAN INDONESIA",
         "marker": {
          "color": "#ab63fa",
          "pattern": {
           "shape": "/"
          }
         },
         "name": "UNIVERSITAS PENDIDIKAN INDONESIA",
         "offsetgroup": "UNIVERSITAS PENDIDIKAN INDONESIA",
         "orientation": "h",
         "showlegend": true,
         "textangle": 0,
         "textfont": {
          "size": 11
         },
         "textposition": "outside",
         "texttemplate": "%{x}",
         "type": "bar",
         "x": [
          3470
         ],
         "xaxis": "x",
         "y": [
          "UNIVERSITAS PENDIDIKAN INDONESIA"
         ],
         "yaxis": "y"
        },
        {
         "alignmentgroup": "True",
         "cliponaxis": true,
         "hovertemplate": "Universities=%{y}<br>Total=%{x}<extra></extra>",
         "legendgroup": "UNIVERSITAS DIPONEGORO",
         "marker": {
          "color": "#FFA15A",
          "pattern": {
           "shape": "/"
          }
         },
         "name": "UNIVERSITAS DIPONEGORO",
         "offsetgroup": "UNIVERSITAS DIPONEGORO",
         "orientation": "h",
         "showlegend": true,
         "textangle": 0,
         "textfont": {
          "size": 11
         },
         "textposition": "outside",
         "texttemplate": "%{x}",
         "type": "bar",
         "x": [
          3361
         ],
         "xaxis": "x",
         "y": [
          "UNIVERSITAS DIPONEGORO"
         ],
         "yaxis": "y"
        },
        {
         "alignmentgroup": "True",
         "cliponaxis": true,
         "hovertemplate": "Universities=%{y}<br>Total=%{x}<extra></extra>",
         "legendgroup": "UNIVERSITAS GADJAH MADA",
         "marker": {
          "color": "#19d3f3",
          "pattern": {
           "shape": "/"
          }
         },
         "name": "UNIVERSITAS GADJAH MADA",
         "offsetgroup": "UNIVERSITAS GADJAH MADA",
         "orientation": "h",
         "showlegend": true,
         "textangle": 0,
         "textfont": {
          "size": 11
         },
         "textposition": "outside",
         "texttemplate": "%{x}",
         "type": "bar",
         "x": [
          3220
         ],
         "xaxis": "x",
         "y": [
          "UNIVERSITAS GADJAH MADA"
         ],
         "yaxis": "y"
        },
        {
         "alignmentgroup": "True",
         "cliponaxis": true,
         "hovertemplate": "Universities=%{y}<br>Total=%{x}<extra></extra>",
         "legendgroup": "UNIVERSITAS SEBELAS MARET",
         "marker": {
          "color": "#FF6692",
          "pattern": {
           "shape": "/"
          }
         },
         "name": "UNIVERSITAS SEBELAS MARET",
         "offsetgroup": "UNIVERSITAS SEBELAS MARET",
         "orientation": "h",
         "showlegend": true,
         "textangle": 0,
         "textfont": {
          "size": 11
         },
         "textposition": "outside",
         "texttemplate": "%{x}",
         "type": "bar",
         "x": [
          2782
         ],
         "xaxis": "x",
         "y": [
          "UNIVERSITAS SEBELAS MARET"
         ],
         "yaxis": "y"
        },
        {
         "alignmentgroup": "True",
         "cliponaxis": true,
         "hovertemplate": "Universities=%{y}<br>Total=%{x}<extra></extra>",
         "legendgroup": "UNIVERSITAS NEGERI JAKARTA",
         "marker": {
          "color": "#B6E880",
          "pattern": {
           "shape": "/"
          }
         },
         "name": "UNIVERSITAS NEGERI JAKARTA",
         "offsetgroup": "UNIVERSITAS NEGERI JAKARTA",
         "orientation": "h",
         "showlegend": true,
         "textangle": 0,
         "textfont": {
          "size": 11
         },
         "textposition": "outside",
         "texttemplate": "%{x}",
         "type": "bar",
         "x": [
          2726
         ],
         "xaxis": "x",
         "y": [
          "UNIVERSITAS NEGERI JAKARTA"
         ],
         "yaxis": "y"
        },
        {
         "alignmentgroup": "True",
         "cliponaxis": true,
         "hovertemplate": "Universities=%{y}<br>Total=%{x}<extra></extra>",
         "legendgroup": "UNIVERSITAS NEGERI YOGYAKARTA",
         "marker": {
          "color": "#FF97FF",
          "pattern": {
           "shape": "/"
          }
         },
         "name": "UNIVERSITAS NEGERI YOGYAKARTA",
         "offsetgroup": "UNIVERSITAS NEGERI YOGYAKARTA",
         "orientation": "h",
         "showlegend": true,
         "textangle": 0,
         "textfont": {
          "size": 11
         },
         "textposition": "outside",
         "texttemplate": "%{x}",
         "type": "bar",
         "x": [
          2303
         ],
         "xaxis": "x",
         "y": [
          "UNIVERSITAS NEGERI YOGYAKARTA"
         ],
         "yaxis": "y"
        },
        {
         "alignmentgroup": "True",
         "cliponaxis": true,
         "hovertemplate": "Universities=%{y}<br>Total=%{x}<extra></extra>",
         "legendgroup": "UNIVERSITAS NEGERI SEMARANG",
         "marker": {
          "color": "#FECB52",
          "pattern": {
           "shape": "/"
          }
         },
         "name": "UNIVERSITAS NEGERI SEMARANG",
         "offsetgroup": "UNIVERSITAS NEGERI SEMARANG",
         "orientation": "h",
         "showlegend": true,
         "textangle": 0,
         "textfont": {
          "size": 11
         },
         "textposition": "outside",
         "texttemplate": "%{x}",
         "type": "bar",
         "x": [
          2255
         ],
         "xaxis": "x",
         "y": [
          "UNIVERSITAS NEGERI SEMARANG"
         ],
         "yaxis": "y"
        }
       ],
       "layout": {
        "barmode": "relative",
        "legend": {
         "title": {
          "text": "Universities"
         },
         "tracegroupgap": 0
        },
        "margin": {
         "t": 60
        },
        "template": {
         "data": {
          "bar": [
           {
            "error_x": {
             "color": "#2a3f5f"
            },
            "error_y": {
             "color": "#2a3f5f"
            },
            "marker": {
             "line": {
              "color": "#E5ECF6",
              "width": 0.5
             },
             "pattern": {
              "fillmode": "overlay",
              "size": 10,
              "solidity": 0.2
             }
            },
            "type": "bar"
           }
          ],
          "barpolar": [
           {
            "marker": {
             "line": {
              "color": "#E5ECF6",
              "width": 0.5
             },
             "pattern": {
              "fillmode": "overlay",
              "size": 10,
              "solidity": 0.2
             }
            },
            "type": "barpolar"
           }
          ],
          "carpet": [
           {
            "aaxis": {
             "endlinecolor": "#2a3f5f",
             "gridcolor": "white",
             "linecolor": "white",
             "minorgridcolor": "white",
             "startlinecolor": "#2a3f5f"
            },
            "baxis": {
             "endlinecolor": "#2a3f5f",
             "gridcolor": "white",
             "linecolor": "white",
             "minorgridcolor": "white",
             "startlinecolor": "#2a3f5f"
            },
            "type": "carpet"
           }
          ],
          "choropleth": [
           {
            "colorbar": {
             "outlinewidth": 0,
             "ticks": ""
            },
            "type": "choropleth"
           }
          ],
          "contour": [
           {
            "colorbar": {
             "outlinewidth": 0,
             "ticks": ""
            },
            "colorscale": [
             [
              0,
              "#0d0887"
             ],
             [
              0.1111111111111111,
              "#46039f"
             ],
             [
              0.2222222222222222,
              "#7201a8"
             ],
             [
              0.3333333333333333,
              "#9c179e"
             ],
             [
              0.4444444444444444,
              "#bd3786"
             ],
             [
              0.5555555555555556,
              "#d8576b"
             ],
             [
              0.6666666666666666,
              "#ed7953"
             ],
             [
              0.7777777777777778,
              "#fb9f3a"
             ],
             [
              0.8888888888888888,
              "#fdca26"
             ],
             [
              1,
              "#f0f921"
             ]
            ],
            "type": "contour"
           }
          ],
          "contourcarpet": [
           {
            "colorbar": {
             "outlinewidth": 0,
             "ticks": ""
            },
            "type": "contourcarpet"
           }
          ],
          "heatmap": [
           {
            "colorbar": {
             "outlinewidth": 0,
             "ticks": ""
            },
            "colorscale": [
             [
              0,
              "#0d0887"
             ],
             [
              0.1111111111111111,
              "#46039f"
             ],
             [
              0.2222222222222222,
              "#7201a8"
             ],
             [
              0.3333333333333333,
              "#9c179e"
             ],
             [
              0.4444444444444444,
              "#bd3786"
             ],
             [
              0.5555555555555556,
              "#d8576b"
             ],
             [
              0.6666666666666666,
              "#ed7953"
             ],
             [
              0.7777777777777778,
              "#fb9f3a"
             ],
             [
              0.8888888888888888,
              "#fdca26"
             ],
             [
              1,
              "#f0f921"
             ]
            ],
            "type": "heatmap"
           }
          ],
          "heatmapgl": [
           {
            "colorbar": {
             "outlinewidth": 0,
             "ticks": ""
            },
            "colorscale": [
             [
              0,
              "#0d0887"
             ],
             [
              0.1111111111111111,
              "#46039f"
             ],
             [
              0.2222222222222222,
              "#7201a8"
             ],
             [
              0.3333333333333333,
              "#9c179e"
             ],
             [
              0.4444444444444444,
              "#bd3786"
             ],
             [
              0.5555555555555556,
              "#d8576b"
             ],
             [
              0.6666666666666666,
              "#ed7953"
             ],
             [
              0.7777777777777778,
              "#fb9f3a"
             ],
             [
              0.8888888888888888,
              "#fdca26"
             ],
             [
              1,
              "#f0f921"
             ]
            ],
            "type": "heatmapgl"
           }
          ],
          "histogram": [
           {
            "marker": {
             "pattern": {
              "fillmode": "overlay",
              "size": 10,
              "solidity": 0.2
             }
            },
            "type": "histogram"
           }
          ],
          "histogram2d": [
           {
            "colorbar": {
             "outlinewidth": 0,
             "ticks": ""
            },
            "colorscale": [
             [
              0,
              "#0d0887"
             ],
             [
              0.1111111111111111,
              "#46039f"
             ],
             [
              0.2222222222222222,
              "#7201a8"
             ],
             [
              0.3333333333333333,
              "#9c179e"
             ],
             [
              0.4444444444444444,
              "#bd3786"
             ],
             [
              0.5555555555555556,
              "#d8576b"
             ],
             [
              0.6666666666666666,
              "#ed7953"
             ],
             [
              0.7777777777777778,
              "#fb9f3a"
             ],
             [
              0.8888888888888888,
              "#fdca26"
             ],
             [
              1,
              "#f0f921"
             ]
            ],
            "type": "histogram2d"
           }
          ],
          "histogram2dcontour": [
           {
            "colorbar": {
             "outlinewidth": 0,
             "ticks": ""
            },
            "colorscale": [
             [
              0,
              "#0d0887"
             ],
             [
              0.1111111111111111,
              "#46039f"
             ],
             [
              0.2222222222222222,
              "#7201a8"
             ],
             [
              0.3333333333333333,
              "#9c179e"
             ],
             [
              0.4444444444444444,
              "#bd3786"
             ],
             [
              0.5555555555555556,
              "#d8576b"
             ],
             [
              0.6666666666666666,
              "#ed7953"
             ],
             [
              0.7777777777777778,
              "#fb9f3a"
             ],
             [
              0.8888888888888888,
              "#fdca26"
             ],
             [
              1,
              "#f0f921"
             ]
            ],
            "type": "histogram2dcontour"
           }
          ],
          "mesh3d": [
           {
            "colorbar": {
             "outlinewidth": 0,
             "ticks": ""
            },
            "type": "mesh3d"
           }
          ],
          "parcoords": [
           {
            "line": {
             "colorbar": {
              "outlinewidth": 0,
              "ticks": ""
             }
            },
            "type": "parcoords"
           }
          ],
          "pie": [
           {
            "automargin": true,
            "type": "pie"
           }
          ],
          "scatter": [
           {
            "marker": {
             "colorbar": {
              "outlinewidth": 0,
              "ticks": ""
             }
            },
            "type": "scatter"
           }
          ],
          "scatter3d": [
           {
            "line": {
             "colorbar": {
              "outlinewidth": 0,
              "ticks": ""
             }
            },
            "marker": {
             "colorbar": {
              "outlinewidth": 0,
              "ticks": ""
             }
            },
            "type": "scatter3d"
           }
          ],
          "scattercarpet": [
           {
            "marker": {
             "colorbar": {
              "outlinewidth": 0,
              "ticks": ""
             }
            },
            "type": "scattercarpet"
           }
          ],
          "scattergeo": [
           {
            "marker": {
             "colorbar": {
              "outlinewidth": 0,
              "ticks": ""
             }
            },
            "type": "scattergeo"
           }
          ],
          "scattergl": [
           {
            "marker": {
             "colorbar": {
              "outlinewidth": 0,
              "ticks": ""
             }
            },
            "type": "scattergl"
           }
          ],
          "scattermapbox": [
           {
            "marker": {
             "colorbar": {
              "outlinewidth": 0,
              "ticks": ""
             }
            },
            "type": "scattermapbox"
           }
          ],
          "scatterpolar": [
           {
            "marker": {
             "colorbar": {
              "outlinewidth": 0,
              "ticks": ""
             }
            },
            "type": "scatterpolar"
           }
          ],
          "scatterpolargl": [
           {
            "marker": {
             "colorbar": {
              "outlinewidth": 0,
              "ticks": ""
             }
            },
            "type": "scatterpolargl"
           }
          ],
          "scatterternary": [
           {
            "marker": {
             "colorbar": {
              "outlinewidth": 0,
              "ticks": ""
             }
            },
            "type": "scatterternary"
           }
          ],
          "surface": [
           {
            "colorbar": {
             "outlinewidth": 0,
             "ticks": ""
            },
            "colorscale": [
             [
              0,
              "#0d0887"
             ],
             [
              0.1111111111111111,
              "#46039f"
             ],
             [
              0.2222222222222222,
              "#7201a8"
             ],
             [
              0.3333333333333333,
              "#9c179e"
             ],
             [
              0.4444444444444444,
              "#bd3786"
             ],
             [
              0.5555555555555556,
              "#d8576b"
             ],
             [
              0.6666666666666666,
              "#ed7953"
             ],
             [
              0.7777777777777778,
              "#fb9f3a"
             ],
             [
              0.8888888888888888,
              "#fdca26"
             ],
             [
              1,
              "#f0f921"
             ]
            ],
            "type": "surface"
           }
          ],
          "table": [
           {
            "cells": {
             "fill": {
              "color": "#EBF0F8"
             },
             "line": {
              "color": "white"
             }
            },
            "header": {
             "fill": {
              "color": "#C8D4E3"
             },
             "line": {
              "color": "white"
             }
            },
            "type": "table"
           }
          ]
         },
         "layout": {
          "annotationdefaults": {
           "arrowcolor": "#2a3f5f",
           "arrowhead": 0,
           "arrowwidth": 1
          },
          "autotypenumbers": "strict",
          "coloraxis": {
           "colorbar": {
            "outlinewidth": 0,
            "ticks": ""
           }
          },
          "colorscale": {
           "diverging": [
            [
             0,
             "#8e0152"
            ],
            [
             0.1,
             "#c51b7d"
            ],
            [
             0.2,
             "#de77ae"
            ],
            [
             0.3,
             "#f1b6da"
            ],
            [
             0.4,
             "#fde0ef"
            ],
            [
             0.5,
             "#f7f7f7"
            ],
            [
             0.6,
             "#e6f5d0"
            ],
            [
             0.7,
             "#b8e186"
            ],
            [
             0.8,
             "#7fbc41"
            ],
            [
             0.9,
             "#4d9221"
            ],
            [
             1,
             "#276419"
            ]
           ],
           "sequential": [
            [
             0,
             "#0d0887"
            ],
            [
             0.1111111111111111,
             "#46039f"
            ],
            [
             0.2222222222222222,
             "#7201a8"
            ],
            [
             0.3333333333333333,
             "#9c179e"
            ],
            [
             0.4444444444444444,
             "#bd3786"
            ],
            [
             0.5555555555555556,
             "#d8576b"
            ],
            [
             0.6666666666666666,
             "#ed7953"
            ],
            [
             0.7777777777777778,
             "#fb9f3a"
            ],
            [
             0.8888888888888888,
             "#fdca26"
            ],
            [
             1,
             "#f0f921"
            ]
           ],
           "sequentialminus": [
            [
             0,
             "#0d0887"
            ],
            [
             0.1111111111111111,
             "#46039f"
            ],
            [
             0.2222222222222222,
             "#7201a8"
            ],
            [
             0.3333333333333333,
             "#9c179e"
            ],
            [
             0.4444444444444444,
             "#bd3786"
            ],
            [
             0.5555555555555556,
             "#d8576b"
            ],
            [
             0.6666666666666666,
             "#ed7953"
            ],
            [
             0.7777777777777778,
             "#fb9f3a"
            ],
            [
             0.8888888888888888,
             "#fdca26"
            ],
            [
             1,
             "#f0f921"
            ]
           ]
          },
          "colorway": [
           "#636efa",
           "#EF553B",
           "#00cc96",
           "#ab63fa",
           "#FFA15A",
           "#19d3f3",
           "#FF6692",
           "#B6E880",
           "#FF97FF",
           "#FECB52"
          ],
          "font": {
           "color": "#2a3f5f"
          },
          "geo": {
           "bgcolor": "white",
           "lakecolor": "white",
           "landcolor": "#E5ECF6",
           "showlakes": true,
           "showland": true,
           "subunitcolor": "white"
          },
          "hoverlabel": {
           "align": "left"
          },
          "hovermode": "closest",
          "mapbox": {
           "style": "light"
          },
          "paper_bgcolor": "white",
          "plot_bgcolor": "#E5ECF6",
          "polar": {
           "angularaxis": {
            "gridcolor": "white",
            "linecolor": "white",
            "ticks": ""
           },
           "bgcolor": "#E5ECF6",
           "radialaxis": {
            "gridcolor": "white",
            "linecolor": "white",
            "ticks": ""
           }
          },
          "scene": {
           "xaxis": {
            "backgroundcolor": "#E5ECF6",
            "gridcolor": "white",
            "gridwidth": 2,
            "linecolor": "white",
            "showbackground": true,
            "ticks": "",
            "zerolinecolor": "white"
           },
           "yaxis": {
            "backgroundcolor": "#E5ECF6",
            "gridcolor": "white",
            "gridwidth": 2,
            "linecolor": "white",
            "showbackground": true,
            "ticks": "",
            "zerolinecolor": "white"
           },
           "zaxis": {
            "backgroundcolor": "#E5ECF6",
            "gridcolor": "white",
            "gridwidth": 2,
            "linecolor": "white",
            "showbackground": true,
            "ticks": "",
            "zerolinecolor": "white"
           }
          },
          "shapedefaults": {
           "line": {
            "color": "#2a3f5f"
           }
          },
          "ternary": {
           "aaxis": {
            "gridcolor": "white",
            "linecolor": "white",
            "ticks": ""
           },
           "baxis": {
            "gridcolor": "white",
            "linecolor": "white",
            "ticks": ""
           },
           "bgcolor": "#E5ECF6",
           "caxis": {
            "gridcolor": "white",
            "linecolor": "white",
            "ticks": ""
           }
          },
          "title": {
           "x": 0.05
          },
          "xaxis": {
           "automargin": true,
           "gridcolor": "white",
           "linecolor": "white",
           "ticks": "",
           "title": {
            "standoff": 15
           },
           "zerolinecolor": "white",
           "zerolinewidth": 2
          },
          "yaxis": {
           "automargin": true,
           "gridcolor": "white",
           "linecolor": "white",
           "ticks": "",
           "title": {
            "standoff": 15
           },
           "zerolinecolor": "white",
           "zerolinewidth": 2
          }
         }
        },
        "title": {
         "text": "Top Universities Choices 2019 Based on First Choice for Humanities Majors"
        },
        "width": 1300,
        "xaxis": {
         "anchor": "y",
         "domain": [
          0,
          1
         ],
         "tickangle": 0,
         "tickfont": {
          "color": "red",
          "family": "Rockwell",
          "size": 12
         },
         "title": {
          "text": "Total"
         }
        },
        "yaxis": {
         "anchor": "x",
         "categoryarray": [
          "UNIVERSITAS NEGERI SEMARANG",
          "UNIVERSITAS NEGERI YOGYAKARTA",
          "UNIVERSITAS NEGERI JAKARTA",
          "UNIVERSITAS SEBELAS MARET",
          "UNIVERSITAS GADJAH MADA",
          "UNIVERSITAS DIPONEGORO",
          "UNIVERSITAS PENDIDIKAN INDONESIA",
          "UNIVERSITAS BRAWIJAYA",
          "UNIVERSITAS PADJADJARAN",
          "UNIVERSITAS INDONESIA"
         ],
         "categoryorder": "array",
         "domain": [
          0,
          1
         ],
         "tickangle": 0,
         "tickfont": {
          "color": "black",
          "family": "Rockwell",
          "size": 12
         },
         "title": {
          "text": "Universities"
         }
        }
       }
      }
     },
     "metadata": {},
     "output_type": "display_data"
    }
   ],
   "source": [
    "fig = px.bar(data_frame=a,y='Universities',x='Total',color='Universities',text_auto=True,pattern_shape_sequence=[\"\\\\\"],width=1300, color_discrete_sequence=px.colors.qualitative.Bold)\n",
    "fig.update_layout(title='Top Universities Choices 2019 Based on First Choice for Science Majors')\n",
    "fig.update_yaxes(tickangle=0, tickfont=dict(family='Rockwell', color='black', size=12))\n",
    "fig.update_xaxes(tickangle=0, tickfont=dict(family='Rockwell', color='red', size=12))\n",
    "fig.update_traces(textfont_size=11, textangle=0, textposition=\"outside\", cliponaxis=True)\n",
    "fig.show()\n",
    "\n",
    "fig = px.bar(data_frame=b,y='Universities',x='Total',color='Universities',text_auto=True,pattern_shape_sequence=[\"/\"],width=1300)\n",
    "fig.update_layout(title='Top Universities Choices 2019 Based on First Choice for Humanities Majors')\n",
    "fig.update_yaxes(tickangle=0, tickfont=dict(family='Rockwell', color='black', size=12))\n",
    "fig.update_xaxes(tickangle=0, tickfont=dict(family='Rockwell', color='red', size=12))\n",
    "fig.update_traces(textfont_size=11, textangle=0, textposition=\"outside\", cliponaxis=True)\n",
    "fig.show()"
   ]
  },
  {
   "cell_type": "markdown",
   "metadata": {},
   "source": [
    "![Top Universities Choices 2019 Based on First Choice for Science Majors](photos/Top%20Universities%20Choices%202019%20Based%20on%20First%20Choice%20for%20Science%20Majors.png)`"
   ]
  },
  {
   "cell_type": "markdown",
   "metadata": {},
   "source": [
    "![Top Universities Choices 2019 Based on First Choice for Humanities Majors](photos/Top%20Universities%20Choices%202019%20Based%20on%20First%20Choice%20for%20Humanities%20Majors.png)"
   ]
  },
  {
   "cell_type": "code",
   "execution_count": 60,
   "metadata": {},
   "outputs": [],
   "source": [
    "df_univ_brawSc = df_science.loc[(df_science['first_univ']=='UNIVERSITAS BRAWIJAYA')].drop(['second_univ',\t'second_major'\t,'second_capacity'],axis=1)\n",
    "df_univ_brawHu = df_humanites.loc[(df_humanites['first_univ']=='UNIVERSITAS BRAWIJAYA')].drop(['second_univ',\t'second_major'\t,'second_capacity'],axis=1)"
   ]
  },
  {
   "cell_type": "code",
   "execution_count": 61,
   "metadata": {},
   "outputs": [],
   "source": [
    "a = df_univ_brawSc.groupby('first_major').agg({'first_univ':'count','first_capacity':'mean'}).sort_values('first_univ',ascending=True).reset_index().rename(columns={'first_univ':'Total choices','first_capacity':'Capacity'})\n",
    "b = df_univ_brawHu.groupby('first_major').agg({'first_univ':'count','first_capacity':'mean'}).sort_values('first_univ',ascending=True).reset_index().rename(columns={'first_univ':'Total choices','first_capacity':'Capacity'})"
   ]
  },
  {
   "cell_type": "code",
   "execution_count": 62,
   "metadata": {},
   "outputs": [
    {
     "data": {
      "application/vnd.plotly.v1+json": {
       "config": {
        "plotlyServerURL": "https://plot.ly"
       },
       "data": [
        {
         "domain": {
          "x": [
           0,
           1
          ],
          "y": [
           0,
           1
          ]
         },
         "hole": 0.2,
         "hoverinfo": "label+percent",
         "hovertemplate": "label=%{label}<br>value=%{value}<extra></extra>",
         "labels": [
          "Science Major",
          "Humanities Major"
         ],
         "legendgroup": "",
         "marker": {
          "colors": [
           "gold",
           "mediumturquoise",
           "darkorange",
           "lightgreen"
          ],
          "line": {
           "color": "#000000",
           "width": 2
          }
         },
         "name": "",
         "showlegend": true,
         "textinfo": "value+label",
         "textposition": "inside",
         "type": "pie",
         "values": [
          47,
          28
         ]
        }
       ],
       "layout": {
        "height": 500,
        "legend": {
         "tracegroupgap": 0
        },
        "margin": {
         "t": 60
        },
        "template": {
         "data": {
          "bar": [
           {
            "error_x": {
             "color": "#2a3f5f"
            },
            "error_y": {
             "color": "#2a3f5f"
            },
            "marker": {
             "line": {
              "color": "#E5ECF6",
              "width": 0.5
             },
             "pattern": {
              "fillmode": "overlay",
              "size": 10,
              "solidity": 0.2
             }
            },
            "type": "bar"
           }
          ],
          "barpolar": [
           {
            "marker": {
             "line": {
              "color": "#E5ECF6",
              "width": 0.5
             },
             "pattern": {
              "fillmode": "overlay",
              "size": 10,
              "solidity": 0.2
             }
            },
            "type": "barpolar"
           }
          ],
          "carpet": [
           {
            "aaxis": {
             "endlinecolor": "#2a3f5f",
             "gridcolor": "white",
             "linecolor": "white",
             "minorgridcolor": "white",
             "startlinecolor": "#2a3f5f"
            },
            "baxis": {
             "endlinecolor": "#2a3f5f",
             "gridcolor": "white",
             "linecolor": "white",
             "minorgridcolor": "white",
             "startlinecolor": "#2a3f5f"
            },
            "type": "carpet"
           }
          ],
          "choropleth": [
           {
            "colorbar": {
             "outlinewidth": 0,
             "ticks": ""
            },
            "type": "choropleth"
           }
          ],
          "contour": [
           {
            "colorbar": {
             "outlinewidth": 0,
             "ticks": ""
            },
            "colorscale": [
             [
              0,
              "#0d0887"
             ],
             [
              0.1111111111111111,
              "#46039f"
             ],
             [
              0.2222222222222222,
              "#7201a8"
             ],
             [
              0.3333333333333333,
              "#9c179e"
             ],
             [
              0.4444444444444444,
              "#bd3786"
             ],
             [
              0.5555555555555556,
              "#d8576b"
             ],
             [
              0.6666666666666666,
              "#ed7953"
             ],
             [
              0.7777777777777778,
              "#fb9f3a"
             ],
             [
              0.8888888888888888,
              "#fdca26"
             ],
             [
              1,
              "#f0f921"
             ]
            ],
            "type": "contour"
           }
          ],
          "contourcarpet": [
           {
            "colorbar": {
             "outlinewidth": 0,
             "ticks": ""
            },
            "type": "contourcarpet"
           }
          ],
          "heatmap": [
           {
            "colorbar": {
             "outlinewidth": 0,
             "ticks": ""
            },
            "colorscale": [
             [
              0,
              "#0d0887"
             ],
             [
              0.1111111111111111,
              "#46039f"
             ],
             [
              0.2222222222222222,
              "#7201a8"
             ],
             [
              0.3333333333333333,
              "#9c179e"
             ],
             [
              0.4444444444444444,
              "#bd3786"
             ],
             [
              0.5555555555555556,
              "#d8576b"
             ],
             [
              0.6666666666666666,
              "#ed7953"
             ],
             [
              0.7777777777777778,
              "#fb9f3a"
             ],
             [
              0.8888888888888888,
              "#fdca26"
             ],
             [
              1,
              "#f0f921"
             ]
            ],
            "type": "heatmap"
           }
          ],
          "heatmapgl": [
           {
            "colorbar": {
             "outlinewidth": 0,
             "ticks": ""
            },
            "colorscale": [
             [
              0,
              "#0d0887"
             ],
             [
              0.1111111111111111,
              "#46039f"
             ],
             [
              0.2222222222222222,
              "#7201a8"
             ],
             [
              0.3333333333333333,
              "#9c179e"
             ],
             [
              0.4444444444444444,
              "#bd3786"
             ],
             [
              0.5555555555555556,
              "#d8576b"
             ],
             [
              0.6666666666666666,
              "#ed7953"
             ],
             [
              0.7777777777777778,
              "#fb9f3a"
             ],
             [
              0.8888888888888888,
              "#fdca26"
             ],
             [
              1,
              "#f0f921"
             ]
            ],
            "type": "heatmapgl"
           }
          ],
          "histogram": [
           {
            "marker": {
             "pattern": {
              "fillmode": "overlay",
              "size": 10,
              "solidity": 0.2
             }
            },
            "type": "histogram"
           }
          ],
          "histogram2d": [
           {
            "colorbar": {
             "outlinewidth": 0,
             "ticks": ""
            },
            "colorscale": [
             [
              0,
              "#0d0887"
             ],
             [
              0.1111111111111111,
              "#46039f"
             ],
             [
              0.2222222222222222,
              "#7201a8"
             ],
             [
              0.3333333333333333,
              "#9c179e"
             ],
             [
              0.4444444444444444,
              "#bd3786"
             ],
             [
              0.5555555555555556,
              "#d8576b"
             ],
             [
              0.6666666666666666,
              "#ed7953"
             ],
             [
              0.7777777777777778,
              "#fb9f3a"
             ],
             [
              0.8888888888888888,
              "#fdca26"
             ],
             [
              1,
              "#f0f921"
             ]
            ],
            "type": "histogram2d"
           }
          ],
          "histogram2dcontour": [
           {
            "colorbar": {
             "outlinewidth": 0,
             "ticks": ""
            },
            "colorscale": [
             [
              0,
              "#0d0887"
             ],
             [
              0.1111111111111111,
              "#46039f"
             ],
             [
              0.2222222222222222,
              "#7201a8"
             ],
             [
              0.3333333333333333,
              "#9c179e"
             ],
             [
              0.4444444444444444,
              "#bd3786"
             ],
             [
              0.5555555555555556,
              "#d8576b"
             ],
             [
              0.6666666666666666,
              "#ed7953"
             ],
             [
              0.7777777777777778,
              "#fb9f3a"
             ],
             [
              0.8888888888888888,
              "#fdca26"
             ],
             [
              1,
              "#f0f921"
             ]
            ],
            "type": "histogram2dcontour"
           }
          ],
          "mesh3d": [
           {
            "colorbar": {
             "outlinewidth": 0,
             "ticks": ""
            },
            "type": "mesh3d"
           }
          ],
          "parcoords": [
           {
            "line": {
             "colorbar": {
              "outlinewidth": 0,
              "ticks": ""
             }
            },
            "type": "parcoords"
           }
          ],
          "pie": [
           {
            "automargin": true,
            "type": "pie"
           }
          ],
          "scatter": [
           {
            "marker": {
             "colorbar": {
              "outlinewidth": 0,
              "ticks": ""
             }
            },
            "type": "scatter"
           }
          ],
          "scatter3d": [
           {
            "line": {
             "colorbar": {
              "outlinewidth": 0,
              "ticks": ""
             }
            },
            "marker": {
             "colorbar": {
              "outlinewidth": 0,
              "ticks": ""
             }
            },
            "type": "scatter3d"
           }
          ],
          "scattercarpet": [
           {
            "marker": {
             "colorbar": {
              "outlinewidth": 0,
              "ticks": ""
             }
            },
            "type": "scattercarpet"
           }
          ],
          "scattergeo": [
           {
            "marker": {
             "colorbar": {
              "outlinewidth": 0,
              "ticks": ""
             }
            },
            "type": "scattergeo"
           }
          ],
          "scattergl": [
           {
            "marker": {
             "colorbar": {
              "outlinewidth": 0,
              "ticks": ""
             }
            },
            "type": "scattergl"
           }
          ],
          "scattermapbox": [
           {
            "marker": {
             "colorbar": {
              "outlinewidth": 0,
              "ticks": ""
             }
            },
            "type": "scattermapbox"
           }
          ],
          "scatterpolar": [
           {
            "marker": {
             "colorbar": {
              "outlinewidth": 0,
              "ticks": ""
             }
            },
            "type": "scatterpolar"
           }
          ],
          "scatterpolargl": [
           {
            "marker": {
             "colorbar": {
              "outlinewidth": 0,
              "ticks": ""
             }
            },
            "type": "scatterpolargl"
           }
          ],
          "scatterternary": [
           {
            "marker": {
             "colorbar": {
              "outlinewidth": 0,
              "ticks": ""
             }
            },
            "type": "scatterternary"
           }
          ],
          "surface": [
           {
            "colorbar": {
             "outlinewidth": 0,
             "ticks": ""
            },
            "colorscale": [
             [
              0,
              "#0d0887"
             ],
             [
              0.1111111111111111,
              "#46039f"
             ],
             [
              0.2222222222222222,
              "#7201a8"
             ],
             [
              0.3333333333333333,
              "#9c179e"
             ],
             [
              0.4444444444444444,
              "#bd3786"
             ],
             [
              0.5555555555555556,
              "#d8576b"
             ],
             [
              0.6666666666666666,
              "#ed7953"
             ],
             [
              0.7777777777777778,
              "#fb9f3a"
             ],
             [
              0.8888888888888888,
              "#fdca26"
             ],
             [
              1,
              "#f0f921"
             ]
            ],
            "type": "surface"
           }
          ],
          "table": [
           {
            "cells": {
             "fill": {
              "color": "#EBF0F8"
             },
             "line": {
              "color": "white"
             }
            },
            "header": {
             "fill": {
              "color": "#C8D4E3"
             },
             "line": {
              "color": "white"
             }
            },
            "type": "table"
           }
          ]
         },
         "layout": {
          "annotationdefaults": {
           "arrowcolor": "#2a3f5f",
           "arrowhead": 0,
           "arrowwidth": 1
          },
          "autotypenumbers": "strict",
          "coloraxis": {
           "colorbar": {
            "outlinewidth": 0,
            "ticks": ""
           }
          },
          "colorscale": {
           "diverging": [
            [
             0,
             "#8e0152"
            ],
            [
             0.1,
             "#c51b7d"
            ],
            [
             0.2,
             "#de77ae"
            ],
            [
             0.3,
             "#f1b6da"
            ],
            [
             0.4,
             "#fde0ef"
            ],
            [
             0.5,
             "#f7f7f7"
            ],
            [
             0.6,
             "#e6f5d0"
            ],
            [
             0.7,
             "#b8e186"
            ],
            [
             0.8,
             "#7fbc41"
            ],
            [
             0.9,
             "#4d9221"
            ],
            [
             1,
             "#276419"
            ]
           ],
           "sequential": [
            [
             0,
             "#0d0887"
            ],
            [
             0.1111111111111111,
             "#46039f"
            ],
            [
             0.2222222222222222,
             "#7201a8"
            ],
            [
             0.3333333333333333,
             "#9c179e"
            ],
            [
             0.4444444444444444,
             "#bd3786"
            ],
            [
             0.5555555555555556,
             "#d8576b"
            ],
            [
             0.6666666666666666,
             "#ed7953"
            ],
            [
             0.7777777777777778,
             "#fb9f3a"
            ],
            [
             0.8888888888888888,
             "#fdca26"
            ],
            [
             1,
             "#f0f921"
            ]
           ],
           "sequentialminus": [
            [
             0,
             "#0d0887"
            ],
            [
             0.1111111111111111,
             "#46039f"
            ],
            [
             0.2222222222222222,
             "#7201a8"
            ],
            [
             0.3333333333333333,
             "#9c179e"
            ],
            [
             0.4444444444444444,
             "#bd3786"
            ],
            [
             0.5555555555555556,
             "#d8576b"
            ],
            [
             0.6666666666666666,
             "#ed7953"
            ],
            [
             0.7777777777777778,
             "#fb9f3a"
            ],
            [
             0.8888888888888888,
             "#fdca26"
            ],
            [
             1,
             "#f0f921"
            ]
           ]
          },
          "colorway": [
           "#636efa",
           "#EF553B",
           "#00cc96",
           "#ab63fa",
           "#FFA15A",
           "#19d3f3",
           "#FF6692",
           "#B6E880",
           "#FF97FF",
           "#FECB52"
          ],
          "font": {
           "color": "#2a3f5f"
          },
          "geo": {
           "bgcolor": "white",
           "lakecolor": "white",
           "landcolor": "#E5ECF6",
           "showlakes": true,
           "showland": true,
           "subunitcolor": "white"
          },
          "hoverlabel": {
           "align": "left"
          },
          "hovermode": "closest",
          "mapbox": {
           "style": "light"
          },
          "paper_bgcolor": "white",
          "plot_bgcolor": "#E5ECF6",
          "polar": {
           "angularaxis": {
            "gridcolor": "white",
            "linecolor": "white",
            "ticks": ""
           },
           "bgcolor": "#E5ECF6",
           "radialaxis": {
            "gridcolor": "white",
            "linecolor": "white",
            "ticks": ""
           }
          },
          "scene": {
           "xaxis": {
            "backgroundcolor": "#E5ECF6",
            "gridcolor": "white",
            "gridwidth": 2,
            "linecolor": "white",
            "showbackground": true,
            "ticks": "",
            "zerolinecolor": "white"
           },
           "yaxis": {
            "backgroundcolor": "#E5ECF6",
            "gridcolor": "white",
            "gridwidth": 2,
            "linecolor": "white",
            "showbackground": true,
            "ticks": "",
            "zerolinecolor": "white"
           },
           "zaxis": {
            "backgroundcolor": "#E5ECF6",
            "gridcolor": "white",
            "gridwidth": 2,
            "linecolor": "white",
            "showbackground": true,
            "ticks": "",
            "zerolinecolor": "white"
           }
          },
          "shapedefaults": {
           "line": {
            "color": "#2a3f5f"
           }
          },
          "ternary": {
           "aaxis": {
            "gridcolor": "white",
            "linecolor": "white",
            "ticks": ""
           },
           "baxis": {
            "gridcolor": "white",
            "linecolor": "white",
            "ticks": ""
           },
           "bgcolor": "#E5ECF6",
           "caxis": {
            "gridcolor": "white",
            "linecolor": "white",
            "ticks": ""
           }
          },
          "title": {
           "x": 0.05
          },
          "xaxis": {
           "automargin": true,
           "gridcolor": "white",
           "linecolor": "white",
           "ticks": "",
           "title": {
            "standoff": 15
           },
           "zerolinecolor": "white",
           "zerolinewidth": 2
          },
          "yaxis": {
           "automargin": true,
           "gridcolor": "white",
           "linecolor": "white",
           "ticks": "",
           "title": {
            "standoff": 15
           },
           "zerolinecolor": "white",
           "zerolinewidth": 2
          }
         }
        },
        "title": {
         "text": "Total Majors in UB"
        },
        "width": 700
       }
      }
     },
     "metadata": {},
     "output_type": "display_data"
    }
   ],
   "source": [
    "colors = ['gold', 'mediumturquoise', 'darkorange', 'lightgreen']\n",
    "fig = px.pie(values=[len(a),len(b)],names=['Science Major','Humanities Major'],height=500,width=700,hole=.2)\n",
    "fig.update_traces(textposition='inside', textinfo='value+label',hoverinfo='label+percent',marker=dict(colors=colors, line=dict(color='#000000', width=2)))\n",
    "fig.update_layout(title='Total Majors in UB')\n",
    "fig.show()"
   ]
  },
  {
   "cell_type": "markdown",
   "metadata": {},
   "source": [
    "![Total Majors](photos/Total%20Majors.png))"
   ]
  },
  {
   "cell_type": "code",
   "execution_count": 63,
   "metadata": {},
   "outputs": [
    {
     "data": {
      "application/vnd.plotly.v1+json": {
       "config": {
        "plotlyServerURL": "https://plot.ly"
       },
       "data": [
        {
         "alignmentgroup": "True",
         "cliponaxis": false,
         "hovertemplate": "variable=Capacity<br>value=%{x}<br>first_major=%{y}<extra></extra>",
         "legendgroup": "Capacity",
         "marker": {
          "color": "#636efa",
          "pattern": {
           "shape": "x"
          }
         },
         "name": "Capacity",
         "offsetgroup": "Capacity",
         "orientation": "h",
         "showlegend": true,
         "textangle": 0,
         "textfont": {
          "size": 36
         },
         "textposition": "outside",
         "texttemplate": "%{x}",
         "type": "bar",
         "x": [
          8,
          6,
          8,
          8,
          8,
          12,
          20,
          14,
          14,
          14,
          19,
          28,
          12,
          28,
          28,
          28,
          17,
          20,
          25,
          28,
          22,
          28,
          32,
          28,
          32,
          32,
          28,
          32,
          24,
          32,
          40,
          20,
          19,
          16,
          25,
          27,
          32,
          19,
          28,
          67,
          28,
          32,
          28,
          38,
          105,
          124,
          40
         ],
         "xaxis": "x",
         "y": [
          "SOSIAL EKONOMI PERIKANAN (PSDKU KEDIRI)",
          "PETERNAKAN (PSDKU KEDIRI)",
          "AKUAKULTUR (PSDKU KEDIRI) ",
          "AGRIBISNIS (PSDKU KEDIRI)",
          "AGROEKOTEKNOLOGI (PSDKU KEDIRI)",
          "PENDIDIKAN TEKNOLOGI INFORMASI",
          "KETEKNIKAN PERTANIAN",
          "TEKNIK GEOFISIKA",
          "TEKNOLOGI BIOPROSES",
          "INSTRUMENTASI",
          "FISIKA",
          "TEKNOLOGI HASIL PERIKANAN",
          "TEKNOLOGI INFORMASI",
          "PEMANFAATAN SUMBERDAYA PERIKANAN",
          "AGROBISNIS PERIKANAN",
          "BUDIDAYA PERAIRAN",
          "KEBIDANAN",
          "BIOTEKNOLOGI",
          "TEKNIK KOMPUTER",
          "MANAJEMEN SUMBERDAYA PERAIRAN",
          "ILMU KEPERAWATAN",
          "BIOLOGI",
          "KIMIA",
          "ILMU KELAUTAN",
          "PENDIDIKAN DOKTER HEWAN",
          "MATEMATIKA",
          "TEKNIK PENGAIRAN",
          "TEKNIK ELEKTRO",
          "TEKNIK KIMIA",
          "TEKNIK MESIN",
          "TEKNOLOGI INDUSTRI PERTANIAN",
          "TEKNIK LINGKUNGAN",
          "FARMASI",
          "PENDIDIKAN DOKTER GIGI",
          "SISTEM INFORMASI",
          "ILMU DAN TEKNOLOGI PANGAN",
          "STATISTIKA",
          "GIZI KESEHATAN / ILMU GIZI",
          "ARSITEKTUR",
          "AGRIBISNIS",
          "PERENCANAAN WILAYAH & KOTA",
          "TEKNIK INDUSTRI",
          "TEKNIK SIPIL",
          "TEKNIK INFORMATIKA",
          "PETERNAKAN",
          "AGROEKOTEKNOLOGI",
          "PENDIDIKAN DOKTER"
         ],
         "yaxis": "y"
        },
        {
         "alignmentgroup": "True",
         "cliponaxis": false,
         "hovertemplate": "variable=Total choices<br>value=%{x}<br>first_major=%{y}<extra></extra>",
         "legendgroup": "Total choices",
         "marker": {
          "color": "#EF553B",
          "pattern": {
           "shape": "x"
          }
         },
         "name": "Total choices",
         "offsetgroup": "Total choices",
         "orientation": "h",
         "showlegend": true,
         "textangle": 0,
         "textfont": {
          "size": 36
         },
         "textposition": "outside",
         "texttemplate": "%{x}",
         "type": "bar",
         "x": [
          20,
          20,
          32,
          35,
          36,
          36,
          54,
          58,
          58,
          62,
          62,
          67,
          77,
          80,
          84,
          84,
          88,
          92,
          93,
          94,
          94,
          102,
          106,
          109,
          115,
          118,
          119,
          128,
          128,
          134,
          142,
          156,
          165,
          166,
          178,
          193,
          194,
          209,
          211,
          223,
          223,
          230,
          248,
          253,
          275,
          368,
          368
         ],
         "xaxis": "x",
         "y": [
          "SOSIAL EKONOMI PERIKANAN (PSDKU KEDIRI)",
          "PETERNAKAN (PSDKU KEDIRI)",
          "AKUAKULTUR (PSDKU KEDIRI) ",
          "AGRIBISNIS (PSDKU KEDIRI)",
          "AGROEKOTEKNOLOGI (PSDKU KEDIRI)",
          "PENDIDIKAN TEKNOLOGI INFORMASI",
          "KETEKNIKAN PERTANIAN",
          "TEKNIK GEOFISIKA",
          "TEKNOLOGI BIOPROSES",
          "INSTRUMENTASI",
          "FISIKA",
          "TEKNOLOGI HASIL PERIKANAN",
          "TEKNOLOGI INFORMASI",
          "PEMANFAATAN SUMBERDAYA PERIKANAN",
          "AGROBISNIS PERIKANAN",
          "BUDIDAYA PERAIRAN",
          "KEBIDANAN",
          "BIOTEKNOLOGI",
          "TEKNIK KOMPUTER",
          "MANAJEMEN SUMBERDAYA PERAIRAN",
          "ILMU KEPERAWATAN",
          "BIOLOGI",
          "KIMIA",
          "ILMU KELAUTAN",
          "PENDIDIKAN DOKTER HEWAN",
          "MATEMATIKA",
          "TEKNIK PENGAIRAN",
          "TEKNIK ELEKTRO",
          "TEKNIK KIMIA",
          "TEKNIK MESIN",
          "TEKNOLOGI INDUSTRI PERTANIAN",
          "TEKNIK LINGKUNGAN",
          "FARMASI",
          "PENDIDIKAN DOKTER GIGI",
          "SISTEM INFORMASI",
          "ILMU DAN TEKNOLOGI PANGAN",
          "STATISTIKA",
          "GIZI KESEHATAN / ILMU GIZI",
          "ARSITEKTUR",
          "AGRIBISNIS",
          "PERENCANAAN WILAYAH & KOTA",
          "TEKNIK INDUSTRI",
          "TEKNIK SIPIL",
          "TEKNIK INFORMATIKA",
          "PETERNAKAN",
          "AGROEKOTEKNOLOGI",
          "PENDIDIKAN DOKTER"
         ],
         "yaxis": "y"
        }
       ],
       "layout": {
        "barmode": "group",
        "height": 1400,
        "legend": {
         "title": {
          "text": "variable"
         },
         "tracegroupgap": 0
        },
        "margin": {
         "t": 60
        },
        "template": {
         "data": {
          "bar": [
           {
            "error_x": {
             "color": "#2a3f5f"
            },
            "error_y": {
             "color": "#2a3f5f"
            },
            "marker": {
             "line": {
              "color": "#E5ECF6",
              "width": 0.5
             },
             "pattern": {
              "fillmode": "overlay",
              "size": 10,
              "solidity": 0.2
             }
            },
            "type": "bar"
           }
          ],
          "barpolar": [
           {
            "marker": {
             "line": {
              "color": "#E5ECF6",
              "width": 0.5
             },
             "pattern": {
              "fillmode": "overlay",
              "size": 10,
              "solidity": 0.2
             }
            },
            "type": "barpolar"
           }
          ],
          "carpet": [
           {
            "aaxis": {
             "endlinecolor": "#2a3f5f",
             "gridcolor": "white",
             "linecolor": "white",
             "minorgridcolor": "white",
             "startlinecolor": "#2a3f5f"
            },
            "baxis": {
             "endlinecolor": "#2a3f5f",
             "gridcolor": "white",
             "linecolor": "white",
             "minorgridcolor": "white",
             "startlinecolor": "#2a3f5f"
            },
            "type": "carpet"
           }
          ],
          "choropleth": [
           {
            "colorbar": {
             "outlinewidth": 0,
             "ticks": ""
            },
            "type": "choropleth"
           }
          ],
          "contour": [
           {
            "colorbar": {
             "outlinewidth": 0,
             "ticks": ""
            },
            "colorscale": [
             [
              0,
              "#0d0887"
             ],
             [
              0.1111111111111111,
              "#46039f"
             ],
             [
              0.2222222222222222,
              "#7201a8"
             ],
             [
              0.3333333333333333,
              "#9c179e"
             ],
             [
              0.4444444444444444,
              "#bd3786"
             ],
             [
              0.5555555555555556,
              "#d8576b"
             ],
             [
              0.6666666666666666,
              "#ed7953"
             ],
             [
              0.7777777777777778,
              "#fb9f3a"
             ],
             [
              0.8888888888888888,
              "#fdca26"
             ],
             [
              1,
              "#f0f921"
             ]
            ],
            "type": "contour"
           }
          ],
          "contourcarpet": [
           {
            "colorbar": {
             "outlinewidth": 0,
             "ticks": ""
            },
            "type": "contourcarpet"
           }
          ],
          "heatmap": [
           {
            "colorbar": {
             "outlinewidth": 0,
             "ticks": ""
            },
            "colorscale": [
             [
              0,
              "#0d0887"
             ],
             [
              0.1111111111111111,
              "#46039f"
             ],
             [
              0.2222222222222222,
              "#7201a8"
             ],
             [
              0.3333333333333333,
              "#9c179e"
             ],
             [
              0.4444444444444444,
              "#bd3786"
             ],
             [
              0.5555555555555556,
              "#d8576b"
             ],
             [
              0.6666666666666666,
              "#ed7953"
             ],
             [
              0.7777777777777778,
              "#fb9f3a"
             ],
             [
              0.8888888888888888,
              "#fdca26"
             ],
             [
              1,
              "#f0f921"
             ]
            ],
            "type": "heatmap"
           }
          ],
          "heatmapgl": [
           {
            "colorbar": {
             "outlinewidth": 0,
             "ticks": ""
            },
            "colorscale": [
             [
              0,
              "#0d0887"
             ],
             [
              0.1111111111111111,
              "#46039f"
             ],
             [
              0.2222222222222222,
              "#7201a8"
             ],
             [
              0.3333333333333333,
              "#9c179e"
             ],
             [
              0.4444444444444444,
              "#bd3786"
             ],
             [
              0.5555555555555556,
              "#d8576b"
             ],
             [
              0.6666666666666666,
              "#ed7953"
             ],
             [
              0.7777777777777778,
              "#fb9f3a"
             ],
             [
              0.8888888888888888,
              "#fdca26"
             ],
             [
              1,
              "#f0f921"
             ]
            ],
            "type": "heatmapgl"
           }
          ],
          "histogram": [
           {
            "marker": {
             "pattern": {
              "fillmode": "overlay",
              "size": 10,
              "solidity": 0.2
             }
            },
            "type": "histogram"
           }
          ],
          "histogram2d": [
           {
            "colorbar": {
             "outlinewidth": 0,
             "ticks": ""
            },
            "colorscale": [
             [
              0,
              "#0d0887"
             ],
             [
              0.1111111111111111,
              "#46039f"
             ],
             [
              0.2222222222222222,
              "#7201a8"
             ],
             [
              0.3333333333333333,
              "#9c179e"
             ],
             [
              0.4444444444444444,
              "#bd3786"
             ],
             [
              0.5555555555555556,
              "#d8576b"
             ],
             [
              0.6666666666666666,
              "#ed7953"
             ],
             [
              0.7777777777777778,
              "#fb9f3a"
             ],
             [
              0.8888888888888888,
              "#fdca26"
             ],
             [
              1,
              "#f0f921"
             ]
            ],
            "type": "histogram2d"
           }
          ],
          "histogram2dcontour": [
           {
            "colorbar": {
             "outlinewidth": 0,
             "ticks": ""
            },
            "colorscale": [
             [
              0,
              "#0d0887"
             ],
             [
              0.1111111111111111,
              "#46039f"
             ],
             [
              0.2222222222222222,
              "#7201a8"
             ],
             [
              0.3333333333333333,
              "#9c179e"
             ],
             [
              0.4444444444444444,
              "#bd3786"
             ],
             [
              0.5555555555555556,
              "#d8576b"
             ],
             [
              0.6666666666666666,
              "#ed7953"
             ],
             [
              0.7777777777777778,
              "#fb9f3a"
             ],
             [
              0.8888888888888888,
              "#fdca26"
             ],
             [
              1,
              "#f0f921"
             ]
            ],
            "type": "histogram2dcontour"
           }
          ],
          "mesh3d": [
           {
            "colorbar": {
             "outlinewidth": 0,
             "ticks": ""
            },
            "type": "mesh3d"
           }
          ],
          "parcoords": [
           {
            "line": {
             "colorbar": {
              "outlinewidth": 0,
              "ticks": ""
             }
            },
            "type": "parcoords"
           }
          ],
          "pie": [
           {
            "automargin": true,
            "type": "pie"
           }
          ],
          "scatter": [
           {
            "marker": {
             "colorbar": {
              "outlinewidth": 0,
              "ticks": ""
             }
            },
            "type": "scatter"
           }
          ],
          "scatter3d": [
           {
            "line": {
             "colorbar": {
              "outlinewidth": 0,
              "ticks": ""
             }
            },
            "marker": {
             "colorbar": {
              "outlinewidth": 0,
              "ticks": ""
             }
            },
            "type": "scatter3d"
           }
          ],
          "scattercarpet": [
           {
            "marker": {
             "colorbar": {
              "outlinewidth": 0,
              "ticks": ""
             }
            },
            "type": "scattercarpet"
           }
          ],
          "scattergeo": [
           {
            "marker": {
             "colorbar": {
              "outlinewidth": 0,
              "ticks": ""
             }
            },
            "type": "scattergeo"
           }
          ],
          "scattergl": [
           {
            "marker": {
             "colorbar": {
              "outlinewidth": 0,
              "ticks": ""
             }
            },
            "type": "scattergl"
           }
          ],
          "scattermapbox": [
           {
            "marker": {
             "colorbar": {
              "outlinewidth": 0,
              "ticks": ""
             }
            },
            "type": "scattermapbox"
           }
          ],
          "scatterpolar": [
           {
            "marker": {
             "colorbar": {
              "outlinewidth": 0,
              "ticks": ""
             }
            },
            "type": "scatterpolar"
           }
          ],
          "scatterpolargl": [
           {
            "marker": {
             "colorbar": {
              "outlinewidth": 0,
              "ticks": ""
             }
            },
            "type": "scatterpolargl"
           }
          ],
          "scatterternary": [
           {
            "marker": {
             "colorbar": {
              "outlinewidth": 0,
              "ticks": ""
             }
            },
            "type": "scatterternary"
           }
          ],
          "surface": [
           {
            "colorbar": {
             "outlinewidth": 0,
             "ticks": ""
            },
            "colorscale": [
             [
              0,
              "#0d0887"
             ],
             [
              0.1111111111111111,
              "#46039f"
             ],
             [
              0.2222222222222222,
              "#7201a8"
             ],
             [
              0.3333333333333333,
              "#9c179e"
             ],
             [
              0.4444444444444444,
              "#bd3786"
             ],
             [
              0.5555555555555556,
              "#d8576b"
             ],
             [
              0.6666666666666666,
              "#ed7953"
             ],
             [
              0.7777777777777778,
              "#fb9f3a"
             ],
             [
              0.8888888888888888,
              "#fdca26"
             ],
             [
              1,
              "#f0f921"
             ]
            ],
            "type": "surface"
           }
          ],
          "table": [
           {
            "cells": {
             "fill": {
              "color": "#EBF0F8"
             },
             "line": {
              "color": "white"
             }
            },
            "header": {
             "fill": {
              "color": "#C8D4E3"
             },
             "line": {
              "color": "white"
             }
            },
            "type": "table"
           }
          ]
         },
         "layout": {
          "annotationdefaults": {
           "arrowcolor": "#2a3f5f",
           "arrowhead": 0,
           "arrowwidth": 1
          },
          "autotypenumbers": "strict",
          "coloraxis": {
           "colorbar": {
            "outlinewidth": 0,
            "ticks": ""
           }
          },
          "colorscale": {
           "diverging": [
            [
             0,
             "#8e0152"
            ],
            [
             0.1,
             "#c51b7d"
            ],
            [
             0.2,
             "#de77ae"
            ],
            [
             0.3,
             "#f1b6da"
            ],
            [
             0.4,
             "#fde0ef"
            ],
            [
             0.5,
             "#f7f7f7"
            ],
            [
             0.6,
             "#e6f5d0"
            ],
            [
             0.7,
             "#b8e186"
            ],
            [
             0.8,
             "#7fbc41"
            ],
            [
             0.9,
             "#4d9221"
            ],
            [
             1,
             "#276419"
            ]
           ],
           "sequential": [
            [
             0,
             "#0d0887"
            ],
            [
             0.1111111111111111,
             "#46039f"
            ],
            [
             0.2222222222222222,
             "#7201a8"
            ],
            [
             0.3333333333333333,
             "#9c179e"
            ],
            [
             0.4444444444444444,
             "#bd3786"
            ],
            [
             0.5555555555555556,
             "#d8576b"
            ],
            [
             0.6666666666666666,
             "#ed7953"
            ],
            [
             0.7777777777777778,
             "#fb9f3a"
            ],
            [
             0.8888888888888888,
             "#fdca26"
            ],
            [
             1,
             "#f0f921"
            ]
           ],
           "sequentialminus": [
            [
             0,
             "#0d0887"
            ],
            [
             0.1111111111111111,
             "#46039f"
            ],
            [
             0.2222222222222222,
             "#7201a8"
            ],
            [
             0.3333333333333333,
             "#9c179e"
            ],
            [
             0.4444444444444444,
             "#bd3786"
            ],
            [
             0.5555555555555556,
             "#d8576b"
            ],
            [
             0.6666666666666666,
             "#ed7953"
            ],
            [
             0.7777777777777778,
             "#fb9f3a"
            ],
            [
             0.8888888888888888,
             "#fdca26"
            ],
            [
             1,
             "#f0f921"
            ]
           ]
          },
          "colorway": [
           "#636efa",
           "#EF553B",
           "#00cc96",
           "#ab63fa",
           "#FFA15A",
           "#19d3f3",
           "#FF6692",
           "#B6E880",
           "#FF97FF",
           "#FECB52"
          ],
          "font": {
           "color": "#2a3f5f"
          },
          "geo": {
           "bgcolor": "white",
           "lakecolor": "white",
           "landcolor": "#E5ECF6",
           "showlakes": true,
           "showland": true,
           "subunitcolor": "white"
          },
          "hoverlabel": {
           "align": "left"
          },
          "hovermode": "closest",
          "mapbox": {
           "style": "light"
          },
          "paper_bgcolor": "white",
          "plot_bgcolor": "#E5ECF6",
          "polar": {
           "angularaxis": {
            "gridcolor": "white",
            "linecolor": "white",
            "ticks": ""
           },
           "bgcolor": "#E5ECF6",
           "radialaxis": {
            "gridcolor": "white",
            "linecolor": "white",
            "ticks": ""
           }
          },
          "scene": {
           "xaxis": {
            "backgroundcolor": "#E5ECF6",
            "gridcolor": "white",
            "gridwidth": 2,
            "linecolor": "white",
            "showbackground": true,
            "ticks": "",
            "zerolinecolor": "white"
           },
           "yaxis": {
            "backgroundcolor": "#E5ECF6",
            "gridcolor": "white",
            "gridwidth": 2,
            "linecolor": "white",
            "showbackground": true,
            "ticks": "",
            "zerolinecolor": "white"
           },
           "zaxis": {
            "backgroundcolor": "#E5ECF6",
            "gridcolor": "white",
            "gridwidth": 2,
            "linecolor": "white",
            "showbackground": true,
            "ticks": "",
            "zerolinecolor": "white"
           }
          },
          "shapedefaults": {
           "line": {
            "color": "#2a3f5f"
           }
          },
          "ternary": {
           "aaxis": {
            "gridcolor": "white",
            "linecolor": "white",
            "ticks": ""
           },
           "baxis": {
            "gridcolor": "white",
            "linecolor": "white",
            "ticks": ""
           },
           "bgcolor": "#E5ECF6",
           "caxis": {
            "gridcolor": "white",
            "linecolor": "white",
            "ticks": ""
           }
          },
          "title": {
           "x": 0.05
          },
          "xaxis": {
           "automargin": true,
           "gridcolor": "white",
           "linecolor": "white",
           "ticks": "",
           "title": {
            "standoff": 15
           },
           "zerolinecolor": "white",
           "zerolinewidth": 2
          },
          "yaxis": {
           "automargin": true,
           "gridcolor": "white",
           "linecolor": "white",
           "ticks": "",
           "title": {
            "standoff": 15
           },
           "zerolinecolor": "white",
           "zerolinewidth": 2
          }
         }
        },
        "title": {
         "text": "UB Science majors based on the first choice 2019"
        },
        "xaxis": {
         "anchor": "y",
         "domain": [
          0,
          1
         ],
         "title": {
          "text": ""
         }
        },
        "yaxis": {
         "anchor": "x",
         "domain": [
          0,
          1
         ],
         "title": {
          "text": "Majors"
         }
        }
       }
      }
     },
     "metadata": {},
     "output_type": "display_data"
    },
    {
     "data": {
      "application/vnd.plotly.v1+json": {
       "config": {
        "plotlyServerURL": "https://plot.ly"
       },
       "data": [
        {
         "alignmentgroup": "True",
         "cliponaxis": true,
         "hovertemplate": "variable=Capacity<br>value=%{x}<br>first_major=%{y}<extra></extra>",
         "legendgroup": "Capacity",
         "marker": {
          "color": "#00cc96",
          "pattern": {
           "shape": "x"
          }
         },
         "name": "Capacity",
         "offsetgroup": "Capacity",
         "orientation": "h",
         "showlegend": true,
         "textangle": 0,
         "textfont": {
          "size": 16
         },
         "textposition": "outside",
         "texttemplate": "%{x}",
         "type": "bar",
         "x": [
          9,
          11,
          11,
          12,
          12,
          16,
          22,
          14,
          11,
          19,
          11,
          20,
          22,
          27,
          20,
          26,
          22,
          27,
          25,
          25,
          27,
          44,
          54,
          33,
          35,
          44,
          62,
          104
         ],
         "xaxis": "x",
         "y": [
          "SENI RUPA MURNI",
          "PENDIDIKAN BHS & SASTRA JEPANG",
          "BAHASA DAN SASTRA PERANCIS",
          "SASTRA CINA",
          "ADMINISTRASI PENDIDIKAN",
          "PENDIDIKAN BHS & SASTRA INDONESIA",
          "PENDIDIKAN BHS & SASTRA INGGRIS",
          "ILMU PERPUSTAKAAN",
          "KEWIRAUSAHAAN",
          "SASTRA JEPANG",
          "ANTROPOLOGI SOSIAL",
          "EKONOMI ISLAM",
          "SASTRA INGGRIS",
          "ILMU PEMERINTAHAN",
          "EKONOMI PEMBANGUNAN",
          "ILMU POLITIK",
          "PARIWISATA",
          "SOSIOLOGI",
          "EKONOMI, KEUANGAN DAN PERBANKAN",
          "ADMINISTRASI PERPAJAKAN",
          "HUBUNGAN INTERNASIONAL",
          "AKUNTANSI",
          "ILMU ADMINISTRASI PUBLIK",
          "ILMU KOMUNIKASI",
          "PSIKOLOGI",
          "MANAJEMEN",
          "ILMU ADMINISTRASI BISNIS",
          "ILMU HUKUM"
         ],
         "yaxis": "y"
        },
        {
         "alignmentgroup": "True",
         "cliponaxis": true,
         "hovertemplate": "variable=Total choices<br>value=%{x}<br>first_major=%{y}<extra></extra>",
         "legendgroup": "Total choices",
         "marker": {
          "color": "#ab63fa",
          "pattern": {
           "shape": "x"
          }
         },
         "name": "Total choices",
         "offsetgroup": "Total choices",
         "orientation": "h",
         "showlegend": true,
         "textangle": 0,
         "textfont": {
          "size": 16
         },
         "textposition": "outside",
         "texttemplate": "%{x}",
         "type": "bar",
         "x": [
          14,
          24,
          39,
          41,
          46,
          46,
          51,
          52,
          64,
          68,
          70,
          88,
          89,
          92,
          107,
          108,
          112,
          115,
          123,
          148,
          151,
          182,
          201,
          224,
          225,
          260,
          277,
          454
         ],
         "xaxis": "x",
         "y": [
          "SENI RUPA MURNI",
          "PENDIDIKAN BHS & SASTRA JEPANG",
          "BAHASA DAN SASTRA PERANCIS",
          "SASTRA CINA",
          "ADMINISTRASI PENDIDIKAN",
          "PENDIDIKAN BHS & SASTRA INDONESIA",
          "PENDIDIKAN BHS & SASTRA INGGRIS",
          "ILMU PERPUSTAKAAN",
          "KEWIRAUSAHAAN",
          "SASTRA JEPANG",
          "ANTROPOLOGI SOSIAL",
          "EKONOMI ISLAM",
          "SASTRA INGGRIS",
          "ILMU PEMERINTAHAN",
          "EKONOMI PEMBANGUNAN",
          "ILMU POLITIK",
          "PARIWISATA",
          "SOSIOLOGI",
          "EKONOMI, KEUANGAN DAN PERBANKAN",
          "ADMINISTRASI PERPAJAKAN",
          "HUBUNGAN INTERNASIONAL",
          "AKUNTANSI",
          "ILMU ADMINISTRASI PUBLIK",
          "ILMU KOMUNIKASI",
          "PSIKOLOGI",
          "MANAJEMEN",
          "ILMU ADMINISTRASI BISNIS",
          "ILMU HUKUM"
         ],
         "yaxis": "y"
        }
       ],
       "layout": {
        "barmode": "group",
        "height": 1000,
        "legend": {
         "title": {
          "text": "variable"
         },
         "tracegroupgap": 0
        },
        "margin": {
         "t": 60
        },
        "template": {
         "data": {
          "bar": [
           {
            "error_x": {
             "color": "#2a3f5f"
            },
            "error_y": {
             "color": "#2a3f5f"
            },
            "marker": {
             "line": {
              "color": "#E5ECF6",
              "width": 0.5
             },
             "pattern": {
              "fillmode": "overlay",
              "size": 10,
              "solidity": 0.2
             }
            },
            "type": "bar"
           }
          ],
          "barpolar": [
           {
            "marker": {
             "line": {
              "color": "#E5ECF6",
              "width": 0.5
             },
             "pattern": {
              "fillmode": "overlay",
              "size": 10,
              "solidity": 0.2
             }
            },
            "type": "barpolar"
           }
          ],
          "carpet": [
           {
            "aaxis": {
             "endlinecolor": "#2a3f5f",
             "gridcolor": "white",
             "linecolor": "white",
             "minorgridcolor": "white",
             "startlinecolor": "#2a3f5f"
            },
            "baxis": {
             "endlinecolor": "#2a3f5f",
             "gridcolor": "white",
             "linecolor": "white",
             "minorgridcolor": "white",
             "startlinecolor": "#2a3f5f"
            },
            "type": "carpet"
           }
          ],
          "choropleth": [
           {
            "colorbar": {
             "outlinewidth": 0,
             "ticks": ""
            },
            "type": "choropleth"
           }
          ],
          "contour": [
           {
            "colorbar": {
             "outlinewidth": 0,
             "ticks": ""
            },
            "colorscale": [
             [
              0,
              "#0d0887"
             ],
             [
              0.1111111111111111,
              "#46039f"
             ],
             [
              0.2222222222222222,
              "#7201a8"
             ],
             [
              0.3333333333333333,
              "#9c179e"
             ],
             [
              0.4444444444444444,
              "#bd3786"
             ],
             [
              0.5555555555555556,
              "#d8576b"
             ],
             [
              0.6666666666666666,
              "#ed7953"
             ],
             [
              0.7777777777777778,
              "#fb9f3a"
             ],
             [
              0.8888888888888888,
              "#fdca26"
             ],
             [
              1,
              "#f0f921"
             ]
            ],
            "type": "contour"
           }
          ],
          "contourcarpet": [
           {
            "colorbar": {
             "outlinewidth": 0,
             "ticks": ""
            },
            "type": "contourcarpet"
           }
          ],
          "heatmap": [
           {
            "colorbar": {
             "outlinewidth": 0,
             "ticks": ""
            },
            "colorscale": [
             [
              0,
              "#0d0887"
             ],
             [
              0.1111111111111111,
              "#46039f"
             ],
             [
              0.2222222222222222,
              "#7201a8"
             ],
             [
              0.3333333333333333,
              "#9c179e"
             ],
             [
              0.4444444444444444,
              "#bd3786"
             ],
             [
              0.5555555555555556,
              "#d8576b"
             ],
             [
              0.6666666666666666,
              "#ed7953"
             ],
             [
              0.7777777777777778,
              "#fb9f3a"
             ],
             [
              0.8888888888888888,
              "#fdca26"
             ],
             [
              1,
              "#f0f921"
             ]
            ],
            "type": "heatmap"
           }
          ],
          "heatmapgl": [
           {
            "colorbar": {
             "outlinewidth": 0,
             "ticks": ""
            },
            "colorscale": [
             [
              0,
              "#0d0887"
             ],
             [
              0.1111111111111111,
              "#46039f"
             ],
             [
              0.2222222222222222,
              "#7201a8"
             ],
             [
              0.3333333333333333,
              "#9c179e"
             ],
             [
              0.4444444444444444,
              "#bd3786"
             ],
             [
              0.5555555555555556,
              "#d8576b"
             ],
             [
              0.6666666666666666,
              "#ed7953"
             ],
             [
              0.7777777777777778,
              "#fb9f3a"
             ],
             [
              0.8888888888888888,
              "#fdca26"
             ],
             [
              1,
              "#f0f921"
             ]
            ],
            "type": "heatmapgl"
           }
          ],
          "histogram": [
           {
            "marker": {
             "pattern": {
              "fillmode": "overlay",
              "size": 10,
              "solidity": 0.2
             }
            },
            "type": "histogram"
           }
          ],
          "histogram2d": [
           {
            "colorbar": {
             "outlinewidth": 0,
             "ticks": ""
            },
            "colorscale": [
             [
              0,
              "#0d0887"
             ],
             [
              0.1111111111111111,
              "#46039f"
             ],
             [
              0.2222222222222222,
              "#7201a8"
             ],
             [
              0.3333333333333333,
              "#9c179e"
             ],
             [
              0.4444444444444444,
              "#bd3786"
             ],
             [
              0.5555555555555556,
              "#d8576b"
             ],
             [
              0.6666666666666666,
              "#ed7953"
             ],
             [
              0.7777777777777778,
              "#fb9f3a"
             ],
             [
              0.8888888888888888,
              "#fdca26"
             ],
             [
              1,
              "#f0f921"
             ]
            ],
            "type": "histogram2d"
           }
          ],
          "histogram2dcontour": [
           {
            "colorbar": {
             "outlinewidth": 0,
             "ticks": ""
            },
            "colorscale": [
             [
              0,
              "#0d0887"
             ],
             [
              0.1111111111111111,
              "#46039f"
             ],
             [
              0.2222222222222222,
              "#7201a8"
             ],
             [
              0.3333333333333333,
              "#9c179e"
             ],
             [
              0.4444444444444444,
              "#bd3786"
             ],
             [
              0.5555555555555556,
              "#d8576b"
             ],
             [
              0.6666666666666666,
              "#ed7953"
             ],
             [
              0.7777777777777778,
              "#fb9f3a"
             ],
             [
              0.8888888888888888,
              "#fdca26"
             ],
             [
              1,
              "#f0f921"
             ]
            ],
            "type": "histogram2dcontour"
           }
          ],
          "mesh3d": [
           {
            "colorbar": {
             "outlinewidth": 0,
             "ticks": ""
            },
            "type": "mesh3d"
           }
          ],
          "parcoords": [
           {
            "line": {
             "colorbar": {
              "outlinewidth": 0,
              "ticks": ""
             }
            },
            "type": "parcoords"
           }
          ],
          "pie": [
           {
            "automargin": true,
            "type": "pie"
           }
          ],
          "scatter": [
           {
            "marker": {
             "colorbar": {
              "outlinewidth": 0,
              "ticks": ""
             }
            },
            "type": "scatter"
           }
          ],
          "scatter3d": [
           {
            "line": {
             "colorbar": {
              "outlinewidth": 0,
              "ticks": ""
             }
            },
            "marker": {
             "colorbar": {
              "outlinewidth": 0,
              "ticks": ""
             }
            },
            "type": "scatter3d"
           }
          ],
          "scattercarpet": [
           {
            "marker": {
             "colorbar": {
              "outlinewidth": 0,
              "ticks": ""
             }
            },
            "type": "scattercarpet"
           }
          ],
          "scattergeo": [
           {
            "marker": {
             "colorbar": {
              "outlinewidth": 0,
              "ticks": ""
             }
            },
            "type": "scattergeo"
           }
          ],
          "scattergl": [
           {
            "marker": {
             "colorbar": {
              "outlinewidth": 0,
              "ticks": ""
             }
            },
            "type": "scattergl"
           }
          ],
          "scattermapbox": [
           {
            "marker": {
             "colorbar": {
              "outlinewidth": 0,
              "ticks": ""
             }
            },
            "type": "scattermapbox"
           }
          ],
          "scatterpolar": [
           {
            "marker": {
             "colorbar": {
              "outlinewidth": 0,
              "ticks": ""
             }
            },
            "type": "scatterpolar"
           }
          ],
          "scatterpolargl": [
           {
            "marker": {
             "colorbar": {
              "outlinewidth": 0,
              "ticks": ""
             }
            },
            "type": "scatterpolargl"
           }
          ],
          "scatterternary": [
           {
            "marker": {
             "colorbar": {
              "outlinewidth": 0,
              "ticks": ""
             }
            },
            "type": "scatterternary"
           }
          ],
          "surface": [
           {
            "colorbar": {
             "outlinewidth": 0,
             "ticks": ""
            },
            "colorscale": [
             [
              0,
              "#0d0887"
             ],
             [
              0.1111111111111111,
              "#46039f"
             ],
             [
              0.2222222222222222,
              "#7201a8"
             ],
             [
              0.3333333333333333,
              "#9c179e"
             ],
             [
              0.4444444444444444,
              "#bd3786"
             ],
             [
              0.5555555555555556,
              "#d8576b"
             ],
             [
              0.6666666666666666,
              "#ed7953"
             ],
             [
              0.7777777777777778,
              "#fb9f3a"
             ],
             [
              0.8888888888888888,
              "#fdca26"
             ],
             [
              1,
              "#f0f921"
             ]
            ],
            "type": "surface"
           }
          ],
          "table": [
           {
            "cells": {
             "fill": {
              "color": "#EBF0F8"
             },
             "line": {
              "color": "white"
             }
            },
            "header": {
             "fill": {
              "color": "#C8D4E3"
             },
             "line": {
              "color": "white"
             }
            },
            "type": "table"
           }
          ]
         },
         "layout": {
          "annotationdefaults": {
           "arrowcolor": "#2a3f5f",
           "arrowhead": 0,
           "arrowwidth": 1
          },
          "autotypenumbers": "strict",
          "coloraxis": {
           "colorbar": {
            "outlinewidth": 0,
            "ticks": ""
           }
          },
          "colorscale": {
           "diverging": [
            [
             0,
             "#8e0152"
            ],
            [
             0.1,
             "#c51b7d"
            ],
            [
             0.2,
             "#de77ae"
            ],
            [
             0.3,
             "#f1b6da"
            ],
            [
             0.4,
             "#fde0ef"
            ],
            [
             0.5,
             "#f7f7f7"
            ],
            [
             0.6,
             "#e6f5d0"
            ],
            [
             0.7,
             "#b8e186"
            ],
            [
             0.8,
             "#7fbc41"
            ],
            [
             0.9,
             "#4d9221"
            ],
            [
             1,
             "#276419"
            ]
           ],
           "sequential": [
            [
             0,
             "#0d0887"
            ],
            [
             0.1111111111111111,
             "#46039f"
            ],
            [
             0.2222222222222222,
             "#7201a8"
            ],
            [
             0.3333333333333333,
             "#9c179e"
            ],
            [
             0.4444444444444444,
             "#bd3786"
            ],
            [
             0.5555555555555556,
             "#d8576b"
            ],
            [
             0.6666666666666666,
             "#ed7953"
            ],
            [
             0.7777777777777778,
             "#fb9f3a"
            ],
            [
             0.8888888888888888,
             "#fdca26"
            ],
            [
             1,
             "#f0f921"
            ]
           ],
           "sequentialminus": [
            [
             0,
             "#0d0887"
            ],
            [
             0.1111111111111111,
             "#46039f"
            ],
            [
             0.2222222222222222,
             "#7201a8"
            ],
            [
             0.3333333333333333,
             "#9c179e"
            ],
            [
             0.4444444444444444,
             "#bd3786"
            ],
            [
             0.5555555555555556,
             "#d8576b"
            ],
            [
             0.6666666666666666,
             "#ed7953"
            ],
            [
             0.7777777777777778,
             "#fb9f3a"
            ],
            [
             0.8888888888888888,
             "#fdca26"
            ],
            [
             1,
             "#f0f921"
            ]
           ]
          },
          "colorway": [
           "#636efa",
           "#EF553B",
           "#00cc96",
           "#ab63fa",
           "#FFA15A",
           "#19d3f3",
           "#FF6692",
           "#B6E880",
           "#FF97FF",
           "#FECB52"
          ],
          "font": {
           "color": "#2a3f5f"
          },
          "geo": {
           "bgcolor": "white",
           "lakecolor": "white",
           "landcolor": "#E5ECF6",
           "showlakes": true,
           "showland": true,
           "subunitcolor": "white"
          },
          "hoverlabel": {
           "align": "left"
          },
          "hovermode": "closest",
          "mapbox": {
           "style": "light"
          },
          "paper_bgcolor": "white",
          "plot_bgcolor": "#E5ECF6",
          "polar": {
           "angularaxis": {
            "gridcolor": "white",
            "linecolor": "white",
            "ticks": ""
           },
           "bgcolor": "#E5ECF6",
           "radialaxis": {
            "gridcolor": "white",
            "linecolor": "white",
            "ticks": ""
           }
          },
          "scene": {
           "xaxis": {
            "backgroundcolor": "#E5ECF6",
            "gridcolor": "white",
            "gridwidth": 2,
            "linecolor": "white",
            "showbackground": true,
            "ticks": "",
            "zerolinecolor": "white"
           },
           "yaxis": {
            "backgroundcolor": "#E5ECF6",
            "gridcolor": "white",
            "gridwidth": 2,
            "linecolor": "white",
            "showbackground": true,
            "ticks": "",
            "zerolinecolor": "white"
           },
           "zaxis": {
            "backgroundcolor": "#E5ECF6",
            "gridcolor": "white",
            "gridwidth": 2,
            "linecolor": "white",
            "showbackground": true,
            "ticks": "",
            "zerolinecolor": "white"
           }
          },
          "shapedefaults": {
           "line": {
            "color": "#2a3f5f"
           }
          },
          "ternary": {
           "aaxis": {
            "gridcolor": "white",
            "linecolor": "white",
            "ticks": ""
           },
           "baxis": {
            "gridcolor": "white",
            "linecolor": "white",
            "ticks": ""
           },
           "bgcolor": "#E5ECF6",
           "caxis": {
            "gridcolor": "white",
            "linecolor": "white",
            "ticks": ""
           }
          },
          "title": {
           "x": 0.05
          },
          "xaxis": {
           "automargin": true,
           "gridcolor": "white",
           "linecolor": "white",
           "ticks": "",
           "title": {
            "standoff": 15
           },
           "zerolinecolor": "white",
           "zerolinewidth": 2
          },
          "yaxis": {
           "automargin": true,
           "gridcolor": "white",
           "linecolor": "white",
           "ticks": "",
           "title": {
            "standoff": 15
           },
           "zerolinecolor": "white",
           "zerolinewidth": 2
          }
         }
        },
        "title": {
         "text": "UB Humanities majors based on the first choice 2019"
        },
        "xaxis": {
         "anchor": "y",
         "domain": [
          0,
          1
         ],
         "title": {
          "text": ""
         }
        },
        "yaxis": {
         "anchor": "x",
         "domain": [
          0,
          1
         ],
         "title": {
          "text": "Majors"
         }
        }
       }
      }
     },
     "metadata": {},
     "output_type": "display_data"
    }
   ],
   "source": [
    "#science\n",
    "fig = px.bar(data_frame=a,y='first_major',x=['Capacity','Total choices'],barmode='group',height=1400,text_auto=True,pattern_shape_sequence=[\"x\"],)\n",
    "fig.update_layout(title='UB Science majors based on the first choice 2019',xaxis_title='',yaxis_title='Majors')\n",
    "fig.update_traces(textfont_size=36, textangle=0, textposition=\"outside\", cliponaxis=False)\n",
    "fig.show()\n",
    "\n",
    "#humanities\n",
    "fig = px.bar(data_frame=b,y='first_major',x=['Capacity','Total choices'],barmode='group',height=1000,text_auto=True,pattern_shape_sequence=[\"x\"],color_discrete_map={\n",
    "        'Total choicess': 'purple',\n",
    "        'some_other_group': 'green'\n",
    "    })\n",
    "fig.update_layout(title='UB Humanities majors based on the first choice 2019',xaxis_title='',yaxis_title='Majors')\n",
    "fig.update_traces(textfont_size=16, textangle=0, textposition=\"outside\", cliponaxis=True)\n",
    "fig.show()"
   ]
  },
  {
   "cell_type": "markdown",
   "metadata": {},
   "source": [
    "![UB Science majors based on the first choice 2019](photos/UB%20Science%20majors%20based%20on%20the%20first%20choice%202019.png)"
   ]
  },
  {
   "cell_type": "markdown",
   "metadata": {},
   "source": [
    "!['UB Humanities majors based on the first choice 2019'](photos/UB%20Humanities%20majors%20based%20on%20the%20first%20choice%202019.png)"
   ]
  },
  {
   "cell_type": "code",
   "execution_count": 64,
   "metadata": {},
   "outputs": [],
   "source": [
    "a['Percentage'] = (a['Capacity']/a['Total choices'])*100\n",
    "a['Percentage'] = a['Percentage'].apply(lambda x: f\"{x:.3f}\")\n",
    "a = a.sort_values('Percentage',ascending=True,ignore_index=True)\n",
    "b['Percentage'] = (b['Capacity']/b['Total choices'])*100\n",
    "b['Percentage'] = b['Percentage'].apply(lambda x: f\"{x:.3f}\")\n",
    "b = b.sort_values('Percentage',ascending=True,ignore_index=True)"
   ]
  },
  {
   "cell_type": "code",
   "execution_count": 65,
   "metadata": {},
   "outputs": [
    {
     "data": {
      "application/vnd.plotly.v1+json": {
       "config": {
        "plotlyServerURL": "https://plot.ly"
       },
       "data": [
        {
         "domain": {
          "x": [
           0,
           1
          ],
          "y": [
           0,
           1
          ]
         },
         "hovertemplate": "label=%{label}<br>value=%{value}<extra></extra>",
         "labels": [
          "ILMU GIZI",
          "PENDIDIKAN DOKTER GIGI",
          "PENDIDIKAN DOKTER",
          "TEKNIK SIPIL",
          "FARMASI",
          "PERENCANAAN WILAYAH & KOTA",
          "TEKNIK LINGKUNGAN",
          "ARSITEKTUR",
          "TEKNIK INDUSTRI",
          "ILMU DAN TEKNOLOGI PANGAN"
         ],
         "legendgroup": "",
         "marker": {
          "colors": [
           "gold",
           "mediumturquoise",
           "darkorange",
           "lightgreen"
          ],
          "line": {
           "color": "#000000",
           "width": 1
          }
         },
         "name": "",
         "showlegend": true,
         "textinfo": "value+label",
         "textposition": "inside",
         "type": "pie",
         "values": [
          9.091,
          9.639,
          10.87,
          11.29,
          11.515,
          12.556,
          12.821,
          13.27,
          13.913,
          13.99
         ]
        }
       ],
       "layout": {
        "height": 600,
        "legend": {
         "tracegroupgap": 0
        },
        "margin": {
         "t": 60
        },
        "template": {
         "data": {
          "bar": [
           {
            "error_x": {
             "color": "#2a3f5f"
            },
            "error_y": {
             "color": "#2a3f5f"
            },
            "marker": {
             "line": {
              "color": "#E5ECF6",
              "width": 0.5
             },
             "pattern": {
              "fillmode": "overlay",
              "size": 10,
              "solidity": 0.2
             }
            },
            "type": "bar"
           }
          ],
          "barpolar": [
           {
            "marker": {
             "line": {
              "color": "#E5ECF6",
              "width": 0.5
             },
             "pattern": {
              "fillmode": "overlay",
              "size": 10,
              "solidity": 0.2
             }
            },
            "type": "barpolar"
           }
          ],
          "carpet": [
           {
            "aaxis": {
             "endlinecolor": "#2a3f5f",
             "gridcolor": "white",
             "linecolor": "white",
             "minorgridcolor": "white",
             "startlinecolor": "#2a3f5f"
            },
            "baxis": {
             "endlinecolor": "#2a3f5f",
             "gridcolor": "white",
             "linecolor": "white",
             "minorgridcolor": "white",
             "startlinecolor": "#2a3f5f"
            },
            "type": "carpet"
           }
          ],
          "choropleth": [
           {
            "colorbar": {
             "outlinewidth": 0,
             "ticks": ""
            },
            "type": "choropleth"
           }
          ],
          "contour": [
           {
            "colorbar": {
             "outlinewidth": 0,
             "ticks": ""
            },
            "colorscale": [
             [
              0,
              "#0d0887"
             ],
             [
              0.1111111111111111,
              "#46039f"
             ],
             [
              0.2222222222222222,
              "#7201a8"
             ],
             [
              0.3333333333333333,
              "#9c179e"
             ],
             [
              0.4444444444444444,
              "#bd3786"
             ],
             [
              0.5555555555555556,
              "#d8576b"
             ],
             [
              0.6666666666666666,
              "#ed7953"
             ],
             [
              0.7777777777777778,
              "#fb9f3a"
             ],
             [
              0.8888888888888888,
              "#fdca26"
             ],
             [
              1,
              "#f0f921"
             ]
            ],
            "type": "contour"
           }
          ],
          "contourcarpet": [
           {
            "colorbar": {
             "outlinewidth": 0,
             "ticks": ""
            },
            "type": "contourcarpet"
           }
          ],
          "heatmap": [
           {
            "colorbar": {
             "outlinewidth": 0,
             "ticks": ""
            },
            "colorscale": [
             [
              0,
              "#0d0887"
             ],
             [
              0.1111111111111111,
              "#46039f"
             ],
             [
              0.2222222222222222,
              "#7201a8"
             ],
             [
              0.3333333333333333,
              "#9c179e"
             ],
             [
              0.4444444444444444,
              "#bd3786"
             ],
             [
              0.5555555555555556,
              "#d8576b"
             ],
             [
              0.6666666666666666,
              "#ed7953"
             ],
             [
              0.7777777777777778,
              "#fb9f3a"
             ],
             [
              0.8888888888888888,
              "#fdca26"
             ],
             [
              1,
              "#f0f921"
             ]
            ],
            "type": "heatmap"
           }
          ],
          "heatmapgl": [
           {
            "colorbar": {
             "outlinewidth": 0,
             "ticks": ""
            },
            "colorscale": [
             [
              0,
              "#0d0887"
             ],
             [
              0.1111111111111111,
              "#46039f"
             ],
             [
              0.2222222222222222,
              "#7201a8"
             ],
             [
              0.3333333333333333,
              "#9c179e"
             ],
             [
              0.4444444444444444,
              "#bd3786"
             ],
             [
              0.5555555555555556,
              "#d8576b"
             ],
             [
              0.6666666666666666,
              "#ed7953"
             ],
             [
              0.7777777777777778,
              "#fb9f3a"
             ],
             [
              0.8888888888888888,
              "#fdca26"
             ],
             [
              1,
              "#f0f921"
             ]
            ],
            "type": "heatmapgl"
           }
          ],
          "histogram": [
           {
            "marker": {
             "pattern": {
              "fillmode": "overlay",
              "size": 10,
              "solidity": 0.2
             }
            },
            "type": "histogram"
           }
          ],
          "histogram2d": [
           {
            "colorbar": {
             "outlinewidth": 0,
             "ticks": ""
            },
            "colorscale": [
             [
              0,
              "#0d0887"
             ],
             [
              0.1111111111111111,
              "#46039f"
             ],
             [
              0.2222222222222222,
              "#7201a8"
             ],
             [
              0.3333333333333333,
              "#9c179e"
             ],
             [
              0.4444444444444444,
              "#bd3786"
             ],
             [
              0.5555555555555556,
              "#d8576b"
             ],
             [
              0.6666666666666666,
              "#ed7953"
             ],
             [
              0.7777777777777778,
              "#fb9f3a"
             ],
             [
              0.8888888888888888,
              "#fdca26"
             ],
             [
              1,
              "#f0f921"
             ]
            ],
            "type": "histogram2d"
           }
          ],
          "histogram2dcontour": [
           {
            "colorbar": {
             "outlinewidth": 0,
             "ticks": ""
            },
            "colorscale": [
             [
              0,
              "#0d0887"
             ],
             [
              0.1111111111111111,
              "#46039f"
             ],
             [
              0.2222222222222222,
              "#7201a8"
             ],
             [
              0.3333333333333333,
              "#9c179e"
             ],
             [
              0.4444444444444444,
              "#bd3786"
             ],
             [
              0.5555555555555556,
              "#d8576b"
             ],
             [
              0.6666666666666666,
              "#ed7953"
             ],
             [
              0.7777777777777778,
              "#fb9f3a"
             ],
             [
              0.8888888888888888,
              "#fdca26"
             ],
             [
              1,
              "#f0f921"
             ]
            ],
            "type": "histogram2dcontour"
           }
          ],
          "mesh3d": [
           {
            "colorbar": {
             "outlinewidth": 0,
             "ticks": ""
            },
            "type": "mesh3d"
           }
          ],
          "parcoords": [
           {
            "line": {
             "colorbar": {
              "outlinewidth": 0,
              "ticks": ""
             }
            },
            "type": "parcoords"
           }
          ],
          "pie": [
           {
            "automargin": true,
            "type": "pie"
           }
          ],
          "scatter": [
           {
            "marker": {
             "colorbar": {
              "outlinewidth": 0,
              "ticks": ""
             }
            },
            "type": "scatter"
           }
          ],
          "scatter3d": [
           {
            "line": {
             "colorbar": {
              "outlinewidth": 0,
              "ticks": ""
             }
            },
            "marker": {
             "colorbar": {
              "outlinewidth": 0,
              "ticks": ""
             }
            },
            "type": "scatter3d"
           }
          ],
          "scattercarpet": [
           {
            "marker": {
             "colorbar": {
              "outlinewidth": 0,
              "ticks": ""
             }
            },
            "type": "scattercarpet"
           }
          ],
          "scattergeo": [
           {
            "marker": {
             "colorbar": {
              "outlinewidth": 0,
              "ticks": ""
             }
            },
            "type": "scattergeo"
           }
          ],
          "scattergl": [
           {
            "marker": {
             "colorbar": {
              "outlinewidth": 0,
              "ticks": ""
             }
            },
            "type": "scattergl"
           }
          ],
          "scattermapbox": [
           {
            "marker": {
             "colorbar": {
              "outlinewidth": 0,
              "ticks": ""
             }
            },
            "type": "scattermapbox"
           }
          ],
          "scatterpolar": [
           {
            "marker": {
             "colorbar": {
              "outlinewidth": 0,
              "ticks": ""
             }
            },
            "type": "scatterpolar"
           }
          ],
          "scatterpolargl": [
           {
            "marker": {
             "colorbar": {
              "outlinewidth": 0,
              "ticks": ""
             }
            },
            "type": "scatterpolargl"
           }
          ],
          "scatterternary": [
           {
            "marker": {
             "colorbar": {
              "outlinewidth": 0,
              "ticks": ""
             }
            },
            "type": "scatterternary"
           }
          ],
          "surface": [
           {
            "colorbar": {
             "outlinewidth": 0,
             "ticks": ""
            },
            "colorscale": [
             [
              0,
              "#0d0887"
             ],
             [
              0.1111111111111111,
              "#46039f"
             ],
             [
              0.2222222222222222,
              "#7201a8"
             ],
             [
              0.3333333333333333,
              "#9c179e"
             ],
             [
              0.4444444444444444,
              "#bd3786"
             ],
             [
              0.5555555555555556,
              "#d8576b"
             ],
             [
              0.6666666666666666,
              "#ed7953"
             ],
             [
              0.7777777777777778,
              "#fb9f3a"
             ],
             [
              0.8888888888888888,
              "#fdca26"
             ],
             [
              1,
              "#f0f921"
             ]
            ],
            "type": "surface"
           }
          ],
          "table": [
           {
            "cells": {
             "fill": {
              "color": "#EBF0F8"
             },
             "line": {
              "color": "white"
             }
            },
            "header": {
             "fill": {
              "color": "#C8D4E3"
             },
             "line": {
              "color": "white"
             }
            },
            "type": "table"
           }
          ]
         },
         "layout": {
          "annotationdefaults": {
           "arrowcolor": "#2a3f5f",
           "arrowhead": 0,
           "arrowwidth": 1
          },
          "autotypenumbers": "strict",
          "coloraxis": {
           "colorbar": {
            "outlinewidth": 0,
            "ticks": ""
           }
          },
          "colorscale": {
           "diverging": [
            [
             0,
             "#8e0152"
            ],
            [
             0.1,
             "#c51b7d"
            ],
            [
             0.2,
             "#de77ae"
            ],
            [
             0.3,
             "#f1b6da"
            ],
            [
             0.4,
             "#fde0ef"
            ],
            [
             0.5,
             "#f7f7f7"
            ],
            [
             0.6,
             "#e6f5d0"
            ],
            [
             0.7,
             "#b8e186"
            ],
            [
             0.8,
             "#7fbc41"
            ],
            [
             0.9,
             "#4d9221"
            ],
            [
             1,
             "#276419"
            ]
           ],
           "sequential": [
            [
             0,
             "#0d0887"
            ],
            [
             0.1111111111111111,
             "#46039f"
            ],
            [
             0.2222222222222222,
             "#7201a8"
            ],
            [
             0.3333333333333333,
             "#9c179e"
            ],
            [
             0.4444444444444444,
             "#bd3786"
            ],
            [
             0.5555555555555556,
             "#d8576b"
            ],
            [
             0.6666666666666666,
             "#ed7953"
            ],
            [
             0.7777777777777778,
             "#fb9f3a"
            ],
            [
             0.8888888888888888,
             "#fdca26"
            ],
            [
             1,
             "#f0f921"
            ]
           ],
           "sequentialminus": [
            [
             0,
             "#0d0887"
            ],
            [
             0.1111111111111111,
             "#46039f"
            ],
            [
             0.2222222222222222,
             "#7201a8"
            ],
            [
             0.3333333333333333,
             "#9c179e"
            ],
            [
             0.4444444444444444,
             "#bd3786"
            ],
            [
             0.5555555555555556,
             "#d8576b"
            ],
            [
             0.6666666666666666,
             "#ed7953"
            ],
            [
             0.7777777777777778,
             "#fb9f3a"
            ],
            [
             0.8888888888888888,
             "#fdca26"
            ],
            [
             1,
             "#f0f921"
            ]
           ]
          },
          "colorway": [
           "#636efa",
           "#EF553B",
           "#00cc96",
           "#ab63fa",
           "#FFA15A",
           "#19d3f3",
           "#FF6692",
           "#B6E880",
           "#FF97FF",
           "#FECB52"
          ],
          "font": {
           "color": "#2a3f5f"
          },
          "geo": {
           "bgcolor": "white",
           "lakecolor": "white",
           "landcolor": "#E5ECF6",
           "showlakes": true,
           "showland": true,
           "subunitcolor": "white"
          },
          "hoverlabel": {
           "align": "left"
          },
          "hovermode": "closest",
          "mapbox": {
           "style": "light"
          },
          "paper_bgcolor": "white",
          "plot_bgcolor": "#E5ECF6",
          "polar": {
           "angularaxis": {
            "gridcolor": "white",
            "linecolor": "white",
            "ticks": ""
           },
           "bgcolor": "#E5ECF6",
           "radialaxis": {
            "gridcolor": "white",
            "linecolor": "white",
            "ticks": ""
           }
          },
          "scene": {
           "xaxis": {
            "backgroundcolor": "#E5ECF6",
            "gridcolor": "white",
            "gridwidth": 2,
            "linecolor": "white",
            "showbackground": true,
            "ticks": "",
            "zerolinecolor": "white"
           },
           "yaxis": {
            "backgroundcolor": "#E5ECF6",
            "gridcolor": "white",
            "gridwidth": 2,
            "linecolor": "white",
            "showbackground": true,
            "ticks": "",
            "zerolinecolor": "white"
           },
           "zaxis": {
            "backgroundcolor": "#E5ECF6",
            "gridcolor": "white",
            "gridwidth": 2,
            "linecolor": "white",
            "showbackground": true,
            "ticks": "",
            "zerolinecolor": "white"
           }
          },
          "shapedefaults": {
           "line": {
            "color": "#2a3f5f"
           }
          },
          "ternary": {
           "aaxis": {
            "gridcolor": "white",
            "linecolor": "white",
            "ticks": ""
           },
           "baxis": {
            "gridcolor": "white",
            "linecolor": "white",
            "ticks": ""
           },
           "bgcolor": "#E5ECF6",
           "caxis": {
            "gridcolor": "white",
            "linecolor": "white",
            "ticks": ""
           }
          },
          "title": {
           "x": 0.05
          },
          "xaxis": {
           "automargin": true,
           "gridcolor": "white",
           "linecolor": "white",
           "ticks": "",
           "title": {
            "standoff": 15
           },
           "zerolinecolor": "white",
           "zerolinewidth": 2
          },
          "yaxis": {
           "automargin": true,
           "gridcolor": "white",
           "linecolor": "white",
           "ticks": "",
           "title": {
            "standoff": 15
           },
           "zerolinecolor": "white",
           "zerolinewidth": 2
          }
         }
        },
        "title": {
         "text": "Percentage Strictest Science Majors"
        },
        "width": 1000
       }
      }
     },
     "metadata": {},
     "output_type": "display_data"
    },
    {
     "data": {
      "application/vnd.plotly.v1+json": {
       "config": {
        "plotlyServerURL": "https://plot.ly"
       },
       "data": [
        {
         "domain": {
          "x": [
           0,
           1
          ],
          "y": [
           0,
           1
          ]
         },
         "hovertemplate": "label=%{label}<br>value=%{value}<extra></extra>",
         "labels": [
          "ILMU KOMUNIKASI",
          "PSIKOLOGI",
          "ANTROPOLOGI SOSIAL",
          "ADMINISTRASI PERPAJAKAN",
          "MANAJEMEN",
          "KEWIRAUSAHAAN",
          "HUBUNGAN INTERNASIONAL",
          "EKONOMI PEMBANGUNAN",
          "PARIWISATA",
          "EKONOMI, KEUANGAN DAN PERBANKAN"
         ],
         "legendgroup": "",
         "marker": {
          "line": {
           "color": "#000000",
           "width": 1
          }
         },
         "name": "",
         "showlegend": true,
         "textinfo": "value+label",
         "textposition": "inside",
         "type": "pie",
         "values": [
          "14.732",
          "15.556",
          "15.714",
          "16.892",
          "16.923",
          "17.188",
          "17.881",
          "18.692",
          "19.643",
          "20.325"
         ]
        }
       ],
       "layout": {
        "height": 600,
        "legend": {
         "tracegroupgap": 0
        },
        "margin": {
         "t": 60
        },
        "template": {
         "data": {
          "bar": [
           {
            "error_x": {
             "color": "#2a3f5f"
            },
            "error_y": {
             "color": "#2a3f5f"
            },
            "marker": {
             "line": {
              "color": "#E5ECF6",
              "width": 0.5
             },
             "pattern": {
              "fillmode": "overlay",
              "size": 10,
              "solidity": 0.2
             }
            },
            "type": "bar"
           }
          ],
          "barpolar": [
           {
            "marker": {
             "line": {
              "color": "#E5ECF6",
              "width": 0.5
             },
             "pattern": {
              "fillmode": "overlay",
              "size": 10,
              "solidity": 0.2
             }
            },
            "type": "barpolar"
           }
          ],
          "carpet": [
           {
            "aaxis": {
             "endlinecolor": "#2a3f5f",
             "gridcolor": "white",
             "linecolor": "white",
             "minorgridcolor": "white",
             "startlinecolor": "#2a3f5f"
            },
            "baxis": {
             "endlinecolor": "#2a3f5f",
             "gridcolor": "white",
             "linecolor": "white",
             "minorgridcolor": "white",
             "startlinecolor": "#2a3f5f"
            },
            "type": "carpet"
           }
          ],
          "choropleth": [
           {
            "colorbar": {
             "outlinewidth": 0,
             "ticks": ""
            },
            "type": "choropleth"
           }
          ],
          "contour": [
           {
            "colorbar": {
             "outlinewidth": 0,
             "ticks": ""
            },
            "colorscale": [
             [
              0,
              "#0d0887"
             ],
             [
              0.1111111111111111,
              "#46039f"
             ],
             [
              0.2222222222222222,
              "#7201a8"
             ],
             [
              0.3333333333333333,
              "#9c179e"
             ],
             [
              0.4444444444444444,
              "#bd3786"
             ],
             [
              0.5555555555555556,
              "#d8576b"
             ],
             [
              0.6666666666666666,
              "#ed7953"
             ],
             [
              0.7777777777777778,
              "#fb9f3a"
             ],
             [
              0.8888888888888888,
              "#fdca26"
             ],
             [
              1,
              "#f0f921"
             ]
            ],
            "type": "contour"
           }
          ],
          "contourcarpet": [
           {
            "colorbar": {
             "outlinewidth": 0,
             "ticks": ""
            },
            "type": "contourcarpet"
           }
          ],
          "heatmap": [
           {
            "colorbar": {
             "outlinewidth": 0,
             "ticks": ""
            },
            "colorscale": [
             [
              0,
              "#0d0887"
             ],
             [
              0.1111111111111111,
              "#46039f"
             ],
             [
              0.2222222222222222,
              "#7201a8"
             ],
             [
              0.3333333333333333,
              "#9c179e"
             ],
             [
              0.4444444444444444,
              "#bd3786"
             ],
             [
              0.5555555555555556,
              "#d8576b"
             ],
             [
              0.6666666666666666,
              "#ed7953"
             ],
             [
              0.7777777777777778,
              "#fb9f3a"
             ],
             [
              0.8888888888888888,
              "#fdca26"
             ],
             [
              1,
              "#f0f921"
             ]
            ],
            "type": "heatmap"
           }
          ],
          "heatmapgl": [
           {
            "colorbar": {
             "outlinewidth": 0,
             "ticks": ""
            },
            "colorscale": [
             [
              0,
              "#0d0887"
             ],
             [
              0.1111111111111111,
              "#46039f"
             ],
             [
              0.2222222222222222,
              "#7201a8"
             ],
             [
              0.3333333333333333,
              "#9c179e"
             ],
             [
              0.4444444444444444,
              "#bd3786"
             ],
             [
              0.5555555555555556,
              "#d8576b"
             ],
             [
              0.6666666666666666,
              "#ed7953"
             ],
             [
              0.7777777777777778,
              "#fb9f3a"
             ],
             [
              0.8888888888888888,
              "#fdca26"
             ],
             [
              1,
              "#f0f921"
             ]
            ],
            "type": "heatmapgl"
           }
          ],
          "histogram": [
           {
            "marker": {
             "pattern": {
              "fillmode": "overlay",
              "size": 10,
              "solidity": 0.2
             }
            },
            "type": "histogram"
           }
          ],
          "histogram2d": [
           {
            "colorbar": {
             "outlinewidth": 0,
             "ticks": ""
            },
            "colorscale": [
             [
              0,
              "#0d0887"
             ],
             [
              0.1111111111111111,
              "#46039f"
             ],
             [
              0.2222222222222222,
              "#7201a8"
             ],
             [
              0.3333333333333333,
              "#9c179e"
             ],
             [
              0.4444444444444444,
              "#bd3786"
             ],
             [
              0.5555555555555556,
              "#d8576b"
             ],
             [
              0.6666666666666666,
              "#ed7953"
             ],
             [
              0.7777777777777778,
              "#fb9f3a"
             ],
             [
              0.8888888888888888,
              "#fdca26"
             ],
             [
              1,
              "#f0f921"
             ]
            ],
            "type": "histogram2d"
           }
          ],
          "histogram2dcontour": [
           {
            "colorbar": {
             "outlinewidth": 0,
             "ticks": ""
            },
            "colorscale": [
             [
              0,
              "#0d0887"
             ],
             [
              0.1111111111111111,
              "#46039f"
             ],
             [
              0.2222222222222222,
              "#7201a8"
             ],
             [
              0.3333333333333333,
              "#9c179e"
             ],
             [
              0.4444444444444444,
              "#bd3786"
             ],
             [
              0.5555555555555556,
              "#d8576b"
             ],
             [
              0.6666666666666666,
              "#ed7953"
             ],
             [
              0.7777777777777778,
              "#fb9f3a"
             ],
             [
              0.8888888888888888,
              "#fdca26"
             ],
             [
              1,
              "#f0f921"
             ]
            ],
            "type": "histogram2dcontour"
           }
          ],
          "mesh3d": [
           {
            "colorbar": {
             "outlinewidth": 0,
             "ticks": ""
            },
            "type": "mesh3d"
           }
          ],
          "parcoords": [
           {
            "line": {
             "colorbar": {
              "outlinewidth": 0,
              "ticks": ""
             }
            },
            "type": "parcoords"
           }
          ],
          "pie": [
           {
            "automargin": true,
            "type": "pie"
           }
          ],
          "scatter": [
           {
            "marker": {
             "colorbar": {
              "outlinewidth": 0,
              "ticks": ""
             }
            },
            "type": "scatter"
           }
          ],
          "scatter3d": [
           {
            "line": {
             "colorbar": {
              "outlinewidth": 0,
              "ticks": ""
             }
            },
            "marker": {
             "colorbar": {
              "outlinewidth": 0,
              "ticks": ""
             }
            },
            "type": "scatter3d"
           }
          ],
          "scattercarpet": [
           {
            "marker": {
             "colorbar": {
              "outlinewidth": 0,
              "ticks": ""
             }
            },
            "type": "scattercarpet"
           }
          ],
          "scattergeo": [
           {
            "marker": {
             "colorbar": {
              "outlinewidth": 0,
              "ticks": ""
             }
            },
            "type": "scattergeo"
           }
          ],
          "scattergl": [
           {
            "marker": {
             "colorbar": {
              "outlinewidth": 0,
              "ticks": ""
             }
            },
            "type": "scattergl"
           }
          ],
          "scattermapbox": [
           {
            "marker": {
             "colorbar": {
              "outlinewidth": 0,
              "ticks": ""
             }
            },
            "type": "scattermapbox"
           }
          ],
          "scatterpolar": [
           {
            "marker": {
             "colorbar": {
              "outlinewidth": 0,
              "ticks": ""
             }
            },
            "type": "scatterpolar"
           }
          ],
          "scatterpolargl": [
           {
            "marker": {
             "colorbar": {
              "outlinewidth": 0,
              "ticks": ""
             }
            },
            "type": "scatterpolargl"
           }
          ],
          "scatterternary": [
           {
            "marker": {
             "colorbar": {
              "outlinewidth": 0,
              "ticks": ""
             }
            },
            "type": "scatterternary"
           }
          ],
          "surface": [
           {
            "colorbar": {
             "outlinewidth": 0,
             "ticks": ""
            },
            "colorscale": [
             [
              0,
              "#0d0887"
             ],
             [
              0.1111111111111111,
              "#46039f"
             ],
             [
              0.2222222222222222,
              "#7201a8"
             ],
             [
              0.3333333333333333,
              "#9c179e"
             ],
             [
              0.4444444444444444,
              "#bd3786"
             ],
             [
              0.5555555555555556,
              "#d8576b"
             ],
             [
              0.6666666666666666,
              "#ed7953"
             ],
             [
              0.7777777777777778,
              "#fb9f3a"
             ],
             [
              0.8888888888888888,
              "#fdca26"
             ],
             [
              1,
              "#f0f921"
             ]
            ],
            "type": "surface"
           }
          ],
          "table": [
           {
            "cells": {
             "fill": {
              "color": "#EBF0F8"
             },
             "line": {
              "color": "white"
             }
            },
            "header": {
             "fill": {
              "color": "#C8D4E3"
             },
             "line": {
              "color": "white"
             }
            },
            "type": "table"
           }
          ]
         },
         "layout": {
          "annotationdefaults": {
           "arrowcolor": "#2a3f5f",
           "arrowhead": 0,
           "arrowwidth": 1
          },
          "autotypenumbers": "strict",
          "coloraxis": {
           "colorbar": {
            "outlinewidth": 0,
            "ticks": ""
           }
          },
          "colorscale": {
           "diverging": [
            [
             0,
             "#8e0152"
            ],
            [
             0.1,
             "#c51b7d"
            ],
            [
             0.2,
             "#de77ae"
            ],
            [
             0.3,
             "#f1b6da"
            ],
            [
             0.4,
             "#fde0ef"
            ],
            [
             0.5,
             "#f7f7f7"
            ],
            [
             0.6,
             "#e6f5d0"
            ],
            [
             0.7,
             "#b8e186"
            ],
            [
             0.8,
             "#7fbc41"
            ],
            [
             0.9,
             "#4d9221"
            ],
            [
             1,
             "#276419"
            ]
           ],
           "sequential": [
            [
             0,
             "#0d0887"
            ],
            [
             0.1111111111111111,
             "#46039f"
            ],
            [
             0.2222222222222222,
             "#7201a8"
            ],
            [
             0.3333333333333333,
             "#9c179e"
            ],
            [
             0.4444444444444444,
             "#bd3786"
            ],
            [
             0.5555555555555556,
             "#d8576b"
            ],
            [
             0.6666666666666666,
             "#ed7953"
            ],
            [
             0.7777777777777778,
             "#fb9f3a"
            ],
            [
             0.8888888888888888,
             "#fdca26"
            ],
            [
             1,
             "#f0f921"
            ]
           ],
           "sequentialminus": [
            [
             0,
             "#0d0887"
            ],
            [
             0.1111111111111111,
             "#46039f"
            ],
            [
             0.2222222222222222,
             "#7201a8"
            ],
            [
             0.3333333333333333,
             "#9c179e"
            ],
            [
             0.4444444444444444,
             "#bd3786"
            ],
            [
             0.5555555555555556,
             "#d8576b"
            ],
            [
             0.6666666666666666,
             "#ed7953"
            ],
            [
             0.7777777777777778,
             "#fb9f3a"
            ],
            [
             0.8888888888888888,
             "#fdca26"
            ],
            [
             1,
             "#f0f921"
            ]
           ]
          },
          "colorway": [
           "#636efa",
           "#EF553B",
           "#00cc96",
           "#ab63fa",
           "#FFA15A",
           "#19d3f3",
           "#FF6692",
           "#B6E880",
           "#FF97FF",
           "#FECB52"
          ],
          "font": {
           "color": "#2a3f5f"
          },
          "geo": {
           "bgcolor": "white",
           "lakecolor": "white",
           "landcolor": "#E5ECF6",
           "showlakes": true,
           "showland": true,
           "subunitcolor": "white"
          },
          "hoverlabel": {
           "align": "left"
          },
          "hovermode": "closest",
          "mapbox": {
           "style": "light"
          },
          "paper_bgcolor": "white",
          "plot_bgcolor": "#E5ECF6",
          "polar": {
           "angularaxis": {
            "gridcolor": "white",
            "linecolor": "white",
            "ticks": ""
           },
           "bgcolor": "#E5ECF6",
           "radialaxis": {
            "gridcolor": "white",
            "linecolor": "white",
            "ticks": ""
           }
          },
          "scene": {
           "xaxis": {
            "backgroundcolor": "#E5ECF6",
            "gridcolor": "white",
            "gridwidth": 2,
            "linecolor": "white",
            "showbackground": true,
            "ticks": "",
            "zerolinecolor": "white"
           },
           "yaxis": {
            "backgroundcolor": "#E5ECF6",
            "gridcolor": "white",
            "gridwidth": 2,
            "linecolor": "white",
            "showbackground": true,
            "ticks": "",
            "zerolinecolor": "white"
           },
           "zaxis": {
            "backgroundcolor": "#E5ECF6",
            "gridcolor": "white",
            "gridwidth": 2,
            "linecolor": "white",
            "showbackground": true,
            "ticks": "",
            "zerolinecolor": "white"
           }
          },
          "shapedefaults": {
           "line": {
            "color": "#2a3f5f"
           }
          },
          "ternary": {
           "aaxis": {
            "gridcolor": "white",
            "linecolor": "white",
            "ticks": ""
           },
           "baxis": {
            "gridcolor": "white",
            "linecolor": "white",
            "ticks": ""
           },
           "bgcolor": "#E5ECF6",
           "caxis": {
            "gridcolor": "white",
            "linecolor": "white",
            "ticks": ""
           }
          },
          "title": {
           "x": 0.05
          },
          "xaxis": {
           "automargin": true,
           "gridcolor": "white",
           "linecolor": "white",
           "ticks": "",
           "title": {
            "standoff": 15
           },
           "zerolinecolor": "white",
           "zerolinewidth": 2
          },
          "yaxis": {
           "automargin": true,
           "gridcolor": "white",
           "linecolor": "white",
           "ticks": "",
           "title": {
            "standoff": 15
           },
           "zerolinecolor": "white",
           "zerolinewidth": 2
          }
         }
        },
        "title": {
         "text": "Percentage Strictest Humanities Majors"
        },
        "width": 1000
       }
      }
     },
     "metadata": {},
     "output_type": "display_data"
    }
   ],
   "source": [
    "colors = ['gold', 'mediumturquoise', 'darkorange', 'lightgreen']\n",
    "fig = px.pie(values=[9.091,9.639,10.870,11.290,11.515,12.556,12.821,13.270,13.913,13.990],names=['ILMU GIZI','PENDIDIKAN DOKTER GIGI','PENDIDIKAN DOKTER','TEKNIK SIPIL','FARMASI','PERENCANAAN WILAYAH & KOTA','TEKNIK LINGKUNGAN','ARSITEKTUR','TEKNIK INDUSTRI','ILMU DAN TEKNOLOGI PANGAN'],height=600,width=1000)\n",
    "fig.update_traces(textposition='inside', textinfo='value+label',marker=dict(colors=colors, line=dict(color='#000000', width=1)))\n",
    "fig.update_layout(title='Percentage Strictest Science Majors')\n",
    "fig.show()\n",
    "\n",
    "fig = px.pie(values=b['Percentage'].head(10),names=b['first_major'].head(10),height=600,width=1000)\n",
    "fig.update_traces(textposition='inside', textinfo='value+label',marker=dict(line=dict(color='#000000', width=1)))\n",
    "fig.update_layout(title='Percentage Strictest Humanities Majors')\n",
    "fig.show()"
   ]
  },
  {
   "cell_type": "markdown",
   "metadata": {},
   "source": [
    "![Percentage Strictest Science Majors](photos/Percentage%20Strictest%20Science%20Majors.png)"
   ]
  },
  {
   "cell_type": "markdown",
   "metadata": {},
   "source": [
    "![Percentage Strictest Humanities Majors](photos/Percentage%20Strictest%20Humanities%20Majors.png)"
   ]
  },
  {
   "cell_type": "markdown",
   "metadata": {},
   "source": [
    "![Science Major UB Top Choices 2019](/photos/Science%20Major%20UB%20Top%20Choices%202019.png)"
   ]
  },
  {
   "cell_type": "code",
   "execution_count": 66,
   "metadata": {},
   "outputs": [
    {
     "data": {
      "text/plain": [
       "Index(['score_bio', 'score_fis', 'score_kim', 'score_mat', 'score_kmb',\n",
       "       'score_kpu', 'score_kua', 'score_ppu', 'specialized_score',\n",
       "       'general_score', 'average_score', 'first_univ', 'first_major',\n",
       "       'first_capacity'],\n",
       "      dtype='object')"
      ]
     },
     "execution_count": 66,
     "metadata": {},
     "output_type": "execute_result"
    }
   ],
   "source": [
    "df_univ_brawSc.columns"
   ]
  },
  {
   "cell_type": "code",
   "execution_count": 67,
   "metadata": {},
   "outputs": [],
   "source": [
    "def find_the_lowest_score(df):\n",
    "    df_out = pd.DataFrame()\n",
    "    for key,subdf in df.sort_values('average_score',ascending=False).groupby('first_major'):\n",
    "        capacity = subdf['first_capacity'].iloc[0]\n",
    "        data = subdf['average_score'].iloc[:capacity]\n",
    "        data_specialized_score = subdf['specialized_score'].iloc[:capacity]\n",
    "        data_general_score = subdf['general_score'].iloc[:capacity]\n",
    "        major = subdf['first_major'].iloc[:capacity]\n",
    "        data = pd.concat([data_general_score,data_specialized_score,data,major,],axis=1)\n",
    "        t = pd.DataFrame(data)\n",
    "        df_out = pd.concat([df_out,t],ignore_index=True)\n",
    "    return df_out"
   ]
  },
  {
   "cell_type": "code",
   "execution_count": 68,
   "metadata": {},
   "outputs": [],
   "source": [
    "df_univ_brawSc_clear = find_the_lowest_score(df_univ_brawSc)\n",
    "df_univ_brawHm_clear = find_the_lowest_score(df_univ_brawHu)"
   ]
  },
  {
   "cell_type": "code",
   "execution_count": 69,
   "metadata": {},
   "outputs": [
    {
     "data": {
      "application/vnd.plotly.v1+json": {
       "config": {
        "plotlyServerURL": "https://plot.ly"
       },
       "data": [
        {
         "marker": {
          "color": "indianred"
         },
         "name": "specialized_score",
         "type": "box",
         "y": [
          671.75,
          603.25,
          565,
          610.5,
          655.25,
          597.5,
          600.25,
          543.25,
          624.75,
          564.5,
          562.5,
          582.5,
          634.25,
          615.75,
          579.75,
          555.75,
          544.5,
          553,
          573.75,
          598.75,
          560.5,
          608.25,
          537,
          564,
          561.5,
          483.75,
          585.5,
          523.5,
          569.5,
          549.75,
          545.75,
          548.25,
          579.25,
          606.5,
          501.75,
          617.5,
          562,
          510.75,
          543.5,
          551.75,
          586.25,
          543.25,
          617.5,
          545.25,
          563.25,
          620,
          549.25,
          526.5,
          604,
          613.25,
          599.5,
          559.75,
          545.5,
          578.75,
          550,
          595.5,
          626,
          485.5,
          604.25,
          545.75,
          558.5,
          496,
          540.5,
          571.75,
          580,
          592,
          550.5,
          618.25,
          542.5,
          524.75,
          553.75,
          590,
          502.25,
          547.25,
          519.75,
          609.75,
          558.5,
          525.5,
          588.75,
          617.25,
          529.75,
          571,
          560.75,
          580.75,
          527,
          568.75,
          551.25,
          496,
          595.75,
          531,
          570,
          565.75,
          562.5,
          549.75,
          522.75,
          524,
          563.5,
          522.75,
          526.25,
          594,
          555.5,
          509.5,
          511.75,
          612.75,
          575,
          646.75,
          667,
          542.25,
          624.25,
          593.75,
          633.25,
          510,
          581.75,
          597,
          590.25,
          583.5,
          658.5,
          582.5,
          590.75,
          535,
          576.5,
          619.5,
          549.5,
          602.25,
          530,
          542.75,
          598.25,
          561.75,
          605,
          587.5,
          537.25,
          543.5,
          659.75,
          575.5,
          530.75,
          597.25,
          579.25,
          533.75,
          597.5,
          573.5,
          588.5,
          600.75,
          658.5,
          598.75,
          542.5,
          598.25,
          644.25,
          555.25,
          570.5,
          577.5,
          582.75,
          546.75,
          553.25,
          534,
          563.5,
          600.75,
          512.25,
          619.75,
          599.75,
          539.5,
          560.5,
          515.5,
          567.5,
          553,
          560,
          627.75,
          558.25,
          584.25,
          587.75,
          563.25,
          556.25,
          554.25,
          554.75,
          538.25,
          564.25,
          535.5,
          528.75,
          537.5,
          542,
          532.75,
          570.25,
          508.25,
          565.5,
          563,
          548.75,
          554.5,
          570.25,
          470.75,
          573.5,
          577.5,
          572.75,
          562,
          580.75,
          612.75,
          588.75,
          534,
          516.5,
          515.5,
          528,
          502.5,
          588.75,
          509.75,
          578.5,
          539.5,
          572.75,
          541.5,
          617.5,
          558.75,
          537,
          564.25,
          576.25,
          578.5,
          587.5,
          565,
          535.5,
          591.25,
          522.5,
          592,
          501,
          538.5,
          545.25,
          545,
          543,
          524.5,
          557.75,
          559.5,
          550.5,
          502.5,
          525.25,
          505.75,
          529.5,
          527.75,
          560,
          554.75,
          490.75,
          496,
          488.25,
          521.75,
          503.5,
          551,
          515,
          522.75,
          519.25,
          583.25,
          693,
          654.75,
          659.75,
          635.25,
          622,
          613.75,
          598.25,
          567.25,
          617.25,
          631.25,
          642.75,
          662.75,
          638,
          580.25,
          583.25,
          664.75,
          584,
          684.5,
          649.25,
          604.25,
          684.25,
          598,
          604.75,
          592.25,
          630.5,
          554,
          596,
          634.25,
          611.75,
          595,
          557,
          603.5,
          614.75,
          651,
          641.25,
          581.5,
          559.25,
          574.75,
          591.5,
          620,
          515.75,
          545.25,
          532.25,
          603.75,
          558.75,
          555.5,
          542.75,
          560.25,
          545.5,
          565.5,
          568.75,
          562.75,
          609.25,
          503,
          566.25,
          678.25,
          628,
          646.5,
          654,
          615.25,
          551.75,
          602.75,
          591.5,
          578.25,
          597.25,
          585.5,
          635.25,
          541,
          545,
          629.75,
          574.5,
          661.25,
          609.75,
          572.25,
          567.5,
          507.25,
          555.5,
          572,
          551.75,
          582.75,
          565,
          589.25,
          625.75,
          541,
          564.75,
          575.25,
          592,
          548,
          520.75,
          587.75,
          505.5,
          568.75,
          553.5,
          508.25,
          555.75,
          546.25,
          534,
          491.75,
          527.25,
          541.75,
          527.25,
          552.75,
          527.75,
          600.75,
          675.25,
          641,
          635.75,
          669,
          670.5,
          648.25,
          583.75,
          607.25,
          636,
          665.5,
          645.25,
          631.25,
          590,
          634.5,
          561.75,
          544,
          558.5,
          567.75,
          658.5,
          622.5,
          671.25,
          574.5,
          524.75,
          588.5,
          614.75,
          559.5,
          600.25,
          624,
          519,
          641.25,
          598.5,
          581.75,
          514,
          579.75,
          601.5,
          517.75,
          572,
          752.25,
          643.5,
          712.75,
          671,
          687.5,
          638.75,
          642.25,
          689,
          622.5,
          599.75,
          635.75,
          642.25,
          606.5,
          580.75,
          626.75,
          544,
          582.25,
          621.25,
          583.25,
          653.5,
          625,
          644,
          663,
          594.75,
          606.75,
          651.75,
          591,
          562.75,
          615.25,
          617.75,
          584.25,
          675.5,
          610.75,
          612,
          623.25,
          581.75,
          596.25,
          584.5,
          604.5,
          618.5,
          574.25,
          585,
          600.5,
          596.75,
          580,
          589.75,
          689.25,
          564,
          625.25,
          590,
          632.75,
          572.5,
          590,
          617.25,
          656.5,
          578.5,
          524.5,
          559.5,
          582.25,
          526,
          552.5,
          515.75,
          535.5,
          489.25,
          556.75,
          502.5,
          597.25,
          572.5,
          584.25,
          551.75,
          548,
          641.25,
          547.25,
          589.5,
          656,
          645,
          603.75,
          600.75,
          637,
          677.75,
          680.75,
          560,
          539,
          563.75,
          609.25,
          558,
          573.5,
          556,
          557,
          611.75,
          557,
          593.25,
          560,
          594.5,
          524.75,
          549.75,
          601,
          560.5,
          590.75,
          542,
          535,
          556.5,
          648.75,
          575,
          618.5,
          629.5,
          524.75,
          548.25,
          571.5,
          548.75,
          629.75,
          602.5,
          574,
          602.25,
          562,
          594.25,
          582.75,
          590,
          594,
          538.5,
          570,
          581.75,
          573,
          555.75,
          540,
          557.25,
          548.75,
          612,
          597.25,
          600.75,
          653.75,
          609.5,
          576.5,
          557,
          540.5,
          553.25,
          512.75,
          613.5,
          522.75,
          553.25,
          487.75,
          547.25,
          627.5,
          537.5,
          546.5,
          551.5,
          498.75,
          810.25,
          672.25,
          639.5,
          664,
          657.75,
          671.75,
          656.5,
          582.75,
          622.5,
          602.25,
          619.25,
          547.75,
          632.75,
          602.25,
          591.5,
          579.75,
          566.75,
          619.5,
          580,
          617,
          557,
          624,
          633.75,
          612.25,
          568.75,
          587.75,
          644.5,
          578.75,
          644.5,
          508.75,
          601.75,
          556,
          669,
          546,
          502.5,
          536.5,
          640.5,
          569,
          581.25,
          490.25,
          510.75,
          586,
          520,
          565.75,
          564,
          584,
          551.25,
          562.75,
          550,
          556.75,
          559.5,
          527.25,
          481,
          597.5,
          545.5,
          570,
          507,
          548.25,
          586.5,
          502,
          659.5,
          617.75,
          627.25,
          602.5,
          672.5,
          640.5,
          535.5,
          611,
          606.25,
          578,
          596.25,
          565.5,
          543.25,
          550,
          617.75,
          613,
          663,
          584.75,
          561.5,
          590.5,
          562,
          661.25,
          596.25,
          622.25,
          569.5,
          589.75,
          630,
          625.75,
          625.75,
          603,
          574.25,
          579.5,
          586.75,
          589.5,
          564,
          480,
          568,
          536.75,
          554.25,
          504.75,
          533,
          576.75,
          619,
          621,
          588.5,
          562.75,
          528,
          492.75,
          511.5,
          525.5,
          542.25,
          580.25,
          584.5,
          550,
          485,
          541.75,
          554.25,
          499.75,
          589.25,
          513.25,
          810.25,
          728,
          782.25,
          709,
          757.75,
          722.25,
          776.25,
          726,
          721.25,
          746.75,
          777.5,
          744.5,
          708.75,
          713.5,
          698.25,
          765,
          713,
          656.5,
          711,
          752.75,
          741.25,
          714,
          648.25,
          709.5,
          661.5,
          659.25,
          668,
          725.75,
          654.75,
          766.25,
          726,
          691.5,
          695.5,
          679.5,
          666.5,
          622.25,
          665,
          699.25,
          631.5,
          702.25,
          686.5,
          739.25,
          716.25,
          686.5,
          675,
          673.5,
          649.75,
          710.75,
          675,
          748,
          629,
          711.75,
          604.25,
          643.75,
          645.5,
          648.75,
          611.75,
          643.75,
          608.75,
          590.5,
          656.25,
          513,
          564.75,
          536.5,
          597.5,
          585.25,
          588.5,
          604,
          624.5,
          610.5,
          554,
          578.5,
          681.75,
          632,
          554.5,
          619.5,
          571.75,
          618,
          559.25,
          601.5,
          628,
          490.25,
          590,
          607.25,
          644,
          627.75,
          535,
          579.75,
          588.75,
          478,
          540.25,
          626.75,
          561.75,
          583.5,
          544.5,
          568.75,
          545,
          522.5,
          596.5,
          565.75,
          588.5,
          522.25,
          698.25,
          660.5,
          633,
          576.5,
          624.75,
          613.5,
          560.25,
          630,
          621.75,
          654.75,
          622.5,
          607,
          560,
          652.25,
          591.75,
          601,
          610.75,
          588.75,
          610.25,
          602.5,
          583.25,
          577.5,
          592.25,
          639.5,
          625.5,
          570.75,
          583.75,
          615.25,
          587.75,
          596.75,
          632.25,
          577.25,
          552,
          543.5,
          571.5,
          550.5,
          561.25,
          506.75,
          603,
          572.75,
          592,
          548.25,
          531.5,
          599.25,
          538,
          580.5,
          547,
          538.25,
          523,
          525,
          547.75,
          533.75,
          549,
          554.75,
          552.75,
          529.5,
          503,
          592.25,
          562,
          566.75,
          606.75,
          499.5,
          578.25,
          541.75,
          542.5,
          589.25,
          562.25,
          525.5,
          570.75,
          616.25,
          562,
          546.5,
          538.25,
          498.75,
          502,
          485.25,
          613.25,
          489.25,
          558.25,
          527.5,
          552.25,
          565,
          526.25,
          552.5,
          545,
          491.75,
          481.75,
          469.75,
          525.75,
          518.25,
          582.75,
          579.75,
          538,
          531,
          542.25,
          557.5,
          519,
          512.5,
          521.75,
          523.25,
          462.25,
          519,
          537.25,
          571,
          478.75,
          499.5,
          489.25,
          565.25,
          558.75,
          521.25,
          478.5,
          538.75,
          529.25,
          494.75,
          513.75,
          474.25,
          494.75,
          517.25,
          473.5,
          554.75,
          584.25,
          531.25,
          498.25,
          565.75,
          566.75,
          470.25,
          599.5,
          547.75,
          509.75,
          585.25,
          516.5,
          570.75,
          565.25,
          494,
          496,
          476.25,
          482.75,
          620.75,
          579.75,
          611.75,
          634.25,
          572.75,
          599,
          625.25,
          647.75,
          674.25,
          614,
          607.5,
          652.25,
          573,
          627.5,
          619.75,
          593.25,
          554,
          604.75,
          668.25,
          634,
          665.75,
          619.5,
          598,
          619,
          558,
          527.75,
          595,
          587.25,
          550.75,
          443.5,
          559.5,
          563.75,
          538,
          679.75,
          669,
          660.25,
          660.5,
          605.5,
          610.25,
          676.75,
          651,
          661,
          618.25,
          647.5,
          595.25,
          620,
          527.75,
          606.5,
          596.75,
          581,
          644.25,
          637.25,
          633,
          578.75,
          612.5,
          628.25,
          612,
          631.25,
          590.5,
          636.25,
          609.5,
          563.25,
          612,
          604.5,
          576,
          610.5,
          698.25,
          650.25,
          685.75,
          566,
          644.75,
          623.25,
          636.75,
          646.5,
          637.25,
          605.25,
          607.5,
          655,
          525,
          570.75,
          597,
          669.75,
          579.25,
          534.25,
          527,
          566.5,
          605.25,
          552,
          642.75,
          568.75,
          549,
          557.5,
          559.75,
          630,
          654,
          624.5,
          613.75,
          633,
          609.75,
          604,
          564.75,
          576,
          584.75,
          578.75,
          633.5,
          563.5,
          636,
          582,
          645.5,
          534.5,
          587,
          699.25,
          734.75,
          615.75,
          706,
          628.25,
          614,
          640,
          654.5,
          646.25,
          628.75,
          674.75,
          605,
          690.75,
          623.25,
          618.25,
          647.75,
          671.25,
          598,
          685.75,
          598.25,
          638.5,
          596.75,
          621.5,
          624,
          643.25,
          634,
          600,
          625,
          577,
          570,
          617.5,
          634.25,
          699.75,
          748.5,
          720.5,
          596,
          632.75,
          661,
          588.5,
          685.75,
          655,
          602.5,
          699.5,
          680.5,
          611.75,
          630.75,
          626.25,
          585,
          598.5,
          642.5,
          564.75,
          620.25,
          615.75,
          623.5,
          660.5,
          635.5,
          634.5,
          588.5,
          605,
          633.75,
          636.25,
          646,
          536.5,
          657.5,
          594.5,
          659.75,
          668.25,
          608.75,
          633.5,
          575.5,
          604.25,
          697,
          588.5,
          669,
          639,
          665,
          577.25,
          621,
          546.25,
          673,
          647.75,
          663.75,
          573.5,
          604.75,
          618.25,
          600,
          597.5,
          617.75,
          613.5,
          632,
          586,
          613.5,
          629.5,
          656.25,
          608.25,
          568.75,
          621.5,
          666,
          623,
          595.25,
          532.5,
          653.25,
          602,
          607,
          636.75,
          572.5,
          595.75,
          660.75,
          586.75,
          593,
          564,
          593.5,
          544.25,
          522.5,
          588,
          533.5,
          539,
          646.25,
          579.25,
          680.25,
          672,
          633.5,
          704.75,
          655.25,
          687.5,
          633.25,
          631.25,
          627.5,
          710.5,
          630.25,
          694.5,
          580.5,
          619.5,
          562.5,
          608,
          626.25,
          524,
          575,
          564.5,
          623.25,
          614.25,
          693,
          582.25,
          541,
          543.25,
          633.25,
          639,
          670.5,
          620,
          588.25,
          612.5,
          621,
          638.5,
          609.25,
          653.5,
          601.75,
          660,
          619.75,
          632,
          621.75,
          552.5,
          606.5,
          587.25,
          548,
          582,
          643,
          580.5,
          657.25,
          566.75,
          590.75,
          597,
          642,
          544.5,
          634,
          609,
          593.25,
          654.5,
          551.5,
          582.25,
          587.5,
          548.75,
          567.25,
          608.25,
          640.75,
          596,
          585.25,
          577,
          593,
          581.75,
          576.25,
          559.5,
          579.75,
          642.75,
          533.25,
          593.75,
          556.75,
          546.5,
          600.25,
          612,
          696,
          692.75,
          664.5,
          654.75,
          627.25,
          668.75,
          613.5,
          621.5,
          639.5,
          673.25,
          626,
          683.5,
          698.75,
          681.75,
          612,
          672.5,
          606,
          714,
          618.5,
          704.75,
          620.5,
          666,
          648.25,
          676,
          627.25,
          650.5,
          659.25,
          585.25,
          609.5,
          612.5,
          614.25,
          636.5,
          532,
          568.75,
          623.25,
          569.75,
          620.75,
          623,
          521.75,
          564,
          559.25,
          495.5,
          616.5,
          570.5,
          542.5,
          622.75,
          540.25,
          616,
          525.75,
          533.75,
          555,
          559.75,
          564.5,
          543.5,
          476,
          542.25,
          501.5,
          569.5,
          531.75,
          497.75,
          511,
          489,
          508.5,
          543.25,
          550.75,
          519.25,
          563,
          557.5,
          533.75,
          510.75,
          636.5,
          579.25,
          638,
          581.25,
          593.75,
          584,
          634.5,
          596.5,
          560,
          566.75,
          605.25,
          551.75,
          521.25,
          633.5,
          623.25,
          584.75,
          535.75,
          591,
          536.75,
          517.25,
          583.25,
          526,
          578.75,
          565.5,
          560,
          529.75,
          564.5,
          524.25,
          564.75,
          551,
          589,
          562.5,
          552,
          546.25,
          568.25,
          559.75,
          578.5,
          554.5,
          522.25,
          519,
          672.75,
          582.75,
          592.5,
          586.5,
          561,
          587.75,
          518.75,
          540,
          610.25,
          600,
          531,
          615.5
         ]
        },
        {
         "marker": {
          "color": "lightseagreen"
         },
         "name": "general_score",
         "type": "box",
         "y": [
          609.5,
          622.75,
          660.25,
          613.5,
          567.75,
          619,
          615.5,
          671.5,
          589.25,
          647,
          643.5,
          622.25,
          569.75,
          584.75,
          620.5,
          637.75,
          648.25,
          639.75,
          617.75,
          592,
          628.25,
          577,
          647.75,
          617.25,
          616,
          690,
          587.25,
          648.5,
          601,
          620.5,
          621.75,
          615.25,
          583.5,
          556,
          657.75,
          540.75,
          595.5,
          645.5,
          612.75,
          604.5,
          568.25,
          610.5,
          536.25,
          608.25,
          589.75,
          532,
          600.75,
          623.25,
          543.75,
          533,
          546.25,
          585.5,
          598.5,
          564.75,
          593,
          547.5,
          515.5,
          655.75,
          535.75,
          593.75,
          579,
          640.75,
          596,
          564,
          555.5,
          541.25,
          582.5,
          658.5,
          639.5,
          637,
          575.5,
          538.25,
          620.75,
          565.25,
          584.75,
          645.25,
          633.5,
          660.75,
          593.25,
          556.5,
          640,
          595.5,
          598.75,
          576.25,
          626.25,
          582,
          598.75,
          652.5,
          551,
          606.75,
          564.75,
          567,
          565.75,
          578,
          602.25,
          595.25,
          553.75,
          593.75,
          587,
          518.25,
          556.25,
          599,
          595,
          663,
          696.5,
          604.25,
          568.5,
          682.75,
          596.25,
          624,
          583.75,
          704.75,
          632.5,
          613.75,
          618,
          624.5,
          549,
          624.25,
          612.25,
          668,
          625.25,
          581,
          650.5,
          596.5,
          668.75,
          654.75,
          597,
          631.75,
          586.75,
          603.5,
          653.75,
          647.25,
          530,
          614.25,
          656.5,
          589.75,
          607,
          649.5,
          583.75,
          606.5,
          591.25,
          578.5,
          520.5,
          579.25,
          635,
          579,
          533,
          621.25,
          604.25,
          597.25,
          591.25,
          625.75,
          616.25,
          634.5,
          604.75,
          565.5,
          653.5,
          545.75,
          564,
          621.75,
          600.25,
          645.25,
          592.25,
          606.5,
          599.5,
          530.5,
          599.5,
          573,
          569.5,
          592.25,
          598.25,
          600.25,
          598.5,
          614.5,
          588.25,
          616.25,
          622.25,
          613.25,
          608.75,
          617.25,
          579.5,
          641.5,
          584,
          586,
          599.75,
          594,
          576,
          674.75,
          571.5,
          567,
          571.75,
          582.25,
          563.5,
          531.25,
          555.25,
          609.75,
          627,
          628,
          615.25,
          640.5,
          553.75,
          631.75,
          562.5,
          601.25,
          567.5,
          597,
          520,
          578.25,
          598.75,
          571.5,
          558.75,
          556.25,
          547,
          568.75,
          596.75,
          540.5,
          609,
          539.25,
          630,
          592.25,
          584.5,
          584.5,
          586.25,
          604.5,
          570.5,
          568.75,
          577,
          618.5,
          592.75,
          603,
          579.25,
          578.25,
          542.5,
          547.5,
          607,
          589.5,
          593.25,
          548.5,
          566.5,
          516.25,
          552.25,
          544.5,
          543.5,
          751.25,
          632.25,
          651.75,
          635,
          656.25,
          666.5,
          674,
          686.75,
          717.75,
          664.75,
          646.25,
          630.75,
          609.5,
          630.75,
          687,
          682.5,
          600.25,
          680,
          579.5,
          614.75,
          656.5,
          574,
          658.5,
          650.25,
          662.25,
          622.5,
          698,
          653,
          650.25,
          656,
          661.5,
          688.5,
          635.5,
          621.75,
          578,
          583.25,
          642.5,
          637.25,
          619,
          596,
          565.5,
          668,
          622.5,
          635,
          563.25,
          601.5,
          603,
          614.5,
          593.75,
          607.25,
          582,
          578.25,
          584,
          534.25,
          639.25,
          572.75,
          665.5,
          667.25,
          641,
          624.5,
          648.75,
          709.25,
          652.25,
          650.75,
          651.75,
          629.25,
          641,
          587,
          680.75,
          675.5,
          586.75,
          640,
          552.75,
          604.25,
          640.5,
          641,
          690,
          638.75,
          614,
          625.5,
          581.75,
          597.5,
          571.25,
          530,
          614,
          588.75,
          573.75,
          549.25,
          590.5,
          615.5,
          542.5,
          624.5,
          559,
          572.5,
          613.5,
          565.75,
          574.5,
          585.75,
          624.25,
          588.25,
          573.5,
          584.5,
          558.5,
          582.5,
          741.25,
          640.5,
          668.5,
          667.25,
          623.25,
          618.25,
          635.25,
          699,
          674.5,
          644.5,
          608.75,
          619,
          632.5,
          671.75,
          626.5,
          697.5,
          706.75,
          687.5,
          674.5,
          637.25,
          637,
          582,
          658.75,
          706.25,
          635,
          598,
          652.25,
          608,
          584,
          686.75,
          558.25,
          594.25,
          609.75,
          671,
          604,
          579.25,
          657,
          599.5,
          684.5,
          698.5,
          627,
          652.5,
          614.25,
          641,
          636.5,
          582.5,
          647.25,
          668.5,
          624.5,
          617.5,
          652.5,
          677.25,
          629.25,
          712,
          672.5,
          630.75,
          663.75,
          699,
          717.5,
          653.25,
          632,
          699.5,
          680.25,
          629.75,
          681.25,
          707.75,
          644.25,
          640.25,
          673,
          581.5,
          645.5,
          642.5,
          630.75,
          667.75,
          653,
          661.75,
          640.5,
          623.25,
          664.75,
          653.25,
          635,
          638,
          652.5,
          638.5,
          614.75,
          701.75,
          608.75,
          630.75,
          586.25,
          642,
          619.25,
          586,
          543.75,
          620.25,
          660,
          624.75,
          592.75,
          648.5,
          619.5,
          655.75,
          627.5,
          668.5,
          600.25,
          651.5,
          553.25,
          578,
          566.25,
          596,
          599.5,
          504.5,
          598,
          555.5,
          649.5,
          644.5,
          664.5,
          656.5,
          618.75,
          568.75,
          563.25,
          665.75,
          674.25,
          647.25,
          599.25,
          649.75,
          628.75,
          645.25,
          643.5,
          583.5,
          635,
          595,
          625.25,
          583.75,
          652.75,
          626.5,
          631.75,
          654.75,
          618.25,
          658.25,
          661.25,
          632.25,
          537,
          610.5,
          553,
          541,
          645.5,
          621,
          586.25,
          608.25,
          643,
          641.25,
          667,
          626.5,
          659.25,
          620.75,
          627.5,
          615.5,
          609,
          663.5,
          627.5,
          613.5,
          619,
          628.5,
          642.75,
          625.25,
          633.5,
          608.5,
          613.5,
          599.25,
          545.25,
          588,
          618,
          587.75,
          603.25,
          586.25,
          623.75,
          521,
          610.5,
          579.25,
          643.25,
          580,
          498,
          586.75,
          573.75,
          568.25,
          619,
          717.25,
          619,
          648,
          621.5,
          613.5,
          597.25,
          608.75,
          682,
          637,
          648,
          621.75,
          692.75,
          604.5,
          633.75,
          641.25,
          651.5,
          662,
          606.5,
          645.75,
          602,
          660.75,
          591.25,
          581.25,
          598,
          641,
          620.5,
          563.5,
          626.5,
          560.25,
          694.25,
          596.25,
          640.25,
          568.5,
          677.75,
          717.5,
          660,
          551.5,
          612.75,
          597,
          684.75,
          663.75,
          586.75,
          644.25,
          595,
          591,
          569.5,
          601.25,
          589,
          596.25,
          582,
          578.75,
          611,
          645,
          528.5,
          579,
          552.25,
          615.25,
          566.5,
          525.75,
          607,
          702.75,
          720.5,
          693.75,
          681.25,
          604,
          622.75,
          717.75,
          632.75,
          636.75,
          660.25,
          640.25,
          669,
          688,
          681,
          613,
          616.25,
          564.25,
          640.75,
          663.25,
          634.25,
          662.25,
          559.25,
          624,
          590.25,
          641,
          619,
          578.5,
          582.75,
          580,
          600.25,
          629,
          623.75,
          627,
          602.75,
          617.75,
          695.25,
          604.5,
          635.75,
          608.5,
          649.75,
          618.75,
          574.5,
          532.25,
          530,
          557.75,
          579.5,
          613.25,
          633.5,
          612,
          596,
          577.25,
          535.25,
          526.75,
          560.5,
          618.25,
          561,
          547.25,
          599.25,
          509,
          581.5,
          657.25,
          714,
          657.75,
          726.25,
          677,
          705.75,
          647,
          694.25,
          697.75,
          669.25,
          636,
          666,
          700.75,
          694.75,
          705.25,
          638,
          687.25,
          739.75,
          676.75,
          632.75,
          643,
          666.25,
          730.5,
          667.25,
          715,
          716.75,
          708,
          650,
          721,
          609.25,
          648.75,
          678.5,
          670,
          683.25,
          695.25,
          737.75,
          692.75,
          658.25,
          725.25,
          652.25,
          715,
          654.75,
          677,
          691.75,
          698,
          698,
          698,
          633,
          668.5,
          592,
          704.25,
          617.5,
          720.25,
          668.75,
          653.5,
          643.75,
          656.25,
          601.25,
          633.75,
          647.25,
          581.25,
          722,
          666.25,
          692.75,
          631.5,
          636.25,
          632.75,
          612.5,
          588,
          599,
          655,
          629.5,
          523.5,
          572.25,
          649.25,
          576.5,
          618.25,
          571.25,
          625.75,
          583,
          555.5,
          691.5,
          589,
          571,
          534,
          549,
          639.5,
          592.75,
          621.5,
          724,
          655.5,
          560.75,
          611,
          586.75,
          618.25,
          576.25,
          594.5,
          615.25,
          539.25,
          544.75,
          765.25,
          788.5,
          601.5,
          636.75,
          651.75,
          706.5,
          653.75,
          660.25,
          712.5,
          629.5,
          634.5,
          599.75,
          630.5,
          645,
          681.75,
          589.25,
          648,
          638.25,
          625.25,
          646.75,
          624.75,
          632,
          650.75,
          653.25,
          635.75,
          587,
          600.25,
          655,
          708.75,
          616.75,
          635.5,
          620.75,
          579.75,
          627.25,
          652.25,
          653.75,
          625,
          646,
          634.25,
          688.75,
          588.25,
          614.25,
          594.5,
          630.25,
          643.5,
          572.75,
          630.25,
          586,
          614.25,
          622.75,
          634.5,
          632.25,
          608.25,
          621.5,
          606.25,
          599.5,
          601,
          623,
          649.25,
          560,
          590,
          585.25,
          544.5,
          651.5,
          567.5,
          601.25,
          600.25,
          553,
          579.75,
          612.5,
          566.75,
          520,
          573.25,
          588.25,
          595.75,
          632.5,
          628,
          644.5,
          508.5,
          630.75,
          561.5,
          591.75,
          566.75,
          553.25,
          589.5,
          562.25,
          567.25,
          620.25,
          629.75,
          641.25,
          584.25,
          590.75,
          525.25,
          527.5,
          568.75,
          574.75,
          563.25,
          547.5,
          585.25,
          591,
          581.75,
          579.75,
          640.75,
          582.75,
          563.75,
          529,
          620.5,
          599.5,
          609.5,
          531.25,
          537.75,
          575,
          616,
          554,
          562.5,
          596.25,
          576.5,
          615.75,
          595,
          571.75,
          615.5,
          533.5,
          502.25,
          554.75,
          587.5,
          519.25,
          518,
          614.5,
          484.5,
          535.75,
          573.75,
          498,
          564.25,
          583.5,
          524.75,
          568,
          563.25,
          561,
          550.75,
          716.25,
          751,
          709.25,
          686.5,
          744.5,
          713.5,
          684.5,
          655.25,
          623.75,
          664,
          668.5,
          623.5,
          698.25,
          639.75,
          643.5,
          663,
          701,
          642,
          574.5,
          607.75,
          573.5,
          615,
          636.25,
          613.5,
          673.5,
          615.25,
          518.75,
          521.5,
          542,
          619,
          502.25,
          497.75,
          503.75,
          731.75,
          673.25,
          665.25,
          661.25,
          712.5,
          694,
          624.25,
          647.5,
          633.25,
          672.5,
          640.75,
          686.5,
          653.75,
          742.5,
          662.75,
          670,
          684.75,
          620.5,
          627.5,
          627.75,
          681.75,
          647.25,
          630.75,
          646.75,
          626.5,
          666.75,
          621,
          644.25,
          688.75,
          639.25,
          642.25,
          669,
          749,
          633.5,
          655,
          617.75,
          736.5,
          656.5,
          672.5,
          658,
          627.5,
          634.5,
          662.25,
          653,
          605,
          733,
          682.75,
          652,
          577.75,
          665.25,
          708.75,
          706.75,
          666.5,
          626,
          676.75,
          585.75,
          659.5,
          677.5,
          667.75,
          665.5,
          593.25,
          567.5,
          596.5,
          607,
          647.25,
          639.25,
          641.5,
          678.5,
          657.25,
          635.25,
          635.5,
          579.75,
          649,
          567,
          615,
          550.75,
          656.75,
          602.75,
          670,
          604.75,
          709.5,
          617.5,
          692,
          693.75,
          665.5,
          642,
          649.5,
          666,
          619,
          688.5,
          595,
          661.25,
          666,
          633.25,
          607.75,
          679.75,
          589.25,
          676.75,
          635,
          675.5,
          650.75,
          647.75,
          622.25,
          621.75,
          654.75,
          629.75,
          676.75,
          682.25,
          631.5,
          613.75,
          761.25,
          708.25,
          627.75,
          744.25,
          705.75,
          669,
          740.75,
          642.5,
          667.75,
          718.5,
          618,
          632.75,
          697.75,
          677.5,
          680,
          716,
          698,
          651.75,
          725,
          666,
          670.25,
          662.25,
          624.75,
          648.25,
          648,
          686.75,
          669,
          637.25,
          632,
          620.75,
          726.5,
          605.5,
          668,
          601.75,
          589.75,
          649.25,
          617.25,
          675,
          719.5,
          624.25,
          731.5,
          645.75,
          666.75,
          613.25,
          696.75,
          649.75,
          721.25,
          594.5,
          617.75,
          596.25,
          684,
          650.25,
          632.75,
          647.5,
          650,
          628.25,
          632.5,
          613.75,
          658.5,
          628.75,
          609.25,
          577.75,
          681.5,
          716.25,
          646.5,
          593.5,
          629.25,
          652.25,
          714.25,
          591.75,
          629.75,
          622.75,
          591.25,
          653,
          623.25,
          555.75,
          627.75,
          620.25,
          648,
          616.75,
          664.25,
          686,
          616.75,
          670.75,
          663.75,
          556.25,
          615.5,
          631.5,
          639,
          674,
          596.5,
          638,
          597.25,
          649,
          650,
          638.5,
          554.25,
          630.25,
          555.25,
          666,
          622.5,
          677.5,
          630.5,
          611.25,
          700.75,
          646.75,
          656.5,
          711.5,
          700.75,
          605.75,
          700,
          739,
          736.25,
          640,
          630.75,
          593,
          637.25,
          660,
          635,
          625.5,
          607.75,
          625.75,
          580.25,
          631.25,
          572.5,
          612,
          597.75,
          606.75,
          673,
          617.5,
          631.75,
          668.75,
          634.5,
          572,
          634,
          550,
          632.25,
          608,
          601.5,
          628.5,
          720.75,
          618.75,
          637.75,
          652.5,
          587.25,
          676.5,
          640.75,
          632.25,
          669,
          649.5,
          602.5,
          568.25,
          612.25,
          621,
          626.75,
          609.25,
          611.75,
          616.5,
          633,
          612.25,
          547,
          654.25,
          593,
          626,
          631.5,
          575.75,
          563.5,
          641.5,
          615.25,
          641.75,
          642.25,
          669,
          625,
          680,
          671.5,
          651.75,
          613.25,
          659,
          601.25,
          582.25,
          598.75,
          667.25,
          606.75,
          671.5,
          562.75,
          657,
          564.5,
          648.75,
          600.25,
          618,
          586.25,
          634.75,
          609,
          599.75,
          673.5,
          658.75,
          637.5,
          594.25,
          570.75,
          672.5,
          625.5,
          571,
          621.75,
          566,
          560.25,
          657,
          604.75,
          600.75,
          663.75,
          627,
          615.5,
          639,
          554.75,
          622.5,
          544.5,
          633.5,
          624.75,
          602.25,
          595.5,
          590.25,
          602.25,
          667.5,
          601,
          636.25,
          558.5,
          596,
          626,
          605.5,
          627.5,
          606,
          568.5,
          560.25,
          591,
          541.75,
          545.25,
          568.5,
          587.75,
          617,
          670,
          595.75,
          646.5,
          630.75,
          636.25,
          585.25,
          622.25,
          649,
          641.75,
          603.25,
          655.75,
          681,
          556.75,
          567,
          599.25,
          647,
          591.5,
          642.75,
          662,
          595.25,
          650,
          597,
          607.75,
          611,
          639.25,
          604,
          638.75,
          597.25,
          609.5,
          570.25,
          594.75,
          604.75,
          609.75,
          585.5,
          591.5,
          572.5,
          596,
          627,
          630.25,
          629.5,
          695,
          684.5,
          690.25,
          703.75,
          649,
          711.5,
          678.75,
          607.75,
          611.75,
          680.5,
          595.75
         ]
        },
        {
         "marker": {
          "color": "mediumvioletred"
         },
         "name": "average_score",
         "type": "box",
         "y": [
          640.625,
          613,
          612.625,
          612,
          611.5,
          608.25,
          607.875,
          607.375,
          607,
          605.75,
          603,
          602.375,
          602,
          600.25,
          600.125,
          596.75,
          596.375,
          596.375,
          595.75,
          595.375,
          594.375,
          592.625,
          592.375,
          590.625,
          588.75,
          586.875,
          586.375,
          586,
          585.25,
          585.125,
          583.75,
          581.75,
          581.375,
          581.25,
          579.75,
          579.125,
          578.75,
          578.125,
          578.125,
          578.125,
          577.25,
          576.875,
          576.875,
          576.75,
          576.5,
          576,
          575,
          574.875,
          573.875,
          573.125,
          572.875,
          572.625,
          572,
          571.75,
          571.5,
          571.5,
          570.75,
          570.625,
          570,
          569.75,
          568.75,
          568.375,
          568.25,
          567.875,
          567.75,
          566.625,
          566.5,
          638.375,
          591,
          580.875,
          564.625,
          564.125,
          561.5,
          556.25,
          552.25,
          627.5,
          596,
          593.125,
          591,
          586.875,
          584.875,
          583.25,
          579.75,
          578.5,
          576.625,
          575.375,
          575,
          574.25,
          573.375,
          568.875,
          567.375,
          566.375,
          564.125,
          563.875,
          562.5,
          559.625,
          558.625,
          558.25,
          556.625,
          556.125,
          555.875,
          554.25,
          553.375,
          637.875,
          635.75,
          625.5,
          617.75,
          612.5,
          610.25,
          608.875,
          608.5,
          607.375,
          607.125,
          605.375,
          604.125,
          604,
          603.75,
          603.375,
          601.5,
          601.5,
          600.875,
          600.25,
          600,
          599.375,
          599.375,
          598.75,
          597.625,
          596.75,
          595.875,
          595.5,
          595.5,
          595.375,
          594.875,
          594.875,
          593.625,
          593.5,
          593.125,
          591.625,
          590.625,
          590,
          589.875,
          589.625,
          589.5,
          589,
          588.75,
          588.625,
          588.625,
          588.25,
          587.375,
          587.375,
          587,
          586.25,
          584.75,
          584.25,
          584.125,
          583.125,
          582.875,
          582.75,
          581.875,
          580.625,
          580.375,
          580.375,
          579.875,
          579.75,
          579.75,
          579.125,
          578.875,
          578.625,
          578.625,
          577.75,
          577.25,
          577.25,
          576.625,
          576.375,
          576.25,
          575.875,
          575.5,
          575.375,
          575.375,
          575,
          574.875,
          574.875,
          574.75,
          574.5,
          574.25,
          574.25,
          573.125,
          572.75,
          572.5,
          572.25,
          572.25,
          572.125,
          572.125,
          572,
          572,
          571.875,
          571.75,
          571.75,
          571.625,
          571.5,
          571.25,
          570.75,
          570.5,
          570.375,
          570.125,
          569.25,
          568.75,
          568.5,
          567.875,
          567.875,
          567.5,
          567.375,
          567.25,
          566.875,
          566.125,
          565.875,
          565.75,
          565.625,
          565.5,
          565.375,
          564.875,
          564.75,
          564.625,
          564.5,
          564.125,
          564.125,
          563.75,
          560.5,
          559,
          554.375,
          554.375,
          553,
          551.25,
          551.125,
          548.875,
          542.75,
          540.75,
          535.125,
          535,
          533.625,
          533.625,
          533.625,
          531.375,
          667.25,
          662.625,
          653.25,
          647.375,
          645.75,
          644.25,
          643.875,
          642.5,
          642.5,
          641,
          638.75,
          636.75,
          636.125,
          634.375,
          633.625,
          632.875,
          632.5,
          632,
          632,
          632,
          630.375,
          629.125,
          628.25,
          627.5,
          627.25,
          626.5,
          626,
          624.5,
          642.25,
          633.875,
          628.25,
          622.75,
          619.5,
          618.25,
          614.5,
          612.25,
          612,
          598.25,
          596.875,
          593.75,
          592.75,
          591.875,
          583.875,
          583.625,
          583.5,
          580.125,
          579.25,
          578.625,
          577,
          576.375,
          573.75,
          573.5,
          573.375,
          571.75,
          571.125,
          569.5,
          671.875,
          647.625,
          643.75,
          639.25,
          632,
          630.5,
          627.5,
          621.125,
          615,
          613.25,
          613.25,
          611.125,
          610.875,
          610.25,
          608.25,
          607.25,
          607,
          607,
          606.375,
          604.25,
          598.625,
          597.125,
          593,
          588.625,
          582.25,
          581.25,
          580.25,
          577.875,
          577.5,
          576.75,
          574.5,
          570.625,
          569.25,
          568.125,
          565.125,
          565,
          563.875,
          563,
          560.875,
          560.75,
          560.375,
          559.875,
          558,
          557.75,
          557.625,
          555.875,
          555.625,
          555.125,
          671,
          657.875,
          654.75,
          651.5,
          646.125,
          644.375,
          641.75,
          641.375,
          640.875,
          640.25,
          637.125,
          632.125,
          631.875,
          630.875,
          630.5,
          629.625,
          625.375,
          623,
          621.125,
          647.875,
          629.75,
          626.625,
          616.625,
          615.5,
          611.75,
          606.375,
          605.875,
          604.125,
          604,
          602.875,
          599.75,
          596.375,
          595.75,
          592.5,
          591.875,
          590.375,
          587.375,
          585.75,
          718.375,
          671,
          669.875,
          661.75,
          650.875,
          639.875,
          639.375,
          635.75,
          634.875,
          634.125,
          630.125,
          629.875,
          629.5,
          629,
          628,
          628,
          627.375,
          626,
          623.5,
          676.25,
          671.25,
          648.625,
          647.5,
          647.125,
          643.5,
          640.75,
          636.125,
          635.25,
          629.75,
          629,
          628.625,
          628.5,
          628.125,
          627.25,
          627,
          624.75,
          624.625,
          623.125,
          622.5,
          620.875,
          619.5,
          619.125,
          617.75,
          617.375,
          616.25,
          614.125,
          652,
          632.875,
          617,
          610.375,
          609.5,
          607.25,
          604.625,
          601.625,
          600.125,
          599.375,
          592.25,
          592.125,
          587.5,
          587.25,
          586,
          585.75,
          581.5,
          578.875,
          578.5,
          577,
          575.25,
          575.25,
          575.25,
          573.875,
          573.75,
          572.875,
          572.625,
          572.5,
          652.75,
          644.75,
          634.125,
          628.625,
          627.875,
          623.25,
          622,
          612.875,
          606.625,
          605.5,
          604.25,
          603.875,
          601.125,
          600.625,
          600.25,
          597.625,
          596,
          594.125,
          592.625,
          589.125,
          588.75,
          588.125,
          616.375,
          607.625,
          604.5,
          600.125,
          598.125,
          594.375,
          592.875,
          592.75,
          585.75,
          585.25,
          585.125,
          584.625,
          578.875,
          578.5,
          636.375,
          621.875,
          620.5,
          614.375,
          610.625,
          607.5,
          605.125,
          602.75,
          601.5,
          601,
          598.75,
          597.625,
          596,
          592.125,
          591.375,
          591.25,
          591.125,
          610.25,
          605.375,
          600,
          599.5,
          598.75,
          597.25,
          572.375,
          571.875,
          569.75,
          568.25,
          567.25,
          566.625,
          566.25,
          565.5,
          563.625,
          562.75,
          562.125,
          560.125,
          559.875,
          558.875,
          763.75,
          645.625,
          643.75,
          642.75,
          635.625,
          634.5,
          632.625,
          632.375,
          629.75,
          625.125,
          620.5,
          620.25,
          618.625,
          618,
          616.375,
          615.625,
          614.375,
          613,
          612.875,
          609.5,
          608.875,
          607.625,
          607.5,
          605.125,
          604.875,
          604.125,
          604,
          602.625,
          602.375,
          601.5,
          599,
          598.125,
          618.75,
          611.875,
          610,
          598.25,
          596,
          590.875,
          589.125,
          587.5,
          587.25,
          586.375,
          582.125,
          580.375,
          577.5,
          576.75,
          576.25,
          575.875,
          573.125,
          569.375,
          569.125,
          569.125,
          563,
          563,
          562.25,
          561.125,
          561.125,
          557.375,
          556.125,
          554.5,
          681.125,
          669.125,
          660.5,
          641.875,
          638.25,
          631.625,
          626.625,
          621.875,
          621.5,
          619.125,
          618.25,
          617.25,
          615.625,
          615.5,
          615.375,
          614.625,
          613.625,
          612.75,
          612.375,
          612.375,
          612.125,
          610.25,
          610.125,
          606.25,
          605.25,
          604.375,
          604.25,
          604.25,
          602.875,
          601.625,
          601.625,
          601.625,
          606.875,
          596.125,
          590.875,
          587.625,
          586.25,
          586.25,
          581.375,
          577.25,
          575.875,
          575.625,
          575.625,
          575.5,
          573.125,
          571.125,
          570.625,
          563.125,
          561.75,
          560.75,
          559.75,
          557.75,
          555.625,
          555.25,
          551.625,
          551.375,
          550.75,
          549.5,
          549.125,
          547.375,
          733.75,
          721,
          720,
          717.625,
          717.375,
          714,
          711.625,
          710.125,
          709.5,
          708,
          706.75,
          705.25,
          704.75,
          704.125,
          701.75,
          701.5,
          700.125,
          698.125,
          693.875,
          692.75,
          692.125,
          690.125,
          689.375,
          688.375,
          688.25,
          688,
          688,
          687.875,
          687.875,
          687.75,
          687.375,
          685,
          682.75,
          681.375,
          680.875,
          680,
          678.875,
          678.75,
          678.375,
          677.25,
          700.75,
          697,
          696.625,
          689.125,
          686.5,
          685.75,
          673.875,
          671.875,
          671.75,
          670,
          666.625,
          664.625,
          662.25,
          656.25,
          649.5,
          646.25,
          634,
          622.5,
          621.25,
          618.875,
          618.75,
          617.5,
          615.5,
          614.625,
          614.5,
          610.75,
          610.625,
          608.25,
          606.25,
          604.75,
          604.5,
          604,
          602.625,
          602.125,
          601.875,
          598,
          595,
          594.625,
          592.5,
          592.25,
          591.75,
          590.875,
          589.5,
          589.125,
          589,
          588.375,
          587.25,
          586.25,
          605.125,
          601,
          597.875,
          593.75,
          586.375,
          585.125,
          581.375,
          572.5,
          569.75,
          568.875,
          567.875,
          555.25,
          676.875,
          655.375,
          649.875,
          648.625,
          642.375,
          641.5,
          639.25,
          636.875,
          636.375,
          629.75,
          628.125,
          627.25,
          626.5,
          626,
          620.875,
          620.75,
          619.875,
          619.625,
          618,
          617.75,
          617.5,
          617.25,
          617,
          615.375,
          614,
          613.25,
          612.875,
          612.875,
          646.25,
          616,
          611.625,
          608.75,
          606,
          602.25,
          602.125,
          598.625,
          598.25,
          598.25,
          597.75,
          597.75,
          595.625,
          593.5,
          593.25,
          589.25,
          587.5,
          586,
          584.125,
          583.25,
          580.625,
          580.5,
          578.75,
          578.625,
          578,
          577.625,
          577.625,
          577.125,
          576.875,
          576.25,
          576.125,
          576.125,
          576,
          576,
          575.625,
          575.5,
          572.875,
          571.5,
          571.375,
          571.125,
          571,
          569,
          568.75,
          568.125,
          567.625,
          567.375,
          567,
          565.625,
          565,
          564.875,
          560.875,
          560,
          559.875,
          559.625,
          559.5,
          559.125,
          557.875,
          557.375,
          556.125,
          556,
          555.75,
          555.5,
          555,
          554.5,
          554,
          553.625,
          553.375,
          552.875,
          552.75,
          552.5,
          552.125,
          551.75,
          551.75,
          551.5,
          551.5,
          550.875,
          550.5,
          550,
          549.625,
          549.5,
          549.375,
          548.25,
          548.25,
          548.125,
          547.25,
          546.375,
          545.875,
          545.5,
          545.125,
          545,
          544.875,
          544.5,
          544.5,
          544.125,
          543.25,
          543,
          542.875,
          542.5,
          542.375,
          542.375,
          542,
          541.75,
          541.75,
          541.625,
          540.375,
          577.125,
          545,
          531,
          529.625,
          518.625,
          516.75,
          668.5,
          665.375,
          660.5,
          660.375,
          658.625,
          656.25,
          654.875,
          651.5,
          649,
          639,
          638,
          637.875,
          635.625,
          633.625,
          631.625,
          628.125,
          627.5,
          623.375,
          621.375,
          620.875,
          619.625,
          617.25,
          617.125,
          616.25,
          615.75,
          571.5,
          556.875,
          554.375,
          546.375,
          531.25,
          530.875,
          530.75,
          520.875,
          705.75,
          671.125,
          662.75,
          660.875,
          659,
          652.125,
          650.5,
          649.25,
          647.125,
          645.375,
          644.125,
          640.875,
          636.875,
          635.125,
          634.625,
          633.375,
          632.875,
          632.375,
          632.375,
          630.375,
          630.25,
          629.875,
          629.5,
          629.375,
          628.875,
          628.625,
          628.625,
          626.875,
          626,
          625.625,
          623.375,
          622.5,
          679.75,
          665.875,
          652.625,
          651.75,
          651.25,
          650.625,
          647.875,
          647.375,
          637,
          635.875,
          633.75,
          630.25,
          630,
          629,
          626.75,
          624.5,
          623.75,
          622.25,
          621.5,
          616.875,
          616.5,
          615.625,
          614.375,
          614.25,
          614.125,
          613.25,
          612.625,
          612.625,
          611.625,
          610.75,
          610.5,
          610.375,
          640.125,
          624.5,
          622.75,
          621.625,
          616.625,
          610,
          607.125,
          606.625,
          606.25,
          601.5,
          598.5,
          598.125,
          595.625,
          594.875,
          684.625,
          669.75,
          662.625,
          661.75,
          660.125,
          653.875,
          652.75,
          648.25,
          647.875,
          647.375,
          646.875,
          646.75,
          642.875,
          642.25,
          642.125,
          640.5,
          639.5,
          638.875,
          637.5,
          637.5,
          636.75,
          636.125,
          636.125,
          635.875,
          632.75,
          627.875,
          627.375,
          627.375,
          626.875,
          626.125,
          624.5,
          624,
          730.5,
          728.375,
          674.125,
          670.125,
          669.25,
          665,
          664.625,
          664.125,
          661.375,
          660.5,
          658.75,
          656.625,
          654.75,
          654.125,
          653.125,
          650.5,
          648.25,
          647.125,
          644.875,
          643.125,
          643,
          642.875,
          642.625,
          641.875,
          641.25,
          637.625,
          637,
          635.5,
          634.125,
          633.375,
          631.5,
          631.5,
          631.25,
          630.75,
          629,
          629,
          625.375,
          625.25,
          661.875,
          660.625,
          660,
          657.375,
          652.875,
          639.125,
          637,
          635.375,
          633.75,
          633.75,
          632.75,
          630,
          628.75,
          627.5,
          625.5,
          623.75,
          623.75,
          623,
          623,
          622.875,
          622.25,
          621.125,
          619.375,
          617,
          644.875,
          642.5,
          634,
          629.75,
          626.125,
          623.75,
          623.375,
          622.5,
          615.875,
          614.875,
          614,
          612.75,
          609.5,
          608.25,
          607.25,
          606.625,
          606,
          605.125,
          604.25,
          604.25,
          602.375,
          602.125,
          601.375,
          601.25,
          597.375,
          655.875,
          655.5,
          653.75,
          650.625,
          646.625,
          642.375,
          641.125,
          640.625,
          633,
          632.375,
          630.25,
          624.875,
          623.25,
          621,
          620,
          619.25,
          618.75,
          612.375,
          610.875,
          610.5,
          667.375,
          657.5,
          649.375,
          641.125,
          640,
          639.75,
          636.625,
          634.875,
          631.75,
          628.625,
          624.125,
          623.75,
          623.25,
          623.125,
          617.5,
          616.875,
          616.5,
          616.25,
          615.875,
          614.875,
          614.25,
          612.75,
          612,
          609.5,
          608.375,
          608.25,
          607.5,
          607.25,
          603.625,
          599.5,
          599.375,
          599.25,
          635.25,
          632.625,
          626.375,
          623.375,
          622.875,
          620.875,
          614,
          611.5,
          609.875,
          608.875,
          608.375,
          605.375,
          604.5,
          604.125,
          603.125,
          601.875,
          601.125,
          596.75,
          596.375,
          596.25,
          596,
          594.875,
          593.75,
          593.375,
          591.375,
          589,
          588,
          587.75,
          668.75,
          654,
          653.125,
          648.5,
          648.125,
          646.875,
          646.75,
          646.5,
          645.625,
          643.25,
          642.5,
          642.375,
          640.5,
          640.25,
          639.625,
          639.625,
          638.75,
          638.375,
          637.75,
          634.625,
          634.625,
          633.125,
          633.125,
          631.125,
          631,
          629.75,
          629.5,
          629.375,
          634.125,
          625,
          604.25,
          603.625,
          602.25,
          597.125,
          597.125,
          595.75,
          593.375,
          591.625,
          589.375,
          584.375,
          580,
          579.625,
          621.75,
          593,
          590.75,
          588.75,
          581.375,
          580.25,
          579.625,
          579.25,
          578.625,
          577.625,
          577.375,
          572.875,
          571.75,
          571.625,
          568.875,
          564,
          563.875,
          561.875,
          558.25,
          558.25,
          557.25,
          555.875,
          555.5,
          555.125,
          552.375,
          551.375,
          551.125,
          549.25,
          626.75,
          624.625,
          616.875,
          613.875,
          612.25,
          610.125,
          609.875,
          609.375,
          604.5,
          604.25,
          604.25,
          603.75,
          601.125,
          595.125,
          595.125,
          592,
          591.375,
          591.25,
          589.75,
          589.625,
          589.25,
          588,
          587.875,
          586.625,
          585.5,
          584.5,
          584.25,
          581.5,
          581,
          580.25,
          579.625,
          578.625,
          578.375,
          578,
          576.875,
          575.625,
          575.5,
          575.25,
          574.625,
          574.625,
          651.125,
          638.875,
          638.5,
          638.375,
          632.375,
          618.375,
          615.125,
          609.375,
          609,
          605.875,
          605.75,
          605.625
         ]
        }
       ],
       "layout": {
        "template": {
         "data": {
          "bar": [
           {
            "error_x": {
             "color": "#2a3f5f"
            },
            "error_y": {
             "color": "#2a3f5f"
            },
            "marker": {
             "line": {
              "color": "#E5ECF6",
              "width": 0.5
             },
             "pattern": {
              "fillmode": "overlay",
              "size": 10,
              "solidity": 0.2
             }
            },
            "type": "bar"
           }
          ],
          "barpolar": [
           {
            "marker": {
             "line": {
              "color": "#E5ECF6",
              "width": 0.5
             },
             "pattern": {
              "fillmode": "overlay",
              "size": 10,
              "solidity": 0.2
             }
            },
            "type": "barpolar"
           }
          ],
          "carpet": [
           {
            "aaxis": {
             "endlinecolor": "#2a3f5f",
             "gridcolor": "white",
             "linecolor": "white",
             "minorgridcolor": "white",
             "startlinecolor": "#2a3f5f"
            },
            "baxis": {
             "endlinecolor": "#2a3f5f",
             "gridcolor": "white",
             "linecolor": "white",
             "minorgridcolor": "white",
             "startlinecolor": "#2a3f5f"
            },
            "type": "carpet"
           }
          ],
          "choropleth": [
           {
            "colorbar": {
             "outlinewidth": 0,
             "ticks": ""
            },
            "type": "choropleth"
           }
          ],
          "contour": [
           {
            "colorbar": {
             "outlinewidth": 0,
             "ticks": ""
            },
            "colorscale": [
             [
              0,
              "#0d0887"
             ],
             [
              0.1111111111111111,
              "#46039f"
             ],
             [
              0.2222222222222222,
              "#7201a8"
             ],
             [
              0.3333333333333333,
              "#9c179e"
             ],
             [
              0.4444444444444444,
              "#bd3786"
             ],
             [
              0.5555555555555556,
              "#d8576b"
             ],
             [
              0.6666666666666666,
              "#ed7953"
             ],
             [
              0.7777777777777778,
              "#fb9f3a"
             ],
             [
              0.8888888888888888,
              "#fdca26"
             ],
             [
              1,
              "#f0f921"
             ]
            ],
            "type": "contour"
           }
          ],
          "contourcarpet": [
           {
            "colorbar": {
             "outlinewidth": 0,
             "ticks": ""
            },
            "type": "contourcarpet"
           }
          ],
          "heatmap": [
           {
            "colorbar": {
             "outlinewidth": 0,
             "ticks": ""
            },
            "colorscale": [
             [
              0,
              "#0d0887"
             ],
             [
              0.1111111111111111,
              "#46039f"
             ],
             [
              0.2222222222222222,
              "#7201a8"
             ],
             [
              0.3333333333333333,
              "#9c179e"
             ],
             [
              0.4444444444444444,
              "#bd3786"
             ],
             [
              0.5555555555555556,
              "#d8576b"
             ],
             [
              0.6666666666666666,
              "#ed7953"
             ],
             [
              0.7777777777777778,
              "#fb9f3a"
             ],
             [
              0.8888888888888888,
              "#fdca26"
             ],
             [
              1,
              "#f0f921"
             ]
            ],
            "type": "heatmap"
           }
          ],
          "heatmapgl": [
           {
            "colorbar": {
             "outlinewidth": 0,
             "ticks": ""
            },
            "colorscale": [
             [
              0,
              "#0d0887"
             ],
             [
              0.1111111111111111,
              "#46039f"
             ],
             [
              0.2222222222222222,
              "#7201a8"
             ],
             [
              0.3333333333333333,
              "#9c179e"
             ],
             [
              0.4444444444444444,
              "#bd3786"
             ],
             [
              0.5555555555555556,
              "#d8576b"
             ],
             [
              0.6666666666666666,
              "#ed7953"
             ],
             [
              0.7777777777777778,
              "#fb9f3a"
             ],
             [
              0.8888888888888888,
              "#fdca26"
             ],
             [
              1,
              "#f0f921"
             ]
            ],
            "type": "heatmapgl"
           }
          ],
          "histogram": [
           {
            "marker": {
             "pattern": {
              "fillmode": "overlay",
              "size": 10,
              "solidity": 0.2
             }
            },
            "type": "histogram"
           }
          ],
          "histogram2d": [
           {
            "colorbar": {
             "outlinewidth": 0,
             "ticks": ""
            },
            "colorscale": [
             [
              0,
              "#0d0887"
             ],
             [
              0.1111111111111111,
              "#46039f"
             ],
             [
              0.2222222222222222,
              "#7201a8"
             ],
             [
              0.3333333333333333,
              "#9c179e"
             ],
             [
              0.4444444444444444,
              "#bd3786"
             ],
             [
              0.5555555555555556,
              "#d8576b"
             ],
             [
              0.6666666666666666,
              "#ed7953"
             ],
             [
              0.7777777777777778,
              "#fb9f3a"
             ],
             [
              0.8888888888888888,
              "#fdca26"
             ],
             [
              1,
              "#f0f921"
             ]
            ],
            "type": "histogram2d"
           }
          ],
          "histogram2dcontour": [
           {
            "colorbar": {
             "outlinewidth": 0,
             "ticks": ""
            },
            "colorscale": [
             [
              0,
              "#0d0887"
             ],
             [
              0.1111111111111111,
              "#46039f"
             ],
             [
              0.2222222222222222,
              "#7201a8"
             ],
             [
              0.3333333333333333,
              "#9c179e"
             ],
             [
              0.4444444444444444,
              "#bd3786"
             ],
             [
              0.5555555555555556,
              "#d8576b"
             ],
             [
              0.6666666666666666,
              "#ed7953"
             ],
             [
              0.7777777777777778,
              "#fb9f3a"
             ],
             [
              0.8888888888888888,
              "#fdca26"
             ],
             [
              1,
              "#f0f921"
             ]
            ],
            "type": "histogram2dcontour"
           }
          ],
          "mesh3d": [
           {
            "colorbar": {
             "outlinewidth": 0,
             "ticks": ""
            },
            "type": "mesh3d"
           }
          ],
          "parcoords": [
           {
            "line": {
             "colorbar": {
              "outlinewidth": 0,
              "ticks": ""
             }
            },
            "type": "parcoords"
           }
          ],
          "pie": [
           {
            "automargin": true,
            "type": "pie"
           }
          ],
          "scatter": [
           {
            "marker": {
             "colorbar": {
              "outlinewidth": 0,
              "ticks": ""
             }
            },
            "type": "scatter"
           }
          ],
          "scatter3d": [
           {
            "line": {
             "colorbar": {
              "outlinewidth": 0,
              "ticks": ""
             }
            },
            "marker": {
             "colorbar": {
              "outlinewidth": 0,
              "ticks": ""
             }
            },
            "type": "scatter3d"
           }
          ],
          "scattercarpet": [
           {
            "marker": {
             "colorbar": {
              "outlinewidth": 0,
              "ticks": ""
             }
            },
            "type": "scattercarpet"
           }
          ],
          "scattergeo": [
           {
            "marker": {
             "colorbar": {
              "outlinewidth": 0,
              "ticks": ""
             }
            },
            "type": "scattergeo"
           }
          ],
          "scattergl": [
           {
            "marker": {
             "colorbar": {
              "outlinewidth": 0,
              "ticks": ""
             }
            },
            "type": "scattergl"
           }
          ],
          "scattermapbox": [
           {
            "marker": {
             "colorbar": {
              "outlinewidth": 0,
              "ticks": ""
             }
            },
            "type": "scattermapbox"
           }
          ],
          "scatterpolar": [
           {
            "marker": {
             "colorbar": {
              "outlinewidth": 0,
              "ticks": ""
             }
            },
            "type": "scatterpolar"
           }
          ],
          "scatterpolargl": [
           {
            "marker": {
             "colorbar": {
              "outlinewidth": 0,
              "ticks": ""
             }
            },
            "type": "scatterpolargl"
           }
          ],
          "scatterternary": [
           {
            "marker": {
             "colorbar": {
              "outlinewidth": 0,
              "ticks": ""
             }
            },
            "type": "scatterternary"
           }
          ],
          "surface": [
           {
            "colorbar": {
             "outlinewidth": 0,
             "ticks": ""
            },
            "colorscale": [
             [
              0,
              "#0d0887"
             ],
             [
              0.1111111111111111,
              "#46039f"
             ],
             [
              0.2222222222222222,
              "#7201a8"
             ],
             [
              0.3333333333333333,
              "#9c179e"
             ],
             [
              0.4444444444444444,
              "#bd3786"
             ],
             [
              0.5555555555555556,
              "#d8576b"
             ],
             [
              0.6666666666666666,
              "#ed7953"
             ],
             [
              0.7777777777777778,
              "#fb9f3a"
             ],
             [
              0.8888888888888888,
              "#fdca26"
             ],
             [
              1,
              "#f0f921"
             ]
            ],
            "type": "surface"
           }
          ],
          "table": [
           {
            "cells": {
             "fill": {
              "color": "#EBF0F8"
             },
             "line": {
              "color": "white"
             }
            },
            "header": {
             "fill": {
              "color": "#C8D4E3"
             },
             "line": {
              "color": "white"
             }
            },
            "type": "table"
           }
          ]
         },
         "layout": {
          "annotationdefaults": {
           "arrowcolor": "#2a3f5f",
           "arrowhead": 0,
           "arrowwidth": 1
          },
          "autotypenumbers": "strict",
          "coloraxis": {
           "colorbar": {
            "outlinewidth": 0,
            "ticks": ""
           }
          },
          "colorscale": {
           "diverging": [
            [
             0,
             "#8e0152"
            ],
            [
             0.1,
             "#c51b7d"
            ],
            [
             0.2,
             "#de77ae"
            ],
            [
             0.3,
             "#f1b6da"
            ],
            [
             0.4,
             "#fde0ef"
            ],
            [
             0.5,
             "#f7f7f7"
            ],
            [
             0.6,
             "#e6f5d0"
            ],
            [
             0.7,
             "#b8e186"
            ],
            [
             0.8,
             "#7fbc41"
            ],
            [
             0.9,
             "#4d9221"
            ],
            [
             1,
             "#276419"
            ]
           ],
           "sequential": [
            [
             0,
             "#0d0887"
            ],
            [
             0.1111111111111111,
             "#46039f"
            ],
            [
             0.2222222222222222,
             "#7201a8"
            ],
            [
             0.3333333333333333,
             "#9c179e"
            ],
            [
             0.4444444444444444,
             "#bd3786"
            ],
            [
             0.5555555555555556,
             "#d8576b"
            ],
            [
             0.6666666666666666,
             "#ed7953"
            ],
            [
             0.7777777777777778,
             "#fb9f3a"
            ],
            [
             0.8888888888888888,
             "#fdca26"
            ],
            [
             1,
             "#f0f921"
            ]
           ],
           "sequentialminus": [
            [
             0,
             "#0d0887"
            ],
            [
             0.1111111111111111,
             "#46039f"
            ],
            [
             0.2222222222222222,
             "#7201a8"
            ],
            [
             0.3333333333333333,
             "#9c179e"
            ],
            [
             0.4444444444444444,
             "#bd3786"
            ],
            [
             0.5555555555555556,
             "#d8576b"
            ],
            [
             0.6666666666666666,
             "#ed7953"
            ],
            [
             0.7777777777777778,
             "#fb9f3a"
            ],
            [
             0.8888888888888888,
             "#fdca26"
            ],
            [
             1,
             "#f0f921"
            ]
           ]
          },
          "colorway": [
           "#636efa",
           "#EF553B",
           "#00cc96",
           "#ab63fa",
           "#FFA15A",
           "#19d3f3",
           "#FF6692",
           "#B6E880",
           "#FF97FF",
           "#FECB52"
          ],
          "font": {
           "color": "#2a3f5f"
          },
          "geo": {
           "bgcolor": "white",
           "lakecolor": "white",
           "landcolor": "#E5ECF6",
           "showlakes": true,
           "showland": true,
           "subunitcolor": "white"
          },
          "hoverlabel": {
           "align": "left"
          },
          "hovermode": "closest",
          "mapbox": {
           "style": "light"
          },
          "paper_bgcolor": "white",
          "plot_bgcolor": "#E5ECF6",
          "polar": {
           "angularaxis": {
            "gridcolor": "white",
            "linecolor": "white",
            "ticks": ""
           },
           "bgcolor": "#E5ECF6",
           "radialaxis": {
            "gridcolor": "white",
            "linecolor": "white",
            "ticks": ""
           }
          },
          "scene": {
           "xaxis": {
            "backgroundcolor": "#E5ECF6",
            "gridcolor": "white",
            "gridwidth": 2,
            "linecolor": "white",
            "showbackground": true,
            "ticks": "",
            "zerolinecolor": "white"
           },
           "yaxis": {
            "backgroundcolor": "#E5ECF6",
            "gridcolor": "white",
            "gridwidth": 2,
            "linecolor": "white",
            "showbackground": true,
            "ticks": "",
            "zerolinecolor": "white"
           },
           "zaxis": {
            "backgroundcolor": "#E5ECF6",
            "gridcolor": "white",
            "gridwidth": 2,
            "linecolor": "white",
            "showbackground": true,
            "ticks": "",
            "zerolinecolor": "white"
           }
          },
          "shapedefaults": {
           "line": {
            "color": "#2a3f5f"
           }
          },
          "ternary": {
           "aaxis": {
            "gridcolor": "white",
            "linecolor": "white",
            "ticks": ""
           },
           "baxis": {
            "gridcolor": "white",
            "linecolor": "white",
            "ticks": ""
           },
           "bgcolor": "#E5ECF6",
           "caxis": {
            "gridcolor": "white",
            "linecolor": "white",
            "ticks": ""
           }
          },
          "title": {
           "x": 0.05
          },
          "xaxis": {
           "automargin": true,
           "gridcolor": "white",
           "linecolor": "white",
           "ticks": "",
           "title": {
            "standoff": 15
           },
           "zerolinecolor": "white",
           "zerolinewidth": 2
          },
          "yaxis": {
           "automargin": true,
           "gridcolor": "white",
           "linecolor": "white",
           "ticks": "",
           "title": {
            "standoff": 15
           },
           "zerolinecolor": "white",
           "zerolinewidth": 2
          }
         }
        },
        "title": {
         "text": "UB Distribution scores for Science Major 2019"
        }
       }
      }
     },
     "metadata": {},
     "output_type": "display_data"
    },
    {
     "data": {
      "application/vnd.plotly.v1+json": {
       "config": {
        "plotlyServerURL": "https://plot.ly"
       },
       "data": [
        {
         "marker": {
          "color": "indianred"
         },
         "name": "specialized_score",
         "type": "box",
         "y": [
          536,
          621.75,
          564.75,
          563.75,
          657,
          524.75,
          534.5,
          495.25,
          564.75,
          542,
          544.5,
          636,
          733.5,
          649.5,
          640.75,
          656.25,
          667.5,
          546.75,
          529.5,
          621.75,
          670.75,
          586.75,
          638.25,
          636.5,
          619.25,
          644,
          648.75,
          560,
          678.75,
          506.75,
          605.75,
          611.75,
          645.5,
          566.5,
          639,
          566.5,
          558,
          695,
          727.25,
          589,
          668.5,
          739,
          626.5,
          712.75,
          621.5,
          674.25,
          715.5,
          668.75,
          784,
          650.75,
          632,
          632.5,
          677.25,
          628.25,
          617.5,
          663.5,
          660.5,
          637.5,
          663.5,
          583.75,
          597,
          660.5,
          635.5,
          575.5,
          590.5,
          591,
          536.25,
          624.75,
          617.25,
          700.25,
          635,
          575.25,
          656.5,
          573.25,
          632.25,
          673.5,
          670,
          594,
          622.75,
          631.75,
          598.75,
          653,
          635.5,
          617.5,
          548,
          564.25,
          520,
          566.75,
          550.75,
          582.5,
          528.5,
          610,
          619.25,
          583,
          479,
          701,
          556.75,
          583.75,
          628.75,
          513.75,
          541.75,
          653.25,
          526,
          648.25,
          666.25,
          660.25,
          646,
          601.25,
          694.5,
          576.25,
          597,
          529,
          574,
          611.5,
          629.25,
          578.75,
          662.75,
          515.25,
          672,
          579.25,
          606.5,
          617.25,
          579,
          609.5,
          656.5,
          718.75,
          756.75,
          673.75,
          568,
          605.75,
          698.25,
          642.75,
          628.5,
          632,
          611.75,
          694.75,
          595.5,
          652.25,
          611.25,
          582.25,
          642.75,
          656.75,
          579.25,
          684.25,
          567.25,
          631.5,
          680.5,
          636.75,
          672.5,
          635.25,
          601.75,
          624.5,
          662.25,
          513.25,
          639.25,
          646,
          622.75,
          638.25,
          648.75,
          569.75,
          537.75,
          542,
          615.5,
          647,
          614.5,
          587.75,
          597.75,
          673.75,
          754.75,
          698.5,
          642,
          630.75,
          594.75,
          680.5,
          654,
          670.5,
          644.5,
          633.75,
          628.5,
          613.25,
          622.25,
          676.25,
          611.25,
          637,
          614,
          648,
          623,
          591,
          554.25,
          677.25,
          581.25,
          663.5,
          645.5,
          610.25,
          716.5,
          712.75,
          665,
          740.5,
          607.25,
          601.5,
          666.75,
          533.75,
          622,
          677.5,
          637.75,
          645.5,
          618.5,
          667,
          641.75,
          635.25,
          619.25,
          635.5,
          680.25,
          611.75,
          594.25,
          609.25,
          597.25,
          630,
          621,
          631.75,
          637,
          633.25,
          586.5,
          594.25,
          677.75,
          598.75,
          601.75,
          678.5,
          606.75,
          585.5,
          548.5,
          672.25,
          621.5,
          620.75,
          525.25,
          575.5,
          618.25,
          608,
          563,
          583.25,
          566.75,
          582.25,
          621.25,
          540.25,
          672.25,
          567.75,
          518,
          533.5,
          618.25,
          606.75,
          666.25,
          635,
          619.25,
          634.5,
          658.25,
          625,
          583.25,
          692,
          589.25,
          635.25,
          647,
          643.25,
          631.75,
          537.25,
          580.25,
          648.5,
          660,
          573.75,
          638.75,
          607.5,
          643.75,
          596,
          639.75,
          655.75,
          617.25,
          617.5,
          626.5,
          567,
          569,
          604.25,
          638,
          623.5,
          607,
          634.5,
          672.25,
          607.75,
          586.75,
          556.25,
          610.25,
          537.75,
          638.25,
          533,
          665,
          603.75,
          629.75,
          621,
          654,
          612.25,
          642,
          599,
          639.25,
          570.25,
          615.5,
          582.75,
          543,
          588.5,
          577.75,
          621,
          597.75,
          601.25,
          672,
          691.75,
          699.5,
          712.75,
          561.5,
          596.25,
          607.5,
          644.5,
          692,
          570.25,
          650.75,
          693,
          703.5,
          620.5,
          575,
          704,
          610.25,
          659.25,
          626.5,
          599.75,
          566.5,
          676.25,
          565.25,
          634.75,
          621.5,
          664,
          571.25,
          610.5,
          523.25,
          521,
          675.5,
          646,
          680,
          658.5,
          674,
          631.75,
          635,
          605.75,
          675.75,
          618,
          605.25,
          545.5,
          624.25,
          671.75,
          516.75,
          642.75,
          650.5,
          644,
          640.5,
          739,
          537,
          607.5,
          669.5,
          577.75,
          618,
          678.5,
          606.75,
          711.5,
          684.5,
          638.5,
          620.5,
          595.5,
          551.75,
          535.5,
          655.75,
          667,
          698.5,
          614,
          687.25,
          635,
          590,
          640.25,
          713.75,
          612,
          601.5,
          585.75,
          528,
          602.75,
          537.5,
          622.25,
          604.25,
          600.25,
          591.25,
          625.25,
          529,
          539.25,
          617.25,
          669,
          640,
          609.25,
          626,
          675,
          554,
          571.5,
          643.5,
          637.25,
          544.75,
          526.5,
          649.75,
          613,
          637,
          592.5,
          540.25,
          594.75,
          578.25,
          684.75,
          661.5,
          658.25,
          685.25,
          732.25,
          660.25,
          624,
          546.5,
          737.5,
          630.25,
          582.5,
          588.5,
          557.25,
          613.75,
          649.5,
          675.25,
          640.25,
          645.25,
          624.25,
          595.25,
          610.75,
          662,
          504.75,
          588.5,
          532,
          607.75,
          654.5,
          603.25,
          563.5,
          569.25,
          647.75,
          627,
          639.75,
          691.25,
          655.75,
          637.5,
          621,
          698.25,
          549.75,
          614.75,
          733.5,
          701.5,
          560.5,
          684,
          586.25,
          640.75,
          656,
          648.25,
          663,
          577,
          591.75,
          615,
          550,
          563.75,
          634.75,
          601.25,
          624.5,
          584,
          622.25,
          632,
          587.75,
          556,
          592.75,
          564.25,
          622.25,
          453.75,
          618.25,
          488,
          599.5,
          629.75,
          605,
          472.25,
          519.75,
          605.25,
          645,
          656.25,
          655,
          686.75,
          645.25,
          564.75,
          667.5,
          618.5,
          580.5,
          622,
          600.25,
          583.25,
          543,
          588.5,
          603,
          572.75,
          608.5,
          658.75,
          610,
          591,
          653.75,
          603.25,
          610,
          563,
          543,
          594.75,
          633.75,
          668.75,
          602.25,
          620,
          465.75,
          661.25,
          526,
          588.75,
          491.5,
          515.5,
          635,
          665.5,
          602.25,
          660.5,
          677.75,
          669.75,
          569.25,
          622.25,
          639.75,
          630.75,
          722,
          534.25,
          672,
          688.75,
          661,
          674.75,
          659,
          628,
          745,
          671.25,
          635.25,
          719.75,
          576.5,
          639.75,
          690.75,
          578.5,
          601.5,
          607.25,
          712.5,
          583,
          617.75,
          620,
          633.75,
          612.25,
          615.5,
          609.5,
          640,
          548.75,
          699,
          532,
          663.75,
          681.25,
          660.25,
          628.25,
          622.25,
          608.25,
          595.25,
          634.5,
          662,
          625.5,
          553.75,
          626.25,
          620.75,
          588,
          674.75,
          607.5,
          605.5,
          530.25,
          558.5,
          512.5,
          612.5,
          579.25,
          559.5,
          609.75,
          506.5,
          601.25,
          552.75,
          625,
          611.5,
          519.25,
          549,
          562.5,
          541.75,
          495.25,
          577.25,
          604.5,
          480.25,
          562.5,
          596.75,
          586,
          496.25,
          533.5,
          505.5,
          505.25,
          512.5,
          601,
          652.25,
          620.5,
          543.5,
          551.5,
          583.75,
          675,
          666,
          594.25,
          625.5,
          556.25,
          631.5,
          575.5,
          564,
          527.75,
          561.75,
          590.25,
          557,
          575,
          574.5,
          637,
          613.75,
          654.5,
          559.75,
          603.25,
          561.25,
          569.75,
          568,
          603.75,
          500.25,
          591.5,
          610.5,
          629.5,
          693.5,
          642.75,
          617.75,
          710,
          647.75,
          617,
          592.75,
          695.5,
          637,
          675.75,
          547.25,
          635.25,
          595.5,
          695.5,
          537.25,
          652.5,
          653.75,
          621.5,
          595.25,
          651.75,
          733.75,
          675.5,
          551.5,
          578.25,
          662,
          628,
          599.75,
          617,
          545,
          603.25,
          641.5,
          634,
          672.25,
          640.75,
          519.5,
          498.25,
          554,
          613.5,
          555.75,
          556.25,
          593.75,
          584.25,
          545.75,
          527.75,
          554,
          653.75,
          619,
          683.5,
          633.25,
          572.25,
          604,
          535.75,
          678,
          678.5,
          607,
          580.25,
          604.75,
          570,
          604.75,
          696,
          481.25,
          539.5,
          579.5,
          650.5,
          594.25,
          546.5,
          508,
          558.5,
          627,
          610.5,
          478.75,
          529.75,
          552.75,
          640.25,
          621.75,
          543,
          658.25,
          514.5,
          528.75,
          578.5,
          570.75,
          568.25,
          555.5,
          686.75,
          623.5,
          570.25,
          674.5,
          552,
          569.25,
          591.25,
          569.5,
          564.25,
          572,
          413,
          500.25,
          651.75,
          634.75,
          489.25,
          579.75,
          719,
          626.5,
          753.5,
          640.75,
          612,
          639.75,
          544.25,
          597.75,
          613,
          589.5,
          604.5,
          645.25,
          556.25,
          643.25,
          526.75,
          584.25,
          533.5,
          612.25,
          614,
          597,
          645.25,
          512.25,
          508.75
         ]
        },
        {
         "marker": {
          "color": "lightseagreen"
         },
         "name": "general_score",
         "type": "box",
         "y": [
          650,
          582.6,
          601.4,
          595.2,
          521.8,
          595.2,
          584.2,
          593.6,
          564.4,
          584.4,
          582,
          527.6,
          642.2,
          649.2,
          644.2,
          643,
          624,
          680.2,
          675.4,
          628,
          628.2,
          649.6,
          620.8,
          639.4,
          633.4,
          607.2,
          608.8,
          665.6,
          576,
          669.2,
          604.2,
          618.8,
          601.6,
          637.2,
          618.6,
          636.6,
          603.2,
          673.4,
          651.4,
          715.2,
          639.6,
          610.6,
          682.6,
          633.6,
          675.4,
          654.2,
          631.8,
          644.4,
          574.4,
          654.4,
          673,
          654.2,
          636.4,
          646.6,
          656.8,
          629,
          621.8,
          626.8,
          613.8,
          675.8,
          676,
          623.8,
          628.2,
          644.6,
          654,
          645.2,
          679.8,
          623.8,
          614,
          593.8,
          599.2,
          669.2,
          612,
          632,
          595.6,
          623.2,
          605.6,
          622.6,
          611,
          611.8,
          625.6,
          628.2,
          597.8,
          555.8,
          618,
          594,
          630.2,
          597.4,
          602.2,
          577.6,
          614.4,
          558.8,
          603.6,
          596.6,
          652.4,
          533.4,
          588.8,
          589.8,
          551,
          616.8,
          596.6,
          514.4,
          591,
          668.2,
          625.4,
          619.8,
          604,
          585.6,
          587.4,
          583.2,
          594.8,
          638,
          621.2,
          566.2,
          562.4,
          607.6,
          563.4,
          625,
          541.6,
          614,
          604.2,
          580,
          614.8,
          690.2,
          649,
          591,
          594.6,
          598,
          667.8,
          642,
          594.4,
          591.2,
          629.4,
          624.4,
          588.2,
          547,
          616.4,
          593,
          611.2,
          653.4,
          589.2,
          565.4,
          623.8,
          640.8,
          661.2,
          648.6,
          615.6,
          585.8,
          601.4,
          606.8,
          633.2,
          612.4,
          602.4,
          673.2,
          619.6,
          590.8,
          590.4,
          597.8,
          593.8,
          621.6,
          652.2,
          637.6,
          590,
          593.4,
          583.6,
          615.4,
          627,
          569.4,
          660,
          643.2,
          649.4,
          669,
          655.6,
          614.8,
          611.4,
          610,
          595.4,
          622.8,
          639.2,
          613.6,
          635.2,
          589.8,
          637.6,
          626.6,
          660,
          599,
          623.8,
          615.8,
          635.2,
          577.6,
          640.8,
          611.8,
          601.6,
          630.2,
          543.2,
          636.2,
          685.8,
          581,
          648,
          686,
          637.6,
          687.6,
          610.8,
          594.4,
          612.8,
          598.4,
          651.6,
          604.8,
          611.4,
          637.6,
          648.4,
          611.8,
          585.4,
          605,
          625.8,
          637.2,
          627.2,
          605,
          636.4,
          581.4,
          592.8,
          580,
          616.8,
          617,
          555.6,
          629.6,
          642,
          581.2,
          625.8,
          622.6,
          650.8,
          574,
          638,
          594.2,
          661,
          632,
          633.2,
          620.6,
          644.6,
          631.8,
          634.2,
          608.8,
          625.6,
          629.2,
          577.4,
          635.6,
          663.8,
          665.2,
          584.2,
          595.8,
          576.4,
          588,
          594,
          584.4,
          572,
          585.4,
          601,
          609.2,
          672.4,
          663,
          603.2,
          637.8,
          627.6,
          645.8,
          619.6,
          623.4,
          607.2,
          636.2,
          615.2,
          627.6,
          594,
          592.6,
          565,
          596.8,
          600.4,
          576.2,
          581.8,
          637.6,
          615.6,
          589.2,
          595.8,
          583.4,
          561.8,
          560.8,
          540,
          610.8,
          612,
          613,
          576,
          587.4,
          555.8,
          612.8,
          558,
          580,
          568.6,
          570.4,
          531,
          579.2,
          550.4,
          584.6,
          550.2,
          601,
          562.2,
          594.4,
          590.6,
          584.8,
          576.6,
          577,
          574.6,
          567.6,
          521.6,
          716.2,
          655.6,
          614.2,
          724.6,
          726.6,
          670.4,
          660.8,
          629.8,
          696.8,
          615.6,
          603.4,
          597.8,
          674.8,
          644.2,
          602,
          656.6,
          636.4,
          640.4,
          664.8,
          651.4,
          613.6,
          668.2,
          636.4,
          654.4,
          635.4,
          631.2,
          627.6,
          676.8,
          664.2,
          609.2,
          597.2,
          595,
          591.2,
          557,
          612.6,
          564.8,
          607,
          599.6,
          627.4,
          608.8,
          646.4,
          586.4,
          592.4,
          668.4,
          577,
          577.6,
          584.4,
          579.4,
          567.6,
          672.2,
          580.4,
          589.6,
          617,
          616.4,
          577,
          607.2,
          568.6,
          554.2,
          601.8,
          591.2,
          610.4,
          670.6,
          652.8,
          587,
          574,
          574,
          611,
          555,
          591.2,
          601,
          572.6,
          567,
          597.6,
          602.8,
          634,
          623.8,
          634.8,
          635.6,
          607.6,
          591.8,
          607.2,
          613.8,
          576,
          647.6,
          616.8,
          575.8,
          570.6,
          575.6,
          596.8,
          578.6,
          552.6,
          618,
          599,
          560.2,
          575.6,
          610.4,
          628.6,
          573.4,
          581.8,
          592.2,
          628.4,
          612.8,
          566.2,
          594.8,
          620.4,
          637.4,
          635.4,
          635.6,
          591.8,
          615.8,
          640,
          690.2,
          602.6,
          644.8,
          678.4,
          647.4,
          677.8,
          651.6,
          600.2,
          575.4,
          623.6,
          621.4,
          613.4,
          619.2,
          612.6,
          584.6,
          669.8,
          642.2,
          654,
          603,
          573.2,
          594.2,
          622.6,
          670.6,
          556.6,
          598,
          620,
          577.8,
          602.2,
          601.4,
          613.6,
          575.2,
          633.8,
          595.2,
          529.2,
          547.2,
          615.2,
          550.6,
          585.4,
          554.4,
          537.2,
          554,
          540.6,
          592.8,
          582.8,
          579.4,
          591.4,
          598.8,
          551.8,
          540.4,
          524.4,
          582.6,
          521.2,
          546.8,
          601.8,
          667.8,
          590.2,
          611.4,
          540.6,
          654.2,
          549.6,
          630.6,
          551.2,
          517,
          547,
          614.2,
          576.4,
          550.6,
          648,
          657.4,
          610.6,
          570.6,
          605.8,
          662.2,
          581.8,
          592.6,
          614.2,
          573.4,
          630,
          578,
          627.4,
          580.8,
          606.2,
          607.8,
          582.2,
          543.2,
          590.6,
          596.4,
          563.4,
          576.6,
          557.2,
          570.2,
          617,
          542.6,
          630.4,
          595.4,
          607.6,
          608.4,
          680.4,
          539.2,
          602.2,
          574.6,
          621.6,
          604.2,
          506.6,
          678.4,
          692.6,
          668.6,
          660.2,
          665.8,
          717.2,
          684.6,
          687,
          669.8,
          602.2,
          704.4,
          615.6,
          651,
          631,
          603.8,
          610.2,
          645.2,
          561.8,
          618.4,
          625.6,
          607,
          651.2,
          600,
          603.2,
          648.8,
          632.8,
          633.6,
          571.8,
          616.2,
          615.2,
          630.8,
          637.8,
          644.6,
          648.8,
          661.6,
          586.6,
          654.2,
          574.4,
          662,
          609.2,
          589.2,
          575.6,
          609.8,
          600.4,
          666.2,
          662.8,
          592.6,
          589,
          585.2,
          641.4,
          589.4,
          600.6,
          583.8,
          528.8,
          588.2,
          573,
          603.2,
          589,
          608.6,
          552.2,
          583.6,
          565.8,
          571,
          622,
          564.8,
          577.2,
          600,
          551,
          597.8,
          612.8,
          584.4,
          585.8,
          599.6,
          560,
          554,
          590,
          542.6,
          518.6,
          536.8,
          541.4,
          566.4,
          573.2,
          653.2,
          645.8,
          630,
          566.4,
          604.6,
          620.6,
          606.8,
          587.4,
          542.4,
          531.2,
          569.8,
          559.6,
          586.6,
          528.4,
          568.2,
          561.2,
          573.6,
          564.6,
          554.6,
          578.8,
          583.6,
          554.2,
          589.8,
          591.6,
          513.8,
          561.8,
          541.4,
          552.2,
          549,
          547.4,
          516.8,
          585,
          512.2,
          710.4,
          669.4,
          621.6,
          644.8,
          657,
          613.2,
          630,
          656.4,
          666.4,
          609.4,
          652.6,
          606.6,
          685,
          623,
          634.4,
          594.4,
          675,
          603.8,
          590.8,
          619,
          659.2,
          605.8,
          547.2,
          553.8,
          667,
          626.4,
          614.8,
          592,
          618.6,
          596.8,
          661,
          595.6,
          594.2,
          593,
          572.2,
          562,
          642.6,
          629.4,
          583.8,
          538.2,
          614.6,
          594.2,
          573.2,
          549.2,
          565.4,
          585.2,
          552.4,
          599.8,
          661.6,
          586.4,
          604.4,
          657.2,
          618.2,
          643.8,
          575.6,
          552.2,
          629.2,
          602.6,
          579.2,
          612.4,
          562.4,
          532,
          628,
          634.2,
          584.6,
          553,
          573.4,
          614.6,
          627,
          650,
          646,
          626,
          678.4,
          669.4,
          651.2,
          587.2,
          612.8,
          651.8,
          570.8,
          643.8,
          626.2,
          604.4,
          596.8,
          578,
          598.4,
          551.8,
          557.2,
          596,
          530.8,
          584,
          538.2,
          522.8,
          545,
          528.8,
          531.2,
          597.4,
          534,
          604.8,
          571.6,
          647.6,
          609,
          540.2,
          573.8,
          523,
          568.4,
          572.8,
          556.8,
          629.4,
          569.4,
          579.8,
          592.4,
          579.8,
          544.8,
          576.2,
          536.8,
          616.2,
          572.4,
          579.8,
          543.8,
          557.8,
          578.2,
          545.6,
          594.8,
          583
         ]
        },
        {
         "marker": {
          "color": "mediumvioletred"
         },
         "name": "average_score",
         "type": "box",
         "y": [
          612,
          603.125,
          592,
          584.25,
          576.125,
          571.625,
          570.25,
          569.75,
          568.25,
          568.125,
          565.25,
          563.5,
          668.5,
          665.875,
          653.625,
          653,
          651.625,
          640.125,
          638,
          637.125,
          636.75,
          636.375,
          633.625,
          625.25,
          624.375,
          621.5,
          620.375,
          617.875,
          615.125,
          613.875,
          612.875,
          612.5,
          611.25,
          609.5,
          609.25,
          609.125,
          608.625,
          694.5,
          679.25,
          668.5,
          667.375,
          663.25,
          658.75,
          656.875,
          655.25,
          654.375,
          652.75,
          652.75,
          652.125,
          650.5,
          647.75,
          647.125,
          647.125,
          644.125,
          642.75,
          642.5,
          641.25,
          640,
          639.625,
          639.5,
          639.125,
          638,
          636.875,
          636.375,
          635.625,
          635.625,
          634.625,
          633.625,
          631.75,
          628.625,
          626.625,
          626,
          624.125,
          623.25,
          622.125,
          621.25,
          620.75,
          619.375,
          619.125,
          618.75,
          617.25,
          622.75,
          617.375,
          600.375,
          599,
          595.125,
          594.75,
          589.875,
          585.5,
          585,
          585,
          584.25,
          605.75,
          604.75,
          592.125,
          590.75,
          588.125,
          585.75,
          585.25,
          578.375,
          576.875,
          573.625,
          571.25,
          665.75,
          644,
          632.125,
          623,
          616.875,
          612,
          607.5,
          607.5,
          603.25,
          603,
          602.875,
          602.875,
          599.25,
          598.375,
          598,
          597.125,
          594.5,
          594,
          593.375,
          593.375,
          670,
          659.625,
          652.25,
          650,
          629.875,
          629,
          626.875,
          625.5,
          623.625,
          619.125,
          616.375,
          615.5,
          613.625,
          613,
          613,
          610.75,
          610.625,
          608.875,
          606.125,
          604,
          652.25,
          649.625,
          648.5,
          638.75,
          638.75,
          633.5,
          632.75,
          630.5,
          628.875,
          627.25,
          626.5,
          624.375,
          623.125,
          622.5,
          618.125,
          616.875,
          615.375,
          613,
          612.625,
          612.625,
          611.375,
          610.625,
          608.875,
          607.5,
          606.75,
          682.625,
          674.75,
          652.875,
          652.125,
          649.875,
          644.25,
          633.875,
          632.75,
          632.25,
          630.625,
          629.625,
          629.25,
          628.375,
          627.5,
          627.125,
          625.5,
          623.625,
          623.375,
          622.875,
          622.875,
          619.875,
          619.375,
          616.125,
          615.75,
          615.75,
          615.75,
          615,
          671.875,
          668.375,
          647.625,
          646.625,
          644.25,
          642.5,
          636.75,
          636.125,
          635.375,
          635.125,
          633.25,
          632.375,
          631.875,
          631.625,
          630.875,
          630.25,
          627.875,
          627.5,
          627,
          626.5,
          626.5,
          625.875,
          625.875,
          624.875,
          624.25,
          623.625,
          622,
          621.875,
          621.625,
          621.625,
          621.5,
          621.125,
          620.875,
          619.5,
          619.125,
          618.875,
          618.625,
          618,
          617.875,
          617.75,
          617.5,
          617.375,
          616.5,
          615.5,
          613.75,
          612.375,
          612.375,
          612.375,
          612.125,
          612,
          611.875,
          611.75,
          611.125,
          610.375,
          609.625,
          609.5,
          607.375,
          606.375,
          605.125,
          603.375,
          603.25,
          602.75,
          651.25,
          649.375,
          644.25,
          638.25,
          635,
          631.625,
          624.625,
          622.875,
          621.625,
          618.75,
          614.75,
          613.375,
          613.375,
          612.75,
          609.875,
          609.5,
          608.125,
          607.875,
          605.25,
          605,
          603.75,
          603.375,
          603,
          602,
          600.375,
          600.125,
          600.125,
          599.25,
          599.25,
          598.75,
          596.5,
          596,
          595.125,
          594.625,
          594.25,
          593.25,
          592.75,
          592.5,
          591.5,
          591.25,
          590.625,
          590.125,
          590,
          589.5,
          589.25,
          588.625,
          588.375,
          587.75,
          587.25,
          586.375,
          585.875,
          585.25,
          585.25,
          584.625,
          702.75,
          669.875,
          662.25,
          662,
          661.25,
          660.75,
          655.625,
          654.125,
          654,
          650.375,
          649.75,
          648,
          647.75,
          645.125,
          643.75,
          642.375,
          640.625,
          639.875,
          638.75,
          638.375,
          638.25,
          634.75,
          632.875,
          632.625,
          632.25,
          632,
          630.5,
          629.875,
          625.5,
          625.375,
          621.75,
          621.125,
          620.875,
          620.625,
          620.125,
          620,
          619.5,
          619.375,
          619,
          618.75,
          618.625,
          618.625,
          618.125,
          618,
          618,
          617.375,
          617,
          617,
          616.25,
          614.875,
          614.75,
          613.25,
          613.125,
          612.875,
          612.625,
          612.375,
          612.375,
          612.25,
          611.75,
          611.25,
          611.25,
          610.625,
          610.25,
          609.625,
          608.625,
          608.625,
          608.5,
          608.125,
          608,
          607.375,
          607.25,
          607.125,
          606.25,
          606,
          605.125,
          605,
          604.875,
          604.125,
          604.125,
          603.625,
          603.5,
          603.375,
          603,
          602.875,
          602.375,
          601.5,
          601.375,
          600.25,
          599.875,
          599.625,
          599.25,
          599,
          598.5,
          598.5,
          598.125,
          597.375,
          597.125,
          597.125,
          596.625,
          596.5,
          596.25,
          595.875,
          595.75,
          595.75,
          658.5,
          656,
          653,
          648.75,
          646.75,
          642.5,
          640,
          639.375,
          638,
          638,
          631.625,
          628.625,
          627.875,
          627.375,
          627,
          625.375,
          624.25,
          623.875,
          621.25,
          619.875,
          617.5,
          617.5,
          616.5,
          615.75,
          614.5,
          614.125,
          613.125,
          612.5,
          612,
          611.875,
          610,
          609.875,
          609.25,
          632.25,
          631,
          621.75,
          620.625,
          613.375,
          608.125,
          607,
          606.75,
          605.25,
          604.25,
          599,
          598.75,
          597.125,
          594.75,
          592.375,
          591.75,
          590.25,
          586.875,
          585.75,
          585.5,
          584.875,
          579.875,
          578.5,
          578,
          576.5,
          576.375,
          576.25,
          622.625,
          619.375,
          594.25,
          588.5,
          580.5,
          579.25,
          577.25,
          576.875,
          568.25,
          567.625,
          566.125,
          566,
          565.875,
          564.75,
          670,
          651.625,
          626.375,
          616.25,
          613.5,
          613.375,
          612.625,
          612.375,
          607.5,
          604.875,
          602.75,
          600.75,
          599.25,
          594,
          593.625,
          593.625,
          593.625,
          590.25,
          587.25,
          586.875,
          586.125,
          582.25,
          580,
          578.5,
          576.375,
          575.5,
          634.625,
          630.25,
          612.625,
          606.875,
          598.875,
          594.75,
          592.375,
          591,
          582.625,
          571.875,
          567.875,
          685.125,
          677.25,
          672.25,
          670.75,
          669,
          666.125,
          661.5,
          659.625,
          658.375,
          650.25,
          647.875,
          643.125,
          642.625,
          642.375,
          640.875,
          639.625,
          637.625,
          637.125,
          636.75,
          636.75,
          635.625,
          634.75,
          634.25,
          634.25,
          632.375,
          632.125,
          631.625,
          631.125,
          629.625,
          627.375,
          625.75,
          625.625,
          624.375,
          624.25,
          622.875,
          620.625,
          620.125,
          619.625,
          619.25,
          618.875,
          618.25,
          618,
          617.375,
          616.5,
          658.75,
          642.125,
          625.25,
          619.875,
          608.5,
          606,
          595,
          593.875,
          592.125,
          589,
          588.375,
          588.125,
          585.625,
          585.5,
          585.25,
          582,
          581.875,
          580.25,
          579.625,
          579.25,
          577,
          576.125,
          593.75,
          586.75,
          586,
          580.75,
          576.75,
          570.125,
          569.125,
          565.125,
          562.875,
          557.75,
          556.5,
          554.625,
          554.625,
          554.125,
          553.375,
          550.25,
          609.75,
          607.625,
          605.375,
          604.625,
          597.375,
          595.125,
          585.125,
          584.125,
          582.625,
          582,
          578.5,
          576.75,
          574.125,
          572.125,
          572.125,
          571.375,
          570.875,
          570.625,
          569.75,
          566.25,
          565,
          562.875,
          617.875,
          596,
          575.125,
          570.125,
          568.25,
          562.125,
          560.375,
          555.75,
          551,
          549.125,
          544.875,
          681.5,
          672.375,
          660.25,
          654.5,
          652.25,
          650,
          648.125,
          647.125,
          645,
          644.875,
          643.125,
          641.75,
          635.375,
          631.125,
          629.5,
          627.125,
          625.75,
          624.75,
          623.875,
          623,
          623,
          621,
          620.875,
          620.875,
          619.5,
          618.125,
          616,
          616,
          615.5,
          615.5,
          615,
          614.875,
          614.75,
          614.75,
          613.875,
          597.5,
          596.75,
          594.625,
          593.5,
          586.625,
          582.5,
          576.625,
          576.25,
          570.75,
          564.625,
          559.5,
          559.125,
          633.625,
          631.625,
          629.875,
          624.625,
          623.875,
          619.125,
          616.875,
          614.25,
          613.75,
          613.625,
          602.375,
          600.25,
          596.125,
          594.5,
          593.5,
          593.125,
          592,
          591.5,
          591.125,
          590.5,
          590.25,
          588.875,
          632.375,
          631,
          627.5,
          625.375,
          624,
          614.5,
          612.875,
          609.375,
          608.375,
          604.5,
          601.5,
          595.25,
          593.625,
          593.375,
          593.25,
          590.625,
          590.375,
          590.25,
          589.125,
          589.75,
          573,
          551.375,
          548.75,
          547.5,
          544.375,
          543.25,
          522.5,
          517.75,
          618.125,
          612.5,
          607,
          598.75,
          597.75,
          597.375,
          596.875,
          594.5,
          592.75,
          592.625,
          588.5,
          588.125,
          587.375,
          586.25,
          584.125,
          582.5,
          579.25,
          578.625,
          576,
          575.625,
          574.75,
          573.5,
          571.875,
          569,
          569,
          568.375,
          567.375
         ]
        }
       ],
       "layout": {
        "template": {
         "data": {
          "bar": [
           {
            "error_x": {
             "color": "#2a3f5f"
            },
            "error_y": {
             "color": "#2a3f5f"
            },
            "marker": {
             "line": {
              "color": "#E5ECF6",
              "width": 0.5
             },
             "pattern": {
              "fillmode": "overlay",
              "size": 10,
              "solidity": 0.2
             }
            },
            "type": "bar"
           }
          ],
          "barpolar": [
           {
            "marker": {
             "line": {
              "color": "#E5ECF6",
              "width": 0.5
             },
             "pattern": {
              "fillmode": "overlay",
              "size": 10,
              "solidity": 0.2
             }
            },
            "type": "barpolar"
           }
          ],
          "carpet": [
           {
            "aaxis": {
             "endlinecolor": "#2a3f5f",
             "gridcolor": "white",
             "linecolor": "white",
             "minorgridcolor": "white",
             "startlinecolor": "#2a3f5f"
            },
            "baxis": {
             "endlinecolor": "#2a3f5f",
             "gridcolor": "white",
             "linecolor": "white",
             "minorgridcolor": "white",
             "startlinecolor": "#2a3f5f"
            },
            "type": "carpet"
           }
          ],
          "choropleth": [
           {
            "colorbar": {
             "outlinewidth": 0,
             "ticks": ""
            },
            "type": "choropleth"
           }
          ],
          "contour": [
           {
            "colorbar": {
             "outlinewidth": 0,
             "ticks": ""
            },
            "colorscale": [
             [
              0,
              "#0d0887"
             ],
             [
              0.1111111111111111,
              "#46039f"
             ],
             [
              0.2222222222222222,
              "#7201a8"
             ],
             [
              0.3333333333333333,
              "#9c179e"
             ],
             [
              0.4444444444444444,
              "#bd3786"
             ],
             [
              0.5555555555555556,
              "#d8576b"
             ],
             [
              0.6666666666666666,
              "#ed7953"
             ],
             [
              0.7777777777777778,
              "#fb9f3a"
             ],
             [
              0.8888888888888888,
              "#fdca26"
             ],
             [
              1,
              "#f0f921"
             ]
            ],
            "type": "contour"
           }
          ],
          "contourcarpet": [
           {
            "colorbar": {
             "outlinewidth": 0,
             "ticks": ""
            },
            "type": "contourcarpet"
           }
          ],
          "heatmap": [
           {
            "colorbar": {
             "outlinewidth": 0,
             "ticks": ""
            },
            "colorscale": [
             [
              0,
              "#0d0887"
             ],
             [
              0.1111111111111111,
              "#46039f"
             ],
             [
              0.2222222222222222,
              "#7201a8"
             ],
             [
              0.3333333333333333,
              "#9c179e"
             ],
             [
              0.4444444444444444,
              "#bd3786"
             ],
             [
              0.5555555555555556,
              "#d8576b"
             ],
             [
              0.6666666666666666,
              "#ed7953"
             ],
             [
              0.7777777777777778,
              "#fb9f3a"
             ],
             [
              0.8888888888888888,
              "#fdca26"
             ],
             [
              1,
              "#f0f921"
             ]
            ],
            "type": "heatmap"
           }
          ],
          "heatmapgl": [
           {
            "colorbar": {
             "outlinewidth": 0,
             "ticks": ""
            },
            "colorscale": [
             [
              0,
              "#0d0887"
             ],
             [
              0.1111111111111111,
              "#46039f"
             ],
             [
              0.2222222222222222,
              "#7201a8"
             ],
             [
              0.3333333333333333,
              "#9c179e"
             ],
             [
              0.4444444444444444,
              "#bd3786"
             ],
             [
              0.5555555555555556,
              "#d8576b"
             ],
             [
              0.6666666666666666,
              "#ed7953"
             ],
             [
              0.7777777777777778,
              "#fb9f3a"
             ],
             [
              0.8888888888888888,
              "#fdca26"
             ],
             [
              1,
              "#f0f921"
             ]
            ],
            "type": "heatmapgl"
           }
          ],
          "histogram": [
           {
            "marker": {
             "pattern": {
              "fillmode": "overlay",
              "size": 10,
              "solidity": 0.2
             }
            },
            "type": "histogram"
           }
          ],
          "histogram2d": [
           {
            "colorbar": {
             "outlinewidth": 0,
             "ticks": ""
            },
            "colorscale": [
             [
              0,
              "#0d0887"
             ],
             [
              0.1111111111111111,
              "#46039f"
             ],
             [
              0.2222222222222222,
              "#7201a8"
             ],
             [
              0.3333333333333333,
              "#9c179e"
             ],
             [
              0.4444444444444444,
              "#bd3786"
             ],
             [
              0.5555555555555556,
              "#d8576b"
             ],
             [
              0.6666666666666666,
              "#ed7953"
             ],
             [
              0.7777777777777778,
              "#fb9f3a"
             ],
             [
              0.8888888888888888,
              "#fdca26"
             ],
             [
              1,
              "#f0f921"
             ]
            ],
            "type": "histogram2d"
           }
          ],
          "histogram2dcontour": [
           {
            "colorbar": {
             "outlinewidth": 0,
             "ticks": ""
            },
            "colorscale": [
             [
              0,
              "#0d0887"
             ],
             [
              0.1111111111111111,
              "#46039f"
             ],
             [
              0.2222222222222222,
              "#7201a8"
             ],
             [
              0.3333333333333333,
              "#9c179e"
             ],
             [
              0.4444444444444444,
              "#bd3786"
             ],
             [
              0.5555555555555556,
              "#d8576b"
             ],
             [
              0.6666666666666666,
              "#ed7953"
             ],
             [
              0.7777777777777778,
              "#fb9f3a"
             ],
             [
              0.8888888888888888,
              "#fdca26"
             ],
             [
              1,
              "#f0f921"
             ]
            ],
            "type": "histogram2dcontour"
           }
          ],
          "mesh3d": [
           {
            "colorbar": {
             "outlinewidth": 0,
             "ticks": ""
            },
            "type": "mesh3d"
           }
          ],
          "parcoords": [
           {
            "line": {
             "colorbar": {
              "outlinewidth": 0,
              "ticks": ""
             }
            },
            "type": "parcoords"
           }
          ],
          "pie": [
           {
            "automargin": true,
            "type": "pie"
           }
          ],
          "scatter": [
           {
            "marker": {
             "colorbar": {
              "outlinewidth": 0,
              "ticks": ""
             }
            },
            "type": "scatter"
           }
          ],
          "scatter3d": [
           {
            "line": {
             "colorbar": {
              "outlinewidth": 0,
              "ticks": ""
             }
            },
            "marker": {
             "colorbar": {
              "outlinewidth": 0,
              "ticks": ""
             }
            },
            "type": "scatter3d"
           }
          ],
          "scattercarpet": [
           {
            "marker": {
             "colorbar": {
              "outlinewidth": 0,
              "ticks": ""
             }
            },
            "type": "scattercarpet"
           }
          ],
          "scattergeo": [
           {
            "marker": {
             "colorbar": {
              "outlinewidth": 0,
              "ticks": ""
             }
            },
            "type": "scattergeo"
           }
          ],
          "scattergl": [
           {
            "marker": {
             "colorbar": {
              "outlinewidth": 0,
              "ticks": ""
             }
            },
            "type": "scattergl"
           }
          ],
          "scattermapbox": [
           {
            "marker": {
             "colorbar": {
              "outlinewidth": 0,
              "ticks": ""
             }
            },
            "type": "scattermapbox"
           }
          ],
          "scatterpolar": [
           {
            "marker": {
             "colorbar": {
              "outlinewidth": 0,
              "ticks": ""
             }
            },
            "type": "scatterpolar"
           }
          ],
          "scatterpolargl": [
           {
            "marker": {
             "colorbar": {
              "outlinewidth": 0,
              "ticks": ""
             }
            },
            "type": "scatterpolargl"
           }
          ],
          "scatterternary": [
           {
            "marker": {
             "colorbar": {
              "outlinewidth": 0,
              "ticks": ""
             }
            },
            "type": "scatterternary"
           }
          ],
          "surface": [
           {
            "colorbar": {
             "outlinewidth": 0,
             "ticks": ""
            },
            "colorscale": [
             [
              0,
              "#0d0887"
             ],
             [
              0.1111111111111111,
              "#46039f"
             ],
             [
              0.2222222222222222,
              "#7201a8"
             ],
             [
              0.3333333333333333,
              "#9c179e"
             ],
             [
              0.4444444444444444,
              "#bd3786"
             ],
             [
              0.5555555555555556,
              "#d8576b"
             ],
             [
              0.6666666666666666,
              "#ed7953"
             ],
             [
              0.7777777777777778,
              "#fb9f3a"
             ],
             [
              0.8888888888888888,
              "#fdca26"
             ],
             [
              1,
              "#f0f921"
             ]
            ],
            "type": "surface"
           }
          ],
          "table": [
           {
            "cells": {
             "fill": {
              "color": "#EBF0F8"
             },
             "line": {
              "color": "white"
             }
            },
            "header": {
             "fill": {
              "color": "#C8D4E3"
             },
             "line": {
              "color": "white"
             }
            },
            "type": "table"
           }
          ]
         },
         "layout": {
          "annotationdefaults": {
           "arrowcolor": "#2a3f5f",
           "arrowhead": 0,
           "arrowwidth": 1
          },
          "autotypenumbers": "strict",
          "coloraxis": {
           "colorbar": {
            "outlinewidth": 0,
            "ticks": ""
           }
          },
          "colorscale": {
           "diverging": [
            [
             0,
             "#8e0152"
            ],
            [
             0.1,
             "#c51b7d"
            ],
            [
             0.2,
             "#de77ae"
            ],
            [
             0.3,
             "#f1b6da"
            ],
            [
             0.4,
             "#fde0ef"
            ],
            [
             0.5,
             "#f7f7f7"
            ],
            [
             0.6,
             "#e6f5d0"
            ],
            [
             0.7,
             "#b8e186"
            ],
            [
             0.8,
             "#7fbc41"
            ],
            [
             0.9,
             "#4d9221"
            ],
            [
             1,
             "#276419"
            ]
           ],
           "sequential": [
            [
             0,
             "#0d0887"
            ],
            [
             0.1111111111111111,
             "#46039f"
            ],
            [
             0.2222222222222222,
             "#7201a8"
            ],
            [
             0.3333333333333333,
             "#9c179e"
            ],
            [
             0.4444444444444444,
             "#bd3786"
            ],
            [
             0.5555555555555556,
             "#d8576b"
            ],
            [
             0.6666666666666666,
             "#ed7953"
            ],
            [
             0.7777777777777778,
             "#fb9f3a"
            ],
            [
             0.8888888888888888,
             "#fdca26"
            ],
            [
             1,
             "#f0f921"
            ]
           ],
           "sequentialminus": [
            [
             0,
             "#0d0887"
            ],
            [
             0.1111111111111111,
             "#46039f"
            ],
            [
             0.2222222222222222,
             "#7201a8"
            ],
            [
             0.3333333333333333,
             "#9c179e"
            ],
            [
             0.4444444444444444,
             "#bd3786"
            ],
            [
             0.5555555555555556,
             "#d8576b"
            ],
            [
             0.6666666666666666,
             "#ed7953"
            ],
            [
             0.7777777777777778,
             "#fb9f3a"
            ],
            [
             0.8888888888888888,
             "#fdca26"
            ],
            [
             1,
             "#f0f921"
            ]
           ]
          },
          "colorway": [
           "#636efa",
           "#EF553B",
           "#00cc96",
           "#ab63fa",
           "#FFA15A",
           "#19d3f3",
           "#FF6692",
           "#B6E880",
           "#FF97FF",
           "#FECB52"
          ],
          "font": {
           "color": "#2a3f5f"
          },
          "geo": {
           "bgcolor": "white",
           "lakecolor": "white",
           "landcolor": "#E5ECF6",
           "showlakes": true,
           "showland": true,
           "subunitcolor": "white"
          },
          "hoverlabel": {
           "align": "left"
          },
          "hovermode": "closest",
          "mapbox": {
           "style": "light"
          },
          "paper_bgcolor": "white",
          "plot_bgcolor": "#E5ECF6",
          "polar": {
           "angularaxis": {
            "gridcolor": "white",
            "linecolor": "white",
            "ticks": ""
           },
           "bgcolor": "#E5ECF6",
           "radialaxis": {
            "gridcolor": "white",
            "linecolor": "white",
            "ticks": ""
           }
          },
          "scene": {
           "xaxis": {
            "backgroundcolor": "#E5ECF6",
            "gridcolor": "white",
            "gridwidth": 2,
            "linecolor": "white",
            "showbackground": true,
            "ticks": "",
            "zerolinecolor": "white"
           },
           "yaxis": {
            "backgroundcolor": "#E5ECF6",
            "gridcolor": "white",
            "gridwidth": 2,
            "linecolor": "white",
            "showbackground": true,
            "ticks": "",
            "zerolinecolor": "white"
           },
           "zaxis": {
            "backgroundcolor": "#E5ECF6",
            "gridcolor": "white",
            "gridwidth": 2,
            "linecolor": "white",
            "showbackground": true,
            "ticks": "",
            "zerolinecolor": "white"
           }
          },
          "shapedefaults": {
           "line": {
            "color": "#2a3f5f"
           }
          },
          "ternary": {
           "aaxis": {
            "gridcolor": "white",
            "linecolor": "white",
            "ticks": ""
           },
           "baxis": {
            "gridcolor": "white",
            "linecolor": "white",
            "ticks": ""
           },
           "bgcolor": "#E5ECF6",
           "caxis": {
            "gridcolor": "white",
            "linecolor": "white",
            "ticks": ""
           }
          },
          "title": {
           "x": 0.05
          },
          "xaxis": {
           "automargin": true,
           "gridcolor": "white",
           "linecolor": "white",
           "ticks": "",
           "title": {
            "standoff": 15
           },
           "zerolinecolor": "white",
           "zerolinewidth": 2
          },
          "yaxis": {
           "automargin": true,
           "gridcolor": "white",
           "linecolor": "white",
           "ticks": "",
           "title": {
            "standoff": 15
           },
           "zerolinecolor": "white",
           "zerolinewidth": 2
          }
         }
        },
        "title": {
         "text": "UB Distribution scores for Humanities Major 2019"
        }
       }
      }
     },
     "metadata": {},
     "output_type": "display_data"
    }
   ],
   "source": [
    "fig = go.Figure()\n",
    "fig.add_trace(go.Box(y=df_univ_brawSc_clear['specialized_score'], name='specialized_score',\n",
    "                marker_color = 'indianred'))\n",
    "fig.add_trace(go.Box(y=df_univ_brawSc_clear['general_score'], name = 'general_score',\n",
    "                marker_color = 'lightseagreen'))\n",
    "fig.add_trace(go.Box(y=df_univ_brawSc_clear['average_score'], name = 'average_score',\n",
    "                marker_color = 'mediumvioletred'))\n",
    "fig.update_layout(title_text='UB Distribution scores for Science Major 2019')\n",
    "fig.show()\n",
    "\n",
    "fig = go.Figure()\n",
    "fig.add_trace(go.Box(y=df_univ_brawHm_clear['specialized_score'], name='specialized_score',\n",
    "                marker_color = 'indianred'))\n",
    "fig.add_trace(go.Box(y=df_univ_brawHm_clear['general_score'], name = 'general_score',\n",
    "                marker_color = 'lightseagreen'))\n",
    "fig.add_trace(go.Box(y=df_univ_brawHm_clear['average_score'], name = 'average_score',\n",
    "                marker_color = 'mediumvioletred'))\n",
    "fig.update_layout(title_text='UB Distribution scores for Humanities Major 2019')\n",
    "fig.show()"
   ]
  },
  {
   "cell_type": "markdown",
   "metadata": {},
   "source": [
    "![UB Distribution scores for Science Major 2019](/photos/UB%20Distribution%20scores%202019.png)"
   ]
  },
  {
   "cell_type": "markdown",
   "metadata": {},
   "source": [
    "![UB Distribution scores for Humanities Major 2019](photos/UB%20Distribution%20scores%20for%20Humanities%20Major%202019.png)"
   ]
  },
  {
   "cell_type": "markdown",
   "metadata": {},
   "source": [
    "![UB Distribution scores 2019](/photos/UB%20Distribution%20scores%202019.png)"
   ]
  },
  {
   "cell_type": "code",
   "execution_count": 70,
   "metadata": {},
   "outputs": [
    {
     "data": {
      "application/vnd.plotly.v1+json": {
       "config": {
        "plotlyServerURL": "https://plot.ly"
       },
       "data": [
        {
         "alignmentgroup": "True",
         "cliponaxis": true,
         "hovertemplate": "first_major=%{y}<br>average_score=%{x}<extra></extra>",
         "legendgroup": "PENDIDIKAN DOKTER",
         "marker": {
          "color": "rgb(141,211,199)",
          "pattern": {
           "shape": ""
          }
         },
         "name": "PENDIDIKAN DOKTER",
         "offsetgroup": "PENDIDIKAN DOKTER",
         "orientation": "h",
         "showlegend": true,
         "textangle": 0,
         "textfont": {
          "size": 16
         },
         "textposition": "inside",
         "texttemplate": "%{x}",
         "type": "bar",
         "x": [
          696.759375
         ],
         "xaxis": "x",
         "y": [
          "PENDIDIKAN DOKTER"
         ],
         "yaxis": "y"
        },
        {
         "alignmentgroup": "True",
         "cliponaxis": true,
         "hovertemplate": "first_major=%{y}<br>average_score=%{x}<extra></extra>",
         "legendgroup": "PENDIDIKAN DOKTER GIGI",
         "marker": {
          "color": "rgb(255,255,179)",
          "pattern": {
           "shape": ""
          }
         },
         "name": "PENDIDIKAN DOKTER GIGI",
         "offsetgroup": "PENDIDIKAN DOKTER GIGI",
         "orientation": "h",
         "showlegend": true,
         "textangle": 0,
         "textfont": {
          "size": 16
         },
         "textposition": "inside",
         "texttemplate": "%{x}",
         "type": "bar",
         "x": [
          674.296875
         ],
         "xaxis": "x",
         "y": [
          "PENDIDIKAN DOKTER GIGI"
         ],
         "yaxis": "y"
        },
        {
         "alignmentgroup": "True",
         "cliponaxis": true,
         "hovertemplate": "first_major=%{y}<br>average_score=%{x}<extra></extra>",
         "legendgroup": "TEKNIK INFORMATIKA",
         "marker": {
          "color": "rgb(190,186,218)",
          "pattern": {
           "shape": ""
          }
         },
         "name": "TEKNIK INFORMATIKA",
         "offsetgroup": "TEKNIK INFORMATIKA",
         "orientation": "h",
         "showlegend": true,
         "textangle": 0,
         "textfont": {
          "size": 16
         },
         "textposition": "inside",
         "texttemplate": "%{x}",
         "type": "bar",
         "x": [
          650.5822368421053
         ],
         "xaxis": "x",
         "y": [
          "TEKNIK INFORMATIKA"
         ],
         "yaxis": "y"
        },
        {
         "alignmentgroup": "True",
         "cliponaxis": true,
         "hovertemplate": "first_major=%{y}<br>average_score=%{x}<extra></extra>",
         "legendgroup": "TEKNIK INDUSTRI",
         "marker": {
          "color": "rgb(251,128,114)",
          "pattern": {
           "shape": ""
          }
         },
         "name": "TEKNIK INDUSTRI",
         "offsetgroup": "TEKNIK INDUSTRI",
         "orientation": "h",
         "showlegend": true,
         "textangle": 0,
         "textfont": {
          "size": 16
         },
         "textposition": "inside",
         "texttemplate": "%{x}",
         "type": "bar",
         "x": [
          642.671875
         ],
         "xaxis": "x",
         "y": [
          "TEKNIK INDUSTRI"
         ],
         "yaxis": "y"
        },
        {
         "alignmentgroup": "True",
         "cliponaxis": true,
         "hovertemplate": "first_major=%{y}<br>average_score=%{x}<extra></extra>",
         "legendgroup": "GIZI KESEHATAN / ILMU GIZI",
         "marker": {
          "color": "rgb(128,177,211)",
          "pattern": {
           "shape": ""
          }
         },
         "name": "GIZI KESEHATAN / ILMU GIZI",
         "offsetgroup": "GIZI KESEHATAN / ILMU GIZI",
         "orientation": "h",
         "showlegend": true,
         "textangle": 0,
         "textfont": {
          "size": 16
         },
         "textposition": "inside",
         "texttemplate": "%{x}",
         "type": "bar",
         "x": [
          642.4868421052631
         ],
         "xaxis": "x",
         "y": [
          "GIZI KESEHATAN / ILMU GIZI"
         ],
         "yaxis": "y"
        },
        {
         "alignmentgroup": "True",
         "cliponaxis": true,
         "hovertemplate": "first_major=%{y}<br>average_score=%{x}<extra></extra>",
         "legendgroup": "TEKNIK SIPIL",
         "marker": {
          "color": "rgb(253,180,98)",
          "pattern": {
           "shape": ""
          }
         },
         "name": "TEKNIK SIPIL",
         "offsetgroup": "TEKNIK SIPIL",
         "orientation": "h",
         "showlegend": true,
         "textangle": 0,
         "textfont": {
          "size": 16
         },
         "textposition": "inside",
         "texttemplate": "%{x}",
         "type": "bar",
         "x": [
          640.9821428571429
         ],
         "xaxis": "x",
         "y": [
          "TEKNIK SIPIL"
         ],
         "yaxis": "y"
        },
        {
         "alignmentgroup": "True",
         "cliponaxis": true,
         "hovertemplate": "first_major=%{y}<br>average_score=%{x}<extra></extra>",
         "legendgroup": "STATISTIKA",
         "marker": {
          "color": "rgb(179,222,105)",
          "pattern": {
           "shape": ""
          }
         },
         "name": "STATISTIKA",
         "offsetgroup": "STATISTIKA",
         "orientation": "h",
         "showlegend": true,
         "textangle": 0,
         "textfont": {
          "size": 16
         },
         "textposition": "inside",
         "texttemplate": "%{x}",
         "type": "bar",
         "x": [
          640.19921875
         ],
         "xaxis": "x",
         "y": [
          "STATISTIKA"
         ],
         "yaxis": "y"
        },
        {
         "alignmentgroup": "True",
         "cliponaxis": true,
         "hovertemplate": "first_major=%{y}<br>average_score=%{x}<extra></extra>",
         "legendgroup": "FARMASI",
         "marker": {
          "color": "rgb(252,205,229)",
          "pattern": {
           "shape": ""
          }
         },
         "name": "FARMASI",
         "offsetgroup": "FARMASI",
         "orientation": "h",
         "showlegend": true,
         "textangle": 0,
         "textfont": {
          "size": 16
         },
         "textposition": "inside",
         "texttemplate": "%{x}",
         "type": "bar",
         "x": [
          639.5526315789474
         ],
         "xaxis": "x",
         "y": [
          "FARMASI"
         ],
         "yaxis": "y"
        },
        {
         "alignmentgroup": "True",
         "cliponaxis": true,
         "hovertemplate": "first_major=%{y}<br>average_score=%{x}<extra></extra>",
         "legendgroup": "SISTEM INFORMASI",
         "marker": {
          "color": "rgb(217,217,217)",
          "pattern": {
           "shape": ""
          }
         },
         "name": "SISTEM INFORMASI",
         "offsetgroup": "SISTEM INFORMASI",
         "orientation": "h",
         "showlegend": true,
         "textangle": 0,
         "textfont": {
          "size": 16
         },
         "textposition": "inside",
         "texttemplate": "%{x}",
         "type": "bar",
         "x": [
          637.92
         ],
         "xaxis": "x",
         "y": [
          "SISTEM INFORMASI"
         ],
         "yaxis": "y"
        },
        {
         "alignmentgroup": "True",
         "cliponaxis": true,
         "hovertemplate": "first_major=%{y}<br>average_score=%{x}<extra></extra>",
         "legendgroup": "ARSITEKTUR",
         "marker": {
          "color": "rgb(188,128,189)",
          "pattern": {
           "shape": ""
          }
         },
         "name": "ARSITEKTUR",
         "offsetgroup": "ARSITEKTUR",
         "orientation": "h",
         "showlegend": true,
         "textangle": 0,
         "textfont": {
          "size": 16
         },
         "textposition": "inside",
         "texttemplate": "%{x}",
         "type": "bar",
         "x": [
          637.53125
         ],
         "xaxis": "x",
         "y": [
          "ARSITEKTUR"
         ],
         "yaxis": "y"
        },
        {
         "alignmentgroup": "True",
         "cliponaxis": true,
         "hovertemplate": "first_major=%{y}<br>average_score=%{x}<extra></extra>",
         "legendgroup": "TEKNIK KIMIA",
         "marker": {
          "color": "rgb(204,235,197)",
          "pattern": {
           "shape": ""
          }
         },
         "name": "TEKNIK KIMIA",
         "offsetgroup": "TEKNIK KIMIA",
         "orientation": "h",
         "showlegend": true,
         "textangle": 0,
         "textfont": {
          "size": 16
         },
         "textposition": "inside",
         "texttemplate": "%{x}",
         "type": "bar",
         "x": [
          633.8489583333334
         ],
         "xaxis": "x",
         "y": [
          "TEKNIK KIMIA"
         ],
         "yaxis": "y"
        },
        {
         "alignmentgroup": "True",
         "cliponaxis": true,
         "hovertemplate": "first_major=%{y}<br>average_score=%{x}<extra></extra>",
         "legendgroup": "TEKNIK LINGKUNGAN",
         "marker": {
          "color": "rgb(255,237,111)",
          "pattern": {
           "shape": ""
          }
         },
         "name": "TEKNIK LINGKUNGAN",
         "offsetgroup": "TEKNIK LINGKUNGAN",
         "orientation": "h",
         "showlegend": true,
         "textangle": 0,
         "textfont": {
          "size": 16
         },
         "textposition": "inside",
         "texttemplate": "%{x}",
         "type": "bar",
         "x": [
          632.15
         ],
         "xaxis": "x",
         "y": [
          "TEKNIK LINGKUNGAN"
         ],
         "yaxis": "y"
        },
        {
         "alignmentgroup": "True",
         "cliponaxis": true,
         "hovertemplate": "first_major=%{y}<br>average_score=%{x}<extra></extra>",
         "legendgroup": "ILMU DAN TEKNOLOGI PANGAN",
         "marker": {
          "color": "rgb(141,211,199)",
          "pattern": {
           "shape": ""
          }
         },
         "name": "ILMU DAN TEKNOLOGI PANGAN",
         "offsetgroup": "ILMU DAN TEKNOLOGI PANGAN",
         "orientation": "h",
         "showlegend": true,
         "textangle": 0,
         "textfont": {
          "size": 16
         },
         "textposition": "inside",
         "texttemplate": "%{x}",
         "type": "bar",
         "x": [
          632.0231481481482
         ],
         "xaxis": "x",
         "y": [
          "ILMU DAN TEKNOLOGI PANGAN"
         ],
         "yaxis": "y"
        },
        {
         "alignmentgroup": "True",
         "cliponaxis": true,
         "hovertemplate": "first_major=%{y}<br>average_score=%{x}<extra></extra>",
         "legendgroup": "TEKNIK ELEKTRO",
         "marker": {
          "color": "rgb(255,255,179)",
          "pattern": {
           "shape": ""
          }
         },
         "name": "TEKNIK ELEKTRO",
         "offsetgroup": "TEKNIK ELEKTRO",
         "orientation": "h",
         "showlegend": true,
         "textangle": 0,
         "textfont": {
          "size": 16
         },
         "textposition": "inside",
         "texttemplate": "%{x}",
         "type": "bar",
         "x": [
          629.2265625
         ],
         "xaxis": "x",
         "y": [
          "TEKNIK ELEKTRO"
         ],
         "yaxis": "y"
        },
        {
         "alignmentgroup": "True",
         "cliponaxis": true,
         "hovertemplate": "first_major=%{y}<br>average_score=%{x}<extra></extra>",
         "legendgroup": "PERENCANAAN WILAYAH & KOTA",
         "marker": {
          "color": "rgb(190,186,218)",
          "pattern": {
           "shape": ""
          }
         },
         "name": "PERENCANAAN WILAYAH & KOTA",
         "offsetgroup": "PERENCANAAN WILAYAH & KOTA",
         "orientation": "h",
         "showlegend": true,
         "textangle": 0,
         "textfont": {
          "size": 16
         },
         "textposition": "inside",
         "texttemplate": "%{x}",
         "type": "bar",
         "x": [
          628.6339285714286
         ],
         "xaxis": "x",
         "y": [
          "PERENCANAAN WILAYAH & KOTA"
         ],
         "yaxis": "y"
        },
        {
         "alignmentgroup": "True",
         "cliponaxis": true,
         "hovertemplate": "first_major=%{y}<br>average_score=%{x}<extra></extra>",
         "legendgroup": "TEKNOLOGI INFORMASI",
         "marker": {
          "color": "rgb(251,128,114)",
          "pattern": {
           "shape": ""
          }
         },
         "name": "TEKNOLOGI INFORMASI",
         "offsetgroup": "TEKNOLOGI INFORMASI",
         "orientation": "h",
         "showlegend": true,
         "textangle": 0,
         "textfont": {
          "size": 16
         },
         "textposition": "inside",
         "texttemplate": "%{x}",
         "type": "bar",
         "x": [
          622.3645833333334
         ],
         "xaxis": "x",
         "y": [
          "TEKNOLOGI INFORMASI"
         ],
         "yaxis": "y"
        },
        {
         "alignmentgroup": "True",
         "cliponaxis": true,
         "hovertemplate": "first_major=%{y}<br>average_score=%{x}<extra></extra>",
         "legendgroup": "TEKNIK MESIN",
         "marker": {
          "color": "rgb(128,177,211)",
          "pattern": {
           "shape": ""
          }
         },
         "name": "TEKNIK MESIN",
         "offsetgroup": "TEKNIK MESIN",
         "orientation": "h",
         "showlegend": true,
         "textangle": 0,
         "textfont": {
          "size": 16
         },
         "textposition": "inside",
         "texttemplate": "%{x}",
         "type": "bar",
         "x": [
          621.8984375
         ],
         "xaxis": "x",
         "y": [
          "TEKNIK MESIN"
         ],
         "yaxis": "y"
        },
        {
         "alignmentgroup": "True",
         "cliponaxis": true,
         "hovertemplate": "first_major=%{y}<br>average_score=%{x}<extra></extra>",
         "legendgroup": "KIMIA",
         "marker": {
          "color": "rgb(253,180,98)",
          "pattern": {
           "shape": ""
          }
         },
         "name": "KIMIA",
         "offsetgroup": "KIMIA",
         "orientation": "h",
         "showlegend": true,
         "textangle": 0,
         "textfont": {
          "size": 16
         },
         "textposition": "inside",
         "texttemplate": "%{x}",
         "type": "bar",
         "x": [
          621.5859375
         ],
         "xaxis": "x",
         "y": [
          "KIMIA"
         ],
         "yaxis": "y"
        },
        {
         "alignmentgroup": "True",
         "cliponaxis": true,
         "hovertemplate": "first_major=%{y}<br>average_score=%{x}<extra></extra>",
         "legendgroup": "BIOTEKNOLOGI",
         "marker": {
          "color": "rgb(179,222,105)",
          "pattern": {
           "shape": ""
          }
         },
         "name": "BIOTEKNOLOGI",
         "offsetgroup": "BIOTEKNOLOGI",
         "orientation": "h",
         "showlegend": true,
         "textangle": 0,
         "textfont": {
          "size": 16
         },
         "textposition": "inside",
         "texttemplate": "%{x}",
         "type": "bar",
         "x": [
          621.375
         ],
         "xaxis": "x",
         "y": [
          "BIOTEKNOLOGI"
         ],
         "yaxis": "y"
        },
        {
         "alignmentgroup": "True",
         "cliponaxis": true,
         "hovertemplate": "first_major=%{y}<br>average_score=%{x}<extra></extra>",
         "legendgroup": "MATEMATIKA",
         "marker": {
          "color": "rgb(252,205,229)",
          "pattern": {
           "shape": ""
          }
         },
         "name": "MATEMATIKA",
         "offsetgroup": "MATEMATIKA",
         "orientation": "h",
         "showlegend": true,
         "textangle": 0,
         "textfont": {
          "size": 16
         },
         "textposition": "inside",
         "texttemplate": "%{x}",
         "type": "bar",
         "x": [
          619.5
         ],
         "xaxis": "x",
         "y": [
          "MATEMATIKA"
         ],
         "yaxis": "y"
        },
        {
         "alignmentgroup": "True",
         "cliponaxis": true,
         "hovertemplate": "first_major=%{y}<br>average_score=%{x}<extra></extra>",
         "legendgroup": "TEKNIK KOMPUTER",
         "marker": {
          "color": "rgb(217,217,217)",
          "pattern": {
           "shape": ""
          }
         },
         "name": "TEKNIK KOMPUTER",
         "offsetgroup": "TEKNIK KOMPUTER",
         "orientation": "h",
         "showlegend": true,
         "textangle": 0,
         "textfont": {
          "size": 16
         },
         "textposition": "inside",
         "texttemplate": "%{x}",
         "type": "bar",
         "x": [
          614.405
         ],
         "xaxis": "x",
         "y": [
          "TEKNIK KOMPUTER"
         ],
         "yaxis": "y"
        },
        {
         "alignmentgroup": "True",
         "cliponaxis": true,
         "hovertemplate": "first_major=%{y}<br>average_score=%{x}<extra></extra>",
         "legendgroup": "TEKNIK GEOFISIKA",
         "marker": {
          "color": "rgb(188,128,189)",
          "pattern": {
           "shape": ""
          }
         },
         "name": "TEKNIK GEOFISIKA",
         "offsetgroup": "TEKNIK GEOFISIKA",
         "orientation": "h",
         "showlegend": true,
         "textangle": 0,
         "textfont": {
          "size": 16
         },
         "textposition": "inside",
         "texttemplate": "%{x}",
         "type": "bar",
         "x": [
          610.3035714285714
         ],
         "xaxis": "x",
         "y": [
          "TEKNIK GEOFISIKA"
         ],
         "yaxis": "y"
        },
        {
         "alignmentgroup": "True",
         "cliponaxis": true,
         "hovertemplate": "first_major=%{y}<br>average_score=%{x}<extra></extra>",
         "legendgroup": "ILMU KEPERAWATAN",
         "marker": {
          "color": "rgb(204,235,197)",
          "pattern": {
           "shape": ""
          }
         },
         "name": "ILMU KEPERAWATAN",
         "offsetgroup": "ILMU KEPERAWATAN",
         "orientation": "h",
         "showlegend": true,
         "textangle": 0,
         "textfont": {
          "size": 16
         },
         "textposition": "inside",
         "texttemplate": "%{x}",
         "type": "bar",
         "x": [
          609.7670454545455
         ],
         "xaxis": "x",
         "y": [
          "ILMU KEPERAWATAN"
         ],
         "yaxis": "y"
        },
        {
         "alignmentgroup": "True",
         "cliponaxis": true,
         "hovertemplate": "first_major=%{y}<br>average_score=%{x}<extra></extra>",
         "legendgroup": "FISIKA",
         "marker": {
          "color": "rgb(255,237,111)",
          "pattern": {
           "shape": ""
          }
         },
         "name": "FISIKA",
         "offsetgroup": "FISIKA",
         "orientation": "h",
         "showlegend": true,
         "textangle": 0,
         "textfont": {
          "size": 16
         },
         "textposition": "inside",
         "texttemplate": "%{x}",
         "type": "bar",
         "x": [
          605.8486842105264
         ],
         "xaxis": "x",
         "y": [
          "FISIKA"
         ],
         "yaxis": "y"
        },
        {
         "alignmentgroup": "True",
         "cliponaxis": true,
         "hovertemplate": "first_major=%{y}<br>average_score=%{x}<extra></extra>",
         "legendgroup": "TEKNIK PENGAIRAN",
         "marker": {
          "color": "rgb(141,211,199)",
          "pattern": {
           "shape": ""
          }
         },
         "name": "TEKNIK PENGAIRAN",
         "offsetgroup": "TEKNIK PENGAIRAN",
         "orientation": "h",
         "showlegend": true,
         "textangle": 0,
         "textfont": {
          "size": 16
         },
         "textposition": "inside",
         "texttemplate": "%{x}",
         "type": "bar",
         "x": [
          605.6294642857143
         ],
         "xaxis": "x",
         "y": [
          "TEKNIK PENGAIRAN"
         ],
         "yaxis": "y"
        },
        {
         "alignmentgroup": "True",
         "cliponaxis": true,
         "hovertemplate": "first_major=%{y}<br>average_score=%{x}<extra></extra>",
         "legendgroup": "KEBIDANAN",
         "marker": {
          "color": "rgb(255,255,179)",
          "pattern": {
           "shape": ""
          }
         },
         "name": "KEBIDANAN",
         "offsetgroup": "KEBIDANAN",
         "orientation": "h",
         "showlegend": true,
         "textangle": 0,
         "textfont": {
          "size": 16
         },
         "textposition": "inside",
         "texttemplate": "%{x}",
         "type": "bar",
         "x": [
          604.6985294117648
         ],
         "xaxis": "x",
         "y": [
          "KEBIDANAN"
         ],
         "yaxis": "y"
        },
        {
         "alignmentgroup": "True",
         "cliponaxis": true,
         "hovertemplate": "first_major=%{y}<br>average_score=%{x}<extra></extra>",
         "legendgroup": "PENDIDIKAN DOKTER HEWAN",
         "marker": {
          "color": "rgb(190,186,218)",
          "pattern": {
           "shape": ""
          }
         },
         "name": "PENDIDIKAN DOKTER HEWAN",
         "offsetgroup": "PENDIDIKAN DOKTER HEWAN",
         "orientation": "h",
         "showlegend": true,
         "textangle": 0,
         "textfont": {
          "size": 16
         },
         "textposition": "inside",
         "texttemplate": "%{x}",
         "type": "bar",
         "x": [
          603.6796875
         ],
         "xaxis": "x",
         "y": [
          "PENDIDIKAN DOKTER HEWAN"
         ],
         "yaxis": "y"
        },
        {
         "alignmentgroup": "True",
         "cliponaxis": true,
         "hovertemplate": "first_major=%{y}<br>average_score=%{x}<extra></extra>",
         "legendgroup": "TEKNOLOGI BIOPROSES",
         "marker": {
          "color": "rgb(251,128,114)",
          "pattern": {
           "shape": ""
          }
         },
         "name": "TEKNOLOGI BIOPROSES",
         "offsetgroup": "TEKNOLOGI BIOPROSES",
         "orientation": "h",
         "showlegend": true,
         "textangle": 0,
         "textfont": {
          "size": 16
         },
         "textposition": "inside",
         "texttemplate": "%{x}",
         "type": "bar",
         "x": [
          598.4017857142857
         ],
         "xaxis": "x",
         "y": [
          "TEKNOLOGI BIOPROSES"
         ],
         "yaxis": "y"
        },
        {
         "alignmentgroup": "True",
         "cliponaxis": true,
         "hovertemplate": "first_major=%{y}<br>average_score=%{x}<extra></extra>",
         "legendgroup": "BIOLOGI",
         "marker": {
          "color": "rgb(128,177,211)",
          "pattern": {
           "shape": ""
          }
         },
         "name": "BIOLOGI",
         "offsetgroup": "BIOLOGI",
         "orientation": "h",
         "showlegend": true,
         "textangle": 0,
         "textfont": {
          "size": 16
         },
         "textposition": "inside",
         "texttemplate": "%{x}",
         "type": "bar",
         "x": [
          594.7321428571429
         ],
         "xaxis": "x",
         "y": [
          "BIOLOGI"
         ],
         "yaxis": "y"
        },
        {
         "alignmentgroup": "True",
         "cliponaxis": true,
         "hovertemplate": "first_major=%{y}<br>average_score=%{x}<extra></extra>",
         "legendgroup": "INSTRUMENTASI",
         "marker": {
          "color": "rgb(253,180,98)",
          "pattern": {
           "shape": ""
          }
         },
         "name": "INSTRUMENTASI",
         "offsetgroup": "INSTRUMENTASI",
         "orientation": "h",
         "showlegend": true,
         "textangle": 0,
         "textfont": {
          "size": 16
         },
         "textposition": "inside",
         "texttemplate": "%{x}",
         "type": "bar",
         "x": [
          593.2053571428571
         ],
         "xaxis": "x",
         "y": [
          "INSTRUMENTASI"
         ],
         "yaxis": "y"
        },
        {
         "alignmentgroup": "True",
         "cliponaxis": true,
         "hovertemplate": "first_major=%{y}<br>average_score=%{x}<extra></extra>",
         "legendgroup": "TEKNOLOGI INDUSTRI PERTANIAN",
         "marker": {
          "color": "rgb(179,222,105)",
          "pattern": {
           "shape": ""
          }
         },
         "name": "TEKNOLOGI INDUSTRI PERTANIAN",
         "offsetgroup": "TEKNOLOGI INDUSTRI PERTANIAN",
         "orientation": "h",
         "showlegend": true,
         "textangle": 0,
         "textfont": {
          "size": 16
         },
         "textposition": "inside",
         "texttemplate": "%{x}",
         "type": "bar",
         "x": [
          592.54375
         ],
         "xaxis": "x",
         "y": [
          "TEKNOLOGI INDUSTRI PERTANIAN"
         ],
         "yaxis": "y"
        },
        {
         "alignmentgroup": "True",
         "cliponaxis": true,
         "hovertemplate": "first_major=%{y}<br>average_score=%{x}<extra></extra>",
         "legendgroup": "ILMU KELAUTAN",
         "marker": {
          "color": "rgb(252,205,229)",
          "pattern": {
           "shape": ""
          }
         },
         "name": "ILMU KELAUTAN",
         "offsetgroup": "ILMU KELAUTAN",
         "orientation": "h",
         "showlegend": true,
         "textangle": 0,
         "textfont": {
          "size": 16
         },
         "textposition": "inside",
         "texttemplate": "%{x}",
         "type": "bar",
         "x": [
          591.8883928571429
         ],
         "xaxis": "x",
         "y": [
          "ILMU KELAUTAN"
         ],
         "yaxis": "y"
        },
        {
         "alignmentgroup": "True",
         "cliponaxis": true,
         "hovertemplate": "first_major=%{y}<br>average_score=%{x}<extra></extra>",
         "legendgroup": "AGRIBISNIS",
         "marker": {
          "color": "rgb(217,217,217)",
          "pattern": {
           "shape": ""
          }
         },
         "name": "AGRIBISNIS",
         "offsetgroup": "AGRIBISNIS",
         "orientation": "h",
         "showlegend": true,
         "textangle": 0,
         "textfont": {
          "size": 16
         },
         "textposition": "inside",
         "texttemplate": "%{x}",
         "type": "bar",
         "x": [
          585.7835820895523
         ],
         "xaxis": "x",
         "y": [
          "AGRIBISNIS"
         ],
         "yaxis": "y"
        },
        {
         "alignmentgroup": "True",
         "cliponaxis": true,
         "hovertemplate": "first_major=%{y}<br>average_score=%{x}<extra></extra>",
         "legendgroup": "AGROEKOTEKNOLOGI",
         "marker": {
          "color": "rgb(188,128,189)",
          "pattern": {
           "shape": ""
          }
         },
         "name": "AGROEKOTEKNOLOGI",
         "offsetgroup": "AGROEKOTEKNOLOGI",
         "orientation": "h",
         "showlegend": true,
         "textangle": 0,
         "textfont": {
          "size": 16
         },
         "textposition": "inside",
         "texttemplate": "%{x}",
         "type": "bar",
         "x": [
          583.5292338709677
         ],
         "xaxis": "x",
         "y": [
          "AGROEKOTEKNOLOGI"
         ],
         "yaxis": "y"
        },
        {
         "alignmentgroup": "True",
         "cliponaxis": true,
         "hovertemplate": "first_major=%{y}<br>average_score=%{x}<extra></extra>",
         "legendgroup": "PENDIDIKAN TEKNOLOGI INFORMASI",
         "marker": {
          "color": "rgb(204,235,197)",
          "pattern": {
           "shape": ""
          }
         },
         "name": "PENDIDIKAN TEKNOLOGI INFORMASI",
         "offsetgroup": "PENDIDIKAN TEKNOLOGI INFORMASI",
         "orientation": "h",
         "showlegend": true,
         "textangle": 0,
         "textfont": {
          "size": 16
         },
         "textposition": "inside",
         "texttemplate": "%{x}",
         "type": "bar",
         "x": [
          582.0729166666666
         ],
         "xaxis": "x",
         "y": [
          "PENDIDIKAN TEKNOLOGI INFORMASI"
         ],
         "yaxis": "y"
        },
        {
         "alignmentgroup": "True",
         "cliponaxis": true,
         "hovertemplate": "first_major=%{y}<br>average_score=%{x}<extra></extra>",
         "legendgroup": "MANAJEMEN SUMBERDAYA PERAIRAN",
         "marker": {
          "color": "rgb(255,237,111)",
          "pattern": {
           "shape": ""
          }
         },
         "name": "MANAJEMEN SUMBERDAYA PERAIRAN",
         "offsetgroup": "MANAJEMEN SUMBERDAYA PERAIRAN",
         "orientation": "h",
         "showlegend": true,
         "textangle": 0,
         "textfont": {
          "size": 16
         },
         "textposition": "inside",
         "texttemplate": "%{x}",
         "type": "bar",
         "x": [
          578.71875
         ],
         "xaxis": "x",
         "y": [
          "MANAJEMEN SUMBERDAYA PERAIRAN"
         ],
         "yaxis": "y"
        },
        {
         "alignmentgroup": "True",
         "cliponaxis": true,
         "hovertemplate": "first_major=%{y}<br>average_score=%{x}<extra></extra>",
         "legendgroup": "KETEKNIKAN PERTANIAN",
         "marker": {
          "color": "rgb(141,211,199)",
          "pattern": {
           "shape": ""
          }
         },
         "name": "KETEKNIKAN PERTANIAN",
         "offsetgroup": "KETEKNIKAN PERTANIAN",
         "orientation": "h",
         "showlegend": true,
         "textangle": 0,
         "textfont": {
          "size": 16
         },
         "textposition": "inside",
         "texttemplate": "%{x}",
         "type": "bar",
         "x": [
          576.31875
         ],
         "xaxis": "x",
         "y": [
          "KETEKNIKAN PERTANIAN"
         ],
         "yaxis": "y"
        },
        {
         "alignmentgroup": "True",
         "cliponaxis": true,
         "hovertemplate": "first_major=%{y}<br>average_score=%{x}<extra></extra>",
         "legendgroup": "AGRIBISNIS (PSDKU KEDIRI)",
         "marker": {
          "color": "rgb(255,255,179)",
          "pattern": {
           "shape": ""
          }
         },
         "name": "AGRIBISNIS (PSDKU KEDIRI)",
         "offsetgroup": "AGRIBISNIS (PSDKU KEDIRI)",
         "orientation": "h",
         "showlegend": true,
         "textangle": 0,
         "textfont": {
          "size": 16
         },
         "textposition": "inside",
         "texttemplate": "%{x}",
         "type": "bar",
         "x": [
          576.125
         ],
         "xaxis": "x",
         "y": [
          "AGRIBISNIS (PSDKU KEDIRI)"
         ],
         "yaxis": "y"
        },
        {
         "alignmentgroup": "True",
         "cliponaxis": true,
         "hovertemplate": "first_major=%{y}<br>average_score=%{x}<extra></extra>",
         "legendgroup": "AGROBISNIS PERIKANAN",
         "marker": {
          "color": "rgb(190,186,218)",
          "pattern": {
           "shape": ""
          }
         },
         "name": "AGROBISNIS PERIKANAN",
         "offsetgroup": "AGROBISNIS PERIKANAN",
         "orientation": "h",
         "showlegend": true,
         "textangle": 0,
         "textfont": {
          "size": 16
         },
         "textposition": "inside",
         "texttemplate": "%{x}",
         "type": "bar",
         "x": [
          572.90625
         ],
         "xaxis": "x",
         "y": [
          "AGROBISNIS PERIKANAN"
         ],
         "yaxis": "y"
        },
        {
         "alignmentgroup": "True",
         "cliponaxis": true,
         "hovertemplate": "first_major=%{y}<br>average_score=%{x}<extra></extra>",
         "legendgroup": "BUDIDAYA PERAIRAN",
         "marker": {
          "color": "rgb(251,128,114)",
          "pattern": {
           "shape": ""
          }
         },
         "name": "BUDIDAYA PERAIRAN",
         "offsetgroup": "BUDIDAYA PERAIRAN",
         "orientation": "h",
         "showlegend": true,
         "textangle": 0,
         "textfont": {
          "size": 16
         },
         "textposition": "inside",
         "texttemplate": "%{x}",
         "type": "bar",
         "x": [
          570.5223214285714
         ],
         "xaxis": "x",
         "y": [
          "BUDIDAYA PERAIRAN"
         ],
         "yaxis": "y"
        },
        {
         "alignmentgroup": "True",
         "cliponaxis": true,
         "hovertemplate": "first_major=%{y}<br>average_score=%{x}<extra></extra>",
         "legendgroup": "TEKNOLOGI HASIL PERIKANAN",
         "marker": {
          "color": "rgb(128,177,211)",
          "pattern": {
           "shape": ""
          }
         },
         "name": "TEKNOLOGI HASIL PERIKANAN",
         "offsetgroup": "TEKNOLOGI HASIL PERIKANAN",
         "orientation": "h",
         "showlegend": true,
         "textangle": 0,
         "textfont": {
          "size": 16
         },
         "textposition": "inside",
         "texttemplate": "%{x}",
         "type": "bar",
         "x": [
          570.2723214285714
         ],
         "xaxis": "x",
         "y": [
          "TEKNOLOGI HASIL PERIKANAN"
         ],
         "yaxis": "y"
        },
        {
         "alignmentgroup": "True",
         "cliponaxis": true,
         "hovertemplate": "first_major=%{y}<br>average_score=%{x}<extra></extra>",
         "legendgroup": "PEMANFAATAN SUMBERDAYA PERIKANAN",
         "marker": {
          "color": "rgb(253,180,98)",
          "pattern": {
           "shape": ""
          }
         },
         "name": "PEMANFAATAN SUMBERDAYA PERIKANAN",
         "offsetgroup": "PEMANFAATAN SUMBERDAYA PERIKANAN",
         "orientation": "h",
         "showlegend": true,
         "textangle": 0,
         "textfont": {
          "size": 16
         },
         "textposition": "inside",
         "texttemplate": "%{x}",
         "type": "bar",
         "x": [
          569.4241071428571
         ],
         "xaxis": "x",
         "y": [
          "PEMANFAATAN SUMBERDAYA PERIKANAN"
         ],
         "yaxis": "y"
        },
        {
         "alignmentgroup": "True",
         "cliponaxis": true,
         "hovertemplate": "first_major=%{y}<br>average_score=%{x}<extra></extra>",
         "legendgroup": "PETERNAKAN",
         "marker": {
          "color": "rgb(179,222,105)",
          "pattern": {
           "shape": ""
          }
         },
         "name": "PETERNAKAN",
         "offsetgroup": "PETERNAKAN",
         "orientation": "h",
         "showlegend": true,
         "textangle": 0,
         "textfont": {
          "size": 16
         },
         "textposition": "inside",
         "texttemplate": "%{x}",
         "type": "bar",
         "x": [
          566.1059523809524
         ],
         "xaxis": "x",
         "y": [
          "PETERNAKAN"
         ],
         "yaxis": "y"
        },
        {
         "alignmentgroup": "True",
         "cliponaxis": true,
         "hovertemplate": "first_major=%{y}<br>average_score=%{x}<extra></extra>",
         "legendgroup": "AGROEKOTEKNOLOGI (PSDKU KEDIRI)",
         "marker": {
          "color": "rgb(252,205,229)",
          "pattern": {
           "shape": ""
          }
         },
         "name": "AGROEKOTEKNOLOGI (PSDKU KEDIRI)",
         "offsetgroup": "AGROEKOTEKNOLOGI (PSDKU KEDIRI)",
         "orientation": "h",
         "showlegend": true,
         "textangle": 0,
         "textfont": {
          "size": 16
         },
         "textposition": "inside",
         "texttemplate": "%{x}",
         "type": "bar",
         "x": [
          554.0625
         ],
         "xaxis": "x",
         "y": [
          "AGROEKOTEKNOLOGI (PSDKU KEDIRI)"
         ],
         "yaxis": "y"
        },
        {
         "alignmentgroup": "True",
         "cliponaxis": true,
         "hovertemplate": "first_major=%{y}<br>average_score=%{x}<extra></extra>",
         "legendgroup": "SOSIAL EKONOMI PERIKANAN (PSDKU KEDIRI)",
         "marker": {
          "color": "rgb(217,217,217)",
          "pattern": {
           "shape": ""
          }
         },
         "name": "SOSIAL EKONOMI PERIKANAN (PSDKU KEDIRI)",
         "offsetgroup": "SOSIAL EKONOMI PERIKANAN (PSDKU KEDIRI)",
         "orientation": "h",
         "showlegend": true,
         "textangle": 0,
         "textfont": {
          "size": 16
         },
         "textposition": "inside",
         "texttemplate": "%{x}",
         "type": "bar",
         "x": [
          542.859375
         ],
         "xaxis": "x",
         "y": [
          "SOSIAL EKONOMI PERIKANAN (PSDKU KEDIRI)"
         ],
         "yaxis": "y"
        },
        {
         "alignmentgroup": "True",
         "cliponaxis": true,
         "hovertemplate": "first_major=%{y}<br>average_score=%{x}<extra></extra>",
         "legendgroup": "PETERNAKAN (PSDKU KEDIRI)",
         "marker": {
          "color": "rgb(188,128,189)",
          "pattern": {
           "shape": ""
          }
         },
         "name": "PETERNAKAN (PSDKU KEDIRI)",
         "offsetgroup": "PETERNAKAN (PSDKU KEDIRI)",
         "orientation": "h",
         "showlegend": true,
         "textangle": 0,
         "textfont": {
          "size": 16
         },
         "textposition": "inside",
         "texttemplate": "%{x}",
         "type": "bar",
         "x": [
          536.3541666666666
         ],
         "xaxis": "x",
         "y": [
          "PETERNAKAN (PSDKU KEDIRI)"
         ],
         "yaxis": "y"
        },
        {
         "alignmentgroup": "True",
         "cliponaxis": true,
         "hovertemplate": "first_major=%{y}<br>average_score=%{x}<extra></extra>",
         "legendgroup": "AKUAKULTUR (PSDKU KEDIRI) ",
         "marker": {
          "color": "rgb(204,235,197)",
          "pattern": {
           "shape": ""
          }
         },
         "name": "AKUAKULTUR (PSDKU KEDIRI) ",
         "offsetgroup": "AKUAKULTUR (PSDKU KEDIRI) ",
         "orientation": "h",
         "showlegend": true,
         "textangle": 0,
         "textfont": {
          "size": 16
         },
         "textposition": "inside",
         "texttemplate": "%{x}",
         "type": "bar",
         "x": [
          535.734375
         ],
         "xaxis": "x",
         "y": [
          "AKUAKULTUR (PSDKU KEDIRI) "
         ],
         "yaxis": "y"
        }
       ],
       "layout": {
        "bargap": 0.15,
        "bargroupgap": 0.1,
        "barmode": "relative",
        "height": 1200,
        "legend": {
         "title": {
          "text": "first_major"
         },
         "tracegroupgap": 0
        },
        "margin": {
         "t": 60
        },
        "showlegend": false,
        "template": {
         "data": {
          "bar": [
           {
            "error_x": {
             "color": "#2a3f5f"
            },
            "error_y": {
             "color": "#2a3f5f"
            },
            "marker": {
             "line": {
              "color": "#E5ECF6",
              "width": 0.5
             },
             "pattern": {
              "fillmode": "overlay",
              "size": 10,
              "solidity": 0.2
             }
            },
            "type": "bar"
           }
          ],
          "barpolar": [
           {
            "marker": {
             "line": {
              "color": "#E5ECF6",
              "width": 0.5
             },
             "pattern": {
              "fillmode": "overlay",
              "size": 10,
              "solidity": 0.2
             }
            },
            "type": "barpolar"
           }
          ],
          "carpet": [
           {
            "aaxis": {
             "endlinecolor": "#2a3f5f",
             "gridcolor": "white",
             "linecolor": "white",
             "minorgridcolor": "white",
             "startlinecolor": "#2a3f5f"
            },
            "baxis": {
             "endlinecolor": "#2a3f5f",
             "gridcolor": "white",
             "linecolor": "white",
             "minorgridcolor": "white",
             "startlinecolor": "#2a3f5f"
            },
            "type": "carpet"
           }
          ],
          "choropleth": [
           {
            "colorbar": {
             "outlinewidth": 0,
             "ticks": ""
            },
            "type": "choropleth"
           }
          ],
          "contour": [
           {
            "colorbar": {
             "outlinewidth": 0,
             "ticks": ""
            },
            "colorscale": [
             [
              0,
              "#0d0887"
             ],
             [
              0.1111111111111111,
              "#46039f"
             ],
             [
              0.2222222222222222,
              "#7201a8"
             ],
             [
              0.3333333333333333,
              "#9c179e"
             ],
             [
              0.4444444444444444,
              "#bd3786"
             ],
             [
              0.5555555555555556,
              "#d8576b"
             ],
             [
              0.6666666666666666,
              "#ed7953"
             ],
             [
              0.7777777777777778,
              "#fb9f3a"
             ],
             [
              0.8888888888888888,
              "#fdca26"
             ],
             [
              1,
              "#f0f921"
             ]
            ],
            "type": "contour"
           }
          ],
          "contourcarpet": [
           {
            "colorbar": {
             "outlinewidth": 0,
             "ticks": ""
            },
            "type": "contourcarpet"
           }
          ],
          "heatmap": [
           {
            "colorbar": {
             "outlinewidth": 0,
             "ticks": ""
            },
            "colorscale": [
             [
              0,
              "#0d0887"
             ],
             [
              0.1111111111111111,
              "#46039f"
             ],
             [
              0.2222222222222222,
              "#7201a8"
             ],
             [
              0.3333333333333333,
              "#9c179e"
             ],
             [
              0.4444444444444444,
              "#bd3786"
             ],
             [
              0.5555555555555556,
              "#d8576b"
             ],
             [
              0.6666666666666666,
              "#ed7953"
             ],
             [
              0.7777777777777778,
              "#fb9f3a"
             ],
             [
              0.8888888888888888,
              "#fdca26"
             ],
             [
              1,
              "#f0f921"
             ]
            ],
            "type": "heatmap"
           }
          ],
          "heatmapgl": [
           {
            "colorbar": {
             "outlinewidth": 0,
             "ticks": ""
            },
            "colorscale": [
             [
              0,
              "#0d0887"
             ],
             [
              0.1111111111111111,
              "#46039f"
             ],
             [
              0.2222222222222222,
              "#7201a8"
             ],
             [
              0.3333333333333333,
              "#9c179e"
             ],
             [
              0.4444444444444444,
              "#bd3786"
             ],
             [
              0.5555555555555556,
              "#d8576b"
             ],
             [
              0.6666666666666666,
              "#ed7953"
             ],
             [
              0.7777777777777778,
              "#fb9f3a"
             ],
             [
              0.8888888888888888,
              "#fdca26"
             ],
             [
              1,
              "#f0f921"
             ]
            ],
            "type": "heatmapgl"
           }
          ],
          "histogram": [
           {
            "marker": {
             "pattern": {
              "fillmode": "overlay",
              "size": 10,
              "solidity": 0.2
             }
            },
            "type": "histogram"
           }
          ],
          "histogram2d": [
           {
            "colorbar": {
             "outlinewidth": 0,
             "ticks": ""
            },
            "colorscale": [
             [
              0,
              "#0d0887"
             ],
             [
              0.1111111111111111,
              "#46039f"
             ],
             [
              0.2222222222222222,
              "#7201a8"
             ],
             [
              0.3333333333333333,
              "#9c179e"
             ],
             [
              0.4444444444444444,
              "#bd3786"
             ],
             [
              0.5555555555555556,
              "#d8576b"
             ],
             [
              0.6666666666666666,
              "#ed7953"
             ],
             [
              0.7777777777777778,
              "#fb9f3a"
             ],
             [
              0.8888888888888888,
              "#fdca26"
             ],
             [
              1,
              "#f0f921"
             ]
            ],
            "type": "histogram2d"
           }
          ],
          "histogram2dcontour": [
           {
            "colorbar": {
             "outlinewidth": 0,
             "ticks": ""
            },
            "colorscale": [
             [
              0,
              "#0d0887"
             ],
             [
              0.1111111111111111,
              "#46039f"
             ],
             [
              0.2222222222222222,
              "#7201a8"
             ],
             [
              0.3333333333333333,
              "#9c179e"
             ],
             [
              0.4444444444444444,
              "#bd3786"
             ],
             [
              0.5555555555555556,
              "#d8576b"
             ],
             [
              0.6666666666666666,
              "#ed7953"
             ],
             [
              0.7777777777777778,
              "#fb9f3a"
             ],
             [
              0.8888888888888888,
              "#fdca26"
             ],
             [
              1,
              "#f0f921"
             ]
            ],
            "type": "histogram2dcontour"
           }
          ],
          "mesh3d": [
           {
            "colorbar": {
             "outlinewidth": 0,
             "ticks": ""
            },
            "type": "mesh3d"
           }
          ],
          "parcoords": [
           {
            "line": {
             "colorbar": {
              "outlinewidth": 0,
              "ticks": ""
             }
            },
            "type": "parcoords"
           }
          ],
          "pie": [
           {
            "automargin": true,
            "type": "pie"
           }
          ],
          "scatter": [
           {
            "marker": {
             "colorbar": {
              "outlinewidth": 0,
              "ticks": ""
             }
            },
            "type": "scatter"
           }
          ],
          "scatter3d": [
           {
            "line": {
             "colorbar": {
              "outlinewidth": 0,
              "ticks": ""
             }
            },
            "marker": {
             "colorbar": {
              "outlinewidth": 0,
              "ticks": ""
             }
            },
            "type": "scatter3d"
           }
          ],
          "scattercarpet": [
           {
            "marker": {
             "colorbar": {
              "outlinewidth": 0,
              "ticks": ""
             }
            },
            "type": "scattercarpet"
           }
          ],
          "scattergeo": [
           {
            "marker": {
             "colorbar": {
              "outlinewidth": 0,
              "ticks": ""
             }
            },
            "type": "scattergeo"
           }
          ],
          "scattergl": [
           {
            "marker": {
             "colorbar": {
              "outlinewidth": 0,
              "ticks": ""
             }
            },
            "type": "scattergl"
           }
          ],
          "scattermapbox": [
           {
            "marker": {
             "colorbar": {
              "outlinewidth": 0,
              "ticks": ""
             }
            },
            "type": "scattermapbox"
           }
          ],
          "scatterpolar": [
           {
            "marker": {
             "colorbar": {
              "outlinewidth": 0,
              "ticks": ""
             }
            },
            "type": "scatterpolar"
           }
          ],
          "scatterpolargl": [
           {
            "marker": {
             "colorbar": {
              "outlinewidth": 0,
              "ticks": ""
             }
            },
            "type": "scatterpolargl"
           }
          ],
          "scatterternary": [
           {
            "marker": {
             "colorbar": {
              "outlinewidth": 0,
              "ticks": ""
             }
            },
            "type": "scatterternary"
           }
          ],
          "surface": [
           {
            "colorbar": {
             "outlinewidth": 0,
             "ticks": ""
            },
            "colorscale": [
             [
              0,
              "#0d0887"
             ],
             [
              0.1111111111111111,
              "#46039f"
             ],
             [
              0.2222222222222222,
              "#7201a8"
             ],
             [
              0.3333333333333333,
              "#9c179e"
             ],
             [
              0.4444444444444444,
              "#bd3786"
             ],
             [
              0.5555555555555556,
              "#d8576b"
             ],
             [
              0.6666666666666666,
              "#ed7953"
             ],
             [
              0.7777777777777778,
              "#fb9f3a"
             ],
             [
              0.8888888888888888,
              "#fdca26"
             ],
             [
              1,
              "#f0f921"
             ]
            ],
            "type": "surface"
           }
          ],
          "table": [
           {
            "cells": {
             "fill": {
              "color": "#EBF0F8"
             },
             "line": {
              "color": "white"
             }
            },
            "header": {
             "fill": {
              "color": "#C8D4E3"
             },
             "line": {
              "color": "white"
             }
            },
            "type": "table"
           }
          ]
         },
         "layout": {
          "annotationdefaults": {
           "arrowcolor": "#2a3f5f",
           "arrowhead": 0,
           "arrowwidth": 1
          },
          "autotypenumbers": "strict",
          "coloraxis": {
           "colorbar": {
            "outlinewidth": 0,
            "ticks": ""
           }
          },
          "colorscale": {
           "diverging": [
            [
             0,
             "#8e0152"
            ],
            [
             0.1,
             "#c51b7d"
            ],
            [
             0.2,
             "#de77ae"
            ],
            [
             0.3,
             "#f1b6da"
            ],
            [
             0.4,
             "#fde0ef"
            ],
            [
             0.5,
             "#f7f7f7"
            ],
            [
             0.6,
             "#e6f5d0"
            ],
            [
             0.7,
             "#b8e186"
            ],
            [
             0.8,
             "#7fbc41"
            ],
            [
             0.9,
             "#4d9221"
            ],
            [
             1,
             "#276419"
            ]
           ],
           "sequential": [
            [
             0,
             "#0d0887"
            ],
            [
             0.1111111111111111,
             "#46039f"
            ],
            [
             0.2222222222222222,
             "#7201a8"
            ],
            [
             0.3333333333333333,
             "#9c179e"
            ],
            [
             0.4444444444444444,
             "#bd3786"
            ],
            [
             0.5555555555555556,
             "#d8576b"
            ],
            [
             0.6666666666666666,
             "#ed7953"
            ],
            [
             0.7777777777777778,
             "#fb9f3a"
            ],
            [
             0.8888888888888888,
             "#fdca26"
            ],
            [
             1,
             "#f0f921"
            ]
           ],
           "sequentialminus": [
            [
             0,
             "#0d0887"
            ],
            [
             0.1111111111111111,
             "#46039f"
            ],
            [
             0.2222222222222222,
             "#7201a8"
            ],
            [
             0.3333333333333333,
             "#9c179e"
            ],
            [
             0.4444444444444444,
             "#bd3786"
            ],
            [
             0.5555555555555556,
             "#d8576b"
            ],
            [
             0.6666666666666666,
             "#ed7953"
            ],
            [
             0.7777777777777778,
             "#fb9f3a"
            ],
            [
             0.8888888888888888,
             "#fdca26"
            ],
            [
             1,
             "#f0f921"
            ]
           ]
          },
          "colorway": [
           "#636efa",
           "#EF553B",
           "#00cc96",
           "#ab63fa",
           "#FFA15A",
           "#19d3f3",
           "#FF6692",
           "#B6E880",
           "#FF97FF",
           "#FECB52"
          ],
          "font": {
           "color": "#2a3f5f"
          },
          "geo": {
           "bgcolor": "white",
           "lakecolor": "white",
           "landcolor": "#E5ECF6",
           "showlakes": true,
           "showland": true,
           "subunitcolor": "white"
          },
          "hoverlabel": {
           "align": "left"
          },
          "hovermode": "closest",
          "mapbox": {
           "style": "light"
          },
          "paper_bgcolor": "white",
          "plot_bgcolor": "#E5ECF6",
          "polar": {
           "angularaxis": {
            "gridcolor": "white",
            "linecolor": "white",
            "ticks": ""
           },
           "bgcolor": "#E5ECF6",
           "radialaxis": {
            "gridcolor": "white",
            "linecolor": "white",
            "ticks": ""
           }
          },
          "scene": {
           "xaxis": {
            "backgroundcolor": "#E5ECF6",
            "gridcolor": "white",
            "gridwidth": 2,
            "linecolor": "white",
            "showbackground": true,
            "ticks": "",
            "zerolinecolor": "white"
           },
           "yaxis": {
            "backgroundcolor": "#E5ECF6",
            "gridcolor": "white",
            "gridwidth": 2,
            "linecolor": "white",
            "showbackground": true,
            "ticks": "",
            "zerolinecolor": "white"
           },
           "zaxis": {
            "backgroundcolor": "#E5ECF6",
            "gridcolor": "white",
            "gridwidth": 2,
            "linecolor": "white",
            "showbackground": true,
            "ticks": "",
            "zerolinecolor": "white"
           }
          },
          "shapedefaults": {
           "line": {
            "color": "#2a3f5f"
           }
          },
          "ternary": {
           "aaxis": {
            "gridcolor": "white",
            "linecolor": "white",
            "ticks": ""
           },
           "baxis": {
            "gridcolor": "white",
            "linecolor": "white",
            "ticks": ""
           },
           "bgcolor": "#E5ECF6",
           "caxis": {
            "gridcolor": "white",
            "linecolor": "white",
            "ticks": ""
           }
          },
          "title": {
           "x": 0.05
          },
          "xaxis": {
           "automargin": true,
           "gridcolor": "white",
           "linecolor": "white",
           "ticks": "",
           "title": {
            "standoff": 15
           },
           "zerolinecolor": "white",
           "zerolinewidth": 2
          },
          "yaxis": {
           "automargin": true,
           "gridcolor": "white",
           "linecolor": "white",
           "ticks": "",
           "title": {
            "standoff": 15
           },
           "zerolinecolor": "white",
           "zerolinewidth": 2
          }
         }
        },
        "title": {
         "text": "Avg Score in Science Majors UB 2019"
        },
        "width": 1200,
        "xaxis": {
         "anchor": "y",
         "domain": [
          0,
          1
         ],
         "title": {
          "text": "Avg Score"
         }
        },
        "yaxis": {
         "anchor": "x",
         "categoryarray": [
          "AKUAKULTUR (PSDKU KEDIRI) ",
          "PETERNAKAN (PSDKU KEDIRI)",
          "SOSIAL EKONOMI PERIKANAN (PSDKU KEDIRI)",
          "AGROEKOTEKNOLOGI (PSDKU KEDIRI)",
          "PETERNAKAN",
          "PEMANFAATAN SUMBERDAYA PERIKANAN",
          "TEKNOLOGI HASIL PERIKANAN",
          "BUDIDAYA PERAIRAN",
          "AGROBISNIS PERIKANAN",
          "AGRIBISNIS (PSDKU KEDIRI)",
          "KETEKNIKAN PERTANIAN",
          "MANAJEMEN SUMBERDAYA PERAIRAN",
          "PENDIDIKAN TEKNOLOGI INFORMASI",
          "AGROEKOTEKNOLOGI",
          "AGRIBISNIS",
          "ILMU KELAUTAN",
          "TEKNOLOGI INDUSTRI PERTANIAN",
          "INSTRUMENTASI",
          "BIOLOGI",
          "TEKNOLOGI BIOPROSES",
          "PENDIDIKAN DOKTER HEWAN",
          "KEBIDANAN",
          "TEKNIK PENGAIRAN",
          "FISIKA",
          "ILMU KEPERAWATAN",
          "TEKNIK GEOFISIKA",
          "TEKNIK KOMPUTER",
          "MATEMATIKA",
          "BIOTEKNOLOGI",
          "KIMIA",
          "TEKNIK MESIN",
          "TEKNOLOGI INFORMASI",
          "PERENCANAAN WILAYAH & KOTA",
          "TEKNIK ELEKTRO",
          "ILMU DAN TEKNOLOGI PANGAN",
          "TEKNIK LINGKUNGAN",
          "TEKNIK KIMIA",
          "ARSITEKTUR",
          "SISTEM INFORMASI",
          "FARMASI",
          "STATISTIKA",
          "TEKNIK SIPIL",
          "GIZI KESEHATAN / ILMU GIZI",
          "TEKNIK INDUSTRI",
          "TEKNIK INFORMATIKA",
          "PENDIDIKAN DOKTER GIGI",
          "PENDIDIKAN DOKTER"
         ],
         "categoryorder": "array",
         "domain": [
          0,
          1
         ],
         "title": {
          "text": "Majors"
         }
        }
       }
      }
     },
     "metadata": {},
     "output_type": "display_data"
    },
    {
     "data": {
      "application/vnd.plotly.v1+json": {
       "config": {
        "plotlyServerURL": "https://plot.ly"
       },
       "data": [
        {
         "alignmentgroup": "True",
         "hovertemplate": "first_major=%{y}<br>average_score=%{x}<extra></extra>",
         "legendgroup": "AKUNTANSI",
         "marker": {
          "color": "rgb(102,194,165)",
          "pattern": {
           "shape": ""
          }
         },
         "name": "AKUNTANSI",
         "offsetgroup": "AKUNTANSI",
         "orientation": "h",
         "showlegend": true,
         "textposition": "auto",
         "texttemplate": "%{x}",
         "type": "bar",
         "x": [
          641.5198863636364
         ],
         "xaxis": "x",
         "y": [
          "AKUNTANSI"
         ],
         "yaxis": "y"
        },
        {
         "alignmentgroup": "True",
         "hovertemplate": "first_major=%{y}<br>average_score=%{x}<extra></extra>",
         "legendgroup": "MANAJEMEN",
         "marker": {
          "color": "rgb(252,141,98)",
          "pattern": {
           "shape": ""
          }
         },
         "name": "MANAJEMEN",
         "offsetgroup": "MANAJEMEN",
         "orientation": "h",
         "showlegend": true,
         "textposition": "auto",
         "texttemplate": "%{x}",
         "type": "bar",
         "x": [
          638.4005681818181
         ],
         "xaxis": "x",
         "y": [
          "MANAJEMEN"
         ],
         "yaxis": "y"
        },
        {
         "alignmentgroup": "True",
         "hovertemplate": "first_major=%{y}<br>average_score=%{x}<extra></extra>",
         "legendgroup": "PSIKOLOGI",
         "marker": {
          "color": "rgb(141,160,203)",
          "pattern": {
           "shape": ""
          }
         },
         "name": "PSIKOLOGI",
         "offsetgroup": "PSIKOLOGI",
         "orientation": "h",
         "showlegend": true,
         "textposition": "auto",
         "texttemplate": "%{x}",
         "type": "bar",
         "x": [
          632.0285714285715
         ],
         "xaxis": "x",
         "y": [
          "PSIKOLOGI"
         ],
         "yaxis": "y"
        },
        {
         "alignmentgroup": "True",
         "hovertemplate": "first_major=%{y}<br>average_score=%{x}<extra></extra>",
         "legendgroup": "HUBUNGAN INTERNASIONAL",
         "marker": {
          "color": "rgb(231,138,195)",
          "pattern": {
           "shape": ""
          }
         },
         "name": "HUBUNGAN INTERNASIONAL",
         "offsetgroup": "HUBUNGAN INTERNASIONAL",
         "orientation": "h",
         "showlegend": true,
         "textposition": "auto",
         "texttemplate": "%{x}",
         "type": "bar",
         "x": [
          631.9907407407408
         ],
         "xaxis": "x",
         "y": [
          "HUBUNGAN INTERNASIONAL"
         ],
         "yaxis": "y"
        },
        {
         "alignmentgroup": "True",
         "hovertemplate": "first_major=%{y}<br>average_score=%{x}<extra></extra>",
         "legendgroup": "ADMINISTRASI PERPAJAKAN",
         "marker": {
          "color": "rgb(166,216,84)",
          "pattern": {
           "shape": ""
          }
         },
         "name": "ADMINISTRASI PERPAJAKAN",
         "offsetgroup": "ADMINISTRASI PERPAJAKAN",
         "orientation": "h",
         "showlegend": true,
         "textposition": "auto",
         "texttemplate": "%{x}",
         "type": "bar",
         "x": [
          629.045
         ],
         "xaxis": "x",
         "y": [
          "ADMINISTRASI PERPAJAKAN"
         ],
         "yaxis": "y"
        },
        {
         "alignmentgroup": "True",
         "hovertemplate": "first_major=%{y}<br>average_score=%{x}<extra></extra>",
         "legendgroup": "ILMU KOMUNIKASI",
         "marker": {
          "color": "rgb(255,217,47)",
          "pattern": {
           "shape": ""
          }
         },
         "name": "ILMU KOMUNIKASI",
         "offsetgroup": "ILMU KOMUNIKASI",
         "orientation": "h",
         "showlegend": true,
         "textposition": "auto",
         "texttemplate": "%{x}",
         "type": "bar",
         "x": [
          627.0454545454545
         ],
         "xaxis": "x",
         "y": [
          "ILMU KOMUNIKASI"
         ],
         "yaxis": "y"
        },
        {
         "alignmentgroup": "True",
         "hovertemplate": "first_major=%{y}<br>average_score=%{x}<extra></extra>",
         "legendgroup": "EKONOMI PEMBANGUNAN",
         "marker": {
          "color": "rgb(229,196,148)",
          "pattern": {
           "shape": ""
          }
         },
         "name": "EKONOMI PEMBANGUNAN",
         "offsetgroup": "EKONOMI PEMBANGUNAN",
         "orientation": "h",
         "showlegend": true,
         "textposition": "auto",
         "texttemplate": "%{x}",
         "type": "bar",
         "x": [
          624.8875
         ],
         "xaxis": "x",
         "y": [
          "EKONOMI PEMBANGUNAN"
         ],
         "yaxis": "y"
        },
        {
         "alignmentgroup": "True",
         "hovertemplate": "first_major=%{y}<br>average_score=%{x}<extra></extra>",
         "legendgroup": "EKONOMI, KEUANGAN DAN PERBANKAN",
         "marker": {
          "color": "rgb(179,179,179)",
          "pattern": {
           "shape": ""
          }
         },
         "name": "EKONOMI, KEUANGAN DAN PERBANKAN",
         "offsetgroup": "EKONOMI, KEUANGAN DAN PERBANKAN",
         "orientation": "h",
         "showlegend": true,
         "textposition": "auto",
         "texttemplate": "%{x}",
         "type": "bar",
         "x": [
          624.44
         ],
         "xaxis": "x",
         "y": [
          "EKONOMI, KEUANGAN DAN PERBANKAN"
         ],
         "yaxis": "y"
        },
        {
         "alignmentgroup": "True",
         "hovertemplate": "first_major=%{y}<br>average_score=%{x}<extra></extra>",
         "legendgroup": "ILMU ADMINISTRASI BISNIS",
         "marker": {
          "color": "rgb(102,194,165)",
          "pattern": {
           "shape": ""
          }
         },
         "name": "ILMU ADMINISTRASI BISNIS",
         "offsetgroup": "ILMU ADMINISTRASI BISNIS",
         "orientation": "h",
         "showlegend": true,
         "textposition": "auto",
         "texttemplate": "%{x}",
         "type": "bar",
         "x": [
          623.0564516129032
         ],
         "xaxis": "x",
         "y": [
          "ILMU ADMINISTRASI BISNIS"
         ],
         "yaxis": "y"
        },
        {
         "alignmentgroup": "True",
         "hovertemplate": "first_major=%{y}<br>average_score=%{x}<extra></extra>",
         "legendgroup": "ILMU HUKUM",
         "marker": {
          "color": "rgb(252,141,98)",
          "pattern": {
           "shape": ""
          }
         },
         "name": "ILMU HUKUM",
         "offsetgroup": "ILMU HUKUM",
         "orientation": "h",
         "showlegend": true,
         "textposition": "auto",
         "texttemplate": "%{x}",
         "type": "bar",
         "x": [
          619.2980769230769
         ],
         "xaxis": "x",
         "y": [
          "ILMU HUKUM"
         ],
         "yaxis": "y"
        },
        {
         "alignmentgroup": "True",
         "hovertemplate": "first_major=%{y}<br>average_score=%{x}<extra></extra>",
         "legendgroup": "EKONOMI ISLAM",
         "marker": {
          "color": "rgb(141,160,203)",
          "pattern": {
           "shape": ""
          }
         },
         "name": "EKONOMI ISLAM",
         "offsetgroup": "EKONOMI ISLAM",
         "orientation": "h",
         "showlegend": true,
         "textposition": "auto",
         "texttemplate": "%{x}",
         "type": "bar",
         "x": [
          609.4375
         ],
         "xaxis": "x",
         "y": [
          "EKONOMI ISLAM"
         ],
         "yaxis": "y"
        },
        {
         "alignmentgroup": "True",
         "hovertemplate": "first_major=%{y}<br>average_score=%{x}<extra></extra>",
         "legendgroup": "SASTRA JEPANG",
         "marker": {
          "color": "rgb(231,138,195)",
          "pattern": {
           "shape": ""
          }
         },
         "name": "SASTRA JEPANG",
         "offsetgroup": "SASTRA JEPANG",
         "orientation": "h",
         "showlegend": true,
         "textposition": "auto",
         "texttemplate": "%{x}",
         "type": "bar",
         "x": [
          606.6973684210526
         ],
         "xaxis": "x",
         "y": [
          "SASTRA JEPANG"
         ],
         "yaxis": "y"
        },
        {
         "alignmentgroup": "True",
         "hovertemplate": "first_major=%{y}<br>average_score=%{x}<extra></extra>",
         "legendgroup": "SASTRA INGGRIS",
         "marker": {
          "color": "rgb(166,216,84)",
          "pattern": {
           "shape": ""
          }
         },
         "name": "SASTRA INGGRIS",
         "offsetgroup": "SASTRA INGGRIS",
         "orientation": "h",
         "showlegend": true,
         "textposition": "auto",
         "texttemplate": "%{x}",
         "type": "bar",
         "x": [
          606.6079545454545
         ],
         "xaxis": "x",
         "y": [
          "SASTRA INGGRIS"
         ],
         "yaxis": "y"
        },
        {
         "alignmentgroup": "True",
         "hovertemplate": "first_major=%{y}<br>average_score=%{x}<extra></extra>",
         "legendgroup": "ILMU ADMINISTRASI PUBLIK",
         "marker": {
          "color": "rgb(255,217,47)",
          "pattern": {
           "shape": ""
          }
         },
         "name": "ILMU ADMINISTRASI PUBLIK",
         "offsetgroup": "ILMU ADMINISTRASI PUBLIK",
         "orientation": "h",
         "showlegend": true,
         "textposition": "auto",
         "texttemplate": "%{x}",
         "type": "bar",
         "x": [
          603.9652777777778
         ],
         "xaxis": "x",
         "y": [
          "ILMU ADMINISTRASI PUBLIK"
         ],
         "yaxis": "y"
        },
        {
         "alignmentgroup": "True",
         "hovertemplate": "first_major=%{y}<br>average_score=%{x}<extra></extra>",
         "legendgroup": "ILMU POLITIK",
         "marker": {
          "color": "rgb(229,196,148)",
          "pattern": {
           "shape": ""
          }
         },
         "name": "ILMU POLITIK",
         "offsetgroup": "ILMU POLITIK",
         "orientation": "h",
         "showlegend": true,
         "textposition": "auto",
         "texttemplate": "%{x}",
         "type": "bar",
         "x": [
          601.8942307692307
         ],
         "xaxis": "x",
         "y": [
          "ILMU POLITIK"
         ],
         "yaxis": "y"
        },
        {
         "alignmentgroup": "True",
         "hovertemplate": "first_major=%{y}<br>average_score=%{x}<extra></extra>",
         "legendgroup": "KEWIRAUSAHAAN",
         "marker": {
          "color": "rgb(179,179,179)",
          "pattern": {
           "shape": ""
          }
         },
         "name": "KEWIRAUSAHAAN",
         "offsetgroup": "KEWIRAUSAHAAN",
         "orientation": "h",
         "showlegend": true,
         "textposition": "auto",
         "texttemplate": "%{x}",
         "type": "bar",
         "x": [
          598.5227272727273
         ],
         "xaxis": "x",
         "y": [
          "KEWIRAUSAHAAN"
         ],
         "yaxis": "y"
        },
        {
         "alignmentgroup": "True",
         "hovertemplate": "first_major=%{y}<br>average_score=%{x}<extra></extra>",
         "legendgroup": "ILMU PEMERINTAHAN",
         "marker": {
          "color": "rgb(102,194,165)",
          "pattern": {
           "shape": ""
          }
         },
         "name": "ILMU PEMERINTAHAN",
         "offsetgroup": "ILMU PEMERINTAHAN",
         "orientation": "h",
         "showlegend": true,
         "textposition": "auto",
         "texttemplate": "%{x}",
         "type": "bar",
         "x": [
          597.1435185185185
         ],
         "xaxis": "x",
         "y": [
          "ILMU PEMERINTAHAN"
         ],
         "yaxis": "y"
        },
        {
         "alignmentgroup": "True",
         "hovertemplate": "first_major=%{y}<br>average_score=%{x}<extra></extra>",
         "legendgroup": "PARIWISATA",
         "marker": {
          "color": "rgb(252,141,98)",
          "pattern": {
           "shape": ""
          }
         },
         "name": "PARIWISATA",
         "offsetgroup": "PARIWISATA",
         "orientation": "h",
         "showlegend": true,
         "textposition": "auto",
         "texttemplate": "%{x}",
         "type": "bar",
         "x": [
          596.3409090909091
         ],
         "xaxis": "x",
         "y": [
          "PARIWISATA"
         ],
         "yaxis": "y"
        },
        {
         "alignmentgroup": "True",
         "hovertemplate": "first_major=%{y}<br>average_score=%{x}<extra></extra>",
         "legendgroup": "ANTROPOLOGI SOSIAL",
         "marker": {
          "color": "rgb(141,160,203)",
          "pattern": {
           "shape": ""
          }
         },
         "name": "ANTROPOLOGI SOSIAL",
         "offsetgroup": "ANTROPOLOGI SOSIAL",
         "orientation": "h",
         "showlegend": true,
         "textposition": "auto",
         "texttemplate": "%{x}",
         "type": "bar",
         "x": [
          596.2727272727273
         ],
         "xaxis": "x",
         "y": [
          "ANTROPOLOGI SOSIAL"
         ],
         "yaxis": "y"
        },
        {
         "alignmentgroup": "True",
         "hovertemplate": "first_major=%{y}<br>average_score=%{x}<extra></extra>",
         "legendgroup": "BAHASA DAN SASTRA PERANCIS",
         "marker": {
          "color": "rgb(231,138,195)",
          "pattern": {
           "shape": ""
          }
         },
         "name": "BAHASA DAN SASTRA PERANCIS",
         "offsetgroup": "BAHASA DAN SASTRA PERANCIS",
         "orientation": "h",
         "showlegend": true,
         "textposition": "auto",
         "texttemplate": "%{x}",
         "type": "bar",
         "x": [
          586.6022727272727
         ],
         "xaxis": "x",
         "y": [
          "BAHASA DAN SASTRA PERANCIS"
         ],
         "yaxis": "y"
        },
        {
         "alignmentgroup": "True",
         "hovertemplate": "first_major=%{y}<br>average_score=%{x}<extra></extra>",
         "legendgroup": "SOSIOLOGI",
         "marker": {
          "color": "rgb(166,216,84)",
          "pattern": {
           "shape": ""
          }
         },
         "name": "SOSIOLOGI",
         "offsetgroup": "SOSIOLOGI",
         "orientation": "h",
         "showlegend": true,
         "textposition": "auto",
         "texttemplate": "%{x}",
         "type": "bar",
         "x": [
          586.2407407407408
         ],
         "xaxis": "x",
         "y": [
          "SOSIOLOGI"
         ],
         "yaxis": "y"
        },
        {
         "alignmentgroup": "True",
         "hovertemplate": "first_major=%{y}<br>average_score=%{x}<extra></extra>",
         "legendgroup": "PENDIDIKAN BHS & SASTRA INGGRIS",
         "marker": {
          "color": "rgb(255,217,47)",
          "pattern": {
           "shape": ""
          }
         },
         "name": "PENDIDIKAN BHS & SASTRA INGGRIS",
         "offsetgroup": "PENDIDIKAN BHS & SASTRA INGGRIS",
         "orientation": "h",
         "showlegend": true,
         "textposition": "auto",
         "texttemplate": "%{x}",
         "type": "bar",
         "x": [
          582.0056818181819
         ],
         "xaxis": "x",
         "y": [
          "PENDIDIKAN BHS & SASTRA INGGRIS"
         ],
         "yaxis": "y"
        },
        {
         "alignmentgroup": "True",
         "hovertemplate": "first_major=%{y}<br>average_score=%{x}<extra></extra>",
         "legendgroup": "ILMU PERPUSTAKAAN",
         "marker": {
          "color": "rgb(229,196,148)",
          "pattern": {
           "shape": ""
          }
         },
         "name": "ILMU PERPUSTAKAAN",
         "offsetgroup": "ILMU PERPUSTAKAAN",
         "orientation": "h",
         "showlegend": true,
         "textposition": "auto",
         "texttemplate": "%{x}",
         "type": "bar",
         "x": [
          581.2321428571429
         ],
         "xaxis": "x",
         "y": [
          "ILMU PERPUSTAKAAN"
         ],
         "yaxis": "y"
        },
        {
         "alignmentgroup": "True",
         "hovertemplate": "first_major=%{y}<br>average_score=%{x}<extra></extra>",
         "legendgroup": "SASTRA CINA",
         "marker": {
          "color": "rgb(179,179,179)",
          "pattern": {
           "shape": ""
          }
         },
         "name": "SASTRA CINA",
         "offsetgroup": "SASTRA CINA",
         "orientation": "h",
         "showlegend": true,
         "textposition": "auto",
         "texttemplate": "%{x}",
         "type": "bar",
         "x": [
          579.8645833333334
         ],
         "xaxis": "x",
         "y": [
          "SASTRA CINA"
         ],
         "yaxis": "y"
        },
        {
         "alignmentgroup": "True",
         "hovertemplate": "first_major=%{y}<br>average_score=%{x}<extra></extra>",
         "legendgroup": "ADMINISTRASI PENDIDIKAN",
         "marker": {
          "color": "rgb(102,194,165)",
          "pattern": {
           "shape": ""
          }
         },
         "name": "ADMINISTRASI PENDIDIKAN",
         "offsetgroup": "ADMINISTRASI PENDIDIKAN",
         "orientation": "h",
         "showlegend": true,
         "textposition": "auto",
         "texttemplate": "%{x}",
         "type": "bar",
         "x": [
          578.6875
         ],
         "xaxis": "x",
         "y": [
          "ADMINISTRASI PENDIDIKAN"
         ],
         "yaxis": "y"
        },
        {
         "alignmentgroup": "True",
         "hovertemplate": "first_major=%{y}<br>average_score=%{x}<extra></extra>",
         "legendgroup": "PENDIDIKAN BHS & SASTRA JEPANG",
         "marker": {
          "color": "rgb(252,141,98)",
          "pattern": {
           "shape": ""
          }
         },
         "name": "PENDIDIKAN BHS & SASTRA JEPANG",
         "offsetgroup": "PENDIDIKAN BHS & SASTRA JEPANG",
         "orientation": "h",
         "showlegend": true,
         "textposition": "auto",
         "texttemplate": "%{x}",
         "type": "bar",
         "x": [
          568.2386363636364
         ],
         "xaxis": "x",
         "y": [
          "PENDIDIKAN BHS & SASTRA JEPANG"
         ],
         "yaxis": "y"
        },
        {
         "alignmentgroup": "True",
         "hovertemplate": "first_major=%{y}<br>average_score=%{x}<extra></extra>",
         "legendgroup": "PENDIDIKAN BHS & SASTRA INDONESIA",
         "marker": {
          "color": "rgb(141,160,203)",
          "pattern": {
           "shape": ""
          }
         },
         "name": "PENDIDIKAN BHS & SASTRA INDONESIA",
         "offsetgroup": "PENDIDIKAN BHS & SASTRA INDONESIA",
         "orientation": "h",
         "showlegend": true,
         "textposition": "auto",
         "texttemplate": "%{x}",
         "type": "bar",
         "x": [
          567.03125
         ],
         "xaxis": "x",
         "y": [
          "PENDIDIKAN BHS & SASTRA INDONESIA"
         ],
         "yaxis": "y"
        },
        {
         "alignmentgroup": "True",
         "hovertemplate": "first_major=%{y}<br>average_score=%{x}<extra></extra>",
         "legendgroup": "SENI RUPA MURNI",
         "marker": {
          "color": "rgb(231,138,195)",
          "pattern": {
           "shape": ""
          }
         },
         "name": "SENI RUPA MURNI",
         "offsetgroup": "SENI RUPA MURNI",
         "orientation": "h",
         "showlegend": true,
         "textposition": "auto",
         "texttemplate": "%{x}",
         "type": "bar",
         "x": [
          548.6944444444445
         ],
         "xaxis": "x",
         "y": [
          "SENI RUPA MURNI"
         ],
         "yaxis": "y"
        }
       ],
       "layout": {
        "bargap": 0.15,
        "bargroupgap": 0.1,
        "barmode": "relative",
        "height": 1000,
        "legend": {
         "title": {
          "text": "first_major"
         },
         "tracegroupgap": 0
        },
        "margin": {
         "t": 60
        },
        "showlegend": false,
        "template": {
         "data": {
          "bar": [
           {
            "error_x": {
             "color": "#2a3f5f"
            },
            "error_y": {
             "color": "#2a3f5f"
            },
            "marker": {
             "line": {
              "color": "#E5ECF6",
              "width": 0.5
             },
             "pattern": {
              "fillmode": "overlay",
              "size": 10,
              "solidity": 0.2
             }
            },
            "type": "bar"
           }
          ],
          "barpolar": [
           {
            "marker": {
             "line": {
              "color": "#E5ECF6",
              "width": 0.5
             },
             "pattern": {
              "fillmode": "overlay",
              "size": 10,
              "solidity": 0.2
             }
            },
            "type": "barpolar"
           }
          ],
          "carpet": [
           {
            "aaxis": {
             "endlinecolor": "#2a3f5f",
             "gridcolor": "white",
             "linecolor": "white",
             "minorgridcolor": "white",
             "startlinecolor": "#2a3f5f"
            },
            "baxis": {
             "endlinecolor": "#2a3f5f",
             "gridcolor": "white",
             "linecolor": "white",
             "minorgridcolor": "white",
             "startlinecolor": "#2a3f5f"
            },
            "type": "carpet"
           }
          ],
          "choropleth": [
           {
            "colorbar": {
             "outlinewidth": 0,
             "ticks": ""
            },
            "type": "choropleth"
           }
          ],
          "contour": [
           {
            "colorbar": {
             "outlinewidth": 0,
             "ticks": ""
            },
            "colorscale": [
             [
              0,
              "#0d0887"
             ],
             [
              0.1111111111111111,
              "#46039f"
             ],
             [
              0.2222222222222222,
              "#7201a8"
             ],
             [
              0.3333333333333333,
              "#9c179e"
             ],
             [
              0.4444444444444444,
              "#bd3786"
             ],
             [
              0.5555555555555556,
              "#d8576b"
             ],
             [
              0.6666666666666666,
              "#ed7953"
             ],
             [
              0.7777777777777778,
              "#fb9f3a"
             ],
             [
              0.8888888888888888,
              "#fdca26"
             ],
             [
              1,
              "#f0f921"
             ]
            ],
            "type": "contour"
           }
          ],
          "contourcarpet": [
           {
            "colorbar": {
             "outlinewidth": 0,
             "ticks": ""
            },
            "type": "contourcarpet"
           }
          ],
          "heatmap": [
           {
            "colorbar": {
             "outlinewidth": 0,
             "ticks": ""
            },
            "colorscale": [
             [
              0,
              "#0d0887"
             ],
             [
              0.1111111111111111,
              "#46039f"
             ],
             [
              0.2222222222222222,
              "#7201a8"
             ],
             [
              0.3333333333333333,
              "#9c179e"
             ],
             [
              0.4444444444444444,
              "#bd3786"
             ],
             [
              0.5555555555555556,
              "#d8576b"
             ],
             [
              0.6666666666666666,
              "#ed7953"
             ],
             [
              0.7777777777777778,
              "#fb9f3a"
             ],
             [
              0.8888888888888888,
              "#fdca26"
             ],
             [
              1,
              "#f0f921"
             ]
            ],
            "type": "heatmap"
           }
          ],
          "heatmapgl": [
           {
            "colorbar": {
             "outlinewidth": 0,
             "ticks": ""
            },
            "colorscale": [
             [
              0,
              "#0d0887"
             ],
             [
              0.1111111111111111,
              "#46039f"
             ],
             [
              0.2222222222222222,
              "#7201a8"
             ],
             [
              0.3333333333333333,
              "#9c179e"
             ],
             [
              0.4444444444444444,
              "#bd3786"
             ],
             [
              0.5555555555555556,
              "#d8576b"
             ],
             [
              0.6666666666666666,
              "#ed7953"
             ],
             [
              0.7777777777777778,
              "#fb9f3a"
             ],
             [
              0.8888888888888888,
              "#fdca26"
             ],
             [
              1,
              "#f0f921"
             ]
            ],
            "type": "heatmapgl"
           }
          ],
          "histogram": [
           {
            "marker": {
             "pattern": {
              "fillmode": "overlay",
              "size": 10,
              "solidity": 0.2
             }
            },
            "type": "histogram"
           }
          ],
          "histogram2d": [
           {
            "colorbar": {
             "outlinewidth": 0,
             "ticks": ""
            },
            "colorscale": [
             [
              0,
              "#0d0887"
             ],
             [
              0.1111111111111111,
              "#46039f"
             ],
             [
              0.2222222222222222,
              "#7201a8"
             ],
             [
              0.3333333333333333,
              "#9c179e"
             ],
             [
              0.4444444444444444,
              "#bd3786"
             ],
             [
              0.5555555555555556,
              "#d8576b"
             ],
             [
              0.6666666666666666,
              "#ed7953"
             ],
             [
              0.7777777777777778,
              "#fb9f3a"
             ],
             [
              0.8888888888888888,
              "#fdca26"
             ],
             [
              1,
              "#f0f921"
             ]
            ],
            "type": "histogram2d"
           }
          ],
          "histogram2dcontour": [
           {
            "colorbar": {
             "outlinewidth": 0,
             "ticks": ""
            },
            "colorscale": [
             [
              0,
              "#0d0887"
             ],
             [
              0.1111111111111111,
              "#46039f"
             ],
             [
              0.2222222222222222,
              "#7201a8"
             ],
             [
              0.3333333333333333,
              "#9c179e"
             ],
             [
              0.4444444444444444,
              "#bd3786"
             ],
             [
              0.5555555555555556,
              "#d8576b"
             ],
             [
              0.6666666666666666,
              "#ed7953"
             ],
             [
              0.7777777777777778,
              "#fb9f3a"
             ],
             [
              0.8888888888888888,
              "#fdca26"
             ],
             [
              1,
              "#f0f921"
             ]
            ],
            "type": "histogram2dcontour"
           }
          ],
          "mesh3d": [
           {
            "colorbar": {
             "outlinewidth": 0,
             "ticks": ""
            },
            "type": "mesh3d"
           }
          ],
          "parcoords": [
           {
            "line": {
             "colorbar": {
              "outlinewidth": 0,
              "ticks": ""
             }
            },
            "type": "parcoords"
           }
          ],
          "pie": [
           {
            "automargin": true,
            "type": "pie"
           }
          ],
          "scatter": [
           {
            "marker": {
             "colorbar": {
              "outlinewidth": 0,
              "ticks": ""
             }
            },
            "type": "scatter"
           }
          ],
          "scatter3d": [
           {
            "line": {
             "colorbar": {
              "outlinewidth": 0,
              "ticks": ""
             }
            },
            "marker": {
             "colorbar": {
              "outlinewidth": 0,
              "ticks": ""
             }
            },
            "type": "scatter3d"
           }
          ],
          "scattercarpet": [
           {
            "marker": {
             "colorbar": {
              "outlinewidth": 0,
              "ticks": ""
             }
            },
            "type": "scattercarpet"
           }
          ],
          "scattergeo": [
           {
            "marker": {
             "colorbar": {
              "outlinewidth": 0,
              "ticks": ""
             }
            },
            "type": "scattergeo"
           }
          ],
          "scattergl": [
           {
            "marker": {
             "colorbar": {
              "outlinewidth": 0,
              "ticks": ""
             }
            },
            "type": "scattergl"
           }
          ],
          "scattermapbox": [
           {
            "marker": {
             "colorbar": {
              "outlinewidth": 0,
              "ticks": ""
             }
            },
            "type": "scattermapbox"
           }
          ],
          "scatterpolar": [
           {
            "marker": {
             "colorbar": {
              "outlinewidth": 0,
              "ticks": ""
             }
            },
            "type": "scatterpolar"
           }
          ],
          "scatterpolargl": [
           {
            "marker": {
             "colorbar": {
              "outlinewidth": 0,
              "ticks": ""
             }
            },
            "type": "scatterpolargl"
           }
          ],
          "scatterternary": [
           {
            "marker": {
             "colorbar": {
              "outlinewidth": 0,
              "ticks": ""
             }
            },
            "type": "scatterternary"
           }
          ],
          "surface": [
           {
            "colorbar": {
             "outlinewidth": 0,
             "ticks": ""
            },
            "colorscale": [
             [
              0,
              "#0d0887"
             ],
             [
              0.1111111111111111,
              "#46039f"
             ],
             [
              0.2222222222222222,
              "#7201a8"
             ],
             [
              0.3333333333333333,
              "#9c179e"
             ],
             [
              0.4444444444444444,
              "#bd3786"
             ],
             [
              0.5555555555555556,
              "#d8576b"
             ],
             [
              0.6666666666666666,
              "#ed7953"
             ],
             [
              0.7777777777777778,
              "#fb9f3a"
             ],
             [
              0.8888888888888888,
              "#fdca26"
             ],
             [
              1,
              "#f0f921"
             ]
            ],
            "type": "surface"
           }
          ],
          "table": [
           {
            "cells": {
             "fill": {
              "color": "#EBF0F8"
             },
             "line": {
              "color": "white"
             }
            },
            "header": {
             "fill": {
              "color": "#C8D4E3"
             },
             "line": {
              "color": "white"
             }
            },
            "type": "table"
           }
          ]
         },
         "layout": {
          "annotationdefaults": {
           "arrowcolor": "#2a3f5f",
           "arrowhead": 0,
           "arrowwidth": 1
          },
          "autotypenumbers": "strict",
          "coloraxis": {
           "colorbar": {
            "outlinewidth": 0,
            "ticks": ""
           }
          },
          "colorscale": {
           "diverging": [
            [
             0,
             "#8e0152"
            ],
            [
             0.1,
             "#c51b7d"
            ],
            [
             0.2,
             "#de77ae"
            ],
            [
             0.3,
             "#f1b6da"
            ],
            [
             0.4,
             "#fde0ef"
            ],
            [
             0.5,
             "#f7f7f7"
            ],
            [
             0.6,
             "#e6f5d0"
            ],
            [
             0.7,
             "#b8e186"
            ],
            [
             0.8,
             "#7fbc41"
            ],
            [
             0.9,
             "#4d9221"
            ],
            [
             1,
             "#276419"
            ]
           ],
           "sequential": [
            [
             0,
             "#0d0887"
            ],
            [
             0.1111111111111111,
             "#46039f"
            ],
            [
             0.2222222222222222,
             "#7201a8"
            ],
            [
             0.3333333333333333,
             "#9c179e"
            ],
            [
             0.4444444444444444,
             "#bd3786"
            ],
            [
             0.5555555555555556,
             "#d8576b"
            ],
            [
             0.6666666666666666,
             "#ed7953"
            ],
            [
             0.7777777777777778,
             "#fb9f3a"
            ],
            [
             0.8888888888888888,
             "#fdca26"
            ],
            [
             1,
             "#f0f921"
            ]
           ],
           "sequentialminus": [
            [
             0,
             "#0d0887"
            ],
            [
             0.1111111111111111,
             "#46039f"
            ],
            [
             0.2222222222222222,
             "#7201a8"
            ],
            [
             0.3333333333333333,
             "#9c179e"
            ],
            [
             0.4444444444444444,
             "#bd3786"
            ],
            [
             0.5555555555555556,
             "#d8576b"
            ],
            [
             0.6666666666666666,
             "#ed7953"
            ],
            [
             0.7777777777777778,
             "#fb9f3a"
            ],
            [
             0.8888888888888888,
             "#fdca26"
            ],
            [
             1,
             "#f0f921"
            ]
           ]
          },
          "colorway": [
           "#636efa",
           "#EF553B",
           "#00cc96",
           "#ab63fa",
           "#FFA15A",
           "#19d3f3",
           "#FF6692",
           "#B6E880",
           "#FF97FF",
           "#FECB52"
          ],
          "font": {
           "color": "#2a3f5f"
          },
          "geo": {
           "bgcolor": "white",
           "lakecolor": "white",
           "landcolor": "#E5ECF6",
           "showlakes": true,
           "showland": true,
           "subunitcolor": "white"
          },
          "hoverlabel": {
           "align": "left"
          },
          "hovermode": "closest",
          "mapbox": {
           "style": "light"
          },
          "paper_bgcolor": "white",
          "plot_bgcolor": "#E5ECF6",
          "polar": {
           "angularaxis": {
            "gridcolor": "white",
            "linecolor": "white",
            "ticks": ""
           },
           "bgcolor": "#E5ECF6",
           "radialaxis": {
            "gridcolor": "white",
            "linecolor": "white",
            "ticks": ""
           }
          },
          "scene": {
           "xaxis": {
            "backgroundcolor": "#E5ECF6",
            "gridcolor": "white",
            "gridwidth": 2,
            "linecolor": "white",
            "showbackground": true,
            "ticks": "",
            "zerolinecolor": "white"
           },
           "yaxis": {
            "backgroundcolor": "#E5ECF6",
            "gridcolor": "white",
            "gridwidth": 2,
            "linecolor": "white",
            "showbackground": true,
            "ticks": "",
            "zerolinecolor": "white"
           },
           "zaxis": {
            "backgroundcolor": "#E5ECF6",
            "gridcolor": "white",
            "gridwidth": 2,
            "linecolor": "white",
            "showbackground": true,
            "ticks": "",
            "zerolinecolor": "white"
           }
          },
          "shapedefaults": {
           "line": {
            "color": "#2a3f5f"
           }
          },
          "ternary": {
           "aaxis": {
            "gridcolor": "white",
            "linecolor": "white",
            "ticks": ""
           },
           "baxis": {
            "gridcolor": "white",
            "linecolor": "white",
            "ticks": ""
           },
           "bgcolor": "#E5ECF6",
           "caxis": {
            "gridcolor": "white",
            "linecolor": "white",
            "ticks": ""
           }
          },
          "title": {
           "x": 0.05
          },
          "xaxis": {
           "automargin": true,
           "gridcolor": "white",
           "linecolor": "white",
           "ticks": "",
           "title": {
            "standoff": 15
           },
           "zerolinecolor": "white",
           "zerolinewidth": 2
          },
          "yaxis": {
           "automargin": true,
           "gridcolor": "white",
           "linecolor": "white",
           "ticks": "",
           "title": {
            "standoff": 15
           },
           "zerolinecolor": "white",
           "zerolinewidth": 2
          }
         }
        },
        "title": {
         "text": "Avg Score in Humanities Majors UB 2019"
        },
        "width": 1000,
        "xaxis": {
         "anchor": "y",
         "domain": [
          0,
          1
         ],
         "title": {
          "text": "Avg Score"
         }
        },
        "yaxis": {
         "anchor": "x",
         "categoryarray": [
          "SENI RUPA MURNI",
          "PENDIDIKAN BHS & SASTRA INDONESIA",
          "PENDIDIKAN BHS & SASTRA JEPANG",
          "ADMINISTRASI PENDIDIKAN",
          "SASTRA CINA",
          "ILMU PERPUSTAKAAN",
          "PENDIDIKAN BHS & SASTRA INGGRIS",
          "SOSIOLOGI",
          "BAHASA DAN SASTRA PERANCIS",
          "ANTROPOLOGI SOSIAL",
          "PARIWISATA",
          "ILMU PEMERINTAHAN",
          "KEWIRAUSAHAAN",
          "ILMU POLITIK",
          "ILMU ADMINISTRASI PUBLIK",
          "SASTRA INGGRIS",
          "SASTRA JEPANG",
          "EKONOMI ISLAM",
          "ILMU HUKUM",
          "ILMU ADMINISTRASI BISNIS",
          "EKONOMI, KEUANGAN DAN PERBANKAN",
          "EKONOMI PEMBANGUNAN",
          "ILMU KOMUNIKASI",
          "ADMINISTRASI PERPAJAKAN",
          "HUBUNGAN INTERNASIONAL",
          "PSIKOLOGI",
          "MANAJEMEN",
          "AKUNTANSI"
         ],
         "categoryorder": "array",
         "domain": [
          0,
          1
         ],
         "title": {
          "text": "Majors"
         }
        }
       }
      }
     },
     "metadata": {},
     "output_type": "display_data"
    }
   ],
   "source": [
    "fig = px.bar(data_frame=df_univ_brawSc_clear.groupby('first_major').mean().reset_index().sort_values('average_score',ascending=False),x='average_score',y='first_major',color='first_major',height=1200,width=1200,text_auto=True,color_discrete_sequence=px.colors.qualitative.Set3)\n",
    "fig.update_layout(showlegend=False,title='Avg Score in Science Majors UB 2019',xaxis_title='Avg Score',yaxis_title='Majors',bargap=0.15,\n",
    "bargroupgap=0.1)\n",
    "fig.update_traces(textfont_size=16, textangle=0, textposition=\"inside\", cliponaxis=True)\n",
    "fig.show()\n",
    "\n",
    "fig = px.bar(data_frame=df_univ_brawHm_clear.groupby('first_major').mean().reset_index().sort_values('average_score',ascending=False),x='average_score',y='first_major',color='first_major',height=1000,width=1000,text_auto=True,color_discrete_sequence=px.colors.qualitative.Set2)\n",
    "fig.update_layout(showlegend=False,title='Avg Score in Humanities Majors UB 2019',xaxis_title='Avg Score',yaxis_title='Majors',bargap=0.15,\n",
    "bargroupgap=0.1)\n",
    "# fig.update_traces(textfont_size=16, textangle=0, textposition=\"outside\", cliponaxis=False)\n",
    "fig.show()"
   ]
  },
  {
   "cell_type": "markdown",
   "metadata": {},
   "source": [
    "![Avg Score in Science Majors UB 2019](/photos/Avg%20Score%20in%20Science%20Majors%20UB%202019.png)"
   ]
  },
  {
   "cell_type": "markdown",
   "metadata": {},
   "source": [
    "![Avg Score in Humanities Majors UB 2019](photos/Avg%20Score%20in%20Humanities%20Majors%20UB%202019.png)"
   ]
  },
  {
   "cell_type": "markdown",
   "metadata": {},
   "source": [
    "![Avg Score in Science Majors UB 2019](/photos/Avg%20Score%20in%20Science%20Majors%20UB%202019.png)"
   ]
  },
  {
   "cell_type": "code",
   "execution_count": 71,
   "metadata": {},
   "outputs": [
    {
     "data": {
      "application/vnd.plotly.v1+json": {
       "config": {
        "plotlyServerURL": "https://plot.ly"
       },
       "data": [
        {
         "alignmentgroup": "True",
         "cliponaxis": true,
         "hovertemplate": "variable=average_score<br>value=%{x}<br>first_major=%{y}<extra></extra>",
         "legendgroup": "average_score",
         "marker": {
          "color": "#636efa",
          "pattern": {
           "shape": ""
          }
         },
         "name": "average_score",
         "offsetgroup": "average_score",
         "orientation": "h",
         "showlegend": true,
         "textangle": 0,
         "textfont": {
          "size": 11
         },
         "textposition": "outside",
         "texttemplate": "%{x}",
         "type": "bar",
         "x": [
          696.759375,
          674.296875,
          650.5822368421053,
          642.671875,
          642.4868421052631
         ],
         "xaxis": "x",
         "y": [
          "PENDIDIKAN DOKTER",
          "PENDIDIKAN DOKTER GIGI",
          "TEKNIK INFORMATIKA",
          "TEKNIK INDUSTRI",
          "GIZI KESEHATAN / ILMU GIZI"
         ],
         "yaxis": "y"
        },
        {
         "alignmentgroup": "True",
         "cliponaxis": true,
         "hovertemplate": "variable=specialized_score<br>value=%{x}<br>first_major=%{y}<extra></extra>",
         "legendgroup": "specialized_score",
         "marker": {
          "color": "#EF553B",
          "pattern": {
           "shape": ""
          }
         },
         "name": "specialized_score",
         "offsetgroup": "specialized_score",
         "orientation": "h",
         "showlegend": true,
         "textangle": 0,
         "textfont": {
          "size": 11
         },
         "textposition": "outside",
         "texttemplate": "%{x}",
         "type": "bar",
         "x": [
          711.20625,
          677.71875,
          633.25,
          636.3203125,
          635.8947368421053
         ],
         "xaxis": "x",
         "y": [
          "PENDIDIKAN DOKTER",
          "PENDIDIKAN DOKTER GIGI",
          "TEKNIK INFORMATIKA",
          "TEKNIK INDUSTRI",
          "GIZI KESEHATAN / ILMU GIZI"
         ],
         "yaxis": "y"
        },
        {
         "alignmentgroup": "True",
         "cliponaxis": true,
         "hovertemplate": "variable=general_score<br>value=%{x}<br>first_major=%{y}<extra></extra>",
         "legendgroup": "general_score",
         "marker": {
          "color": "#00cc96",
          "pattern": {
           "shape": ""
          }
         },
         "name": "general_score",
         "offsetgroup": "general_score",
         "orientation": "h",
         "showlegend": true,
         "textangle": 0,
         "textfont": {
          "size": 11
         },
         "textposition": "outside",
         "texttemplate": "%{x}",
         "type": "bar",
         "x": [
          682.3125,
          670.875,
          667.9144736842105,
          649.0234375,
          649.078947368421
         ],
         "xaxis": "x",
         "y": [
          "PENDIDIKAN DOKTER",
          "PENDIDIKAN DOKTER GIGI",
          "TEKNIK INFORMATIKA",
          "TEKNIK INDUSTRI",
          "GIZI KESEHATAN / ILMU GIZI"
         ],
         "yaxis": "y"
        }
       ],
       "layout": {
        "bargap": 0.15,
        "bargroupgap": 0.1,
        "barmode": "group",
        "height": 500,
        "legend": {
         "title": {
          "text": "variable"
         },
         "tracegroupgap": 0
        },
        "margin": {
         "t": 60
        },
        "showlegend": true,
        "template": {
         "data": {
          "bar": [
           {
            "error_x": {
             "color": "#2a3f5f"
            },
            "error_y": {
             "color": "#2a3f5f"
            },
            "marker": {
             "line": {
              "color": "#E5ECF6",
              "width": 0.5
             },
             "pattern": {
              "fillmode": "overlay",
              "size": 10,
              "solidity": 0.2
             }
            },
            "type": "bar"
           }
          ],
          "barpolar": [
           {
            "marker": {
             "line": {
              "color": "#E5ECF6",
              "width": 0.5
             },
             "pattern": {
              "fillmode": "overlay",
              "size": 10,
              "solidity": 0.2
             }
            },
            "type": "barpolar"
           }
          ],
          "carpet": [
           {
            "aaxis": {
             "endlinecolor": "#2a3f5f",
             "gridcolor": "white",
             "linecolor": "white",
             "minorgridcolor": "white",
             "startlinecolor": "#2a3f5f"
            },
            "baxis": {
             "endlinecolor": "#2a3f5f",
             "gridcolor": "white",
             "linecolor": "white",
             "minorgridcolor": "white",
             "startlinecolor": "#2a3f5f"
            },
            "type": "carpet"
           }
          ],
          "choropleth": [
           {
            "colorbar": {
             "outlinewidth": 0,
             "ticks": ""
            },
            "type": "choropleth"
           }
          ],
          "contour": [
           {
            "colorbar": {
             "outlinewidth": 0,
             "ticks": ""
            },
            "colorscale": [
             [
              0,
              "#0d0887"
             ],
             [
              0.1111111111111111,
              "#46039f"
             ],
             [
              0.2222222222222222,
              "#7201a8"
             ],
             [
              0.3333333333333333,
              "#9c179e"
             ],
             [
              0.4444444444444444,
              "#bd3786"
             ],
             [
              0.5555555555555556,
              "#d8576b"
             ],
             [
              0.6666666666666666,
              "#ed7953"
             ],
             [
              0.7777777777777778,
              "#fb9f3a"
             ],
             [
              0.8888888888888888,
              "#fdca26"
             ],
             [
              1,
              "#f0f921"
             ]
            ],
            "type": "contour"
           }
          ],
          "contourcarpet": [
           {
            "colorbar": {
             "outlinewidth": 0,
             "ticks": ""
            },
            "type": "contourcarpet"
           }
          ],
          "heatmap": [
           {
            "colorbar": {
             "outlinewidth": 0,
             "ticks": ""
            },
            "colorscale": [
             [
              0,
              "#0d0887"
             ],
             [
              0.1111111111111111,
              "#46039f"
             ],
             [
              0.2222222222222222,
              "#7201a8"
             ],
             [
              0.3333333333333333,
              "#9c179e"
             ],
             [
              0.4444444444444444,
              "#bd3786"
             ],
             [
              0.5555555555555556,
              "#d8576b"
             ],
             [
              0.6666666666666666,
              "#ed7953"
             ],
             [
              0.7777777777777778,
              "#fb9f3a"
             ],
             [
              0.8888888888888888,
              "#fdca26"
             ],
             [
              1,
              "#f0f921"
             ]
            ],
            "type": "heatmap"
           }
          ],
          "heatmapgl": [
           {
            "colorbar": {
             "outlinewidth": 0,
             "ticks": ""
            },
            "colorscale": [
             [
              0,
              "#0d0887"
             ],
             [
              0.1111111111111111,
              "#46039f"
             ],
             [
              0.2222222222222222,
              "#7201a8"
             ],
             [
              0.3333333333333333,
              "#9c179e"
             ],
             [
              0.4444444444444444,
              "#bd3786"
             ],
             [
              0.5555555555555556,
              "#d8576b"
             ],
             [
              0.6666666666666666,
              "#ed7953"
             ],
             [
              0.7777777777777778,
              "#fb9f3a"
             ],
             [
              0.8888888888888888,
              "#fdca26"
             ],
             [
              1,
              "#f0f921"
             ]
            ],
            "type": "heatmapgl"
           }
          ],
          "histogram": [
           {
            "marker": {
             "pattern": {
              "fillmode": "overlay",
              "size": 10,
              "solidity": 0.2
             }
            },
            "type": "histogram"
           }
          ],
          "histogram2d": [
           {
            "colorbar": {
             "outlinewidth": 0,
             "ticks": ""
            },
            "colorscale": [
             [
              0,
              "#0d0887"
             ],
             [
              0.1111111111111111,
              "#46039f"
             ],
             [
              0.2222222222222222,
              "#7201a8"
             ],
             [
              0.3333333333333333,
              "#9c179e"
             ],
             [
              0.4444444444444444,
              "#bd3786"
             ],
             [
              0.5555555555555556,
              "#d8576b"
             ],
             [
              0.6666666666666666,
              "#ed7953"
             ],
             [
              0.7777777777777778,
              "#fb9f3a"
             ],
             [
              0.8888888888888888,
              "#fdca26"
             ],
             [
              1,
              "#f0f921"
             ]
            ],
            "type": "histogram2d"
           }
          ],
          "histogram2dcontour": [
           {
            "colorbar": {
             "outlinewidth": 0,
             "ticks": ""
            },
            "colorscale": [
             [
              0,
              "#0d0887"
             ],
             [
              0.1111111111111111,
              "#46039f"
             ],
             [
              0.2222222222222222,
              "#7201a8"
             ],
             [
              0.3333333333333333,
              "#9c179e"
             ],
             [
              0.4444444444444444,
              "#bd3786"
             ],
             [
              0.5555555555555556,
              "#d8576b"
             ],
             [
              0.6666666666666666,
              "#ed7953"
             ],
             [
              0.7777777777777778,
              "#fb9f3a"
             ],
             [
              0.8888888888888888,
              "#fdca26"
             ],
             [
              1,
              "#f0f921"
             ]
            ],
            "type": "histogram2dcontour"
           }
          ],
          "mesh3d": [
           {
            "colorbar": {
             "outlinewidth": 0,
             "ticks": ""
            },
            "type": "mesh3d"
           }
          ],
          "parcoords": [
           {
            "line": {
             "colorbar": {
              "outlinewidth": 0,
              "ticks": ""
             }
            },
            "type": "parcoords"
           }
          ],
          "pie": [
           {
            "automargin": true,
            "type": "pie"
           }
          ],
          "scatter": [
           {
            "marker": {
             "colorbar": {
              "outlinewidth": 0,
              "ticks": ""
             }
            },
            "type": "scatter"
           }
          ],
          "scatter3d": [
           {
            "line": {
             "colorbar": {
              "outlinewidth": 0,
              "ticks": ""
             }
            },
            "marker": {
             "colorbar": {
              "outlinewidth": 0,
              "ticks": ""
             }
            },
            "type": "scatter3d"
           }
          ],
          "scattercarpet": [
           {
            "marker": {
             "colorbar": {
              "outlinewidth": 0,
              "ticks": ""
             }
            },
            "type": "scattercarpet"
           }
          ],
          "scattergeo": [
           {
            "marker": {
             "colorbar": {
              "outlinewidth": 0,
              "ticks": ""
             }
            },
            "type": "scattergeo"
           }
          ],
          "scattergl": [
           {
            "marker": {
             "colorbar": {
              "outlinewidth": 0,
              "ticks": ""
             }
            },
            "type": "scattergl"
           }
          ],
          "scattermapbox": [
           {
            "marker": {
             "colorbar": {
              "outlinewidth": 0,
              "ticks": ""
             }
            },
            "type": "scattermapbox"
           }
          ],
          "scatterpolar": [
           {
            "marker": {
             "colorbar": {
              "outlinewidth": 0,
              "ticks": ""
             }
            },
            "type": "scatterpolar"
           }
          ],
          "scatterpolargl": [
           {
            "marker": {
             "colorbar": {
              "outlinewidth": 0,
              "ticks": ""
             }
            },
            "type": "scatterpolargl"
           }
          ],
          "scatterternary": [
           {
            "marker": {
             "colorbar": {
              "outlinewidth": 0,
              "ticks": ""
             }
            },
            "type": "scatterternary"
           }
          ],
          "surface": [
           {
            "colorbar": {
             "outlinewidth": 0,
             "ticks": ""
            },
            "colorscale": [
             [
              0,
              "#0d0887"
             ],
             [
              0.1111111111111111,
              "#46039f"
             ],
             [
              0.2222222222222222,
              "#7201a8"
             ],
             [
              0.3333333333333333,
              "#9c179e"
             ],
             [
              0.4444444444444444,
              "#bd3786"
             ],
             [
              0.5555555555555556,
              "#d8576b"
             ],
             [
              0.6666666666666666,
              "#ed7953"
             ],
             [
              0.7777777777777778,
              "#fb9f3a"
             ],
             [
              0.8888888888888888,
              "#fdca26"
             ],
             [
              1,
              "#f0f921"
             ]
            ],
            "type": "surface"
           }
          ],
          "table": [
           {
            "cells": {
             "fill": {
              "color": "#EBF0F8"
             },
             "line": {
              "color": "white"
             }
            },
            "header": {
             "fill": {
              "color": "#C8D4E3"
             },
             "line": {
              "color": "white"
             }
            },
            "type": "table"
           }
          ]
         },
         "layout": {
          "annotationdefaults": {
           "arrowcolor": "#2a3f5f",
           "arrowhead": 0,
           "arrowwidth": 1
          },
          "autotypenumbers": "strict",
          "coloraxis": {
           "colorbar": {
            "outlinewidth": 0,
            "ticks": ""
           }
          },
          "colorscale": {
           "diverging": [
            [
             0,
             "#8e0152"
            ],
            [
             0.1,
             "#c51b7d"
            ],
            [
             0.2,
             "#de77ae"
            ],
            [
             0.3,
             "#f1b6da"
            ],
            [
             0.4,
             "#fde0ef"
            ],
            [
             0.5,
             "#f7f7f7"
            ],
            [
             0.6,
             "#e6f5d0"
            ],
            [
             0.7,
             "#b8e186"
            ],
            [
             0.8,
             "#7fbc41"
            ],
            [
             0.9,
             "#4d9221"
            ],
            [
             1,
             "#276419"
            ]
           ],
           "sequential": [
            [
             0,
             "#0d0887"
            ],
            [
             0.1111111111111111,
             "#46039f"
            ],
            [
             0.2222222222222222,
             "#7201a8"
            ],
            [
             0.3333333333333333,
             "#9c179e"
            ],
            [
             0.4444444444444444,
             "#bd3786"
            ],
            [
             0.5555555555555556,
             "#d8576b"
            ],
            [
             0.6666666666666666,
             "#ed7953"
            ],
            [
             0.7777777777777778,
             "#fb9f3a"
            ],
            [
             0.8888888888888888,
             "#fdca26"
            ],
            [
             1,
             "#f0f921"
            ]
           ],
           "sequentialminus": [
            [
             0,
             "#0d0887"
            ],
            [
             0.1111111111111111,
             "#46039f"
            ],
            [
             0.2222222222222222,
             "#7201a8"
            ],
            [
             0.3333333333333333,
             "#9c179e"
            ],
            [
             0.4444444444444444,
             "#bd3786"
            ],
            [
             0.5555555555555556,
             "#d8576b"
            ],
            [
             0.6666666666666666,
             "#ed7953"
            ],
            [
             0.7777777777777778,
             "#fb9f3a"
            ],
            [
             0.8888888888888888,
             "#fdca26"
            ],
            [
             1,
             "#f0f921"
            ]
           ]
          },
          "colorway": [
           "#636efa",
           "#EF553B",
           "#00cc96",
           "#ab63fa",
           "#FFA15A",
           "#19d3f3",
           "#FF6692",
           "#B6E880",
           "#FF97FF",
           "#FECB52"
          ],
          "font": {
           "color": "#2a3f5f"
          },
          "geo": {
           "bgcolor": "white",
           "lakecolor": "white",
           "landcolor": "#E5ECF6",
           "showlakes": true,
           "showland": true,
           "subunitcolor": "white"
          },
          "hoverlabel": {
           "align": "left"
          },
          "hovermode": "closest",
          "mapbox": {
           "style": "light"
          },
          "paper_bgcolor": "white",
          "plot_bgcolor": "#E5ECF6",
          "polar": {
           "angularaxis": {
            "gridcolor": "white",
            "linecolor": "white",
            "ticks": ""
           },
           "bgcolor": "#E5ECF6",
           "radialaxis": {
            "gridcolor": "white",
            "linecolor": "white",
            "ticks": ""
           }
          },
          "scene": {
           "xaxis": {
            "backgroundcolor": "#E5ECF6",
            "gridcolor": "white",
            "gridwidth": 2,
            "linecolor": "white",
            "showbackground": true,
            "ticks": "",
            "zerolinecolor": "white"
           },
           "yaxis": {
            "backgroundcolor": "#E5ECF6",
            "gridcolor": "white",
            "gridwidth": 2,
            "linecolor": "white",
            "showbackground": true,
            "ticks": "",
            "zerolinecolor": "white"
           },
           "zaxis": {
            "backgroundcolor": "#E5ECF6",
            "gridcolor": "white",
            "gridwidth": 2,
            "linecolor": "white",
            "showbackground": true,
            "ticks": "",
            "zerolinecolor": "white"
           }
          },
          "shapedefaults": {
           "line": {
            "color": "#2a3f5f"
           }
          },
          "ternary": {
           "aaxis": {
            "gridcolor": "white",
            "linecolor": "white",
            "ticks": ""
           },
           "baxis": {
            "gridcolor": "white",
            "linecolor": "white",
            "ticks": ""
           },
           "bgcolor": "#E5ECF6",
           "caxis": {
            "gridcolor": "white",
            "linecolor": "white",
            "ticks": ""
           }
          },
          "title": {
           "x": 0.05
          },
          "xaxis": {
           "automargin": true,
           "gridcolor": "white",
           "linecolor": "white",
           "ticks": "",
           "title": {
            "standoff": 15
           },
           "zerolinecolor": "white",
           "zerolinewidth": 2
          },
          "yaxis": {
           "automargin": true,
           "gridcolor": "white",
           "linecolor": "white",
           "ticks": "",
           "title": {
            "standoff": 15
           },
           "zerolinecolor": "white",
           "zerolinewidth": 2
          }
         }
        },
        "title": {
         "text": "Top 5 Avg Score Science Majors 2019"
        },
        "xaxis": {
         "anchor": "y",
         "domain": [
          0,
          1
         ],
         "tickangle": 0,
         "tickfont": {
          "color": "red",
          "family": "Rockwell",
          "size": 12
         },
         "title": {
          "text": "Avg Scores"
         }
        },
        "yaxis": {
         "anchor": "x",
         "categoryorder": "total ascending",
         "domain": [
          0,
          1
         ],
         "tickangle": 0,
         "tickfont": {
          "color": "black",
          "family": "Rockwell",
          "size": 12
         },
         "title": {
          "text": "Majors"
         }
        }
       }
      }
     },
     "metadata": {},
     "output_type": "display_data"
    },
    {
     "data": {
      "application/vnd.plotly.v1+json": {
       "config": {
        "plotlyServerURL": "https://plot.ly"
       },
       "data": [
        {
         "alignmentgroup": "True",
         "cliponaxis": true,
         "hovertemplate": "variable=average_score<br>value=%{x}<br>first_major=%{y}<extra></extra>",
         "legendgroup": "average_score",
         "marker": {
          "color": "#636efa",
          "pattern": {
           "shape": ""
          }
         },
         "name": "average_score",
         "offsetgroup": "average_score",
         "orientation": "h",
         "showlegend": true,
         "textangle": 0,
         "textfont": {
          "size": 11
         },
         "textposition": "outside",
         "texttemplate": "%{x}",
         "type": "bar",
         "x": [
          641.5198863636364,
          638.4005681818181,
          632.0285714285715,
          631.9907407407408,
          629.045
         ],
         "xaxis": "x",
         "y": [
          "AKUNTANSI",
          "MANAJEMEN",
          "PSIKOLOGI",
          "HUBUNGAN INTERNASIONAL",
          "ADMINISTRASI PERPAJAKAN"
         ],
         "yaxis": "y"
        },
        {
         "alignmentgroup": "True",
         "cliponaxis": true,
         "hovertemplate": "variable=specialized_score<br>value=%{x}<br>first_major=%{y}<extra></extra>",
         "legendgroup": "specialized_score",
         "marker": {
          "color": "#EF553B",
          "pattern": {
           "shape": ""
          }
         },
         "name": "specialized_score",
         "offsetgroup": "specialized_score",
         "orientation": "h",
         "showlegend": true,
         "textangle": 0,
         "textfont": {
          "size": 11
         },
         "textposition": "outside",
         "texttemplate": "%{x}",
         "type": "bar",
         "x": [
          642.2840909090909,
          639.1534090909091,
          631.3428571428572,
          641.3703703703703,
          617.13
         ],
         "xaxis": "x",
         "y": [
          "AKUNTANSI",
          "MANAJEMEN",
          "PSIKOLOGI",
          "HUBUNGAN INTERNASIONAL",
          "ADMINISTRASI PERPAJAKAN"
         ],
         "yaxis": "y"
        },
        {
         "alignmentgroup": "True",
         "cliponaxis": true,
         "hovertemplate": "variable=general_score<br>value=%{x}<br>first_major=%{y}<extra></extra>",
         "legendgroup": "general_score",
         "marker": {
          "color": "#00cc96",
          "pattern": {
           "shape": ""
          }
         },
         "name": "general_score",
         "offsetgroup": "general_score",
         "orientation": "h",
         "showlegend": true,
         "textangle": 0,
         "textfont": {
          "size": 11
         },
         "textposition": "outside",
         "texttemplate": "%{x}",
         "type": "bar",
         "x": [
          637.8681818181818,
          633.1409090909091,
          624.5942857142857,
          622.6888888888889,
          632.184
         ],
         "xaxis": "x",
         "y": [
          "AKUNTANSI",
          "MANAJEMEN",
          "PSIKOLOGI",
          "HUBUNGAN INTERNASIONAL",
          "ADMINISTRASI PERPAJAKAN"
         ],
         "yaxis": "y"
        }
       ],
       "layout": {
        "bargap": 0.15,
        "bargroupgap": 0.1,
        "barmode": "group",
        "height": 500,
        "legend": {
         "title": {
          "text": "variable"
         },
         "tracegroupgap": 0
        },
        "margin": {
         "t": 60
        },
        "showlegend": true,
        "template": {
         "data": {
          "bar": [
           {
            "error_x": {
             "color": "#2a3f5f"
            },
            "error_y": {
             "color": "#2a3f5f"
            },
            "marker": {
             "line": {
              "color": "#E5ECF6",
              "width": 0.5
             },
             "pattern": {
              "fillmode": "overlay",
              "size": 10,
              "solidity": 0.2
             }
            },
            "type": "bar"
           }
          ],
          "barpolar": [
           {
            "marker": {
             "line": {
              "color": "#E5ECF6",
              "width": 0.5
             },
             "pattern": {
              "fillmode": "overlay",
              "size": 10,
              "solidity": 0.2
             }
            },
            "type": "barpolar"
           }
          ],
          "carpet": [
           {
            "aaxis": {
             "endlinecolor": "#2a3f5f",
             "gridcolor": "white",
             "linecolor": "white",
             "minorgridcolor": "white",
             "startlinecolor": "#2a3f5f"
            },
            "baxis": {
             "endlinecolor": "#2a3f5f",
             "gridcolor": "white",
             "linecolor": "white",
             "minorgridcolor": "white",
             "startlinecolor": "#2a3f5f"
            },
            "type": "carpet"
           }
          ],
          "choropleth": [
           {
            "colorbar": {
             "outlinewidth": 0,
             "ticks": ""
            },
            "type": "choropleth"
           }
          ],
          "contour": [
           {
            "colorbar": {
             "outlinewidth": 0,
             "ticks": ""
            },
            "colorscale": [
             [
              0,
              "#0d0887"
             ],
             [
              0.1111111111111111,
              "#46039f"
             ],
             [
              0.2222222222222222,
              "#7201a8"
             ],
             [
              0.3333333333333333,
              "#9c179e"
             ],
             [
              0.4444444444444444,
              "#bd3786"
             ],
             [
              0.5555555555555556,
              "#d8576b"
             ],
             [
              0.6666666666666666,
              "#ed7953"
             ],
             [
              0.7777777777777778,
              "#fb9f3a"
             ],
             [
              0.8888888888888888,
              "#fdca26"
             ],
             [
              1,
              "#f0f921"
             ]
            ],
            "type": "contour"
           }
          ],
          "contourcarpet": [
           {
            "colorbar": {
             "outlinewidth": 0,
             "ticks": ""
            },
            "type": "contourcarpet"
           }
          ],
          "heatmap": [
           {
            "colorbar": {
             "outlinewidth": 0,
             "ticks": ""
            },
            "colorscale": [
             [
              0,
              "#0d0887"
             ],
             [
              0.1111111111111111,
              "#46039f"
             ],
             [
              0.2222222222222222,
              "#7201a8"
             ],
             [
              0.3333333333333333,
              "#9c179e"
             ],
             [
              0.4444444444444444,
              "#bd3786"
             ],
             [
              0.5555555555555556,
              "#d8576b"
             ],
             [
              0.6666666666666666,
              "#ed7953"
             ],
             [
              0.7777777777777778,
              "#fb9f3a"
             ],
             [
              0.8888888888888888,
              "#fdca26"
             ],
             [
              1,
              "#f0f921"
             ]
            ],
            "type": "heatmap"
           }
          ],
          "heatmapgl": [
           {
            "colorbar": {
             "outlinewidth": 0,
             "ticks": ""
            },
            "colorscale": [
             [
              0,
              "#0d0887"
             ],
             [
              0.1111111111111111,
              "#46039f"
             ],
             [
              0.2222222222222222,
              "#7201a8"
             ],
             [
              0.3333333333333333,
              "#9c179e"
             ],
             [
              0.4444444444444444,
              "#bd3786"
             ],
             [
              0.5555555555555556,
              "#d8576b"
             ],
             [
              0.6666666666666666,
              "#ed7953"
             ],
             [
              0.7777777777777778,
              "#fb9f3a"
             ],
             [
              0.8888888888888888,
              "#fdca26"
             ],
             [
              1,
              "#f0f921"
             ]
            ],
            "type": "heatmapgl"
           }
          ],
          "histogram": [
           {
            "marker": {
             "pattern": {
              "fillmode": "overlay",
              "size": 10,
              "solidity": 0.2
             }
            },
            "type": "histogram"
           }
          ],
          "histogram2d": [
           {
            "colorbar": {
             "outlinewidth": 0,
             "ticks": ""
            },
            "colorscale": [
             [
              0,
              "#0d0887"
             ],
             [
              0.1111111111111111,
              "#46039f"
             ],
             [
              0.2222222222222222,
              "#7201a8"
             ],
             [
              0.3333333333333333,
              "#9c179e"
             ],
             [
              0.4444444444444444,
              "#bd3786"
             ],
             [
              0.5555555555555556,
              "#d8576b"
             ],
             [
              0.6666666666666666,
              "#ed7953"
             ],
             [
              0.7777777777777778,
              "#fb9f3a"
             ],
             [
              0.8888888888888888,
              "#fdca26"
             ],
             [
              1,
              "#f0f921"
             ]
            ],
            "type": "histogram2d"
           }
          ],
          "histogram2dcontour": [
           {
            "colorbar": {
             "outlinewidth": 0,
             "ticks": ""
            },
            "colorscale": [
             [
              0,
              "#0d0887"
             ],
             [
              0.1111111111111111,
              "#46039f"
             ],
             [
              0.2222222222222222,
              "#7201a8"
             ],
             [
              0.3333333333333333,
              "#9c179e"
             ],
             [
              0.4444444444444444,
              "#bd3786"
             ],
             [
              0.5555555555555556,
              "#d8576b"
             ],
             [
              0.6666666666666666,
              "#ed7953"
             ],
             [
              0.7777777777777778,
              "#fb9f3a"
             ],
             [
              0.8888888888888888,
              "#fdca26"
             ],
             [
              1,
              "#f0f921"
             ]
            ],
            "type": "histogram2dcontour"
           }
          ],
          "mesh3d": [
           {
            "colorbar": {
             "outlinewidth": 0,
             "ticks": ""
            },
            "type": "mesh3d"
           }
          ],
          "parcoords": [
           {
            "line": {
             "colorbar": {
              "outlinewidth": 0,
              "ticks": ""
             }
            },
            "type": "parcoords"
           }
          ],
          "pie": [
           {
            "automargin": true,
            "type": "pie"
           }
          ],
          "scatter": [
           {
            "marker": {
             "colorbar": {
              "outlinewidth": 0,
              "ticks": ""
             }
            },
            "type": "scatter"
           }
          ],
          "scatter3d": [
           {
            "line": {
             "colorbar": {
              "outlinewidth": 0,
              "ticks": ""
             }
            },
            "marker": {
             "colorbar": {
              "outlinewidth": 0,
              "ticks": ""
             }
            },
            "type": "scatter3d"
           }
          ],
          "scattercarpet": [
           {
            "marker": {
             "colorbar": {
              "outlinewidth": 0,
              "ticks": ""
             }
            },
            "type": "scattercarpet"
           }
          ],
          "scattergeo": [
           {
            "marker": {
             "colorbar": {
              "outlinewidth": 0,
              "ticks": ""
             }
            },
            "type": "scattergeo"
           }
          ],
          "scattergl": [
           {
            "marker": {
             "colorbar": {
              "outlinewidth": 0,
              "ticks": ""
             }
            },
            "type": "scattergl"
           }
          ],
          "scattermapbox": [
           {
            "marker": {
             "colorbar": {
              "outlinewidth": 0,
              "ticks": ""
             }
            },
            "type": "scattermapbox"
           }
          ],
          "scatterpolar": [
           {
            "marker": {
             "colorbar": {
              "outlinewidth": 0,
              "ticks": ""
             }
            },
            "type": "scatterpolar"
           }
          ],
          "scatterpolargl": [
           {
            "marker": {
             "colorbar": {
              "outlinewidth": 0,
              "ticks": ""
             }
            },
            "type": "scatterpolargl"
           }
          ],
          "scatterternary": [
           {
            "marker": {
             "colorbar": {
              "outlinewidth": 0,
              "ticks": ""
             }
            },
            "type": "scatterternary"
           }
          ],
          "surface": [
           {
            "colorbar": {
             "outlinewidth": 0,
             "ticks": ""
            },
            "colorscale": [
             [
              0,
              "#0d0887"
             ],
             [
              0.1111111111111111,
              "#46039f"
             ],
             [
              0.2222222222222222,
              "#7201a8"
             ],
             [
              0.3333333333333333,
              "#9c179e"
             ],
             [
              0.4444444444444444,
              "#bd3786"
             ],
             [
              0.5555555555555556,
              "#d8576b"
             ],
             [
              0.6666666666666666,
              "#ed7953"
             ],
             [
              0.7777777777777778,
              "#fb9f3a"
             ],
             [
              0.8888888888888888,
              "#fdca26"
             ],
             [
              1,
              "#f0f921"
             ]
            ],
            "type": "surface"
           }
          ],
          "table": [
           {
            "cells": {
             "fill": {
              "color": "#EBF0F8"
             },
             "line": {
              "color": "white"
             }
            },
            "header": {
             "fill": {
              "color": "#C8D4E3"
             },
             "line": {
              "color": "white"
             }
            },
            "type": "table"
           }
          ]
         },
         "layout": {
          "annotationdefaults": {
           "arrowcolor": "#2a3f5f",
           "arrowhead": 0,
           "arrowwidth": 1
          },
          "autotypenumbers": "strict",
          "coloraxis": {
           "colorbar": {
            "outlinewidth": 0,
            "ticks": ""
           }
          },
          "colorscale": {
           "diverging": [
            [
             0,
             "#8e0152"
            ],
            [
             0.1,
             "#c51b7d"
            ],
            [
             0.2,
             "#de77ae"
            ],
            [
             0.3,
             "#f1b6da"
            ],
            [
             0.4,
             "#fde0ef"
            ],
            [
             0.5,
             "#f7f7f7"
            ],
            [
             0.6,
             "#e6f5d0"
            ],
            [
             0.7,
             "#b8e186"
            ],
            [
             0.8,
             "#7fbc41"
            ],
            [
             0.9,
             "#4d9221"
            ],
            [
             1,
             "#276419"
            ]
           ],
           "sequential": [
            [
             0,
             "#0d0887"
            ],
            [
             0.1111111111111111,
             "#46039f"
            ],
            [
             0.2222222222222222,
             "#7201a8"
            ],
            [
             0.3333333333333333,
             "#9c179e"
            ],
            [
             0.4444444444444444,
             "#bd3786"
            ],
            [
             0.5555555555555556,
             "#d8576b"
            ],
            [
             0.6666666666666666,
             "#ed7953"
            ],
            [
             0.7777777777777778,
             "#fb9f3a"
            ],
            [
             0.8888888888888888,
             "#fdca26"
            ],
            [
             1,
             "#f0f921"
            ]
           ],
           "sequentialminus": [
            [
             0,
             "#0d0887"
            ],
            [
             0.1111111111111111,
             "#46039f"
            ],
            [
             0.2222222222222222,
             "#7201a8"
            ],
            [
             0.3333333333333333,
             "#9c179e"
            ],
            [
             0.4444444444444444,
             "#bd3786"
            ],
            [
             0.5555555555555556,
             "#d8576b"
            ],
            [
             0.6666666666666666,
             "#ed7953"
            ],
            [
             0.7777777777777778,
             "#fb9f3a"
            ],
            [
             0.8888888888888888,
             "#fdca26"
            ],
            [
             1,
             "#f0f921"
            ]
           ]
          },
          "colorway": [
           "#636efa",
           "#EF553B",
           "#00cc96",
           "#ab63fa",
           "#FFA15A",
           "#19d3f3",
           "#FF6692",
           "#B6E880",
           "#FF97FF",
           "#FECB52"
          ],
          "font": {
           "color": "#2a3f5f"
          },
          "geo": {
           "bgcolor": "white",
           "lakecolor": "white",
           "landcolor": "#E5ECF6",
           "showlakes": true,
           "showland": true,
           "subunitcolor": "white"
          },
          "hoverlabel": {
           "align": "left"
          },
          "hovermode": "closest",
          "mapbox": {
           "style": "light"
          },
          "paper_bgcolor": "white",
          "plot_bgcolor": "#E5ECF6",
          "polar": {
           "angularaxis": {
            "gridcolor": "white",
            "linecolor": "white",
            "ticks": ""
           },
           "bgcolor": "#E5ECF6",
           "radialaxis": {
            "gridcolor": "white",
            "linecolor": "white",
            "ticks": ""
           }
          },
          "scene": {
           "xaxis": {
            "backgroundcolor": "#E5ECF6",
            "gridcolor": "white",
            "gridwidth": 2,
            "linecolor": "white",
            "showbackground": true,
            "ticks": "",
            "zerolinecolor": "white"
           },
           "yaxis": {
            "backgroundcolor": "#E5ECF6",
            "gridcolor": "white",
            "gridwidth": 2,
            "linecolor": "white",
            "showbackground": true,
            "ticks": "",
            "zerolinecolor": "white"
           },
           "zaxis": {
            "backgroundcolor": "#E5ECF6",
            "gridcolor": "white",
            "gridwidth": 2,
            "linecolor": "white",
            "showbackground": true,
            "ticks": "",
            "zerolinecolor": "white"
           }
          },
          "shapedefaults": {
           "line": {
            "color": "#2a3f5f"
           }
          },
          "ternary": {
           "aaxis": {
            "gridcolor": "white",
            "linecolor": "white",
            "ticks": ""
           },
           "baxis": {
            "gridcolor": "white",
            "linecolor": "white",
            "ticks": ""
           },
           "bgcolor": "#E5ECF6",
           "caxis": {
            "gridcolor": "white",
            "linecolor": "white",
            "ticks": ""
           }
          },
          "title": {
           "x": 0.05
          },
          "xaxis": {
           "automargin": true,
           "gridcolor": "white",
           "linecolor": "white",
           "ticks": "",
           "title": {
            "standoff": 15
           },
           "zerolinecolor": "white",
           "zerolinewidth": 2
          },
          "yaxis": {
           "automargin": true,
           "gridcolor": "white",
           "linecolor": "white",
           "ticks": "",
           "title": {
            "standoff": 15
           },
           "zerolinecolor": "white",
           "zerolinewidth": 2
          }
         }
        },
        "title": {
         "text": "Top 5 Avg Score Humanities Majors 2019"
        },
        "xaxis": {
         "anchor": "y",
         "domain": [
          0,
          1
         ],
         "tickangle": 0,
         "tickfont": {
          "color": "red",
          "family": "Rockwell",
          "size": 11
         },
         "title": {
          "text": "Avg Scores"
         }
        },
        "yaxis": {
         "anchor": "x",
         "categoryorder": "total ascending",
         "domain": [
          0,
          1
         ],
         "tickangle": 0,
         "tickfont": {
          "color": "black",
          "family": "Rockwell",
          "size": 11
         },
         "title": {
          "text": "Majors"
         }
        }
       }
      }
     },
     "metadata": {},
     "output_type": "display_data"
    }
   ],
   "source": [
    "fig = px.bar(data_frame=df_univ_brawSc_clear.groupby('first_major').mean().sort_values('average_score',ascending=False).head(5).reset_index(),x=['average_score','specialized_score','general_score'],y='first_major',text_auto=True,barmode='group',height=500)\n",
    "\n",
    "fig.update_layout(showlegend=True,title='Top 5 Avg Score Science Majors 2019',xaxis_title='Avg Scores',yaxis_title='Majors',bargap=0.15,\n",
    "bargroupgap=0.1,yaxis={'categoryorder':'total ascending'})\n",
    "fig.update_yaxes(tickangle=0, tickfont=dict(family='Rockwell', color='black', size=12))\n",
    "fig.update_xaxes(tickangle=0, tickfont=dict(family='Rockwell', color='red', size=12))\n",
    "fig.update_traces(textfont_size=11, textangle=0, textposition=\"outside\", cliponaxis=True)\n",
    "fig.show()\n",
    "\n",
    "fig = px.bar(data_frame=df_univ_brawHm_clear.groupby('first_major').mean().sort_values('average_score',ascending=False).head(5).reset_index(),x=['average_score','specialized_score','general_score'],y='first_major',text_auto=True,barmode='group',height=500)\n",
    "\n",
    "fig.update_layout(showlegend=True,title='Top 5 Avg Score Humanities Majors 2019',xaxis_title='Avg Scores',yaxis_title='Majors',bargap=0.15,\n",
    "bargroupgap=0.1,yaxis={'categoryorder':'total ascending'})\n",
    "fig.update_yaxes(tickangle=0, tickfont=dict(family='Rockwell', color='black', size=11))\n",
    "fig.update_xaxes(tickangle=0, tickfont=dict(family='Rockwell', color='red', size=11))\n",
    "fig.update_traces(textfont_size=11, textangle=0, textposition=\"outside\", cliponaxis=True)\n",
    "fig.show()"
   ]
  },
  {
   "cell_type": "markdown",
   "metadata": {},
   "source": [
    "![Top 5 Avg Score Science Majors 2019](photos/Top%205%20Avg%20Score%20Science%20Majors%202019.png)"
   ]
  },
  {
   "cell_type": "markdown",
   "metadata": {},
   "source": [
    "![Top 5 Avg Score Humanities Majors 2019](photos/Top%205%20Avg%20Score%20Humanities%20Majors%202019.png)"
   ]
  },
  {
   "cell_type": "code",
   "execution_count": 72,
   "metadata": {},
   "outputs": [
    {
     "data": {
      "text/html": [
       "<div>\n",
       "<style scoped>\n",
       "    .dataframe tbody tr th:only-of-type {\n",
       "        vertical-align: middle;\n",
       "    }\n",
       "\n",
       "    .dataframe tbody tr th {\n",
       "        vertical-align: top;\n",
       "    }\n",
       "\n",
       "    .dataframe thead th {\n",
       "        text-align: right;\n",
       "    }\n",
       "</style>\n",
       "<table border=\"1\" class=\"dataframe\">\n",
       "  <thead>\n",
       "    <tr style=\"text-align: right;\">\n",
       "      <th></th>\n",
       "      <th>general_score</th>\n",
       "      <th>specialized_score</th>\n",
       "      <th>average_score</th>\n",
       "      <th>first_major</th>\n",
       "    </tr>\n",
       "  </thead>\n",
       "  <tbody>\n",
       "    <tr>\n",
       "      <th>652</th>\n",
       "      <td>657.25</td>\n",
       "      <td>810.25</td>\n",
       "      <td>733.750</td>\n",
       "      <td>PENDIDIKAN DOKTER</td>\n",
       "    </tr>\n",
       "    <tr>\n",
       "      <th>653</th>\n",
       "      <td>714.00</td>\n",
       "      <td>728.00</td>\n",
       "      <td>721.000</td>\n",
       "      <td>PENDIDIKAN DOKTER</td>\n",
       "    </tr>\n",
       "    <tr>\n",
       "      <th>654</th>\n",
       "      <td>657.75</td>\n",
       "      <td>782.25</td>\n",
       "      <td>720.000</td>\n",
       "      <td>PENDIDIKAN DOKTER</td>\n",
       "    </tr>\n",
       "    <tr>\n",
       "      <th>655</th>\n",
       "      <td>726.25</td>\n",
       "      <td>709.00</td>\n",
       "      <td>717.625</td>\n",
       "      <td>PENDIDIKAN DOKTER</td>\n",
       "    </tr>\n",
       "    <tr>\n",
       "      <th>656</th>\n",
       "      <td>677.00</td>\n",
       "      <td>757.75</td>\n",
       "      <td>717.375</td>\n",
       "      <td>PENDIDIKAN DOKTER</td>\n",
       "    </tr>\n",
       "  </tbody>\n",
       "</table>\n",
       "</div>"
      ],
      "text/plain": [
       "     general_score  specialized_score  average_score        first_major\n",
       "652         657.25             810.25        733.750  PENDIDIKAN DOKTER\n",
       "653         714.00             728.00        721.000  PENDIDIKAN DOKTER\n",
       "654         657.75             782.25        720.000  PENDIDIKAN DOKTER\n",
       "655         726.25             709.00        717.625  PENDIDIKAN DOKTER\n",
       "656         677.00             757.75        717.375  PENDIDIKAN DOKTER"
      ]
     },
     "execution_count": 72,
     "metadata": {},
     "output_type": "execute_result"
    }
   ],
   "source": [
    "df_univ_braw_dokter = df_univ_brawSc_clear.loc[df_univ_brawSc_clear['first_major']=='PENDIDIKAN DOKTER'].sort_values(by=['average_score','specialized_score','general_score'],ascending=False).head(40)\n",
    "df_univ_braw_dokter.head()"
   ]
  },
  {
   "cell_type": "code",
   "execution_count": 73,
   "metadata": {},
   "outputs": [
    {
     "data": {
      "application/vnd.plotly.v1+json": {
       "config": {
        "plotlyServerURL": "https://plot.ly"
       },
       "data": [
        {
         "name": "Highest Score",
         "text": [
          733.75,
          721,
          720,
          717.625,
          717.375
         ],
         "type": "bar",
         "xaxis": "x",
         "y": [
          733.75,
          721,
          720,
          717.625,
          717.375
         ],
         "yaxis": "y"
        },
        {
         "name": "Lowest Score",
         "text": [
          680,
          678.875,
          678.75,
          678.375,
          677.25
         ],
         "type": "bar",
         "xaxis": "x2",
         "y": [
          680,
          678.875,
          678.75,
          678.375,
          677.25
         ],
         "yaxis": "y2"
        }
       ],
       "layout": {
        "annotations": [
         {
          "font": {
           "size": 16
          },
          "showarrow": false,
          "text": "Highest Scores",
          "x": 0.225,
          "xanchor": "center",
          "xref": "paper",
          "y": 1,
          "yanchor": "bottom",
          "yref": "paper"
         },
         {
          "font": {
           "size": 16
          },
          "showarrow": false,
          "text": "Lowest Scores",
          "x": 0.775,
          "xanchor": "center",
          "xref": "paper",
          "y": 1,
          "yanchor": "bottom",
          "yref": "paper"
         }
        ],
        "showlegend": false,
        "template": {
         "data": {
          "bar": [
           {
            "error_x": {
             "color": "#2a3f5f"
            },
            "error_y": {
             "color": "#2a3f5f"
            },
            "marker": {
             "line": {
              "color": "#E5ECF6",
              "width": 0.5
             },
             "pattern": {
              "fillmode": "overlay",
              "size": 10,
              "solidity": 0.2
             }
            },
            "type": "bar"
           }
          ],
          "barpolar": [
           {
            "marker": {
             "line": {
              "color": "#E5ECF6",
              "width": 0.5
             },
             "pattern": {
              "fillmode": "overlay",
              "size": 10,
              "solidity": 0.2
             }
            },
            "type": "barpolar"
           }
          ],
          "carpet": [
           {
            "aaxis": {
             "endlinecolor": "#2a3f5f",
             "gridcolor": "white",
             "linecolor": "white",
             "minorgridcolor": "white",
             "startlinecolor": "#2a3f5f"
            },
            "baxis": {
             "endlinecolor": "#2a3f5f",
             "gridcolor": "white",
             "linecolor": "white",
             "minorgridcolor": "white",
             "startlinecolor": "#2a3f5f"
            },
            "type": "carpet"
           }
          ],
          "choropleth": [
           {
            "colorbar": {
             "outlinewidth": 0,
             "ticks": ""
            },
            "type": "choropleth"
           }
          ],
          "contour": [
           {
            "colorbar": {
             "outlinewidth": 0,
             "ticks": ""
            },
            "colorscale": [
             [
              0,
              "#0d0887"
             ],
             [
              0.1111111111111111,
              "#46039f"
             ],
             [
              0.2222222222222222,
              "#7201a8"
             ],
             [
              0.3333333333333333,
              "#9c179e"
             ],
             [
              0.4444444444444444,
              "#bd3786"
             ],
             [
              0.5555555555555556,
              "#d8576b"
             ],
             [
              0.6666666666666666,
              "#ed7953"
             ],
             [
              0.7777777777777778,
              "#fb9f3a"
             ],
             [
              0.8888888888888888,
              "#fdca26"
             ],
             [
              1,
              "#f0f921"
             ]
            ],
            "type": "contour"
           }
          ],
          "contourcarpet": [
           {
            "colorbar": {
             "outlinewidth": 0,
             "ticks": ""
            },
            "type": "contourcarpet"
           }
          ],
          "heatmap": [
           {
            "colorbar": {
             "outlinewidth": 0,
             "ticks": ""
            },
            "colorscale": [
             [
              0,
              "#0d0887"
             ],
             [
              0.1111111111111111,
              "#46039f"
             ],
             [
              0.2222222222222222,
              "#7201a8"
             ],
             [
              0.3333333333333333,
              "#9c179e"
             ],
             [
              0.4444444444444444,
              "#bd3786"
             ],
             [
              0.5555555555555556,
              "#d8576b"
             ],
             [
              0.6666666666666666,
              "#ed7953"
             ],
             [
              0.7777777777777778,
              "#fb9f3a"
             ],
             [
              0.8888888888888888,
              "#fdca26"
             ],
             [
              1,
              "#f0f921"
             ]
            ],
            "type": "heatmap"
           }
          ],
          "heatmapgl": [
           {
            "colorbar": {
             "outlinewidth": 0,
             "ticks": ""
            },
            "colorscale": [
             [
              0,
              "#0d0887"
             ],
             [
              0.1111111111111111,
              "#46039f"
             ],
             [
              0.2222222222222222,
              "#7201a8"
             ],
             [
              0.3333333333333333,
              "#9c179e"
             ],
             [
              0.4444444444444444,
              "#bd3786"
             ],
             [
              0.5555555555555556,
              "#d8576b"
             ],
             [
              0.6666666666666666,
              "#ed7953"
             ],
             [
              0.7777777777777778,
              "#fb9f3a"
             ],
             [
              0.8888888888888888,
              "#fdca26"
             ],
             [
              1,
              "#f0f921"
             ]
            ],
            "type": "heatmapgl"
           }
          ],
          "histogram": [
           {
            "marker": {
             "pattern": {
              "fillmode": "overlay",
              "size": 10,
              "solidity": 0.2
             }
            },
            "type": "histogram"
           }
          ],
          "histogram2d": [
           {
            "colorbar": {
             "outlinewidth": 0,
             "ticks": ""
            },
            "colorscale": [
             [
              0,
              "#0d0887"
             ],
             [
              0.1111111111111111,
              "#46039f"
             ],
             [
              0.2222222222222222,
              "#7201a8"
             ],
             [
              0.3333333333333333,
              "#9c179e"
             ],
             [
              0.4444444444444444,
              "#bd3786"
             ],
             [
              0.5555555555555556,
              "#d8576b"
             ],
             [
              0.6666666666666666,
              "#ed7953"
             ],
             [
              0.7777777777777778,
              "#fb9f3a"
             ],
             [
              0.8888888888888888,
              "#fdca26"
             ],
             [
              1,
              "#f0f921"
             ]
            ],
            "type": "histogram2d"
           }
          ],
          "histogram2dcontour": [
           {
            "colorbar": {
             "outlinewidth": 0,
             "ticks": ""
            },
            "colorscale": [
             [
              0,
              "#0d0887"
             ],
             [
              0.1111111111111111,
              "#46039f"
             ],
             [
              0.2222222222222222,
              "#7201a8"
             ],
             [
              0.3333333333333333,
              "#9c179e"
             ],
             [
              0.4444444444444444,
              "#bd3786"
             ],
             [
              0.5555555555555556,
              "#d8576b"
             ],
             [
              0.6666666666666666,
              "#ed7953"
             ],
             [
              0.7777777777777778,
              "#fb9f3a"
             ],
             [
              0.8888888888888888,
              "#fdca26"
             ],
             [
              1,
              "#f0f921"
             ]
            ],
            "type": "histogram2dcontour"
           }
          ],
          "mesh3d": [
           {
            "colorbar": {
             "outlinewidth": 0,
             "ticks": ""
            },
            "type": "mesh3d"
           }
          ],
          "parcoords": [
           {
            "line": {
             "colorbar": {
              "outlinewidth": 0,
              "ticks": ""
             }
            },
            "type": "parcoords"
           }
          ],
          "pie": [
           {
            "automargin": true,
            "type": "pie"
           }
          ],
          "scatter": [
           {
            "marker": {
             "colorbar": {
              "outlinewidth": 0,
              "ticks": ""
             }
            },
            "type": "scatter"
           }
          ],
          "scatter3d": [
           {
            "line": {
             "colorbar": {
              "outlinewidth": 0,
              "ticks": ""
             }
            },
            "marker": {
             "colorbar": {
              "outlinewidth": 0,
              "ticks": ""
             }
            },
            "type": "scatter3d"
           }
          ],
          "scattercarpet": [
           {
            "marker": {
             "colorbar": {
              "outlinewidth": 0,
              "ticks": ""
             }
            },
            "type": "scattercarpet"
           }
          ],
          "scattergeo": [
           {
            "marker": {
             "colorbar": {
              "outlinewidth": 0,
              "ticks": ""
             }
            },
            "type": "scattergeo"
           }
          ],
          "scattergl": [
           {
            "marker": {
             "colorbar": {
              "outlinewidth": 0,
              "ticks": ""
             }
            },
            "type": "scattergl"
           }
          ],
          "scattermapbox": [
           {
            "marker": {
             "colorbar": {
              "outlinewidth": 0,
              "ticks": ""
             }
            },
            "type": "scattermapbox"
           }
          ],
          "scatterpolar": [
           {
            "marker": {
             "colorbar": {
              "outlinewidth": 0,
              "ticks": ""
             }
            },
            "type": "scatterpolar"
           }
          ],
          "scatterpolargl": [
           {
            "marker": {
             "colorbar": {
              "outlinewidth": 0,
              "ticks": ""
             }
            },
            "type": "scatterpolargl"
           }
          ],
          "scatterternary": [
           {
            "marker": {
             "colorbar": {
              "outlinewidth": 0,
              "ticks": ""
             }
            },
            "type": "scatterternary"
           }
          ],
          "surface": [
           {
            "colorbar": {
             "outlinewidth": 0,
             "ticks": ""
            },
            "colorscale": [
             [
              0,
              "#0d0887"
             ],
             [
              0.1111111111111111,
              "#46039f"
             ],
             [
              0.2222222222222222,
              "#7201a8"
             ],
             [
              0.3333333333333333,
              "#9c179e"
             ],
             [
              0.4444444444444444,
              "#bd3786"
             ],
             [
              0.5555555555555556,
              "#d8576b"
             ],
             [
              0.6666666666666666,
              "#ed7953"
             ],
             [
              0.7777777777777778,
              "#fb9f3a"
             ],
             [
              0.8888888888888888,
              "#fdca26"
             ],
             [
              1,
              "#f0f921"
             ]
            ],
            "type": "surface"
           }
          ],
          "table": [
           {
            "cells": {
             "fill": {
              "color": "#EBF0F8"
             },
             "line": {
              "color": "white"
             }
            },
            "header": {
             "fill": {
              "color": "#C8D4E3"
             },
             "line": {
              "color": "white"
             }
            },
            "type": "table"
           }
          ]
         },
         "layout": {
          "annotationdefaults": {
           "arrowcolor": "#2a3f5f",
           "arrowhead": 0,
           "arrowwidth": 1
          },
          "autotypenumbers": "strict",
          "coloraxis": {
           "colorbar": {
            "outlinewidth": 0,
            "ticks": ""
           }
          },
          "colorscale": {
           "diverging": [
            [
             0,
             "#8e0152"
            ],
            [
             0.1,
             "#c51b7d"
            ],
            [
             0.2,
             "#de77ae"
            ],
            [
             0.3,
             "#f1b6da"
            ],
            [
             0.4,
             "#fde0ef"
            ],
            [
             0.5,
             "#f7f7f7"
            ],
            [
             0.6,
             "#e6f5d0"
            ],
            [
             0.7,
             "#b8e186"
            ],
            [
             0.8,
             "#7fbc41"
            ],
            [
             0.9,
             "#4d9221"
            ],
            [
             1,
             "#276419"
            ]
           ],
           "sequential": [
            [
             0,
             "#0d0887"
            ],
            [
             0.1111111111111111,
             "#46039f"
            ],
            [
             0.2222222222222222,
             "#7201a8"
            ],
            [
             0.3333333333333333,
             "#9c179e"
            ],
            [
             0.4444444444444444,
             "#bd3786"
            ],
            [
             0.5555555555555556,
             "#d8576b"
            ],
            [
             0.6666666666666666,
             "#ed7953"
            ],
            [
             0.7777777777777778,
             "#fb9f3a"
            ],
            [
             0.8888888888888888,
             "#fdca26"
            ],
            [
             1,
             "#f0f921"
            ]
           ],
           "sequentialminus": [
            [
             0,
             "#0d0887"
            ],
            [
             0.1111111111111111,
             "#46039f"
            ],
            [
             0.2222222222222222,
             "#7201a8"
            ],
            [
             0.3333333333333333,
             "#9c179e"
            ],
            [
             0.4444444444444444,
             "#bd3786"
            ],
            [
             0.5555555555555556,
             "#d8576b"
            ],
            [
             0.6666666666666666,
             "#ed7953"
            ],
            [
             0.7777777777777778,
             "#fb9f3a"
            ],
            [
             0.8888888888888888,
             "#fdca26"
            ],
            [
             1,
             "#f0f921"
            ]
           ]
          },
          "colorway": [
           "#636efa",
           "#EF553B",
           "#00cc96",
           "#ab63fa",
           "#FFA15A",
           "#19d3f3",
           "#FF6692",
           "#B6E880",
           "#FF97FF",
           "#FECB52"
          ],
          "font": {
           "color": "#2a3f5f"
          },
          "geo": {
           "bgcolor": "white",
           "lakecolor": "white",
           "landcolor": "#E5ECF6",
           "showlakes": true,
           "showland": true,
           "subunitcolor": "white"
          },
          "hoverlabel": {
           "align": "left"
          },
          "hovermode": "closest",
          "mapbox": {
           "style": "light"
          },
          "paper_bgcolor": "white",
          "plot_bgcolor": "#E5ECF6",
          "polar": {
           "angularaxis": {
            "gridcolor": "white",
            "linecolor": "white",
            "ticks": ""
           },
           "bgcolor": "#E5ECF6",
           "radialaxis": {
            "gridcolor": "white",
            "linecolor": "white",
            "ticks": ""
           }
          },
          "scene": {
           "xaxis": {
            "backgroundcolor": "#E5ECF6",
            "gridcolor": "white",
            "gridwidth": 2,
            "linecolor": "white",
            "showbackground": true,
            "ticks": "",
            "zerolinecolor": "white"
           },
           "yaxis": {
            "backgroundcolor": "#E5ECF6",
            "gridcolor": "white",
            "gridwidth": 2,
            "linecolor": "white",
            "showbackground": true,
            "ticks": "",
            "zerolinecolor": "white"
           },
           "zaxis": {
            "backgroundcolor": "#E5ECF6",
            "gridcolor": "white",
            "gridwidth": 2,
            "linecolor": "white",
            "showbackground": true,
            "ticks": "",
            "zerolinecolor": "white"
           }
          },
          "shapedefaults": {
           "line": {
            "color": "#2a3f5f"
           }
          },
          "ternary": {
           "aaxis": {
            "gridcolor": "white",
            "linecolor": "white",
            "ticks": ""
           },
           "baxis": {
            "gridcolor": "white",
            "linecolor": "white",
            "ticks": ""
           },
           "bgcolor": "#E5ECF6",
           "caxis": {
            "gridcolor": "white",
            "linecolor": "white",
            "ticks": ""
           }
          },
          "title": {
           "x": 0.05
          },
          "xaxis": {
           "automargin": true,
           "gridcolor": "white",
           "linecolor": "white",
           "ticks": "",
           "title": {
            "standoff": 15
           },
           "zerolinecolor": "white",
           "zerolinewidth": 2
          },
          "yaxis": {
           "automargin": true,
           "gridcolor": "white",
           "linecolor": "white",
           "ticks": "",
           "title": {
            "standoff": 15
           },
           "zerolinecolor": "white",
           "zerolinewidth": 2
          }
         }
        },
        "title": {
         "text": "Medical School UB Avg Scores 2019"
        },
        "xaxis": {
         "anchor": "y",
         "domain": [
          0,
          0.45
         ]
        },
        "xaxis2": {
         "anchor": "y2",
         "domain": [
          0.55,
          1
         ]
        },
        "yaxis": {
         "anchor": "x",
         "domain": [
          0,
          1
         ]
        },
        "yaxis2": {
         "anchor": "x2",
         "domain": [
          0,
          1
         ],
         "matches": "y",
         "showticklabels": false
        }
       }
      }
     },
     "metadata": {},
     "output_type": "display_data"
    }
   ],
   "source": [
    "\n",
    "\n",
    "fig = make_subplots(rows=1, cols=2, shared_yaxes=True,subplot_titles=('Highest Scores','Lowest Scores'))\n",
    "\n",
    "fig.add_trace(\n",
    "    go.Bar(y=df_univ_braw_dokter.loc[:,'average_score',].iloc[:5],name='Highest Score',text=df_univ_braw_dokter.loc[:,'average_score'].iloc[:5]),\n",
    "    row=1, col=1\n",
    ")\n",
    "\n",
    "fig.add_trace(\n",
    "    go.Bar(y=df_univ_braw_dokter.loc[:,'average_score'].iloc[-5:],name='Lowest Score',text=df_univ_braw_dokter.loc[:,'average_score'].iloc[-5:]),\n",
    "    row=1, col=2,\n",
    ")\n",
    "fig.update_layout(title_text='Medical School UB Avg Scores 2019',showlegend=False,)\n",
    "# fig.update_xaxes(tickangle=0, tickfont=dict(family='Rockwell', color='black', size=14))"
   ]
  },
  {
   "cell_type": "markdown",
   "metadata": {},
   "source": [
    "![Medical School UB Avg Scores 2019](/photos/Medical%20School%20UB%20Avg%20Scores%202019.png)"
   ]
  }
 ],
 "metadata": {
  "interpreter": {
   "hash": "fadd12deb669ed8a1e500b85b650f6b7c52912287fdd991d1d178b5f322ba022"
  },
  "kernelspec": {
   "display_name": "Python 3.9.7 ('base')",
   "language": "python",
   "name": "python3"
  },
  "language_info": {
   "codemirror_mode": {
    "name": "ipython",
    "version": 3
   },
   "file_extension": ".py",
   "mimetype": "text/x-python",
   "name": "python",
   "nbconvert_exporter": "python",
   "pygments_lexer": "ipython3",
   "version": "3.9.7"
  },
  "orig_nbformat": 4
 },
 "nbformat": 4,
 "nbformat_minor": 2
}
