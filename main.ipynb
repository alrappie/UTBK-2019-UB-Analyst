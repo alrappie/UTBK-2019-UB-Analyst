{
 "cells": [
  {
   "cell_type": "markdown",
   "metadata": {},
   "source": [
    "Import relevant Libraries"
   ]
  },
  {
   "cell_type": "code",
   "execution_count": 1,
   "metadata": {},
   "outputs": [],
   "source": [
    "import pandas as pd\n",
    "import seaborn as sns\n",
    "import plotly.express as px\n",
    "from plotly.subplots import make_subplots\n",
    "import plotly.graph_objects as go\n",
    "import matplotlib.pyplot as plt\n",
    "sns.set_style('whitegrid')"
   ]
  },
  {
   "cell_type": "markdown",
   "metadata": {},
   "source": [
    "Read all files"
   ]
  },
  {
   "cell_type": "code",
   "execution_count": 2,
   "metadata": {},
   "outputs": [
    {
     "name": "stdout",
     "output_type": "stream",
     "text": [
      "Unnamed: 0       0\n",
      "id_major         0\n",
      "id_university    0\n",
      "type             0\n",
      "major_name       0\n",
      "capacity         0\n",
      "dtype: int64\n"
     ]
    },
    {
     "data": {
      "text/html": [
       "<div>\n",
       "<style scoped>\n",
       "    .dataframe tbody tr th:only-of-type {\n",
       "        vertical-align: middle;\n",
       "    }\n",
       "\n",
       "    .dataframe tbody tr th {\n",
       "        vertical-align: top;\n",
       "    }\n",
       "\n",
       "    .dataframe thead th {\n",
       "        text-align: right;\n",
       "    }\n",
       "</style>\n",
       "<table border=\"1\" class=\"dataframe\">\n",
       "  <thead>\n",
       "    <tr style=\"text-align: right;\">\n",
       "      <th></th>\n",
       "      <th>Unnamed: 0</th>\n",
       "      <th>id_major</th>\n",
       "      <th>id_university</th>\n",
       "      <th>type</th>\n",
       "      <th>major_name</th>\n",
       "      <th>capacity</th>\n",
       "    </tr>\n",
       "  </thead>\n",
       "  <tbody>\n",
       "    <tr>\n",
       "      <th>1512</th>\n",
       "      <td>1512</td>\n",
       "      <td>7511081</td>\n",
       "      <td>751</td>\n",
       "      <td>science</td>\n",
       "      <td>FISIKA</td>\n",
       "      <td>28</td>\n",
       "    </tr>\n",
       "    <tr>\n",
       "      <th>1934</th>\n",
       "      <td>1934</td>\n",
       "      <td>1432087</td>\n",
       "      <td>143</td>\n",
       "      <td>humanities</td>\n",
       "      <td>FOTOGRAFI</td>\n",
       "      <td>54</td>\n",
       "    </tr>\n",
       "    <tr>\n",
       "      <th>1726</th>\n",
       "      <td>1726</td>\n",
       "      <td>1112184</td>\n",
       "      <td>111</td>\n",
       "      <td>humanities</td>\n",
       "      <td>SOSIOLOGI</td>\n",
       "      <td>48</td>\n",
       "    </tr>\n",
       "    <tr>\n",
       "      <th>2666</th>\n",
       "      <td>2666</td>\n",
       "      <td>3852065</td>\n",
       "      <td>385</td>\n",
       "      <td>humanities</td>\n",
       "      <td>ILMU KOMUNIKASI</td>\n",
       "      <td>140</td>\n",
       "    </tr>\n",
       "    <tr>\n",
       "      <th>156</th>\n",
       "      <td>156</td>\n",
       "      <td>1311167</td>\n",
       "      <td>131</td>\n",
       "      <td>science</td>\n",
       "      <td>TEKNIK KIMIA</td>\n",
       "      <td>48</td>\n",
       "    </tr>\n",
       "  </tbody>\n",
       "</table>\n",
       "</div>"
      ],
      "text/plain": [
       "      Unnamed: 0  id_major  id_university        type       major_name  \\\n",
       "1512        1512   7511081            751     science           FISIKA   \n",
       "1934        1934   1432087            143  humanities        FOTOGRAFI   \n",
       "1726        1726   1112184            111  humanities        SOSIOLOGI   \n",
       "2666        2666   3852065            385  humanities  ILMU KOMUNIKASI   \n",
       "156          156   1311167            131     science     TEKNIK KIMIA   \n",
       "\n",
       "      capacity  \n",
       "1512        28  \n",
       "1934        54  \n",
       "1726        48  \n",
       "2666       140  \n",
       "156         48  "
      ]
     },
     "execution_count": 2,
     "metadata": {},
     "output_type": "execute_result"
    }
   ],
   "source": [
    "# Major file, inside here we have id_major\tid_university\ttype\tmajor_name\tcapacity columns\n",
    "majors = pd.read_csv('./files/majors.csv')\n",
    "print(majors.isna().sum()) #check for some null \n",
    "majors.sample(5)"
   ]
  },
  {
   "cell_type": "code",
   "execution_count": 3,
   "metadata": {},
   "outputs": [
    {
     "name": "stdout",
     "output_type": "stream",
     "text": [
      "Unnamed: 0         0\n",
      "id_university      0\n",
      "university_name    0\n",
      "dtype: int64\n"
     ]
    },
    {
     "data": {
      "text/html": [
       "<div>\n",
       "<style scoped>\n",
       "    .dataframe tbody tr th:only-of-type {\n",
       "        vertical-align: middle;\n",
       "    }\n",
       "\n",
       "    .dataframe tbody tr th {\n",
       "        vertical-align: top;\n",
       "    }\n",
       "\n",
       "    .dataframe thead th {\n",
       "        text-align: right;\n",
       "    }\n",
       "</style>\n",
       "<table border=\"1\" class=\"dataframe\">\n",
       "  <thead>\n",
       "    <tr style=\"text-align: right;\">\n",
       "      <th></th>\n",
       "      <th>Unnamed: 0</th>\n",
       "      <th>id_university</th>\n",
       "      <th>university_name</th>\n",
       "    </tr>\n",
       "  </thead>\n",
       "  <tbody>\n",
       "    <tr>\n",
       "      <th>63</th>\n",
       "      <td>63</td>\n",
       "      <td>611</td>\n",
       "      <td>UNIVERSITAS UDAYANA</td>\n",
       "    </tr>\n",
       "    <tr>\n",
       "      <th>46</th>\n",
       "      <td>46</td>\n",
       "      <td>365</td>\n",
       "      <td>UNIVERSITAS ISLAM NEGERI SUNAN KALIJAGA</td>\n",
       "    </tr>\n",
       "    <tr>\n",
       "      <th>61</th>\n",
       "      <td>61</td>\n",
       "      <td>542</td>\n",
       "      <td>INSTITUT TEKNOLOGI KALIMANTAN</td>\n",
       "    </tr>\n",
       "    <tr>\n",
       "      <th>25</th>\n",
       "      <td>25</td>\n",
       "      <td>323</td>\n",
       "      <td>UNIVERSITAS NEGERI JAKARTA</td>\n",
       "    </tr>\n",
       "    <tr>\n",
       "      <th>23</th>\n",
       "      <td>23</td>\n",
       "      <td>321</td>\n",
       "      <td>UNIVERSITAS INDONESIA</td>\n",
       "    </tr>\n",
       "  </tbody>\n",
       "</table>\n",
       "</div>"
      ],
      "text/plain": [
       "    Unnamed: 0  id_university                          university_name\n",
       "63          63            611                      UNIVERSITAS UDAYANA\n",
       "46          46            365  UNIVERSITAS ISLAM NEGERI SUNAN KALIJAGA\n",
       "61          61            542            INSTITUT TEKNOLOGI KALIMANTAN\n",
       "25          25            323               UNIVERSITAS NEGERI JAKARTA\n",
       "23          23            321                    UNIVERSITAS INDONESIA"
      ]
     },
     "execution_count": 3,
     "metadata": {},
     "output_type": "execute_result"
    }
   ],
   "source": [
    "# we have id_university and the name of the university \n",
    "universities = pd.read_csv('./files/universities.csv')\n",
    "print(universities.isna().sum()) #check some null \n",
    "universities.sample(5)"
   ]
  },
  {
   "cell_type": "code",
   "execution_count": 4,
   "metadata": {},
   "outputs": [
    {
     "name": "stdout",
     "output_type": "stream",
     "text": [
      "Unnamed: 0              0\n",
      "id_first_major          0\n",
      "id_first_university     0\n",
      "id_second_major         0\n",
      "id_second_university    0\n",
      "id_user                 0\n",
      "score_eko               0\n",
      "score_geo               0\n",
      "score_kmb               0\n",
      "score_kpu               0\n",
      "score_kua               0\n",
      "score_mat               0\n",
      "score_ppu               0\n",
      "score_sej               0\n",
      "score_sos               0\n",
      "dtype: int64\n"
     ]
    },
    {
     "data": {
      "text/html": [
       "<div>\n",
       "<style scoped>\n",
       "    .dataframe tbody tr th:only-of-type {\n",
       "        vertical-align: middle;\n",
       "    }\n",
       "\n",
       "    .dataframe tbody tr th {\n",
       "        vertical-align: top;\n",
       "    }\n",
       "\n",
       "    .dataframe thead th {\n",
       "        text-align: right;\n",
       "    }\n",
       "</style>\n",
       "<table border=\"1\" class=\"dataframe\">\n",
       "  <thead>\n",
       "    <tr style=\"text-align: right;\">\n",
       "      <th></th>\n",
       "      <th>Unnamed: 0</th>\n",
       "      <th>id_first_major</th>\n",
       "      <th>id_first_university</th>\n",
       "      <th>id_second_major</th>\n",
       "      <th>id_second_university</th>\n",
       "      <th>id_user</th>\n",
       "      <th>score_eko</th>\n",
       "      <th>score_geo</th>\n",
       "      <th>score_kmb</th>\n",
       "      <th>score_kpu</th>\n",
       "      <th>score_kua</th>\n",
       "      <th>score_mat</th>\n",
       "      <th>score_ppu</th>\n",
       "      <th>score_sej</th>\n",
       "      <th>score_sos</th>\n",
       "    </tr>\n",
       "  </thead>\n",
       "  <tbody>\n",
       "    <tr>\n",
       "      <th>18131</th>\n",
       "      <td>18131</td>\n",
       "      <td>3722274</td>\n",
       "      <td>372</td>\n",
       "      <td>3722297</td>\n",
       "      <td>372</td>\n",
       "      <td>122545</td>\n",
       "      <td>708</td>\n",
       "      <td>579</td>\n",
       "      <td>674</td>\n",
       "      <td>543</td>\n",
       "      <td>427</td>\n",
       "      <td>533</td>\n",
       "      <td>465</td>\n",
       "      <td>648</td>\n",
       "      <td>591</td>\n",
       "    </tr>\n",
       "    <tr>\n",
       "      <th>38512</th>\n",
       "      <td>38512</td>\n",
       "      <td>3342517</td>\n",
       "      <td>334</td>\n",
       "      <td>3232054</td>\n",
       "      <td>323</td>\n",
       "      <td>231561</td>\n",
       "      <td>599</td>\n",
       "      <td>605</td>\n",
       "      <td>503</td>\n",
       "      <td>605</td>\n",
       "      <td>544</td>\n",
       "      <td>535</td>\n",
       "      <td>414</td>\n",
       "      <td>485</td>\n",
       "      <td>511</td>\n",
       "    </tr>\n",
       "    <tr>\n",
       "      <th>27533</th>\n",
       "      <td>27533</td>\n",
       "      <td>1712136</td>\n",
       "      <td>171</td>\n",
       "      <td>1712183</td>\n",
       "      <td>171</td>\n",
       "      <td>181492</td>\n",
       "      <td>419</td>\n",
       "      <td>273</td>\n",
       "      <td>382</td>\n",
       "      <td>323</td>\n",
       "      <td>499</td>\n",
       "      <td>377</td>\n",
       "      <td>525</td>\n",
       "      <td>325</td>\n",
       "      <td>345</td>\n",
       "    </tr>\n",
       "    <tr>\n",
       "      <th>15177</th>\n",
       "      <td>15177</td>\n",
       "      <td>3332345</td>\n",
       "      <td>333</td>\n",
       "      <td>3332337</td>\n",
       "      <td>333</td>\n",
       "      <td>104951</td>\n",
       "      <td>601</td>\n",
       "      <td>602</td>\n",
       "      <td>365</td>\n",
       "      <td>537</td>\n",
       "      <td>444</td>\n",
       "      <td>492</td>\n",
       "      <td>412</td>\n",
       "      <td>444</td>\n",
       "      <td>354</td>\n",
       "    </tr>\n",
       "    <tr>\n",
       "      <th>16058</th>\n",
       "      <td>16058</td>\n",
       "      <td>3722235</td>\n",
       "      <td>372</td>\n",
       "      <td>6112064</td>\n",
       "      <td>611</td>\n",
       "      <td>109925</td>\n",
       "      <td>521</td>\n",
       "      <td>550</td>\n",
       "      <td>603</td>\n",
       "      <td>477</td>\n",
       "      <td>555</td>\n",
       "      <td>647</td>\n",
       "      <td>545</td>\n",
       "      <td>523</td>\n",
       "      <td>516</td>\n",
       "    </tr>\n",
       "  </tbody>\n",
       "</table>\n",
       "</div>"
      ],
      "text/plain": [
       "       Unnamed: 0  id_first_major  id_first_university  id_second_major  \\\n",
       "18131       18131         3722274                  372          3722297   \n",
       "38512       38512         3342517                  334          3232054   \n",
       "27533       27533         1712136                  171          1712183   \n",
       "15177       15177         3332345                  333          3332337   \n",
       "16058       16058         3722235                  372          6112064   \n",
       "\n",
       "       id_second_university  id_user  score_eko  score_geo  score_kmb  \\\n",
       "18131                   372   122545        708        579        674   \n",
       "38512                   323   231561        599        605        503   \n",
       "27533                   171   181492        419        273        382   \n",
       "15177                   333   104951        601        602        365   \n",
       "16058                   611   109925        521        550        603   \n",
       "\n",
       "       score_kpu  score_kua  score_mat  score_ppu  score_sej  score_sos  \n",
       "18131        543        427        533        465        648        591  \n",
       "38512        605        544        535        414        485        511  \n",
       "27533        323        499        377        525        325        345  \n",
       "15177        537        444        492        412        444        354  \n",
       "16058        477        555        647        545        523        516  "
      ]
     },
     "execution_count": 4,
     "metadata": {},
     "output_type": "execute_result"
    }
   ],
   "source": [
    "# in here we have all the test score from humanities\n",
    "score_humanities = pd.read_csv('./files/score_humanities.csv')\n",
    "print(score_humanities.isna().sum()) #check some null \n",
    "score_humanities.sample(5)"
   ]
  },
  {
   "cell_type": "code",
   "execution_count": 5,
   "metadata": {},
   "outputs": [
    {
     "name": "stdout",
     "output_type": "stream",
     "text": [
      "Unnamed: 0              0\n",
      "id_first_major          0\n",
      "id_first_university     0\n",
      "id_second_major         0\n",
      "id_second_university    0\n",
      "id_user                 0\n",
      "score_bio               0\n",
      "score_fis               0\n",
      "score_kim               0\n",
      "score_kmb               0\n",
      "score_kpu               0\n",
      "score_kua               0\n",
      "score_mat               0\n",
      "score_ppu               0\n",
      "dtype: int64\n"
     ]
    },
    {
     "data": {
      "text/html": [
       "<div>\n",
       "<style scoped>\n",
       "    .dataframe tbody tr th:only-of-type {\n",
       "        vertical-align: middle;\n",
       "    }\n",
       "\n",
       "    .dataframe tbody tr th {\n",
       "        vertical-align: top;\n",
       "    }\n",
       "\n",
       "    .dataframe thead th {\n",
       "        text-align: right;\n",
       "    }\n",
       "</style>\n",
       "<table border=\"1\" class=\"dataframe\">\n",
       "  <thead>\n",
       "    <tr style=\"text-align: right;\">\n",
       "      <th></th>\n",
       "      <th>Unnamed: 0</th>\n",
       "      <th>id_first_major</th>\n",
       "      <th>id_first_university</th>\n",
       "      <th>id_second_major</th>\n",
       "      <th>id_second_university</th>\n",
       "      <th>id_user</th>\n",
       "      <th>score_bio</th>\n",
       "      <th>score_fis</th>\n",
       "      <th>score_kim</th>\n",
       "      <th>score_kmb</th>\n",
       "      <th>score_kpu</th>\n",
       "      <th>score_kua</th>\n",
       "      <th>score_mat</th>\n",
       "      <th>score_ppu</th>\n",
       "    </tr>\n",
       "  </thead>\n",
       "  <tbody>\n",
       "    <tr>\n",
       "      <th>32327</th>\n",
       "      <td>32327</td>\n",
       "      <td>3851046</td>\n",
       "      <td>385</td>\n",
       "      <td>3551221</td>\n",
       "      <td>355</td>\n",
       "      <td>135697</td>\n",
       "      <td>621</td>\n",
       "      <td>471</td>\n",
       "      <td>552</td>\n",
       "      <td>484</td>\n",
       "      <td>624</td>\n",
       "      <td>656</td>\n",
       "      <td>581</td>\n",
       "      <td>430</td>\n",
       "    </tr>\n",
       "    <tr>\n",
       "      <th>36916</th>\n",
       "      <td>36916</td>\n",
       "      <td>3561134</td>\n",
       "      <td>356</td>\n",
       "      <td>3561181</td>\n",
       "      <td>356</td>\n",
       "      <td>155359</td>\n",
       "      <td>641</td>\n",
       "      <td>682</td>\n",
       "      <td>690</td>\n",
       "      <td>616</td>\n",
       "      <td>623</td>\n",
       "      <td>692</td>\n",
       "      <td>452</td>\n",
       "      <td>746</td>\n",
       "    </tr>\n",
       "    <tr>\n",
       "      <th>12433</th>\n",
       "      <td>12433</td>\n",
       "      <td>1311032</td>\n",
       "      <td>131</td>\n",
       "      <td>1421027</td>\n",
       "      <td>142</td>\n",
       "      <td>60337</td>\n",
       "      <td>408</td>\n",
       "      <td>526</td>\n",
       "      <td>415</td>\n",
       "      <td>541</td>\n",
       "      <td>686</td>\n",
       "      <td>476</td>\n",
       "      <td>518</td>\n",
       "      <td>641</td>\n",
       "    </tr>\n",
       "    <tr>\n",
       "      <th>44182</th>\n",
       "      <td>44182</td>\n",
       "      <td>3611074</td>\n",
       "      <td>361</td>\n",
       "      <td>5311337</td>\n",
       "      <td>531</td>\n",
       "      <td>186707</td>\n",
       "      <td>579</td>\n",
       "      <td>473</td>\n",
       "      <td>492</td>\n",
       "      <td>614</td>\n",
       "      <td>609</td>\n",
       "      <td>595</td>\n",
       "      <td>459</td>\n",
       "      <td>535</td>\n",
       "    </tr>\n",
       "    <tr>\n",
       "      <th>31818</th>\n",
       "      <td>31818</td>\n",
       "      <td>7211015</td>\n",
       "      <td>721</td>\n",
       "      <td>1111181</td>\n",
       "      <td>111</td>\n",
       "      <td>133639</td>\n",
       "      <td>448</td>\n",
       "      <td>431</td>\n",
       "      <td>444</td>\n",
       "      <td>490</td>\n",
       "      <td>510</td>\n",
       "      <td>537</td>\n",
       "      <td>476</td>\n",
       "      <td>516</td>\n",
       "    </tr>\n",
       "  </tbody>\n",
       "</table>\n",
       "</div>"
      ],
      "text/plain": [
       "       Unnamed: 0  id_first_major  id_first_university  id_second_major  \\\n",
       "32327       32327         3851046                  385          3551221   \n",
       "36916       36916         3561134                  356          3561181   \n",
       "12433       12433         1311032                  131          1421027   \n",
       "44182       44182         3611074                  361          5311337   \n",
       "31818       31818         7211015                  721          1111181   \n",
       "\n",
       "       id_second_university  id_user  score_bio  score_fis  score_kim  \\\n",
       "32327                   355   135697        621        471        552   \n",
       "36916                   356   155359        641        682        690   \n",
       "12433                   142    60337        408        526        415   \n",
       "44182                   531   186707        579        473        492   \n",
       "31818                   111   133639        448        431        444   \n",
       "\n",
       "       score_kmb  score_kpu  score_kua  score_mat  score_ppu  \n",
       "32327        484        624        656        581        430  \n",
       "36916        616        623        692        452        746  \n",
       "12433        541        686        476        518        641  \n",
       "44182        614        609        595        459        535  \n",
       "31818        490        510        537        476        516  "
      ]
     },
     "execution_count": 5,
     "metadata": {},
     "output_type": "execute_result"
    }
   ],
   "source": [
    "# we have all the test score from science\n",
    "score_science = pd.read_csv('./files/score_science.csv')\n",
    "print(score_science.isna().sum()) #check some null \n",
    "score_science.sample(5)"
   ]
  },
  {
   "cell_type": "markdown",
   "metadata": {},
   "source": [
    "there is no missing data in any of these files, so we can continue to merge some files"
   ]
  },
  {
   "cell_type": "code",
   "execution_count": 6,
   "metadata": {},
   "outputs": [
    {
     "data": {
      "text/html": [
       "<div>\n",
       "<style scoped>\n",
       "    .dataframe tbody tr th:only-of-type {\n",
       "        vertical-align: middle;\n",
       "    }\n",
       "\n",
       "    .dataframe tbody tr th {\n",
       "        vertical-align: top;\n",
       "    }\n",
       "\n",
       "    .dataframe thead th {\n",
       "        text-align: right;\n",
       "    }\n",
       "</style>\n",
       "<table border=\"1\" class=\"dataframe\">\n",
       "  <thead>\n",
       "    <tr style=\"text-align: right;\">\n",
       "      <th></th>\n",
       "      <th>id_university</th>\n",
       "      <th>university_name</th>\n",
       "      <th>id_major</th>\n",
       "      <th>major_name</th>\n",
       "      <th>capacity</th>\n",
       "    </tr>\n",
       "  </thead>\n",
       "  <tbody>\n",
       "    <tr>\n",
       "      <th>0</th>\n",
       "      <td>111</td>\n",
       "      <td>UNIVERSITAS SYIAH KUALA</td>\n",
       "      <td>1111014</td>\n",
       "      <td>PENDIDIKAN DOKTER HEWAN</td>\n",
       "      <td>88</td>\n",
       "    </tr>\n",
       "    <tr>\n",
       "      <th>1</th>\n",
       "      <td>111</td>\n",
       "      <td>UNIVERSITAS SYIAH KUALA</td>\n",
       "      <td>1111022</td>\n",
       "      <td>TEKNIK SIPIL</td>\n",
       "      <td>64</td>\n",
       "    </tr>\n",
       "    <tr>\n",
       "      <th>2</th>\n",
       "      <td>111</td>\n",
       "      <td>UNIVERSITAS SYIAH KUALA</td>\n",
       "      <td>1111037</td>\n",
       "      <td>TEKNIK MESIN</td>\n",
       "      <td>48</td>\n",
       "    </tr>\n",
       "    <tr>\n",
       "      <th>3</th>\n",
       "      <td>111</td>\n",
       "      <td>UNIVERSITAS SYIAH KUALA</td>\n",
       "      <td>1111045</td>\n",
       "      <td>TEKNIK KIMIA</td>\n",
       "      <td>48</td>\n",
       "    </tr>\n",
       "    <tr>\n",
       "      <th>4</th>\n",
       "      <td>111</td>\n",
       "      <td>UNIVERSITAS SYIAH KUALA</td>\n",
       "      <td>1111053</td>\n",
       "      <td>ARSITEKTUR</td>\n",
       "      <td>48</td>\n",
       "    </tr>\n",
       "    <tr>\n",
       "      <th>...</th>\n",
       "      <td>...</td>\n",
       "      <td>...</td>\n",
       "      <td>...</td>\n",
       "      <td>...</td>\n",
       "      <td>...</td>\n",
       "    </tr>\n",
       "    <tr>\n",
       "      <th>3162</th>\n",
       "      <td>921</td>\n",
       "      <td>UNIVERSITAS PAPUA</td>\n",
       "      <td>9212011</td>\n",
       "      <td>EKONOMI PEMBANGUNAN</td>\n",
       "      <td>32</td>\n",
       "    </tr>\n",
       "    <tr>\n",
       "      <th>3163</th>\n",
       "      <td>921</td>\n",
       "      <td>UNIVERSITAS PAPUA</td>\n",
       "      <td>9212042</td>\n",
       "      <td>MANAJEMEN</td>\n",
       "      <td>32</td>\n",
       "    </tr>\n",
       "    <tr>\n",
       "      <th>3164</th>\n",
       "      <td>921</td>\n",
       "      <td>UNIVERSITAS PAPUA</td>\n",
       "      <td>9212057</td>\n",
       "      <td>AKUNTANSI</td>\n",
       "      <td>32</td>\n",
       "    </tr>\n",
       "    <tr>\n",
       "      <th>3165</th>\n",
       "      <td>921</td>\n",
       "      <td>UNIVERSITAS PAPUA</td>\n",
       "      <td>9212065</td>\n",
       "      <td>PENDIDIKAN BAHASA INDONESIA</td>\n",
       "      <td>16</td>\n",
       "    </tr>\n",
       "    <tr>\n",
       "      <th>3166</th>\n",
       "      <td>921</td>\n",
       "      <td>UNIVERSITAS PAPUA</td>\n",
       "      <td>9212073</td>\n",
       "      <td>PENDIDIKAN BAHASA INGGRIS</td>\n",
       "      <td>16</td>\n",
       "    </tr>\n",
       "  </tbody>\n",
       "</table>\n",
       "<p>3167 rows × 5 columns</p>\n",
       "</div>"
      ],
      "text/plain": [
       "      id_university          university_name  id_major  \\\n",
       "0               111  UNIVERSITAS SYIAH KUALA   1111014   \n",
       "1               111  UNIVERSITAS SYIAH KUALA   1111022   \n",
       "2               111  UNIVERSITAS SYIAH KUALA   1111037   \n",
       "3               111  UNIVERSITAS SYIAH KUALA   1111045   \n",
       "4               111  UNIVERSITAS SYIAH KUALA   1111053   \n",
       "...             ...                      ...       ...   \n",
       "3162            921        UNIVERSITAS PAPUA   9212011   \n",
       "3163            921        UNIVERSITAS PAPUA   9212042   \n",
       "3164            921        UNIVERSITAS PAPUA   9212057   \n",
       "3165            921        UNIVERSITAS PAPUA   9212065   \n",
       "3166            921        UNIVERSITAS PAPUA   9212073   \n",
       "\n",
       "                       major_name  capacity  \n",
       "0         PENDIDIKAN DOKTER HEWAN        88  \n",
       "1                    TEKNIK SIPIL        64  \n",
       "2                    TEKNIK MESIN        48  \n",
       "3                    TEKNIK KIMIA        48  \n",
       "4                      ARSITEKTUR        48  \n",
       "...                           ...       ...  \n",
       "3162          EKONOMI PEMBANGUNAN        32  \n",
       "3163                    MANAJEMEN        32  \n",
       "3164                    AKUNTANSI        32  \n",
       "3165  PENDIDIKAN BAHASA INDONESIA        16  \n",
       "3166    PENDIDIKAN BAHASA INGGRIS        16  \n",
       "\n",
       "[3167 rows x 5 columns]"
      ]
     },
     "execution_count": 6,
     "metadata": {},
     "output_type": "execute_result"
    }
   ],
   "source": [
    "major_univ = pd.merge(left=universities[['id_university','university_name']],right=majors[['id_major','major_name','id_university','capacity']],on='id_university')\n",
    "major_univ # we have merged our data, so it will be easier to be read"
   ]
  },
  {
   "cell_type": "markdown",
   "metadata": {},
   "source": [
    "for science data"
   ]
  },
  {
   "cell_type": "code",
   "execution_count": 7,
   "metadata": {},
   "outputs": [],
   "source": [
    "df_science = pd.merge(left=score_science,right=major_univ,left_on=['id_first_major','id_first_university'],right_on=['id_major','id_university'],suffixes=('_left','_right')) # merge first major and first university\n",
    "df_science = df_science.rename(columns={'university_name':'first_univ','major_name':'first_major','capacity':'first_capacity'}).drop(['id_university','id_major'],axis=1) # then rename the columns name that have been merged and also drop the id\n",
    "df_science = pd.merge(left=df_science,right=major_univ,left_on=['id_second_major','id_second_university'],right_on=['id_major','id_university'],suffixes=('_left','_right')) #  now second major and second university\n",
    "df_science = df_science.rename(columns={'university_name':'second_univ','major_name':'second_major','capacity':'second_capacity'}).drop(['id_university','id_major','Unnamed: 0','id_first_major','id_first_university','id_second_major','id_second_university','id_user'],axis=1) # same like before"
   ]
  },
  {
   "cell_type": "code",
   "execution_count": 8,
   "metadata": {},
   "outputs": [
    {
     "data": {
      "text/html": [
       "<div>\n",
       "<style scoped>\n",
       "    .dataframe tbody tr th:only-of-type {\n",
       "        vertical-align: middle;\n",
       "    }\n",
       "\n",
       "    .dataframe tbody tr th {\n",
       "        vertical-align: top;\n",
       "    }\n",
       "\n",
       "    .dataframe thead th {\n",
       "        text-align: right;\n",
       "    }\n",
       "</style>\n",
       "<table border=\"1\" class=\"dataframe\">\n",
       "  <thead>\n",
       "    <tr style=\"text-align: right;\">\n",
       "      <th></th>\n",
       "      <th>score_bio</th>\n",
       "      <th>score_fis</th>\n",
       "      <th>score_kim</th>\n",
       "      <th>score_kmb</th>\n",
       "      <th>score_kpu</th>\n",
       "      <th>score_kua</th>\n",
       "      <th>score_mat</th>\n",
       "      <th>score_ppu</th>\n",
       "      <th>first_univ</th>\n",
       "      <th>first_major</th>\n",
       "      <th>first_capacity</th>\n",
       "      <th>second_univ</th>\n",
       "      <th>second_major</th>\n",
       "      <th>second_capacity</th>\n",
       "    </tr>\n",
       "  </thead>\n",
       "  <tbody>\n",
       "    <tr>\n",
       "      <th>0</th>\n",
       "      <td>400</td>\n",
       "      <td>400</td>\n",
       "      <td>400</td>\n",
       "      <td>400</td>\n",
       "      <td>400</td>\n",
       "      <td>400</td>\n",
       "      <td>400</td>\n",
       "      <td>400</td>\n",
       "      <td>INSTITUT TEKNOLOGI BANDUNG</td>\n",
       "      <td>SEKOLAH ILMU &amp; TEKNO. HAYATI - PROG. SAINS</td>\n",
       "      <td>64</td>\n",
       "      <td>UNIVERSITAS PADJADJARAN</td>\n",
       "      <td>PSIKOLOGI</td>\n",
       "      <td>80</td>\n",
       "    </tr>\n",
       "    <tr>\n",
       "      <th>1</th>\n",
       "      <td>704</td>\n",
       "      <td>447</td>\n",
       "      <td>630</td>\n",
       "      <td>561</td>\n",
       "      <td>518</td>\n",
       "      <td>541</td>\n",
       "      <td>585</td>\n",
       "      <td>599</td>\n",
       "      <td>INSTITUT TEKNOLOGI BANDUNG</td>\n",
       "      <td>SEKOLAH ILMU &amp; TEKNO. HAYATI - PROG. SAINS</td>\n",
       "      <td>64</td>\n",
       "      <td>UNIVERSITAS PADJADJARAN</td>\n",
       "      <td>PSIKOLOGI</td>\n",
       "      <td>80</td>\n",
       "    </tr>\n",
       "    <tr>\n",
       "      <th>2</th>\n",
       "      <td>715</td>\n",
       "      <td>532</td>\n",
       "      <td>633</td>\n",
       "      <td>579</td>\n",
       "      <td>732</td>\n",
       "      <td>804</td>\n",
       "      <td>402</td>\n",
       "      <td>608</td>\n",
       "      <td>INSTITUT TEKNOLOGI BANDUNG</td>\n",
       "      <td>SEKOLAH ILMU &amp; TEKNO. HAYATI - PROG. SAINS</td>\n",
       "      <td>64</td>\n",
       "      <td>UNIVERSITAS PADJADJARAN</td>\n",
       "      <td>PSIKOLOGI</td>\n",
       "      <td>80</td>\n",
       "    </tr>\n",
       "    <tr>\n",
       "      <th>3</th>\n",
       "      <td>446</td>\n",
       "      <td>511</td>\n",
       "      <td>400</td>\n",
       "      <td>548</td>\n",
       "      <td>679</td>\n",
       "      <td>567</td>\n",
       "      <td>513</td>\n",
       "      <td>538</td>\n",
       "      <td>INSTITUT TEKNOLOGI BANDUNG</td>\n",
       "      <td>SEKOLAH ILMU &amp; TEKNO. HAYATI - PROG. SAINS</td>\n",
       "      <td>64</td>\n",
       "      <td>UNIVERSITAS PADJADJARAN</td>\n",
       "      <td>PSIKOLOGI</td>\n",
       "      <td>80</td>\n",
       "    </tr>\n",
       "    <tr>\n",
       "      <th>4</th>\n",
       "      <td>489</td>\n",
       "      <td>533</td>\n",
       "      <td>367</td>\n",
       "      <td>481</td>\n",
       "      <td>487</td>\n",
       "      <td>544</td>\n",
       "      <td>499</td>\n",
       "      <td>469</td>\n",
       "      <td>INSTITUT TEKNOLOGI BANDUNG</td>\n",
       "      <td>SEKOLAH ILMU &amp; TEKNO. HAYATI - PROG. SAINS</td>\n",
       "      <td>64</td>\n",
       "      <td>UNIVERSITAS PADJADJARAN</td>\n",
       "      <td>PSIKOLOGI</td>\n",
       "      <td>80</td>\n",
       "    </tr>\n",
       "    <tr>\n",
       "      <th>...</th>\n",
       "      <td>...</td>\n",
       "      <td>...</td>\n",
       "      <td>...</td>\n",
       "      <td>...</td>\n",
       "      <td>...</td>\n",
       "      <td>...</td>\n",
       "      <td>...</td>\n",
       "      <td>...</td>\n",
       "      <td>...</td>\n",
       "      <td>...</td>\n",
       "      <td>...</td>\n",
       "      <td>...</td>\n",
       "      <td>...</td>\n",
       "      <td>...</td>\n",
       "    </tr>\n",
       "    <tr>\n",
       "      <th>86223</th>\n",
       "      <td>336</td>\n",
       "      <td>466</td>\n",
       "      <td>476</td>\n",
       "      <td>511</td>\n",
       "      <td>378</td>\n",
       "      <td>393</td>\n",
       "      <td>589</td>\n",
       "      <td>470</td>\n",
       "      <td>UNIVERSITAS NEGERI GORONTALO</td>\n",
       "      <td>PENDIDIKAN GEOGRAFI</td>\n",
       "      <td>54</td>\n",
       "      <td>UNIVERSITAS NEGERI GORONTALO</td>\n",
       "      <td>PENDIDIKAN ILMU PENGETAHUAN ALAM</td>\n",
       "      <td>27</td>\n",
       "    </tr>\n",
       "    <tr>\n",
       "      <th>86224</th>\n",
       "      <td>520</td>\n",
       "      <td>483</td>\n",
       "      <td>654</td>\n",
       "      <td>545</td>\n",
       "      <td>606</td>\n",
       "      <td>722</td>\n",
       "      <td>425</td>\n",
       "      <td>495</td>\n",
       "      <td>UNIVERSITAS BORNEO TARAKAN</td>\n",
       "      <td>AKUAKULTUR</td>\n",
       "      <td>48</td>\n",
       "      <td>UNIVERSITAS BORNEO TARAKAN</td>\n",
       "      <td>AGRIBISNIS</td>\n",
       "      <td>48</td>\n",
       "    </tr>\n",
       "    <tr>\n",
       "      <th>86225</th>\n",
       "      <td>435</td>\n",
       "      <td>413</td>\n",
       "      <td>441</td>\n",
       "      <td>408</td>\n",
       "      <td>516</td>\n",
       "      <td>526</td>\n",
       "      <td>564</td>\n",
       "      <td>390</td>\n",
       "      <td>UNIVERSITAS SYIAH KUALA</td>\n",
       "      <td>AGROTEKNOLOGI (PSDKU GAYO LUES)</td>\n",
       "      <td>20</td>\n",
       "      <td>UNIVERSITAS SYIAH KUALA</td>\n",
       "      <td>KEHUTANAN (PSDKU GAYO LUES)</td>\n",
       "      <td>16</td>\n",
       "    </tr>\n",
       "    <tr>\n",
       "      <th>86226</th>\n",
       "      <td>482</td>\n",
       "      <td>516</td>\n",
       "      <td>453</td>\n",
       "      <td>546</td>\n",
       "      <td>569</td>\n",
       "      <td>597</td>\n",
       "      <td>587</td>\n",
       "      <td>633</td>\n",
       "      <td>UNIVERSITAS PALANGKARAYA</td>\n",
       "      <td>KIMIA</td>\n",
       "      <td>30</td>\n",
       "      <td>UNIVERSITAS PALANGKARAYA</td>\n",
       "      <td>FISIKA</td>\n",
       "      <td>30</td>\n",
       "    </tr>\n",
       "    <tr>\n",
       "      <th>86227</th>\n",
       "      <td>466</td>\n",
       "      <td>494</td>\n",
       "      <td>562</td>\n",
       "      <td>593</td>\n",
       "      <td>591</td>\n",
       "      <td>547</td>\n",
       "      <td>552</td>\n",
       "      <td>543</td>\n",
       "      <td>UNIVERSITAS NUSA CENDANA</td>\n",
       "      <td>PEND. KIMIA</td>\n",
       "      <td>68</td>\n",
       "      <td>UNIVERSITAS NUSA CENDANA</td>\n",
       "      <td>PEND. TEKNIK ELEKTRO</td>\n",
       "      <td>36</td>\n",
       "    </tr>\n",
       "  </tbody>\n",
       "</table>\n",
       "<p>86228 rows × 14 columns</p>\n",
       "</div>"
      ],
      "text/plain": [
       "       score_bio  score_fis  score_kim  score_kmb  score_kpu  score_kua  \\\n",
       "0            400        400        400        400        400        400   \n",
       "1            704        447        630        561        518        541   \n",
       "2            715        532        633        579        732        804   \n",
       "3            446        511        400        548        679        567   \n",
       "4            489        533        367        481        487        544   \n",
       "...          ...        ...        ...        ...        ...        ...   \n",
       "86223        336        466        476        511        378        393   \n",
       "86224        520        483        654        545        606        722   \n",
       "86225        435        413        441        408        516        526   \n",
       "86226        482        516        453        546        569        597   \n",
       "86227        466        494        562        593        591        547   \n",
       "\n",
       "       score_mat  score_ppu                    first_univ  \\\n",
       "0            400        400    INSTITUT TEKNOLOGI BANDUNG   \n",
       "1            585        599    INSTITUT TEKNOLOGI BANDUNG   \n",
       "2            402        608    INSTITUT TEKNOLOGI BANDUNG   \n",
       "3            513        538    INSTITUT TEKNOLOGI BANDUNG   \n",
       "4            499        469    INSTITUT TEKNOLOGI BANDUNG   \n",
       "...          ...        ...                           ...   \n",
       "86223        589        470  UNIVERSITAS NEGERI GORONTALO   \n",
       "86224        425        495    UNIVERSITAS BORNEO TARAKAN   \n",
       "86225        564        390       UNIVERSITAS SYIAH KUALA   \n",
       "86226        587        633      UNIVERSITAS PALANGKARAYA   \n",
       "86227        552        543      UNIVERSITAS NUSA CENDANA   \n",
       "\n",
       "                                      first_major  first_capacity  \\\n",
       "0      SEKOLAH ILMU & TEKNO. HAYATI - PROG. SAINS              64   \n",
       "1      SEKOLAH ILMU & TEKNO. HAYATI - PROG. SAINS              64   \n",
       "2      SEKOLAH ILMU & TEKNO. HAYATI - PROG. SAINS              64   \n",
       "3      SEKOLAH ILMU & TEKNO. HAYATI - PROG. SAINS              64   \n",
       "4      SEKOLAH ILMU & TEKNO. HAYATI - PROG. SAINS              64   \n",
       "...                                           ...             ...   \n",
       "86223                         PENDIDIKAN GEOGRAFI              54   \n",
       "86224                                  AKUAKULTUR              48   \n",
       "86225             AGROTEKNOLOGI (PSDKU GAYO LUES)              20   \n",
       "86226                                       KIMIA              30   \n",
       "86227                                 PEND. KIMIA              68   \n",
       "\n",
       "                        second_univ                      second_major  \\\n",
       "0           UNIVERSITAS PADJADJARAN                         PSIKOLOGI   \n",
       "1           UNIVERSITAS PADJADJARAN                         PSIKOLOGI   \n",
       "2           UNIVERSITAS PADJADJARAN                         PSIKOLOGI   \n",
       "3           UNIVERSITAS PADJADJARAN                         PSIKOLOGI   \n",
       "4           UNIVERSITAS PADJADJARAN                         PSIKOLOGI   \n",
       "...                             ...                               ...   \n",
       "86223  UNIVERSITAS NEGERI GORONTALO  PENDIDIKAN ILMU PENGETAHUAN ALAM   \n",
       "86224    UNIVERSITAS BORNEO TARAKAN                        AGRIBISNIS   \n",
       "86225       UNIVERSITAS SYIAH KUALA       KEHUTANAN (PSDKU GAYO LUES)   \n",
       "86226      UNIVERSITAS PALANGKARAYA                            FISIKA   \n",
       "86227      UNIVERSITAS NUSA CENDANA              PEND. TEKNIK ELEKTRO   \n",
       "\n",
       "       second_capacity  \n",
       "0                   80  \n",
       "1                   80  \n",
       "2                   80  \n",
       "3                   80  \n",
       "4                   80  \n",
       "...                ...  \n",
       "86223               27  \n",
       "86224               48  \n",
       "86225               16  \n",
       "86226               30  \n",
       "86227               36  \n",
       "\n",
       "[86228 rows x 14 columns]"
      ]
     },
     "execution_count": 8,
     "metadata": {},
     "output_type": "execute_result"
    }
   ],
   "source": [
    "df_science # now we can just use a single file to get all of the information"
   ]
  },
  {
   "cell_type": "code",
   "execution_count": 9,
   "metadata": {},
   "outputs": [],
   "source": [
    "# because the capacity of utbk is 40% from the maximum capacity so we need to change the capacity value\n",
    "df_science['first_capacity'] = df_science['first_capacity'].apply(lambda x: int(x*40/100))\n",
    "df_science['second_capacity'] = df_science['second_capacity'].apply(lambda x: int(x*40/100))"
   ]
  },
  {
   "cell_type": "code",
   "execution_count": 10,
   "metadata": {},
   "outputs": [],
   "source": [
    "df_science['specialized_score']=df_science[['score_bio','score_fis','score_kim','score_mat']].mean(axis=1) #get avg score \n",
    "df_science['general_score'] = df_science[['score_kmb','score_kpu','score_kua','score_ppu']].mean(axis=1)  #get avg score\n",
    "df_science['average_score'] = df_science.iloc[:,:8].mean(axis=1) # avg score"
   ]
  },
  {
   "cell_type": "code",
   "execution_count": 11,
   "metadata": {},
   "outputs": [
    {
     "data": {
      "text/plain": [
       "array(['score_bio', 'score_fis', 'score_kim', 'score_kmb', 'score_kpu',\n",
       "       'score_kua', 'score_mat', 'score_ppu', 'first_univ', 'first_major',\n",
       "       'first_capacity', 'second_univ', 'second_major', 'second_capacity',\n",
       "       'specialized_score', 'general_score', 'average_score'],\n",
       "      dtype=object)"
      ]
     },
     "execution_count": 11,
     "metadata": {},
     "output_type": "execute_result"
    }
   ],
   "source": [
    "df_science.columns.values"
   ]
  },
  {
   "cell_type": "code",
   "execution_count": 12,
   "metadata": {},
   "outputs": [],
   "source": [
    "df_science = df_science[['score_bio', 'score_fis', 'score_kim','score_mat', 'score_kmb', 'score_kpu','score_kua', 'score_ppu','specialized_score','general_score','average_score','first_univ', 'first_major','first_capacity', 'second_univ', 'second_major', 'second_capacity']] #rearrange columns index "
   ]
  },
  {
   "cell_type": "code",
   "execution_count": 13,
   "metadata": {},
   "outputs": [
    {
     "data": {
      "text/html": [
       "<div>\n",
       "<style scoped>\n",
       "    .dataframe tbody tr th:only-of-type {\n",
       "        vertical-align: middle;\n",
       "    }\n",
       "\n",
       "    .dataframe tbody tr th {\n",
       "        vertical-align: top;\n",
       "    }\n",
       "\n",
       "    .dataframe thead th {\n",
       "        text-align: right;\n",
       "    }\n",
       "</style>\n",
       "<table border=\"1\" class=\"dataframe\">\n",
       "  <thead>\n",
       "    <tr style=\"text-align: right;\">\n",
       "      <th></th>\n",
       "      <th>score_bio</th>\n",
       "      <th>score_fis</th>\n",
       "      <th>score_kim</th>\n",
       "      <th>score_mat</th>\n",
       "      <th>score_kmb</th>\n",
       "      <th>score_kpu</th>\n",
       "      <th>score_kua</th>\n",
       "      <th>score_ppu</th>\n",
       "      <th>specialized_score</th>\n",
       "      <th>general_score</th>\n",
       "      <th>average_score</th>\n",
       "      <th>first_univ</th>\n",
       "      <th>first_major</th>\n",
       "      <th>first_capacity</th>\n",
       "      <th>second_univ</th>\n",
       "      <th>second_major</th>\n",
       "      <th>second_capacity</th>\n",
       "    </tr>\n",
       "  </thead>\n",
       "  <tbody>\n",
       "    <tr>\n",
       "      <th>0</th>\n",
       "      <td>400</td>\n",
       "      <td>400</td>\n",
       "      <td>400</td>\n",
       "      <td>400</td>\n",
       "      <td>400</td>\n",
       "      <td>400</td>\n",
       "      <td>400</td>\n",
       "      <td>400</td>\n",
       "      <td>400.00</td>\n",
       "      <td>400.00</td>\n",
       "      <td>400.000</td>\n",
       "      <td>INSTITUT TEKNOLOGI BANDUNG</td>\n",
       "      <td>SEKOLAH ILMU &amp; TEKNO. HAYATI - PROG. SAINS</td>\n",
       "      <td>25</td>\n",
       "      <td>UNIVERSITAS PADJADJARAN</td>\n",
       "      <td>PSIKOLOGI</td>\n",
       "      <td>32</td>\n",
       "    </tr>\n",
       "    <tr>\n",
       "      <th>1</th>\n",
       "      <td>704</td>\n",
       "      <td>447</td>\n",
       "      <td>630</td>\n",
       "      <td>585</td>\n",
       "      <td>561</td>\n",
       "      <td>518</td>\n",
       "      <td>541</td>\n",
       "      <td>599</td>\n",
       "      <td>591.50</td>\n",
       "      <td>554.75</td>\n",
       "      <td>573.125</td>\n",
       "      <td>INSTITUT TEKNOLOGI BANDUNG</td>\n",
       "      <td>SEKOLAH ILMU &amp; TEKNO. HAYATI - PROG. SAINS</td>\n",
       "      <td>25</td>\n",
       "      <td>UNIVERSITAS PADJADJARAN</td>\n",
       "      <td>PSIKOLOGI</td>\n",
       "      <td>32</td>\n",
       "    </tr>\n",
       "    <tr>\n",
       "      <th>2</th>\n",
       "      <td>715</td>\n",
       "      <td>532</td>\n",
       "      <td>633</td>\n",
       "      <td>402</td>\n",
       "      <td>579</td>\n",
       "      <td>732</td>\n",
       "      <td>804</td>\n",
       "      <td>608</td>\n",
       "      <td>570.50</td>\n",
       "      <td>680.75</td>\n",
       "      <td>625.625</td>\n",
       "      <td>INSTITUT TEKNOLOGI BANDUNG</td>\n",
       "      <td>SEKOLAH ILMU &amp; TEKNO. HAYATI - PROG. SAINS</td>\n",
       "      <td>25</td>\n",
       "      <td>UNIVERSITAS PADJADJARAN</td>\n",
       "      <td>PSIKOLOGI</td>\n",
       "      <td>32</td>\n",
       "    </tr>\n",
       "    <tr>\n",
       "      <th>3</th>\n",
       "      <td>446</td>\n",
       "      <td>511</td>\n",
       "      <td>400</td>\n",
       "      <td>513</td>\n",
       "      <td>548</td>\n",
       "      <td>679</td>\n",
       "      <td>567</td>\n",
       "      <td>538</td>\n",
       "      <td>467.50</td>\n",
       "      <td>583.00</td>\n",
       "      <td>525.250</td>\n",
       "      <td>INSTITUT TEKNOLOGI BANDUNG</td>\n",
       "      <td>SEKOLAH ILMU &amp; TEKNO. HAYATI - PROG. SAINS</td>\n",
       "      <td>25</td>\n",
       "      <td>UNIVERSITAS PADJADJARAN</td>\n",
       "      <td>PSIKOLOGI</td>\n",
       "      <td>32</td>\n",
       "    </tr>\n",
       "    <tr>\n",
       "      <th>4</th>\n",
       "      <td>489</td>\n",
       "      <td>533</td>\n",
       "      <td>367</td>\n",
       "      <td>499</td>\n",
       "      <td>481</td>\n",
       "      <td>487</td>\n",
       "      <td>544</td>\n",
       "      <td>469</td>\n",
       "      <td>472.00</td>\n",
       "      <td>495.25</td>\n",
       "      <td>483.625</td>\n",
       "      <td>INSTITUT TEKNOLOGI BANDUNG</td>\n",
       "      <td>SEKOLAH ILMU &amp; TEKNO. HAYATI - PROG. SAINS</td>\n",
       "      <td>25</td>\n",
       "      <td>UNIVERSITAS PADJADJARAN</td>\n",
       "      <td>PSIKOLOGI</td>\n",
       "      <td>32</td>\n",
       "    </tr>\n",
       "    <tr>\n",
       "      <th>...</th>\n",
       "      <td>...</td>\n",
       "      <td>...</td>\n",
       "      <td>...</td>\n",
       "      <td>...</td>\n",
       "      <td>...</td>\n",
       "      <td>...</td>\n",
       "      <td>...</td>\n",
       "      <td>...</td>\n",
       "      <td>...</td>\n",
       "      <td>...</td>\n",
       "      <td>...</td>\n",
       "      <td>...</td>\n",
       "      <td>...</td>\n",
       "      <td>...</td>\n",
       "      <td>...</td>\n",
       "      <td>...</td>\n",
       "      <td>...</td>\n",
       "    </tr>\n",
       "    <tr>\n",
       "      <th>86223</th>\n",
       "      <td>336</td>\n",
       "      <td>466</td>\n",
       "      <td>476</td>\n",
       "      <td>589</td>\n",
       "      <td>511</td>\n",
       "      <td>378</td>\n",
       "      <td>393</td>\n",
       "      <td>470</td>\n",
       "      <td>466.75</td>\n",
       "      <td>438.00</td>\n",
       "      <td>452.375</td>\n",
       "      <td>UNIVERSITAS NEGERI GORONTALO</td>\n",
       "      <td>PENDIDIKAN GEOGRAFI</td>\n",
       "      <td>21</td>\n",
       "      <td>UNIVERSITAS NEGERI GORONTALO</td>\n",
       "      <td>PENDIDIKAN ILMU PENGETAHUAN ALAM</td>\n",
       "      <td>10</td>\n",
       "    </tr>\n",
       "    <tr>\n",
       "      <th>86224</th>\n",
       "      <td>520</td>\n",
       "      <td>483</td>\n",
       "      <td>654</td>\n",
       "      <td>425</td>\n",
       "      <td>545</td>\n",
       "      <td>606</td>\n",
       "      <td>722</td>\n",
       "      <td>495</td>\n",
       "      <td>520.50</td>\n",
       "      <td>592.00</td>\n",
       "      <td>556.250</td>\n",
       "      <td>UNIVERSITAS BORNEO TARAKAN</td>\n",
       "      <td>AKUAKULTUR</td>\n",
       "      <td>19</td>\n",
       "      <td>UNIVERSITAS BORNEO TARAKAN</td>\n",
       "      <td>AGRIBISNIS</td>\n",
       "      <td>19</td>\n",
       "    </tr>\n",
       "    <tr>\n",
       "      <th>86225</th>\n",
       "      <td>435</td>\n",
       "      <td>413</td>\n",
       "      <td>441</td>\n",
       "      <td>564</td>\n",
       "      <td>408</td>\n",
       "      <td>516</td>\n",
       "      <td>526</td>\n",
       "      <td>390</td>\n",
       "      <td>463.25</td>\n",
       "      <td>460.00</td>\n",
       "      <td>461.625</td>\n",
       "      <td>UNIVERSITAS SYIAH KUALA</td>\n",
       "      <td>AGROTEKNOLOGI (PSDKU GAYO LUES)</td>\n",
       "      <td>8</td>\n",
       "      <td>UNIVERSITAS SYIAH KUALA</td>\n",
       "      <td>KEHUTANAN (PSDKU GAYO LUES)</td>\n",
       "      <td>6</td>\n",
       "    </tr>\n",
       "    <tr>\n",
       "      <th>86226</th>\n",
       "      <td>482</td>\n",
       "      <td>516</td>\n",
       "      <td>453</td>\n",
       "      <td>587</td>\n",
       "      <td>546</td>\n",
       "      <td>569</td>\n",
       "      <td>597</td>\n",
       "      <td>633</td>\n",
       "      <td>509.50</td>\n",
       "      <td>586.25</td>\n",
       "      <td>547.875</td>\n",
       "      <td>UNIVERSITAS PALANGKARAYA</td>\n",
       "      <td>KIMIA</td>\n",
       "      <td>12</td>\n",
       "      <td>UNIVERSITAS PALANGKARAYA</td>\n",
       "      <td>FISIKA</td>\n",
       "      <td>12</td>\n",
       "    </tr>\n",
       "    <tr>\n",
       "      <th>86227</th>\n",
       "      <td>466</td>\n",
       "      <td>494</td>\n",
       "      <td>562</td>\n",
       "      <td>552</td>\n",
       "      <td>593</td>\n",
       "      <td>591</td>\n",
       "      <td>547</td>\n",
       "      <td>543</td>\n",
       "      <td>518.50</td>\n",
       "      <td>568.50</td>\n",
       "      <td>543.500</td>\n",
       "      <td>UNIVERSITAS NUSA CENDANA</td>\n",
       "      <td>PEND. KIMIA</td>\n",
       "      <td>27</td>\n",
       "      <td>UNIVERSITAS NUSA CENDANA</td>\n",
       "      <td>PEND. TEKNIK ELEKTRO</td>\n",
       "      <td>14</td>\n",
       "    </tr>\n",
       "  </tbody>\n",
       "</table>\n",
       "<p>86228 rows × 17 columns</p>\n",
       "</div>"
      ],
      "text/plain": [
       "       score_bio  score_fis  score_kim  score_mat  score_kmb  score_kpu  \\\n",
       "0            400        400        400        400        400        400   \n",
       "1            704        447        630        585        561        518   \n",
       "2            715        532        633        402        579        732   \n",
       "3            446        511        400        513        548        679   \n",
       "4            489        533        367        499        481        487   \n",
       "...          ...        ...        ...        ...        ...        ...   \n",
       "86223        336        466        476        589        511        378   \n",
       "86224        520        483        654        425        545        606   \n",
       "86225        435        413        441        564        408        516   \n",
       "86226        482        516        453        587        546        569   \n",
       "86227        466        494        562        552        593        591   \n",
       "\n",
       "       score_kua  score_ppu  specialized_score  general_score  average_score  \\\n",
       "0            400        400             400.00         400.00        400.000   \n",
       "1            541        599             591.50         554.75        573.125   \n",
       "2            804        608             570.50         680.75        625.625   \n",
       "3            567        538             467.50         583.00        525.250   \n",
       "4            544        469             472.00         495.25        483.625   \n",
       "...          ...        ...                ...            ...            ...   \n",
       "86223        393        470             466.75         438.00        452.375   \n",
       "86224        722        495             520.50         592.00        556.250   \n",
       "86225        526        390             463.25         460.00        461.625   \n",
       "86226        597        633             509.50         586.25        547.875   \n",
       "86227        547        543             518.50         568.50        543.500   \n",
       "\n",
       "                         first_univ  \\\n",
       "0        INSTITUT TEKNOLOGI BANDUNG   \n",
       "1        INSTITUT TEKNOLOGI BANDUNG   \n",
       "2        INSTITUT TEKNOLOGI BANDUNG   \n",
       "3        INSTITUT TEKNOLOGI BANDUNG   \n",
       "4        INSTITUT TEKNOLOGI BANDUNG   \n",
       "...                             ...   \n",
       "86223  UNIVERSITAS NEGERI GORONTALO   \n",
       "86224    UNIVERSITAS BORNEO TARAKAN   \n",
       "86225       UNIVERSITAS SYIAH KUALA   \n",
       "86226      UNIVERSITAS PALANGKARAYA   \n",
       "86227      UNIVERSITAS NUSA CENDANA   \n",
       "\n",
       "                                      first_major  first_capacity  \\\n",
       "0      SEKOLAH ILMU & TEKNO. HAYATI - PROG. SAINS              25   \n",
       "1      SEKOLAH ILMU & TEKNO. HAYATI - PROG. SAINS              25   \n",
       "2      SEKOLAH ILMU & TEKNO. HAYATI - PROG. SAINS              25   \n",
       "3      SEKOLAH ILMU & TEKNO. HAYATI - PROG. SAINS              25   \n",
       "4      SEKOLAH ILMU & TEKNO. HAYATI - PROG. SAINS              25   \n",
       "...                                           ...             ...   \n",
       "86223                         PENDIDIKAN GEOGRAFI              21   \n",
       "86224                                  AKUAKULTUR              19   \n",
       "86225             AGROTEKNOLOGI (PSDKU GAYO LUES)               8   \n",
       "86226                                       KIMIA              12   \n",
       "86227                                 PEND. KIMIA              27   \n",
       "\n",
       "                        second_univ                      second_major  \\\n",
       "0           UNIVERSITAS PADJADJARAN                         PSIKOLOGI   \n",
       "1           UNIVERSITAS PADJADJARAN                         PSIKOLOGI   \n",
       "2           UNIVERSITAS PADJADJARAN                         PSIKOLOGI   \n",
       "3           UNIVERSITAS PADJADJARAN                         PSIKOLOGI   \n",
       "4           UNIVERSITAS PADJADJARAN                         PSIKOLOGI   \n",
       "...                             ...                               ...   \n",
       "86223  UNIVERSITAS NEGERI GORONTALO  PENDIDIKAN ILMU PENGETAHUAN ALAM   \n",
       "86224    UNIVERSITAS BORNEO TARAKAN                        AGRIBISNIS   \n",
       "86225       UNIVERSITAS SYIAH KUALA       KEHUTANAN (PSDKU GAYO LUES)   \n",
       "86226      UNIVERSITAS PALANGKARAYA                            FISIKA   \n",
       "86227      UNIVERSITAS NUSA CENDANA              PEND. TEKNIK ELEKTRO   \n",
       "\n",
       "       second_capacity  \n",
       "0                   32  \n",
       "1                   32  \n",
       "2                   32  \n",
       "3                   32  \n",
       "4                   32  \n",
       "...                ...  \n",
       "86223               10  \n",
       "86224               19  \n",
       "86225                6  \n",
       "86226               12  \n",
       "86227               14  \n",
       "\n",
       "[86228 rows x 17 columns]"
      ]
     },
     "execution_count": 13,
     "metadata": {},
     "output_type": "execute_result"
    }
   ],
   "source": [
    "df_science"
   ]
  },
  {
   "cell_type": "markdown",
   "metadata": {},
   "source": [
    "for humanities data"
   ]
  },
  {
   "cell_type": "code",
   "execution_count": 14,
   "metadata": {},
   "outputs": [],
   "source": [
    "df_humanites = pd.merge(left=score_humanities,right=major_univ,left_on=['id_first_major','id_first_university'],right_on=['id_major','id_university'],suffixes=('_left','_right')) # merge first major and first university\n",
    "df_humanites = df_humanites.rename(columns={'university_name':'first_univ','major_name':'first_major','capacity':'first_capacity'}).drop(['id_university','id_major'],axis=1) # then rename the columns name that have been merged and also drop the id\n",
    "df_humanites = pd.merge(left=df_humanites,right=major_univ,left_on=['id_second_major','id_second_university'],right_on=['id_major','id_university'],suffixes=('_left','_right')) #  now second major and second university\n",
    "df_humanites = df_humanites.rename(columns={'university_name':'second_univ','major_name':'second_major','capacity':'second_capacity'}).drop(['id_university','id_major','Unnamed: 0','id_first_major','id_first_university','id_second_major','id_second_university','id_user'],axis=1) # same like before"
   ]
  },
  {
   "cell_type": "code",
   "execution_count": 15,
   "metadata": {},
   "outputs": [
    {
     "data": {
      "text/html": [
       "<div>\n",
       "<style scoped>\n",
       "    .dataframe tbody tr th:only-of-type {\n",
       "        vertical-align: middle;\n",
       "    }\n",
       "\n",
       "    .dataframe tbody tr th {\n",
       "        vertical-align: top;\n",
       "    }\n",
       "\n",
       "    .dataframe thead th {\n",
       "        text-align: right;\n",
       "    }\n",
       "</style>\n",
       "<table border=\"1\" class=\"dataframe\">\n",
       "  <thead>\n",
       "    <tr style=\"text-align: right;\">\n",
       "      <th></th>\n",
       "      <th>score_eko</th>\n",
       "      <th>score_geo</th>\n",
       "      <th>score_kmb</th>\n",
       "      <th>score_kpu</th>\n",
       "      <th>score_kua</th>\n",
       "      <th>score_mat</th>\n",
       "      <th>score_ppu</th>\n",
       "      <th>score_sej</th>\n",
       "      <th>score_sos</th>\n",
       "      <th>first_univ</th>\n",
       "      <th>first_major</th>\n",
       "      <th>first_capacity</th>\n",
       "      <th>second_univ</th>\n",
       "      <th>second_major</th>\n",
       "      <th>second_capacity</th>\n",
       "    </tr>\n",
       "  </thead>\n",
       "  <tbody>\n",
       "    <tr>\n",
       "      <th>0</th>\n",
       "      <td>778</td>\n",
       "      <td>486</td>\n",
       "      <td>679</td>\n",
       "      <td>594</td>\n",
       "      <td>643</td>\n",
       "      <td>686</td>\n",
       "      <td>559</td>\n",
       "      <td>392</td>\n",
       "      <td>676</td>\n",
       "      <td>INSTITUT TEKNOLOGI BANDUNG</td>\n",
       "      <td>FAKULTAS SENIRUPA DAN DESAIN (FSRD)</td>\n",
       "      <td>100</td>\n",
       "      <td>UNIVERSITAS SEBELAS MARET</td>\n",
       "      <td>DESAIN KOMUNIKASI VISUAL</td>\n",
       "      <td>30</td>\n",
       "    </tr>\n",
       "    <tr>\n",
       "      <th>1</th>\n",
       "      <td>803</td>\n",
       "      <td>638</td>\n",
       "      <td>659</td>\n",
       "      <td>696</td>\n",
       "      <td>685</td>\n",
       "      <td>494</td>\n",
       "      <td>576</td>\n",
       "      <td>676</td>\n",
       "      <td>694</td>\n",
       "      <td>INSTITUT TEKNOLOGI BANDUNG</td>\n",
       "      <td>FAKULTAS SENIRUPA DAN DESAIN (FSRD)</td>\n",
       "      <td>100</td>\n",
       "      <td>UNIVERSITAS SEBELAS MARET</td>\n",
       "      <td>DESAIN KOMUNIKASI VISUAL</td>\n",
       "      <td>30</td>\n",
       "    </tr>\n",
       "    <tr>\n",
       "      <th>2</th>\n",
       "      <td>601</td>\n",
       "      <td>560</td>\n",
       "      <td>575</td>\n",
       "      <td>611</td>\n",
       "      <td>629</td>\n",
       "      <td>509</td>\n",
       "      <td>607</td>\n",
       "      <td>775</td>\n",
       "      <td>629</td>\n",
       "      <td>INSTITUT TEKNOLOGI BANDUNG</td>\n",
       "      <td>FAKULTAS SENIRUPA DAN DESAIN (FSRD)</td>\n",
       "      <td>100</td>\n",
       "      <td>UNIVERSITAS SEBELAS MARET</td>\n",
       "      <td>DESAIN KOMUNIKASI VISUAL</td>\n",
       "      <td>30</td>\n",
       "    </tr>\n",
       "  </tbody>\n",
       "</table>\n",
       "</div>"
      ],
      "text/plain": [
       "   score_eko  score_geo  score_kmb  score_kpu  score_kua  score_mat  \\\n",
       "0        778        486        679        594        643        686   \n",
       "1        803        638        659        696        685        494   \n",
       "2        601        560        575        611        629        509   \n",
       "\n",
       "   score_ppu  score_sej  score_sos                  first_univ  \\\n",
       "0        559        392        676  INSTITUT TEKNOLOGI BANDUNG   \n",
       "1        576        676        694  INSTITUT TEKNOLOGI BANDUNG   \n",
       "2        607        775        629  INSTITUT TEKNOLOGI BANDUNG   \n",
       "\n",
       "                           first_major  first_capacity  \\\n",
       "0  FAKULTAS SENIRUPA DAN DESAIN (FSRD)             100   \n",
       "1  FAKULTAS SENIRUPA DAN DESAIN (FSRD)             100   \n",
       "2  FAKULTAS SENIRUPA DAN DESAIN (FSRD)             100   \n",
       "\n",
       "                 second_univ              second_major  second_capacity  \n",
       "0  UNIVERSITAS SEBELAS MARET  DESAIN KOMUNIKASI VISUAL               30  \n",
       "1  UNIVERSITAS SEBELAS MARET  DESAIN KOMUNIKASI VISUAL               30  \n",
       "2  UNIVERSITAS SEBELAS MARET  DESAIN KOMUNIKASI VISUAL               30  "
      ]
     },
     "execution_count": 15,
     "metadata": {},
     "output_type": "execute_result"
    }
   ],
   "source": [
    "df_humanites.head(3)"
   ]
  },
  {
   "cell_type": "code",
   "execution_count": 16,
   "metadata": {},
   "outputs": [],
   "source": [
    "# because the capacity of utbk is 40% from the maximum capacity so we need to change the capacity value\n",
    "df_humanites['first_capacity'] = df_humanites['first_capacity'].apply(lambda x: int(x*40/100))\n",
    "df_humanites['second_capacity'] = df_humanites['second_capacity'].apply(lambda x: int(x*40/100))"
   ]
  },
  {
   "cell_type": "code",
   "execution_count": 17,
   "metadata": {},
   "outputs": [
    {
     "data": {
      "text/plain": [
       "Index(['score_eko', 'score_geo', 'score_kmb', 'score_kpu', 'score_kua',\n",
       "       'score_mat', 'score_ppu', 'score_sej', 'score_sos', 'first_univ',\n",
       "       'first_major', 'first_capacity', 'second_univ', 'second_major',\n",
       "       'second_capacity'],\n",
       "      dtype='object')"
      ]
     },
     "execution_count": 17,
     "metadata": {},
     "output_type": "execute_result"
    }
   ],
   "source": [
    "df_humanites.columns"
   ]
  },
  {
   "cell_type": "code",
   "execution_count": 18,
   "metadata": {},
   "outputs": [],
   "source": [
    "df_humanites['specialized_score']=df_humanites[['score_eko','score_geo','score_sej','score_sos']].mean(axis=1) #get avg score \n",
    "df_humanites['general_score'] = df_humanites[['score_kmb','score_kpu','score_kua','score_ppu','score_mat']].mean(axis=1)  #get avg score\n",
    "df_humanites['average_score'] = df_humanites.iloc[:,:8].mean(axis=1) # avg score"
   ]
  },
  {
   "cell_type": "code",
   "execution_count": 19,
   "metadata": {},
   "outputs": [],
   "source": [
    "df_humanites = df_humanites[['score_eko', 'score_geo', 'score_sej','score_sos','score_mat', 'score_kmb', 'score_kpu','score_kua', 'score_ppu','specialized_score','general_score','average_score','first_univ', 'first_major','first_capacity', 'second_univ', 'second_major', 'second_capacity']] #rearrange columns index "
   ]
  },
  {
   "cell_type": "code",
   "execution_count": 20,
   "metadata": {},
   "outputs": [
    {
     "data": {
      "text/html": [
       "<div>\n",
       "<style scoped>\n",
       "    .dataframe tbody tr th:only-of-type {\n",
       "        vertical-align: middle;\n",
       "    }\n",
       "\n",
       "    .dataframe tbody tr th {\n",
       "        vertical-align: top;\n",
       "    }\n",
       "\n",
       "    .dataframe thead th {\n",
       "        text-align: right;\n",
       "    }\n",
       "</style>\n",
       "<table border=\"1\" class=\"dataframe\">\n",
       "  <thead>\n",
       "    <tr style=\"text-align: right;\">\n",
       "      <th></th>\n",
       "      <th>score_eko</th>\n",
       "      <th>score_geo</th>\n",
       "      <th>score_sej</th>\n",
       "      <th>score_sos</th>\n",
       "      <th>score_mat</th>\n",
       "      <th>score_kmb</th>\n",
       "      <th>score_kpu</th>\n",
       "      <th>score_kua</th>\n",
       "      <th>score_ppu</th>\n",
       "      <th>specialized_score</th>\n",
       "      <th>general_score</th>\n",
       "      <th>average_score</th>\n",
       "      <th>first_univ</th>\n",
       "      <th>first_major</th>\n",
       "      <th>first_capacity</th>\n",
       "      <th>second_univ</th>\n",
       "      <th>second_major</th>\n",
       "      <th>second_capacity</th>\n",
       "    </tr>\n",
       "  </thead>\n",
       "  <tbody>\n",
       "    <tr>\n",
       "      <th>0</th>\n",
       "      <td>778</td>\n",
       "      <td>486</td>\n",
       "      <td>392</td>\n",
       "      <td>676</td>\n",
       "      <td>686</td>\n",
       "      <td>679</td>\n",
       "      <td>594</td>\n",
       "      <td>643</td>\n",
       "      <td>559</td>\n",
       "      <td>583.00</td>\n",
       "      <td>632.2</td>\n",
       "      <td>602.125</td>\n",
       "      <td>INSTITUT TEKNOLOGI BANDUNG</td>\n",
       "      <td>FAKULTAS SENIRUPA DAN DESAIN (FSRD)</td>\n",
       "      <td>40</td>\n",
       "      <td>UNIVERSITAS SEBELAS MARET</td>\n",
       "      <td>DESAIN KOMUNIKASI VISUAL</td>\n",
       "      <td>12</td>\n",
       "    </tr>\n",
       "    <tr>\n",
       "      <th>1</th>\n",
       "      <td>803</td>\n",
       "      <td>638</td>\n",
       "      <td>676</td>\n",
       "      <td>694</td>\n",
       "      <td>494</td>\n",
       "      <td>659</td>\n",
       "      <td>696</td>\n",
       "      <td>685</td>\n",
       "      <td>576</td>\n",
       "      <td>702.75</td>\n",
       "      <td>622.0</td>\n",
       "      <td>653.375</td>\n",
       "      <td>INSTITUT TEKNOLOGI BANDUNG</td>\n",
       "      <td>FAKULTAS SENIRUPA DAN DESAIN (FSRD)</td>\n",
       "      <td>40</td>\n",
       "      <td>UNIVERSITAS SEBELAS MARET</td>\n",
       "      <td>DESAIN KOMUNIKASI VISUAL</td>\n",
       "      <td>12</td>\n",
       "    </tr>\n",
       "    <tr>\n",
       "      <th>2</th>\n",
       "      <td>601</td>\n",
       "      <td>560</td>\n",
       "      <td>775</td>\n",
       "      <td>629</td>\n",
       "      <td>509</td>\n",
       "      <td>575</td>\n",
       "      <td>611</td>\n",
       "      <td>629</td>\n",
       "      <td>607</td>\n",
       "      <td>641.25</td>\n",
       "      <td>586.2</td>\n",
       "      <td>608.375</td>\n",
       "      <td>INSTITUT TEKNOLOGI BANDUNG</td>\n",
       "      <td>FAKULTAS SENIRUPA DAN DESAIN (FSRD)</td>\n",
       "      <td>40</td>\n",
       "      <td>UNIVERSITAS SEBELAS MARET</td>\n",
       "      <td>DESAIN KOMUNIKASI VISUAL</td>\n",
       "      <td>12</td>\n",
       "    </tr>\n",
       "    <tr>\n",
       "      <th>3</th>\n",
       "      <td>612</td>\n",
       "      <td>494</td>\n",
       "      <td>617</td>\n",
       "      <td>548</td>\n",
       "      <td>548</td>\n",
       "      <td>524</td>\n",
       "      <td>549</td>\n",
       "      <td>589</td>\n",
       "      <td>508</td>\n",
       "      <td>567.75</td>\n",
       "      <td>543.6</td>\n",
       "      <td>555.125</td>\n",
       "      <td>INSTITUT TEKNOLOGI BANDUNG</td>\n",
       "      <td>FAKULTAS SENIRUPA DAN DESAIN (FSRD)</td>\n",
       "      <td>40</td>\n",
       "      <td>UNIVERSITAS SEBELAS MARET</td>\n",
       "      <td>DESAIN KOMUNIKASI VISUAL</td>\n",
       "      <td>12</td>\n",
       "    </tr>\n",
       "    <tr>\n",
       "      <th>4</th>\n",
       "      <td>493</td>\n",
       "      <td>573</td>\n",
       "      <td>474</td>\n",
       "      <td>560</td>\n",
       "      <td>641</td>\n",
       "      <td>586</td>\n",
       "      <td>582</td>\n",
       "      <td>504</td>\n",
       "      <td>608</td>\n",
       "      <td>525.00</td>\n",
       "      <td>584.2</td>\n",
       "      <td>557.625</td>\n",
       "      <td>INSTITUT TEKNOLOGI BANDUNG</td>\n",
       "      <td>FAKULTAS SENIRUPA DAN DESAIN (FSRD)</td>\n",
       "      <td>40</td>\n",
       "      <td>UNIVERSITAS SEBELAS MARET</td>\n",
       "      <td>DESAIN KOMUNIKASI VISUAL</td>\n",
       "      <td>12</td>\n",
       "    </tr>\n",
       "  </tbody>\n",
       "</table>\n",
       "</div>"
      ],
      "text/plain": [
       "   score_eko  score_geo  score_sej  score_sos  score_mat  score_kmb  \\\n",
       "0        778        486        392        676        686        679   \n",
       "1        803        638        676        694        494        659   \n",
       "2        601        560        775        629        509        575   \n",
       "3        612        494        617        548        548        524   \n",
       "4        493        573        474        560        641        586   \n",
       "\n",
       "   score_kpu  score_kua  score_ppu  specialized_score  general_score  \\\n",
       "0        594        643        559             583.00          632.2   \n",
       "1        696        685        576             702.75          622.0   \n",
       "2        611        629        607             641.25          586.2   \n",
       "3        549        589        508             567.75          543.6   \n",
       "4        582        504        608             525.00          584.2   \n",
       "\n",
       "   average_score                  first_univ  \\\n",
       "0        602.125  INSTITUT TEKNOLOGI BANDUNG   \n",
       "1        653.375  INSTITUT TEKNOLOGI BANDUNG   \n",
       "2        608.375  INSTITUT TEKNOLOGI BANDUNG   \n",
       "3        555.125  INSTITUT TEKNOLOGI BANDUNG   \n",
       "4        557.625  INSTITUT TEKNOLOGI BANDUNG   \n",
       "\n",
       "                           first_major  first_capacity  \\\n",
       "0  FAKULTAS SENIRUPA DAN DESAIN (FSRD)              40   \n",
       "1  FAKULTAS SENIRUPA DAN DESAIN (FSRD)              40   \n",
       "2  FAKULTAS SENIRUPA DAN DESAIN (FSRD)              40   \n",
       "3  FAKULTAS SENIRUPA DAN DESAIN (FSRD)              40   \n",
       "4  FAKULTAS SENIRUPA DAN DESAIN (FSRD)              40   \n",
       "\n",
       "                 second_univ              second_major  second_capacity  \n",
       "0  UNIVERSITAS SEBELAS MARET  DESAIN KOMUNIKASI VISUAL               12  \n",
       "1  UNIVERSITAS SEBELAS MARET  DESAIN KOMUNIKASI VISUAL               12  \n",
       "2  UNIVERSITAS SEBELAS MARET  DESAIN KOMUNIKASI VISUAL               12  \n",
       "3  UNIVERSITAS SEBELAS MARET  DESAIN KOMUNIKASI VISUAL               12  \n",
       "4  UNIVERSITAS SEBELAS MARET  DESAIN KOMUNIKASI VISUAL               12  "
      ]
     },
     "execution_count": 20,
     "metadata": {},
     "output_type": "execute_result"
    }
   ],
   "source": [
    "df_humanites.head()"
   ]
  },
  {
   "cell_type": "markdown",
   "metadata": {},
   "source": [
    "visualization"
   ]
  },
  {
   "cell_type": "code",
   "execution_count": 98,
   "metadata": {},
   "outputs": [],
   "source": [
    "a = df_science.drop(['second_univ',\t'second_major',\t'second_capacity'],axis=1).groupby('first_univ').size().sort_values(ascending=False).reset_index().head(10).rename(columns={0:'Total','first_univ':'Universities'}) #DF for science\n",
    "\n",
    "b = df_humanites.drop(['second_univ',\t'second_major',\t'second_capacity'],axis=1).groupby('first_univ').size().sort_values(ascending=False).reset_index().head(10).rename(columns={0:'Total','first_univ':'Universities'}) #DF for humanit"
   ]
  },
  {
   "cell_type": "code",
   "execution_count": 104,
   "metadata": {},
   "outputs": [
    {
     "data": {
      "application/vnd.plotly.v1+json": {
       "config": {
        "plotlyServerURL": "https://plot.ly"
       },
       "data": [
        {
         "alignmentgroup": "True",
         "cliponaxis": true,
         "hovertemplate": "Universities=%{y}<br>Total=%{x}<extra></extra>",
         "legendgroup": "UNIVERSITAS BRAWIJAYA",
         "marker": {
          "color": "rgb(127, 60, 141)",
          "pattern": {
           "shape": "\\"
          }
         },
         "name": "UNIVERSITAS BRAWIJAYA",
         "offsetgroup": "UNIVERSITAS BRAWIJAYA",
         "orientation": "h",
         "showlegend": true,
         "textangle": 0,
         "textfont": {
          "size": 11
         },
         "textposition": "outside",
         "texttemplate": "%{x}",
         "type": "bar",
         "x": [
          6187
         ],
         "xaxis": "x",
         "y": [
          "UNIVERSITAS BRAWIJAYA"
         ],
         "yaxis": "y"
        },
        {
         "alignmentgroup": "True",
         "cliponaxis": true,
         "hovertemplate": "Universities=%{y}<br>Total=%{x}<extra></extra>",
         "legendgroup": "UNIVERSITAS GADJAH MADA",
         "marker": {
          "color": "rgb(17, 165, 121)",
          "pattern": {
           "shape": "\\"
          }
         },
         "name": "UNIVERSITAS GADJAH MADA",
         "offsetgroup": "UNIVERSITAS GADJAH MADA",
         "orientation": "h",
         "showlegend": true,
         "textangle": 0,
         "textfont": {
          "size": 11
         },
         "textposition": "outside",
         "texttemplate": "%{x}",
         "type": "bar",
         "x": [
          5597
         ],
         "xaxis": "x",
         "y": [
          "UNIVERSITAS GADJAH MADA"
         ],
         "yaxis": "y"
        },
        {
         "alignmentgroup": "True",
         "cliponaxis": true,
         "hovertemplate": "Universities=%{y}<br>Total=%{x}<extra></extra>",
         "legendgroup": "UNIVERSITAS DIPONEGORO",
         "marker": {
          "color": "rgb(57, 105, 172)",
          "pattern": {
           "shape": "\\"
          }
         },
         "name": "UNIVERSITAS DIPONEGORO",
         "offsetgroup": "UNIVERSITAS DIPONEGORO",
         "orientation": "h",
         "showlegend": true,
         "textangle": 0,
         "textfont": {
          "size": 11
         },
         "textposition": "outside",
         "texttemplate": "%{x}",
         "type": "bar",
         "x": [
          5387
         ],
         "xaxis": "x",
         "y": [
          "UNIVERSITAS DIPONEGORO"
         ],
         "yaxis": "y"
        },
        {
         "alignmentgroup": "True",
         "cliponaxis": true,
         "hovertemplate": "Universities=%{y}<br>Total=%{x}<extra></extra>",
         "legendgroup": "UNIVERSITAS PADJADJARAN",
         "marker": {
          "color": "rgb(242, 183, 1)",
          "pattern": {
           "shape": "\\"
          }
         },
         "name": "UNIVERSITAS PADJADJARAN",
         "offsetgroup": "UNIVERSITAS PADJADJARAN",
         "orientation": "h",
         "showlegend": true,
         "textangle": 0,
         "textfont": {
          "size": 11
         },
         "textposition": "outside",
         "texttemplate": "%{x}",
         "type": "bar",
         "x": [
          4709
         ],
         "xaxis": "x",
         "y": [
          "UNIVERSITAS PADJADJARAN"
         ],
         "yaxis": "y"
        },
        {
         "alignmentgroup": "True",
         "cliponaxis": true,
         "hovertemplate": "Universities=%{y}<br>Total=%{x}<extra></extra>",
         "legendgroup": "UNIVERSITAS INDONESIA",
         "marker": {
          "color": "rgb(231, 63, 116)",
          "pattern": {
           "shape": "\\"
          }
         },
         "name": "UNIVERSITAS INDONESIA",
         "offsetgroup": "UNIVERSITAS INDONESIA",
         "orientation": "h",
         "showlegend": true,
         "textangle": 0,
         "textfont": {
          "size": 11
         },
         "textposition": "outside",
         "texttemplate": "%{x}",
         "type": "bar",
         "x": [
          4389
         ],
         "xaxis": "x",
         "y": [
          "UNIVERSITAS INDONESIA"
         ],
         "yaxis": "y"
        },
        {
         "alignmentgroup": "True",
         "cliponaxis": true,
         "hovertemplate": "Universities=%{y}<br>Total=%{x}<extra></extra>",
         "legendgroup": "INSTITUT PERTANIAN BOGOR",
         "marker": {
          "color": "rgb(128, 186, 90)",
          "pattern": {
           "shape": "\\"
          }
         },
         "name": "INSTITUT PERTANIAN BOGOR",
         "offsetgroup": "INSTITUT PERTANIAN BOGOR",
         "orientation": "h",
         "showlegend": true,
         "textangle": 0,
         "textfont": {
          "size": 11
         },
         "textposition": "outside",
         "texttemplate": "%{x}",
         "type": "bar",
         "x": [
          3917
         ],
         "xaxis": "x",
         "y": [
          "INSTITUT PERTANIAN BOGOR"
         ],
         "yaxis": "y"
        },
        {
         "alignmentgroup": "True",
         "cliponaxis": true,
         "hovertemplate": "Universities=%{y}<br>Total=%{x}<extra></extra>",
         "legendgroup": "UNIVERSITAS SEBELAS MARET",
         "marker": {
          "color": "rgb(230, 131, 16)",
          "pattern": {
           "shape": "\\"
          }
         },
         "name": "UNIVERSITAS SEBELAS MARET",
         "offsetgroup": "UNIVERSITAS SEBELAS MARET",
         "orientation": "h",
         "showlegend": true,
         "textangle": 0,
         "textfont": {
          "size": 11
         },
         "textposition": "outside",
         "texttemplate": "%{x}",
         "type": "bar",
         "x": [
          3899
         ],
         "xaxis": "x",
         "y": [
          "UNIVERSITAS SEBELAS MARET"
         ],
         "yaxis": "y"
        },
        {
         "alignmentgroup": "True",
         "cliponaxis": true,
         "hovertemplate": "Universities=%{y}<br>Total=%{x}<extra></extra>",
         "legendgroup": "INSTITUT TEKNOLOGI SEPULUH NOPEMBER",
         "marker": {
          "color": "rgb(0, 134, 149)",
          "pattern": {
           "shape": "\\"
          }
         },
         "name": "INSTITUT TEKNOLOGI SEPULUH NOPEMBER",
         "offsetgroup": "INSTITUT TEKNOLOGI SEPULUH NOPEMBER",
         "orientation": "h",
         "showlegend": true,
         "textangle": 0,
         "textfont": {
          "size": 11
         },
         "textposition": "outside",
         "texttemplate": "%{x}",
         "type": "bar",
         "x": [
          3358
         ],
         "xaxis": "x",
         "y": [
          "INSTITUT TEKNOLOGI SEPULUH NOPEMBER"
         ],
         "yaxis": "y"
        },
        {
         "alignmentgroup": "True",
         "cliponaxis": true,
         "hovertemplate": "Universities=%{y}<br>Total=%{x}<extra></extra>",
         "legendgroup": "INSTITUT TEKNOLOGI BANDUNG",
         "marker": {
          "color": "rgb(207, 28, 144)",
          "pattern": {
           "shape": "\\"
          }
         },
         "name": "INSTITUT TEKNOLOGI BANDUNG",
         "offsetgroup": "INSTITUT TEKNOLOGI BANDUNG",
         "orientation": "h",
         "showlegend": true,
         "textangle": 0,
         "textfont": {
          "size": 11
         },
         "textposition": "outside",
         "texttemplate": "%{x}",
         "type": "bar",
         "x": [
          3265
         ],
         "xaxis": "x",
         "y": [
          "INSTITUT TEKNOLOGI BANDUNG"
         ],
         "yaxis": "y"
        },
        {
         "alignmentgroup": "True",
         "cliponaxis": true,
         "hovertemplate": "Universities=%{y}<br>Total=%{x}<extra></extra>",
         "legendgroup": "UNIVERSITAS JENDERAL SOEDIRMAN",
         "marker": {
          "color": "rgb(249, 123, 114)",
          "pattern": {
           "shape": "\\"
          }
         },
         "name": "UNIVERSITAS JENDERAL SOEDIRMAN",
         "offsetgroup": "UNIVERSITAS JENDERAL SOEDIRMAN",
         "orientation": "h",
         "showlegend": true,
         "textangle": 0,
         "textfont": {
          "size": 11
         },
         "textposition": "outside",
         "texttemplate": "%{x}",
         "type": "bar",
         "x": [
          2616
         ],
         "xaxis": "x",
         "y": [
          "UNIVERSITAS JENDERAL SOEDIRMAN"
         ],
         "yaxis": "y"
        }
       ],
       "layout": {
        "barmode": "relative",
        "legend": {
         "title": {
          "text": "Universities"
         },
         "tracegroupgap": 0
        },
        "margin": {
         "t": 60
        },
        "template": {
         "data": {
          "bar": [
           {
            "error_x": {
             "color": "#2a3f5f"
            },
            "error_y": {
             "color": "#2a3f5f"
            },
            "marker": {
             "line": {
              "color": "#E5ECF6",
              "width": 0.5
             },
             "pattern": {
              "fillmode": "overlay",
              "size": 10,
              "solidity": 0.2
             }
            },
            "type": "bar"
           }
          ],
          "barpolar": [
           {
            "marker": {
             "line": {
              "color": "#E5ECF6",
              "width": 0.5
             },
             "pattern": {
              "fillmode": "overlay",
              "size": 10,
              "solidity": 0.2
             }
            },
            "type": "barpolar"
           }
          ],
          "carpet": [
           {
            "aaxis": {
             "endlinecolor": "#2a3f5f",
             "gridcolor": "white",
             "linecolor": "white",
             "minorgridcolor": "white",
             "startlinecolor": "#2a3f5f"
            },
            "baxis": {
             "endlinecolor": "#2a3f5f",
             "gridcolor": "white",
             "linecolor": "white",
             "minorgridcolor": "white",
             "startlinecolor": "#2a3f5f"
            },
            "type": "carpet"
           }
          ],
          "choropleth": [
           {
            "colorbar": {
             "outlinewidth": 0,
             "ticks": ""
            },
            "type": "choropleth"
           }
          ],
          "contour": [
           {
            "colorbar": {
             "outlinewidth": 0,
             "ticks": ""
            },
            "colorscale": [
             [
              0,
              "#0d0887"
             ],
             [
              0.1111111111111111,
              "#46039f"
             ],
             [
              0.2222222222222222,
              "#7201a8"
             ],
             [
              0.3333333333333333,
              "#9c179e"
             ],
             [
              0.4444444444444444,
              "#bd3786"
             ],
             [
              0.5555555555555556,
              "#d8576b"
             ],
             [
              0.6666666666666666,
              "#ed7953"
             ],
             [
              0.7777777777777778,
              "#fb9f3a"
             ],
             [
              0.8888888888888888,
              "#fdca26"
             ],
             [
              1,
              "#f0f921"
             ]
            ],
            "type": "contour"
           }
          ],
          "contourcarpet": [
           {
            "colorbar": {
             "outlinewidth": 0,
             "ticks": ""
            },
            "type": "contourcarpet"
           }
          ],
          "heatmap": [
           {
            "colorbar": {
             "outlinewidth": 0,
             "ticks": ""
            },
            "colorscale": [
             [
              0,
              "#0d0887"
             ],
             [
              0.1111111111111111,
              "#46039f"
             ],
             [
              0.2222222222222222,
              "#7201a8"
             ],
             [
              0.3333333333333333,
              "#9c179e"
             ],
             [
              0.4444444444444444,
              "#bd3786"
             ],
             [
              0.5555555555555556,
              "#d8576b"
             ],
             [
              0.6666666666666666,
              "#ed7953"
             ],
             [
              0.7777777777777778,
              "#fb9f3a"
             ],
             [
              0.8888888888888888,
              "#fdca26"
             ],
             [
              1,
              "#f0f921"
             ]
            ],
            "type": "heatmap"
           }
          ],
          "heatmapgl": [
           {
            "colorbar": {
             "outlinewidth": 0,
             "ticks": ""
            },
            "colorscale": [
             [
              0,
              "#0d0887"
             ],
             [
              0.1111111111111111,
              "#46039f"
             ],
             [
              0.2222222222222222,
              "#7201a8"
             ],
             [
              0.3333333333333333,
              "#9c179e"
             ],
             [
              0.4444444444444444,
              "#bd3786"
             ],
             [
              0.5555555555555556,
              "#d8576b"
             ],
             [
              0.6666666666666666,
              "#ed7953"
             ],
             [
              0.7777777777777778,
              "#fb9f3a"
             ],
             [
              0.8888888888888888,
              "#fdca26"
             ],
             [
              1,
              "#f0f921"
             ]
            ],
            "type": "heatmapgl"
           }
          ],
          "histogram": [
           {
            "marker": {
             "pattern": {
              "fillmode": "overlay",
              "size": 10,
              "solidity": 0.2
             }
            },
            "type": "histogram"
           }
          ],
          "histogram2d": [
           {
            "colorbar": {
             "outlinewidth": 0,
             "ticks": ""
            },
            "colorscale": [
             [
              0,
              "#0d0887"
             ],
             [
              0.1111111111111111,
              "#46039f"
             ],
             [
              0.2222222222222222,
              "#7201a8"
             ],
             [
              0.3333333333333333,
              "#9c179e"
             ],
             [
              0.4444444444444444,
              "#bd3786"
             ],
             [
              0.5555555555555556,
              "#d8576b"
             ],
             [
              0.6666666666666666,
              "#ed7953"
             ],
             [
              0.7777777777777778,
              "#fb9f3a"
             ],
             [
              0.8888888888888888,
              "#fdca26"
             ],
             [
              1,
              "#f0f921"
             ]
            ],
            "type": "histogram2d"
           }
          ],
          "histogram2dcontour": [
           {
            "colorbar": {
             "outlinewidth": 0,
             "ticks": ""
            },
            "colorscale": [
             [
              0,
              "#0d0887"
             ],
             [
              0.1111111111111111,
              "#46039f"
             ],
             [
              0.2222222222222222,
              "#7201a8"
             ],
             [
              0.3333333333333333,
              "#9c179e"
             ],
             [
              0.4444444444444444,
              "#bd3786"
             ],
             [
              0.5555555555555556,
              "#d8576b"
             ],
             [
              0.6666666666666666,
              "#ed7953"
             ],
             [
              0.7777777777777778,
              "#fb9f3a"
             ],
             [
              0.8888888888888888,
              "#fdca26"
             ],
             [
              1,
              "#f0f921"
             ]
            ],
            "type": "histogram2dcontour"
           }
          ],
          "mesh3d": [
           {
            "colorbar": {
             "outlinewidth": 0,
             "ticks": ""
            },
            "type": "mesh3d"
           }
          ],
          "parcoords": [
           {
            "line": {
             "colorbar": {
              "outlinewidth": 0,
              "ticks": ""
             }
            },
            "type": "parcoords"
           }
          ],
          "pie": [
           {
            "automargin": true,
            "type": "pie"
           }
          ],
          "scatter": [
           {
            "marker": {
             "colorbar": {
              "outlinewidth": 0,
              "ticks": ""
             }
            },
            "type": "scatter"
           }
          ],
          "scatter3d": [
           {
            "line": {
             "colorbar": {
              "outlinewidth": 0,
              "ticks": ""
             }
            },
            "marker": {
             "colorbar": {
              "outlinewidth": 0,
              "ticks": ""
             }
            },
            "type": "scatter3d"
           }
          ],
          "scattercarpet": [
           {
            "marker": {
             "colorbar": {
              "outlinewidth": 0,
              "ticks": ""
             }
            },
            "type": "scattercarpet"
           }
          ],
          "scattergeo": [
           {
            "marker": {
             "colorbar": {
              "outlinewidth": 0,
              "ticks": ""
             }
            },
            "type": "scattergeo"
           }
          ],
          "scattergl": [
           {
            "marker": {
             "colorbar": {
              "outlinewidth": 0,
              "ticks": ""
             }
            },
            "type": "scattergl"
           }
          ],
          "scattermapbox": [
           {
            "marker": {
             "colorbar": {
              "outlinewidth": 0,
              "ticks": ""
             }
            },
            "type": "scattermapbox"
           }
          ],
          "scatterpolar": [
           {
            "marker": {
             "colorbar": {
              "outlinewidth": 0,
              "ticks": ""
             }
            },
            "type": "scatterpolar"
           }
          ],
          "scatterpolargl": [
           {
            "marker": {
             "colorbar": {
              "outlinewidth": 0,
              "ticks": ""
             }
            },
            "type": "scatterpolargl"
           }
          ],
          "scatterternary": [
           {
            "marker": {
             "colorbar": {
              "outlinewidth": 0,
              "ticks": ""
             }
            },
            "type": "scatterternary"
           }
          ],
          "surface": [
           {
            "colorbar": {
             "outlinewidth": 0,
             "ticks": ""
            },
            "colorscale": [
             [
              0,
              "#0d0887"
             ],
             [
              0.1111111111111111,
              "#46039f"
             ],
             [
              0.2222222222222222,
              "#7201a8"
             ],
             [
              0.3333333333333333,
              "#9c179e"
             ],
             [
              0.4444444444444444,
              "#bd3786"
             ],
             [
              0.5555555555555556,
              "#d8576b"
             ],
             [
              0.6666666666666666,
              "#ed7953"
             ],
             [
              0.7777777777777778,
              "#fb9f3a"
             ],
             [
              0.8888888888888888,
              "#fdca26"
             ],
             [
              1,
              "#f0f921"
             ]
            ],
            "type": "surface"
           }
          ],
          "table": [
           {
            "cells": {
             "fill": {
              "color": "#EBF0F8"
             },
             "line": {
              "color": "white"
             }
            },
            "header": {
             "fill": {
              "color": "#C8D4E3"
             },
             "line": {
              "color": "white"
             }
            },
            "type": "table"
           }
          ]
         },
         "layout": {
          "annotationdefaults": {
           "arrowcolor": "#2a3f5f",
           "arrowhead": 0,
           "arrowwidth": 1
          },
          "autotypenumbers": "strict",
          "coloraxis": {
           "colorbar": {
            "outlinewidth": 0,
            "ticks": ""
           }
          },
          "colorscale": {
           "diverging": [
            [
             0,
             "#8e0152"
            ],
            [
             0.1,
             "#c51b7d"
            ],
            [
             0.2,
             "#de77ae"
            ],
            [
             0.3,
             "#f1b6da"
            ],
            [
             0.4,
             "#fde0ef"
            ],
            [
             0.5,
             "#f7f7f7"
            ],
            [
             0.6,
             "#e6f5d0"
            ],
            [
             0.7,
             "#b8e186"
            ],
            [
             0.8,
             "#7fbc41"
            ],
            [
             0.9,
             "#4d9221"
            ],
            [
             1,
             "#276419"
            ]
           ],
           "sequential": [
            [
             0,
             "#0d0887"
            ],
            [
             0.1111111111111111,
             "#46039f"
            ],
            [
             0.2222222222222222,
             "#7201a8"
            ],
            [
             0.3333333333333333,
             "#9c179e"
            ],
            [
             0.4444444444444444,
             "#bd3786"
            ],
            [
             0.5555555555555556,
             "#d8576b"
            ],
            [
             0.6666666666666666,
             "#ed7953"
            ],
            [
             0.7777777777777778,
             "#fb9f3a"
            ],
            [
             0.8888888888888888,
             "#fdca26"
            ],
            [
             1,
             "#f0f921"
            ]
           ],
           "sequentialminus": [
            [
             0,
             "#0d0887"
            ],
            [
             0.1111111111111111,
             "#46039f"
            ],
            [
             0.2222222222222222,
             "#7201a8"
            ],
            [
             0.3333333333333333,
             "#9c179e"
            ],
            [
             0.4444444444444444,
             "#bd3786"
            ],
            [
             0.5555555555555556,
             "#d8576b"
            ],
            [
             0.6666666666666666,
             "#ed7953"
            ],
            [
             0.7777777777777778,
             "#fb9f3a"
            ],
            [
             0.8888888888888888,
             "#fdca26"
            ],
            [
             1,
             "#f0f921"
            ]
           ]
          },
          "colorway": [
           "#636efa",
           "#EF553B",
           "#00cc96",
           "#ab63fa",
           "#FFA15A",
           "#19d3f3",
           "#FF6692",
           "#B6E880",
           "#FF97FF",
           "#FECB52"
          ],
          "font": {
           "color": "#2a3f5f"
          },
          "geo": {
           "bgcolor": "white",
           "lakecolor": "white",
           "landcolor": "#E5ECF6",
           "showlakes": true,
           "showland": true,
           "subunitcolor": "white"
          },
          "hoverlabel": {
           "align": "left"
          },
          "hovermode": "closest",
          "mapbox": {
           "style": "light"
          },
          "paper_bgcolor": "white",
          "plot_bgcolor": "#E5ECF6",
          "polar": {
           "angularaxis": {
            "gridcolor": "white",
            "linecolor": "white",
            "ticks": ""
           },
           "bgcolor": "#E5ECF6",
           "radialaxis": {
            "gridcolor": "white",
            "linecolor": "white",
            "ticks": ""
           }
          },
          "scene": {
           "xaxis": {
            "backgroundcolor": "#E5ECF6",
            "gridcolor": "white",
            "gridwidth": 2,
            "linecolor": "white",
            "showbackground": true,
            "ticks": "",
            "zerolinecolor": "white"
           },
           "yaxis": {
            "backgroundcolor": "#E5ECF6",
            "gridcolor": "white",
            "gridwidth": 2,
            "linecolor": "white",
            "showbackground": true,
            "ticks": "",
            "zerolinecolor": "white"
           },
           "zaxis": {
            "backgroundcolor": "#E5ECF6",
            "gridcolor": "white",
            "gridwidth": 2,
            "linecolor": "white",
            "showbackground": true,
            "ticks": "",
            "zerolinecolor": "white"
           }
          },
          "shapedefaults": {
           "line": {
            "color": "#2a3f5f"
           }
          },
          "ternary": {
           "aaxis": {
            "gridcolor": "white",
            "linecolor": "white",
            "ticks": ""
           },
           "baxis": {
            "gridcolor": "white",
            "linecolor": "white",
            "ticks": ""
           },
           "bgcolor": "#E5ECF6",
           "caxis": {
            "gridcolor": "white",
            "linecolor": "white",
            "ticks": ""
           }
          },
          "title": {
           "x": 0.05
          },
          "xaxis": {
           "automargin": true,
           "gridcolor": "white",
           "linecolor": "white",
           "ticks": "",
           "title": {
            "standoff": 15
           },
           "zerolinecolor": "white",
           "zerolinewidth": 2
          },
          "yaxis": {
           "automargin": true,
           "gridcolor": "white",
           "linecolor": "white",
           "ticks": "",
           "title": {
            "standoff": 15
           },
           "zerolinecolor": "white",
           "zerolinewidth": 2
          }
         }
        },
        "title": {
         "text": "Top Universities Choices 2019 Based on First Choice for Science Majors"
        },
        "width": 1300,
        "xaxis": {
         "anchor": "y",
         "domain": [
          0,
          1
         ],
         "tickangle": 0,
         "tickfont": {
          "color": "red",
          "family": "Rockwell",
          "size": 12
         },
         "title": {
          "text": "Total"
         }
        },
        "yaxis": {
         "anchor": "x",
         "categoryarray": [
          "UNIVERSITAS JENDERAL SOEDIRMAN",
          "INSTITUT TEKNOLOGI BANDUNG",
          "INSTITUT TEKNOLOGI SEPULUH NOPEMBER",
          "UNIVERSITAS SEBELAS MARET",
          "INSTITUT PERTANIAN BOGOR",
          "UNIVERSITAS INDONESIA",
          "UNIVERSITAS PADJADJARAN",
          "UNIVERSITAS DIPONEGORO",
          "UNIVERSITAS GADJAH MADA",
          "UNIVERSITAS BRAWIJAYA"
         ],
         "categoryorder": "array",
         "domain": [
          0,
          1
         ],
         "tickangle": 0,
         "tickfont": {
          "color": "black",
          "family": "Rockwell",
          "size": 12
         },
         "title": {
          "text": "Universities"
         }
        }
       }
      }
     },
     "metadata": {},
     "output_type": "display_data"
    },
    {
     "data": {
      "application/vnd.plotly.v1+json": {
       "config": {
        "plotlyServerURL": "https://plot.ly"
       },
       "data": [
        {
         "alignmentgroup": "True",
         "cliponaxis": true,
         "hovertemplate": "Universities=%{y}<br>Total=%{x}<extra></extra>",
         "legendgroup": "UNIVERSITAS INDONESIA",
         "marker": {
          "color": "#636efa",
          "pattern": {
           "shape": "/"
          }
         },
         "name": "UNIVERSITAS INDONESIA",
         "offsetgroup": "UNIVERSITAS INDONESIA",
         "orientation": "h",
         "showlegend": true,
         "textangle": 0,
         "textfont": {
          "size": 11
         },
         "textposition": "outside",
         "texttemplate": "%{x}",
         "type": "bar",
         "x": [
          4459
         ],
         "xaxis": "x",
         "y": [
          "UNIVERSITAS INDONESIA"
         ],
         "yaxis": "y"
        },
        {
         "alignmentgroup": "True",
         "cliponaxis": true,
         "hovertemplate": "Universities=%{y}<br>Total=%{x}<extra></extra>",
         "legendgroup": "UNIVERSITAS PADJADJARAN",
         "marker": {
          "color": "#EF553B",
          "pattern": {
           "shape": "/"
          }
         },
         "name": "UNIVERSITAS PADJADJARAN",
         "offsetgroup": "UNIVERSITAS PADJADJARAN",
         "orientation": "h",
         "showlegend": true,
         "textangle": 0,
         "textfont": {
          "size": 11
         },
         "textposition": "outside",
         "texttemplate": "%{x}",
         "type": "bar",
         "x": [
          3798
         ],
         "xaxis": "x",
         "y": [
          "UNIVERSITAS PADJADJARAN"
         ],
         "yaxis": "y"
        },
        {
         "alignmentgroup": "True",
         "cliponaxis": true,
         "hovertemplate": "Universities=%{y}<br>Total=%{x}<extra></extra>",
         "legendgroup": "UNIVERSITAS BRAWIJAYA",
         "marker": {
          "color": "#00cc96",
          "pattern": {
           "shape": "/"
          }
         },
         "name": "UNIVERSITAS BRAWIJAYA",
         "offsetgroup": "UNIVERSITAS BRAWIJAYA",
         "orientation": "h",
         "showlegend": true,
         "textangle": 0,
         "textfont": {
          "size": 11
         },
         "textposition": "outside",
         "texttemplate": "%{x}",
         "type": "bar",
         "x": [
          3471
         ],
         "xaxis": "x",
         "y": [
          "UNIVERSITAS BRAWIJAYA"
         ],
         "yaxis": "y"
        },
        {
         "alignmentgroup": "True",
         "cliponaxis": true,
         "hovertemplate": "Universities=%{y}<br>Total=%{x}<extra></extra>",
         "legendgroup": "UNIVERSITAS PENDIDIKAN INDONESIA",
         "marker": {
          "color": "#ab63fa",
          "pattern": {
           "shape": "/"
          }
         },
         "name": "UNIVERSITAS PENDIDIKAN INDONESIA",
         "offsetgroup": "UNIVERSITAS PENDIDIKAN INDONESIA",
         "orientation": "h",
         "showlegend": true,
         "textangle": 0,
         "textfont": {
          "size": 11
         },
         "textposition": "outside",
         "texttemplate": "%{x}",
         "type": "bar",
         "x": [
          3470
         ],
         "xaxis": "x",
         "y": [
          "UNIVERSITAS PENDIDIKAN INDONESIA"
         ],
         "yaxis": "y"
        },
        {
         "alignmentgroup": "True",
         "cliponaxis": true,
         "hovertemplate": "Universities=%{y}<br>Total=%{x}<extra></extra>",
         "legendgroup": "UNIVERSITAS DIPONEGORO",
         "marker": {
          "color": "#FFA15A",
          "pattern": {
           "shape": "/"
          }
         },
         "name": "UNIVERSITAS DIPONEGORO",
         "offsetgroup": "UNIVERSITAS DIPONEGORO",
         "orientation": "h",
         "showlegend": true,
         "textangle": 0,
         "textfont": {
          "size": 11
         },
         "textposition": "outside",
         "texttemplate": "%{x}",
         "type": "bar",
         "x": [
          3361
         ],
         "xaxis": "x",
         "y": [
          "UNIVERSITAS DIPONEGORO"
         ],
         "yaxis": "y"
        },
        {
         "alignmentgroup": "True",
         "cliponaxis": true,
         "hovertemplate": "Universities=%{y}<br>Total=%{x}<extra></extra>",
         "legendgroup": "UNIVERSITAS GADJAH MADA",
         "marker": {
          "color": "#19d3f3",
          "pattern": {
           "shape": "/"
          }
         },
         "name": "UNIVERSITAS GADJAH MADA",
         "offsetgroup": "UNIVERSITAS GADJAH MADA",
         "orientation": "h",
         "showlegend": true,
         "textangle": 0,
         "textfont": {
          "size": 11
         },
         "textposition": "outside",
         "texttemplate": "%{x}",
         "type": "bar",
         "x": [
          3220
         ],
         "xaxis": "x",
         "y": [
          "UNIVERSITAS GADJAH MADA"
         ],
         "yaxis": "y"
        },
        {
         "alignmentgroup": "True",
         "cliponaxis": true,
         "hovertemplate": "Universities=%{y}<br>Total=%{x}<extra></extra>",
         "legendgroup": "UNIVERSITAS SEBELAS MARET",
         "marker": {
          "color": "#FF6692",
          "pattern": {
           "shape": "/"
          }
         },
         "name": "UNIVERSITAS SEBELAS MARET",
         "offsetgroup": "UNIVERSITAS SEBELAS MARET",
         "orientation": "h",
         "showlegend": true,
         "textangle": 0,
         "textfont": {
          "size": 11
         },
         "textposition": "outside",
         "texttemplate": "%{x}",
         "type": "bar",
         "x": [
          2782
         ],
         "xaxis": "x",
         "y": [
          "UNIVERSITAS SEBELAS MARET"
         ],
         "yaxis": "y"
        },
        {
         "alignmentgroup": "True",
         "cliponaxis": true,
         "hovertemplate": "Universities=%{y}<br>Total=%{x}<extra></extra>",
         "legendgroup": "UNIVERSITAS NEGERI JAKARTA",
         "marker": {
          "color": "#B6E880",
          "pattern": {
           "shape": "/"
          }
         },
         "name": "UNIVERSITAS NEGERI JAKARTA",
         "offsetgroup": "UNIVERSITAS NEGERI JAKARTA",
         "orientation": "h",
         "showlegend": true,
         "textangle": 0,
         "textfont": {
          "size": 11
         },
         "textposition": "outside",
         "texttemplate": "%{x}",
         "type": "bar",
         "x": [
          2726
         ],
         "xaxis": "x",
         "y": [
          "UNIVERSITAS NEGERI JAKARTA"
         ],
         "yaxis": "y"
        },
        {
         "alignmentgroup": "True",
         "cliponaxis": true,
         "hovertemplate": "Universities=%{y}<br>Total=%{x}<extra></extra>",
         "legendgroup": "UNIVERSITAS NEGERI YOGYAKARTA",
         "marker": {
          "color": "#FF97FF",
          "pattern": {
           "shape": "/"
          }
         },
         "name": "UNIVERSITAS NEGERI YOGYAKARTA",
         "offsetgroup": "UNIVERSITAS NEGERI YOGYAKARTA",
         "orientation": "h",
         "showlegend": true,
         "textangle": 0,
         "textfont": {
          "size": 11
         },
         "textposition": "outside",
         "texttemplate": "%{x}",
         "type": "bar",
         "x": [
          2303
         ],
         "xaxis": "x",
         "y": [
          "UNIVERSITAS NEGERI YOGYAKARTA"
         ],
         "yaxis": "y"
        },
        {
         "alignmentgroup": "True",
         "cliponaxis": true,
         "hovertemplate": "Universities=%{y}<br>Total=%{x}<extra></extra>",
         "legendgroup": "UNIVERSITAS NEGERI SEMARANG",
         "marker": {
          "color": "#FECB52",
          "pattern": {
           "shape": "/"
          }
         },
         "name": "UNIVERSITAS NEGERI SEMARANG",
         "offsetgroup": "UNIVERSITAS NEGERI SEMARANG",
         "orientation": "h",
         "showlegend": true,
         "textangle": 0,
         "textfont": {
          "size": 11
         },
         "textposition": "outside",
         "texttemplate": "%{x}",
         "type": "bar",
         "x": [
          2255
         ],
         "xaxis": "x",
         "y": [
          "UNIVERSITAS NEGERI SEMARANG"
         ],
         "yaxis": "y"
        }
       ],
       "layout": {
        "barmode": "relative",
        "legend": {
         "title": {
          "text": "Universities"
         },
         "tracegroupgap": 0
        },
        "margin": {
         "t": 60
        },
        "template": {
         "data": {
          "bar": [
           {
            "error_x": {
             "color": "#2a3f5f"
            },
            "error_y": {
             "color": "#2a3f5f"
            },
            "marker": {
             "line": {
              "color": "#E5ECF6",
              "width": 0.5
             },
             "pattern": {
              "fillmode": "overlay",
              "size": 10,
              "solidity": 0.2
             }
            },
            "type": "bar"
           }
          ],
          "barpolar": [
           {
            "marker": {
             "line": {
              "color": "#E5ECF6",
              "width": 0.5
             },
             "pattern": {
              "fillmode": "overlay",
              "size": 10,
              "solidity": 0.2
             }
            },
            "type": "barpolar"
           }
          ],
          "carpet": [
           {
            "aaxis": {
             "endlinecolor": "#2a3f5f",
             "gridcolor": "white",
             "linecolor": "white",
             "minorgridcolor": "white",
             "startlinecolor": "#2a3f5f"
            },
            "baxis": {
             "endlinecolor": "#2a3f5f",
             "gridcolor": "white",
             "linecolor": "white",
             "minorgridcolor": "white",
             "startlinecolor": "#2a3f5f"
            },
            "type": "carpet"
           }
          ],
          "choropleth": [
           {
            "colorbar": {
             "outlinewidth": 0,
             "ticks": ""
            },
            "type": "choropleth"
           }
          ],
          "contour": [
           {
            "colorbar": {
             "outlinewidth": 0,
             "ticks": ""
            },
            "colorscale": [
             [
              0,
              "#0d0887"
             ],
             [
              0.1111111111111111,
              "#46039f"
             ],
             [
              0.2222222222222222,
              "#7201a8"
             ],
             [
              0.3333333333333333,
              "#9c179e"
             ],
             [
              0.4444444444444444,
              "#bd3786"
             ],
             [
              0.5555555555555556,
              "#d8576b"
             ],
             [
              0.6666666666666666,
              "#ed7953"
             ],
             [
              0.7777777777777778,
              "#fb9f3a"
             ],
             [
              0.8888888888888888,
              "#fdca26"
             ],
             [
              1,
              "#f0f921"
             ]
            ],
            "type": "contour"
           }
          ],
          "contourcarpet": [
           {
            "colorbar": {
             "outlinewidth": 0,
             "ticks": ""
            },
            "type": "contourcarpet"
           }
          ],
          "heatmap": [
           {
            "colorbar": {
             "outlinewidth": 0,
             "ticks": ""
            },
            "colorscale": [
             [
              0,
              "#0d0887"
             ],
             [
              0.1111111111111111,
              "#46039f"
             ],
             [
              0.2222222222222222,
              "#7201a8"
             ],
             [
              0.3333333333333333,
              "#9c179e"
             ],
             [
              0.4444444444444444,
              "#bd3786"
             ],
             [
              0.5555555555555556,
              "#d8576b"
             ],
             [
              0.6666666666666666,
              "#ed7953"
             ],
             [
              0.7777777777777778,
              "#fb9f3a"
             ],
             [
              0.8888888888888888,
              "#fdca26"
             ],
             [
              1,
              "#f0f921"
             ]
            ],
            "type": "heatmap"
           }
          ],
          "heatmapgl": [
           {
            "colorbar": {
             "outlinewidth": 0,
             "ticks": ""
            },
            "colorscale": [
             [
              0,
              "#0d0887"
             ],
             [
              0.1111111111111111,
              "#46039f"
             ],
             [
              0.2222222222222222,
              "#7201a8"
             ],
             [
              0.3333333333333333,
              "#9c179e"
             ],
             [
              0.4444444444444444,
              "#bd3786"
             ],
             [
              0.5555555555555556,
              "#d8576b"
             ],
             [
              0.6666666666666666,
              "#ed7953"
             ],
             [
              0.7777777777777778,
              "#fb9f3a"
             ],
             [
              0.8888888888888888,
              "#fdca26"
             ],
             [
              1,
              "#f0f921"
             ]
            ],
            "type": "heatmapgl"
           }
          ],
          "histogram": [
           {
            "marker": {
             "pattern": {
              "fillmode": "overlay",
              "size": 10,
              "solidity": 0.2
             }
            },
            "type": "histogram"
           }
          ],
          "histogram2d": [
           {
            "colorbar": {
             "outlinewidth": 0,
             "ticks": ""
            },
            "colorscale": [
             [
              0,
              "#0d0887"
             ],
             [
              0.1111111111111111,
              "#46039f"
             ],
             [
              0.2222222222222222,
              "#7201a8"
             ],
             [
              0.3333333333333333,
              "#9c179e"
             ],
             [
              0.4444444444444444,
              "#bd3786"
             ],
             [
              0.5555555555555556,
              "#d8576b"
             ],
             [
              0.6666666666666666,
              "#ed7953"
             ],
             [
              0.7777777777777778,
              "#fb9f3a"
             ],
             [
              0.8888888888888888,
              "#fdca26"
             ],
             [
              1,
              "#f0f921"
             ]
            ],
            "type": "histogram2d"
           }
          ],
          "histogram2dcontour": [
           {
            "colorbar": {
             "outlinewidth": 0,
             "ticks": ""
            },
            "colorscale": [
             [
              0,
              "#0d0887"
             ],
             [
              0.1111111111111111,
              "#46039f"
             ],
             [
              0.2222222222222222,
              "#7201a8"
             ],
             [
              0.3333333333333333,
              "#9c179e"
             ],
             [
              0.4444444444444444,
              "#bd3786"
             ],
             [
              0.5555555555555556,
              "#d8576b"
             ],
             [
              0.6666666666666666,
              "#ed7953"
             ],
             [
              0.7777777777777778,
              "#fb9f3a"
             ],
             [
              0.8888888888888888,
              "#fdca26"
             ],
             [
              1,
              "#f0f921"
             ]
            ],
            "type": "histogram2dcontour"
           }
          ],
          "mesh3d": [
           {
            "colorbar": {
             "outlinewidth": 0,
             "ticks": ""
            },
            "type": "mesh3d"
           }
          ],
          "parcoords": [
           {
            "line": {
             "colorbar": {
              "outlinewidth": 0,
              "ticks": ""
             }
            },
            "type": "parcoords"
           }
          ],
          "pie": [
           {
            "automargin": true,
            "type": "pie"
           }
          ],
          "scatter": [
           {
            "marker": {
             "colorbar": {
              "outlinewidth": 0,
              "ticks": ""
             }
            },
            "type": "scatter"
           }
          ],
          "scatter3d": [
           {
            "line": {
             "colorbar": {
              "outlinewidth": 0,
              "ticks": ""
             }
            },
            "marker": {
             "colorbar": {
              "outlinewidth": 0,
              "ticks": ""
             }
            },
            "type": "scatter3d"
           }
          ],
          "scattercarpet": [
           {
            "marker": {
             "colorbar": {
              "outlinewidth": 0,
              "ticks": ""
             }
            },
            "type": "scattercarpet"
           }
          ],
          "scattergeo": [
           {
            "marker": {
             "colorbar": {
              "outlinewidth": 0,
              "ticks": ""
             }
            },
            "type": "scattergeo"
           }
          ],
          "scattergl": [
           {
            "marker": {
             "colorbar": {
              "outlinewidth": 0,
              "ticks": ""
             }
            },
            "type": "scattergl"
           }
          ],
          "scattermapbox": [
           {
            "marker": {
             "colorbar": {
              "outlinewidth": 0,
              "ticks": ""
             }
            },
            "type": "scattermapbox"
           }
          ],
          "scatterpolar": [
           {
            "marker": {
             "colorbar": {
              "outlinewidth": 0,
              "ticks": ""
             }
            },
            "type": "scatterpolar"
           }
          ],
          "scatterpolargl": [
           {
            "marker": {
             "colorbar": {
              "outlinewidth": 0,
              "ticks": ""
             }
            },
            "type": "scatterpolargl"
           }
          ],
          "scatterternary": [
           {
            "marker": {
             "colorbar": {
              "outlinewidth": 0,
              "ticks": ""
             }
            },
            "type": "scatterternary"
           }
          ],
          "surface": [
           {
            "colorbar": {
             "outlinewidth": 0,
             "ticks": ""
            },
            "colorscale": [
             [
              0,
              "#0d0887"
             ],
             [
              0.1111111111111111,
              "#46039f"
             ],
             [
              0.2222222222222222,
              "#7201a8"
             ],
             [
              0.3333333333333333,
              "#9c179e"
             ],
             [
              0.4444444444444444,
              "#bd3786"
             ],
             [
              0.5555555555555556,
              "#d8576b"
             ],
             [
              0.6666666666666666,
              "#ed7953"
             ],
             [
              0.7777777777777778,
              "#fb9f3a"
             ],
             [
              0.8888888888888888,
              "#fdca26"
             ],
             [
              1,
              "#f0f921"
             ]
            ],
            "type": "surface"
           }
          ],
          "table": [
           {
            "cells": {
             "fill": {
              "color": "#EBF0F8"
             },
             "line": {
              "color": "white"
             }
            },
            "header": {
             "fill": {
              "color": "#C8D4E3"
             },
             "line": {
              "color": "white"
             }
            },
            "type": "table"
           }
          ]
         },
         "layout": {
          "annotationdefaults": {
           "arrowcolor": "#2a3f5f",
           "arrowhead": 0,
           "arrowwidth": 1
          },
          "autotypenumbers": "strict",
          "coloraxis": {
           "colorbar": {
            "outlinewidth": 0,
            "ticks": ""
           }
          },
          "colorscale": {
           "diverging": [
            [
             0,
             "#8e0152"
            ],
            [
             0.1,
             "#c51b7d"
            ],
            [
             0.2,
             "#de77ae"
            ],
            [
             0.3,
             "#f1b6da"
            ],
            [
             0.4,
             "#fde0ef"
            ],
            [
             0.5,
             "#f7f7f7"
            ],
            [
             0.6,
             "#e6f5d0"
            ],
            [
             0.7,
             "#b8e186"
            ],
            [
             0.8,
             "#7fbc41"
            ],
            [
             0.9,
             "#4d9221"
            ],
            [
             1,
             "#276419"
            ]
           ],
           "sequential": [
            [
             0,
             "#0d0887"
            ],
            [
             0.1111111111111111,
             "#46039f"
            ],
            [
             0.2222222222222222,
             "#7201a8"
            ],
            [
             0.3333333333333333,
             "#9c179e"
            ],
            [
             0.4444444444444444,
             "#bd3786"
            ],
            [
             0.5555555555555556,
             "#d8576b"
            ],
            [
             0.6666666666666666,
             "#ed7953"
            ],
            [
             0.7777777777777778,
             "#fb9f3a"
            ],
            [
             0.8888888888888888,
             "#fdca26"
            ],
            [
             1,
             "#f0f921"
            ]
           ],
           "sequentialminus": [
            [
             0,
             "#0d0887"
            ],
            [
             0.1111111111111111,
             "#46039f"
            ],
            [
             0.2222222222222222,
             "#7201a8"
            ],
            [
             0.3333333333333333,
             "#9c179e"
            ],
            [
             0.4444444444444444,
             "#bd3786"
            ],
            [
             0.5555555555555556,
             "#d8576b"
            ],
            [
             0.6666666666666666,
             "#ed7953"
            ],
            [
             0.7777777777777778,
             "#fb9f3a"
            ],
            [
             0.8888888888888888,
             "#fdca26"
            ],
            [
             1,
             "#f0f921"
            ]
           ]
          },
          "colorway": [
           "#636efa",
           "#EF553B",
           "#00cc96",
           "#ab63fa",
           "#FFA15A",
           "#19d3f3",
           "#FF6692",
           "#B6E880",
           "#FF97FF",
           "#FECB52"
          ],
          "font": {
           "color": "#2a3f5f"
          },
          "geo": {
           "bgcolor": "white",
           "lakecolor": "white",
           "landcolor": "#E5ECF6",
           "showlakes": true,
           "showland": true,
           "subunitcolor": "white"
          },
          "hoverlabel": {
           "align": "left"
          },
          "hovermode": "closest",
          "mapbox": {
           "style": "light"
          },
          "paper_bgcolor": "white",
          "plot_bgcolor": "#E5ECF6",
          "polar": {
           "angularaxis": {
            "gridcolor": "white",
            "linecolor": "white",
            "ticks": ""
           },
           "bgcolor": "#E5ECF6",
           "radialaxis": {
            "gridcolor": "white",
            "linecolor": "white",
            "ticks": ""
           }
          },
          "scene": {
           "xaxis": {
            "backgroundcolor": "#E5ECF6",
            "gridcolor": "white",
            "gridwidth": 2,
            "linecolor": "white",
            "showbackground": true,
            "ticks": "",
            "zerolinecolor": "white"
           },
           "yaxis": {
            "backgroundcolor": "#E5ECF6",
            "gridcolor": "white",
            "gridwidth": 2,
            "linecolor": "white",
            "showbackground": true,
            "ticks": "",
            "zerolinecolor": "white"
           },
           "zaxis": {
            "backgroundcolor": "#E5ECF6",
            "gridcolor": "white",
            "gridwidth": 2,
            "linecolor": "white",
            "showbackground": true,
            "ticks": "",
            "zerolinecolor": "white"
           }
          },
          "shapedefaults": {
           "line": {
            "color": "#2a3f5f"
           }
          },
          "ternary": {
           "aaxis": {
            "gridcolor": "white",
            "linecolor": "white",
            "ticks": ""
           },
           "baxis": {
            "gridcolor": "white",
            "linecolor": "white",
            "ticks": ""
           },
           "bgcolor": "#E5ECF6",
           "caxis": {
            "gridcolor": "white",
            "linecolor": "white",
            "ticks": ""
           }
          },
          "title": {
           "x": 0.05
          },
          "xaxis": {
           "automargin": true,
           "gridcolor": "white",
           "linecolor": "white",
           "ticks": "",
           "title": {
            "standoff": 15
           },
           "zerolinecolor": "white",
           "zerolinewidth": 2
          },
          "yaxis": {
           "automargin": true,
           "gridcolor": "white",
           "linecolor": "white",
           "ticks": "",
           "title": {
            "standoff": 15
           },
           "zerolinecolor": "white",
           "zerolinewidth": 2
          }
         }
        },
        "title": {
         "text": "Top Universities Choices 2019 Based on First Choice for Humanities Majors"
        },
        "width": 1300,
        "xaxis": {
         "anchor": "y",
         "domain": [
          0,
          1
         ],
         "tickangle": 0,
         "tickfont": {
          "color": "red",
          "family": "Rockwell",
          "size": 12
         },
         "title": {
          "text": "Total"
         }
        },
        "yaxis": {
         "anchor": "x",
         "categoryarray": [
          "UNIVERSITAS NEGERI SEMARANG",
          "UNIVERSITAS NEGERI YOGYAKARTA",
          "UNIVERSITAS NEGERI JAKARTA",
          "UNIVERSITAS SEBELAS MARET",
          "UNIVERSITAS GADJAH MADA",
          "UNIVERSITAS DIPONEGORO",
          "UNIVERSITAS PENDIDIKAN INDONESIA",
          "UNIVERSITAS BRAWIJAYA",
          "UNIVERSITAS PADJADJARAN",
          "UNIVERSITAS INDONESIA"
         ],
         "categoryorder": "array",
         "domain": [
          0,
          1
         ],
         "tickangle": 0,
         "tickfont": {
          "color": "black",
          "family": "Rockwell",
          "size": 12
         },
         "title": {
          "text": "Universities"
         }
        }
       }
      }
     },
     "metadata": {},
     "output_type": "display_data"
    }
   ],
   "source": [
    "fig = px.bar(data_frame=a,y='Universities',x='Total',color='Universities',text_auto=True,pattern_shape_sequence=[\"\\\\\"],width=1300, color_discrete_sequence=px.colors.qualitative.Bold)\n",
    "fig.update_layout(title='Top Universities Choices 2019 Based on First Choice for Science Majors')\n",
    "fig.update_yaxes(tickangle=0, tickfont=dict(family='Rockwell', color='black', size=12))\n",
    "fig.update_xaxes(tickangle=0, tickfont=dict(family='Rockwell', color='red', size=12))\n",
    "fig.update_traces(textfont_size=11, textangle=0, textposition=\"outside\", cliponaxis=True)\n",
    "fig.show()\n",
    "\n",
    "fig = px.bar(data_frame=b,y='Universities',x='Total',color='Universities',text_auto=True,pattern_shape_sequence=[\"/\"],width=1300)\n",
    "fig.update_layout(title='Top Universities Choices 2019 Based on First Choice for Humanities Majors')\n",
    "fig.update_yaxes(tickangle=0, tickfont=dict(family='Rockwell', color='black', size=12))\n",
    "fig.update_xaxes(tickangle=0, tickfont=dict(family='Rockwell', color='red', size=12))\n",
    "fig.update_traces(textfont_size=11, textangle=0, textposition=\"outside\", cliponaxis=True)\n",
    "fig.show()"
   ]
  },
  {
   "cell_type": "markdown",
   "metadata": {},
   "source": [
    "![Top Universities Choices 2019 Based on First Choice for Science Majors](photos/Top%20Universities%20Choices%202019%20Based%20on%20First%20Choice%20for%20Science%20Majors.png)`"
   ]
  },
  {
   "cell_type": "markdown",
   "metadata": {},
   "source": [
    "![Top Universities Choices 2019 Based on First Choice for Humanities Majors](photos/Top%20Universities%20Choices%202019%20Based%20on%20First%20Choice%20for%20Humanities%20Majors.png)"
   ]
  },
  {
   "cell_type": "code",
   "execution_count": 25,
   "metadata": {},
   "outputs": [
    {
     "data": {
      "text/html": [
       "<div>\n",
       "<style scoped>\n",
       "    .dataframe tbody tr th:only-of-type {\n",
       "        vertical-align: middle;\n",
       "    }\n",
       "\n",
       "    .dataframe tbody tr th {\n",
       "        vertical-align: top;\n",
       "    }\n",
       "\n",
       "    .dataframe thead th {\n",
       "        text-align: right;\n",
       "    }\n",
       "</style>\n",
       "<table border=\"1\" class=\"dataframe\">\n",
       "  <thead>\n",
       "    <tr style=\"text-align: right;\">\n",
       "      <th></th>\n",
       "      <th>score_bio</th>\n",
       "      <th>score_fis</th>\n",
       "      <th>score_kim</th>\n",
       "      <th>score_mat</th>\n",
       "      <th>score_kmb</th>\n",
       "      <th>score_kpu</th>\n",
       "      <th>score_kua</th>\n",
       "      <th>score_ppu</th>\n",
       "      <th>specialized_score</th>\n",
       "      <th>general_score</th>\n",
       "      <th>average_score</th>\n",
       "      <th>first_univ</th>\n",
       "      <th>first_major</th>\n",
       "      <th>first_capacity</th>\n",
       "    </tr>\n",
       "  </thead>\n",
       "  <tbody>\n",
       "    <tr>\n",
       "      <th>89</th>\n",
       "      <td>721</td>\n",
       "      <td>559</td>\n",
       "      <td>548</td>\n",
       "      <td>524</td>\n",
       "      <td>635</td>\n",
       "      <td>614</td>\n",
       "      <td>630</td>\n",
       "      <td>588</td>\n",
       "      <td>588.00</td>\n",
       "      <td>616.75</td>\n",
       "      <td>602.375</td>\n",
       "      <td>UNIVERSITAS BRAWIJAYA</td>\n",
       "      <td>TEKNIK KOMPUTER</td>\n",
       "      <td>25</td>\n",
       "    </tr>\n",
       "    <tr>\n",
       "      <th>91</th>\n",
       "      <td>497</td>\n",
       "      <td>543</td>\n",
       "      <td>470</td>\n",
       "      <td>515</td>\n",
       "      <td>625</td>\n",
       "      <td>562</td>\n",
       "      <td>635</td>\n",
       "      <td>587</td>\n",
       "      <td>506.25</td>\n",
       "      <td>602.25</td>\n",
       "      <td>554.250</td>\n",
       "      <td>UNIVERSITAS BRAWIJAYA</td>\n",
       "      <td>PENDIDIKAN DOKTER</td>\n",
       "      <td>40</td>\n",
       "    </tr>\n",
       "    <tr>\n",
       "      <th>92</th>\n",
       "      <td>585</td>\n",
       "      <td>625</td>\n",
       "      <td>625</td>\n",
       "      <td>389</td>\n",
       "      <td>670</td>\n",
       "      <td>559</td>\n",
       "      <td>570</td>\n",
       "      <td>405</td>\n",
       "      <td>556.00</td>\n",
       "      <td>551.00</td>\n",
       "      <td>553.500</td>\n",
       "      <td>UNIVERSITAS BRAWIJAYA</td>\n",
       "      <td>PENDIDIKAN DOKTER</td>\n",
       "      <td>40</td>\n",
       "    </tr>\n",
       "    <tr>\n",
       "      <th>93</th>\n",
       "      <td>755</td>\n",
       "      <td>756</td>\n",
       "      <td>650</td>\n",
       "      <td>488</td>\n",
       "      <td>741</td>\n",
       "      <td>592</td>\n",
       "      <td>743</td>\n",
       "      <td>522</td>\n",
       "      <td>662.25</td>\n",
       "      <td>649.50</td>\n",
       "      <td>655.875</td>\n",
       "      <td>UNIVERSITAS BRAWIJAYA</td>\n",
       "      <td>PENDIDIKAN DOKTER</td>\n",
       "      <td>40</td>\n",
       "    </tr>\n",
       "    <tr>\n",
       "      <th>94</th>\n",
       "      <td>652</td>\n",
       "      <td>588</td>\n",
       "      <td>444</td>\n",
       "      <td>587</td>\n",
       "      <td>815</td>\n",
       "      <td>633</td>\n",
       "      <td>720</td>\n",
       "      <td>454</td>\n",
       "      <td>567.75</td>\n",
       "      <td>655.50</td>\n",
       "      <td>611.625</td>\n",
       "      <td>UNIVERSITAS BRAWIJAYA</td>\n",
       "      <td>PENDIDIKAN DOKTER</td>\n",
       "      <td>40</td>\n",
       "    </tr>\n",
       "  </tbody>\n",
       "</table>\n",
       "</div>"
      ],
      "text/plain": [
       "    score_bio  score_fis  score_kim  score_mat  score_kmb  score_kpu  \\\n",
       "89        721        559        548        524        635        614   \n",
       "91        497        543        470        515        625        562   \n",
       "92        585        625        625        389        670        559   \n",
       "93        755        756        650        488        741        592   \n",
       "94        652        588        444        587        815        633   \n",
       "\n",
       "    score_kua  score_ppu  specialized_score  general_score  average_score  \\\n",
       "89        630        588             588.00         616.75        602.375   \n",
       "91        635        587             506.25         602.25        554.250   \n",
       "92        570        405             556.00         551.00        553.500   \n",
       "93        743        522             662.25         649.50        655.875   \n",
       "94        720        454             567.75         655.50        611.625   \n",
       "\n",
       "               first_univ        first_major  first_capacity  \n",
       "89  UNIVERSITAS BRAWIJAYA    TEKNIK KOMPUTER              25  \n",
       "91  UNIVERSITAS BRAWIJAYA  PENDIDIKAN DOKTER              40  \n",
       "92  UNIVERSITAS BRAWIJAYA  PENDIDIKAN DOKTER              40  \n",
       "93  UNIVERSITAS BRAWIJAYA  PENDIDIKAN DOKTER              40  \n",
       "94  UNIVERSITAS BRAWIJAYA  PENDIDIKAN DOKTER              40  "
      ]
     },
     "execution_count": 25,
     "metadata": {},
     "output_type": "execute_result"
    }
   ],
   "source": [
    "df_univ_braw = df_science.loc[(df_science['first_univ']=='UNIVERSITAS BRAWIJAYA')].drop(['second_univ',\t'second_major'\t,'second_capacity'],axis=1)\n",
    "df_univ_braw.head()"
   ]
  },
  {
   "cell_type": "code",
   "execution_count": 76,
   "metadata": {},
   "outputs": [
    {
     "data": {
      "text/html": [
       "<div>\n",
       "<style scoped>\n",
       "    .dataframe tbody tr th:only-of-type {\n",
       "        vertical-align: middle;\n",
       "    }\n",
       "\n",
       "    .dataframe tbody tr th {\n",
       "        vertical-align: top;\n",
       "    }\n",
       "\n",
       "    .dataframe thead th {\n",
       "        text-align: right;\n",
       "    }\n",
       "</style>\n",
       "<table border=\"1\" class=\"dataframe\">\n",
       "  <thead>\n",
       "    <tr style=\"text-align: right;\">\n",
       "      <th></th>\n",
       "      <th>first_major</th>\n",
       "      <th>Total choices</th>\n",
       "      <th>Capacity</th>\n",
       "    </tr>\n",
       "  </thead>\n",
       "  <tbody>\n",
       "    <tr>\n",
       "      <th>0</th>\n",
       "      <td>SOSIAL EKONOMI PERIKANAN (PSDKU KEDIRI)</td>\n",
       "      <td>20</td>\n",
       "      <td>8.0</td>\n",
       "    </tr>\n",
       "    <tr>\n",
       "      <th>1</th>\n",
       "      <td>PETERNAKAN (PSDKU KEDIRI)</td>\n",
       "      <td>20</td>\n",
       "      <td>6.0</td>\n",
       "    </tr>\n",
       "    <tr>\n",
       "      <th>2</th>\n",
       "      <td>AKUAKULTUR (PSDKU KEDIRI)</td>\n",
       "      <td>32</td>\n",
       "      <td>8.0</td>\n",
       "    </tr>\n",
       "    <tr>\n",
       "      <th>3</th>\n",
       "      <td>AGRIBISNIS (PSDKU KEDIRI)</td>\n",
       "      <td>35</td>\n",
       "      <td>8.0</td>\n",
       "    </tr>\n",
       "    <tr>\n",
       "      <th>4</th>\n",
       "      <td>AGROEKOTEKNOLOGI (PSDKU KEDIRI)</td>\n",
       "      <td>36</td>\n",
       "      <td>8.0</td>\n",
       "    </tr>\n",
       "  </tbody>\n",
       "</table>\n",
       "</div>"
      ],
      "text/plain": [
       "                               first_major  Total choices  Capacity\n",
       "0  SOSIAL EKONOMI PERIKANAN (PSDKU KEDIRI)             20       8.0\n",
       "1                PETERNAKAN (PSDKU KEDIRI)             20       6.0\n",
       "2               AKUAKULTUR (PSDKU KEDIRI)              32       8.0\n",
       "3                AGRIBISNIS (PSDKU KEDIRI)             35       8.0\n",
       "4          AGROEKOTEKNOLOGI (PSDKU KEDIRI)             36       8.0"
      ]
     },
     "execution_count": 76,
     "metadata": {},
     "output_type": "execute_result"
    }
   ],
   "source": [
    "a = df_univ_braw.groupby('first_major').agg({'first_univ':'count','first_capacity':'mean'}).sort_values('first_univ',ascending=True).reset_index().rename(columns={'first_univ':'Total choices','first_capacity':'Capacity'})\n",
    "a.head()"
   ]
  },
  {
   "cell_type": "code",
   "execution_count": 96,
   "metadata": {},
   "outputs": [
    {
     "data": {
      "application/vnd.plotly.v1+json": {
       "config": {
        "plotlyServerURL": "https://plot.ly"
       },
       "data": [
        {
         "alignmentgroup": "True",
         "cliponaxis": false,
         "hovertemplate": "variable=Capacity<br>value=%{x}<br>first_major=%{y}<extra></extra>",
         "legendgroup": "Capacity",
         "marker": {
          "color": "#636efa",
          "pattern": {
           "shape": "x"
          }
         },
         "name": "Capacity",
         "offsetgroup": "Capacity",
         "orientation": "h",
         "showlegend": true,
         "textangle": 0,
         "textfont": {
          "size": 36
         },
         "textposition": "outside",
         "texttemplate": "%{x}",
         "type": "bar",
         "x": [
          8,
          6,
          8,
          8,
          8,
          12,
          20,
          14,
          14,
          14,
          19,
          28,
          12,
          28,
          28,
          28,
          17,
          20,
          25,
          28,
          22,
          28,
          32,
          28,
          32,
          32,
          28,
          32,
          24,
          32,
          40,
          20,
          19,
          16,
          25,
          27,
          32,
          19,
          28,
          67,
          28,
          32,
          28,
          38,
          105,
          124,
          40
         ],
         "xaxis": "x",
         "y": [
          "SOSIAL EKONOMI PERIKANAN (PSDKU KEDIRI)",
          "PETERNAKAN (PSDKU KEDIRI)",
          "AKUAKULTUR (PSDKU KEDIRI) ",
          "AGRIBISNIS (PSDKU KEDIRI)",
          "AGROEKOTEKNOLOGI (PSDKU KEDIRI)",
          "PENDIDIKAN TEKNOLOGI INFORMASI",
          "KETEKNIKAN PERTANIAN",
          "TEKNIK GEOFISIKA",
          "TEKNOLOGI BIOPROSES",
          "INSTRUMENTASI",
          "FISIKA",
          "TEKNOLOGI HASIL PERIKANAN",
          "TEKNOLOGI INFORMASI",
          "PEMANFAATAN SUMBERDAYA PERIKANAN",
          "AGROBISNIS PERIKANAN",
          "BUDIDAYA PERAIRAN",
          "KEBIDANAN",
          "BIOTEKNOLOGI",
          "TEKNIK KOMPUTER",
          "MANAJEMEN SUMBERDAYA PERAIRAN",
          "ILMU KEPERAWATAN",
          "BIOLOGI",
          "KIMIA",
          "ILMU KELAUTAN",
          "PENDIDIKAN DOKTER HEWAN",
          "MATEMATIKA",
          "TEKNIK PENGAIRAN",
          "TEKNIK ELEKTRO",
          "TEKNIK KIMIA",
          "TEKNIK MESIN",
          "TEKNOLOGI INDUSTRI PERTANIAN",
          "TEKNIK LINGKUNGAN",
          "FARMASI",
          "PENDIDIKAN DOKTER GIGI",
          "SISTEM INFORMASI",
          "ILMU DAN TEKNOLOGI PANGAN",
          "STATISTIKA",
          "GIZI KESEHATAN / ILMU GIZI",
          "ARSITEKTUR",
          "AGRIBISNIS",
          "PERENCANAAN WILAYAH & KOTA",
          "TEKNIK INDUSTRI",
          "TEKNIK SIPIL",
          "TEKNIK INFORMATIKA",
          "PETERNAKAN",
          "AGROEKOTEKNOLOGI",
          "PENDIDIKAN DOKTER"
         ],
         "yaxis": "y"
        },
        {
         "alignmentgroup": "True",
         "cliponaxis": false,
         "hovertemplate": "variable=Total choices<br>value=%{x}<br>first_major=%{y}<extra></extra>",
         "legendgroup": "Total choices",
         "marker": {
          "color": "#EF553B",
          "pattern": {
           "shape": "x"
          }
         },
         "name": "Total choices",
         "offsetgroup": "Total choices",
         "orientation": "h",
         "showlegend": true,
         "textangle": 0,
         "textfont": {
          "size": 36
         },
         "textposition": "outside",
         "texttemplate": "%{x}",
         "type": "bar",
         "x": [
          20,
          20,
          32,
          35,
          36,
          36,
          54,
          58,
          58,
          62,
          62,
          67,
          77,
          80,
          84,
          84,
          88,
          92,
          93,
          94,
          94,
          102,
          106,
          109,
          115,
          118,
          119,
          128,
          128,
          134,
          142,
          156,
          165,
          166,
          178,
          193,
          194,
          209,
          211,
          223,
          223,
          230,
          248,
          253,
          275,
          368,
          368
         ],
         "xaxis": "x",
         "y": [
          "SOSIAL EKONOMI PERIKANAN (PSDKU KEDIRI)",
          "PETERNAKAN (PSDKU KEDIRI)",
          "AKUAKULTUR (PSDKU KEDIRI) ",
          "AGRIBISNIS (PSDKU KEDIRI)",
          "AGROEKOTEKNOLOGI (PSDKU KEDIRI)",
          "PENDIDIKAN TEKNOLOGI INFORMASI",
          "KETEKNIKAN PERTANIAN",
          "TEKNIK GEOFISIKA",
          "TEKNOLOGI BIOPROSES",
          "INSTRUMENTASI",
          "FISIKA",
          "TEKNOLOGI HASIL PERIKANAN",
          "TEKNOLOGI INFORMASI",
          "PEMANFAATAN SUMBERDAYA PERIKANAN",
          "AGROBISNIS PERIKANAN",
          "BUDIDAYA PERAIRAN",
          "KEBIDANAN",
          "BIOTEKNOLOGI",
          "TEKNIK KOMPUTER",
          "MANAJEMEN SUMBERDAYA PERAIRAN",
          "ILMU KEPERAWATAN",
          "BIOLOGI",
          "KIMIA",
          "ILMU KELAUTAN",
          "PENDIDIKAN DOKTER HEWAN",
          "MATEMATIKA",
          "TEKNIK PENGAIRAN",
          "TEKNIK ELEKTRO",
          "TEKNIK KIMIA",
          "TEKNIK MESIN",
          "TEKNOLOGI INDUSTRI PERTANIAN",
          "TEKNIK LINGKUNGAN",
          "FARMASI",
          "PENDIDIKAN DOKTER GIGI",
          "SISTEM INFORMASI",
          "ILMU DAN TEKNOLOGI PANGAN",
          "STATISTIKA",
          "GIZI KESEHATAN / ILMU GIZI",
          "ARSITEKTUR",
          "AGRIBISNIS",
          "PERENCANAAN WILAYAH & KOTA",
          "TEKNIK INDUSTRI",
          "TEKNIK SIPIL",
          "TEKNIK INFORMATIKA",
          "PETERNAKAN",
          "AGROEKOTEKNOLOGI",
          "PENDIDIKAN DOKTER"
         ],
         "yaxis": "y"
        }
       ],
       "layout": {
        "barmode": "group",
        "height": 1400,
        "legend": {
         "title": {
          "text": "variable"
         },
         "tracegroupgap": 0
        },
        "margin": {
         "t": 60
        },
        "template": {
         "data": {
          "bar": [
           {
            "error_x": {
             "color": "#2a3f5f"
            },
            "error_y": {
             "color": "#2a3f5f"
            },
            "marker": {
             "line": {
              "color": "#E5ECF6",
              "width": 0.5
             },
             "pattern": {
              "fillmode": "overlay",
              "size": 10,
              "solidity": 0.2
             }
            },
            "type": "bar"
           }
          ],
          "barpolar": [
           {
            "marker": {
             "line": {
              "color": "#E5ECF6",
              "width": 0.5
             },
             "pattern": {
              "fillmode": "overlay",
              "size": 10,
              "solidity": 0.2
             }
            },
            "type": "barpolar"
           }
          ],
          "carpet": [
           {
            "aaxis": {
             "endlinecolor": "#2a3f5f",
             "gridcolor": "white",
             "linecolor": "white",
             "minorgridcolor": "white",
             "startlinecolor": "#2a3f5f"
            },
            "baxis": {
             "endlinecolor": "#2a3f5f",
             "gridcolor": "white",
             "linecolor": "white",
             "minorgridcolor": "white",
             "startlinecolor": "#2a3f5f"
            },
            "type": "carpet"
           }
          ],
          "choropleth": [
           {
            "colorbar": {
             "outlinewidth": 0,
             "ticks": ""
            },
            "type": "choropleth"
           }
          ],
          "contour": [
           {
            "colorbar": {
             "outlinewidth": 0,
             "ticks": ""
            },
            "colorscale": [
             [
              0,
              "#0d0887"
             ],
             [
              0.1111111111111111,
              "#46039f"
             ],
             [
              0.2222222222222222,
              "#7201a8"
             ],
             [
              0.3333333333333333,
              "#9c179e"
             ],
             [
              0.4444444444444444,
              "#bd3786"
             ],
             [
              0.5555555555555556,
              "#d8576b"
             ],
             [
              0.6666666666666666,
              "#ed7953"
             ],
             [
              0.7777777777777778,
              "#fb9f3a"
             ],
             [
              0.8888888888888888,
              "#fdca26"
             ],
             [
              1,
              "#f0f921"
             ]
            ],
            "type": "contour"
           }
          ],
          "contourcarpet": [
           {
            "colorbar": {
             "outlinewidth": 0,
             "ticks": ""
            },
            "type": "contourcarpet"
           }
          ],
          "heatmap": [
           {
            "colorbar": {
             "outlinewidth": 0,
             "ticks": ""
            },
            "colorscale": [
             [
              0,
              "#0d0887"
             ],
             [
              0.1111111111111111,
              "#46039f"
             ],
             [
              0.2222222222222222,
              "#7201a8"
             ],
             [
              0.3333333333333333,
              "#9c179e"
             ],
             [
              0.4444444444444444,
              "#bd3786"
             ],
             [
              0.5555555555555556,
              "#d8576b"
             ],
             [
              0.6666666666666666,
              "#ed7953"
             ],
             [
              0.7777777777777778,
              "#fb9f3a"
             ],
             [
              0.8888888888888888,
              "#fdca26"
             ],
             [
              1,
              "#f0f921"
             ]
            ],
            "type": "heatmap"
           }
          ],
          "heatmapgl": [
           {
            "colorbar": {
             "outlinewidth": 0,
             "ticks": ""
            },
            "colorscale": [
             [
              0,
              "#0d0887"
             ],
             [
              0.1111111111111111,
              "#46039f"
             ],
             [
              0.2222222222222222,
              "#7201a8"
             ],
             [
              0.3333333333333333,
              "#9c179e"
             ],
             [
              0.4444444444444444,
              "#bd3786"
             ],
             [
              0.5555555555555556,
              "#d8576b"
             ],
             [
              0.6666666666666666,
              "#ed7953"
             ],
             [
              0.7777777777777778,
              "#fb9f3a"
             ],
             [
              0.8888888888888888,
              "#fdca26"
             ],
             [
              1,
              "#f0f921"
             ]
            ],
            "type": "heatmapgl"
           }
          ],
          "histogram": [
           {
            "marker": {
             "pattern": {
              "fillmode": "overlay",
              "size": 10,
              "solidity": 0.2
             }
            },
            "type": "histogram"
           }
          ],
          "histogram2d": [
           {
            "colorbar": {
             "outlinewidth": 0,
             "ticks": ""
            },
            "colorscale": [
             [
              0,
              "#0d0887"
             ],
             [
              0.1111111111111111,
              "#46039f"
             ],
             [
              0.2222222222222222,
              "#7201a8"
             ],
             [
              0.3333333333333333,
              "#9c179e"
             ],
             [
              0.4444444444444444,
              "#bd3786"
             ],
             [
              0.5555555555555556,
              "#d8576b"
             ],
             [
              0.6666666666666666,
              "#ed7953"
             ],
             [
              0.7777777777777778,
              "#fb9f3a"
             ],
             [
              0.8888888888888888,
              "#fdca26"
             ],
             [
              1,
              "#f0f921"
             ]
            ],
            "type": "histogram2d"
           }
          ],
          "histogram2dcontour": [
           {
            "colorbar": {
             "outlinewidth": 0,
             "ticks": ""
            },
            "colorscale": [
             [
              0,
              "#0d0887"
             ],
             [
              0.1111111111111111,
              "#46039f"
             ],
             [
              0.2222222222222222,
              "#7201a8"
             ],
             [
              0.3333333333333333,
              "#9c179e"
             ],
             [
              0.4444444444444444,
              "#bd3786"
             ],
             [
              0.5555555555555556,
              "#d8576b"
             ],
             [
              0.6666666666666666,
              "#ed7953"
             ],
             [
              0.7777777777777778,
              "#fb9f3a"
             ],
             [
              0.8888888888888888,
              "#fdca26"
             ],
             [
              1,
              "#f0f921"
             ]
            ],
            "type": "histogram2dcontour"
           }
          ],
          "mesh3d": [
           {
            "colorbar": {
             "outlinewidth": 0,
             "ticks": ""
            },
            "type": "mesh3d"
           }
          ],
          "parcoords": [
           {
            "line": {
             "colorbar": {
              "outlinewidth": 0,
              "ticks": ""
             }
            },
            "type": "parcoords"
           }
          ],
          "pie": [
           {
            "automargin": true,
            "type": "pie"
           }
          ],
          "scatter": [
           {
            "marker": {
             "colorbar": {
              "outlinewidth": 0,
              "ticks": ""
             }
            },
            "type": "scatter"
           }
          ],
          "scatter3d": [
           {
            "line": {
             "colorbar": {
              "outlinewidth": 0,
              "ticks": ""
             }
            },
            "marker": {
             "colorbar": {
              "outlinewidth": 0,
              "ticks": ""
             }
            },
            "type": "scatter3d"
           }
          ],
          "scattercarpet": [
           {
            "marker": {
             "colorbar": {
              "outlinewidth": 0,
              "ticks": ""
             }
            },
            "type": "scattercarpet"
           }
          ],
          "scattergeo": [
           {
            "marker": {
             "colorbar": {
              "outlinewidth": 0,
              "ticks": ""
             }
            },
            "type": "scattergeo"
           }
          ],
          "scattergl": [
           {
            "marker": {
             "colorbar": {
              "outlinewidth": 0,
              "ticks": ""
             }
            },
            "type": "scattergl"
           }
          ],
          "scattermapbox": [
           {
            "marker": {
             "colorbar": {
              "outlinewidth": 0,
              "ticks": ""
             }
            },
            "type": "scattermapbox"
           }
          ],
          "scatterpolar": [
           {
            "marker": {
             "colorbar": {
              "outlinewidth": 0,
              "ticks": ""
             }
            },
            "type": "scatterpolar"
           }
          ],
          "scatterpolargl": [
           {
            "marker": {
             "colorbar": {
              "outlinewidth": 0,
              "ticks": ""
             }
            },
            "type": "scatterpolargl"
           }
          ],
          "scatterternary": [
           {
            "marker": {
             "colorbar": {
              "outlinewidth": 0,
              "ticks": ""
             }
            },
            "type": "scatterternary"
           }
          ],
          "surface": [
           {
            "colorbar": {
             "outlinewidth": 0,
             "ticks": ""
            },
            "colorscale": [
             [
              0,
              "#0d0887"
             ],
             [
              0.1111111111111111,
              "#46039f"
             ],
             [
              0.2222222222222222,
              "#7201a8"
             ],
             [
              0.3333333333333333,
              "#9c179e"
             ],
             [
              0.4444444444444444,
              "#bd3786"
             ],
             [
              0.5555555555555556,
              "#d8576b"
             ],
             [
              0.6666666666666666,
              "#ed7953"
             ],
             [
              0.7777777777777778,
              "#fb9f3a"
             ],
             [
              0.8888888888888888,
              "#fdca26"
             ],
             [
              1,
              "#f0f921"
             ]
            ],
            "type": "surface"
           }
          ],
          "table": [
           {
            "cells": {
             "fill": {
              "color": "#EBF0F8"
             },
             "line": {
              "color": "white"
             }
            },
            "header": {
             "fill": {
              "color": "#C8D4E3"
             },
             "line": {
              "color": "white"
             }
            },
            "type": "table"
           }
          ]
         },
         "layout": {
          "annotationdefaults": {
           "arrowcolor": "#2a3f5f",
           "arrowhead": 0,
           "arrowwidth": 1
          },
          "autotypenumbers": "strict",
          "coloraxis": {
           "colorbar": {
            "outlinewidth": 0,
            "ticks": ""
           }
          },
          "colorscale": {
           "diverging": [
            [
             0,
             "#8e0152"
            ],
            [
             0.1,
             "#c51b7d"
            ],
            [
             0.2,
             "#de77ae"
            ],
            [
             0.3,
             "#f1b6da"
            ],
            [
             0.4,
             "#fde0ef"
            ],
            [
             0.5,
             "#f7f7f7"
            ],
            [
             0.6,
             "#e6f5d0"
            ],
            [
             0.7,
             "#b8e186"
            ],
            [
             0.8,
             "#7fbc41"
            ],
            [
             0.9,
             "#4d9221"
            ],
            [
             1,
             "#276419"
            ]
           ],
           "sequential": [
            [
             0,
             "#0d0887"
            ],
            [
             0.1111111111111111,
             "#46039f"
            ],
            [
             0.2222222222222222,
             "#7201a8"
            ],
            [
             0.3333333333333333,
             "#9c179e"
            ],
            [
             0.4444444444444444,
             "#bd3786"
            ],
            [
             0.5555555555555556,
             "#d8576b"
            ],
            [
             0.6666666666666666,
             "#ed7953"
            ],
            [
             0.7777777777777778,
             "#fb9f3a"
            ],
            [
             0.8888888888888888,
             "#fdca26"
            ],
            [
             1,
             "#f0f921"
            ]
           ],
           "sequentialminus": [
            [
             0,
             "#0d0887"
            ],
            [
             0.1111111111111111,
             "#46039f"
            ],
            [
             0.2222222222222222,
             "#7201a8"
            ],
            [
             0.3333333333333333,
             "#9c179e"
            ],
            [
             0.4444444444444444,
             "#bd3786"
            ],
            [
             0.5555555555555556,
             "#d8576b"
            ],
            [
             0.6666666666666666,
             "#ed7953"
            ],
            [
             0.7777777777777778,
             "#fb9f3a"
            ],
            [
             0.8888888888888888,
             "#fdca26"
            ],
            [
             1,
             "#f0f921"
            ]
           ]
          },
          "colorway": [
           "#636efa",
           "#EF553B",
           "#00cc96",
           "#ab63fa",
           "#FFA15A",
           "#19d3f3",
           "#FF6692",
           "#B6E880",
           "#FF97FF",
           "#FECB52"
          ],
          "font": {
           "color": "#2a3f5f"
          },
          "geo": {
           "bgcolor": "white",
           "lakecolor": "white",
           "landcolor": "#E5ECF6",
           "showlakes": true,
           "showland": true,
           "subunitcolor": "white"
          },
          "hoverlabel": {
           "align": "left"
          },
          "hovermode": "closest",
          "mapbox": {
           "style": "light"
          },
          "paper_bgcolor": "white",
          "plot_bgcolor": "#E5ECF6",
          "polar": {
           "angularaxis": {
            "gridcolor": "white",
            "linecolor": "white",
            "ticks": ""
           },
           "bgcolor": "#E5ECF6",
           "radialaxis": {
            "gridcolor": "white",
            "linecolor": "white",
            "ticks": ""
           }
          },
          "scene": {
           "xaxis": {
            "backgroundcolor": "#E5ECF6",
            "gridcolor": "white",
            "gridwidth": 2,
            "linecolor": "white",
            "showbackground": true,
            "ticks": "",
            "zerolinecolor": "white"
           },
           "yaxis": {
            "backgroundcolor": "#E5ECF6",
            "gridcolor": "white",
            "gridwidth": 2,
            "linecolor": "white",
            "showbackground": true,
            "ticks": "",
            "zerolinecolor": "white"
           },
           "zaxis": {
            "backgroundcolor": "#E5ECF6",
            "gridcolor": "white",
            "gridwidth": 2,
            "linecolor": "white",
            "showbackground": true,
            "ticks": "",
            "zerolinecolor": "white"
           }
          },
          "shapedefaults": {
           "line": {
            "color": "#2a3f5f"
           }
          },
          "ternary": {
           "aaxis": {
            "gridcolor": "white",
            "linecolor": "white",
            "ticks": ""
           },
           "baxis": {
            "gridcolor": "white",
            "linecolor": "white",
            "ticks": ""
           },
           "bgcolor": "#E5ECF6",
           "caxis": {
            "gridcolor": "white",
            "linecolor": "white",
            "ticks": ""
           }
          },
          "title": {
           "x": 0.05
          },
          "xaxis": {
           "automargin": true,
           "gridcolor": "white",
           "linecolor": "white",
           "ticks": "",
           "title": {
            "standoff": 15
           },
           "zerolinecolor": "white",
           "zerolinewidth": 2
          },
          "yaxis": {
           "automargin": true,
           "gridcolor": "white",
           "linecolor": "white",
           "ticks": "",
           "title": {
            "standoff": 15
           },
           "zerolinecolor": "white",
           "zerolinewidth": 2
          }
         }
        },
        "title": {
         "text": "UB Science majors based on the first choice 2019"
        },
        "xaxis": {
         "anchor": "y",
         "domain": [
          0,
          1
         ],
         "title": {
          "text": ""
         }
        },
        "yaxis": {
         "anchor": "x",
         "domain": [
          0,
          1
         ],
         "title": {
          "text": "Majors"
         }
        }
       }
      }
     },
     "metadata": {},
     "output_type": "display_data"
    }
   ],
   "source": [
    "fig = px.bar(data_frame=a,y='first_major',x=['Capacity','Total choices'],barmode='group',height=1400,text_auto=True,pattern_shape_sequence=[\"x\"],)\n",
    "fig.update_layout(title='UB Science majors based on the first choice 2019',xaxis_title='',yaxis_title='Majors')\n",
    "fig.update_traces(textfont_size=36, textangle=0, textposition=\"outside\", cliponaxis=False)\n",
    "fig.show()"
   ]
  },
  {
   "cell_type": "markdown",
   "metadata": {},
   "source": [
    "![Science Major UB Top Choices 2019](/photos/Science%20Major%20UB%20Top%20Choices%202019.png)"
   ]
  },
  {
   "cell_type": "code",
   "execution_count": 28,
   "metadata": {},
   "outputs": [
    {
     "data": {
      "text/plain": [
       "Index(['score_bio', 'score_fis', 'score_kim', 'score_mat', 'score_kmb',\n",
       "       'score_kpu', 'score_kua', 'score_ppu', 'specialized_score',\n",
       "       'general_score', 'average_score', 'first_univ', 'first_major',\n",
       "       'first_capacity'],\n",
       "      dtype='object')"
      ]
     },
     "execution_count": 28,
     "metadata": {},
     "output_type": "execute_result"
    }
   ],
   "source": [
    "df_univ_braw.columns"
   ]
  },
  {
   "cell_type": "code",
   "execution_count": 29,
   "metadata": {},
   "outputs": [],
   "source": [
    "def find_the_lowest_score(df):\n",
    "    df_out = pd.DataFrame()\n",
    "    for key,subdf in df.sort_values('average_score',ascending=False).groupby('first_major'):\n",
    "        capacity = subdf['first_capacity'].iloc[0]\n",
    "        data = subdf['average_score'].iloc[:capacity]\n",
    "        data_specialized_score = subdf['specialized_score'].iloc[:capacity]\n",
    "        data_general_score = subdf['general_score'].iloc[:capacity]\n",
    "        major = subdf['first_major'].iloc[:capacity]\n",
    "        data = pd.concat([data_general_score,data_specialized_score,data,major,],axis=1)\n",
    "        t = pd.DataFrame(data)\n",
    "        df_out = pd.concat([df_out,t],ignore_index=True)\n",
    "    return df_out"
   ]
  },
  {
   "cell_type": "code",
   "execution_count": 30,
   "metadata": {},
   "outputs": [
    {
     "data": {
      "text/html": [
       "<div>\n",
       "<style scoped>\n",
       "    .dataframe tbody tr th:only-of-type {\n",
       "        vertical-align: middle;\n",
       "    }\n",
       "\n",
       "    .dataframe tbody tr th {\n",
       "        vertical-align: top;\n",
       "    }\n",
       "\n",
       "    .dataframe thead th {\n",
       "        text-align: right;\n",
       "    }\n",
       "</style>\n",
       "<table border=\"1\" class=\"dataframe\">\n",
       "  <thead>\n",
       "    <tr style=\"text-align: right;\">\n",
       "      <th></th>\n",
       "      <th>general_score</th>\n",
       "      <th>specialized_score</th>\n",
       "      <th>average_score</th>\n",
       "      <th>first_major</th>\n",
       "    </tr>\n",
       "  </thead>\n",
       "  <tbody>\n",
       "    <tr>\n",
       "      <th>0</th>\n",
       "      <td>609.50</td>\n",
       "      <td>671.75</td>\n",
       "      <td>640.625</td>\n",
       "      <td>AGRIBISNIS</td>\n",
       "    </tr>\n",
       "    <tr>\n",
       "      <th>1</th>\n",
       "      <td>622.75</td>\n",
       "      <td>603.25</td>\n",
       "      <td>613.000</td>\n",
       "      <td>AGRIBISNIS</td>\n",
       "    </tr>\n",
       "    <tr>\n",
       "      <th>2</th>\n",
       "      <td>660.25</td>\n",
       "      <td>565.00</td>\n",
       "      <td>612.625</td>\n",
       "      <td>AGRIBISNIS</td>\n",
       "    </tr>\n",
       "    <tr>\n",
       "      <th>3</th>\n",
       "      <td>613.50</td>\n",
       "      <td>610.50</td>\n",
       "      <td>612.000</td>\n",
       "      <td>AGRIBISNIS</td>\n",
       "    </tr>\n",
       "    <tr>\n",
       "      <th>4</th>\n",
       "      <td>567.75</td>\n",
       "      <td>655.25</td>\n",
       "      <td>611.500</td>\n",
       "      <td>AGRIBISNIS</td>\n",
       "    </tr>\n",
       "    <tr>\n",
       "      <th>...</th>\n",
       "      <td>...</td>\n",
       "      <td>...</td>\n",
       "      <td>...</td>\n",
       "      <td>...</td>\n",
       "    </tr>\n",
       "    <tr>\n",
       "      <th>1318</th>\n",
       "      <td>678.75</td>\n",
       "      <td>540.00</td>\n",
       "      <td>609.375</td>\n",
       "      <td>TEKNOLOGI INFORMASI</td>\n",
       "    </tr>\n",
       "    <tr>\n",
       "      <th>1319</th>\n",
       "      <td>607.75</td>\n",
       "      <td>610.25</td>\n",
       "      <td>609.000</td>\n",
       "      <td>TEKNOLOGI INFORMASI</td>\n",
       "    </tr>\n",
       "    <tr>\n",
       "      <th>1320</th>\n",
       "      <td>611.75</td>\n",
       "      <td>600.00</td>\n",
       "      <td>605.875</td>\n",
       "      <td>TEKNOLOGI INFORMASI</td>\n",
       "    </tr>\n",
       "    <tr>\n",
       "      <th>1321</th>\n",
       "      <td>680.50</td>\n",
       "      <td>531.00</td>\n",
       "      <td>605.750</td>\n",
       "      <td>TEKNOLOGI INFORMASI</td>\n",
       "    </tr>\n",
       "    <tr>\n",
       "      <th>1322</th>\n",
       "      <td>595.75</td>\n",
       "      <td>615.50</td>\n",
       "      <td>605.625</td>\n",
       "      <td>TEKNOLOGI INFORMASI</td>\n",
       "    </tr>\n",
       "  </tbody>\n",
       "</table>\n",
       "<p>1323 rows × 4 columns</p>\n",
       "</div>"
      ],
      "text/plain": [
       "      general_score  specialized_score  average_score          first_major\n",
       "0            609.50             671.75        640.625           AGRIBISNIS\n",
       "1            622.75             603.25        613.000           AGRIBISNIS\n",
       "2            660.25             565.00        612.625           AGRIBISNIS\n",
       "3            613.50             610.50        612.000           AGRIBISNIS\n",
       "4            567.75             655.25        611.500           AGRIBISNIS\n",
       "...             ...                ...            ...                  ...\n",
       "1318         678.75             540.00        609.375  TEKNOLOGI INFORMASI\n",
       "1319         607.75             610.25        609.000  TEKNOLOGI INFORMASI\n",
       "1320         611.75             600.00        605.875  TEKNOLOGI INFORMASI\n",
       "1321         680.50             531.00        605.750  TEKNOLOGI INFORMASI\n",
       "1322         595.75             615.50        605.625  TEKNOLOGI INFORMASI\n",
       "\n",
       "[1323 rows x 4 columns]"
      ]
     },
     "execution_count": 30,
     "metadata": {},
     "output_type": "execute_result"
    }
   ],
   "source": [
    "df_univ_braw_clear = find_the_lowest_score(df_univ_braw)\n",
    "df_univ_braw_clear"
   ]
  },
  {
   "cell_type": "code",
   "execution_count": 31,
   "metadata": {},
   "outputs": [
    {
     "data": {
      "application/vnd.plotly.v1+json": {
       "config": {
        "plotlyServerURL": "https://plot.ly"
       },
       "data": [
        {
         "marker": {
          "color": "indianred"
         },
         "name": "specialized_score",
         "type": "box",
         "y": [
          671.75,
          603.25,
          565,
          610.5,
          655.25,
          597.5,
          600.25,
          543.25,
          624.75,
          564.5,
          562.5,
          582.5,
          634.25,
          615.75,
          579.75,
          555.75,
          544.5,
          553,
          573.75,
          598.75,
          560.5,
          608.25,
          537,
          564,
          561.5,
          483.75,
          585.5,
          523.5,
          569.5,
          549.75,
          545.75,
          548.25,
          579.25,
          606.5,
          501.75,
          617.5,
          562,
          510.75,
          543.5,
          551.75,
          586.25,
          543.25,
          617.5,
          545.25,
          563.25,
          620,
          549.25,
          526.5,
          604,
          613.25,
          599.5,
          559.75,
          545.5,
          578.75,
          550,
          595.5,
          626,
          485.5,
          604.25,
          545.75,
          558.5,
          496,
          540.5,
          571.75,
          580,
          592,
          550.5,
          618.25,
          542.5,
          524.75,
          553.75,
          590,
          502.25,
          547.25,
          519.75,
          609.75,
          558.5,
          525.5,
          588.75,
          617.25,
          529.75,
          571,
          560.75,
          580.75,
          527,
          568.75,
          551.25,
          496,
          595.75,
          531,
          570,
          565.75,
          562.5,
          549.75,
          522.75,
          524,
          563.5,
          522.75,
          526.25,
          594,
          555.5,
          509.5,
          511.75,
          612.75,
          575,
          646.75,
          667,
          542.25,
          624.25,
          593.75,
          633.25,
          510,
          581.75,
          597,
          590.25,
          583.5,
          658.5,
          582.5,
          590.75,
          535,
          576.5,
          619.5,
          549.5,
          602.25,
          530,
          542.75,
          598.25,
          561.75,
          605,
          587.5,
          537.25,
          543.5,
          659.75,
          575.5,
          530.75,
          597.25,
          579.25,
          533.75,
          597.5,
          573.5,
          588.5,
          600.75,
          658.5,
          598.75,
          542.5,
          598.25,
          644.25,
          555.25,
          570.5,
          577.5,
          582.75,
          546.75,
          553.25,
          534,
          563.5,
          600.75,
          512.25,
          619.75,
          599.75,
          539.5,
          560.5,
          515.5,
          567.5,
          553,
          560,
          627.75,
          558.25,
          584.25,
          587.75,
          563.25,
          556.25,
          554.25,
          554.75,
          538.25,
          564.25,
          535.5,
          528.75,
          537.5,
          542,
          532.75,
          570.25,
          508.25,
          565.5,
          563,
          548.75,
          554.5,
          570.25,
          470.75,
          573.5,
          577.5,
          572.75,
          562,
          580.75,
          612.75,
          588.75,
          534,
          516.5,
          515.5,
          528,
          502.5,
          588.75,
          509.75,
          578.5,
          539.5,
          572.75,
          541.5,
          617.5,
          558.75,
          537,
          564.25,
          576.25,
          578.5,
          587.5,
          565,
          535.5,
          591.25,
          522.5,
          592,
          501,
          538.5,
          545.25,
          545,
          543,
          524.5,
          557.75,
          559.5,
          550.5,
          502.5,
          525.25,
          505.75,
          529.5,
          527.75,
          560,
          554.75,
          490.75,
          496,
          488.25,
          521.75,
          503.5,
          551,
          515,
          522.75,
          519.25,
          583.25,
          693,
          654.75,
          659.75,
          635.25,
          622,
          613.75,
          598.25,
          567.25,
          617.25,
          631.25,
          642.75,
          662.75,
          638,
          580.25,
          583.25,
          664.75,
          584,
          684.5,
          649.25,
          604.25,
          684.25,
          598,
          604.75,
          592.25,
          630.5,
          554,
          596,
          634.25,
          611.75,
          595,
          557,
          603.5,
          614.75,
          651,
          641.25,
          581.5,
          559.25,
          574.75,
          591.5,
          620,
          515.75,
          545.25,
          532.25,
          603.75,
          558.75,
          555.5,
          542.75,
          560.25,
          545.5,
          565.5,
          568.75,
          562.75,
          609.25,
          503,
          566.25,
          678.25,
          628,
          646.5,
          654,
          615.25,
          551.75,
          602.75,
          591.5,
          578.25,
          597.25,
          585.5,
          635.25,
          541,
          545,
          629.75,
          574.5,
          661.25,
          609.75,
          572.25,
          567.5,
          507.25,
          555.5,
          572,
          551.75,
          582.75,
          565,
          589.25,
          625.75,
          541,
          564.75,
          575.25,
          592,
          548,
          520.75,
          587.75,
          505.5,
          568.75,
          553.5,
          508.25,
          555.75,
          546.25,
          534,
          491.75,
          527.25,
          541.75,
          527.25,
          552.75,
          527.75,
          600.75,
          675.25,
          641,
          635.75,
          669,
          670.5,
          648.25,
          583.75,
          607.25,
          636,
          665.5,
          645.25,
          631.25,
          590,
          634.5,
          561.75,
          544,
          558.5,
          567.75,
          658.5,
          622.5,
          671.25,
          574.5,
          524.75,
          588.5,
          614.75,
          559.5,
          600.25,
          624,
          519,
          641.25,
          598.5,
          581.75,
          514,
          579.75,
          601.5,
          517.75,
          572,
          752.25,
          643.5,
          712.75,
          671,
          687.5,
          638.75,
          642.25,
          689,
          622.5,
          599.75,
          635.75,
          642.25,
          606.5,
          580.75,
          626.75,
          544,
          582.25,
          621.25,
          583.25,
          653.5,
          625,
          644,
          663,
          594.75,
          606.75,
          651.75,
          591,
          562.75,
          615.25,
          617.75,
          584.25,
          675.5,
          610.75,
          612,
          623.25,
          581.75,
          596.25,
          584.5,
          604.5,
          618.5,
          574.25,
          585,
          600.5,
          596.75,
          580,
          589.75,
          689.25,
          564,
          625.25,
          590,
          632.75,
          572.5,
          590,
          617.25,
          656.5,
          578.5,
          524.5,
          559.5,
          582.25,
          526,
          552.5,
          515.75,
          535.5,
          489.25,
          556.75,
          502.5,
          597.25,
          572.5,
          584.25,
          551.75,
          548,
          641.25,
          547.25,
          589.5,
          656,
          645,
          603.75,
          600.75,
          637,
          677.75,
          680.75,
          560,
          539,
          563.75,
          609.25,
          558,
          573.5,
          556,
          557,
          611.75,
          557,
          593.25,
          560,
          594.5,
          524.75,
          549.75,
          601,
          560.5,
          590.75,
          542,
          535,
          556.5,
          648.75,
          575,
          618.5,
          629.5,
          524.75,
          548.25,
          571.5,
          548.75,
          629.75,
          602.5,
          574,
          602.25,
          562,
          594.25,
          582.75,
          590,
          594,
          538.5,
          570,
          581.75,
          573,
          555.75,
          540,
          557.25,
          548.75,
          612,
          597.25,
          600.75,
          653.75,
          609.5,
          576.5,
          557,
          540.5,
          553.25,
          512.75,
          613.5,
          522.75,
          553.25,
          487.75,
          547.25,
          627.5,
          537.5,
          546.5,
          551.5,
          498.75,
          810.25,
          672.25,
          639.5,
          664,
          657.75,
          671.75,
          656.5,
          582.75,
          622.5,
          602.25,
          619.25,
          547.75,
          632.75,
          602.25,
          591.5,
          579.75,
          566.75,
          619.5,
          580,
          617,
          557,
          624,
          633.75,
          612.25,
          568.75,
          587.75,
          644.5,
          578.75,
          644.5,
          508.75,
          601.75,
          556,
          669,
          546,
          502.5,
          536.5,
          640.5,
          569,
          581.25,
          490.25,
          510.75,
          586,
          520,
          565.75,
          564,
          584,
          551.25,
          562.75,
          550,
          556.75,
          559.5,
          527.25,
          481,
          597.5,
          545.5,
          570,
          507,
          548.25,
          586.5,
          502,
          659.5,
          617.75,
          627.25,
          602.5,
          672.5,
          640.5,
          535.5,
          611,
          606.25,
          578,
          596.25,
          565.5,
          543.25,
          550,
          617.75,
          613,
          663,
          584.75,
          561.5,
          590.5,
          562,
          661.25,
          596.25,
          622.25,
          569.5,
          589.75,
          630,
          625.75,
          625.75,
          603,
          574.25,
          579.5,
          586.75,
          589.5,
          564,
          480,
          568,
          536.75,
          554.25,
          504.75,
          533,
          576.75,
          619,
          621,
          588.5,
          562.75,
          528,
          492.75,
          511.5,
          525.5,
          542.25,
          580.25,
          584.5,
          550,
          485,
          541.75,
          554.25,
          499.75,
          589.25,
          513.25,
          810.25,
          728,
          782.25,
          709,
          757.75,
          722.25,
          776.25,
          726,
          721.25,
          746.75,
          777.5,
          744.5,
          708.75,
          713.5,
          698.25,
          765,
          713,
          656.5,
          711,
          752.75,
          741.25,
          714,
          648.25,
          709.5,
          661.5,
          659.25,
          668,
          725.75,
          654.75,
          766.25,
          726,
          691.5,
          695.5,
          679.5,
          666.5,
          622.25,
          665,
          699.25,
          631.5,
          702.25,
          686.5,
          739.25,
          716.25,
          686.5,
          675,
          673.5,
          649.75,
          710.75,
          675,
          748,
          629,
          711.75,
          604.25,
          643.75,
          645.5,
          648.75,
          611.75,
          643.75,
          608.75,
          590.5,
          656.25,
          513,
          564.75,
          536.5,
          597.5,
          585.25,
          588.5,
          604,
          624.5,
          610.5,
          554,
          578.5,
          681.75,
          632,
          554.5,
          619.5,
          571.75,
          618,
          559.25,
          601.5,
          628,
          490.25,
          590,
          607.25,
          644,
          627.75,
          535,
          579.75,
          588.75,
          478,
          540.25,
          626.75,
          561.75,
          583.5,
          544.5,
          568.75,
          545,
          522.5,
          596.5,
          565.75,
          588.5,
          522.25,
          698.25,
          660.5,
          633,
          576.5,
          624.75,
          613.5,
          560.25,
          630,
          621.75,
          654.75,
          622.5,
          607,
          560,
          652.25,
          591.75,
          601,
          610.75,
          588.75,
          610.25,
          602.5,
          583.25,
          577.5,
          592.25,
          639.5,
          625.5,
          570.75,
          583.75,
          615.25,
          587.75,
          596.75,
          632.25,
          577.25,
          552,
          543.5,
          571.5,
          550.5,
          561.25,
          506.75,
          603,
          572.75,
          592,
          548.25,
          531.5,
          599.25,
          538,
          580.5,
          547,
          538.25,
          523,
          525,
          547.75,
          533.75,
          549,
          554.75,
          552.75,
          529.5,
          503,
          592.25,
          562,
          566.75,
          606.75,
          499.5,
          578.25,
          541.75,
          542.5,
          589.25,
          562.25,
          525.5,
          570.75,
          616.25,
          562,
          546.5,
          538.25,
          498.75,
          502,
          485.25,
          613.25,
          489.25,
          558.25,
          527.5,
          552.25,
          565,
          526.25,
          552.5,
          545,
          491.75,
          481.75,
          469.75,
          525.75,
          518.25,
          582.75,
          579.75,
          538,
          531,
          542.25,
          557.5,
          519,
          512.5,
          521.75,
          523.25,
          462.25,
          519,
          537.25,
          571,
          478.75,
          499.5,
          489.25,
          565.25,
          558.75,
          521.25,
          478.5,
          538.75,
          529.25,
          494.75,
          513.75,
          474.25,
          494.75,
          517.25,
          473.5,
          554.75,
          584.25,
          531.25,
          498.25,
          565.75,
          566.75,
          470.25,
          599.5,
          547.75,
          509.75,
          585.25,
          516.5,
          570.75,
          565.25,
          494,
          496,
          476.25,
          482.75,
          620.75,
          579.75,
          611.75,
          634.25,
          572.75,
          599,
          625.25,
          647.75,
          674.25,
          614,
          607.5,
          652.25,
          573,
          627.5,
          619.75,
          593.25,
          554,
          604.75,
          668.25,
          634,
          665.75,
          619.5,
          598,
          619,
          558,
          527.75,
          595,
          587.25,
          550.75,
          443.5,
          559.5,
          563.75,
          538,
          679.75,
          669,
          660.25,
          660.5,
          605.5,
          610.25,
          676.75,
          651,
          661,
          618.25,
          647.5,
          595.25,
          620,
          527.75,
          606.5,
          596.75,
          581,
          644.25,
          637.25,
          633,
          578.75,
          612.5,
          628.25,
          612,
          631.25,
          590.5,
          636.25,
          609.5,
          563.25,
          612,
          604.5,
          576,
          610.5,
          698.25,
          650.25,
          685.75,
          566,
          644.75,
          623.25,
          636.75,
          646.5,
          637.25,
          605.25,
          607.5,
          655,
          525,
          570.75,
          597,
          669.75,
          579.25,
          534.25,
          527,
          566.5,
          605.25,
          552,
          642.75,
          568.75,
          549,
          557.5,
          559.75,
          630,
          654,
          624.5,
          613.75,
          633,
          609.75,
          604,
          564.75,
          576,
          584.75,
          578.75,
          633.5,
          563.5,
          636,
          582,
          645.5,
          534.5,
          587,
          699.25,
          734.75,
          615.75,
          706,
          628.25,
          614,
          640,
          654.5,
          646.25,
          628.75,
          674.75,
          605,
          690.75,
          623.25,
          618.25,
          647.75,
          671.25,
          598,
          685.75,
          598.25,
          638.5,
          596.75,
          621.5,
          624,
          643.25,
          634,
          600,
          625,
          577,
          570,
          617.5,
          634.25,
          699.75,
          748.5,
          720.5,
          596,
          632.75,
          661,
          588.5,
          685.75,
          655,
          602.5,
          699.5,
          680.5,
          611.75,
          630.75,
          626.25,
          585,
          598.5,
          642.5,
          564.75,
          620.25,
          615.75,
          623.5,
          660.5,
          635.5,
          634.5,
          588.5,
          605,
          633.75,
          636.25,
          646,
          536.5,
          657.5,
          594.5,
          659.75,
          668.25,
          608.75,
          633.5,
          575.5,
          604.25,
          697,
          588.5,
          669,
          639,
          665,
          577.25,
          621,
          546.25,
          673,
          647.75,
          663.75,
          573.5,
          604.75,
          618.25,
          600,
          597.5,
          617.75,
          613.5,
          632,
          586,
          613.5,
          629.5,
          656.25,
          608.25,
          568.75,
          621.5,
          666,
          623,
          595.25,
          532.5,
          653.25,
          602,
          607,
          636.75,
          572.5,
          595.75,
          660.75,
          586.75,
          593,
          564,
          593.5,
          544.25,
          522.5,
          588,
          533.5,
          539,
          646.25,
          579.25,
          680.25,
          672,
          633.5,
          704.75,
          655.25,
          687.5,
          633.25,
          631.25,
          627.5,
          710.5,
          630.25,
          694.5,
          580.5,
          619.5,
          562.5,
          608,
          626.25,
          524,
          575,
          564.5,
          623.25,
          614.25,
          693,
          582.25,
          541,
          543.25,
          633.25,
          639,
          670.5,
          620,
          588.25,
          612.5,
          621,
          638.5,
          609.25,
          653.5,
          601.75,
          660,
          619.75,
          632,
          621.75,
          552.5,
          606.5,
          587.25,
          548,
          582,
          643,
          580.5,
          657.25,
          566.75,
          590.75,
          597,
          642,
          544.5,
          634,
          609,
          593.25,
          654.5,
          551.5,
          582.25,
          587.5,
          548.75,
          567.25,
          608.25,
          640.75,
          596,
          585.25,
          577,
          593,
          581.75,
          576.25,
          559.5,
          579.75,
          642.75,
          533.25,
          593.75,
          556.75,
          546.5,
          600.25,
          612,
          696,
          692.75,
          664.5,
          654.75,
          627.25,
          668.75,
          613.5,
          621.5,
          639.5,
          673.25,
          626,
          683.5,
          698.75,
          681.75,
          612,
          672.5,
          606,
          714,
          618.5,
          704.75,
          620.5,
          666,
          648.25,
          676,
          627.25,
          650.5,
          659.25,
          585.25,
          609.5,
          612.5,
          614.25,
          636.5,
          532,
          568.75,
          623.25,
          569.75,
          620.75,
          623,
          521.75,
          564,
          559.25,
          495.5,
          616.5,
          570.5,
          542.5,
          622.75,
          540.25,
          616,
          525.75,
          533.75,
          555,
          559.75,
          564.5,
          543.5,
          476,
          542.25,
          501.5,
          569.5,
          531.75,
          497.75,
          511,
          489,
          508.5,
          543.25,
          550.75,
          519.25,
          563,
          557.5,
          533.75,
          510.75,
          636.5,
          579.25,
          638,
          581.25,
          593.75,
          584,
          634.5,
          596.5,
          560,
          566.75,
          605.25,
          551.75,
          521.25,
          633.5,
          623.25,
          584.75,
          535.75,
          591,
          536.75,
          517.25,
          583.25,
          526,
          578.75,
          565.5,
          560,
          529.75,
          564.5,
          524.25,
          564.75,
          551,
          589,
          562.5,
          552,
          546.25,
          568.25,
          559.75,
          578.5,
          554.5,
          522.25,
          519,
          672.75,
          582.75,
          592.5,
          586.5,
          561,
          587.75,
          518.75,
          540,
          610.25,
          600,
          531,
          615.5
         ]
        },
        {
         "marker": {
          "color": "lightseagreen"
         },
         "name": "general_score",
         "type": "box",
         "y": [
          609.5,
          622.75,
          660.25,
          613.5,
          567.75,
          619,
          615.5,
          671.5,
          589.25,
          647,
          643.5,
          622.25,
          569.75,
          584.75,
          620.5,
          637.75,
          648.25,
          639.75,
          617.75,
          592,
          628.25,
          577,
          647.75,
          617.25,
          616,
          690,
          587.25,
          648.5,
          601,
          620.5,
          621.75,
          615.25,
          583.5,
          556,
          657.75,
          540.75,
          595.5,
          645.5,
          612.75,
          604.5,
          568.25,
          610.5,
          536.25,
          608.25,
          589.75,
          532,
          600.75,
          623.25,
          543.75,
          533,
          546.25,
          585.5,
          598.5,
          564.75,
          593,
          547.5,
          515.5,
          655.75,
          535.75,
          593.75,
          579,
          640.75,
          596,
          564,
          555.5,
          541.25,
          582.5,
          658.5,
          639.5,
          637,
          575.5,
          538.25,
          620.75,
          565.25,
          584.75,
          645.25,
          633.5,
          660.75,
          593.25,
          556.5,
          640,
          595.5,
          598.75,
          576.25,
          626.25,
          582,
          598.75,
          652.5,
          551,
          606.75,
          564.75,
          567,
          565.75,
          578,
          602.25,
          595.25,
          553.75,
          593.75,
          587,
          518.25,
          556.25,
          599,
          595,
          663,
          696.5,
          604.25,
          568.5,
          682.75,
          596.25,
          624,
          583.75,
          704.75,
          632.5,
          613.75,
          618,
          624.5,
          549,
          624.25,
          612.25,
          668,
          625.25,
          581,
          650.5,
          596.5,
          668.75,
          654.75,
          597,
          631.75,
          586.75,
          603.5,
          653.75,
          647.25,
          530,
          614.25,
          656.5,
          589.75,
          607,
          649.5,
          583.75,
          606.5,
          591.25,
          578.5,
          520.5,
          579.25,
          635,
          579,
          533,
          621.25,
          604.25,
          597.25,
          591.25,
          625.75,
          616.25,
          634.5,
          604.75,
          565.5,
          653.5,
          545.75,
          564,
          621.75,
          600.25,
          645.25,
          592.25,
          606.5,
          599.5,
          530.5,
          599.5,
          573,
          569.5,
          592.25,
          598.25,
          600.25,
          598.5,
          614.5,
          588.25,
          616.25,
          622.25,
          613.25,
          608.75,
          617.25,
          579.5,
          641.5,
          584,
          586,
          599.75,
          594,
          576,
          674.75,
          571.5,
          567,
          571.75,
          582.25,
          563.5,
          531.25,
          555.25,
          609.75,
          627,
          628,
          615.25,
          640.5,
          553.75,
          631.75,
          562.5,
          601.25,
          567.5,
          597,
          520,
          578.25,
          598.75,
          571.5,
          558.75,
          556.25,
          547,
          568.75,
          596.75,
          540.5,
          609,
          539.25,
          630,
          592.25,
          584.5,
          584.5,
          586.25,
          604.5,
          570.5,
          568.75,
          577,
          618.5,
          592.75,
          603,
          579.25,
          578.25,
          542.5,
          547.5,
          607,
          589.5,
          593.25,
          548.5,
          566.5,
          516.25,
          552.25,
          544.5,
          543.5,
          751.25,
          632.25,
          651.75,
          635,
          656.25,
          666.5,
          674,
          686.75,
          717.75,
          664.75,
          646.25,
          630.75,
          609.5,
          630.75,
          687,
          682.5,
          600.25,
          680,
          579.5,
          614.75,
          656.5,
          574,
          658.5,
          650.25,
          662.25,
          622.5,
          698,
          653,
          650.25,
          656,
          661.5,
          688.5,
          635.5,
          621.75,
          578,
          583.25,
          642.5,
          637.25,
          619,
          596,
          565.5,
          668,
          622.5,
          635,
          563.25,
          601.5,
          603,
          614.5,
          593.75,
          607.25,
          582,
          578.25,
          584,
          534.25,
          639.25,
          572.75,
          665.5,
          667.25,
          641,
          624.5,
          648.75,
          709.25,
          652.25,
          650.75,
          651.75,
          629.25,
          641,
          587,
          680.75,
          675.5,
          586.75,
          640,
          552.75,
          604.25,
          640.5,
          641,
          690,
          638.75,
          614,
          625.5,
          581.75,
          597.5,
          571.25,
          530,
          614,
          588.75,
          573.75,
          549.25,
          590.5,
          615.5,
          542.5,
          624.5,
          559,
          572.5,
          613.5,
          565.75,
          574.5,
          585.75,
          624.25,
          588.25,
          573.5,
          584.5,
          558.5,
          582.5,
          741.25,
          640.5,
          668.5,
          667.25,
          623.25,
          618.25,
          635.25,
          699,
          674.5,
          644.5,
          608.75,
          619,
          632.5,
          671.75,
          626.5,
          697.5,
          706.75,
          687.5,
          674.5,
          637.25,
          637,
          582,
          658.75,
          706.25,
          635,
          598,
          652.25,
          608,
          584,
          686.75,
          558.25,
          594.25,
          609.75,
          671,
          604,
          579.25,
          657,
          599.5,
          684.5,
          698.5,
          627,
          652.5,
          614.25,
          641,
          636.5,
          582.5,
          647.25,
          668.5,
          624.5,
          617.5,
          652.5,
          677.25,
          629.25,
          712,
          672.5,
          630.75,
          663.75,
          699,
          717.5,
          653.25,
          632,
          699.5,
          680.25,
          629.75,
          681.25,
          707.75,
          644.25,
          640.25,
          673,
          581.5,
          645.5,
          642.5,
          630.75,
          667.75,
          653,
          661.75,
          640.5,
          623.25,
          664.75,
          653.25,
          635,
          638,
          652.5,
          638.5,
          614.75,
          701.75,
          608.75,
          630.75,
          586.25,
          642,
          619.25,
          586,
          543.75,
          620.25,
          660,
          624.75,
          592.75,
          648.5,
          619.5,
          655.75,
          627.5,
          668.5,
          600.25,
          651.5,
          553.25,
          578,
          566.25,
          596,
          599.5,
          504.5,
          598,
          555.5,
          649.5,
          644.5,
          664.5,
          656.5,
          618.75,
          568.75,
          563.25,
          665.75,
          674.25,
          647.25,
          599.25,
          649.75,
          628.75,
          645.25,
          643.5,
          583.5,
          635,
          595,
          625.25,
          583.75,
          652.75,
          626.5,
          631.75,
          654.75,
          618.25,
          658.25,
          661.25,
          632.25,
          537,
          610.5,
          553,
          541,
          645.5,
          621,
          586.25,
          608.25,
          643,
          641.25,
          667,
          626.5,
          659.25,
          620.75,
          627.5,
          615.5,
          609,
          663.5,
          627.5,
          613.5,
          619,
          628.5,
          642.75,
          625.25,
          633.5,
          608.5,
          613.5,
          599.25,
          545.25,
          588,
          618,
          587.75,
          603.25,
          586.25,
          623.75,
          521,
          610.5,
          579.25,
          643.25,
          580,
          498,
          586.75,
          573.75,
          568.25,
          619,
          717.25,
          619,
          648,
          621.5,
          613.5,
          597.25,
          608.75,
          682,
          637,
          648,
          621.75,
          692.75,
          604.5,
          633.75,
          641.25,
          651.5,
          662,
          606.5,
          645.75,
          602,
          660.75,
          591.25,
          581.25,
          598,
          641,
          620.5,
          563.5,
          626.5,
          560.25,
          694.25,
          596.25,
          640.25,
          568.5,
          677.75,
          717.5,
          660,
          551.5,
          612.75,
          597,
          684.75,
          663.75,
          586.75,
          644.25,
          595,
          591,
          569.5,
          601.25,
          589,
          596.25,
          582,
          578.75,
          611,
          645,
          528.5,
          579,
          552.25,
          615.25,
          566.5,
          525.75,
          607,
          702.75,
          720.5,
          693.75,
          681.25,
          604,
          622.75,
          717.75,
          632.75,
          636.75,
          660.25,
          640.25,
          669,
          688,
          681,
          613,
          616.25,
          564.25,
          640.75,
          663.25,
          634.25,
          662.25,
          559.25,
          624,
          590.25,
          641,
          619,
          578.5,
          582.75,
          580,
          600.25,
          629,
          623.75,
          627,
          602.75,
          617.75,
          695.25,
          604.5,
          635.75,
          608.5,
          649.75,
          618.75,
          574.5,
          532.25,
          530,
          557.75,
          579.5,
          613.25,
          633.5,
          612,
          596,
          577.25,
          535.25,
          526.75,
          560.5,
          618.25,
          561,
          547.25,
          599.25,
          509,
          581.5,
          657.25,
          714,
          657.75,
          726.25,
          677,
          705.75,
          647,
          694.25,
          697.75,
          669.25,
          636,
          666,
          700.75,
          694.75,
          705.25,
          638,
          687.25,
          739.75,
          676.75,
          632.75,
          643,
          666.25,
          730.5,
          667.25,
          715,
          716.75,
          708,
          650,
          721,
          609.25,
          648.75,
          678.5,
          670,
          683.25,
          695.25,
          737.75,
          692.75,
          658.25,
          725.25,
          652.25,
          715,
          654.75,
          677,
          691.75,
          698,
          698,
          698,
          633,
          668.5,
          592,
          704.25,
          617.5,
          720.25,
          668.75,
          653.5,
          643.75,
          656.25,
          601.25,
          633.75,
          647.25,
          581.25,
          722,
          666.25,
          692.75,
          631.5,
          636.25,
          632.75,
          612.5,
          588,
          599,
          655,
          629.5,
          523.5,
          572.25,
          649.25,
          576.5,
          618.25,
          571.25,
          625.75,
          583,
          555.5,
          691.5,
          589,
          571,
          534,
          549,
          639.5,
          592.75,
          621.5,
          724,
          655.5,
          560.75,
          611,
          586.75,
          618.25,
          576.25,
          594.5,
          615.25,
          539.25,
          544.75,
          765.25,
          788.5,
          601.5,
          636.75,
          651.75,
          706.5,
          653.75,
          660.25,
          712.5,
          629.5,
          634.5,
          599.75,
          630.5,
          645,
          681.75,
          589.25,
          648,
          638.25,
          625.25,
          646.75,
          624.75,
          632,
          650.75,
          653.25,
          635.75,
          587,
          600.25,
          655,
          708.75,
          616.75,
          635.5,
          620.75,
          579.75,
          627.25,
          652.25,
          653.75,
          625,
          646,
          634.25,
          688.75,
          588.25,
          614.25,
          594.5,
          630.25,
          643.5,
          572.75,
          630.25,
          586,
          614.25,
          622.75,
          634.5,
          632.25,
          608.25,
          621.5,
          606.25,
          599.5,
          601,
          623,
          649.25,
          560,
          590,
          585.25,
          544.5,
          651.5,
          567.5,
          601.25,
          600.25,
          553,
          579.75,
          612.5,
          566.75,
          520,
          573.25,
          588.25,
          595.75,
          632.5,
          628,
          644.5,
          508.5,
          630.75,
          561.5,
          591.75,
          566.75,
          553.25,
          589.5,
          562.25,
          567.25,
          620.25,
          629.75,
          641.25,
          584.25,
          590.75,
          525.25,
          527.5,
          568.75,
          574.75,
          563.25,
          547.5,
          585.25,
          591,
          581.75,
          579.75,
          640.75,
          582.75,
          563.75,
          529,
          620.5,
          599.5,
          609.5,
          531.25,
          537.75,
          575,
          616,
          554,
          562.5,
          596.25,
          576.5,
          615.75,
          595,
          571.75,
          615.5,
          533.5,
          502.25,
          554.75,
          587.5,
          519.25,
          518,
          614.5,
          484.5,
          535.75,
          573.75,
          498,
          564.25,
          583.5,
          524.75,
          568,
          563.25,
          561,
          550.75,
          716.25,
          751,
          709.25,
          686.5,
          744.5,
          713.5,
          684.5,
          655.25,
          623.75,
          664,
          668.5,
          623.5,
          698.25,
          639.75,
          643.5,
          663,
          701,
          642,
          574.5,
          607.75,
          573.5,
          615,
          636.25,
          613.5,
          673.5,
          615.25,
          518.75,
          521.5,
          542,
          619,
          502.25,
          497.75,
          503.75,
          731.75,
          673.25,
          665.25,
          661.25,
          712.5,
          694,
          624.25,
          647.5,
          633.25,
          672.5,
          640.75,
          686.5,
          653.75,
          742.5,
          662.75,
          670,
          684.75,
          620.5,
          627.5,
          627.75,
          681.75,
          647.25,
          630.75,
          646.75,
          626.5,
          666.75,
          621,
          644.25,
          688.75,
          639.25,
          642.25,
          669,
          749,
          633.5,
          655,
          617.75,
          736.5,
          656.5,
          672.5,
          658,
          627.5,
          634.5,
          662.25,
          653,
          605,
          733,
          682.75,
          652,
          577.75,
          665.25,
          708.75,
          706.75,
          666.5,
          626,
          676.75,
          585.75,
          659.5,
          677.5,
          667.75,
          665.5,
          593.25,
          567.5,
          596.5,
          607,
          647.25,
          639.25,
          641.5,
          678.5,
          657.25,
          635.25,
          635.5,
          579.75,
          649,
          567,
          615,
          550.75,
          656.75,
          602.75,
          670,
          604.75,
          709.5,
          617.5,
          692,
          693.75,
          665.5,
          642,
          649.5,
          666,
          619,
          688.5,
          595,
          661.25,
          666,
          633.25,
          607.75,
          679.75,
          589.25,
          676.75,
          635,
          675.5,
          650.75,
          647.75,
          622.25,
          621.75,
          654.75,
          629.75,
          676.75,
          682.25,
          631.5,
          613.75,
          761.25,
          708.25,
          627.75,
          744.25,
          705.75,
          669,
          740.75,
          642.5,
          667.75,
          718.5,
          618,
          632.75,
          697.75,
          677.5,
          680,
          716,
          698,
          651.75,
          725,
          666,
          670.25,
          662.25,
          624.75,
          648.25,
          648,
          686.75,
          669,
          637.25,
          632,
          620.75,
          726.5,
          605.5,
          668,
          601.75,
          589.75,
          649.25,
          617.25,
          675,
          719.5,
          624.25,
          731.5,
          645.75,
          666.75,
          613.25,
          696.75,
          649.75,
          721.25,
          594.5,
          617.75,
          596.25,
          684,
          650.25,
          632.75,
          647.5,
          650,
          628.25,
          632.5,
          613.75,
          658.5,
          628.75,
          609.25,
          577.75,
          681.5,
          716.25,
          646.5,
          593.5,
          629.25,
          652.25,
          714.25,
          591.75,
          629.75,
          622.75,
          591.25,
          653,
          623.25,
          555.75,
          627.75,
          620.25,
          648,
          616.75,
          664.25,
          686,
          616.75,
          670.75,
          663.75,
          556.25,
          615.5,
          631.5,
          639,
          674,
          596.5,
          638,
          597.25,
          649,
          650,
          638.5,
          554.25,
          630.25,
          555.25,
          666,
          622.5,
          677.5,
          630.5,
          611.25,
          700.75,
          646.75,
          656.5,
          711.5,
          700.75,
          605.75,
          700,
          739,
          736.25,
          640,
          630.75,
          593,
          637.25,
          660,
          635,
          625.5,
          607.75,
          625.75,
          580.25,
          631.25,
          572.5,
          612,
          597.75,
          606.75,
          673,
          617.5,
          631.75,
          668.75,
          634.5,
          572,
          634,
          550,
          632.25,
          608,
          601.5,
          628.5,
          720.75,
          618.75,
          637.75,
          652.5,
          587.25,
          676.5,
          640.75,
          632.25,
          669,
          649.5,
          602.5,
          568.25,
          612.25,
          621,
          626.75,
          609.25,
          611.75,
          616.5,
          633,
          612.25,
          547,
          654.25,
          593,
          626,
          631.5,
          575.75,
          563.5,
          641.5,
          615.25,
          641.75,
          642.25,
          669,
          625,
          680,
          671.5,
          651.75,
          613.25,
          659,
          601.25,
          582.25,
          598.75,
          667.25,
          606.75,
          671.5,
          562.75,
          657,
          564.5,
          648.75,
          600.25,
          618,
          586.25,
          634.75,
          609,
          599.75,
          673.5,
          658.75,
          637.5,
          594.25,
          570.75,
          672.5,
          625.5,
          571,
          621.75,
          566,
          560.25,
          657,
          604.75,
          600.75,
          663.75,
          627,
          615.5,
          639,
          554.75,
          622.5,
          544.5,
          633.5,
          624.75,
          602.25,
          595.5,
          590.25,
          602.25,
          667.5,
          601,
          636.25,
          558.5,
          596,
          626,
          605.5,
          627.5,
          606,
          568.5,
          560.25,
          591,
          541.75,
          545.25,
          568.5,
          587.75,
          617,
          670,
          595.75,
          646.5,
          630.75,
          636.25,
          585.25,
          622.25,
          649,
          641.75,
          603.25,
          655.75,
          681,
          556.75,
          567,
          599.25,
          647,
          591.5,
          642.75,
          662,
          595.25,
          650,
          597,
          607.75,
          611,
          639.25,
          604,
          638.75,
          597.25,
          609.5,
          570.25,
          594.75,
          604.75,
          609.75,
          585.5,
          591.5,
          572.5,
          596,
          627,
          630.25,
          629.5,
          695,
          684.5,
          690.25,
          703.75,
          649,
          711.5,
          678.75,
          607.75,
          611.75,
          680.5,
          595.75
         ]
        },
        {
         "marker": {
          "color": "mediumvioletred"
         },
         "name": "average_score",
         "type": "box",
         "y": [
          640.625,
          613,
          612.625,
          612,
          611.5,
          608.25,
          607.875,
          607.375,
          607,
          605.75,
          603,
          602.375,
          602,
          600.25,
          600.125,
          596.75,
          596.375,
          596.375,
          595.75,
          595.375,
          594.375,
          592.625,
          592.375,
          590.625,
          588.75,
          586.875,
          586.375,
          586,
          585.25,
          585.125,
          583.75,
          581.75,
          581.375,
          581.25,
          579.75,
          579.125,
          578.75,
          578.125,
          578.125,
          578.125,
          577.25,
          576.875,
          576.875,
          576.75,
          576.5,
          576,
          575,
          574.875,
          573.875,
          573.125,
          572.875,
          572.625,
          572,
          571.75,
          571.5,
          571.5,
          570.75,
          570.625,
          570,
          569.75,
          568.75,
          568.375,
          568.25,
          567.875,
          567.75,
          566.625,
          566.5,
          638.375,
          591,
          580.875,
          564.625,
          564.125,
          561.5,
          556.25,
          552.25,
          627.5,
          596,
          593.125,
          591,
          586.875,
          584.875,
          583.25,
          579.75,
          578.5,
          576.625,
          575.375,
          575,
          574.25,
          573.375,
          568.875,
          567.375,
          566.375,
          564.125,
          563.875,
          562.5,
          559.625,
          558.625,
          558.25,
          556.625,
          556.125,
          555.875,
          554.25,
          553.375,
          637.875,
          635.75,
          625.5,
          617.75,
          612.5,
          610.25,
          608.875,
          608.5,
          607.375,
          607.125,
          605.375,
          604.125,
          604,
          603.75,
          603.375,
          601.5,
          601.5,
          600.875,
          600.25,
          600,
          599.375,
          599.375,
          598.75,
          597.625,
          596.75,
          595.875,
          595.5,
          595.5,
          595.375,
          594.875,
          594.875,
          593.625,
          593.5,
          593.125,
          591.625,
          590.625,
          590,
          589.875,
          589.625,
          589.5,
          589,
          588.75,
          588.625,
          588.625,
          588.25,
          587.375,
          587.375,
          587,
          586.25,
          584.75,
          584.25,
          584.125,
          583.125,
          582.875,
          582.75,
          581.875,
          580.625,
          580.375,
          580.375,
          579.875,
          579.75,
          579.75,
          579.125,
          578.875,
          578.625,
          578.625,
          577.75,
          577.25,
          577.25,
          576.625,
          576.375,
          576.25,
          575.875,
          575.5,
          575.375,
          575.375,
          575,
          574.875,
          574.875,
          574.75,
          574.5,
          574.25,
          574.25,
          573.125,
          572.75,
          572.5,
          572.25,
          572.25,
          572.125,
          572.125,
          572,
          572,
          571.875,
          571.75,
          571.75,
          571.625,
          571.5,
          571.25,
          570.75,
          570.5,
          570.375,
          570.125,
          569.25,
          568.75,
          568.5,
          567.875,
          567.875,
          567.5,
          567.375,
          567.25,
          566.875,
          566.125,
          565.875,
          565.75,
          565.625,
          565.5,
          565.375,
          564.875,
          564.75,
          564.625,
          564.5,
          564.125,
          564.125,
          563.75,
          560.5,
          559,
          554.375,
          554.375,
          553,
          551.25,
          551.125,
          548.875,
          542.75,
          540.75,
          535.125,
          535,
          533.625,
          533.625,
          533.625,
          531.375,
          667.25,
          662.625,
          653.25,
          647.375,
          645.75,
          644.25,
          643.875,
          642.5,
          642.5,
          641,
          638.75,
          636.75,
          636.125,
          634.375,
          633.625,
          632.875,
          632.5,
          632,
          632,
          632,
          630.375,
          629.125,
          628.25,
          627.5,
          627.25,
          626.5,
          626,
          624.5,
          642.25,
          633.875,
          628.25,
          622.75,
          619.5,
          618.25,
          614.5,
          612.25,
          612,
          598.25,
          596.875,
          593.75,
          592.75,
          591.875,
          583.875,
          583.625,
          583.5,
          580.125,
          579.25,
          578.625,
          577,
          576.375,
          573.75,
          573.5,
          573.375,
          571.75,
          571.125,
          569.5,
          671.875,
          647.625,
          643.75,
          639.25,
          632,
          630.5,
          627.5,
          621.125,
          615,
          613.25,
          613.25,
          611.125,
          610.875,
          610.25,
          608.25,
          607.25,
          607,
          607,
          606.375,
          604.25,
          598.625,
          597.125,
          593,
          588.625,
          582.25,
          581.25,
          580.25,
          577.875,
          577.5,
          576.75,
          574.5,
          570.625,
          569.25,
          568.125,
          565.125,
          565,
          563.875,
          563,
          560.875,
          560.75,
          560.375,
          559.875,
          558,
          557.75,
          557.625,
          555.875,
          555.625,
          555.125,
          671,
          657.875,
          654.75,
          651.5,
          646.125,
          644.375,
          641.75,
          641.375,
          640.875,
          640.25,
          637.125,
          632.125,
          631.875,
          630.875,
          630.5,
          629.625,
          625.375,
          623,
          621.125,
          647.875,
          629.75,
          626.625,
          616.625,
          615.5,
          611.75,
          606.375,
          605.875,
          604.125,
          604,
          602.875,
          599.75,
          596.375,
          595.75,
          592.5,
          591.875,
          590.375,
          587.375,
          585.75,
          718.375,
          671,
          669.875,
          661.75,
          650.875,
          639.875,
          639.375,
          635.75,
          634.875,
          634.125,
          630.125,
          629.875,
          629.5,
          629,
          628,
          628,
          627.375,
          626,
          623.5,
          676.25,
          671.25,
          648.625,
          647.5,
          647.125,
          643.5,
          640.75,
          636.125,
          635.25,
          629.75,
          629,
          628.625,
          628.5,
          628.125,
          627.25,
          627,
          624.75,
          624.625,
          623.125,
          622.5,
          620.875,
          619.5,
          619.125,
          617.75,
          617.375,
          616.25,
          614.125,
          652,
          632.875,
          617,
          610.375,
          609.5,
          607.25,
          604.625,
          601.625,
          600.125,
          599.375,
          592.25,
          592.125,
          587.5,
          587.25,
          586,
          585.75,
          581.5,
          578.875,
          578.5,
          577,
          575.25,
          575.25,
          575.25,
          573.875,
          573.75,
          572.875,
          572.625,
          572.5,
          652.75,
          644.75,
          634.125,
          628.625,
          627.875,
          623.25,
          622,
          612.875,
          606.625,
          605.5,
          604.25,
          603.875,
          601.125,
          600.625,
          600.25,
          597.625,
          596,
          594.125,
          592.625,
          589.125,
          588.75,
          588.125,
          616.375,
          607.625,
          604.5,
          600.125,
          598.125,
          594.375,
          592.875,
          592.75,
          585.75,
          585.25,
          585.125,
          584.625,
          578.875,
          578.5,
          636.375,
          621.875,
          620.5,
          614.375,
          610.625,
          607.5,
          605.125,
          602.75,
          601.5,
          601,
          598.75,
          597.625,
          596,
          592.125,
          591.375,
          591.25,
          591.125,
          610.25,
          605.375,
          600,
          599.5,
          598.75,
          597.25,
          572.375,
          571.875,
          569.75,
          568.25,
          567.25,
          566.625,
          566.25,
          565.5,
          563.625,
          562.75,
          562.125,
          560.125,
          559.875,
          558.875,
          763.75,
          645.625,
          643.75,
          642.75,
          635.625,
          634.5,
          632.625,
          632.375,
          629.75,
          625.125,
          620.5,
          620.25,
          618.625,
          618,
          616.375,
          615.625,
          614.375,
          613,
          612.875,
          609.5,
          608.875,
          607.625,
          607.5,
          605.125,
          604.875,
          604.125,
          604,
          602.625,
          602.375,
          601.5,
          599,
          598.125,
          618.75,
          611.875,
          610,
          598.25,
          596,
          590.875,
          589.125,
          587.5,
          587.25,
          586.375,
          582.125,
          580.375,
          577.5,
          576.75,
          576.25,
          575.875,
          573.125,
          569.375,
          569.125,
          569.125,
          563,
          563,
          562.25,
          561.125,
          561.125,
          557.375,
          556.125,
          554.5,
          681.125,
          669.125,
          660.5,
          641.875,
          638.25,
          631.625,
          626.625,
          621.875,
          621.5,
          619.125,
          618.25,
          617.25,
          615.625,
          615.5,
          615.375,
          614.625,
          613.625,
          612.75,
          612.375,
          612.375,
          612.125,
          610.25,
          610.125,
          606.25,
          605.25,
          604.375,
          604.25,
          604.25,
          602.875,
          601.625,
          601.625,
          601.625,
          606.875,
          596.125,
          590.875,
          587.625,
          586.25,
          586.25,
          581.375,
          577.25,
          575.875,
          575.625,
          575.625,
          575.5,
          573.125,
          571.125,
          570.625,
          563.125,
          561.75,
          560.75,
          559.75,
          557.75,
          555.625,
          555.25,
          551.625,
          551.375,
          550.75,
          549.5,
          549.125,
          547.375,
          733.75,
          721,
          720,
          717.625,
          717.375,
          714,
          711.625,
          710.125,
          709.5,
          708,
          706.75,
          705.25,
          704.75,
          704.125,
          701.75,
          701.5,
          700.125,
          698.125,
          693.875,
          692.75,
          692.125,
          690.125,
          689.375,
          688.375,
          688.25,
          688,
          688,
          687.875,
          687.875,
          687.75,
          687.375,
          685,
          682.75,
          681.375,
          680.875,
          680,
          678.875,
          678.75,
          678.375,
          677.25,
          700.75,
          697,
          696.625,
          689.125,
          686.5,
          685.75,
          673.875,
          671.875,
          671.75,
          670,
          666.625,
          664.625,
          662.25,
          656.25,
          649.5,
          646.25,
          634,
          622.5,
          621.25,
          618.875,
          618.75,
          617.5,
          615.5,
          614.625,
          614.5,
          610.75,
          610.625,
          608.25,
          606.25,
          604.75,
          604.5,
          604,
          602.625,
          602.125,
          601.875,
          598,
          595,
          594.625,
          592.5,
          592.25,
          591.75,
          590.875,
          589.5,
          589.125,
          589,
          588.375,
          587.25,
          586.25,
          605.125,
          601,
          597.875,
          593.75,
          586.375,
          585.125,
          581.375,
          572.5,
          569.75,
          568.875,
          567.875,
          555.25,
          676.875,
          655.375,
          649.875,
          648.625,
          642.375,
          641.5,
          639.25,
          636.875,
          636.375,
          629.75,
          628.125,
          627.25,
          626.5,
          626,
          620.875,
          620.75,
          619.875,
          619.625,
          618,
          617.75,
          617.5,
          617.25,
          617,
          615.375,
          614,
          613.25,
          612.875,
          612.875,
          646.25,
          616,
          611.625,
          608.75,
          606,
          602.25,
          602.125,
          598.625,
          598.25,
          598.25,
          597.75,
          597.75,
          595.625,
          593.5,
          593.25,
          589.25,
          587.5,
          586,
          584.125,
          583.25,
          580.625,
          580.5,
          578.75,
          578.625,
          578,
          577.625,
          577.625,
          577.125,
          576.875,
          576.25,
          576.125,
          576.125,
          576,
          576,
          575.625,
          575.5,
          572.875,
          571.5,
          571.375,
          571.125,
          571,
          569,
          568.75,
          568.125,
          567.625,
          567.375,
          567,
          565.625,
          565,
          564.875,
          560.875,
          560,
          559.875,
          559.625,
          559.5,
          559.125,
          557.875,
          557.375,
          556.125,
          556,
          555.75,
          555.5,
          555,
          554.5,
          554,
          553.625,
          553.375,
          552.875,
          552.75,
          552.5,
          552.125,
          551.75,
          551.75,
          551.5,
          551.5,
          550.875,
          550.5,
          550,
          549.625,
          549.5,
          549.375,
          548.25,
          548.25,
          548.125,
          547.25,
          546.375,
          545.875,
          545.5,
          545.125,
          545,
          544.875,
          544.5,
          544.5,
          544.125,
          543.25,
          543,
          542.875,
          542.5,
          542.375,
          542.375,
          542,
          541.75,
          541.75,
          541.625,
          540.375,
          577.125,
          545,
          531,
          529.625,
          518.625,
          516.75,
          668.5,
          665.375,
          660.5,
          660.375,
          658.625,
          656.25,
          654.875,
          651.5,
          649,
          639,
          638,
          637.875,
          635.625,
          633.625,
          631.625,
          628.125,
          627.5,
          623.375,
          621.375,
          620.875,
          619.625,
          617.25,
          617.125,
          616.25,
          615.75,
          571.5,
          556.875,
          554.375,
          546.375,
          531.25,
          530.875,
          530.75,
          520.875,
          705.75,
          671.125,
          662.75,
          660.875,
          659,
          652.125,
          650.5,
          649.25,
          647.125,
          645.375,
          644.125,
          640.875,
          636.875,
          635.125,
          634.625,
          633.375,
          632.875,
          632.375,
          632.375,
          630.375,
          630.25,
          629.875,
          629.5,
          629.375,
          628.875,
          628.625,
          628.625,
          626.875,
          626,
          625.625,
          623.375,
          622.5,
          679.75,
          665.875,
          652.625,
          651.75,
          651.25,
          650.625,
          647.875,
          647.375,
          637,
          635.875,
          633.75,
          630.25,
          630,
          629,
          626.75,
          624.5,
          623.75,
          622.25,
          621.5,
          616.875,
          616.5,
          615.625,
          614.375,
          614.25,
          614.125,
          613.25,
          612.625,
          612.625,
          611.625,
          610.75,
          610.5,
          610.375,
          640.125,
          624.5,
          622.75,
          621.625,
          616.625,
          610,
          607.125,
          606.625,
          606.25,
          601.5,
          598.5,
          598.125,
          595.625,
          594.875,
          684.625,
          669.75,
          662.625,
          661.75,
          660.125,
          653.875,
          652.75,
          648.25,
          647.875,
          647.375,
          646.875,
          646.75,
          642.875,
          642.25,
          642.125,
          640.5,
          639.5,
          638.875,
          637.5,
          637.5,
          636.75,
          636.125,
          636.125,
          635.875,
          632.75,
          627.875,
          627.375,
          627.375,
          626.875,
          626.125,
          624.5,
          624,
          730.5,
          728.375,
          674.125,
          670.125,
          669.25,
          665,
          664.625,
          664.125,
          661.375,
          660.5,
          658.75,
          656.625,
          654.75,
          654.125,
          653.125,
          650.5,
          648.25,
          647.125,
          644.875,
          643.125,
          643,
          642.875,
          642.625,
          641.875,
          641.25,
          637.625,
          637,
          635.5,
          634.125,
          633.375,
          631.5,
          631.5,
          631.25,
          630.75,
          629,
          629,
          625.375,
          625.25,
          661.875,
          660.625,
          660,
          657.375,
          652.875,
          639.125,
          637,
          635.375,
          633.75,
          633.75,
          632.75,
          630,
          628.75,
          627.5,
          625.5,
          623.75,
          623.75,
          623,
          623,
          622.875,
          622.25,
          621.125,
          619.375,
          617,
          644.875,
          642.5,
          634,
          629.75,
          626.125,
          623.75,
          623.375,
          622.5,
          615.875,
          614.875,
          614,
          612.75,
          609.5,
          608.25,
          607.25,
          606.625,
          606,
          605.125,
          604.25,
          604.25,
          602.375,
          602.125,
          601.375,
          601.25,
          597.375,
          655.875,
          655.5,
          653.75,
          650.625,
          646.625,
          642.375,
          641.125,
          640.625,
          633,
          632.375,
          630.25,
          624.875,
          623.25,
          621,
          620,
          619.25,
          618.75,
          612.375,
          610.875,
          610.5,
          667.375,
          657.5,
          649.375,
          641.125,
          640,
          639.75,
          636.625,
          634.875,
          631.75,
          628.625,
          624.125,
          623.75,
          623.25,
          623.125,
          617.5,
          616.875,
          616.5,
          616.25,
          615.875,
          614.875,
          614.25,
          612.75,
          612,
          609.5,
          608.375,
          608.25,
          607.5,
          607.25,
          603.625,
          599.5,
          599.375,
          599.25,
          635.25,
          632.625,
          626.375,
          623.375,
          622.875,
          620.875,
          614,
          611.5,
          609.875,
          608.875,
          608.375,
          605.375,
          604.5,
          604.125,
          603.125,
          601.875,
          601.125,
          596.75,
          596.375,
          596.25,
          596,
          594.875,
          593.75,
          593.375,
          591.375,
          589,
          588,
          587.75,
          668.75,
          654,
          653.125,
          648.5,
          648.125,
          646.875,
          646.75,
          646.5,
          645.625,
          643.25,
          642.5,
          642.375,
          640.5,
          640.25,
          639.625,
          639.625,
          638.75,
          638.375,
          637.75,
          634.625,
          634.625,
          633.125,
          633.125,
          631.125,
          631,
          629.75,
          629.5,
          629.375,
          634.125,
          625,
          604.25,
          603.625,
          602.25,
          597.125,
          597.125,
          595.75,
          593.375,
          591.625,
          589.375,
          584.375,
          580,
          579.625,
          621.75,
          593,
          590.75,
          588.75,
          581.375,
          580.25,
          579.625,
          579.25,
          578.625,
          577.625,
          577.375,
          572.875,
          571.75,
          571.625,
          568.875,
          564,
          563.875,
          561.875,
          558.25,
          558.25,
          557.25,
          555.875,
          555.5,
          555.125,
          552.375,
          551.375,
          551.125,
          549.25,
          626.75,
          624.625,
          616.875,
          613.875,
          612.25,
          610.125,
          609.875,
          609.375,
          604.5,
          604.25,
          604.25,
          603.75,
          601.125,
          595.125,
          595.125,
          592,
          591.375,
          591.25,
          589.75,
          589.625,
          589.25,
          588,
          587.875,
          586.625,
          585.5,
          584.5,
          584.25,
          581.5,
          581,
          580.25,
          579.625,
          578.625,
          578.375,
          578,
          576.875,
          575.625,
          575.5,
          575.25,
          574.625,
          574.625,
          651.125,
          638.875,
          638.5,
          638.375,
          632.375,
          618.375,
          615.125,
          609.375,
          609,
          605.875,
          605.75,
          605.625
         ]
        }
       ],
       "layout": {
        "template": {
         "data": {
          "bar": [
           {
            "error_x": {
             "color": "#2a3f5f"
            },
            "error_y": {
             "color": "#2a3f5f"
            },
            "marker": {
             "line": {
              "color": "#E5ECF6",
              "width": 0.5
             },
             "pattern": {
              "fillmode": "overlay",
              "size": 10,
              "solidity": 0.2
             }
            },
            "type": "bar"
           }
          ],
          "barpolar": [
           {
            "marker": {
             "line": {
              "color": "#E5ECF6",
              "width": 0.5
             },
             "pattern": {
              "fillmode": "overlay",
              "size": 10,
              "solidity": 0.2
             }
            },
            "type": "barpolar"
           }
          ],
          "carpet": [
           {
            "aaxis": {
             "endlinecolor": "#2a3f5f",
             "gridcolor": "white",
             "linecolor": "white",
             "minorgridcolor": "white",
             "startlinecolor": "#2a3f5f"
            },
            "baxis": {
             "endlinecolor": "#2a3f5f",
             "gridcolor": "white",
             "linecolor": "white",
             "minorgridcolor": "white",
             "startlinecolor": "#2a3f5f"
            },
            "type": "carpet"
           }
          ],
          "choropleth": [
           {
            "colorbar": {
             "outlinewidth": 0,
             "ticks": ""
            },
            "type": "choropleth"
           }
          ],
          "contour": [
           {
            "colorbar": {
             "outlinewidth": 0,
             "ticks": ""
            },
            "colorscale": [
             [
              0,
              "#0d0887"
             ],
             [
              0.1111111111111111,
              "#46039f"
             ],
             [
              0.2222222222222222,
              "#7201a8"
             ],
             [
              0.3333333333333333,
              "#9c179e"
             ],
             [
              0.4444444444444444,
              "#bd3786"
             ],
             [
              0.5555555555555556,
              "#d8576b"
             ],
             [
              0.6666666666666666,
              "#ed7953"
             ],
             [
              0.7777777777777778,
              "#fb9f3a"
             ],
             [
              0.8888888888888888,
              "#fdca26"
             ],
             [
              1,
              "#f0f921"
             ]
            ],
            "type": "contour"
           }
          ],
          "contourcarpet": [
           {
            "colorbar": {
             "outlinewidth": 0,
             "ticks": ""
            },
            "type": "contourcarpet"
           }
          ],
          "heatmap": [
           {
            "colorbar": {
             "outlinewidth": 0,
             "ticks": ""
            },
            "colorscale": [
             [
              0,
              "#0d0887"
             ],
             [
              0.1111111111111111,
              "#46039f"
             ],
             [
              0.2222222222222222,
              "#7201a8"
             ],
             [
              0.3333333333333333,
              "#9c179e"
             ],
             [
              0.4444444444444444,
              "#bd3786"
             ],
             [
              0.5555555555555556,
              "#d8576b"
             ],
             [
              0.6666666666666666,
              "#ed7953"
             ],
             [
              0.7777777777777778,
              "#fb9f3a"
             ],
             [
              0.8888888888888888,
              "#fdca26"
             ],
             [
              1,
              "#f0f921"
             ]
            ],
            "type": "heatmap"
           }
          ],
          "heatmapgl": [
           {
            "colorbar": {
             "outlinewidth": 0,
             "ticks": ""
            },
            "colorscale": [
             [
              0,
              "#0d0887"
             ],
             [
              0.1111111111111111,
              "#46039f"
             ],
             [
              0.2222222222222222,
              "#7201a8"
             ],
             [
              0.3333333333333333,
              "#9c179e"
             ],
             [
              0.4444444444444444,
              "#bd3786"
             ],
             [
              0.5555555555555556,
              "#d8576b"
             ],
             [
              0.6666666666666666,
              "#ed7953"
             ],
             [
              0.7777777777777778,
              "#fb9f3a"
             ],
             [
              0.8888888888888888,
              "#fdca26"
             ],
             [
              1,
              "#f0f921"
             ]
            ],
            "type": "heatmapgl"
           }
          ],
          "histogram": [
           {
            "marker": {
             "pattern": {
              "fillmode": "overlay",
              "size": 10,
              "solidity": 0.2
             }
            },
            "type": "histogram"
           }
          ],
          "histogram2d": [
           {
            "colorbar": {
             "outlinewidth": 0,
             "ticks": ""
            },
            "colorscale": [
             [
              0,
              "#0d0887"
             ],
             [
              0.1111111111111111,
              "#46039f"
             ],
             [
              0.2222222222222222,
              "#7201a8"
             ],
             [
              0.3333333333333333,
              "#9c179e"
             ],
             [
              0.4444444444444444,
              "#bd3786"
             ],
             [
              0.5555555555555556,
              "#d8576b"
             ],
             [
              0.6666666666666666,
              "#ed7953"
             ],
             [
              0.7777777777777778,
              "#fb9f3a"
             ],
             [
              0.8888888888888888,
              "#fdca26"
             ],
             [
              1,
              "#f0f921"
             ]
            ],
            "type": "histogram2d"
           }
          ],
          "histogram2dcontour": [
           {
            "colorbar": {
             "outlinewidth": 0,
             "ticks": ""
            },
            "colorscale": [
             [
              0,
              "#0d0887"
             ],
             [
              0.1111111111111111,
              "#46039f"
             ],
             [
              0.2222222222222222,
              "#7201a8"
             ],
             [
              0.3333333333333333,
              "#9c179e"
             ],
             [
              0.4444444444444444,
              "#bd3786"
             ],
             [
              0.5555555555555556,
              "#d8576b"
             ],
             [
              0.6666666666666666,
              "#ed7953"
             ],
             [
              0.7777777777777778,
              "#fb9f3a"
             ],
             [
              0.8888888888888888,
              "#fdca26"
             ],
             [
              1,
              "#f0f921"
             ]
            ],
            "type": "histogram2dcontour"
           }
          ],
          "mesh3d": [
           {
            "colorbar": {
             "outlinewidth": 0,
             "ticks": ""
            },
            "type": "mesh3d"
           }
          ],
          "parcoords": [
           {
            "line": {
             "colorbar": {
              "outlinewidth": 0,
              "ticks": ""
             }
            },
            "type": "parcoords"
           }
          ],
          "pie": [
           {
            "automargin": true,
            "type": "pie"
           }
          ],
          "scatter": [
           {
            "marker": {
             "colorbar": {
              "outlinewidth": 0,
              "ticks": ""
             }
            },
            "type": "scatter"
           }
          ],
          "scatter3d": [
           {
            "line": {
             "colorbar": {
              "outlinewidth": 0,
              "ticks": ""
             }
            },
            "marker": {
             "colorbar": {
              "outlinewidth": 0,
              "ticks": ""
             }
            },
            "type": "scatter3d"
           }
          ],
          "scattercarpet": [
           {
            "marker": {
             "colorbar": {
              "outlinewidth": 0,
              "ticks": ""
             }
            },
            "type": "scattercarpet"
           }
          ],
          "scattergeo": [
           {
            "marker": {
             "colorbar": {
              "outlinewidth": 0,
              "ticks": ""
             }
            },
            "type": "scattergeo"
           }
          ],
          "scattergl": [
           {
            "marker": {
             "colorbar": {
              "outlinewidth": 0,
              "ticks": ""
             }
            },
            "type": "scattergl"
           }
          ],
          "scattermapbox": [
           {
            "marker": {
             "colorbar": {
              "outlinewidth": 0,
              "ticks": ""
             }
            },
            "type": "scattermapbox"
           }
          ],
          "scatterpolar": [
           {
            "marker": {
             "colorbar": {
              "outlinewidth": 0,
              "ticks": ""
             }
            },
            "type": "scatterpolar"
           }
          ],
          "scatterpolargl": [
           {
            "marker": {
             "colorbar": {
              "outlinewidth": 0,
              "ticks": ""
             }
            },
            "type": "scatterpolargl"
           }
          ],
          "scatterternary": [
           {
            "marker": {
             "colorbar": {
              "outlinewidth": 0,
              "ticks": ""
             }
            },
            "type": "scatterternary"
           }
          ],
          "surface": [
           {
            "colorbar": {
             "outlinewidth": 0,
             "ticks": ""
            },
            "colorscale": [
             [
              0,
              "#0d0887"
             ],
             [
              0.1111111111111111,
              "#46039f"
             ],
             [
              0.2222222222222222,
              "#7201a8"
             ],
             [
              0.3333333333333333,
              "#9c179e"
             ],
             [
              0.4444444444444444,
              "#bd3786"
             ],
             [
              0.5555555555555556,
              "#d8576b"
             ],
             [
              0.6666666666666666,
              "#ed7953"
             ],
             [
              0.7777777777777778,
              "#fb9f3a"
             ],
             [
              0.8888888888888888,
              "#fdca26"
             ],
             [
              1,
              "#f0f921"
             ]
            ],
            "type": "surface"
           }
          ],
          "table": [
           {
            "cells": {
             "fill": {
              "color": "#EBF0F8"
             },
             "line": {
              "color": "white"
             }
            },
            "header": {
             "fill": {
              "color": "#C8D4E3"
             },
             "line": {
              "color": "white"
             }
            },
            "type": "table"
           }
          ]
         },
         "layout": {
          "annotationdefaults": {
           "arrowcolor": "#2a3f5f",
           "arrowhead": 0,
           "arrowwidth": 1
          },
          "autotypenumbers": "strict",
          "coloraxis": {
           "colorbar": {
            "outlinewidth": 0,
            "ticks": ""
           }
          },
          "colorscale": {
           "diverging": [
            [
             0,
             "#8e0152"
            ],
            [
             0.1,
             "#c51b7d"
            ],
            [
             0.2,
             "#de77ae"
            ],
            [
             0.3,
             "#f1b6da"
            ],
            [
             0.4,
             "#fde0ef"
            ],
            [
             0.5,
             "#f7f7f7"
            ],
            [
             0.6,
             "#e6f5d0"
            ],
            [
             0.7,
             "#b8e186"
            ],
            [
             0.8,
             "#7fbc41"
            ],
            [
             0.9,
             "#4d9221"
            ],
            [
             1,
             "#276419"
            ]
           ],
           "sequential": [
            [
             0,
             "#0d0887"
            ],
            [
             0.1111111111111111,
             "#46039f"
            ],
            [
             0.2222222222222222,
             "#7201a8"
            ],
            [
             0.3333333333333333,
             "#9c179e"
            ],
            [
             0.4444444444444444,
             "#bd3786"
            ],
            [
             0.5555555555555556,
             "#d8576b"
            ],
            [
             0.6666666666666666,
             "#ed7953"
            ],
            [
             0.7777777777777778,
             "#fb9f3a"
            ],
            [
             0.8888888888888888,
             "#fdca26"
            ],
            [
             1,
             "#f0f921"
            ]
           ],
           "sequentialminus": [
            [
             0,
             "#0d0887"
            ],
            [
             0.1111111111111111,
             "#46039f"
            ],
            [
             0.2222222222222222,
             "#7201a8"
            ],
            [
             0.3333333333333333,
             "#9c179e"
            ],
            [
             0.4444444444444444,
             "#bd3786"
            ],
            [
             0.5555555555555556,
             "#d8576b"
            ],
            [
             0.6666666666666666,
             "#ed7953"
            ],
            [
             0.7777777777777778,
             "#fb9f3a"
            ],
            [
             0.8888888888888888,
             "#fdca26"
            ],
            [
             1,
             "#f0f921"
            ]
           ]
          },
          "colorway": [
           "#636efa",
           "#EF553B",
           "#00cc96",
           "#ab63fa",
           "#FFA15A",
           "#19d3f3",
           "#FF6692",
           "#B6E880",
           "#FF97FF",
           "#FECB52"
          ],
          "font": {
           "color": "#2a3f5f"
          },
          "geo": {
           "bgcolor": "white",
           "lakecolor": "white",
           "landcolor": "#E5ECF6",
           "showlakes": true,
           "showland": true,
           "subunitcolor": "white"
          },
          "hoverlabel": {
           "align": "left"
          },
          "hovermode": "closest",
          "mapbox": {
           "style": "light"
          },
          "paper_bgcolor": "white",
          "plot_bgcolor": "#E5ECF6",
          "polar": {
           "angularaxis": {
            "gridcolor": "white",
            "linecolor": "white",
            "ticks": ""
           },
           "bgcolor": "#E5ECF6",
           "radialaxis": {
            "gridcolor": "white",
            "linecolor": "white",
            "ticks": ""
           }
          },
          "scene": {
           "xaxis": {
            "backgroundcolor": "#E5ECF6",
            "gridcolor": "white",
            "gridwidth": 2,
            "linecolor": "white",
            "showbackground": true,
            "ticks": "",
            "zerolinecolor": "white"
           },
           "yaxis": {
            "backgroundcolor": "#E5ECF6",
            "gridcolor": "white",
            "gridwidth": 2,
            "linecolor": "white",
            "showbackground": true,
            "ticks": "",
            "zerolinecolor": "white"
           },
           "zaxis": {
            "backgroundcolor": "#E5ECF6",
            "gridcolor": "white",
            "gridwidth": 2,
            "linecolor": "white",
            "showbackground": true,
            "ticks": "",
            "zerolinecolor": "white"
           }
          },
          "shapedefaults": {
           "line": {
            "color": "#2a3f5f"
           }
          },
          "ternary": {
           "aaxis": {
            "gridcolor": "white",
            "linecolor": "white",
            "ticks": ""
           },
           "baxis": {
            "gridcolor": "white",
            "linecolor": "white",
            "ticks": ""
           },
           "bgcolor": "#E5ECF6",
           "caxis": {
            "gridcolor": "white",
            "linecolor": "white",
            "ticks": ""
           }
          },
          "title": {
           "x": 0.05
          },
          "xaxis": {
           "automargin": true,
           "gridcolor": "white",
           "linecolor": "white",
           "ticks": "",
           "title": {
            "standoff": 15
           },
           "zerolinecolor": "white",
           "zerolinewidth": 2
          },
          "yaxis": {
           "automargin": true,
           "gridcolor": "white",
           "linecolor": "white",
           "ticks": "",
           "title": {
            "standoff": 15
           },
           "zerolinecolor": "white",
           "zerolinewidth": 2
          }
         }
        },
        "title": {
         "text": "UB Distribution scores 2019"
        }
       }
      }
     },
     "metadata": {},
     "output_type": "display_data"
    }
   ],
   "source": [
    "fig = go.Figure()\n",
    "fig.add_trace(go.Box(y=df_univ_braw_clear['specialized_score'], name='specialized_score',\n",
    "                marker_color = 'indianred'))\n",
    "fig.add_trace(go.Box(y=df_univ_braw_clear['general_score'], name = 'general_score',\n",
    "                marker_color = 'lightseagreen'))\n",
    "fig.add_trace(go.Box(y=df_univ_braw_clear['average_score'], name = 'average_score',\n",
    "                marker_color = 'mediumvioletred'))\n",
    "fig.update_layout(title_text='UB Distribution scores 2019')\n",
    "fig.show()"
   ]
  },
  {
   "cell_type": "markdown",
   "metadata": {},
   "source": [
    "![UB Distribution scores 2019](/photos/UB%20Distribution%20scores%202019.png)"
   ]
  },
  {
   "cell_type": "code",
   "execution_count": 32,
   "metadata": {},
   "outputs": [
    {
     "data": {
      "application/vnd.plotly.v1+json": {
       "config": {
        "plotlyServerURL": "https://plot.ly"
       },
       "data": [
        {
         "alignmentgroup": "True",
         "hovertemplate": "first_major=%{y}<br>average_score=%{x}<extra></extra>",
         "legendgroup": "PENDIDIKAN DOKTER",
         "marker": {
          "color": "#636efa",
          "pattern": {
           "shape": ""
          }
         },
         "name": "PENDIDIKAN DOKTER",
         "offsetgroup": "PENDIDIKAN DOKTER",
         "orientation": "h",
         "showlegend": true,
         "textposition": "auto",
         "texttemplate": "%{x}",
         "type": "bar",
         "x": [
          696.759375
         ],
         "xaxis": "x",
         "y": [
          "PENDIDIKAN DOKTER"
         ],
         "yaxis": "y"
        },
        {
         "alignmentgroup": "True",
         "hovertemplate": "first_major=%{y}<br>average_score=%{x}<extra></extra>",
         "legendgroup": "PENDIDIKAN DOKTER GIGI",
         "marker": {
          "color": "#EF553B",
          "pattern": {
           "shape": ""
          }
         },
         "name": "PENDIDIKAN DOKTER GIGI",
         "offsetgroup": "PENDIDIKAN DOKTER GIGI",
         "orientation": "h",
         "showlegend": true,
         "textposition": "auto",
         "texttemplate": "%{x}",
         "type": "bar",
         "x": [
          674.296875
         ],
         "xaxis": "x",
         "y": [
          "PENDIDIKAN DOKTER GIGI"
         ],
         "yaxis": "y"
        },
        {
         "alignmentgroup": "True",
         "hovertemplate": "first_major=%{y}<br>average_score=%{x}<extra></extra>",
         "legendgroup": "TEKNIK INFORMATIKA",
         "marker": {
          "color": "#00cc96",
          "pattern": {
           "shape": ""
          }
         },
         "name": "TEKNIK INFORMATIKA",
         "offsetgroup": "TEKNIK INFORMATIKA",
         "orientation": "h",
         "showlegend": true,
         "textposition": "auto",
         "texttemplate": "%{x}",
         "type": "bar",
         "x": [
          650.5822368421053
         ],
         "xaxis": "x",
         "y": [
          "TEKNIK INFORMATIKA"
         ],
         "yaxis": "y"
        },
        {
         "alignmentgroup": "True",
         "hovertemplate": "first_major=%{y}<br>average_score=%{x}<extra></extra>",
         "legendgroup": "TEKNIK INDUSTRI",
         "marker": {
          "color": "#ab63fa",
          "pattern": {
           "shape": ""
          }
         },
         "name": "TEKNIK INDUSTRI",
         "offsetgroup": "TEKNIK INDUSTRI",
         "orientation": "h",
         "showlegend": true,
         "textposition": "auto",
         "texttemplate": "%{x}",
         "type": "bar",
         "x": [
          642.671875
         ],
         "xaxis": "x",
         "y": [
          "TEKNIK INDUSTRI"
         ],
         "yaxis": "y"
        },
        {
         "alignmentgroup": "True",
         "hovertemplate": "first_major=%{y}<br>average_score=%{x}<extra></extra>",
         "legendgroup": "GIZI KESEHATAN / ILMU GIZI",
         "marker": {
          "color": "#FFA15A",
          "pattern": {
           "shape": ""
          }
         },
         "name": "GIZI KESEHATAN / ILMU GIZI",
         "offsetgroup": "GIZI KESEHATAN / ILMU GIZI",
         "orientation": "h",
         "showlegend": true,
         "textposition": "auto",
         "texttemplate": "%{x}",
         "type": "bar",
         "x": [
          642.4868421052631
         ],
         "xaxis": "x",
         "y": [
          "GIZI KESEHATAN / ILMU GIZI"
         ],
         "yaxis": "y"
        },
        {
         "alignmentgroup": "True",
         "hovertemplate": "first_major=%{y}<br>average_score=%{x}<extra></extra>",
         "legendgroup": "TEKNIK SIPIL",
         "marker": {
          "color": "#19d3f3",
          "pattern": {
           "shape": ""
          }
         },
         "name": "TEKNIK SIPIL",
         "offsetgroup": "TEKNIK SIPIL",
         "orientation": "h",
         "showlegend": true,
         "textposition": "auto",
         "texttemplate": "%{x}",
         "type": "bar",
         "x": [
          640.9821428571429
         ],
         "xaxis": "x",
         "y": [
          "TEKNIK SIPIL"
         ],
         "yaxis": "y"
        },
        {
         "alignmentgroup": "True",
         "hovertemplate": "first_major=%{y}<br>average_score=%{x}<extra></extra>",
         "legendgroup": "STATISTIKA",
         "marker": {
          "color": "#FF6692",
          "pattern": {
           "shape": ""
          }
         },
         "name": "STATISTIKA",
         "offsetgroup": "STATISTIKA",
         "orientation": "h",
         "showlegend": true,
         "textposition": "auto",
         "texttemplate": "%{x}",
         "type": "bar",
         "x": [
          640.19921875
         ],
         "xaxis": "x",
         "y": [
          "STATISTIKA"
         ],
         "yaxis": "y"
        },
        {
         "alignmentgroup": "True",
         "hovertemplate": "first_major=%{y}<br>average_score=%{x}<extra></extra>",
         "legendgroup": "FARMASI",
         "marker": {
          "color": "#B6E880",
          "pattern": {
           "shape": ""
          }
         },
         "name": "FARMASI",
         "offsetgroup": "FARMASI",
         "orientation": "h",
         "showlegend": true,
         "textposition": "auto",
         "texttemplate": "%{x}",
         "type": "bar",
         "x": [
          639.5526315789474
         ],
         "xaxis": "x",
         "y": [
          "FARMASI"
         ],
         "yaxis": "y"
        },
        {
         "alignmentgroup": "True",
         "hovertemplate": "first_major=%{y}<br>average_score=%{x}<extra></extra>",
         "legendgroup": "SISTEM INFORMASI",
         "marker": {
          "color": "#FF97FF",
          "pattern": {
           "shape": ""
          }
         },
         "name": "SISTEM INFORMASI",
         "offsetgroup": "SISTEM INFORMASI",
         "orientation": "h",
         "showlegend": true,
         "textposition": "auto",
         "texttemplate": "%{x}",
         "type": "bar",
         "x": [
          637.92
         ],
         "xaxis": "x",
         "y": [
          "SISTEM INFORMASI"
         ],
         "yaxis": "y"
        },
        {
         "alignmentgroup": "True",
         "hovertemplate": "first_major=%{y}<br>average_score=%{x}<extra></extra>",
         "legendgroup": "ARSITEKTUR",
         "marker": {
          "color": "#FECB52",
          "pattern": {
           "shape": ""
          }
         },
         "name": "ARSITEKTUR",
         "offsetgroup": "ARSITEKTUR",
         "orientation": "h",
         "showlegend": true,
         "textposition": "auto",
         "texttemplate": "%{x}",
         "type": "bar",
         "x": [
          637.53125
         ],
         "xaxis": "x",
         "y": [
          "ARSITEKTUR"
         ],
         "yaxis": "y"
        },
        {
         "alignmentgroup": "True",
         "hovertemplate": "first_major=%{y}<br>average_score=%{x}<extra></extra>",
         "legendgroup": "TEKNIK KIMIA",
         "marker": {
          "color": "#636efa",
          "pattern": {
           "shape": ""
          }
         },
         "name": "TEKNIK KIMIA",
         "offsetgroup": "TEKNIK KIMIA",
         "orientation": "h",
         "showlegend": true,
         "textposition": "auto",
         "texttemplate": "%{x}",
         "type": "bar",
         "x": [
          633.8489583333334
         ],
         "xaxis": "x",
         "y": [
          "TEKNIK KIMIA"
         ],
         "yaxis": "y"
        },
        {
         "alignmentgroup": "True",
         "hovertemplate": "first_major=%{y}<br>average_score=%{x}<extra></extra>",
         "legendgroup": "TEKNIK LINGKUNGAN",
         "marker": {
          "color": "#EF553B",
          "pattern": {
           "shape": ""
          }
         },
         "name": "TEKNIK LINGKUNGAN",
         "offsetgroup": "TEKNIK LINGKUNGAN",
         "orientation": "h",
         "showlegend": true,
         "textposition": "auto",
         "texttemplate": "%{x}",
         "type": "bar",
         "x": [
          632.15
         ],
         "xaxis": "x",
         "y": [
          "TEKNIK LINGKUNGAN"
         ],
         "yaxis": "y"
        },
        {
         "alignmentgroup": "True",
         "hovertemplate": "first_major=%{y}<br>average_score=%{x}<extra></extra>",
         "legendgroup": "ILMU DAN TEKNOLOGI PANGAN",
         "marker": {
          "color": "#00cc96",
          "pattern": {
           "shape": ""
          }
         },
         "name": "ILMU DAN TEKNOLOGI PANGAN",
         "offsetgroup": "ILMU DAN TEKNOLOGI PANGAN",
         "orientation": "h",
         "showlegend": true,
         "textposition": "auto",
         "texttemplate": "%{x}",
         "type": "bar",
         "x": [
          632.0231481481482
         ],
         "xaxis": "x",
         "y": [
          "ILMU DAN TEKNOLOGI PANGAN"
         ],
         "yaxis": "y"
        },
        {
         "alignmentgroup": "True",
         "hovertemplate": "first_major=%{y}<br>average_score=%{x}<extra></extra>",
         "legendgroup": "TEKNIK ELEKTRO",
         "marker": {
          "color": "#ab63fa",
          "pattern": {
           "shape": ""
          }
         },
         "name": "TEKNIK ELEKTRO",
         "offsetgroup": "TEKNIK ELEKTRO",
         "orientation": "h",
         "showlegend": true,
         "textposition": "auto",
         "texttemplate": "%{x}",
         "type": "bar",
         "x": [
          629.2265625
         ],
         "xaxis": "x",
         "y": [
          "TEKNIK ELEKTRO"
         ],
         "yaxis": "y"
        },
        {
         "alignmentgroup": "True",
         "hovertemplate": "first_major=%{y}<br>average_score=%{x}<extra></extra>",
         "legendgroup": "PERENCANAAN WILAYAH & KOTA",
         "marker": {
          "color": "#FFA15A",
          "pattern": {
           "shape": ""
          }
         },
         "name": "PERENCANAAN WILAYAH & KOTA",
         "offsetgroup": "PERENCANAAN WILAYAH & KOTA",
         "orientation": "h",
         "showlegend": true,
         "textposition": "auto",
         "texttemplate": "%{x}",
         "type": "bar",
         "x": [
          628.6339285714286
         ],
         "xaxis": "x",
         "y": [
          "PERENCANAAN WILAYAH & KOTA"
         ],
         "yaxis": "y"
        },
        {
         "alignmentgroup": "True",
         "hovertemplate": "first_major=%{y}<br>average_score=%{x}<extra></extra>",
         "legendgroup": "TEKNOLOGI INFORMASI",
         "marker": {
          "color": "#19d3f3",
          "pattern": {
           "shape": ""
          }
         },
         "name": "TEKNOLOGI INFORMASI",
         "offsetgroup": "TEKNOLOGI INFORMASI",
         "orientation": "h",
         "showlegend": true,
         "textposition": "auto",
         "texttemplate": "%{x}",
         "type": "bar",
         "x": [
          622.3645833333334
         ],
         "xaxis": "x",
         "y": [
          "TEKNOLOGI INFORMASI"
         ],
         "yaxis": "y"
        },
        {
         "alignmentgroup": "True",
         "hovertemplate": "first_major=%{y}<br>average_score=%{x}<extra></extra>",
         "legendgroup": "TEKNIK MESIN",
         "marker": {
          "color": "#FF6692",
          "pattern": {
           "shape": ""
          }
         },
         "name": "TEKNIK MESIN",
         "offsetgroup": "TEKNIK MESIN",
         "orientation": "h",
         "showlegend": true,
         "textposition": "auto",
         "texttemplate": "%{x}",
         "type": "bar",
         "x": [
          621.8984375
         ],
         "xaxis": "x",
         "y": [
          "TEKNIK MESIN"
         ],
         "yaxis": "y"
        },
        {
         "alignmentgroup": "True",
         "hovertemplate": "first_major=%{y}<br>average_score=%{x}<extra></extra>",
         "legendgroup": "KIMIA",
         "marker": {
          "color": "#B6E880",
          "pattern": {
           "shape": ""
          }
         },
         "name": "KIMIA",
         "offsetgroup": "KIMIA",
         "orientation": "h",
         "showlegend": true,
         "textposition": "auto",
         "texttemplate": "%{x}",
         "type": "bar",
         "x": [
          621.5859375
         ],
         "xaxis": "x",
         "y": [
          "KIMIA"
         ],
         "yaxis": "y"
        },
        {
         "alignmentgroup": "True",
         "hovertemplate": "first_major=%{y}<br>average_score=%{x}<extra></extra>",
         "legendgroup": "BIOTEKNOLOGI",
         "marker": {
          "color": "#FF97FF",
          "pattern": {
           "shape": ""
          }
         },
         "name": "BIOTEKNOLOGI",
         "offsetgroup": "BIOTEKNOLOGI",
         "orientation": "h",
         "showlegend": true,
         "textposition": "auto",
         "texttemplate": "%{x}",
         "type": "bar",
         "x": [
          621.375
         ],
         "xaxis": "x",
         "y": [
          "BIOTEKNOLOGI"
         ],
         "yaxis": "y"
        },
        {
         "alignmentgroup": "True",
         "hovertemplate": "first_major=%{y}<br>average_score=%{x}<extra></extra>",
         "legendgroup": "MATEMATIKA",
         "marker": {
          "color": "#FECB52",
          "pattern": {
           "shape": ""
          }
         },
         "name": "MATEMATIKA",
         "offsetgroup": "MATEMATIKA",
         "orientation": "h",
         "showlegend": true,
         "textposition": "auto",
         "texttemplate": "%{x}",
         "type": "bar",
         "x": [
          619.5
         ],
         "xaxis": "x",
         "y": [
          "MATEMATIKA"
         ],
         "yaxis": "y"
        },
        {
         "alignmentgroup": "True",
         "hovertemplate": "first_major=%{y}<br>average_score=%{x}<extra></extra>",
         "legendgroup": "TEKNIK KOMPUTER",
         "marker": {
          "color": "#636efa",
          "pattern": {
           "shape": ""
          }
         },
         "name": "TEKNIK KOMPUTER",
         "offsetgroup": "TEKNIK KOMPUTER",
         "orientation": "h",
         "showlegend": true,
         "textposition": "auto",
         "texttemplate": "%{x}",
         "type": "bar",
         "x": [
          614.405
         ],
         "xaxis": "x",
         "y": [
          "TEKNIK KOMPUTER"
         ],
         "yaxis": "y"
        },
        {
         "alignmentgroup": "True",
         "hovertemplate": "first_major=%{y}<br>average_score=%{x}<extra></extra>",
         "legendgroup": "TEKNIK GEOFISIKA",
         "marker": {
          "color": "#EF553B",
          "pattern": {
           "shape": ""
          }
         },
         "name": "TEKNIK GEOFISIKA",
         "offsetgroup": "TEKNIK GEOFISIKA",
         "orientation": "h",
         "showlegend": true,
         "textposition": "auto",
         "texttemplate": "%{x}",
         "type": "bar",
         "x": [
          610.3035714285714
         ],
         "xaxis": "x",
         "y": [
          "TEKNIK GEOFISIKA"
         ],
         "yaxis": "y"
        },
        {
         "alignmentgroup": "True",
         "hovertemplate": "first_major=%{y}<br>average_score=%{x}<extra></extra>",
         "legendgroup": "ILMU KEPERAWATAN",
         "marker": {
          "color": "#00cc96",
          "pattern": {
           "shape": ""
          }
         },
         "name": "ILMU KEPERAWATAN",
         "offsetgroup": "ILMU KEPERAWATAN",
         "orientation": "h",
         "showlegend": true,
         "textposition": "auto",
         "texttemplate": "%{x}",
         "type": "bar",
         "x": [
          609.7670454545455
         ],
         "xaxis": "x",
         "y": [
          "ILMU KEPERAWATAN"
         ],
         "yaxis": "y"
        },
        {
         "alignmentgroup": "True",
         "hovertemplate": "first_major=%{y}<br>average_score=%{x}<extra></extra>",
         "legendgroup": "FISIKA",
         "marker": {
          "color": "#ab63fa",
          "pattern": {
           "shape": ""
          }
         },
         "name": "FISIKA",
         "offsetgroup": "FISIKA",
         "orientation": "h",
         "showlegend": true,
         "textposition": "auto",
         "texttemplate": "%{x}",
         "type": "bar",
         "x": [
          605.8486842105264
         ],
         "xaxis": "x",
         "y": [
          "FISIKA"
         ],
         "yaxis": "y"
        },
        {
         "alignmentgroup": "True",
         "hovertemplate": "first_major=%{y}<br>average_score=%{x}<extra></extra>",
         "legendgroup": "TEKNIK PENGAIRAN",
         "marker": {
          "color": "#FFA15A",
          "pattern": {
           "shape": ""
          }
         },
         "name": "TEKNIK PENGAIRAN",
         "offsetgroup": "TEKNIK PENGAIRAN",
         "orientation": "h",
         "showlegend": true,
         "textposition": "auto",
         "texttemplate": "%{x}",
         "type": "bar",
         "x": [
          605.6294642857143
         ],
         "xaxis": "x",
         "y": [
          "TEKNIK PENGAIRAN"
         ],
         "yaxis": "y"
        },
        {
         "alignmentgroup": "True",
         "hovertemplate": "first_major=%{y}<br>average_score=%{x}<extra></extra>",
         "legendgroup": "KEBIDANAN",
         "marker": {
          "color": "#19d3f3",
          "pattern": {
           "shape": ""
          }
         },
         "name": "KEBIDANAN",
         "offsetgroup": "KEBIDANAN",
         "orientation": "h",
         "showlegend": true,
         "textposition": "auto",
         "texttemplate": "%{x}",
         "type": "bar",
         "x": [
          604.6985294117648
         ],
         "xaxis": "x",
         "y": [
          "KEBIDANAN"
         ],
         "yaxis": "y"
        },
        {
         "alignmentgroup": "True",
         "hovertemplate": "first_major=%{y}<br>average_score=%{x}<extra></extra>",
         "legendgroup": "PENDIDIKAN DOKTER HEWAN",
         "marker": {
          "color": "#FF6692",
          "pattern": {
           "shape": ""
          }
         },
         "name": "PENDIDIKAN DOKTER HEWAN",
         "offsetgroup": "PENDIDIKAN DOKTER HEWAN",
         "orientation": "h",
         "showlegend": true,
         "textposition": "auto",
         "texttemplate": "%{x}",
         "type": "bar",
         "x": [
          603.6796875
         ],
         "xaxis": "x",
         "y": [
          "PENDIDIKAN DOKTER HEWAN"
         ],
         "yaxis": "y"
        },
        {
         "alignmentgroup": "True",
         "hovertemplate": "first_major=%{y}<br>average_score=%{x}<extra></extra>",
         "legendgroup": "TEKNOLOGI BIOPROSES",
         "marker": {
          "color": "#B6E880",
          "pattern": {
           "shape": ""
          }
         },
         "name": "TEKNOLOGI BIOPROSES",
         "offsetgroup": "TEKNOLOGI BIOPROSES",
         "orientation": "h",
         "showlegend": true,
         "textposition": "auto",
         "texttemplate": "%{x}",
         "type": "bar",
         "x": [
          598.4017857142857
         ],
         "xaxis": "x",
         "y": [
          "TEKNOLOGI BIOPROSES"
         ],
         "yaxis": "y"
        },
        {
         "alignmentgroup": "True",
         "hovertemplate": "first_major=%{y}<br>average_score=%{x}<extra></extra>",
         "legendgroup": "BIOLOGI",
         "marker": {
          "color": "#FF97FF",
          "pattern": {
           "shape": ""
          }
         },
         "name": "BIOLOGI",
         "offsetgroup": "BIOLOGI",
         "orientation": "h",
         "showlegend": true,
         "textposition": "auto",
         "texttemplate": "%{x}",
         "type": "bar",
         "x": [
          594.7321428571429
         ],
         "xaxis": "x",
         "y": [
          "BIOLOGI"
         ],
         "yaxis": "y"
        },
        {
         "alignmentgroup": "True",
         "hovertemplate": "first_major=%{y}<br>average_score=%{x}<extra></extra>",
         "legendgroup": "INSTRUMENTASI",
         "marker": {
          "color": "#FECB52",
          "pattern": {
           "shape": ""
          }
         },
         "name": "INSTRUMENTASI",
         "offsetgroup": "INSTRUMENTASI",
         "orientation": "h",
         "showlegend": true,
         "textposition": "auto",
         "texttemplate": "%{x}",
         "type": "bar",
         "x": [
          593.2053571428571
         ],
         "xaxis": "x",
         "y": [
          "INSTRUMENTASI"
         ],
         "yaxis": "y"
        },
        {
         "alignmentgroup": "True",
         "hovertemplate": "first_major=%{y}<br>average_score=%{x}<extra></extra>",
         "legendgroup": "TEKNOLOGI INDUSTRI PERTANIAN",
         "marker": {
          "color": "#636efa",
          "pattern": {
           "shape": ""
          }
         },
         "name": "TEKNOLOGI INDUSTRI PERTANIAN",
         "offsetgroup": "TEKNOLOGI INDUSTRI PERTANIAN",
         "orientation": "h",
         "showlegend": true,
         "textposition": "auto",
         "texttemplate": "%{x}",
         "type": "bar",
         "x": [
          592.54375
         ],
         "xaxis": "x",
         "y": [
          "TEKNOLOGI INDUSTRI PERTANIAN"
         ],
         "yaxis": "y"
        },
        {
         "alignmentgroup": "True",
         "hovertemplate": "first_major=%{y}<br>average_score=%{x}<extra></extra>",
         "legendgroup": "ILMU KELAUTAN",
         "marker": {
          "color": "#EF553B",
          "pattern": {
           "shape": ""
          }
         },
         "name": "ILMU KELAUTAN",
         "offsetgroup": "ILMU KELAUTAN",
         "orientation": "h",
         "showlegend": true,
         "textposition": "auto",
         "texttemplate": "%{x}",
         "type": "bar",
         "x": [
          591.8883928571429
         ],
         "xaxis": "x",
         "y": [
          "ILMU KELAUTAN"
         ],
         "yaxis": "y"
        },
        {
         "alignmentgroup": "True",
         "hovertemplate": "first_major=%{y}<br>average_score=%{x}<extra></extra>",
         "legendgroup": "AGRIBISNIS",
         "marker": {
          "color": "#00cc96",
          "pattern": {
           "shape": ""
          }
         },
         "name": "AGRIBISNIS",
         "offsetgroup": "AGRIBISNIS",
         "orientation": "h",
         "showlegend": true,
         "textposition": "auto",
         "texttemplate": "%{x}",
         "type": "bar",
         "x": [
          585.7835820895523
         ],
         "xaxis": "x",
         "y": [
          "AGRIBISNIS"
         ],
         "yaxis": "y"
        },
        {
         "alignmentgroup": "True",
         "hovertemplate": "first_major=%{y}<br>average_score=%{x}<extra></extra>",
         "legendgroup": "AGROEKOTEKNOLOGI",
         "marker": {
          "color": "#ab63fa",
          "pattern": {
           "shape": ""
          }
         },
         "name": "AGROEKOTEKNOLOGI",
         "offsetgroup": "AGROEKOTEKNOLOGI",
         "orientation": "h",
         "showlegend": true,
         "textposition": "auto",
         "texttemplate": "%{x}",
         "type": "bar",
         "x": [
          583.5292338709677
         ],
         "xaxis": "x",
         "y": [
          "AGROEKOTEKNOLOGI"
         ],
         "yaxis": "y"
        },
        {
         "alignmentgroup": "True",
         "hovertemplate": "first_major=%{y}<br>average_score=%{x}<extra></extra>",
         "legendgroup": "PENDIDIKAN TEKNOLOGI INFORMASI",
         "marker": {
          "color": "#FFA15A",
          "pattern": {
           "shape": ""
          }
         },
         "name": "PENDIDIKAN TEKNOLOGI INFORMASI",
         "offsetgroup": "PENDIDIKAN TEKNOLOGI INFORMASI",
         "orientation": "h",
         "showlegend": true,
         "textposition": "auto",
         "texttemplate": "%{x}",
         "type": "bar",
         "x": [
          582.0729166666666
         ],
         "xaxis": "x",
         "y": [
          "PENDIDIKAN TEKNOLOGI INFORMASI"
         ],
         "yaxis": "y"
        },
        {
         "alignmentgroup": "True",
         "hovertemplate": "first_major=%{y}<br>average_score=%{x}<extra></extra>",
         "legendgroup": "MANAJEMEN SUMBERDAYA PERAIRAN",
         "marker": {
          "color": "#19d3f3",
          "pattern": {
           "shape": ""
          }
         },
         "name": "MANAJEMEN SUMBERDAYA PERAIRAN",
         "offsetgroup": "MANAJEMEN SUMBERDAYA PERAIRAN",
         "orientation": "h",
         "showlegend": true,
         "textposition": "auto",
         "texttemplate": "%{x}",
         "type": "bar",
         "x": [
          578.71875
         ],
         "xaxis": "x",
         "y": [
          "MANAJEMEN SUMBERDAYA PERAIRAN"
         ],
         "yaxis": "y"
        },
        {
         "alignmentgroup": "True",
         "hovertemplate": "first_major=%{y}<br>average_score=%{x}<extra></extra>",
         "legendgroup": "KETEKNIKAN PERTANIAN",
         "marker": {
          "color": "#FF6692",
          "pattern": {
           "shape": ""
          }
         },
         "name": "KETEKNIKAN PERTANIAN",
         "offsetgroup": "KETEKNIKAN PERTANIAN",
         "orientation": "h",
         "showlegend": true,
         "textposition": "auto",
         "texttemplate": "%{x}",
         "type": "bar",
         "x": [
          576.31875
         ],
         "xaxis": "x",
         "y": [
          "KETEKNIKAN PERTANIAN"
         ],
         "yaxis": "y"
        },
        {
         "alignmentgroup": "True",
         "hovertemplate": "first_major=%{y}<br>average_score=%{x}<extra></extra>",
         "legendgroup": "AGRIBISNIS (PSDKU KEDIRI)",
         "marker": {
          "color": "#B6E880",
          "pattern": {
           "shape": ""
          }
         },
         "name": "AGRIBISNIS (PSDKU KEDIRI)",
         "offsetgroup": "AGRIBISNIS (PSDKU KEDIRI)",
         "orientation": "h",
         "showlegend": true,
         "textposition": "auto",
         "texttemplate": "%{x}",
         "type": "bar",
         "x": [
          576.125
         ],
         "xaxis": "x",
         "y": [
          "AGRIBISNIS (PSDKU KEDIRI)"
         ],
         "yaxis": "y"
        },
        {
         "alignmentgroup": "True",
         "hovertemplate": "first_major=%{y}<br>average_score=%{x}<extra></extra>",
         "legendgroup": "AGROBISNIS PERIKANAN",
         "marker": {
          "color": "#FF97FF",
          "pattern": {
           "shape": ""
          }
         },
         "name": "AGROBISNIS PERIKANAN",
         "offsetgroup": "AGROBISNIS PERIKANAN",
         "orientation": "h",
         "showlegend": true,
         "textposition": "auto",
         "texttemplate": "%{x}",
         "type": "bar",
         "x": [
          572.90625
         ],
         "xaxis": "x",
         "y": [
          "AGROBISNIS PERIKANAN"
         ],
         "yaxis": "y"
        },
        {
         "alignmentgroup": "True",
         "hovertemplate": "first_major=%{y}<br>average_score=%{x}<extra></extra>",
         "legendgroup": "BUDIDAYA PERAIRAN",
         "marker": {
          "color": "#FECB52",
          "pattern": {
           "shape": ""
          }
         },
         "name": "BUDIDAYA PERAIRAN",
         "offsetgroup": "BUDIDAYA PERAIRAN",
         "orientation": "h",
         "showlegend": true,
         "textposition": "auto",
         "texttemplate": "%{x}",
         "type": "bar",
         "x": [
          570.5223214285714
         ],
         "xaxis": "x",
         "y": [
          "BUDIDAYA PERAIRAN"
         ],
         "yaxis": "y"
        },
        {
         "alignmentgroup": "True",
         "hovertemplate": "first_major=%{y}<br>average_score=%{x}<extra></extra>",
         "legendgroup": "TEKNOLOGI HASIL PERIKANAN",
         "marker": {
          "color": "#636efa",
          "pattern": {
           "shape": ""
          }
         },
         "name": "TEKNOLOGI HASIL PERIKANAN",
         "offsetgroup": "TEKNOLOGI HASIL PERIKANAN",
         "orientation": "h",
         "showlegend": true,
         "textposition": "auto",
         "texttemplate": "%{x}",
         "type": "bar",
         "x": [
          570.2723214285714
         ],
         "xaxis": "x",
         "y": [
          "TEKNOLOGI HASIL PERIKANAN"
         ],
         "yaxis": "y"
        },
        {
         "alignmentgroup": "True",
         "hovertemplate": "first_major=%{y}<br>average_score=%{x}<extra></extra>",
         "legendgroup": "PEMANFAATAN SUMBERDAYA PERIKANAN",
         "marker": {
          "color": "#EF553B",
          "pattern": {
           "shape": ""
          }
         },
         "name": "PEMANFAATAN SUMBERDAYA PERIKANAN",
         "offsetgroup": "PEMANFAATAN SUMBERDAYA PERIKANAN",
         "orientation": "h",
         "showlegend": true,
         "textposition": "auto",
         "texttemplate": "%{x}",
         "type": "bar",
         "x": [
          569.4241071428571
         ],
         "xaxis": "x",
         "y": [
          "PEMANFAATAN SUMBERDAYA PERIKANAN"
         ],
         "yaxis": "y"
        },
        {
         "alignmentgroup": "True",
         "hovertemplate": "first_major=%{y}<br>average_score=%{x}<extra></extra>",
         "legendgroup": "PETERNAKAN",
         "marker": {
          "color": "#00cc96",
          "pattern": {
           "shape": ""
          }
         },
         "name": "PETERNAKAN",
         "offsetgroup": "PETERNAKAN",
         "orientation": "h",
         "showlegend": true,
         "textposition": "auto",
         "texttemplate": "%{x}",
         "type": "bar",
         "x": [
          566.1059523809524
         ],
         "xaxis": "x",
         "y": [
          "PETERNAKAN"
         ],
         "yaxis": "y"
        },
        {
         "alignmentgroup": "True",
         "hovertemplate": "first_major=%{y}<br>average_score=%{x}<extra></extra>",
         "legendgroup": "AGROEKOTEKNOLOGI (PSDKU KEDIRI)",
         "marker": {
          "color": "#ab63fa",
          "pattern": {
           "shape": ""
          }
         },
         "name": "AGROEKOTEKNOLOGI (PSDKU KEDIRI)",
         "offsetgroup": "AGROEKOTEKNOLOGI (PSDKU KEDIRI)",
         "orientation": "h",
         "showlegend": true,
         "textposition": "auto",
         "texttemplate": "%{x}",
         "type": "bar",
         "x": [
          554.0625
         ],
         "xaxis": "x",
         "y": [
          "AGROEKOTEKNOLOGI (PSDKU KEDIRI)"
         ],
         "yaxis": "y"
        },
        {
         "alignmentgroup": "True",
         "hovertemplate": "first_major=%{y}<br>average_score=%{x}<extra></extra>",
         "legendgroup": "SOSIAL EKONOMI PERIKANAN (PSDKU KEDIRI)",
         "marker": {
          "color": "#FFA15A",
          "pattern": {
           "shape": ""
          }
         },
         "name": "SOSIAL EKONOMI PERIKANAN (PSDKU KEDIRI)",
         "offsetgroup": "SOSIAL EKONOMI PERIKANAN (PSDKU KEDIRI)",
         "orientation": "h",
         "showlegend": true,
         "textposition": "auto",
         "texttemplate": "%{x}",
         "type": "bar",
         "x": [
          542.859375
         ],
         "xaxis": "x",
         "y": [
          "SOSIAL EKONOMI PERIKANAN (PSDKU KEDIRI)"
         ],
         "yaxis": "y"
        },
        {
         "alignmentgroup": "True",
         "hovertemplate": "first_major=%{y}<br>average_score=%{x}<extra></extra>",
         "legendgroup": "PETERNAKAN (PSDKU KEDIRI)",
         "marker": {
          "color": "#19d3f3",
          "pattern": {
           "shape": ""
          }
         },
         "name": "PETERNAKAN (PSDKU KEDIRI)",
         "offsetgroup": "PETERNAKAN (PSDKU KEDIRI)",
         "orientation": "h",
         "showlegend": true,
         "textposition": "auto",
         "texttemplate": "%{x}",
         "type": "bar",
         "x": [
          536.3541666666666
         ],
         "xaxis": "x",
         "y": [
          "PETERNAKAN (PSDKU KEDIRI)"
         ],
         "yaxis": "y"
        },
        {
         "alignmentgroup": "True",
         "hovertemplate": "first_major=%{y}<br>average_score=%{x}<extra></extra>",
         "legendgroup": "AKUAKULTUR (PSDKU KEDIRI) ",
         "marker": {
          "color": "#FF6692",
          "pattern": {
           "shape": ""
          }
         },
         "name": "AKUAKULTUR (PSDKU KEDIRI) ",
         "offsetgroup": "AKUAKULTUR (PSDKU KEDIRI) ",
         "orientation": "h",
         "showlegend": true,
         "textposition": "auto",
         "texttemplate": "%{x}",
         "type": "bar",
         "x": [
          535.734375
         ],
         "xaxis": "x",
         "y": [
          "AKUAKULTUR (PSDKU KEDIRI) "
         ],
         "yaxis": "y"
        }
       ],
       "layout": {
        "bargap": 0.15,
        "bargroupgap": 0.1,
        "barmode": "relative",
        "height": 1200,
        "legend": {
         "title": {
          "text": "first_major"
         },
         "tracegroupgap": 0
        },
        "margin": {
         "t": 60
        },
        "showlegend": false,
        "template": {
         "data": {
          "bar": [
           {
            "error_x": {
             "color": "#2a3f5f"
            },
            "error_y": {
             "color": "#2a3f5f"
            },
            "marker": {
             "line": {
              "color": "#E5ECF6",
              "width": 0.5
             },
             "pattern": {
              "fillmode": "overlay",
              "size": 10,
              "solidity": 0.2
             }
            },
            "type": "bar"
           }
          ],
          "barpolar": [
           {
            "marker": {
             "line": {
              "color": "#E5ECF6",
              "width": 0.5
             },
             "pattern": {
              "fillmode": "overlay",
              "size": 10,
              "solidity": 0.2
             }
            },
            "type": "barpolar"
           }
          ],
          "carpet": [
           {
            "aaxis": {
             "endlinecolor": "#2a3f5f",
             "gridcolor": "white",
             "linecolor": "white",
             "minorgridcolor": "white",
             "startlinecolor": "#2a3f5f"
            },
            "baxis": {
             "endlinecolor": "#2a3f5f",
             "gridcolor": "white",
             "linecolor": "white",
             "minorgridcolor": "white",
             "startlinecolor": "#2a3f5f"
            },
            "type": "carpet"
           }
          ],
          "choropleth": [
           {
            "colorbar": {
             "outlinewidth": 0,
             "ticks": ""
            },
            "type": "choropleth"
           }
          ],
          "contour": [
           {
            "colorbar": {
             "outlinewidth": 0,
             "ticks": ""
            },
            "colorscale": [
             [
              0,
              "#0d0887"
             ],
             [
              0.1111111111111111,
              "#46039f"
             ],
             [
              0.2222222222222222,
              "#7201a8"
             ],
             [
              0.3333333333333333,
              "#9c179e"
             ],
             [
              0.4444444444444444,
              "#bd3786"
             ],
             [
              0.5555555555555556,
              "#d8576b"
             ],
             [
              0.6666666666666666,
              "#ed7953"
             ],
             [
              0.7777777777777778,
              "#fb9f3a"
             ],
             [
              0.8888888888888888,
              "#fdca26"
             ],
             [
              1,
              "#f0f921"
             ]
            ],
            "type": "contour"
           }
          ],
          "contourcarpet": [
           {
            "colorbar": {
             "outlinewidth": 0,
             "ticks": ""
            },
            "type": "contourcarpet"
           }
          ],
          "heatmap": [
           {
            "colorbar": {
             "outlinewidth": 0,
             "ticks": ""
            },
            "colorscale": [
             [
              0,
              "#0d0887"
             ],
             [
              0.1111111111111111,
              "#46039f"
             ],
             [
              0.2222222222222222,
              "#7201a8"
             ],
             [
              0.3333333333333333,
              "#9c179e"
             ],
             [
              0.4444444444444444,
              "#bd3786"
             ],
             [
              0.5555555555555556,
              "#d8576b"
             ],
             [
              0.6666666666666666,
              "#ed7953"
             ],
             [
              0.7777777777777778,
              "#fb9f3a"
             ],
             [
              0.8888888888888888,
              "#fdca26"
             ],
             [
              1,
              "#f0f921"
             ]
            ],
            "type": "heatmap"
           }
          ],
          "heatmapgl": [
           {
            "colorbar": {
             "outlinewidth": 0,
             "ticks": ""
            },
            "colorscale": [
             [
              0,
              "#0d0887"
             ],
             [
              0.1111111111111111,
              "#46039f"
             ],
             [
              0.2222222222222222,
              "#7201a8"
             ],
             [
              0.3333333333333333,
              "#9c179e"
             ],
             [
              0.4444444444444444,
              "#bd3786"
             ],
             [
              0.5555555555555556,
              "#d8576b"
             ],
             [
              0.6666666666666666,
              "#ed7953"
             ],
             [
              0.7777777777777778,
              "#fb9f3a"
             ],
             [
              0.8888888888888888,
              "#fdca26"
             ],
             [
              1,
              "#f0f921"
             ]
            ],
            "type": "heatmapgl"
           }
          ],
          "histogram": [
           {
            "marker": {
             "pattern": {
              "fillmode": "overlay",
              "size": 10,
              "solidity": 0.2
             }
            },
            "type": "histogram"
           }
          ],
          "histogram2d": [
           {
            "colorbar": {
             "outlinewidth": 0,
             "ticks": ""
            },
            "colorscale": [
             [
              0,
              "#0d0887"
             ],
             [
              0.1111111111111111,
              "#46039f"
             ],
             [
              0.2222222222222222,
              "#7201a8"
             ],
             [
              0.3333333333333333,
              "#9c179e"
             ],
             [
              0.4444444444444444,
              "#bd3786"
             ],
             [
              0.5555555555555556,
              "#d8576b"
             ],
             [
              0.6666666666666666,
              "#ed7953"
             ],
             [
              0.7777777777777778,
              "#fb9f3a"
             ],
             [
              0.8888888888888888,
              "#fdca26"
             ],
             [
              1,
              "#f0f921"
             ]
            ],
            "type": "histogram2d"
           }
          ],
          "histogram2dcontour": [
           {
            "colorbar": {
             "outlinewidth": 0,
             "ticks": ""
            },
            "colorscale": [
             [
              0,
              "#0d0887"
             ],
             [
              0.1111111111111111,
              "#46039f"
             ],
             [
              0.2222222222222222,
              "#7201a8"
             ],
             [
              0.3333333333333333,
              "#9c179e"
             ],
             [
              0.4444444444444444,
              "#bd3786"
             ],
             [
              0.5555555555555556,
              "#d8576b"
             ],
             [
              0.6666666666666666,
              "#ed7953"
             ],
             [
              0.7777777777777778,
              "#fb9f3a"
             ],
             [
              0.8888888888888888,
              "#fdca26"
             ],
             [
              1,
              "#f0f921"
             ]
            ],
            "type": "histogram2dcontour"
           }
          ],
          "mesh3d": [
           {
            "colorbar": {
             "outlinewidth": 0,
             "ticks": ""
            },
            "type": "mesh3d"
           }
          ],
          "parcoords": [
           {
            "line": {
             "colorbar": {
              "outlinewidth": 0,
              "ticks": ""
             }
            },
            "type": "parcoords"
           }
          ],
          "pie": [
           {
            "automargin": true,
            "type": "pie"
           }
          ],
          "scatter": [
           {
            "marker": {
             "colorbar": {
              "outlinewidth": 0,
              "ticks": ""
             }
            },
            "type": "scatter"
           }
          ],
          "scatter3d": [
           {
            "line": {
             "colorbar": {
              "outlinewidth": 0,
              "ticks": ""
             }
            },
            "marker": {
             "colorbar": {
              "outlinewidth": 0,
              "ticks": ""
             }
            },
            "type": "scatter3d"
           }
          ],
          "scattercarpet": [
           {
            "marker": {
             "colorbar": {
              "outlinewidth": 0,
              "ticks": ""
             }
            },
            "type": "scattercarpet"
           }
          ],
          "scattergeo": [
           {
            "marker": {
             "colorbar": {
              "outlinewidth": 0,
              "ticks": ""
             }
            },
            "type": "scattergeo"
           }
          ],
          "scattergl": [
           {
            "marker": {
             "colorbar": {
              "outlinewidth": 0,
              "ticks": ""
             }
            },
            "type": "scattergl"
           }
          ],
          "scattermapbox": [
           {
            "marker": {
             "colorbar": {
              "outlinewidth": 0,
              "ticks": ""
             }
            },
            "type": "scattermapbox"
           }
          ],
          "scatterpolar": [
           {
            "marker": {
             "colorbar": {
              "outlinewidth": 0,
              "ticks": ""
             }
            },
            "type": "scatterpolar"
           }
          ],
          "scatterpolargl": [
           {
            "marker": {
             "colorbar": {
              "outlinewidth": 0,
              "ticks": ""
             }
            },
            "type": "scatterpolargl"
           }
          ],
          "scatterternary": [
           {
            "marker": {
             "colorbar": {
              "outlinewidth": 0,
              "ticks": ""
             }
            },
            "type": "scatterternary"
           }
          ],
          "surface": [
           {
            "colorbar": {
             "outlinewidth": 0,
             "ticks": ""
            },
            "colorscale": [
             [
              0,
              "#0d0887"
             ],
             [
              0.1111111111111111,
              "#46039f"
             ],
             [
              0.2222222222222222,
              "#7201a8"
             ],
             [
              0.3333333333333333,
              "#9c179e"
             ],
             [
              0.4444444444444444,
              "#bd3786"
             ],
             [
              0.5555555555555556,
              "#d8576b"
             ],
             [
              0.6666666666666666,
              "#ed7953"
             ],
             [
              0.7777777777777778,
              "#fb9f3a"
             ],
             [
              0.8888888888888888,
              "#fdca26"
             ],
             [
              1,
              "#f0f921"
             ]
            ],
            "type": "surface"
           }
          ],
          "table": [
           {
            "cells": {
             "fill": {
              "color": "#EBF0F8"
             },
             "line": {
              "color": "white"
             }
            },
            "header": {
             "fill": {
              "color": "#C8D4E3"
             },
             "line": {
              "color": "white"
             }
            },
            "type": "table"
           }
          ]
         },
         "layout": {
          "annotationdefaults": {
           "arrowcolor": "#2a3f5f",
           "arrowhead": 0,
           "arrowwidth": 1
          },
          "autotypenumbers": "strict",
          "coloraxis": {
           "colorbar": {
            "outlinewidth": 0,
            "ticks": ""
           }
          },
          "colorscale": {
           "diverging": [
            [
             0,
             "#8e0152"
            ],
            [
             0.1,
             "#c51b7d"
            ],
            [
             0.2,
             "#de77ae"
            ],
            [
             0.3,
             "#f1b6da"
            ],
            [
             0.4,
             "#fde0ef"
            ],
            [
             0.5,
             "#f7f7f7"
            ],
            [
             0.6,
             "#e6f5d0"
            ],
            [
             0.7,
             "#b8e186"
            ],
            [
             0.8,
             "#7fbc41"
            ],
            [
             0.9,
             "#4d9221"
            ],
            [
             1,
             "#276419"
            ]
           ],
           "sequential": [
            [
             0,
             "#0d0887"
            ],
            [
             0.1111111111111111,
             "#46039f"
            ],
            [
             0.2222222222222222,
             "#7201a8"
            ],
            [
             0.3333333333333333,
             "#9c179e"
            ],
            [
             0.4444444444444444,
             "#bd3786"
            ],
            [
             0.5555555555555556,
             "#d8576b"
            ],
            [
             0.6666666666666666,
             "#ed7953"
            ],
            [
             0.7777777777777778,
             "#fb9f3a"
            ],
            [
             0.8888888888888888,
             "#fdca26"
            ],
            [
             1,
             "#f0f921"
            ]
           ],
           "sequentialminus": [
            [
             0,
             "#0d0887"
            ],
            [
             0.1111111111111111,
             "#46039f"
            ],
            [
             0.2222222222222222,
             "#7201a8"
            ],
            [
             0.3333333333333333,
             "#9c179e"
            ],
            [
             0.4444444444444444,
             "#bd3786"
            ],
            [
             0.5555555555555556,
             "#d8576b"
            ],
            [
             0.6666666666666666,
             "#ed7953"
            ],
            [
             0.7777777777777778,
             "#fb9f3a"
            ],
            [
             0.8888888888888888,
             "#fdca26"
            ],
            [
             1,
             "#f0f921"
            ]
           ]
          },
          "colorway": [
           "#636efa",
           "#EF553B",
           "#00cc96",
           "#ab63fa",
           "#FFA15A",
           "#19d3f3",
           "#FF6692",
           "#B6E880",
           "#FF97FF",
           "#FECB52"
          ],
          "font": {
           "color": "#2a3f5f"
          },
          "geo": {
           "bgcolor": "white",
           "lakecolor": "white",
           "landcolor": "#E5ECF6",
           "showlakes": true,
           "showland": true,
           "subunitcolor": "white"
          },
          "hoverlabel": {
           "align": "left"
          },
          "hovermode": "closest",
          "mapbox": {
           "style": "light"
          },
          "paper_bgcolor": "white",
          "plot_bgcolor": "#E5ECF6",
          "polar": {
           "angularaxis": {
            "gridcolor": "white",
            "linecolor": "white",
            "ticks": ""
           },
           "bgcolor": "#E5ECF6",
           "radialaxis": {
            "gridcolor": "white",
            "linecolor": "white",
            "ticks": ""
           }
          },
          "scene": {
           "xaxis": {
            "backgroundcolor": "#E5ECF6",
            "gridcolor": "white",
            "gridwidth": 2,
            "linecolor": "white",
            "showbackground": true,
            "ticks": "",
            "zerolinecolor": "white"
           },
           "yaxis": {
            "backgroundcolor": "#E5ECF6",
            "gridcolor": "white",
            "gridwidth": 2,
            "linecolor": "white",
            "showbackground": true,
            "ticks": "",
            "zerolinecolor": "white"
           },
           "zaxis": {
            "backgroundcolor": "#E5ECF6",
            "gridcolor": "white",
            "gridwidth": 2,
            "linecolor": "white",
            "showbackground": true,
            "ticks": "",
            "zerolinecolor": "white"
           }
          },
          "shapedefaults": {
           "line": {
            "color": "#2a3f5f"
           }
          },
          "ternary": {
           "aaxis": {
            "gridcolor": "white",
            "linecolor": "white",
            "ticks": ""
           },
           "baxis": {
            "gridcolor": "white",
            "linecolor": "white",
            "ticks": ""
           },
           "bgcolor": "#E5ECF6",
           "caxis": {
            "gridcolor": "white",
            "linecolor": "white",
            "ticks": ""
           }
          },
          "title": {
           "x": 0.05
          },
          "xaxis": {
           "automargin": true,
           "gridcolor": "white",
           "linecolor": "white",
           "ticks": "",
           "title": {
            "standoff": 15
           },
           "zerolinecolor": "white",
           "zerolinewidth": 2
          },
          "yaxis": {
           "automargin": true,
           "gridcolor": "white",
           "linecolor": "white",
           "ticks": "",
           "title": {
            "standoff": 15
           },
           "zerolinecolor": "white",
           "zerolinewidth": 2
          }
         }
        },
        "title": {
         "text": "Avg Score in Science Majors UB 2019"
        },
        "width": 1200,
        "xaxis": {
         "anchor": "y",
         "domain": [
          0,
          1
         ],
         "title": {
          "text": "Avg Score"
         }
        },
        "yaxis": {
         "anchor": "x",
         "categoryarray": [
          "AKUAKULTUR (PSDKU KEDIRI) ",
          "PETERNAKAN (PSDKU KEDIRI)",
          "SOSIAL EKONOMI PERIKANAN (PSDKU KEDIRI)",
          "AGROEKOTEKNOLOGI (PSDKU KEDIRI)",
          "PETERNAKAN",
          "PEMANFAATAN SUMBERDAYA PERIKANAN",
          "TEKNOLOGI HASIL PERIKANAN",
          "BUDIDAYA PERAIRAN",
          "AGROBISNIS PERIKANAN",
          "AGRIBISNIS (PSDKU KEDIRI)",
          "KETEKNIKAN PERTANIAN",
          "MANAJEMEN SUMBERDAYA PERAIRAN",
          "PENDIDIKAN TEKNOLOGI INFORMASI",
          "AGROEKOTEKNOLOGI",
          "AGRIBISNIS",
          "ILMU KELAUTAN",
          "TEKNOLOGI INDUSTRI PERTANIAN",
          "INSTRUMENTASI",
          "BIOLOGI",
          "TEKNOLOGI BIOPROSES",
          "PENDIDIKAN DOKTER HEWAN",
          "KEBIDANAN",
          "TEKNIK PENGAIRAN",
          "FISIKA",
          "ILMU KEPERAWATAN",
          "TEKNIK GEOFISIKA",
          "TEKNIK KOMPUTER",
          "MATEMATIKA",
          "BIOTEKNOLOGI",
          "KIMIA",
          "TEKNIK MESIN",
          "TEKNOLOGI INFORMASI",
          "PERENCANAAN WILAYAH & KOTA",
          "TEKNIK ELEKTRO",
          "ILMU DAN TEKNOLOGI PANGAN",
          "TEKNIK LINGKUNGAN",
          "TEKNIK KIMIA",
          "ARSITEKTUR",
          "SISTEM INFORMASI",
          "FARMASI",
          "STATISTIKA",
          "TEKNIK SIPIL",
          "GIZI KESEHATAN / ILMU GIZI",
          "TEKNIK INDUSTRI",
          "TEKNIK INFORMATIKA",
          "PENDIDIKAN DOKTER GIGI",
          "PENDIDIKAN DOKTER"
         ],
         "categoryorder": "array",
         "domain": [
          0,
          1
         ],
         "title": {
          "text": "Majors"
         }
        }
       }
      }
     },
     "metadata": {},
     "output_type": "display_data"
    }
   ],
   "source": [
    "fig = px.bar(data_frame=df_univ_braw_clear.groupby('first_major').mean().reset_index().sort_values('average_score',ascending=False),x='average_score',y='first_major',color='first_major',height=1200,width=1200,text_auto=True)\n",
    "fig.update_layout(showlegend=False,title='Avg Score in Science Majors UB 2019',xaxis_title='Avg Score',yaxis_title='Majors',bargap=0.15,\n",
    "bargroupgap=0.1)\n",
    "# fig.update_traces(textfont_size=16, textangle=0, textposition=\"outside\", cliponaxis=False)\n",
    "fig.show()"
   ]
  },
  {
   "cell_type": "markdown",
   "metadata": {},
   "source": [
    "![Avg Score in Science Majors UB 2019](/photos/Avg%20Score%20in%20Science%20Majors%20UB%202019.png)"
   ]
  },
  {
   "cell_type": "code",
   "execution_count": 33,
   "metadata": {},
   "outputs": [
    {
     "data": {
      "application/vnd.plotly.v1+json": {
       "config": {
        "plotlyServerURL": "https://plot.ly"
       },
       "data": [
        {
         "alignmentgroup": "True",
         "hovertemplate": "variable=average_score<br>value=%{x}<br>first_major=%{y}<extra></extra>",
         "legendgroup": "average_score",
         "marker": {
          "color": "#636efa",
          "pattern": {
           "shape": ""
          }
         },
         "name": "average_score",
         "offsetgroup": "average_score",
         "orientation": "h",
         "showlegend": true,
         "textposition": "auto",
         "texttemplate": "%{x}",
         "type": "bar",
         "x": [
          696.759375,
          674.296875,
          650.5822368421053,
          642.671875,
          642.4868421052631
         ],
         "xaxis": "x",
         "y": [
          "PENDIDIKAN DOKTER",
          "PENDIDIKAN DOKTER GIGI",
          "TEKNIK INFORMATIKA",
          "TEKNIK INDUSTRI",
          "GIZI KESEHATAN / ILMU GIZI"
         ],
         "yaxis": "y"
        },
        {
         "alignmentgroup": "True",
         "hovertemplate": "variable=specialized_score<br>value=%{x}<br>first_major=%{y}<extra></extra>",
         "legendgroup": "specialized_score",
         "marker": {
          "color": "#EF553B",
          "pattern": {
           "shape": ""
          }
         },
         "name": "specialized_score",
         "offsetgroup": "specialized_score",
         "orientation": "h",
         "showlegend": true,
         "textposition": "auto",
         "texttemplate": "%{x}",
         "type": "bar",
         "x": [
          711.20625,
          677.71875,
          633.25,
          636.3203125,
          635.8947368421053
         ],
         "xaxis": "x",
         "y": [
          "PENDIDIKAN DOKTER",
          "PENDIDIKAN DOKTER GIGI",
          "TEKNIK INFORMATIKA",
          "TEKNIK INDUSTRI",
          "GIZI KESEHATAN / ILMU GIZI"
         ],
         "yaxis": "y"
        },
        {
         "alignmentgroup": "True",
         "hovertemplate": "variable=general_score<br>value=%{x}<br>first_major=%{y}<extra></extra>",
         "legendgroup": "general_score",
         "marker": {
          "color": "#00cc96",
          "pattern": {
           "shape": ""
          }
         },
         "name": "general_score",
         "offsetgroup": "general_score",
         "orientation": "h",
         "showlegend": true,
         "textposition": "auto",
         "texttemplate": "%{x}",
         "type": "bar",
         "x": [
          682.3125,
          670.875,
          667.9144736842105,
          649.0234375,
          649.078947368421
         ],
         "xaxis": "x",
         "y": [
          "PENDIDIKAN DOKTER",
          "PENDIDIKAN DOKTER GIGI",
          "TEKNIK INFORMATIKA",
          "TEKNIK INDUSTRI",
          "GIZI KESEHATAN / ILMU GIZI"
         ],
         "yaxis": "y"
        }
       ],
       "layout": {
        "bargap": 0.15,
        "bargroupgap": 0.1,
        "barmode": "group",
        "height": 500,
        "legend": {
         "title": {
          "text": "variable"
         },
         "tracegroupgap": 0
        },
        "margin": {
         "t": 60
        },
        "showlegend": true,
        "template": {
         "data": {
          "bar": [
           {
            "error_x": {
             "color": "#2a3f5f"
            },
            "error_y": {
             "color": "#2a3f5f"
            },
            "marker": {
             "line": {
              "color": "#E5ECF6",
              "width": 0.5
             },
             "pattern": {
              "fillmode": "overlay",
              "size": 10,
              "solidity": 0.2
             }
            },
            "type": "bar"
           }
          ],
          "barpolar": [
           {
            "marker": {
             "line": {
              "color": "#E5ECF6",
              "width": 0.5
             },
             "pattern": {
              "fillmode": "overlay",
              "size": 10,
              "solidity": 0.2
             }
            },
            "type": "barpolar"
           }
          ],
          "carpet": [
           {
            "aaxis": {
             "endlinecolor": "#2a3f5f",
             "gridcolor": "white",
             "linecolor": "white",
             "minorgridcolor": "white",
             "startlinecolor": "#2a3f5f"
            },
            "baxis": {
             "endlinecolor": "#2a3f5f",
             "gridcolor": "white",
             "linecolor": "white",
             "minorgridcolor": "white",
             "startlinecolor": "#2a3f5f"
            },
            "type": "carpet"
           }
          ],
          "choropleth": [
           {
            "colorbar": {
             "outlinewidth": 0,
             "ticks": ""
            },
            "type": "choropleth"
           }
          ],
          "contour": [
           {
            "colorbar": {
             "outlinewidth": 0,
             "ticks": ""
            },
            "colorscale": [
             [
              0,
              "#0d0887"
             ],
             [
              0.1111111111111111,
              "#46039f"
             ],
             [
              0.2222222222222222,
              "#7201a8"
             ],
             [
              0.3333333333333333,
              "#9c179e"
             ],
             [
              0.4444444444444444,
              "#bd3786"
             ],
             [
              0.5555555555555556,
              "#d8576b"
             ],
             [
              0.6666666666666666,
              "#ed7953"
             ],
             [
              0.7777777777777778,
              "#fb9f3a"
             ],
             [
              0.8888888888888888,
              "#fdca26"
             ],
             [
              1,
              "#f0f921"
             ]
            ],
            "type": "contour"
           }
          ],
          "contourcarpet": [
           {
            "colorbar": {
             "outlinewidth": 0,
             "ticks": ""
            },
            "type": "contourcarpet"
           }
          ],
          "heatmap": [
           {
            "colorbar": {
             "outlinewidth": 0,
             "ticks": ""
            },
            "colorscale": [
             [
              0,
              "#0d0887"
             ],
             [
              0.1111111111111111,
              "#46039f"
             ],
             [
              0.2222222222222222,
              "#7201a8"
             ],
             [
              0.3333333333333333,
              "#9c179e"
             ],
             [
              0.4444444444444444,
              "#bd3786"
             ],
             [
              0.5555555555555556,
              "#d8576b"
             ],
             [
              0.6666666666666666,
              "#ed7953"
             ],
             [
              0.7777777777777778,
              "#fb9f3a"
             ],
             [
              0.8888888888888888,
              "#fdca26"
             ],
             [
              1,
              "#f0f921"
             ]
            ],
            "type": "heatmap"
           }
          ],
          "heatmapgl": [
           {
            "colorbar": {
             "outlinewidth": 0,
             "ticks": ""
            },
            "colorscale": [
             [
              0,
              "#0d0887"
             ],
             [
              0.1111111111111111,
              "#46039f"
             ],
             [
              0.2222222222222222,
              "#7201a8"
             ],
             [
              0.3333333333333333,
              "#9c179e"
             ],
             [
              0.4444444444444444,
              "#bd3786"
             ],
             [
              0.5555555555555556,
              "#d8576b"
             ],
             [
              0.6666666666666666,
              "#ed7953"
             ],
             [
              0.7777777777777778,
              "#fb9f3a"
             ],
             [
              0.8888888888888888,
              "#fdca26"
             ],
             [
              1,
              "#f0f921"
             ]
            ],
            "type": "heatmapgl"
           }
          ],
          "histogram": [
           {
            "marker": {
             "pattern": {
              "fillmode": "overlay",
              "size": 10,
              "solidity": 0.2
             }
            },
            "type": "histogram"
           }
          ],
          "histogram2d": [
           {
            "colorbar": {
             "outlinewidth": 0,
             "ticks": ""
            },
            "colorscale": [
             [
              0,
              "#0d0887"
             ],
             [
              0.1111111111111111,
              "#46039f"
             ],
             [
              0.2222222222222222,
              "#7201a8"
             ],
             [
              0.3333333333333333,
              "#9c179e"
             ],
             [
              0.4444444444444444,
              "#bd3786"
             ],
             [
              0.5555555555555556,
              "#d8576b"
             ],
             [
              0.6666666666666666,
              "#ed7953"
             ],
             [
              0.7777777777777778,
              "#fb9f3a"
             ],
             [
              0.8888888888888888,
              "#fdca26"
             ],
             [
              1,
              "#f0f921"
             ]
            ],
            "type": "histogram2d"
           }
          ],
          "histogram2dcontour": [
           {
            "colorbar": {
             "outlinewidth": 0,
             "ticks": ""
            },
            "colorscale": [
             [
              0,
              "#0d0887"
             ],
             [
              0.1111111111111111,
              "#46039f"
             ],
             [
              0.2222222222222222,
              "#7201a8"
             ],
             [
              0.3333333333333333,
              "#9c179e"
             ],
             [
              0.4444444444444444,
              "#bd3786"
             ],
             [
              0.5555555555555556,
              "#d8576b"
             ],
             [
              0.6666666666666666,
              "#ed7953"
             ],
             [
              0.7777777777777778,
              "#fb9f3a"
             ],
             [
              0.8888888888888888,
              "#fdca26"
             ],
             [
              1,
              "#f0f921"
             ]
            ],
            "type": "histogram2dcontour"
           }
          ],
          "mesh3d": [
           {
            "colorbar": {
             "outlinewidth": 0,
             "ticks": ""
            },
            "type": "mesh3d"
           }
          ],
          "parcoords": [
           {
            "line": {
             "colorbar": {
              "outlinewidth": 0,
              "ticks": ""
             }
            },
            "type": "parcoords"
           }
          ],
          "pie": [
           {
            "automargin": true,
            "type": "pie"
           }
          ],
          "scatter": [
           {
            "marker": {
             "colorbar": {
              "outlinewidth": 0,
              "ticks": ""
             }
            },
            "type": "scatter"
           }
          ],
          "scatter3d": [
           {
            "line": {
             "colorbar": {
              "outlinewidth": 0,
              "ticks": ""
             }
            },
            "marker": {
             "colorbar": {
              "outlinewidth": 0,
              "ticks": ""
             }
            },
            "type": "scatter3d"
           }
          ],
          "scattercarpet": [
           {
            "marker": {
             "colorbar": {
              "outlinewidth": 0,
              "ticks": ""
             }
            },
            "type": "scattercarpet"
           }
          ],
          "scattergeo": [
           {
            "marker": {
             "colorbar": {
              "outlinewidth": 0,
              "ticks": ""
             }
            },
            "type": "scattergeo"
           }
          ],
          "scattergl": [
           {
            "marker": {
             "colorbar": {
              "outlinewidth": 0,
              "ticks": ""
             }
            },
            "type": "scattergl"
           }
          ],
          "scattermapbox": [
           {
            "marker": {
             "colorbar": {
              "outlinewidth": 0,
              "ticks": ""
             }
            },
            "type": "scattermapbox"
           }
          ],
          "scatterpolar": [
           {
            "marker": {
             "colorbar": {
              "outlinewidth": 0,
              "ticks": ""
             }
            },
            "type": "scatterpolar"
           }
          ],
          "scatterpolargl": [
           {
            "marker": {
             "colorbar": {
              "outlinewidth": 0,
              "ticks": ""
             }
            },
            "type": "scatterpolargl"
           }
          ],
          "scatterternary": [
           {
            "marker": {
             "colorbar": {
              "outlinewidth": 0,
              "ticks": ""
             }
            },
            "type": "scatterternary"
           }
          ],
          "surface": [
           {
            "colorbar": {
             "outlinewidth": 0,
             "ticks": ""
            },
            "colorscale": [
             [
              0,
              "#0d0887"
             ],
             [
              0.1111111111111111,
              "#46039f"
             ],
             [
              0.2222222222222222,
              "#7201a8"
             ],
             [
              0.3333333333333333,
              "#9c179e"
             ],
             [
              0.4444444444444444,
              "#bd3786"
             ],
             [
              0.5555555555555556,
              "#d8576b"
             ],
             [
              0.6666666666666666,
              "#ed7953"
             ],
             [
              0.7777777777777778,
              "#fb9f3a"
             ],
             [
              0.8888888888888888,
              "#fdca26"
             ],
             [
              1,
              "#f0f921"
             ]
            ],
            "type": "surface"
           }
          ],
          "table": [
           {
            "cells": {
             "fill": {
              "color": "#EBF0F8"
             },
             "line": {
              "color": "white"
             }
            },
            "header": {
             "fill": {
              "color": "#C8D4E3"
             },
             "line": {
              "color": "white"
             }
            },
            "type": "table"
           }
          ]
         },
         "layout": {
          "annotationdefaults": {
           "arrowcolor": "#2a3f5f",
           "arrowhead": 0,
           "arrowwidth": 1
          },
          "autotypenumbers": "strict",
          "coloraxis": {
           "colorbar": {
            "outlinewidth": 0,
            "ticks": ""
           }
          },
          "colorscale": {
           "diverging": [
            [
             0,
             "#8e0152"
            ],
            [
             0.1,
             "#c51b7d"
            ],
            [
             0.2,
             "#de77ae"
            ],
            [
             0.3,
             "#f1b6da"
            ],
            [
             0.4,
             "#fde0ef"
            ],
            [
             0.5,
             "#f7f7f7"
            ],
            [
             0.6,
             "#e6f5d0"
            ],
            [
             0.7,
             "#b8e186"
            ],
            [
             0.8,
             "#7fbc41"
            ],
            [
             0.9,
             "#4d9221"
            ],
            [
             1,
             "#276419"
            ]
           ],
           "sequential": [
            [
             0,
             "#0d0887"
            ],
            [
             0.1111111111111111,
             "#46039f"
            ],
            [
             0.2222222222222222,
             "#7201a8"
            ],
            [
             0.3333333333333333,
             "#9c179e"
            ],
            [
             0.4444444444444444,
             "#bd3786"
            ],
            [
             0.5555555555555556,
             "#d8576b"
            ],
            [
             0.6666666666666666,
             "#ed7953"
            ],
            [
             0.7777777777777778,
             "#fb9f3a"
            ],
            [
             0.8888888888888888,
             "#fdca26"
            ],
            [
             1,
             "#f0f921"
            ]
           ],
           "sequentialminus": [
            [
             0,
             "#0d0887"
            ],
            [
             0.1111111111111111,
             "#46039f"
            ],
            [
             0.2222222222222222,
             "#7201a8"
            ],
            [
             0.3333333333333333,
             "#9c179e"
            ],
            [
             0.4444444444444444,
             "#bd3786"
            ],
            [
             0.5555555555555556,
             "#d8576b"
            ],
            [
             0.6666666666666666,
             "#ed7953"
            ],
            [
             0.7777777777777778,
             "#fb9f3a"
            ],
            [
             0.8888888888888888,
             "#fdca26"
            ],
            [
             1,
             "#f0f921"
            ]
           ]
          },
          "colorway": [
           "#636efa",
           "#EF553B",
           "#00cc96",
           "#ab63fa",
           "#FFA15A",
           "#19d3f3",
           "#FF6692",
           "#B6E880",
           "#FF97FF",
           "#FECB52"
          ],
          "font": {
           "color": "#2a3f5f"
          },
          "geo": {
           "bgcolor": "white",
           "lakecolor": "white",
           "landcolor": "#E5ECF6",
           "showlakes": true,
           "showland": true,
           "subunitcolor": "white"
          },
          "hoverlabel": {
           "align": "left"
          },
          "hovermode": "closest",
          "mapbox": {
           "style": "light"
          },
          "paper_bgcolor": "white",
          "plot_bgcolor": "#E5ECF6",
          "polar": {
           "angularaxis": {
            "gridcolor": "white",
            "linecolor": "white",
            "ticks": ""
           },
           "bgcolor": "#E5ECF6",
           "radialaxis": {
            "gridcolor": "white",
            "linecolor": "white",
            "ticks": ""
           }
          },
          "scene": {
           "xaxis": {
            "backgroundcolor": "#E5ECF6",
            "gridcolor": "white",
            "gridwidth": 2,
            "linecolor": "white",
            "showbackground": true,
            "ticks": "",
            "zerolinecolor": "white"
           },
           "yaxis": {
            "backgroundcolor": "#E5ECF6",
            "gridcolor": "white",
            "gridwidth": 2,
            "linecolor": "white",
            "showbackground": true,
            "ticks": "",
            "zerolinecolor": "white"
           },
           "zaxis": {
            "backgroundcolor": "#E5ECF6",
            "gridcolor": "white",
            "gridwidth": 2,
            "linecolor": "white",
            "showbackground": true,
            "ticks": "",
            "zerolinecolor": "white"
           }
          },
          "shapedefaults": {
           "line": {
            "color": "#2a3f5f"
           }
          },
          "ternary": {
           "aaxis": {
            "gridcolor": "white",
            "linecolor": "white",
            "ticks": ""
           },
           "baxis": {
            "gridcolor": "white",
            "linecolor": "white",
            "ticks": ""
           },
           "bgcolor": "#E5ECF6",
           "caxis": {
            "gridcolor": "white",
            "linecolor": "white",
            "ticks": ""
           }
          },
          "title": {
           "x": 0.05
          },
          "xaxis": {
           "automargin": true,
           "gridcolor": "white",
           "linecolor": "white",
           "ticks": "",
           "title": {
            "standoff": 15
           },
           "zerolinecolor": "white",
           "zerolinewidth": 2
          },
          "yaxis": {
           "automargin": true,
           "gridcolor": "white",
           "linecolor": "white",
           "ticks": "",
           "title": {
            "standoff": 15
           },
           "zerolinecolor": "white",
           "zerolinewidth": 2
          }
         }
        },
        "title": {
         "text": "Top 5 Avg Score Majors in UB 2019"
        },
        "xaxis": {
         "anchor": "y",
         "domain": [
          0,
          1
         ],
         "title": {
          "text": "Avg Scores"
         }
        },
        "yaxis": {
         "anchor": "x",
         "categoryorder": "total ascending",
         "domain": [
          0,
          1
         ],
         "title": {
          "text": "Majors"
         }
        }
       }
      }
     },
     "metadata": {},
     "output_type": "display_data"
    }
   ],
   "source": [
    "fig = px.bar(data_frame=df_univ_braw_clear.groupby('first_major').mean().sort_values('average_score',ascending=False).head(5).reset_index(),x=['average_score','specialized_score','general_score'],y='first_major',text_auto=True,barmode='group',height=500)\n",
    "\n",
    "fig.update_layout(showlegend=True,title='Top 5 Avg Score Majors in UB 2019',xaxis_title='Avg Scores',yaxis_title='Majors',bargap=0.15,\n",
    "bargroupgap=0.1,yaxis={'categoryorder':'total ascending'})\n",
    "fig.show()"
   ]
  },
  {
   "cell_type": "markdown",
   "metadata": {},
   "source": [
    "![Top 5 Avg Score Majors in UB 2019](/photos/Top%205%20Avg%20Score%20Majors%20in%20UB%202019.png)"
   ]
  },
  {
   "cell_type": "code",
   "execution_count": 34,
   "metadata": {},
   "outputs": [
    {
     "data": {
      "text/html": [
       "<div>\n",
       "<style scoped>\n",
       "    .dataframe tbody tr th:only-of-type {\n",
       "        vertical-align: middle;\n",
       "    }\n",
       "\n",
       "    .dataframe tbody tr th {\n",
       "        vertical-align: top;\n",
       "    }\n",
       "\n",
       "    .dataframe thead th {\n",
       "        text-align: right;\n",
       "    }\n",
       "</style>\n",
       "<table border=\"1\" class=\"dataframe\">\n",
       "  <thead>\n",
       "    <tr style=\"text-align: right;\">\n",
       "      <th></th>\n",
       "      <th>general_score</th>\n",
       "      <th>specialized_score</th>\n",
       "      <th>average_score</th>\n",
       "      <th>first_major</th>\n",
       "    </tr>\n",
       "  </thead>\n",
       "  <tbody>\n",
       "    <tr>\n",
       "      <th>652</th>\n",
       "      <td>657.25</td>\n",
       "      <td>810.25</td>\n",
       "      <td>733.750</td>\n",
       "      <td>PENDIDIKAN DOKTER</td>\n",
       "    </tr>\n",
       "    <tr>\n",
       "      <th>653</th>\n",
       "      <td>714.00</td>\n",
       "      <td>728.00</td>\n",
       "      <td>721.000</td>\n",
       "      <td>PENDIDIKAN DOKTER</td>\n",
       "    </tr>\n",
       "    <tr>\n",
       "      <th>654</th>\n",
       "      <td>657.75</td>\n",
       "      <td>782.25</td>\n",
       "      <td>720.000</td>\n",
       "      <td>PENDIDIKAN DOKTER</td>\n",
       "    </tr>\n",
       "    <tr>\n",
       "      <th>655</th>\n",
       "      <td>726.25</td>\n",
       "      <td>709.00</td>\n",
       "      <td>717.625</td>\n",
       "      <td>PENDIDIKAN DOKTER</td>\n",
       "    </tr>\n",
       "    <tr>\n",
       "      <th>656</th>\n",
       "      <td>677.00</td>\n",
       "      <td>757.75</td>\n",
       "      <td>717.375</td>\n",
       "      <td>PENDIDIKAN DOKTER</td>\n",
       "    </tr>\n",
       "  </tbody>\n",
       "</table>\n",
       "</div>"
      ],
      "text/plain": [
       "     general_score  specialized_score  average_score        first_major\n",
       "652         657.25             810.25        733.750  PENDIDIKAN DOKTER\n",
       "653         714.00             728.00        721.000  PENDIDIKAN DOKTER\n",
       "654         657.75             782.25        720.000  PENDIDIKAN DOKTER\n",
       "655         726.25             709.00        717.625  PENDIDIKAN DOKTER\n",
       "656         677.00             757.75        717.375  PENDIDIKAN DOKTER"
      ]
     },
     "execution_count": 34,
     "metadata": {},
     "output_type": "execute_result"
    }
   ],
   "source": [
    "df_univ_braw_dokter = df_univ_braw_clear.loc[df_univ_braw_clear['first_major']=='PENDIDIKAN DOKTER'].sort_values(by=['average_score','specialized_score','general_score'],ascending=False).head(40)\n",
    "df_univ_braw_dokter.head()"
   ]
  },
  {
   "cell_type": "code",
   "execution_count": 35,
   "metadata": {},
   "outputs": [
    {
     "data": {
      "application/vnd.plotly.v1+json": {
       "config": {
        "plotlyServerURL": "https://plot.ly"
       },
       "data": [
        {
         "name": "Highest Score",
         "text": [
          733.75,
          721,
          720,
          717.625,
          717.375
         ],
         "type": "bar",
         "xaxis": "x",
         "y": [
          733.75,
          721,
          720,
          717.625,
          717.375
         ],
         "yaxis": "y"
        },
        {
         "name": "Lowest Score",
         "text": [
          680,
          678.875,
          678.75,
          678.375,
          677.25
         ],
         "type": "bar",
         "xaxis": "x2",
         "y": [
          680,
          678.875,
          678.75,
          678.375,
          677.25
         ],
         "yaxis": "y2"
        }
       ],
       "layout": {
        "annotations": [
         {
          "font": {
           "size": 16
          },
          "showarrow": false,
          "text": "Highest Scores",
          "x": 0.225,
          "xanchor": "center",
          "xref": "paper",
          "y": 1,
          "yanchor": "bottom",
          "yref": "paper"
         },
         {
          "font": {
           "size": 16
          },
          "showarrow": false,
          "text": "Lowest Scores",
          "x": 0.775,
          "xanchor": "center",
          "xref": "paper",
          "y": 1,
          "yanchor": "bottom",
          "yref": "paper"
         }
        ],
        "showlegend": false,
        "template": {
         "data": {
          "bar": [
           {
            "error_x": {
             "color": "#2a3f5f"
            },
            "error_y": {
             "color": "#2a3f5f"
            },
            "marker": {
             "line": {
              "color": "#E5ECF6",
              "width": 0.5
             },
             "pattern": {
              "fillmode": "overlay",
              "size": 10,
              "solidity": 0.2
             }
            },
            "type": "bar"
           }
          ],
          "barpolar": [
           {
            "marker": {
             "line": {
              "color": "#E5ECF6",
              "width": 0.5
             },
             "pattern": {
              "fillmode": "overlay",
              "size": 10,
              "solidity": 0.2
             }
            },
            "type": "barpolar"
           }
          ],
          "carpet": [
           {
            "aaxis": {
             "endlinecolor": "#2a3f5f",
             "gridcolor": "white",
             "linecolor": "white",
             "minorgridcolor": "white",
             "startlinecolor": "#2a3f5f"
            },
            "baxis": {
             "endlinecolor": "#2a3f5f",
             "gridcolor": "white",
             "linecolor": "white",
             "minorgridcolor": "white",
             "startlinecolor": "#2a3f5f"
            },
            "type": "carpet"
           }
          ],
          "choropleth": [
           {
            "colorbar": {
             "outlinewidth": 0,
             "ticks": ""
            },
            "type": "choropleth"
           }
          ],
          "contour": [
           {
            "colorbar": {
             "outlinewidth": 0,
             "ticks": ""
            },
            "colorscale": [
             [
              0,
              "#0d0887"
             ],
             [
              0.1111111111111111,
              "#46039f"
             ],
             [
              0.2222222222222222,
              "#7201a8"
             ],
             [
              0.3333333333333333,
              "#9c179e"
             ],
             [
              0.4444444444444444,
              "#bd3786"
             ],
             [
              0.5555555555555556,
              "#d8576b"
             ],
             [
              0.6666666666666666,
              "#ed7953"
             ],
             [
              0.7777777777777778,
              "#fb9f3a"
             ],
             [
              0.8888888888888888,
              "#fdca26"
             ],
             [
              1,
              "#f0f921"
             ]
            ],
            "type": "contour"
           }
          ],
          "contourcarpet": [
           {
            "colorbar": {
             "outlinewidth": 0,
             "ticks": ""
            },
            "type": "contourcarpet"
           }
          ],
          "heatmap": [
           {
            "colorbar": {
             "outlinewidth": 0,
             "ticks": ""
            },
            "colorscale": [
             [
              0,
              "#0d0887"
             ],
             [
              0.1111111111111111,
              "#46039f"
             ],
             [
              0.2222222222222222,
              "#7201a8"
             ],
             [
              0.3333333333333333,
              "#9c179e"
             ],
             [
              0.4444444444444444,
              "#bd3786"
             ],
             [
              0.5555555555555556,
              "#d8576b"
             ],
             [
              0.6666666666666666,
              "#ed7953"
             ],
             [
              0.7777777777777778,
              "#fb9f3a"
             ],
             [
              0.8888888888888888,
              "#fdca26"
             ],
             [
              1,
              "#f0f921"
             ]
            ],
            "type": "heatmap"
           }
          ],
          "heatmapgl": [
           {
            "colorbar": {
             "outlinewidth": 0,
             "ticks": ""
            },
            "colorscale": [
             [
              0,
              "#0d0887"
             ],
             [
              0.1111111111111111,
              "#46039f"
             ],
             [
              0.2222222222222222,
              "#7201a8"
             ],
             [
              0.3333333333333333,
              "#9c179e"
             ],
             [
              0.4444444444444444,
              "#bd3786"
             ],
             [
              0.5555555555555556,
              "#d8576b"
             ],
             [
              0.6666666666666666,
              "#ed7953"
             ],
             [
              0.7777777777777778,
              "#fb9f3a"
             ],
             [
              0.8888888888888888,
              "#fdca26"
             ],
             [
              1,
              "#f0f921"
             ]
            ],
            "type": "heatmapgl"
           }
          ],
          "histogram": [
           {
            "marker": {
             "pattern": {
              "fillmode": "overlay",
              "size": 10,
              "solidity": 0.2
             }
            },
            "type": "histogram"
           }
          ],
          "histogram2d": [
           {
            "colorbar": {
             "outlinewidth": 0,
             "ticks": ""
            },
            "colorscale": [
             [
              0,
              "#0d0887"
             ],
             [
              0.1111111111111111,
              "#46039f"
             ],
             [
              0.2222222222222222,
              "#7201a8"
             ],
             [
              0.3333333333333333,
              "#9c179e"
             ],
             [
              0.4444444444444444,
              "#bd3786"
             ],
             [
              0.5555555555555556,
              "#d8576b"
             ],
             [
              0.6666666666666666,
              "#ed7953"
             ],
             [
              0.7777777777777778,
              "#fb9f3a"
             ],
             [
              0.8888888888888888,
              "#fdca26"
             ],
             [
              1,
              "#f0f921"
             ]
            ],
            "type": "histogram2d"
           }
          ],
          "histogram2dcontour": [
           {
            "colorbar": {
             "outlinewidth": 0,
             "ticks": ""
            },
            "colorscale": [
             [
              0,
              "#0d0887"
             ],
             [
              0.1111111111111111,
              "#46039f"
             ],
             [
              0.2222222222222222,
              "#7201a8"
             ],
             [
              0.3333333333333333,
              "#9c179e"
             ],
             [
              0.4444444444444444,
              "#bd3786"
             ],
             [
              0.5555555555555556,
              "#d8576b"
             ],
             [
              0.6666666666666666,
              "#ed7953"
             ],
             [
              0.7777777777777778,
              "#fb9f3a"
             ],
             [
              0.8888888888888888,
              "#fdca26"
             ],
             [
              1,
              "#f0f921"
             ]
            ],
            "type": "histogram2dcontour"
           }
          ],
          "mesh3d": [
           {
            "colorbar": {
             "outlinewidth": 0,
             "ticks": ""
            },
            "type": "mesh3d"
           }
          ],
          "parcoords": [
           {
            "line": {
             "colorbar": {
              "outlinewidth": 0,
              "ticks": ""
             }
            },
            "type": "parcoords"
           }
          ],
          "pie": [
           {
            "automargin": true,
            "type": "pie"
           }
          ],
          "scatter": [
           {
            "marker": {
             "colorbar": {
              "outlinewidth": 0,
              "ticks": ""
             }
            },
            "type": "scatter"
           }
          ],
          "scatter3d": [
           {
            "line": {
             "colorbar": {
              "outlinewidth": 0,
              "ticks": ""
             }
            },
            "marker": {
             "colorbar": {
              "outlinewidth": 0,
              "ticks": ""
             }
            },
            "type": "scatter3d"
           }
          ],
          "scattercarpet": [
           {
            "marker": {
             "colorbar": {
              "outlinewidth": 0,
              "ticks": ""
             }
            },
            "type": "scattercarpet"
           }
          ],
          "scattergeo": [
           {
            "marker": {
             "colorbar": {
              "outlinewidth": 0,
              "ticks": ""
             }
            },
            "type": "scattergeo"
           }
          ],
          "scattergl": [
           {
            "marker": {
             "colorbar": {
              "outlinewidth": 0,
              "ticks": ""
             }
            },
            "type": "scattergl"
           }
          ],
          "scattermapbox": [
           {
            "marker": {
             "colorbar": {
              "outlinewidth": 0,
              "ticks": ""
             }
            },
            "type": "scattermapbox"
           }
          ],
          "scatterpolar": [
           {
            "marker": {
             "colorbar": {
              "outlinewidth": 0,
              "ticks": ""
             }
            },
            "type": "scatterpolar"
           }
          ],
          "scatterpolargl": [
           {
            "marker": {
             "colorbar": {
              "outlinewidth": 0,
              "ticks": ""
             }
            },
            "type": "scatterpolargl"
           }
          ],
          "scatterternary": [
           {
            "marker": {
             "colorbar": {
              "outlinewidth": 0,
              "ticks": ""
             }
            },
            "type": "scatterternary"
           }
          ],
          "surface": [
           {
            "colorbar": {
             "outlinewidth": 0,
             "ticks": ""
            },
            "colorscale": [
             [
              0,
              "#0d0887"
             ],
             [
              0.1111111111111111,
              "#46039f"
             ],
             [
              0.2222222222222222,
              "#7201a8"
             ],
             [
              0.3333333333333333,
              "#9c179e"
             ],
             [
              0.4444444444444444,
              "#bd3786"
             ],
             [
              0.5555555555555556,
              "#d8576b"
             ],
             [
              0.6666666666666666,
              "#ed7953"
             ],
             [
              0.7777777777777778,
              "#fb9f3a"
             ],
             [
              0.8888888888888888,
              "#fdca26"
             ],
             [
              1,
              "#f0f921"
             ]
            ],
            "type": "surface"
           }
          ],
          "table": [
           {
            "cells": {
             "fill": {
              "color": "#EBF0F8"
             },
             "line": {
              "color": "white"
             }
            },
            "header": {
             "fill": {
              "color": "#C8D4E3"
             },
             "line": {
              "color": "white"
             }
            },
            "type": "table"
           }
          ]
         },
         "layout": {
          "annotationdefaults": {
           "arrowcolor": "#2a3f5f",
           "arrowhead": 0,
           "arrowwidth": 1
          },
          "autotypenumbers": "strict",
          "coloraxis": {
           "colorbar": {
            "outlinewidth": 0,
            "ticks": ""
           }
          },
          "colorscale": {
           "diverging": [
            [
             0,
             "#8e0152"
            ],
            [
             0.1,
             "#c51b7d"
            ],
            [
             0.2,
             "#de77ae"
            ],
            [
             0.3,
             "#f1b6da"
            ],
            [
             0.4,
             "#fde0ef"
            ],
            [
             0.5,
             "#f7f7f7"
            ],
            [
             0.6,
             "#e6f5d0"
            ],
            [
             0.7,
             "#b8e186"
            ],
            [
             0.8,
             "#7fbc41"
            ],
            [
             0.9,
             "#4d9221"
            ],
            [
             1,
             "#276419"
            ]
           ],
           "sequential": [
            [
             0,
             "#0d0887"
            ],
            [
             0.1111111111111111,
             "#46039f"
            ],
            [
             0.2222222222222222,
             "#7201a8"
            ],
            [
             0.3333333333333333,
             "#9c179e"
            ],
            [
             0.4444444444444444,
             "#bd3786"
            ],
            [
             0.5555555555555556,
             "#d8576b"
            ],
            [
             0.6666666666666666,
             "#ed7953"
            ],
            [
             0.7777777777777778,
             "#fb9f3a"
            ],
            [
             0.8888888888888888,
             "#fdca26"
            ],
            [
             1,
             "#f0f921"
            ]
           ],
           "sequentialminus": [
            [
             0,
             "#0d0887"
            ],
            [
             0.1111111111111111,
             "#46039f"
            ],
            [
             0.2222222222222222,
             "#7201a8"
            ],
            [
             0.3333333333333333,
             "#9c179e"
            ],
            [
             0.4444444444444444,
             "#bd3786"
            ],
            [
             0.5555555555555556,
             "#d8576b"
            ],
            [
             0.6666666666666666,
             "#ed7953"
            ],
            [
             0.7777777777777778,
             "#fb9f3a"
            ],
            [
             0.8888888888888888,
             "#fdca26"
            ],
            [
             1,
             "#f0f921"
            ]
           ]
          },
          "colorway": [
           "#636efa",
           "#EF553B",
           "#00cc96",
           "#ab63fa",
           "#FFA15A",
           "#19d3f3",
           "#FF6692",
           "#B6E880",
           "#FF97FF",
           "#FECB52"
          ],
          "font": {
           "color": "#2a3f5f"
          },
          "geo": {
           "bgcolor": "white",
           "lakecolor": "white",
           "landcolor": "#E5ECF6",
           "showlakes": true,
           "showland": true,
           "subunitcolor": "white"
          },
          "hoverlabel": {
           "align": "left"
          },
          "hovermode": "closest",
          "mapbox": {
           "style": "light"
          },
          "paper_bgcolor": "white",
          "plot_bgcolor": "#E5ECF6",
          "polar": {
           "angularaxis": {
            "gridcolor": "white",
            "linecolor": "white",
            "ticks": ""
           },
           "bgcolor": "#E5ECF6",
           "radialaxis": {
            "gridcolor": "white",
            "linecolor": "white",
            "ticks": ""
           }
          },
          "scene": {
           "xaxis": {
            "backgroundcolor": "#E5ECF6",
            "gridcolor": "white",
            "gridwidth": 2,
            "linecolor": "white",
            "showbackground": true,
            "ticks": "",
            "zerolinecolor": "white"
           },
           "yaxis": {
            "backgroundcolor": "#E5ECF6",
            "gridcolor": "white",
            "gridwidth": 2,
            "linecolor": "white",
            "showbackground": true,
            "ticks": "",
            "zerolinecolor": "white"
           },
           "zaxis": {
            "backgroundcolor": "#E5ECF6",
            "gridcolor": "white",
            "gridwidth": 2,
            "linecolor": "white",
            "showbackground": true,
            "ticks": "",
            "zerolinecolor": "white"
           }
          },
          "shapedefaults": {
           "line": {
            "color": "#2a3f5f"
           }
          },
          "ternary": {
           "aaxis": {
            "gridcolor": "white",
            "linecolor": "white",
            "ticks": ""
           },
           "baxis": {
            "gridcolor": "white",
            "linecolor": "white",
            "ticks": ""
           },
           "bgcolor": "#E5ECF6",
           "caxis": {
            "gridcolor": "white",
            "linecolor": "white",
            "ticks": ""
           }
          },
          "title": {
           "x": 0.05
          },
          "xaxis": {
           "automargin": true,
           "gridcolor": "white",
           "linecolor": "white",
           "ticks": "",
           "title": {
            "standoff": 15
           },
           "zerolinecolor": "white",
           "zerolinewidth": 2
          },
          "yaxis": {
           "automargin": true,
           "gridcolor": "white",
           "linecolor": "white",
           "ticks": "",
           "title": {
            "standoff": 15
           },
           "zerolinecolor": "white",
           "zerolinewidth": 2
          }
         }
        },
        "title": {
         "text": "Medical School UB Avg Scores 2019"
        },
        "xaxis": {
         "anchor": "y",
         "domain": [
          0,
          0.45
         ]
        },
        "xaxis2": {
         "anchor": "y2",
         "domain": [
          0.55,
          1
         ]
        },
        "yaxis": {
         "anchor": "x",
         "domain": [
          0,
          1
         ]
        },
        "yaxis2": {
         "anchor": "x2",
         "domain": [
          0,
          1
         ],
         "matches": "y",
         "showticklabels": false
        }
       }
      }
     },
     "metadata": {},
     "output_type": "display_data"
    }
   ],
   "source": [
    "\n",
    "\n",
    "fig = make_subplots(rows=1, cols=2, shared_yaxes=True,subplot_titles=('Highest Scores','Lowest Scores'))\n",
    "\n",
    "fig.add_trace(\n",
    "    go.Bar(y=df_univ_braw_dokter.loc[:,'average_score',].iloc[:5],name='Highest Score',text=df_univ_braw_dokter.loc[:,'average_score'].iloc[:5]),\n",
    "    row=1, col=1\n",
    ")\n",
    "\n",
    "fig.add_trace(\n",
    "    go.Bar(y=df_univ_braw_dokter.loc[:,'average_score'].iloc[-5:],name='Lowest Score',text=df_univ_braw_dokter.loc[:,'average_score'].iloc[-5:]),\n",
    "    row=1, col=2,\n",
    ")\n",
    "fig.update_layout(title_text='Medical School UB Avg Scores 2019',showlegend=False,)\n",
    "# fig.update_xaxes(tickangle=0, tickfont=dict(family='Rockwell', color='black', size=14))"
   ]
  },
  {
   "cell_type": "markdown",
   "metadata": {},
   "source": [
    "![Medical School UB Avg Scores 2019](/photos/Medical%20School%20UB%20Avg%20Scores%202019.png)"
   ]
  }
 ],
 "metadata": {
  "interpreter": {
   "hash": "fadd12deb669ed8a1e500b85b650f6b7c52912287fdd991d1d178b5f322ba022"
  },
  "kernelspec": {
   "display_name": "Python 3.9.7 ('base')",
   "language": "python",
   "name": "python3"
  },
  "language_info": {
   "codemirror_mode": {
    "name": "ipython",
    "version": 3
   },
   "file_extension": ".py",
   "mimetype": "text/x-python",
   "name": "python",
   "nbconvert_exporter": "python",
   "pygments_lexer": "ipython3",
   "version": "3.9.7"
  },
  "orig_nbformat": 4
 },
 "nbformat": 4,
 "nbformat_minor": 2
}
