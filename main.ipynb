{
 "cells": [
  {
   "cell_type": "markdown",
   "metadata": {},
   "source": [
    "Import relevant Libraries"
   ]
  },
  {
   "cell_type": "code",
   "execution_count": 1,
   "metadata": {},
   "outputs": [],
   "source": [
    "import pandas as pd\n",
    "import seaborn as sns\n",
    "import plotly.express as px\n",
    "sns.set_style('whitegrid')"
   ]
  },
  {
   "cell_type": "markdown",
   "metadata": {},
   "source": [
    "Read all files"
   ]
  },
  {
   "cell_type": "code",
   "execution_count": 2,
   "metadata": {},
   "outputs": [
    {
     "name": "stdout",
     "output_type": "stream",
     "text": [
      "Unnamed: 0       0\n",
      "id_major         0\n",
      "id_university    0\n",
      "type             0\n",
      "major_name       0\n",
      "capacity         0\n",
      "dtype: int64\n"
     ]
    },
    {
     "data": {
      "text/html": [
       "<div>\n",
       "<style scoped>\n",
       "    .dataframe tbody tr th:only-of-type {\n",
       "        vertical-align: middle;\n",
       "    }\n",
       "\n",
       "    .dataframe tbody tr th {\n",
       "        vertical-align: top;\n",
       "    }\n",
       "\n",
       "    .dataframe thead th {\n",
       "        text-align: right;\n",
       "    }\n",
       "</style>\n",
       "<table border=\"1\" class=\"dataframe\">\n",
       "  <thead>\n",
       "    <tr style=\"text-align: right;\">\n",
       "      <th></th>\n",
       "      <th>Unnamed: 0</th>\n",
       "      <th>id_major</th>\n",
       "      <th>id_university</th>\n",
       "      <th>type</th>\n",
       "      <th>major_name</th>\n",
       "      <th>capacity</th>\n",
       "    </tr>\n",
       "  </thead>\n",
       "  <tbody>\n",
       "    <tr>\n",
       "      <th>1014</th>\n",
       "      <td>1014</td>\n",
       "      <td>3821113</td>\n",
       "      <td>382</td>\n",
       "      <td>science</td>\n",
       "      <td>TEKNIK MATERIAL</td>\n",
       "      <td>64</td>\n",
       "    </tr>\n",
       "    <tr>\n",
       "      <th>1564</th>\n",
       "      <td>1564</td>\n",
       "      <td>7521187</td>\n",
       "      <td>752</td>\n",
       "      <td>science</td>\n",
       "      <td>TEKNIK SIPIL</td>\n",
       "      <td>40</td>\n",
       "    </tr>\n",
       "    <tr>\n",
       "      <th>413</th>\n",
       "      <td>413</td>\n",
       "      <td>1921242</td>\n",
       "      <td>192</td>\n",
       "      <td>science</td>\n",
       "      <td>TEKNIK SISTEM ENERGI</td>\n",
       "      <td>59</td>\n",
       "    </tr>\n",
       "    <tr>\n",
       "      <th>2270</th>\n",
       "      <td>2270</td>\n",
       "      <td>3512045</td>\n",
       "      <td>351</td>\n",
       "      <td>humanities</td>\n",
       "      <td>MANAJEMEN</td>\n",
       "      <td>60</td>\n",
       "    </tr>\n",
       "    <tr>\n",
       "      <th>2318</th>\n",
       "      <td>2318</td>\n",
       "      <td>3532301</td>\n",
       "      <td>353</td>\n",
       "      <td>humanities</td>\n",
       "      <td>SASTRA ARAB</td>\n",
       "      <td>28</td>\n",
       "    </tr>\n",
       "  </tbody>\n",
       "</table>\n",
       "</div>"
      ],
      "text/plain": [
       "      Unnamed: 0  id_major  id_university        type            major_name  \\\n",
       "1014        1014   3821113            382     science       TEKNIK MATERIAL   \n",
       "1564        1564   7521187            752     science          TEKNIK SIPIL   \n",
       "413          413   1921242            192     science  TEKNIK SISTEM ENERGI   \n",
       "2270        2270   3512045            351  humanities             MANAJEMEN   \n",
       "2318        2318   3532301            353  humanities           SASTRA ARAB   \n",
       "\n",
       "      capacity  \n",
       "1014        64  \n",
       "1564        40  \n",
       "413         59  \n",
       "2270        60  \n",
       "2318        28  "
      ]
     },
     "execution_count": 2,
     "metadata": {},
     "output_type": "execute_result"
    }
   ],
   "source": [
    "# Major file, inside here we have id_major\tid_university\ttype\tmajor_name\tcapacity columns\n",
    "majors = pd.read_csv('majors.csv')\n",
    "print(majors.isna().sum()) #check for some null \n",
    "majors.sample(5)"
   ]
  },
  {
   "cell_type": "code",
   "execution_count": 3,
   "metadata": {},
   "outputs": [
    {
     "name": "stdout",
     "output_type": "stream",
     "text": [
      "Unnamed: 0         0\n",
      "id_university      0\n",
      "university_name    0\n",
      "dtype: int64\n"
     ]
    },
    {
     "data": {
      "text/html": [
       "<div>\n",
       "<style scoped>\n",
       "    .dataframe tbody tr th:only-of-type {\n",
       "        vertical-align: middle;\n",
       "    }\n",
       "\n",
       "    .dataframe tbody tr th {\n",
       "        vertical-align: top;\n",
       "    }\n",
       "\n",
       "    .dataframe thead th {\n",
       "        text-align: right;\n",
       "    }\n",
       "</style>\n",
       "<table border=\"1\" class=\"dataframe\">\n",
       "  <thead>\n",
       "    <tr style=\"text-align: right;\">\n",
       "      <th></th>\n",
       "      <th>Unnamed: 0</th>\n",
       "      <th>id_university</th>\n",
       "      <th>university_name</th>\n",
       "    </tr>\n",
       "  </thead>\n",
       "  <tbody>\n",
       "    <tr>\n",
       "      <th>68</th>\n",
       "      <td>68</td>\n",
       "      <td>632</td>\n",
       "      <td>UNIVERSITAS TIMOR</td>\n",
       "    </tr>\n",
       "    <tr>\n",
       "      <th>18</th>\n",
       "      <td>18</td>\n",
       "      <td>172</td>\n",
       "      <td>UNIVERSITAS ISLAM NEGERI RADEN FATAH</td>\n",
       "    </tr>\n",
       "    <tr>\n",
       "      <th>26</th>\n",
       "      <td>26</td>\n",
       "      <td>324</td>\n",
       "      <td>UPN \"VETERAN\" JAKARTA</td>\n",
       "    </tr>\n",
       "    <tr>\n",
       "      <th>71</th>\n",
       "      <td>71</td>\n",
       "      <td>713</td>\n",
       "      <td>UNIVERSITAS ISLAM NEGERI ALAUDDIN</td>\n",
       "    </tr>\n",
       "    <tr>\n",
       "      <th>83</th>\n",
       "      <td>83</td>\n",
       "      <td>913</td>\n",
       "      <td>ISBI TANAH PAPUA</td>\n",
       "    </tr>\n",
       "  </tbody>\n",
       "</table>\n",
       "</div>"
      ],
      "text/plain": [
       "    Unnamed: 0  id_university                       university_name\n",
       "68          68            632                     UNIVERSITAS TIMOR\n",
       "18          18            172  UNIVERSITAS ISLAM NEGERI RADEN FATAH\n",
       "26          26            324                 UPN \"VETERAN\" JAKARTA\n",
       "71          71            713     UNIVERSITAS ISLAM NEGERI ALAUDDIN\n",
       "83          83            913                      ISBI TANAH PAPUA"
      ]
     },
     "execution_count": 3,
     "metadata": {},
     "output_type": "execute_result"
    }
   ],
   "source": [
    "# we have id_university and the name of the university \n",
    "universities = pd.read_csv('universities.csv')\n",
    "print(universities.isna().sum()) #check some null \n",
    "universities.sample(5)"
   ]
  },
  {
   "cell_type": "code",
   "execution_count": 4,
   "metadata": {},
   "outputs": [
    {
     "name": "stdout",
     "output_type": "stream",
     "text": [
      "Unnamed: 0              0\n",
      "id_first_major          0\n",
      "id_first_university     0\n",
      "id_second_major         0\n",
      "id_second_university    0\n",
      "id_user                 0\n",
      "score_eko               0\n",
      "score_geo               0\n",
      "score_kmb               0\n",
      "score_kpu               0\n",
      "score_kua               0\n",
      "score_mat               0\n",
      "score_ppu               0\n",
      "score_sej               0\n",
      "score_sos               0\n",
      "dtype: int64\n"
     ]
    },
    {
     "data": {
      "text/html": [
       "<div>\n",
       "<style scoped>\n",
       "    .dataframe tbody tr th:only-of-type {\n",
       "        vertical-align: middle;\n",
       "    }\n",
       "\n",
       "    .dataframe tbody tr th {\n",
       "        vertical-align: top;\n",
       "    }\n",
       "\n",
       "    .dataframe thead th {\n",
       "        text-align: right;\n",
       "    }\n",
       "</style>\n",
       "<table border=\"1\" class=\"dataframe\">\n",
       "  <thead>\n",
       "    <tr style=\"text-align: right;\">\n",
       "      <th></th>\n",
       "      <th>Unnamed: 0</th>\n",
       "      <th>id_first_major</th>\n",
       "      <th>id_first_university</th>\n",
       "      <th>id_second_major</th>\n",
       "      <th>id_second_university</th>\n",
       "      <th>id_user</th>\n",
       "      <th>score_eko</th>\n",
       "      <th>score_geo</th>\n",
       "      <th>score_kmb</th>\n",
       "      <th>score_kpu</th>\n",
       "      <th>score_kua</th>\n",
       "      <th>score_mat</th>\n",
       "      <th>score_ppu</th>\n",
       "      <th>score_sej</th>\n",
       "      <th>score_sos</th>\n",
       "    </tr>\n",
       "  </thead>\n",
       "  <tbody>\n",
       "    <tr>\n",
       "      <th>54129</th>\n",
       "      <td>54129</td>\n",
       "      <td>3342243</td>\n",
       "      <td>334</td>\n",
       "      <td>3342556</td>\n",
       "      <td>334</td>\n",
       "      <td>298881</td>\n",
       "      <td>484</td>\n",
       "      <td>554</td>\n",
       "      <td>615</td>\n",
       "      <td>382</td>\n",
       "      <td>396</td>\n",
       "      <td>560</td>\n",
       "      <td>538</td>\n",
       "      <td>324</td>\n",
       "      <td>499</td>\n",
       "    </tr>\n",
       "    <tr>\n",
       "      <th>60332</th>\n",
       "      <td>60332</td>\n",
       "      <td>7112033</td>\n",
       "      <td>711</td>\n",
       "      <td>7212115</td>\n",
       "      <td>721</td>\n",
       "      <td>324587</td>\n",
       "      <td>691</td>\n",
       "      <td>623</td>\n",
       "      <td>628</td>\n",
       "      <td>604</td>\n",
       "      <td>529</td>\n",
       "      <td>452</td>\n",
       "      <td>507</td>\n",
       "      <td>561</td>\n",
       "      <td>489</td>\n",
       "    </tr>\n",
       "    <tr>\n",
       "      <th>30346</th>\n",
       "      <td>30346</td>\n",
       "      <td>3522055</td>\n",
       "      <td>352</td>\n",
       "      <td>3742093</td>\n",
       "      <td>374</td>\n",
       "      <td>197388</td>\n",
       "      <td>683</td>\n",
       "      <td>627</td>\n",
       "      <td>492</td>\n",
       "      <td>316</td>\n",
       "      <td>519</td>\n",
       "      <td>622</td>\n",
       "      <td>328</td>\n",
       "      <td>628</td>\n",
       "      <td>567</td>\n",
       "    </tr>\n",
       "    <tr>\n",
       "      <th>47911</th>\n",
       "      <td>47911</td>\n",
       "      <td>3632012</td>\n",
       "      <td>363</td>\n",
       "      <td>3622242</td>\n",
       "      <td>362</td>\n",
       "      <td>276249</td>\n",
       "      <td>552</td>\n",
       "      <td>463</td>\n",
       "      <td>511</td>\n",
       "      <td>527</td>\n",
       "      <td>564</td>\n",
       "      <td>482</td>\n",
       "      <td>490</td>\n",
       "      <td>483</td>\n",
       "      <td>531</td>\n",
       "    </tr>\n",
       "    <tr>\n",
       "      <th>16854</th>\n",
       "      <td>16854</td>\n",
       "      <td>3232305</td>\n",
       "      <td>323</td>\n",
       "      <td>3512061</td>\n",
       "      <td>351</td>\n",
       "      <td>114694</td>\n",
       "      <td>525</td>\n",
       "      <td>728</td>\n",
       "      <td>868</td>\n",
       "      <td>542</td>\n",
       "      <td>542</td>\n",
       "      <td>385</td>\n",
       "      <td>541</td>\n",
       "      <td>637</td>\n",
       "      <td>789</td>\n",
       "    </tr>\n",
       "  </tbody>\n",
       "</table>\n",
       "</div>"
      ],
      "text/plain": [
       "       Unnamed: 0  id_first_major  id_first_university  id_second_major  \\\n",
       "54129       54129         3342243                  334          3342556   \n",
       "60332       60332         7112033                  711          7212115   \n",
       "30346       30346         3522055                  352          3742093   \n",
       "47911       47911         3632012                  363          3622242   \n",
       "16854       16854         3232305                  323          3512061   \n",
       "\n",
       "       id_second_university  id_user  score_eko  score_geo  score_kmb  \\\n",
       "54129                   334   298881        484        554        615   \n",
       "60332                   721   324587        691        623        628   \n",
       "30346                   374   197388        683        627        492   \n",
       "47911                   362   276249        552        463        511   \n",
       "16854                   351   114694        525        728        868   \n",
       "\n",
       "       score_kpu  score_kua  score_mat  score_ppu  score_sej  score_sos  \n",
       "54129        382        396        560        538        324        499  \n",
       "60332        604        529        452        507        561        489  \n",
       "30346        316        519        622        328        628        567  \n",
       "47911        527        564        482        490        483        531  \n",
       "16854        542        542        385        541        637        789  "
      ]
     },
     "execution_count": 4,
     "metadata": {},
     "output_type": "execute_result"
    }
   ],
   "source": [
    "# in here we have all the test score from humanities\n",
    "score_humanities = pd.read_csv('score_humanities.csv')\n",
    "print(score_humanities.isna().sum()) #check some null \n",
    "score_humanities.sample(5)"
   ]
  },
  {
   "cell_type": "code",
   "execution_count": 5,
   "metadata": {},
   "outputs": [
    {
     "name": "stdout",
     "output_type": "stream",
     "text": [
      "Unnamed: 0              0\n",
      "id_first_major          0\n",
      "id_first_university     0\n",
      "id_second_major         0\n",
      "id_second_university    0\n",
      "id_user                 0\n",
      "score_bio               0\n",
      "score_fis               0\n",
      "score_kim               0\n",
      "score_kmb               0\n",
      "score_kpu               0\n",
      "score_kua               0\n",
      "score_mat               0\n",
      "score_ppu               0\n",
      "dtype: int64\n"
     ]
    },
    {
     "data": {
      "text/html": [
       "<div>\n",
       "<style scoped>\n",
       "    .dataframe tbody tr th:only-of-type {\n",
       "        vertical-align: middle;\n",
       "    }\n",
       "\n",
       "    .dataframe tbody tr th {\n",
       "        vertical-align: top;\n",
       "    }\n",
       "\n",
       "    .dataframe thead th {\n",
       "        text-align: right;\n",
       "    }\n",
       "</style>\n",
       "<table border=\"1\" class=\"dataframe\">\n",
       "  <thead>\n",
       "    <tr style=\"text-align: right;\">\n",
       "      <th></th>\n",
       "      <th>Unnamed: 0</th>\n",
       "      <th>id_first_major</th>\n",
       "      <th>id_first_university</th>\n",
       "      <th>id_second_major</th>\n",
       "      <th>id_second_university</th>\n",
       "      <th>id_user</th>\n",
       "      <th>score_bio</th>\n",
       "      <th>score_fis</th>\n",
       "      <th>score_kim</th>\n",
       "      <th>score_kmb</th>\n",
       "      <th>score_kpu</th>\n",
       "      <th>score_kua</th>\n",
       "      <th>score_mat</th>\n",
       "      <th>score_ppu</th>\n",
       "    </tr>\n",
       "  </thead>\n",
       "  <tbody>\n",
       "    <tr>\n",
       "      <th>33276</th>\n",
       "      <td>33276</td>\n",
       "      <td>3531104</td>\n",
       "      <td>353</td>\n",
       "      <td>3561196</td>\n",
       "      <td>356</td>\n",
       "      <td>139476</td>\n",
       "      <td>670</td>\n",
       "      <td>606</td>\n",
       "      <td>552</td>\n",
       "      <td>683</td>\n",
       "      <td>699</td>\n",
       "      <td>597</td>\n",
       "      <td>515</td>\n",
       "      <td>470</td>\n",
       "    </tr>\n",
       "    <tr>\n",
       "      <th>42684</th>\n",
       "      <td>42684</td>\n",
       "      <td>3551302</td>\n",
       "      <td>355</td>\n",
       "      <td>3551267</td>\n",
       "      <td>355</td>\n",
       "      <td>180908</td>\n",
       "      <td>698</td>\n",
       "      <td>548</td>\n",
       "      <td>757</td>\n",
       "      <td>577</td>\n",
       "      <td>650</td>\n",
       "      <td>633</td>\n",
       "      <td>439</td>\n",
       "      <td>627</td>\n",
       "    </tr>\n",
       "    <tr>\n",
       "      <th>45684</th>\n",
       "      <td>45684</td>\n",
       "      <td>3511107</td>\n",
       "      <td>351</td>\n",
       "      <td>7111076</td>\n",
       "      <td>711</td>\n",
       "      <td>193348</td>\n",
       "      <td>739</td>\n",
       "      <td>695</td>\n",
       "      <td>740</td>\n",
       "      <td>824</td>\n",
       "      <td>663</td>\n",
       "      <td>671</td>\n",
       "      <td>538</td>\n",
       "      <td>589</td>\n",
       "    </tr>\n",
       "    <tr>\n",
       "      <th>66390</th>\n",
       "      <td>66390</td>\n",
       "      <td>3421082</td>\n",
       "      <td>342</td>\n",
       "      <td>3361082</td>\n",
       "      <td>336</td>\n",
       "      <td>261853</td>\n",
       "      <td>584</td>\n",
       "      <td>457</td>\n",
       "      <td>467</td>\n",
       "      <td>478</td>\n",
       "      <td>524</td>\n",
       "      <td>537</td>\n",
       "      <td>477</td>\n",
       "      <td>676</td>\n",
       "    </tr>\n",
       "    <tr>\n",
       "      <th>12286</th>\n",
       "      <td>12286</td>\n",
       "      <td>3811014</td>\n",
       "      <td>381</td>\n",
       "      <td>3811037</td>\n",
       "      <td>381</td>\n",
       "      <td>59777</td>\n",
       "      <td>622</td>\n",
       "      <td>592</td>\n",
       "      <td>791</td>\n",
       "      <td>556</td>\n",
       "      <td>645</td>\n",
       "      <td>798</td>\n",
       "      <td>690</td>\n",
       "      <td>587</td>\n",
       "    </tr>\n",
       "  </tbody>\n",
       "</table>\n",
       "</div>"
      ],
      "text/plain": [
       "       Unnamed: 0  id_first_major  id_first_university  id_second_major  \\\n",
       "33276       33276         3531104                  353          3561196   \n",
       "42684       42684         3551302                  355          3551267   \n",
       "45684       45684         3511107                  351          7111076   \n",
       "66390       66390         3421082                  342          3361082   \n",
       "12286       12286         3811014                  381          3811037   \n",
       "\n",
       "       id_second_university  id_user  score_bio  score_fis  score_kim  \\\n",
       "33276                   356   139476        670        606        552   \n",
       "42684                   355   180908        698        548        757   \n",
       "45684                   711   193348        739        695        740   \n",
       "66390                   336   261853        584        457        467   \n",
       "12286                   381    59777        622        592        791   \n",
       "\n",
       "       score_kmb  score_kpu  score_kua  score_mat  score_ppu  \n",
       "33276        683        699        597        515        470  \n",
       "42684        577        650        633        439        627  \n",
       "45684        824        663        671        538        589  \n",
       "66390        478        524        537        477        676  \n",
       "12286        556        645        798        690        587  "
      ]
     },
     "execution_count": 5,
     "metadata": {},
     "output_type": "execute_result"
    }
   ],
   "source": [
    "# we have all the test score from science\n",
    "score_science = pd.read_csv('score_science.csv')\n",
    "print(score_science.isna().sum()) #check some null \n",
    "score_science.sample(5)"
   ]
  },
  {
   "cell_type": "markdown",
   "metadata": {},
   "source": [
    "there is no missing data in any of these files, so we can continue to merge some files"
   ]
  },
  {
   "cell_type": "code",
   "execution_count": 6,
   "metadata": {},
   "outputs": [
    {
     "data": {
      "text/html": [
       "<div>\n",
       "<style scoped>\n",
       "    .dataframe tbody tr th:only-of-type {\n",
       "        vertical-align: middle;\n",
       "    }\n",
       "\n",
       "    .dataframe tbody tr th {\n",
       "        vertical-align: top;\n",
       "    }\n",
       "\n",
       "    .dataframe thead th {\n",
       "        text-align: right;\n",
       "    }\n",
       "</style>\n",
       "<table border=\"1\" class=\"dataframe\">\n",
       "  <thead>\n",
       "    <tr style=\"text-align: right;\">\n",
       "      <th></th>\n",
       "      <th>id_university</th>\n",
       "      <th>university_name</th>\n",
       "      <th>id_major</th>\n",
       "      <th>major_name</th>\n",
       "      <th>capacity</th>\n",
       "    </tr>\n",
       "  </thead>\n",
       "  <tbody>\n",
       "    <tr>\n",
       "      <th>0</th>\n",
       "      <td>111</td>\n",
       "      <td>UNIVERSITAS SYIAH KUALA</td>\n",
       "      <td>1111014</td>\n",
       "      <td>PENDIDIKAN DOKTER HEWAN</td>\n",
       "      <td>88</td>\n",
       "    </tr>\n",
       "    <tr>\n",
       "      <th>1</th>\n",
       "      <td>111</td>\n",
       "      <td>UNIVERSITAS SYIAH KUALA</td>\n",
       "      <td>1111022</td>\n",
       "      <td>TEKNIK SIPIL</td>\n",
       "      <td>64</td>\n",
       "    </tr>\n",
       "    <tr>\n",
       "      <th>2</th>\n",
       "      <td>111</td>\n",
       "      <td>UNIVERSITAS SYIAH KUALA</td>\n",
       "      <td>1111037</td>\n",
       "      <td>TEKNIK MESIN</td>\n",
       "      <td>48</td>\n",
       "    </tr>\n",
       "    <tr>\n",
       "      <th>3</th>\n",
       "      <td>111</td>\n",
       "      <td>UNIVERSITAS SYIAH KUALA</td>\n",
       "      <td>1111045</td>\n",
       "      <td>TEKNIK KIMIA</td>\n",
       "      <td>48</td>\n",
       "    </tr>\n",
       "    <tr>\n",
       "      <th>4</th>\n",
       "      <td>111</td>\n",
       "      <td>UNIVERSITAS SYIAH KUALA</td>\n",
       "      <td>1111053</td>\n",
       "      <td>ARSITEKTUR</td>\n",
       "      <td>48</td>\n",
       "    </tr>\n",
       "    <tr>\n",
       "      <th>...</th>\n",
       "      <td>...</td>\n",
       "      <td>...</td>\n",
       "      <td>...</td>\n",
       "      <td>...</td>\n",
       "      <td>...</td>\n",
       "    </tr>\n",
       "    <tr>\n",
       "      <th>3162</th>\n",
       "      <td>921</td>\n",
       "      <td>UNIVERSITAS PAPUA</td>\n",
       "      <td>9212011</td>\n",
       "      <td>EKONOMI PEMBANGUNAN</td>\n",
       "      <td>32</td>\n",
       "    </tr>\n",
       "    <tr>\n",
       "      <th>3163</th>\n",
       "      <td>921</td>\n",
       "      <td>UNIVERSITAS PAPUA</td>\n",
       "      <td>9212042</td>\n",
       "      <td>MANAJEMEN</td>\n",
       "      <td>32</td>\n",
       "    </tr>\n",
       "    <tr>\n",
       "      <th>3164</th>\n",
       "      <td>921</td>\n",
       "      <td>UNIVERSITAS PAPUA</td>\n",
       "      <td>9212057</td>\n",
       "      <td>AKUNTANSI</td>\n",
       "      <td>32</td>\n",
       "    </tr>\n",
       "    <tr>\n",
       "      <th>3165</th>\n",
       "      <td>921</td>\n",
       "      <td>UNIVERSITAS PAPUA</td>\n",
       "      <td>9212065</td>\n",
       "      <td>PENDIDIKAN BAHASA INDONESIA</td>\n",
       "      <td>16</td>\n",
       "    </tr>\n",
       "    <tr>\n",
       "      <th>3166</th>\n",
       "      <td>921</td>\n",
       "      <td>UNIVERSITAS PAPUA</td>\n",
       "      <td>9212073</td>\n",
       "      <td>PENDIDIKAN BAHASA INGGRIS</td>\n",
       "      <td>16</td>\n",
       "    </tr>\n",
       "  </tbody>\n",
       "</table>\n",
       "<p>3167 rows × 5 columns</p>\n",
       "</div>"
      ],
      "text/plain": [
       "      id_university          university_name  id_major  \\\n",
       "0               111  UNIVERSITAS SYIAH KUALA   1111014   \n",
       "1               111  UNIVERSITAS SYIAH KUALA   1111022   \n",
       "2               111  UNIVERSITAS SYIAH KUALA   1111037   \n",
       "3               111  UNIVERSITAS SYIAH KUALA   1111045   \n",
       "4               111  UNIVERSITAS SYIAH KUALA   1111053   \n",
       "...             ...                      ...       ...   \n",
       "3162            921        UNIVERSITAS PAPUA   9212011   \n",
       "3163            921        UNIVERSITAS PAPUA   9212042   \n",
       "3164            921        UNIVERSITAS PAPUA   9212057   \n",
       "3165            921        UNIVERSITAS PAPUA   9212065   \n",
       "3166            921        UNIVERSITAS PAPUA   9212073   \n",
       "\n",
       "                       major_name  capacity  \n",
       "0         PENDIDIKAN DOKTER HEWAN        88  \n",
       "1                    TEKNIK SIPIL        64  \n",
       "2                    TEKNIK MESIN        48  \n",
       "3                    TEKNIK KIMIA        48  \n",
       "4                      ARSITEKTUR        48  \n",
       "...                           ...       ...  \n",
       "3162          EKONOMI PEMBANGUNAN        32  \n",
       "3163                    MANAJEMEN        32  \n",
       "3164                    AKUNTANSI        32  \n",
       "3165  PENDIDIKAN BAHASA INDONESIA        16  \n",
       "3166    PENDIDIKAN BAHASA INGGRIS        16  \n",
       "\n",
       "[3167 rows x 5 columns]"
      ]
     },
     "execution_count": 6,
     "metadata": {},
     "output_type": "execute_result"
    }
   ],
   "source": [
    "major_univ = pd.merge(left=universities[['id_university','university_name']],right=majors[['id_major','major_name','id_university','capacity']],on='id_university')\n",
    "major_univ # we have merged our data, so it will be easier to be read"
   ]
  },
  {
   "cell_type": "code",
   "execution_count": 7,
   "metadata": {},
   "outputs": [],
   "source": [
    "df_science = pd.merge(left=score_science,right=major_univ,left_on=['id_first_major','id_first_university'],right_on=['id_major','id_university'],suffixes=('_left','_right'))"
   ]
  },
  {
   "cell_type": "code",
   "execution_count": 8,
   "metadata": {},
   "outputs": [
    {
     "data": {
      "text/html": [
       "<div>\n",
       "<style scoped>\n",
       "    .dataframe tbody tr th:only-of-type {\n",
       "        vertical-align: middle;\n",
       "    }\n",
       "\n",
       "    .dataframe tbody tr th {\n",
       "        vertical-align: top;\n",
       "    }\n",
       "\n",
       "    .dataframe thead th {\n",
       "        text-align: right;\n",
       "    }\n",
       "</style>\n",
       "<table border=\"1\" class=\"dataframe\">\n",
       "  <thead>\n",
       "    <tr style=\"text-align: right;\">\n",
       "      <th></th>\n",
       "      <th>Unnamed: 0</th>\n",
       "      <th>id_first_major</th>\n",
       "      <th>id_first_university</th>\n",
       "      <th>id_second_major</th>\n",
       "      <th>id_second_university</th>\n",
       "      <th>id_user</th>\n",
       "      <th>score_bio</th>\n",
       "      <th>score_fis</th>\n",
       "      <th>score_kim</th>\n",
       "      <th>score_kmb</th>\n",
       "      <th>score_kpu</th>\n",
       "      <th>score_kua</th>\n",
       "      <th>score_mat</th>\n",
       "      <th>score_ppu</th>\n",
       "      <th>first_univ</th>\n",
       "      <th>first_major</th>\n",
       "      <th>first_capacity</th>\n",
       "    </tr>\n",
       "  </thead>\n",
       "  <tbody>\n",
       "    <tr>\n",
       "      <th>0</th>\n",
       "      <td>0</td>\n",
       "      <td>3321065</td>\n",
       "      <td>332</td>\n",
       "      <td>3331187</td>\n",
       "      <td>333</td>\n",
       "      <td>4</td>\n",
       "      <td>400</td>\n",
       "      <td>400</td>\n",
       "      <td>400</td>\n",
       "      <td>400</td>\n",
       "      <td>400</td>\n",
       "      <td>400</td>\n",
       "      <td>400</td>\n",
       "      <td>400</td>\n",
       "      <td>INSTITUT TEKNOLOGI BANDUNG</td>\n",
       "      <td>SEKOLAH ILMU &amp; TEKNO. HAYATI - PROG. SAINS</td>\n",
       "      <td>64</td>\n",
       "    </tr>\n",
       "    <tr>\n",
       "      <th>1</th>\n",
       "      <td>417</td>\n",
       "      <td>3321065</td>\n",
       "      <td>332</td>\n",
       "      <td>3331206</td>\n",
       "      <td>333</td>\n",
       "      <td>2149</td>\n",
       "      <td>546</td>\n",
       "      <td>541</td>\n",
       "      <td>686</td>\n",
       "      <td>581</td>\n",
       "      <td>631</td>\n",
       "      <td>601</td>\n",
       "      <td>615</td>\n",
       "      <td>467</td>\n",
       "      <td>INSTITUT TEKNOLOGI BANDUNG</td>\n",
       "      <td>SEKOLAH ILMU &amp; TEKNO. HAYATI - PROG. SAINS</td>\n",
       "      <td>64</td>\n",
       "    </tr>\n",
       "    <tr>\n",
       "      <th>2</th>\n",
       "      <td>876</td>\n",
       "      <td>3321065</td>\n",
       "      <td>332</td>\n",
       "      <td>3211197</td>\n",
       "      <td>321</td>\n",
       "      <td>5437</td>\n",
       "      <td>496</td>\n",
       "      <td>439</td>\n",
       "      <td>561</td>\n",
       "      <td>757</td>\n",
       "      <td>502</td>\n",
       "      <td>609</td>\n",
       "      <td>638</td>\n",
       "      <td>566</td>\n",
       "      <td>INSTITUT TEKNOLOGI BANDUNG</td>\n",
       "      <td>SEKOLAH ILMU &amp; TEKNO. HAYATI - PROG. SAINS</td>\n",
       "      <td>64</td>\n",
       "    </tr>\n",
       "    <tr>\n",
       "      <th>3</th>\n",
       "      <td>1097</td>\n",
       "      <td>3321065</td>\n",
       "      <td>332</td>\n",
       "      <td>3721085</td>\n",
       "      <td>372</td>\n",
       "      <td>6724</td>\n",
       "      <td>675</td>\n",
       "      <td>732</td>\n",
       "      <td>748</td>\n",
       "      <td>687</td>\n",
       "      <td>708</td>\n",
       "      <td>570</td>\n",
       "      <td>506</td>\n",
       "      <td>593</td>\n",
       "      <td>INSTITUT TEKNOLOGI BANDUNG</td>\n",
       "      <td>SEKOLAH ILMU &amp; TEKNO. HAYATI - PROG. SAINS</td>\n",
       "      <td>64</td>\n",
       "    </tr>\n",
       "    <tr>\n",
       "      <th>4</th>\n",
       "      <td>1125</td>\n",
       "      <td>3321065</td>\n",
       "      <td>332</td>\n",
       "      <td>3331052</td>\n",
       "      <td>333</td>\n",
       "      <td>6870</td>\n",
       "      <td>701</td>\n",
       "      <td>587</td>\n",
       "      <td>493</td>\n",
       "      <td>526</td>\n",
       "      <td>689</td>\n",
       "      <td>780</td>\n",
       "      <td>574</td>\n",
       "      <td>556</td>\n",
       "      <td>INSTITUT TEKNOLOGI BANDUNG</td>\n",
       "      <td>SEKOLAH ILMU &amp; TEKNO. HAYATI - PROG. SAINS</td>\n",
       "      <td>64</td>\n",
       "    </tr>\n",
       "    <tr>\n",
       "      <th>...</th>\n",
       "      <td>...</td>\n",
       "      <td>...</td>\n",
       "      <td>...</td>\n",
       "      <td>...</td>\n",
       "      <td>...</td>\n",
       "      <td>...</td>\n",
       "      <td>...</td>\n",
       "      <td>...</td>\n",
       "      <td>...</td>\n",
       "      <td>...</td>\n",
       "      <td>...</td>\n",
       "      <td>...</td>\n",
       "      <td>...</td>\n",
       "      <td>...</td>\n",
       "      <td>...</td>\n",
       "      <td>...</td>\n",
       "      <td>...</td>\n",
       "    </tr>\n",
       "    <tr>\n",
       "      <th>86410</th>\n",
       "      <td>83930</td>\n",
       "      <td>1141067</td>\n",
       "      <td>114</td>\n",
       "      <td>1161056</td>\n",
       "      <td>116</td>\n",
       "      <td>327724</td>\n",
       "      <td>546</td>\n",
       "      <td>533</td>\n",
       "      <td>582</td>\n",
       "      <td>655</td>\n",
       "      <td>652</td>\n",
       "      <td>653</td>\n",
       "      <td>514</td>\n",
       "      <td>491</td>\n",
       "      <td>UNIVERSITAS SAMUDRA</td>\n",
       "      <td>PENDIDIKAN KIMIA</td>\n",
       "      <td>16</td>\n",
       "    </tr>\n",
       "    <tr>\n",
       "      <th>86411</th>\n",
       "      <td>83985</td>\n",
       "      <td>7531135</td>\n",
       "      <td>753</td>\n",
       "      <td>3711276</td>\n",
       "      <td>371</td>\n",
       "      <td>327926</td>\n",
       "      <td>611</td>\n",
       "      <td>423</td>\n",
       "      <td>443</td>\n",
       "      <td>549</td>\n",
       "      <td>592</td>\n",
       "      <td>507</td>\n",
       "      <td>647</td>\n",
       "      <td>551</td>\n",
       "      <td>UNIVERSITAS SEMBILAN BELAS NOVEMBER KOLAKA</td>\n",
       "      <td>ILMU KOMPUTER</td>\n",
       "      <td>56</td>\n",
       "    </tr>\n",
       "    <tr>\n",
       "      <th>86412</th>\n",
       "      <td>84535</td>\n",
       "      <td>6121167</td>\n",
       "      <td>612</td>\n",
       "      <td>6111215</td>\n",
       "      <td>611</td>\n",
       "      <td>329968</td>\n",
       "      <td>497</td>\n",
       "      <td>549</td>\n",
       "      <td>646</td>\n",
       "      <td>574</td>\n",
       "      <td>589</td>\n",
       "      <td>515</td>\n",
       "      <td>474</td>\n",
       "      <td>438</td>\n",
       "      <td>UNIVERSITAS PENDIDIKAN GANESHA</td>\n",
       "      <td>MATEMATIKA</td>\n",
       "      <td>6</td>\n",
       "    </tr>\n",
       "    <tr>\n",
       "      <th>86413</th>\n",
       "      <td>85153</td>\n",
       "      <td>8111134</td>\n",
       "      <td>811</td>\n",
       "      <td>8111262</td>\n",
       "      <td>811</td>\n",
       "      <td>332404</td>\n",
       "      <td>497</td>\n",
       "      <td>454</td>\n",
       "      <td>507</td>\n",
       "      <td>413</td>\n",
       "      <td>336</td>\n",
       "      <td>414</td>\n",
       "      <td>477</td>\n",
       "      <td>424</td>\n",
       "      <td>UNIVERSITAS PATTIMURA</td>\n",
       "      <td>TEKNIK INDUSTRI</td>\n",
       "      <td>50</td>\n",
       "    </tr>\n",
       "    <tr>\n",
       "      <th>86414</th>\n",
       "      <td>85940</td>\n",
       "      <td>8111061</td>\n",
       "      <td>811</td>\n",
       "      <td>1911015</td>\n",
       "      <td>191</td>\n",
       "      <td>336092</td>\n",
       "      <td>514</td>\n",
       "      <td>522</td>\n",
       "      <td>433</td>\n",
       "      <td>400</td>\n",
       "      <td>456</td>\n",
       "      <td>439</td>\n",
       "      <td>435</td>\n",
       "      <td>536</td>\n",
       "      <td>UNIVERSITAS PATTIMURA</td>\n",
       "      <td>AGROTEKNOLOGI</td>\n",
       "      <td>35</td>\n",
       "    </tr>\n",
       "  </tbody>\n",
       "</table>\n",
       "<p>86415 rows × 17 columns</p>\n",
       "</div>"
      ],
      "text/plain": [
       "       Unnamed: 0  id_first_major  id_first_university  id_second_major  \\\n",
       "0               0         3321065                  332          3331187   \n",
       "1             417         3321065                  332          3331206   \n",
       "2             876         3321065                  332          3211197   \n",
       "3            1097         3321065                  332          3721085   \n",
       "4            1125         3321065                  332          3331052   \n",
       "...           ...             ...                  ...              ...   \n",
       "86410       83930         1141067                  114          1161056   \n",
       "86411       83985         7531135                  753          3711276   \n",
       "86412       84535         6121167                  612          6111215   \n",
       "86413       85153         8111134                  811          8111262   \n",
       "86414       85940         8111061                  811          1911015   \n",
       "\n",
       "       id_second_university  id_user  score_bio  score_fis  score_kim  \\\n",
       "0                       333        4        400        400        400   \n",
       "1                       333     2149        546        541        686   \n",
       "2                       321     5437        496        439        561   \n",
       "3                       372     6724        675        732        748   \n",
       "4                       333     6870        701        587        493   \n",
       "...                     ...      ...        ...        ...        ...   \n",
       "86410                   116   327724        546        533        582   \n",
       "86411                   371   327926        611        423        443   \n",
       "86412                   611   329968        497        549        646   \n",
       "86413                   811   332404        497        454        507   \n",
       "86414                   191   336092        514        522        433   \n",
       "\n",
       "       score_kmb  score_kpu  score_kua  score_mat  score_ppu  \\\n",
       "0            400        400        400        400        400   \n",
       "1            581        631        601        615        467   \n",
       "2            757        502        609        638        566   \n",
       "3            687        708        570        506        593   \n",
       "4            526        689        780        574        556   \n",
       "...          ...        ...        ...        ...        ...   \n",
       "86410        655        652        653        514        491   \n",
       "86411        549        592        507        647        551   \n",
       "86412        574        589        515        474        438   \n",
       "86413        413        336        414        477        424   \n",
       "86414        400        456        439        435        536   \n",
       "\n",
       "                                       first_univ  \\\n",
       "0                      INSTITUT TEKNOLOGI BANDUNG   \n",
       "1                      INSTITUT TEKNOLOGI BANDUNG   \n",
       "2                      INSTITUT TEKNOLOGI BANDUNG   \n",
       "3                      INSTITUT TEKNOLOGI BANDUNG   \n",
       "4                      INSTITUT TEKNOLOGI BANDUNG   \n",
       "...                                           ...   \n",
       "86410                         UNIVERSITAS SAMUDRA   \n",
       "86411  UNIVERSITAS SEMBILAN BELAS NOVEMBER KOLAKA   \n",
       "86412              UNIVERSITAS PENDIDIKAN GANESHA   \n",
       "86413                       UNIVERSITAS PATTIMURA   \n",
       "86414                       UNIVERSITAS PATTIMURA   \n",
       "\n",
       "                                      first_major  first_capacity  \n",
       "0      SEKOLAH ILMU & TEKNO. HAYATI - PROG. SAINS              64  \n",
       "1      SEKOLAH ILMU & TEKNO. HAYATI - PROG. SAINS              64  \n",
       "2      SEKOLAH ILMU & TEKNO. HAYATI - PROG. SAINS              64  \n",
       "3      SEKOLAH ILMU & TEKNO. HAYATI - PROG. SAINS              64  \n",
       "4      SEKOLAH ILMU & TEKNO. HAYATI - PROG. SAINS              64  \n",
       "...                                           ...             ...  \n",
       "86410                            PENDIDIKAN KIMIA              16  \n",
       "86411                               ILMU KOMPUTER              56  \n",
       "86412                                  MATEMATIKA               6  \n",
       "86413                             TEKNIK INDUSTRI              50  \n",
       "86414                               AGROTEKNOLOGI              35  \n",
       "\n",
       "[86415 rows x 17 columns]"
      ]
     },
     "execution_count": 8,
     "metadata": {},
     "output_type": "execute_result"
    }
   ],
   "source": [
    "df_science = df_science.rename(columns={'university_name':'first_univ','major_name':'first_major','capacity':'first_capacity'}).drop(['id_university','id_major'],axis=1)\n",
    "df_science"
   ]
  },
  {
   "cell_type": "code",
   "execution_count": 9,
   "metadata": {},
   "outputs": [],
   "source": [
    "df_science = pd.merge(left=df_science,right=major_univ,left_on=['id_second_major','id_second_university'],right_on=['id_major','id_university'],suffixes=('_left','_right'))\n",
    "df_science = df_science.rename(columns={'university_name':'second_univ','major_name':'second_major','capacity':'second_capacity'}).drop(['id_university','id_major','Unnamed: 0','id_first_major','id_first_university','id_second_major','id_second_university','id_user'],axis=1)"
   ]
  },
  {
   "cell_type": "code",
   "execution_count": 10,
   "metadata": {},
   "outputs": [
    {
     "data": {
      "text/html": [
       "<div>\n",
       "<style scoped>\n",
       "    .dataframe tbody tr th:only-of-type {\n",
       "        vertical-align: middle;\n",
       "    }\n",
       "\n",
       "    .dataframe tbody tr th {\n",
       "        vertical-align: top;\n",
       "    }\n",
       "\n",
       "    .dataframe thead th {\n",
       "        text-align: right;\n",
       "    }\n",
       "</style>\n",
       "<table border=\"1\" class=\"dataframe\">\n",
       "  <thead>\n",
       "    <tr style=\"text-align: right;\">\n",
       "      <th></th>\n",
       "      <th>score_bio</th>\n",
       "      <th>score_fis</th>\n",
       "      <th>score_kim</th>\n",
       "      <th>score_kmb</th>\n",
       "      <th>score_kpu</th>\n",
       "      <th>score_kua</th>\n",
       "      <th>score_mat</th>\n",
       "      <th>score_ppu</th>\n",
       "      <th>first_univ</th>\n",
       "      <th>first_major</th>\n",
       "      <th>first_capacity</th>\n",
       "      <th>second_univ</th>\n",
       "      <th>second_major</th>\n",
       "      <th>second_capacity</th>\n",
       "    </tr>\n",
       "  </thead>\n",
       "  <tbody>\n",
       "    <tr>\n",
       "      <th>0</th>\n",
       "      <td>400</td>\n",
       "      <td>400</td>\n",
       "      <td>400</td>\n",
       "      <td>400</td>\n",
       "      <td>400</td>\n",
       "      <td>400</td>\n",
       "      <td>400</td>\n",
       "      <td>400</td>\n",
       "      <td>INSTITUT TEKNOLOGI BANDUNG</td>\n",
       "      <td>SEKOLAH ILMU &amp; TEKNO. HAYATI - PROG. SAINS</td>\n",
       "      <td>64</td>\n",
       "      <td>UNIVERSITAS PADJADJARAN</td>\n",
       "      <td>PSIKOLOGI</td>\n",
       "      <td>80</td>\n",
       "    </tr>\n",
       "    <tr>\n",
       "      <th>1</th>\n",
       "      <td>704</td>\n",
       "      <td>447</td>\n",
       "      <td>630</td>\n",
       "      <td>561</td>\n",
       "      <td>518</td>\n",
       "      <td>541</td>\n",
       "      <td>585</td>\n",
       "      <td>599</td>\n",
       "      <td>INSTITUT TEKNOLOGI BANDUNG</td>\n",
       "      <td>SEKOLAH ILMU &amp; TEKNO. HAYATI - PROG. SAINS</td>\n",
       "      <td>64</td>\n",
       "      <td>UNIVERSITAS PADJADJARAN</td>\n",
       "      <td>PSIKOLOGI</td>\n",
       "      <td>80</td>\n",
       "    </tr>\n",
       "    <tr>\n",
       "      <th>2</th>\n",
       "      <td>715</td>\n",
       "      <td>532</td>\n",
       "      <td>633</td>\n",
       "      <td>579</td>\n",
       "      <td>732</td>\n",
       "      <td>804</td>\n",
       "      <td>402</td>\n",
       "      <td>608</td>\n",
       "      <td>INSTITUT TEKNOLOGI BANDUNG</td>\n",
       "      <td>SEKOLAH ILMU &amp; TEKNO. HAYATI - PROG. SAINS</td>\n",
       "      <td>64</td>\n",
       "      <td>UNIVERSITAS PADJADJARAN</td>\n",
       "      <td>PSIKOLOGI</td>\n",
       "      <td>80</td>\n",
       "    </tr>\n",
       "    <tr>\n",
       "      <th>3</th>\n",
       "      <td>446</td>\n",
       "      <td>511</td>\n",
       "      <td>400</td>\n",
       "      <td>548</td>\n",
       "      <td>679</td>\n",
       "      <td>567</td>\n",
       "      <td>513</td>\n",
       "      <td>538</td>\n",
       "      <td>INSTITUT TEKNOLOGI BANDUNG</td>\n",
       "      <td>SEKOLAH ILMU &amp; TEKNO. HAYATI - PROG. SAINS</td>\n",
       "      <td>64</td>\n",
       "      <td>UNIVERSITAS PADJADJARAN</td>\n",
       "      <td>PSIKOLOGI</td>\n",
       "      <td>80</td>\n",
       "    </tr>\n",
       "    <tr>\n",
       "      <th>4</th>\n",
       "      <td>489</td>\n",
       "      <td>533</td>\n",
       "      <td>367</td>\n",
       "      <td>481</td>\n",
       "      <td>487</td>\n",
       "      <td>544</td>\n",
       "      <td>499</td>\n",
       "      <td>469</td>\n",
       "      <td>INSTITUT TEKNOLOGI BANDUNG</td>\n",
       "      <td>SEKOLAH ILMU &amp; TEKNO. HAYATI - PROG. SAINS</td>\n",
       "      <td>64</td>\n",
       "      <td>UNIVERSITAS PADJADJARAN</td>\n",
       "      <td>PSIKOLOGI</td>\n",
       "      <td>80</td>\n",
       "    </tr>\n",
       "    <tr>\n",
       "      <th>...</th>\n",
       "      <td>...</td>\n",
       "      <td>...</td>\n",
       "      <td>...</td>\n",
       "      <td>...</td>\n",
       "      <td>...</td>\n",
       "      <td>...</td>\n",
       "      <td>...</td>\n",
       "      <td>...</td>\n",
       "      <td>...</td>\n",
       "      <td>...</td>\n",
       "      <td>...</td>\n",
       "      <td>...</td>\n",
       "      <td>...</td>\n",
       "      <td>...</td>\n",
       "    </tr>\n",
       "    <tr>\n",
       "      <th>86223</th>\n",
       "      <td>336</td>\n",
       "      <td>466</td>\n",
       "      <td>476</td>\n",
       "      <td>511</td>\n",
       "      <td>378</td>\n",
       "      <td>393</td>\n",
       "      <td>589</td>\n",
       "      <td>470</td>\n",
       "      <td>UNIVERSITAS NEGERI GORONTALO</td>\n",
       "      <td>PENDIDIKAN GEOGRAFI</td>\n",
       "      <td>54</td>\n",
       "      <td>UNIVERSITAS NEGERI GORONTALO</td>\n",
       "      <td>PENDIDIKAN ILMU PENGETAHUAN ALAM</td>\n",
       "      <td>27</td>\n",
       "    </tr>\n",
       "    <tr>\n",
       "      <th>86224</th>\n",
       "      <td>520</td>\n",
       "      <td>483</td>\n",
       "      <td>654</td>\n",
       "      <td>545</td>\n",
       "      <td>606</td>\n",
       "      <td>722</td>\n",
       "      <td>425</td>\n",
       "      <td>495</td>\n",
       "      <td>UNIVERSITAS BORNEO TARAKAN</td>\n",
       "      <td>AKUAKULTUR</td>\n",
       "      <td>48</td>\n",
       "      <td>UNIVERSITAS BORNEO TARAKAN</td>\n",
       "      <td>AGRIBISNIS</td>\n",
       "      <td>48</td>\n",
       "    </tr>\n",
       "    <tr>\n",
       "      <th>86225</th>\n",
       "      <td>435</td>\n",
       "      <td>413</td>\n",
       "      <td>441</td>\n",
       "      <td>408</td>\n",
       "      <td>516</td>\n",
       "      <td>526</td>\n",
       "      <td>564</td>\n",
       "      <td>390</td>\n",
       "      <td>UNIVERSITAS SYIAH KUALA</td>\n",
       "      <td>AGROTEKNOLOGI (PSDKU GAYO LUES)</td>\n",
       "      <td>20</td>\n",
       "      <td>UNIVERSITAS SYIAH KUALA</td>\n",
       "      <td>KEHUTANAN (PSDKU GAYO LUES)</td>\n",
       "      <td>16</td>\n",
       "    </tr>\n",
       "    <tr>\n",
       "      <th>86226</th>\n",
       "      <td>482</td>\n",
       "      <td>516</td>\n",
       "      <td>453</td>\n",
       "      <td>546</td>\n",
       "      <td>569</td>\n",
       "      <td>597</td>\n",
       "      <td>587</td>\n",
       "      <td>633</td>\n",
       "      <td>UNIVERSITAS PALANGKARAYA</td>\n",
       "      <td>KIMIA</td>\n",
       "      <td>30</td>\n",
       "      <td>UNIVERSITAS PALANGKARAYA</td>\n",
       "      <td>FISIKA</td>\n",
       "      <td>30</td>\n",
       "    </tr>\n",
       "    <tr>\n",
       "      <th>86227</th>\n",
       "      <td>466</td>\n",
       "      <td>494</td>\n",
       "      <td>562</td>\n",
       "      <td>593</td>\n",
       "      <td>591</td>\n",
       "      <td>547</td>\n",
       "      <td>552</td>\n",
       "      <td>543</td>\n",
       "      <td>UNIVERSITAS NUSA CENDANA</td>\n",
       "      <td>PEND. KIMIA</td>\n",
       "      <td>68</td>\n",
       "      <td>UNIVERSITAS NUSA CENDANA</td>\n",
       "      <td>PEND. TEKNIK ELEKTRO</td>\n",
       "      <td>36</td>\n",
       "    </tr>\n",
       "  </tbody>\n",
       "</table>\n",
       "<p>86228 rows × 14 columns</p>\n",
       "</div>"
      ],
      "text/plain": [
       "       score_bio  score_fis  score_kim  score_kmb  score_kpu  score_kua  \\\n",
       "0            400        400        400        400        400        400   \n",
       "1            704        447        630        561        518        541   \n",
       "2            715        532        633        579        732        804   \n",
       "3            446        511        400        548        679        567   \n",
       "4            489        533        367        481        487        544   \n",
       "...          ...        ...        ...        ...        ...        ...   \n",
       "86223        336        466        476        511        378        393   \n",
       "86224        520        483        654        545        606        722   \n",
       "86225        435        413        441        408        516        526   \n",
       "86226        482        516        453        546        569        597   \n",
       "86227        466        494        562        593        591        547   \n",
       "\n",
       "       score_mat  score_ppu                    first_univ  \\\n",
       "0            400        400    INSTITUT TEKNOLOGI BANDUNG   \n",
       "1            585        599    INSTITUT TEKNOLOGI BANDUNG   \n",
       "2            402        608    INSTITUT TEKNOLOGI BANDUNG   \n",
       "3            513        538    INSTITUT TEKNOLOGI BANDUNG   \n",
       "4            499        469    INSTITUT TEKNOLOGI BANDUNG   \n",
       "...          ...        ...                           ...   \n",
       "86223        589        470  UNIVERSITAS NEGERI GORONTALO   \n",
       "86224        425        495    UNIVERSITAS BORNEO TARAKAN   \n",
       "86225        564        390       UNIVERSITAS SYIAH KUALA   \n",
       "86226        587        633      UNIVERSITAS PALANGKARAYA   \n",
       "86227        552        543      UNIVERSITAS NUSA CENDANA   \n",
       "\n",
       "                                      first_major  first_capacity  \\\n",
       "0      SEKOLAH ILMU & TEKNO. HAYATI - PROG. SAINS              64   \n",
       "1      SEKOLAH ILMU & TEKNO. HAYATI - PROG. SAINS              64   \n",
       "2      SEKOLAH ILMU & TEKNO. HAYATI - PROG. SAINS              64   \n",
       "3      SEKOLAH ILMU & TEKNO. HAYATI - PROG. SAINS              64   \n",
       "4      SEKOLAH ILMU & TEKNO. HAYATI - PROG. SAINS              64   \n",
       "...                                           ...             ...   \n",
       "86223                         PENDIDIKAN GEOGRAFI              54   \n",
       "86224                                  AKUAKULTUR              48   \n",
       "86225             AGROTEKNOLOGI (PSDKU GAYO LUES)              20   \n",
       "86226                                       KIMIA              30   \n",
       "86227                                 PEND. KIMIA              68   \n",
       "\n",
       "                        second_univ                      second_major  \\\n",
       "0           UNIVERSITAS PADJADJARAN                         PSIKOLOGI   \n",
       "1           UNIVERSITAS PADJADJARAN                         PSIKOLOGI   \n",
       "2           UNIVERSITAS PADJADJARAN                         PSIKOLOGI   \n",
       "3           UNIVERSITAS PADJADJARAN                         PSIKOLOGI   \n",
       "4           UNIVERSITAS PADJADJARAN                         PSIKOLOGI   \n",
       "...                             ...                               ...   \n",
       "86223  UNIVERSITAS NEGERI GORONTALO  PENDIDIKAN ILMU PENGETAHUAN ALAM   \n",
       "86224    UNIVERSITAS BORNEO TARAKAN                        AGRIBISNIS   \n",
       "86225       UNIVERSITAS SYIAH KUALA       KEHUTANAN (PSDKU GAYO LUES)   \n",
       "86226      UNIVERSITAS PALANGKARAYA                            FISIKA   \n",
       "86227      UNIVERSITAS NUSA CENDANA              PEND. TEKNIK ELEKTRO   \n",
       "\n",
       "       second_capacity  \n",
       "0                   80  \n",
       "1                   80  \n",
       "2                   80  \n",
       "3                   80  \n",
       "4                   80  \n",
       "...                ...  \n",
       "86223               27  \n",
       "86224               48  \n",
       "86225               16  \n",
       "86226               30  \n",
       "86227               36  \n",
       "\n",
       "[86228 rows x 14 columns]"
      ]
     },
     "execution_count": 10,
     "metadata": {},
     "output_type": "execute_result"
    }
   ],
   "source": [
    "df_science # now we can just use a single file to get all of the information"
   ]
  },
  {
   "cell_type": "code",
   "execution_count": 11,
   "metadata": {},
   "outputs": [],
   "source": [
    "# because the capacity of utbk is 40% from the maximum capacity so we need to change the capacity value\n",
    "df_science['first_capacity'] = df_science['first_capacity'].apply(lambda x: int(x*40/100))\n",
    "df_science['second_capacity'] = df_science['second_capacity'].apply(lambda x: int(x*40/100))\n"
   ]
  },
  {
   "cell_type": "code",
   "execution_count": 12,
   "metadata": {},
   "outputs": [],
   "source": [
    "df_science['specialized_score']=df_science[['score_bio','score_fis','score_kim','score_mat']].mean(axis=1) #get avg score \n",
    "df_science['general_score'] = df_science[['score_kmb','score_kpu','score_kua','score_ppu']].mean(axis=1)  #get avg score\n",
    "df_science['average_score'] = df_science.iloc[:,:8].mean(axis=1) # avg score"
   ]
  },
  {
   "cell_type": "code",
   "execution_count": 13,
   "metadata": {},
   "outputs": [
    {
     "data": {
      "text/plain": [
       "array(['score_bio', 'score_fis', 'score_kim', 'score_kmb', 'score_kpu',\n",
       "       'score_kua', 'score_mat', 'score_ppu', 'first_univ', 'first_major',\n",
       "       'first_capacity', 'second_univ', 'second_major', 'second_capacity',\n",
       "       'specialized_score', 'general_score', 'average_score'],\n",
       "      dtype=object)"
      ]
     },
     "execution_count": 13,
     "metadata": {},
     "output_type": "execute_result"
    }
   ],
   "source": [
    "df_science.columns.values"
   ]
  },
  {
   "cell_type": "code",
   "execution_count": 14,
   "metadata": {},
   "outputs": [],
   "source": [
    "df_science = df_science[['score_bio', 'score_fis', 'score_kim','score_mat', 'score_kmb', 'score_kpu','score_kua', 'score_ppu','specialized_score','general_score','average_score','first_univ', 'first_major','first_capacity', 'second_univ', 'second_major', 'second_capacity']] #rearrange columns index "
   ]
  },
  {
   "cell_type": "code",
   "execution_count": 15,
   "metadata": {},
   "outputs": [
    {
     "data": {
      "text/html": [
       "<div>\n",
       "<style scoped>\n",
       "    .dataframe tbody tr th:only-of-type {\n",
       "        vertical-align: middle;\n",
       "    }\n",
       "\n",
       "    .dataframe tbody tr th {\n",
       "        vertical-align: top;\n",
       "    }\n",
       "\n",
       "    .dataframe thead th {\n",
       "        text-align: right;\n",
       "    }\n",
       "</style>\n",
       "<table border=\"1\" class=\"dataframe\">\n",
       "  <thead>\n",
       "    <tr style=\"text-align: right;\">\n",
       "      <th></th>\n",
       "      <th>score_bio</th>\n",
       "      <th>score_fis</th>\n",
       "      <th>score_kim</th>\n",
       "      <th>score_mat</th>\n",
       "      <th>score_kmb</th>\n",
       "      <th>score_kpu</th>\n",
       "      <th>score_kua</th>\n",
       "      <th>score_ppu</th>\n",
       "      <th>specialized_score</th>\n",
       "      <th>general_score</th>\n",
       "      <th>average_score</th>\n",
       "      <th>first_univ</th>\n",
       "      <th>first_major</th>\n",
       "      <th>first_capacity</th>\n",
       "      <th>second_univ</th>\n",
       "      <th>second_major</th>\n",
       "      <th>second_capacity</th>\n",
       "    </tr>\n",
       "  </thead>\n",
       "  <tbody>\n",
       "    <tr>\n",
       "      <th>0</th>\n",
       "      <td>400</td>\n",
       "      <td>400</td>\n",
       "      <td>400</td>\n",
       "      <td>400</td>\n",
       "      <td>400</td>\n",
       "      <td>400</td>\n",
       "      <td>400</td>\n",
       "      <td>400</td>\n",
       "      <td>400.00</td>\n",
       "      <td>400.00</td>\n",
       "      <td>400.000</td>\n",
       "      <td>INSTITUT TEKNOLOGI BANDUNG</td>\n",
       "      <td>SEKOLAH ILMU &amp; TEKNO. HAYATI - PROG. SAINS</td>\n",
       "      <td>25</td>\n",
       "      <td>UNIVERSITAS PADJADJARAN</td>\n",
       "      <td>PSIKOLOGI</td>\n",
       "      <td>32</td>\n",
       "    </tr>\n",
       "    <tr>\n",
       "      <th>1</th>\n",
       "      <td>704</td>\n",
       "      <td>447</td>\n",
       "      <td>630</td>\n",
       "      <td>585</td>\n",
       "      <td>561</td>\n",
       "      <td>518</td>\n",
       "      <td>541</td>\n",
       "      <td>599</td>\n",
       "      <td>591.50</td>\n",
       "      <td>554.75</td>\n",
       "      <td>573.125</td>\n",
       "      <td>INSTITUT TEKNOLOGI BANDUNG</td>\n",
       "      <td>SEKOLAH ILMU &amp; TEKNO. HAYATI - PROG. SAINS</td>\n",
       "      <td>25</td>\n",
       "      <td>UNIVERSITAS PADJADJARAN</td>\n",
       "      <td>PSIKOLOGI</td>\n",
       "      <td>32</td>\n",
       "    </tr>\n",
       "    <tr>\n",
       "      <th>2</th>\n",
       "      <td>715</td>\n",
       "      <td>532</td>\n",
       "      <td>633</td>\n",
       "      <td>402</td>\n",
       "      <td>579</td>\n",
       "      <td>732</td>\n",
       "      <td>804</td>\n",
       "      <td>608</td>\n",
       "      <td>570.50</td>\n",
       "      <td>680.75</td>\n",
       "      <td>625.625</td>\n",
       "      <td>INSTITUT TEKNOLOGI BANDUNG</td>\n",
       "      <td>SEKOLAH ILMU &amp; TEKNO. HAYATI - PROG. SAINS</td>\n",
       "      <td>25</td>\n",
       "      <td>UNIVERSITAS PADJADJARAN</td>\n",
       "      <td>PSIKOLOGI</td>\n",
       "      <td>32</td>\n",
       "    </tr>\n",
       "    <tr>\n",
       "      <th>3</th>\n",
       "      <td>446</td>\n",
       "      <td>511</td>\n",
       "      <td>400</td>\n",
       "      <td>513</td>\n",
       "      <td>548</td>\n",
       "      <td>679</td>\n",
       "      <td>567</td>\n",
       "      <td>538</td>\n",
       "      <td>467.50</td>\n",
       "      <td>583.00</td>\n",
       "      <td>525.250</td>\n",
       "      <td>INSTITUT TEKNOLOGI BANDUNG</td>\n",
       "      <td>SEKOLAH ILMU &amp; TEKNO. HAYATI - PROG. SAINS</td>\n",
       "      <td>25</td>\n",
       "      <td>UNIVERSITAS PADJADJARAN</td>\n",
       "      <td>PSIKOLOGI</td>\n",
       "      <td>32</td>\n",
       "    </tr>\n",
       "    <tr>\n",
       "      <th>4</th>\n",
       "      <td>489</td>\n",
       "      <td>533</td>\n",
       "      <td>367</td>\n",
       "      <td>499</td>\n",
       "      <td>481</td>\n",
       "      <td>487</td>\n",
       "      <td>544</td>\n",
       "      <td>469</td>\n",
       "      <td>472.00</td>\n",
       "      <td>495.25</td>\n",
       "      <td>483.625</td>\n",
       "      <td>INSTITUT TEKNOLOGI BANDUNG</td>\n",
       "      <td>SEKOLAH ILMU &amp; TEKNO. HAYATI - PROG. SAINS</td>\n",
       "      <td>25</td>\n",
       "      <td>UNIVERSITAS PADJADJARAN</td>\n",
       "      <td>PSIKOLOGI</td>\n",
       "      <td>32</td>\n",
       "    </tr>\n",
       "    <tr>\n",
       "      <th>...</th>\n",
       "      <td>...</td>\n",
       "      <td>...</td>\n",
       "      <td>...</td>\n",
       "      <td>...</td>\n",
       "      <td>...</td>\n",
       "      <td>...</td>\n",
       "      <td>...</td>\n",
       "      <td>...</td>\n",
       "      <td>...</td>\n",
       "      <td>...</td>\n",
       "      <td>...</td>\n",
       "      <td>...</td>\n",
       "      <td>...</td>\n",
       "      <td>...</td>\n",
       "      <td>...</td>\n",
       "      <td>...</td>\n",
       "      <td>...</td>\n",
       "    </tr>\n",
       "    <tr>\n",
       "      <th>86223</th>\n",
       "      <td>336</td>\n",
       "      <td>466</td>\n",
       "      <td>476</td>\n",
       "      <td>589</td>\n",
       "      <td>511</td>\n",
       "      <td>378</td>\n",
       "      <td>393</td>\n",
       "      <td>470</td>\n",
       "      <td>466.75</td>\n",
       "      <td>438.00</td>\n",
       "      <td>452.375</td>\n",
       "      <td>UNIVERSITAS NEGERI GORONTALO</td>\n",
       "      <td>PENDIDIKAN GEOGRAFI</td>\n",
       "      <td>21</td>\n",
       "      <td>UNIVERSITAS NEGERI GORONTALO</td>\n",
       "      <td>PENDIDIKAN ILMU PENGETAHUAN ALAM</td>\n",
       "      <td>10</td>\n",
       "    </tr>\n",
       "    <tr>\n",
       "      <th>86224</th>\n",
       "      <td>520</td>\n",
       "      <td>483</td>\n",
       "      <td>654</td>\n",
       "      <td>425</td>\n",
       "      <td>545</td>\n",
       "      <td>606</td>\n",
       "      <td>722</td>\n",
       "      <td>495</td>\n",
       "      <td>520.50</td>\n",
       "      <td>592.00</td>\n",
       "      <td>556.250</td>\n",
       "      <td>UNIVERSITAS BORNEO TARAKAN</td>\n",
       "      <td>AKUAKULTUR</td>\n",
       "      <td>19</td>\n",
       "      <td>UNIVERSITAS BORNEO TARAKAN</td>\n",
       "      <td>AGRIBISNIS</td>\n",
       "      <td>19</td>\n",
       "    </tr>\n",
       "    <tr>\n",
       "      <th>86225</th>\n",
       "      <td>435</td>\n",
       "      <td>413</td>\n",
       "      <td>441</td>\n",
       "      <td>564</td>\n",
       "      <td>408</td>\n",
       "      <td>516</td>\n",
       "      <td>526</td>\n",
       "      <td>390</td>\n",
       "      <td>463.25</td>\n",
       "      <td>460.00</td>\n",
       "      <td>461.625</td>\n",
       "      <td>UNIVERSITAS SYIAH KUALA</td>\n",
       "      <td>AGROTEKNOLOGI (PSDKU GAYO LUES)</td>\n",
       "      <td>8</td>\n",
       "      <td>UNIVERSITAS SYIAH KUALA</td>\n",
       "      <td>KEHUTANAN (PSDKU GAYO LUES)</td>\n",
       "      <td>6</td>\n",
       "    </tr>\n",
       "    <tr>\n",
       "      <th>86226</th>\n",
       "      <td>482</td>\n",
       "      <td>516</td>\n",
       "      <td>453</td>\n",
       "      <td>587</td>\n",
       "      <td>546</td>\n",
       "      <td>569</td>\n",
       "      <td>597</td>\n",
       "      <td>633</td>\n",
       "      <td>509.50</td>\n",
       "      <td>586.25</td>\n",
       "      <td>547.875</td>\n",
       "      <td>UNIVERSITAS PALANGKARAYA</td>\n",
       "      <td>KIMIA</td>\n",
       "      <td>12</td>\n",
       "      <td>UNIVERSITAS PALANGKARAYA</td>\n",
       "      <td>FISIKA</td>\n",
       "      <td>12</td>\n",
       "    </tr>\n",
       "    <tr>\n",
       "      <th>86227</th>\n",
       "      <td>466</td>\n",
       "      <td>494</td>\n",
       "      <td>562</td>\n",
       "      <td>552</td>\n",
       "      <td>593</td>\n",
       "      <td>591</td>\n",
       "      <td>547</td>\n",
       "      <td>543</td>\n",
       "      <td>518.50</td>\n",
       "      <td>568.50</td>\n",
       "      <td>543.500</td>\n",
       "      <td>UNIVERSITAS NUSA CENDANA</td>\n",
       "      <td>PEND. KIMIA</td>\n",
       "      <td>27</td>\n",
       "      <td>UNIVERSITAS NUSA CENDANA</td>\n",
       "      <td>PEND. TEKNIK ELEKTRO</td>\n",
       "      <td>14</td>\n",
       "    </tr>\n",
       "  </tbody>\n",
       "</table>\n",
       "<p>86228 rows × 17 columns</p>\n",
       "</div>"
      ],
      "text/plain": [
       "       score_bio  score_fis  score_kim  score_mat  score_kmb  score_kpu  \\\n",
       "0            400        400        400        400        400        400   \n",
       "1            704        447        630        585        561        518   \n",
       "2            715        532        633        402        579        732   \n",
       "3            446        511        400        513        548        679   \n",
       "4            489        533        367        499        481        487   \n",
       "...          ...        ...        ...        ...        ...        ...   \n",
       "86223        336        466        476        589        511        378   \n",
       "86224        520        483        654        425        545        606   \n",
       "86225        435        413        441        564        408        516   \n",
       "86226        482        516        453        587        546        569   \n",
       "86227        466        494        562        552        593        591   \n",
       "\n",
       "       score_kua  score_ppu  specialized_score  general_score  average_score  \\\n",
       "0            400        400             400.00         400.00        400.000   \n",
       "1            541        599             591.50         554.75        573.125   \n",
       "2            804        608             570.50         680.75        625.625   \n",
       "3            567        538             467.50         583.00        525.250   \n",
       "4            544        469             472.00         495.25        483.625   \n",
       "...          ...        ...                ...            ...            ...   \n",
       "86223        393        470             466.75         438.00        452.375   \n",
       "86224        722        495             520.50         592.00        556.250   \n",
       "86225        526        390             463.25         460.00        461.625   \n",
       "86226        597        633             509.50         586.25        547.875   \n",
       "86227        547        543             518.50         568.50        543.500   \n",
       "\n",
       "                         first_univ  \\\n",
       "0        INSTITUT TEKNOLOGI BANDUNG   \n",
       "1        INSTITUT TEKNOLOGI BANDUNG   \n",
       "2        INSTITUT TEKNOLOGI BANDUNG   \n",
       "3        INSTITUT TEKNOLOGI BANDUNG   \n",
       "4        INSTITUT TEKNOLOGI BANDUNG   \n",
       "...                             ...   \n",
       "86223  UNIVERSITAS NEGERI GORONTALO   \n",
       "86224    UNIVERSITAS BORNEO TARAKAN   \n",
       "86225       UNIVERSITAS SYIAH KUALA   \n",
       "86226      UNIVERSITAS PALANGKARAYA   \n",
       "86227      UNIVERSITAS NUSA CENDANA   \n",
       "\n",
       "                                      first_major  first_capacity  \\\n",
       "0      SEKOLAH ILMU & TEKNO. HAYATI - PROG. SAINS              25   \n",
       "1      SEKOLAH ILMU & TEKNO. HAYATI - PROG. SAINS              25   \n",
       "2      SEKOLAH ILMU & TEKNO. HAYATI - PROG. SAINS              25   \n",
       "3      SEKOLAH ILMU & TEKNO. HAYATI - PROG. SAINS              25   \n",
       "4      SEKOLAH ILMU & TEKNO. HAYATI - PROG. SAINS              25   \n",
       "...                                           ...             ...   \n",
       "86223                         PENDIDIKAN GEOGRAFI              21   \n",
       "86224                                  AKUAKULTUR              19   \n",
       "86225             AGROTEKNOLOGI (PSDKU GAYO LUES)               8   \n",
       "86226                                       KIMIA              12   \n",
       "86227                                 PEND. KIMIA              27   \n",
       "\n",
       "                        second_univ                      second_major  \\\n",
       "0           UNIVERSITAS PADJADJARAN                         PSIKOLOGI   \n",
       "1           UNIVERSITAS PADJADJARAN                         PSIKOLOGI   \n",
       "2           UNIVERSITAS PADJADJARAN                         PSIKOLOGI   \n",
       "3           UNIVERSITAS PADJADJARAN                         PSIKOLOGI   \n",
       "4           UNIVERSITAS PADJADJARAN                         PSIKOLOGI   \n",
       "...                             ...                               ...   \n",
       "86223  UNIVERSITAS NEGERI GORONTALO  PENDIDIKAN ILMU PENGETAHUAN ALAM   \n",
       "86224    UNIVERSITAS BORNEO TARAKAN                        AGRIBISNIS   \n",
       "86225       UNIVERSITAS SYIAH KUALA       KEHUTANAN (PSDKU GAYO LUES)   \n",
       "86226      UNIVERSITAS PALANGKARAYA                            FISIKA   \n",
       "86227      UNIVERSITAS NUSA CENDANA              PEND. TEKNIK ELEKTRO   \n",
       "\n",
       "       second_capacity  \n",
       "0                   32  \n",
       "1                   32  \n",
       "2                   32  \n",
       "3                   32  \n",
       "4                   32  \n",
       "...                ...  \n",
       "86223               10  \n",
       "86224               19  \n",
       "86225                6  \n",
       "86226               12  \n",
       "86227               14  \n",
       "\n",
       "[86228 rows x 17 columns]"
      ]
     },
     "execution_count": 15,
     "metadata": {},
     "output_type": "execute_result"
    }
   ],
   "source": [
    "df_science"
   ]
  },
  {
   "cell_type": "code",
   "execution_count": 16,
   "metadata": {},
   "outputs": [
    {
     "data": {
      "text/html": [
       "<div>\n",
       "<style scoped>\n",
       "    .dataframe tbody tr th:only-of-type {\n",
       "        vertical-align: middle;\n",
       "    }\n",
       "\n",
       "    .dataframe tbody tr th {\n",
       "        vertical-align: top;\n",
       "    }\n",
       "\n",
       "    .dataframe thead th {\n",
       "        text-align: right;\n",
       "    }\n",
       "</style>\n",
       "<table border=\"1\" class=\"dataframe\">\n",
       "  <thead>\n",
       "    <tr style=\"text-align: right;\">\n",
       "      <th></th>\n",
       "      <th>score_bio</th>\n",
       "      <th>score_fis</th>\n",
       "      <th>score_kim</th>\n",
       "      <th>score_mat</th>\n",
       "      <th>score_kmb</th>\n",
       "      <th>score_kpu</th>\n",
       "      <th>score_kua</th>\n",
       "      <th>score_ppu</th>\n",
       "      <th>specialized_score</th>\n",
       "      <th>general_score</th>\n",
       "      <th>average_score</th>\n",
       "      <th>first_univ</th>\n",
       "      <th>first_major</th>\n",
       "      <th>first_capacity</th>\n",
       "    </tr>\n",
       "  </thead>\n",
       "  <tbody>\n",
       "    <tr>\n",
       "      <th>89</th>\n",
       "      <td>721</td>\n",
       "      <td>559</td>\n",
       "      <td>548</td>\n",
       "      <td>524</td>\n",
       "      <td>635</td>\n",
       "      <td>614</td>\n",
       "      <td>630</td>\n",
       "      <td>588</td>\n",
       "      <td>588.00</td>\n",
       "      <td>616.75</td>\n",
       "      <td>602.375</td>\n",
       "      <td>UNIVERSITAS BRAWIJAYA</td>\n",
       "      <td>TEKNIK KOMPUTER</td>\n",
       "      <td>25</td>\n",
       "    </tr>\n",
       "    <tr>\n",
       "      <th>91</th>\n",
       "      <td>497</td>\n",
       "      <td>543</td>\n",
       "      <td>470</td>\n",
       "      <td>515</td>\n",
       "      <td>625</td>\n",
       "      <td>562</td>\n",
       "      <td>635</td>\n",
       "      <td>587</td>\n",
       "      <td>506.25</td>\n",
       "      <td>602.25</td>\n",
       "      <td>554.250</td>\n",
       "      <td>UNIVERSITAS BRAWIJAYA</td>\n",
       "      <td>PENDIDIKAN DOKTER</td>\n",
       "      <td>40</td>\n",
       "    </tr>\n",
       "    <tr>\n",
       "      <th>92</th>\n",
       "      <td>585</td>\n",
       "      <td>625</td>\n",
       "      <td>625</td>\n",
       "      <td>389</td>\n",
       "      <td>670</td>\n",
       "      <td>559</td>\n",
       "      <td>570</td>\n",
       "      <td>405</td>\n",
       "      <td>556.00</td>\n",
       "      <td>551.00</td>\n",
       "      <td>553.500</td>\n",
       "      <td>UNIVERSITAS BRAWIJAYA</td>\n",
       "      <td>PENDIDIKAN DOKTER</td>\n",
       "      <td>40</td>\n",
       "    </tr>\n",
       "    <tr>\n",
       "      <th>93</th>\n",
       "      <td>755</td>\n",
       "      <td>756</td>\n",
       "      <td>650</td>\n",
       "      <td>488</td>\n",
       "      <td>741</td>\n",
       "      <td>592</td>\n",
       "      <td>743</td>\n",
       "      <td>522</td>\n",
       "      <td>662.25</td>\n",
       "      <td>649.50</td>\n",
       "      <td>655.875</td>\n",
       "      <td>UNIVERSITAS BRAWIJAYA</td>\n",
       "      <td>PENDIDIKAN DOKTER</td>\n",
       "      <td>40</td>\n",
       "    </tr>\n",
       "    <tr>\n",
       "      <th>94</th>\n",
       "      <td>652</td>\n",
       "      <td>588</td>\n",
       "      <td>444</td>\n",
       "      <td>587</td>\n",
       "      <td>815</td>\n",
       "      <td>633</td>\n",
       "      <td>720</td>\n",
       "      <td>454</td>\n",
       "      <td>567.75</td>\n",
       "      <td>655.50</td>\n",
       "      <td>611.625</td>\n",
       "      <td>UNIVERSITAS BRAWIJAYA</td>\n",
       "      <td>PENDIDIKAN DOKTER</td>\n",
       "      <td>40</td>\n",
       "    </tr>\n",
       "    <tr>\n",
       "      <th>...</th>\n",
       "      <td>...</td>\n",
       "      <td>...</td>\n",
       "      <td>...</td>\n",
       "      <td>...</td>\n",
       "      <td>...</td>\n",
       "      <td>...</td>\n",
       "      <td>...</td>\n",
       "      <td>...</td>\n",
       "      <td>...</td>\n",
       "      <td>...</td>\n",
       "      <td>...</td>\n",
       "      <td>...</td>\n",
       "      <td>...</td>\n",
       "      <td>...</td>\n",
       "    </tr>\n",
       "    <tr>\n",
       "      <th>85534</th>\n",
       "      <td>541</td>\n",
       "      <td>475</td>\n",
       "      <td>480</td>\n",
       "      <td>557</td>\n",
       "      <td>506</td>\n",
       "      <td>530</td>\n",
       "      <td>388</td>\n",
       "      <td>456</td>\n",
       "      <td>513.25</td>\n",
       "      <td>470.00</td>\n",
       "      <td>491.625</td>\n",
       "      <td>UNIVERSITAS BRAWIJAYA</td>\n",
       "      <td>AKUAKULTUR (PSDKU KEDIRI)</td>\n",
       "      <td>8</td>\n",
       "    </tr>\n",
       "    <tr>\n",
       "      <th>85579</th>\n",
       "      <td>544</td>\n",
       "      <td>614</td>\n",
       "      <td>392</td>\n",
       "      <td>368</td>\n",
       "      <td>463</td>\n",
       "      <td>587</td>\n",
       "      <td>676</td>\n",
       "      <td>550</td>\n",
       "      <td>479.50</td>\n",
       "      <td>569.00</td>\n",
       "      <td>524.250</td>\n",
       "      <td>UNIVERSITAS BRAWIJAYA</td>\n",
       "      <td>TEKNIK PENGAIRAN</td>\n",
       "      <td>28</td>\n",
       "    </tr>\n",
       "    <tr>\n",
       "      <th>85675</th>\n",
       "      <td>290</td>\n",
       "      <td>430</td>\n",
       "      <td>426</td>\n",
       "      <td>609</td>\n",
       "      <td>435</td>\n",
       "      <td>479</td>\n",
       "      <td>474</td>\n",
       "      <td>449</td>\n",
       "      <td>438.75</td>\n",
       "      <td>459.25</td>\n",
       "      <td>449.000</td>\n",
       "      <td>UNIVERSITAS BRAWIJAYA</td>\n",
       "      <td>AGROEKOTEKNOLOGI (PSDKU KEDIRI)</td>\n",
       "      <td>8</td>\n",
       "    </tr>\n",
       "    <tr>\n",
       "      <th>85848</th>\n",
       "      <td>647</td>\n",
       "      <td>649</td>\n",
       "      <td>689</td>\n",
       "      <td>511</td>\n",
       "      <td>586</td>\n",
       "      <td>539</td>\n",
       "      <td>681</td>\n",
       "      <td>530</td>\n",
       "      <td>624.00</td>\n",
       "      <td>584.00</td>\n",
       "      <td>604.000</td>\n",
       "      <td>UNIVERSITAS BRAWIJAYA</td>\n",
       "      <td>FISIKA</td>\n",
       "      <td>19</td>\n",
       "    </tr>\n",
       "    <tr>\n",
       "      <th>85884</th>\n",
       "      <td>459</td>\n",
       "      <td>394</td>\n",
       "      <td>346</td>\n",
       "      <td>492</td>\n",
       "      <td>556</td>\n",
       "      <td>562</td>\n",
       "      <td>588</td>\n",
       "      <td>696</td>\n",
       "      <td>422.75</td>\n",
       "      <td>600.50</td>\n",
       "      <td>511.625</td>\n",
       "      <td>UNIVERSITAS BRAWIJAYA</td>\n",
       "      <td>TEKNIK GEOFISIKA</td>\n",
       "      <td>14</td>\n",
       "    </tr>\n",
       "  </tbody>\n",
       "</table>\n",
       "<p>6187 rows × 14 columns</p>\n",
       "</div>"
      ],
      "text/plain": [
       "       score_bio  score_fis  score_kim  score_mat  score_kmb  score_kpu  \\\n",
       "89           721        559        548        524        635        614   \n",
       "91           497        543        470        515        625        562   \n",
       "92           585        625        625        389        670        559   \n",
       "93           755        756        650        488        741        592   \n",
       "94           652        588        444        587        815        633   \n",
       "...          ...        ...        ...        ...        ...        ...   \n",
       "85534        541        475        480        557        506        530   \n",
       "85579        544        614        392        368        463        587   \n",
       "85675        290        430        426        609        435        479   \n",
       "85848        647        649        689        511        586        539   \n",
       "85884        459        394        346        492        556        562   \n",
       "\n",
       "       score_kua  score_ppu  specialized_score  general_score  average_score  \\\n",
       "89           630        588             588.00         616.75        602.375   \n",
       "91           635        587             506.25         602.25        554.250   \n",
       "92           570        405             556.00         551.00        553.500   \n",
       "93           743        522             662.25         649.50        655.875   \n",
       "94           720        454             567.75         655.50        611.625   \n",
       "...          ...        ...                ...            ...            ...   \n",
       "85534        388        456             513.25         470.00        491.625   \n",
       "85579        676        550             479.50         569.00        524.250   \n",
       "85675        474        449             438.75         459.25        449.000   \n",
       "85848        681        530             624.00         584.00        604.000   \n",
       "85884        588        696             422.75         600.50        511.625   \n",
       "\n",
       "                  first_univ                      first_major  first_capacity  \n",
       "89     UNIVERSITAS BRAWIJAYA                  TEKNIK KOMPUTER              25  \n",
       "91     UNIVERSITAS BRAWIJAYA                PENDIDIKAN DOKTER              40  \n",
       "92     UNIVERSITAS BRAWIJAYA                PENDIDIKAN DOKTER              40  \n",
       "93     UNIVERSITAS BRAWIJAYA                PENDIDIKAN DOKTER              40  \n",
       "94     UNIVERSITAS BRAWIJAYA                PENDIDIKAN DOKTER              40  \n",
       "...                      ...                              ...             ...  \n",
       "85534  UNIVERSITAS BRAWIJAYA       AKUAKULTUR (PSDKU KEDIRI)                8  \n",
       "85579  UNIVERSITAS BRAWIJAYA                 TEKNIK PENGAIRAN              28  \n",
       "85675  UNIVERSITAS BRAWIJAYA  AGROEKOTEKNOLOGI (PSDKU KEDIRI)               8  \n",
       "85848  UNIVERSITAS BRAWIJAYA                           FISIKA              19  \n",
       "85884  UNIVERSITAS BRAWIJAYA                 TEKNIK GEOFISIKA              14  \n",
       "\n",
       "[6187 rows x 14 columns]"
      ]
     },
     "execution_count": 16,
     "metadata": {},
     "output_type": "execute_result"
    }
   ],
   "source": [
    "df_univ_braw = df_science.loc[(df_science['first_univ']=='UNIVERSITAS BRAWIJAYA')].drop(['second_univ',\t'second_major'\t,'second_capacity'],axis=1)\n",
    "df_univ_braw"
   ]
  },
  {
   "cell_type": "code",
   "execution_count": 17,
   "metadata": {},
   "outputs": [
    {
     "data": {
      "text/html": [
       "<div>\n",
       "<style scoped>\n",
       "    .dataframe tbody tr th:only-of-type {\n",
       "        vertical-align: middle;\n",
       "    }\n",
       "\n",
       "    .dataframe tbody tr th {\n",
       "        vertical-align: top;\n",
       "    }\n",
       "\n",
       "    .dataframe thead th {\n",
       "        text-align: right;\n",
       "    }\n",
       "</style>\n",
       "<table border=\"1\" class=\"dataframe\">\n",
       "  <thead>\n",
       "    <tr style=\"text-align: right;\">\n",
       "      <th></th>\n",
       "      <th>first_major</th>\n",
       "      <th>Total choices</th>\n",
       "      <th>Capacity</th>\n",
       "    </tr>\n",
       "  </thead>\n",
       "  <tbody>\n",
       "    <tr>\n",
       "      <th>0</th>\n",
       "      <td>SOSIAL EKONOMI PERIKANAN (PSDKU KEDIRI)</td>\n",
       "      <td>20</td>\n",
       "      <td>8.0</td>\n",
       "    </tr>\n",
       "    <tr>\n",
       "      <th>1</th>\n",
       "      <td>PETERNAKAN (PSDKU KEDIRI)</td>\n",
       "      <td>20</td>\n",
       "      <td>6.0</td>\n",
       "    </tr>\n",
       "    <tr>\n",
       "      <th>2</th>\n",
       "      <td>AKUAKULTUR (PSDKU KEDIRI)</td>\n",
       "      <td>32</td>\n",
       "      <td>8.0</td>\n",
       "    </tr>\n",
       "    <tr>\n",
       "      <th>3</th>\n",
       "      <td>AGRIBISNIS (PSDKU KEDIRI)</td>\n",
       "      <td>35</td>\n",
       "      <td>8.0</td>\n",
       "    </tr>\n",
       "    <tr>\n",
       "      <th>4</th>\n",
       "      <td>AGROEKOTEKNOLOGI (PSDKU KEDIRI)</td>\n",
       "      <td>36</td>\n",
       "      <td>8.0</td>\n",
       "    </tr>\n",
       "  </tbody>\n",
       "</table>\n",
       "</div>"
      ],
      "text/plain": [
       "                               first_major  Total choices  Capacity\n",
       "0  SOSIAL EKONOMI PERIKANAN (PSDKU KEDIRI)             20       8.0\n",
       "1                PETERNAKAN (PSDKU KEDIRI)             20       6.0\n",
       "2               AKUAKULTUR (PSDKU KEDIRI)              32       8.0\n",
       "3                AGRIBISNIS (PSDKU KEDIRI)             35       8.0\n",
       "4          AGROEKOTEKNOLOGI (PSDKU KEDIRI)             36       8.0"
      ]
     },
     "execution_count": 17,
     "metadata": {},
     "output_type": "execute_result"
    }
   ],
   "source": [
    "a = df_univ_braw.groupby('first_major').agg({'first_univ':'count','first_capacity':'mean'}).sort_values('first_univ',ascending=True).reset_index().rename(columns={'first_univ':'Total choices','first_capacity':'Capacity'})\n",
    "a.head()"
   ]
  },
  {
   "cell_type": "code",
   "execution_count": 18,
   "metadata": {},
   "outputs": [
    {
     "data": {
      "application/vnd.plotly.v1+json": {
       "config": {
        "plotlyServerURL": "https://plot.ly"
       },
       "data": [
        {
         "alignmentgroup": "True",
         "cliponaxis": false,
         "hovertemplate": "variable=Capacity<br>value=%{x}<br>first_major=%{y}<extra></extra>",
         "legendgroup": "Capacity",
         "marker": {
          "color": "#636efa",
          "pattern": {
           "shape": "x"
          }
         },
         "name": "Capacity",
         "offsetgroup": "Capacity",
         "orientation": "h",
         "showlegend": true,
         "textangle": 0,
         "textfont": {
          "size": 36
         },
         "textposition": "outside",
         "texttemplate": "%{x}",
         "type": "bar",
         "x": [
          8,
          6,
          8,
          8,
          8,
          12,
          20,
          14,
          14,
          14,
          19,
          28,
          12,
          28,
          28,
          28,
          17,
          20,
          25,
          28,
          22,
          28,
          32,
          28,
          32,
          32,
          28,
          32,
          24,
          32,
          40,
          20,
          19,
          16,
          25,
          27,
          32,
          19,
          28,
          67,
          28,
          32,
          28,
          38,
          105,
          124,
          40
         ],
         "xaxis": "x",
         "y": [
          "SOSIAL EKONOMI PERIKANAN (PSDKU KEDIRI)",
          "PETERNAKAN (PSDKU KEDIRI)",
          "AKUAKULTUR (PSDKU KEDIRI) ",
          "AGRIBISNIS (PSDKU KEDIRI)",
          "AGROEKOTEKNOLOGI (PSDKU KEDIRI)",
          "PENDIDIKAN TEKNOLOGI INFORMASI",
          "KETEKNIKAN PERTANIAN",
          "TEKNIK GEOFISIKA",
          "TEKNOLOGI BIOPROSES",
          "INSTRUMENTASI",
          "FISIKA",
          "TEKNOLOGI HASIL PERIKANAN",
          "TEKNOLOGI INFORMASI",
          "PEMANFAATAN SUMBERDAYA PERIKANAN",
          "AGROBISNIS PERIKANAN",
          "BUDIDAYA PERAIRAN",
          "KEBIDANAN",
          "BIOTEKNOLOGI",
          "TEKNIK KOMPUTER",
          "MANAJEMEN SUMBERDAYA PERAIRAN",
          "ILMU KEPERAWATAN",
          "BIOLOGI",
          "KIMIA",
          "ILMU KELAUTAN",
          "PENDIDIKAN DOKTER HEWAN",
          "MATEMATIKA",
          "TEKNIK PENGAIRAN",
          "TEKNIK ELEKTRO",
          "TEKNIK KIMIA",
          "TEKNIK MESIN",
          "TEKNOLOGI INDUSTRI PERTANIAN",
          "TEKNIK LINGKUNGAN",
          "FARMASI",
          "PENDIDIKAN DOKTER GIGI",
          "SISTEM INFORMASI",
          "ILMU DAN TEKNOLOGI PANGAN",
          "STATISTIKA",
          "GIZI KESEHATAN / ILMU GIZI",
          "ARSITEKTUR",
          "AGRIBISNIS",
          "PERENCANAAN WILAYAH & KOTA",
          "TEKNIK INDUSTRI",
          "TEKNIK SIPIL",
          "TEKNIK INFORMATIKA",
          "PETERNAKAN",
          "AGROEKOTEKNOLOGI",
          "PENDIDIKAN DOKTER"
         ],
         "yaxis": "y"
        },
        {
         "alignmentgroup": "True",
         "cliponaxis": false,
         "hovertemplate": "variable=Total choices<br>value=%{x}<br>first_major=%{y}<extra></extra>",
         "legendgroup": "Total choices",
         "marker": {
          "color": "#EF553B",
          "pattern": {
           "shape": "x"
          }
         },
         "name": "Total choices",
         "offsetgroup": "Total choices",
         "orientation": "h",
         "showlegend": true,
         "textangle": 0,
         "textfont": {
          "size": 36
         },
         "textposition": "outside",
         "texttemplate": "%{x}",
         "type": "bar",
         "x": [
          20,
          20,
          32,
          35,
          36,
          36,
          54,
          58,
          58,
          62,
          62,
          67,
          77,
          80,
          84,
          84,
          88,
          92,
          93,
          94,
          94,
          102,
          106,
          109,
          115,
          118,
          119,
          128,
          128,
          134,
          142,
          156,
          165,
          166,
          178,
          193,
          194,
          209,
          211,
          223,
          223,
          230,
          248,
          253,
          275,
          368,
          368
         ],
         "xaxis": "x",
         "y": [
          "SOSIAL EKONOMI PERIKANAN (PSDKU KEDIRI)",
          "PETERNAKAN (PSDKU KEDIRI)",
          "AKUAKULTUR (PSDKU KEDIRI) ",
          "AGRIBISNIS (PSDKU KEDIRI)",
          "AGROEKOTEKNOLOGI (PSDKU KEDIRI)",
          "PENDIDIKAN TEKNOLOGI INFORMASI",
          "KETEKNIKAN PERTANIAN",
          "TEKNIK GEOFISIKA",
          "TEKNOLOGI BIOPROSES",
          "INSTRUMENTASI",
          "FISIKA",
          "TEKNOLOGI HASIL PERIKANAN",
          "TEKNOLOGI INFORMASI",
          "PEMANFAATAN SUMBERDAYA PERIKANAN",
          "AGROBISNIS PERIKANAN",
          "BUDIDAYA PERAIRAN",
          "KEBIDANAN",
          "BIOTEKNOLOGI",
          "TEKNIK KOMPUTER",
          "MANAJEMEN SUMBERDAYA PERAIRAN",
          "ILMU KEPERAWATAN",
          "BIOLOGI",
          "KIMIA",
          "ILMU KELAUTAN",
          "PENDIDIKAN DOKTER HEWAN",
          "MATEMATIKA",
          "TEKNIK PENGAIRAN",
          "TEKNIK ELEKTRO",
          "TEKNIK KIMIA",
          "TEKNIK MESIN",
          "TEKNOLOGI INDUSTRI PERTANIAN",
          "TEKNIK LINGKUNGAN",
          "FARMASI",
          "PENDIDIKAN DOKTER GIGI",
          "SISTEM INFORMASI",
          "ILMU DAN TEKNOLOGI PANGAN",
          "STATISTIKA",
          "GIZI KESEHATAN / ILMU GIZI",
          "ARSITEKTUR",
          "AGRIBISNIS",
          "PERENCANAAN WILAYAH & KOTA",
          "TEKNIK INDUSTRI",
          "TEKNIK SIPIL",
          "TEKNIK INFORMATIKA",
          "PETERNAKAN",
          "AGROEKOTEKNOLOGI",
          "PENDIDIKAN DOKTER"
         ],
         "yaxis": "y"
        }
       ],
       "layout": {
        "barmode": "group",
        "height": 1400,
        "legend": {
         "title": {
          "text": "variable"
         },
         "tracegroupgap": 0
        },
        "margin": {
         "t": 60
        },
        "template": {
         "data": {
          "bar": [
           {
            "error_x": {
             "color": "#2a3f5f"
            },
            "error_y": {
             "color": "#2a3f5f"
            },
            "marker": {
             "line": {
              "color": "#E5ECF6",
              "width": 0.5
             },
             "pattern": {
              "fillmode": "overlay",
              "size": 10,
              "solidity": 0.2
             }
            },
            "type": "bar"
           }
          ],
          "barpolar": [
           {
            "marker": {
             "line": {
              "color": "#E5ECF6",
              "width": 0.5
             },
             "pattern": {
              "fillmode": "overlay",
              "size": 10,
              "solidity": 0.2
             }
            },
            "type": "barpolar"
           }
          ],
          "carpet": [
           {
            "aaxis": {
             "endlinecolor": "#2a3f5f",
             "gridcolor": "white",
             "linecolor": "white",
             "minorgridcolor": "white",
             "startlinecolor": "#2a3f5f"
            },
            "baxis": {
             "endlinecolor": "#2a3f5f",
             "gridcolor": "white",
             "linecolor": "white",
             "minorgridcolor": "white",
             "startlinecolor": "#2a3f5f"
            },
            "type": "carpet"
           }
          ],
          "choropleth": [
           {
            "colorbar": {
             "outlinewidth": 0,
             "ticks": ""
            },
            "type": "choropleth"
           }
          ],
          "contour": [
           {
            "colorbar": {
             "outlinewidth": 0,
             "ticks": ""
            },
            "colorscale": [
             [
              0,
              "#0d0887"
             ],
             [
              0.1111111111111111,
              "#46039f"
             ],
             [
              0.2222222222222222,
              "#7201a8"
             ],
             [
              0.3333333333333333,
              "#9c179e"
             ],
             [
              0.4444444444444444,
              "#bd3786"
             ],
             [
              0.5555555555555556,
              "#d8576b"
             ],
             [
              0.6666666666666666,
              "#ed7953"
             ],
             [
              0.7777777777777778,
              "#fb9f3a"
             ],
             [
              0.8888888888888888,
              "#fdca26"
             ],
             [
              1,
              "#f0f921"
             ]
            ],
            "type": "contour"
           }
          ],
          "contourcarpet": [
           {
            "colorbar": {
             "outlinewidth": 0,
             "ticks": ""
            },
            "type": "contourcarpet"
           }
          ],
          "heatmap": [
           {
            "colorbar": {
             "outlinewidth": 0,
             "ticks": ""
            },
            "colorscale": [
             [
              0,
              "#0d0887"
             ],
             [
              0.1111111111111111,
              "#46039f"
             ],
             [
              0.2222222222222222,
              "#7201a8"
             ],
             [
              0.3333333333333333,
              "#9c179e"
             ],
             [
              0.4444444444444444,
              "#bd3786"
             ],
             [
              0.5555555555555556,
              "#d8576b"
             ],
             [
              0.6666666666666666,
              "#ed7953"
             ],
             [
              0.7777777777777778,
              "#fb9f3a"
             ],
             [
              0.8888888888888888,
              "#fdca26"
             ],
             [
              1,
              "#f0f921"
             ]
            ],
            "type": "heatmap"
           }
          ],
          "heatmapgl": [
           {
            "colorbar": {
             "outlinewidth": 0,
             "ticks": ""
            },
            "colorscale": [
             [
              0,
              "#0d0887"
             ],
             [
              0.1111111111111111,
              "#46039f"
             ],
             [
              0.2222222222222222,
              "#7201a8"
             ],
             [
              0.3333333333333333,
              "#9c179e"
             ],
             [
              0.4444444444444444,
              "#bd3786"
             ],
             [
              0.5555555555555556,
              "#d8576b"
             ],
             [
              0.6666666666666666,
              "#ed7953"
             ],
             [
              0.7777777777777778,
              "#fb9f3a"
             ],
             [
              0.8888888888888888,
              "#fdca26"
             ],
             [
              1,
              "#f0f921"
             ]
            ],
            "type": "heatmapgl"
           }
          ],
          "histogram": [
           {
            "marker": {
             "pattern": {
              "fillmode": "overlay",
              "size": 10,
              "solidity": 0.2
             }
            },
            "type": "histogram"
           }
          ],
          "histogram2d": [
           {
            "colorbar": {
             "outlinewidth": 0,
             "ticks": ""
            },
            "colorscale": [
             [
              0,
              "#0d0887"
             ],
             [
              0.1111111111111111,
              "#46039f"
             ],
             [
              0.2222222222222222,
              "#7201a8"
             ],
             [
              0.3333333333333333,
              "#9c179e"
             ],
             [
              0.4444444444444444,
              "#bd3786"
             ],
             [
              0.5555555555555556,
              "#d8576b"
             ],
             [
              0.6666666666666666,
              "#ed7953"
             ],
             [
              0.7777777777777778,
              "#fb9f3a"
             ],
             [
              0.8888888888888888,
              "#fdca26"
             ],
             [
              1,
              "#f0f921"
             ]
            ],
            "type": "histogram2d"
           }
          ],
          "histogram2dcontour": [
           {
            "colorbar": {
             "outlinewidth": 0,
             "ticks": ""
            },
            "colorscale": [
             [
              0,
              "#0d0887"
             ],
             [
              0.1111111111111111,
              "#46039f"
             ],
             [
              0.2222222222222222,
              "#7201a8"
             ],
             [
              0.3333333333333333,
              "#9c179e"
             ],
             [
              0.4444444444444444,
              "#bd3786"
             ],
             [
              0.5555555555555556,
              "#d8576b"
             ],
             [
              0.6666666666666666,
              "#ed7953"
             ],
             [
              0.7777777777777778,
              "#fb9f3a"
             ],
             [
              0.8888888888888888,
              "#fdca26"
             ],
             [
              1,
              "#f0f921"
             ]
            ],
            "type": "histogram2dcontour"
           }
          ],
          "mesh3d": [
           {
            "colorbar": {
             "outlinewidth": 0,
             "ticks": ""
            },
            "type": "mesh3d"
           }
          ],
          "parcoords": [
           {
            "line": {
             "colorbar": {
              "outlinewidth": 0,
              "ticks": ""
             }
            },
            "type": "parcoords"
           }
          ],
          "pie": [
           {
            "automargin": true,
            "type": "pie"
           }
          ],
          "scatter": [
           {
            "marker": {
             "colorbar": {
              "outlinewidth": 0,
              "ticks": ""
             }
            },
            "type": "scatter"
           }
          ],
          "scatter3d": [
           {
            "line": {
             "colorbar": {
              "outlinewidth": 0,
              "ticks": ""
             }
            },
            "marker": {
             "colorbar": {
              "outlinewidth": 0,
              "ticks": ""
             }
            },
            "type": "scatter3d"
           }
          ],
          "scattercarpet": [
           {
            "marker": {
             "colorbar": {
              "outlinewidth": 0,
              "ticks": ""
             }
            },
            "type": "scattercarpet"
           }
          ],
          "scattergeo": [
           {
            "marker": {
             "colorbar": {
              "outlinewidth": 0,
              "ticks": ""
             }
            },
            "type": "scattergeo"
           }
          ],
          "scattergl": [
           {
            "marker": {
             "colorbar": {
              "outlinewidth": 0,
              "ticks": ""
             }
            },
            "type": "scattergl"
           }
          ],
          "scattermapbox": [
           {
            "marker": {
             "colorbar": {
              "outlinewidth": 0,
              "ticks": ""
             }
            },
            "type": "scattermapbox"
           }
          ],
          "scatterpolar": [
           {
            "marker": {
             "colorbar": {
              "outlinewidth": 0,
              "ticks": ""
             }
            },
            "type": "scatterpolar"
           }
          ],
          "scatterpolargl": [
           {
            "marker": {
             "colorbar": {
              "outlinewidth": 0,
              "ticks": ""
             }
            },
            "type": "scatterpolargl"
           }
          ],
          "scatterternary": [
           {
            "marker": {
             "colorbar": {
              "outlinewidth": 0,
              "ticks": ""
             }
            },
            "type": "scatterternary"
           }
          ],
          "surface": [
           {
            "colorbar": {
             "outlinewidth": 0,
             "ticks": ""
            },
            "colorscale": [
             [
              0,
              "#0d0887"
             ],
             [
              0.1111111111111111,
              "#46039f"
             ],
             [
              0.2222222222222222,
              "#7201a8"
             ],
             [
              0.3333333333333333,
              "#9c179e"
             ],
             [
              0.4444444444444444,
              "#bd3786"
             ],
             [
              0.5555555555555556,
              "#d8576b"
             ],
             [
              0.6666666666666666,
              "#ed7953"
             ],
             [
              0.7777777777777778,
              "#fb9f3a"
             ],
             [
              0.8888888888888888,
              "#fdca26"
             ],
             [
              1,
              "#f0f921"
             ]
            ],
            "type": "surface"
           }
          ],
          "table": [
           {
            "cells": {
             "fill": {
              "color": "#EBF0F8"
             },
             "line": {
              "color": "white"
             }
            },
            "header": {
             "fill": {
              "color": "#C8D4E3"
             },
             "line": {
              "color": "white"
             }
            },
            "type": "table"
           }
          ]
         },
         "layout": {
          "annotationdefaults": {
           "arrowcolor": "#2a3f5f",
           "arrowhead": 0,
           "arrowwidth": 1
          },
          "autotypenumbers": "strict",
          "coloraxis": {
           "colorbar": {
            "outlinewidth": 0,
            "ticks": ""
           }
          },
          "colorscale": {
           "diverging": [
            [
             0,
             "#8e0152"
            ],
            [
             0.1,
             "#c51b7d"
            ],
            [
             0.2,
             "#de77ae"
            ],
            [
             0.3,
             "#f1b6da"
            ],
            [
             0.4,
             "#fde0ef"
            ],
            [
             0.5,
             "#f7f7f7"
            ],
            [
             0.6,
             "#e6f5d0"
            ],
            [
             0.7,
             "#b8e186"
            ],
            [
             0.8,
             "#7fbc41"
            ],
            [
             0.9,
             "#4d9221"
            ],
            [
             1,
             "#276419"
            ]
           ],
           "sequential": [
            [
             0,
             "#0d0887"
            ],
            [
             0.1111111111111111,
             "#46039f"
            ],
            [
             0.2222222222222222,
             "#7201a8"
            ],
            [
             0.3333333333333333,
             "#9c179e"
            ],
            [
             0.4444444444444444,
             "#bd3786"
            ],
            [
             0.5555555555555556,
             "#d8576b"
            ],
            [
             0.6666666666666666,
             "#ed7953"
            ],
            [
             0.7777777777777778,
             "#fb9f3a"
            ],
            [
             0.8888888888888888,
             "#fdca26"
            ],
            [
             1,
             "#f0f921"
            ]
           ],
           "sequentialminus": [
            [
             0,
             "#0d0887"
            ],
            [
             0.1111111111111111,
             "#46039f"
            ],
            [
             0.2222222222222222,
             "#7201a8"
            ],
            [
             0.3333333333333333,
             "#9c179e"
            ],
            [
             0.4444444444444444,
             "#bd3786"
            ],
            [
             0.5555555555555556,
             "#d8576b"
            ],
            [
             0.6666666666666666,
             "#ed7953"
            ],
            [
             0.7777777777777778,
             "#fb9f3a"
            ],
            [
             0.8888888888888888,
             "#fdca26"
            ],
            [
             1,
             "#f0f921"
            ]
           ]
          },
          "colorway": [
           "#636efa",
           "#EF553B",
           "#00cc96",
           "#ab63fa",
           "#FFA15A",
           "#19d3f3",
           "#FF6692",
           "#B6E880",
           "#FF97FF",
           "#FECB52"
          ],
          "font": {
           "color": "#2a3f5f"
          },
          "geo": {
           "bgcolor": "white",
           "lakecolor": "white",
           "landcolor": "#E5ECF6",
           "showlakes": true,
           "showland": true,
           "subunitcolor": "white"
          },
          "hoverlabel": {
           "align": "left"
          },
          "hovermode": "closest",
          "mapbox": {
           "style": "light"
          },
          "paper_bgcolor": "white",
          "plot_bgcolor": "#E5ECF6",
          "polar": {
           "angularaxis": {
            "gridcolor": "white",
            "linecolor": "white",
            "ticks": ""
           },
           "bgcolor": "#E5ECF6",
           "radialaxis": {
            "gridcolor": "white",
            "linecolor": "white",
            "ticks": ""
           }
          },
          "scene": {
           "xaxis": {
            "backgroundcolor": "#E5ECF6",
            "gridcolor": "white",
            "gridwidth": 2,
            "linecolor": "white",
            "showbackground": true,
            "ticks": "",
            "zerolinecolor": "white"
           },
           "yaxis": {
            "backgroundcolor": "#E5ECF6",
            "gridcolor": "white",
            "gridwidth": 2,
            "linecolor": "white",
            "showbackground": true,
            "ticks": "",
            "zerolinecolor": "white"
           },
           "zaxis": {
            "backgroundcolor": "#E5ECF6",
            "gridcolor": "white",
            "gridwidth": 2,
            "linecolor": "white",
            "showbackground": true,
            "ticks": "",
            "zerolinecolor": "white"
           }
          },
          "shapedefaults": {
           "line": {
            "color": "#2a3f5f"
           }
          },
          "ternary": {
           "aaxis": {
            "gridcolor": "white",
            "linecolor": "white",
            "ticks": ""
           },
           "baxis": {
            "gridcolor": "white",
            "linecolor": "white",
            "ticks": ""
           },
           "bgcolor": "#E5ECF6",
           "caxis": {
            "gridcolor": "white",
            "linecolor": "white",
            "ticks": ""
           }
          },
          "title": {
           "x": 0.05
          },
          "xaxis": {
           "automargin": true,
           "gridcolor": "white",
           "linecolor": "white",
           "ticks": "",
           "title": {
            "standoff": 15
           },
           "zerolinecolor": "white",
           "zerolinewidth": 2
          },
          "yaxis": {
           "automargin": true,
           "gridcolor": "white",
           "linecolor": "white",
           "ticks": "",
           "title": {
            "standoff": 15
           },
           "zerolinecolor": "white",
           "zerolinewidth": 2
          }
         }
        },
        "title": {
         "text": "Science Major UB Top Choices 2019"
        },
        "xaxis": {
         "anchor": "y",
         "domain": [
          0,
          1
         ],
         "title": {
          "text": ""
         }
        },
        "yaxis": {
         "anchor": "x",
         "domain": [
          0,
          1
         ],
         "title": {
          "text": "Major"
         }
        }
       }
      }
     },
     "metadata": {},
     "output_type": "display_data"
    }
   ],
   "source": [
    "fig = px.bar(data_frame=a,y='first_major',x=['Capacity','Total choices'],barmode='group',height=1400,text_auto=True,pattern_shape_sequence=[\"x\"])\n",
    "fig.update_layout(title='Science Major UB Top Choices 2019',xaxis_title='',yaxis_title='Major')\n",
    "fig.update_traces(textfont_size=36, textangle=0, textposition=\"outside\", cliponaxis=False)"
   ]
  },
  {
   "cell_type": "code",
   "execution_count": 19,
   "metadata": {},
   "outputs": [
    {
     "data": {
      "text/plain": [
       "Index(['score_bio', 'score_fis', 'score_kim', 'score_mat', 'score_kmb',\n",
       "       'score_kpu', 'score_kua', 'score_ppu', 'specialized_score',\n",
       "       'general_score', 'average_score', 'first_univ', 'first_major',\n",
       "       'first_capacity'],\n",
       "      dtype='object')"
      ]
     },
     "execution_count": 19,
     "metadata": {},
     "output_type": "execute_result"
    }
   ],
   "source": [
    "df_univ_braw.columns"
   ]
  },
  {
   "cell_type": "code",
   "execution_count": 20,
   "metadata": {},
   "outputs": [],
   "source": [
    "def find_the_lowest_score(df):\n",
    "    df_out = pd.DataFrame()\n",
    "    for key,subdf in df.sort_values('average_score',ascending=False).groupby('first_major'):\n",
    "        capacity = subdf['first_capacity'].iloc[0]\n",
    "        data = subdf['average_score'].iloc[:capacity]\n",
    "        data_specialized_score = subdf['specialized_score'].iloc[:capacity]\n",
    "        data_general_score = subdf['general_score'].iloc[:capacity]\n",
    "        major = subdf['first_major'].iloc[:capacity]\n",
    "        data = pd.concat([data_general_score,data_specialized_score,data,major,],axis=1)\n",
    "        t = pd.DataFrame(data)\n",
    "        df_out = pd.concat([df_out,t],ignore_index=True)\n",
    "    return df_out"
   ]
  },
  {
   "cell_type": "code",
   "execution_count": 21,
   "metadata": {},
   "outputs": [
    {
     "data": {
      "text/html": [
       "<div>\n",
       "<style scoped>\n",
       "    .dataframe tbody tr th:only-of-type {\n",
       "        vertical-align: middle;\n",
       "    }\n",
       "\n",
       "    .dataframe tbody tr th {\n",
       "        vertical-align: top;\n",
       "    }\n",
       "\n",
       "    .dataframe thead th {\n",
       "        text-align: right;\n",
       "    }\n",
       "</style>\n",
       "<table border=\"1\" class=\"dataframe\">\n",
       "  <thead>\n",
       "    <tr style=\"text-align: right;\">\n",
       "      <th></th>\n",
       "      <th>general_score</th>\n",
       "      <th>specialized_score</th>\n",
       "      <th>average_score</th>\n",
       "      <th>first_major</th>\n",
       "    </tr>\n",
       "  </thead>\n",
       "  <tbody>\n",
       "    <tr>\n",
       "      <th>0</th>\n",
       "      <td>609.50</td>\n",
       "      <td>671.75</td>\n",
       "      <td>640.625</td>\n",
       "      <td>AGRIBISNIS</td>\n",
       "    </tr>\n",
       "    <tr>\n",
       "      <th>1</th>\n",
       "      <td>622.75</td>\n",
       "      <td>603.25</td>\n",
       "      <td>613.000</td>\n",
       "      <td>AGRIBISNIS</td>\n",
       "    </tr>\n",
       "    <tr>\n",
       "      <th>2</th>\n",
       "      <td>660.25</td>\n",
       "      <td>565.00</td>\n",
       "      <td>612.625</td>\n",
       "      <td>AGRIBISNIS</td>\n",
       "    </tr>\n",
       "    <tr>\n",
       "      <th>3</th>\n",
       "      <td>613.50</td>\n",
       "      <td>610.50</td>\n",
       "      <td>612.000</td>\n",
       "      <td>AGRIBISNIS</td>\n",
       "    </tr>\n",
       "    <tr>\n",
       "      <th>4</th>\n",
       "      <td>567.75</td>\n",
       "      <td>655.25</td>\n",
       "      <td>611.500</td>\n",
       "      <td>AGRIBISNIS</td>\n",
       "    </tr>\n",
       "    <tr>\n",
       "      <th>...</th>\n",
       "      <td>...</td>\n",
       "      <td>...</td>\n",
       "      <td>...</td>\n",
       "      <td>...</td>\n",
       "    </tr>\n",
       "    <tr>\n",
       "      <th>1318</th>\n",
       "      <td>678.75</td>\n",
       "      <td>540.00</td>\n",
       "      <td>609.375</td>\n",
       "      <td>TEKNOLOGI INFORMASI</td>\n",
       "    </tr>\n",
       "    <tr>\n",
       "      <th>1319</th>\n",
       "      <td>607.75</td>\n",
       "      <td>610.25</td>\n",
       "      <td>609.000</td>\n",
       "      <td>TEKNOLOGI INFORMASI</td>\n",
       "    </tr>\n",
       "    <tr>\n",
       "      <th>1320</th>\n",
       "      <td>611.75</td>\n",
       "      <td>600.00</td>\n",
       "      <td>605.875</td>\n",
       "      <td>TEKNOLOGI INFORMASI</td>\n",
       "    </tr>\n",
       "    <tr>\n",
       "      <th>1321</th>\n",
       "      <td>680.50</td>\n",
       "      <td>531.00</td>\n",
       "      <td>605.750</td>\n",
       "      <td>TEKNOLOGI INFORMASI</td>\n",
       "    </tr>\n",
       "    <tr>\n",
       "      <th>1322</th>\n",
       "      <td>595.75</td>\n",
       "      <td>615.50</td>\n",
       "      <td>605.625</td>\n",
       "      <td>TEKNOLOGI INFORMASI</td>\n",
       "    </tr>\n",
       "  </tbody>\n",
       "</table>\n",
       "<p>1323 rows × 4 columns</p>\n",
       "</div>"
      ],
      "text/plain": [
       "      general_score  specialized_score  average_score          first_major\n",
       "0            609.50             671.75        640.625           AGRIBISNIS\n",
       "1            622.75             603.25        613.000           AGRIBISNIS\n",
       "2            660.25             565.00        612.625           AGRIBISNIS\n",
       "3            613.50             610.50        612.000           AGRIBISNIS\n",
       "4            567.75             655.25        611.500           AGRIBISNIS\n",
       "...             ...                ...            ...                  ...\n",
       "1318         678.75             540.00        609.375  TEKNOLOGI INFORMASI\n",
       "1319         607.75             610.25        609.000  TEKNOLOGI INFORMASI\n",
       "1320         611.75             600.00        605.875  TEKNOLOGI INFORMASI\n",
       "1321         680.50             531.00        605.750  TEKNOLOGI INFORMASI\n",
       "1322         595.75             615.50        605.625  TEKNOLOGI INFORMASI\n",
       "\n",
       "[1323 rows x 4 columns]"
      ]
     },
     "execution_count": 21,
     "metadata": {},
     "output_type": "execute_result"
    }
   ],
   "source": [
    "df_univ_braw_clear = find_the_lowest_score(df_univ_braw)\n",
    "df_univ_braw_clear"
   ]
  },
  {
   "cell_type": "code",
   "execution_count": 26,
   "metadata": {},
   "outputs": [
    {
     "data": {
      "application/vnd.plotly.v1+json": {
       "config": {
        "plotlyServerURL": "https://plot.ly"
       },
       "data": [
        {
         "alignmentgroup": "True",
         "hovertemplate": "first_major=%{y}<br>average_score=%{x}<extra></extra>",
         "legendgroup": "PENDIDIKAN DOKTER",
         "marker": {
          "color": "#636efa",
          "pattern": {
           "shape": ""
          }
         },
         "name": "PENDIDIKAN DOKTER",
         "offsetgroup": "PENDIDIKAN DOKTER",
         "orientation": "h",
         "showlegend": true,
         "textposition": "auto",
         "texttemplate": "%{x}",
         "type": "bar",
         "x": [
          696.759375
         ],
         "xaxis": "x",
         "y": [
          "PENDIDIKAN DOKTER"
         ],
         "yaxis": "y"
        },
        {
         "alignmentgroup": "True",
         "hovertemplate": "first_major=%{y}<br>average_score=%{x}<extra></extra>",
         "legendgroup": "PENDIDIKAN DOKTER GIGI",
         "marker": {
          "color": "#EF553B",
          "pattern": {
           "shape": ""
          }
         },
         "name": "PENDIDIKAN DOKTER GIGI",
         "offsetgroup": "PENDIDIKAN DOKTER GIGI",
         "orientation": "h",
         "showlegend": true,
         "textposition": "auto",
         "texttemplate": "%{x}",
         "type": "bar",
         "x": [
          674.296875
         ],
         "xaxis": "x",
         "y": [
          "PENDIDIKAN DOKTER GIGI"
         ],
         "yaxis": "y"
        },
        {
         "alignmentgroup": "True",
         "hovertemplate": "first_major=%{y}<br>average_score=%{x}<extra></extra>",
         "legendgroup": "TEKNIK INFORMATIKA",
         "marker": {
          "color": "#00cc96",
          "pattern": {
           "shape": ""
          }
         },
         "name": "TEKNIK INFORMATIKA",
         "offsetgroup": "TEKNIK INFORMATIKA",
         "orientation": "h",
         "showlegend": true,
         "textposition": "auto",
         "texttemplate": "%{x}",
         "type": "bar",
         "x": [
          650.5822368421053
         ],
         "xaxis": "x",
         "y": [
          "TEKNIK INFORMATIKA"
         ],
         "yaxis": "y"
        },
        {
         "alignmentgroup": "True",
         "hovertemplate": "first_major=%{y}<br>average_score=%{x}<extra></extra>",
         "legendgroup": "TEKNIK INDUSTRI",
         "marker": {
          "color": "#ab63fa",
          "pattern": {
           "shape": ""
          }
         },
         "name": "TEKNIK INDUSTRI",
         "offsetgroup": "TEKNIK INDUSTRI",
         "orientation": "h",
         "showlegend": true,
         "textposition": "auto",
         "texttemplate": "%{x}",
         "type": "bar",
         "x": [
          642.671875
         ],
         "xaxis": "x",
         "y": [
          "TEKNIK INDUSTRI"
         ],
         "yaxis": "y"
        },
        {
         "alignmentgroup": "True",
         "hovertemplate": "first_major=%{y}<br>average_score=%{x}<extra></extra>",
         "legendgroup": "GIZI KESEHATAN / ILMU GIZI",
         "marker": {
          "color": "#FFA15A",
          "pattern": {
           "shape": ""
          }
         },
         "name": "GIZI KESEHATAN / ILMU GIZI",
         "offsetgroup": "GIZI KESEHATAN / ILMU GIZI",
         "orientation": "h",
         "showlegend": true,
         "textposition": "auto",
         "texttemplate": "%{x}",
         "type": "bar",
         "x": [
          642.4868421052631
         ],
         "xaxis": "x",
         "y": [
          "GIZI KESEHATAN / ILMU GIZI"
         ],
         "yaxis": "y"
        },
        {
         "alignmentgroup": "True",
         "hovertemplate": "first_major=%{y}<br>average_score=%{x}<extra></extra>",
         "legendgroup": "TEKNIK SIPIL",
         "marker": {
          "color": "#19d3f3",
          "pattern": {
           "shape": ""
          }
         },
         "name": "TEKNIK SIPIL",
         "offsetgroup": "TEKNIK SIPIL",
         "orientation": "h",
         "showlegend": true,
         "textposition": "auto",
         "texttemplate": "%{x}",
         "type": "bar",
         "x": [
          640.9821428571429
         ],
         "xaxis": "x",
         "y": [
          "TEKNIK SIPIL"
         ],
         "yaxis": "y"
        },
        {
         "alignmentgroup": "True",
         "hovertemplate": "first_major=%{y}<br>average_score=%{x}<extra></extra>",
         "legendgroup": "STATISTIKA",
         "marker": {
          "color": "#FF6692",
          "pattern": {
           "shape": ""
          }
         },
         "name": "STATISTIKA",
         "offsetgroup": "STATISTIKA",
         "orientation": "h",
         "showlegend": true,
         "textposition": "auto",
         "texttemplate": "%{x}",
         "type": "bar",
         "x": [
          640.19921875
         ],
         "xaxis": "x",
         "y": [
          "STATISTIKA"
         ],
         "yaxis": "y"
        },
        {
         "alignmentgroup": "True",
         "hovertemplate": "first_major=%{y}<br>average_score=%{x}<extra></extra>",
         "legendgroup": "FARMASI",
         "marker": {
          "color": "#B6E880",
          "pattern": {
           "shape": ""
          }
         },
         "name": "FARMASI",
         "offsetgroup": "FARMASI",
         "orientation": "h",
         "showlegend": true,
         "textposition": "auto",
         "texttemplate": "%{x}",
         "type": "bar",
         "x": [
          639.5526315789474
         ],
         "xaxis": "x",
         "y": [
          "FARMASI"
         ],
         "yaxis": "y"
        },
        {
         "alignmentgroup": "True",
         "hovertemplate": "first_major=%{y}<br>average_score=%{x}<extra></extra>",
         "legendgroup": "SISTEM INFORMASI",
         "marker": {
          "color": "#FF97FF",
          "pattern": {
           "shape": ""
          }
         },
         "name": "SISTEM INFORMASI",
         "offsetgroup": "SISTEM INFORMASI",
         "orientation": "h",
         "showlegend": true,
         "textposition": "auto",
         "texttemplate": "%{x}",
         "type": "bar",
         "x": [
          637.92
         ],
         "xaxis": "x",
         "y": [
          "SISTEM INFORMASI"
         ],
         "yaxis": "y"
        },
        {
         "alignmentgroup": "True",
         "hovertemplate": "first_major=%{y}<br>average_score=%{x}<extra></extra>",
         "legendgroup": "ARSITEKTUR",
         "marker": {
          "color": "#FECB52",
          "pattern": {
           "shape": ""
          }
         },
         "name": "ARSITEKTUR",
         "offsetgroup": "ARSITEKTUR",
         "orientation": "h",
         "showlegend": true,
         "textposition": "auto",
         "texttemplate": "%{x}",
         "type": "bar",
         "x": [
          637.53125
         ],
         "xaxis": "x",
         "y": [
          "ARSITEKTUR"
         ],
         "yaxis": "y"
        },
        {
         "alignmentgroup": "True",
         "hovertemplate": "first_major=%{y}<br>average_score=%{x}<extra></extra>",
         "legendgroup": "TEKNIK KIMIA",
         "marker": {
          "color": "#636efa",
          "pattern": {
           "shape": ""
          }
         },
         "name": "TEKNIK KIMIA",
         "offsetgroup": "TEKNIK KIMIA",
         "orientation": "h",
         "showlegend": true,
         "textposition": "auto",
         "texttemplate": "%{x}",
         "type": "bar",
         "x": [
          633.8489583333334
         ],
         "xaxis": "x",
         "y": [
          "TEKNIK KIMIA"
         ],
         "yaxis": "y"
        },
        {
         "alignmentgroup": "True",
         "hovertemplate": "first_major=%{y}<br>average_score=%{x}<extra></extra>",
         "legendgroup": "TEKNIK LINGKUNGAN",
         "marker": {
          "color": "#EF553B",
          "pattern": {
           "shape": ""
          }
         },
         "name": "TEKNIK LINGKUNGAN",
         "offsetgroup": "TEKNIK LINGKUNGAN",
         "orientation": "h",
         "showlegend": true,
         "textposition": "auto",
         "texttemplate": "%{x}",
         "type": "bar",
         "x": [
          632.15
         ],
         "xaxis": "x",
         "y": [
          "TEKNIK LINGKUNGAN"
         ],
         "yaxis": "y"
        },
        {
         "alignmentgroup": "True",
         "hovertemplate": "first_major=%{y}<br>average_score=%{x}<extra></extra>",
         "legendgroup": "ILMU DAN TEKNOLOGI PANGAN",
         "marker": {
          "color": "#00cc96",
          "pattern": {
           "shape": ""
          }
         },
         "name": "ILMU DAN TEKNOLOGI PANGAN",
         "offsetgroup": "ILMU DAN TEKNOLOGI PANGAN",
         "orientation": "h",
         "showlegend": true,
         "textposition": "auto",
         "texttemplate": "%{x}",
         "type": "bar",
         "x": [
          632.0231481481482
         ],
         "xaxis": "x",
         "y": [
          "ILMU DAN TEKNOLOGI PANGAN"
         ],
         "yaxis": "y"
        },
        {
         "alignmentgroup": "True",
         "hovertemplate": "first_major=%{y}<br>average_score=%{x}<extra></extra>",
         "legendgroup": "TEKNIK ELEKTRO",
         "marker": {
          "color": "#ab63fa",
          "pattern": {
           "shape": ""
          }
         },
         "name": "TEKNIK ELEKTRO",
         "offsetgroup": "TEKNIK ELEKTRO",
         "orientation": "h",
         "showlegend": true,
         "textposition": "auto",
         "texttemplate": "%{x}",
         "type": "bar",
         "x": [
          629.2265625
         ],
         "xaxis": "x",
         "y": [
          "TEKNIK ELEKTRO"
         ],
         "yaxis": "y"
        },
        {
         "alignmentgroup": "True",
         "hovertemplate": "first_major=%{y}<br>average_score=%{x}<extra></extra>",
         "legendgroup": "PERENCANAAN WILAYAH & KOTA",
         "marker": {
          "color": "#FFA15A",
          "pattern": {
           "shape": ""
          }
         },
         "name": "PERENCANAAN WILAYAH & KOTA",
         "offsetgroup": "PERENCANAAN WILAYAH & KOTA",
         "orientation": "h",
         "showlegend": true,
         "textposition": "auto",
         "texttemplate": "%{x}",
         "type": "bar",
         "x": [
          628.6339285714286
         ],
         "xaxis": "x",
         "y": [
          "PERENCANAAN WILAYAH & KOTA"
         ],
         "yaxis": "y"
        },
        {
         "alignmentgroup": "True",
         "hovertemplate": "first_major=%{y}<br>average_score=%{x}<extra></extra>",
         "legendgroup": "TEKNOLOGI INFORMASI",
         "marker": {
          "color": "#19d3f3",
          "pattern": {
           "shape": ""
          }
         },
         "name": "TEKNOLOGI INFORMASI",
         "offsetgroup": "TEKNOLOGI INFORMASI",
         "orientation": "h",
         "showlegend": true,
         "textposition": "auto",
         "texttemplate": "%{x}",
         "type": "bar",
         "x": [
          622.3645833333334
         ],
         "xaxis": "x",
         "y": [
          "TEKNOLOGI INFORMASI"
         ],
         "yaxis": "y"
        },
        {
         "alignmentgroup": "True",
         "hovertemplate": "first_major=%{y}<br>average_score=%{x}<extra></extra>",
         "legendgroup": "TEKNIK MESIN",
         "marker": {
          "color": "#FF6692",
          "pattern": {
           "shape": ""
          }
         },
         "name": "TEKNIK MESIN",
         "offsetgroup": "TEKNIK MESIN",
         "orientation": "h",
         "showlegend": true,
         "textposition": "auto",
         "texttemplate": "%{x}",
         "type": "bar",
         "x": [
          621.8984375
         ],
         "xaxis": "x",
         "y": [
          "TEKNIK MESIN"
         ],
         "yaxis": "y"
        },
        {
         "alignmentgroup": "True",
         "hovertemplate": "first_major=%{y}<br>average_score=%{x}<extra></extra>",
         "legendgroup": "KIMIA",
         "marker": {
          "color": "#B6E880",
          "pattern": {
           "shape": ""
          }
         },
         "name": "KIMIA",
         "offsetgroup": "KIMIA",
         "orientation": "h",
         "showlegend": true,
         "textposition": "auto",
         "texttemplate": "%{x}",
         "type": "bar",
         "x": [
          621.5859375
         ],
         "xaxis": "x",
         "y": [
          "KIMIA"
         ],
         "yaxis": "y"
        },
        {
         "alignmentgroup": "True",
         "hovertemplate": "first_major=%{y}<br>average_score=%{x}<extra></extra>",
         "legendgroup": "BIOTEKNOLOGI",
         "marker": {
          "color": "#FF97FF",
          "pattern": {
           "shape": ""
          }
         },
         "name": "BIOTEKNOLOGI",
         "offsetgroup": "BIOTEKNOLOGI",
         "orientation": "h",
         "showlegend": true,
         "textposition": "auto",
         "texttemplate": "%{x}",
         "type": "bar",
         "x": [
          621.375
         ],
         "xaxis": "x",
         "y": [
          "BIOTEKNOLOGI"
         ],
         "yaxis": "y"
        },
        {
         "alignmentgroup": "True",
         "hovertemplate": "first_major=%{y}<br>average_score=%{x}<extra></extra>",
         "legendgroup": "MATEMATIKA",
         "marker": {
          "color": "#FECB52",
          "pattern": {
           "shape": ""
          }
         },
         "name": "MATEMATIKA",
         "offsetgroup": "MATEMATIKA",
         "orientation": "h",
         "showlegend": true,
         "textposition": "auto",
         "texttemplate": "%{x}",
         "type": "bar",
         "x": [
          619.5
         ],
         "xaxis": "x",
         "y": [
          "MATEMATIKA"
         ],
         "yaxis": "y"
        },
        {
         "alignmentgroup": "True",
         "hovertemplate": "first_major=%{y}<br>average_score=%{x}<extra></extra>",
         "legendgroup": "TEKNIK KOMPUTER",
         "marker": {
          "color": "#636efa",
          "pattern": {
           "shape": ""
          }
         },
         "name": "TEKNIK KOMPUTER",
         "offsetgroup": "TEKNIK KOMPUTER",
         "orientation": "h",
         "showlegend": true,
         "textposition": "auto",
         "texttemplate": "%{x}",
         "type": "bar",
         "x": [
          614.405
         ],
         "xaxis": "x",
         "y": [
          "TEKNIK KOMPUTER"
         ],
         "yaxis": "y"
        },
        {
         "alignmentgroup": "True",
         "hovertemplate": "first_major=%{y}<br>average_score=%{x}<extra></extra>",
         "legendgroup": "TEKNIK GEOFISIKA",
         "marker": {
          "color": "#EF553B",
          "pattern": {
           "shape": ""
          }
         },
         "name": "TEKNIK GEOFISIKA",
         "offsetgroup": "TEKNIK GEOFISIKA",
         "orientation": "h",
         "showlegend": true,
         "textposition": "auto",
         "texttemplate": "%{x}",
         "type": "bar",
         "x": [
          610.3035714285714
         ],
         "xaxis": "x",
         "y": [
          "TEKNIK GEOFISIKA"
         ],
         "yaxis": "y"
        },
        {
         "alignmentgroup": "True",
         "hovertemplate": "first_major=%{y}<br>average_score=%{x}<extra></extra>",
         "legendgroup": "ILMU KEPERAWATAN",
         "marker": {
          "color": "#00cc96",
          "pattern": {
           "shape": ""
          }
         },
         "name": "ILMU KEPERAWATAN",
         "offsetgroup": "ILMU KEPERAWATAN",
         "orientation": "h",
         "showlegend": true,
         "textposition": "auto",
         "texttemplate": "%{x}",
         "type": "bar",
         "x": [
          609.7670454545455
         ],
         "xaxis": "x",
         "y": [
          "ILMU KEPERAWATAN"
         ],
         "yaxis": "y"
        },
        {
         "alignmentgroup": "True",
         "hovertemplate": "first_major=%{y}<br>average_score=%{x}<extra></extra>",
         "legendgroup": "FISIKA",
         "marker": {
          "color": "#ab63fa",
          "pattern": {
           "shape": ""
          }
         },
         "name": "FISIKA",
         "offsetgroup": "FISIKA",
         "orientation": "h",
         "showlegend": true,
         "textposition": "auto",
         "texttemplate": "%{x}",
         "type": "bar",
         "x": [
          605.8486842105264
         ],
         "xaxis": "x",
         "y": [
          "FISIKA"
         ],
         "yaxis": "y"
        },
        {
         "alignmentgroup": "True",
         "hovertemplate": "first_major=%{y}<br>average_score=%{x}<extra></extra>",
         "legendgroup": "TEKNIK PENGAIRAN",
         "marker": {
          "color": "#FFA15A",
          "pattern": {
           "shape": ""
          }
         },
         "name": "TEKNIK PENGAIRAN",
         "offsetgroup": "TEKNIK PENGAIRAN",
         "orientation": "h",
         "showlegend": true,
         "textposition": "auto",
         "texttemplate": "%{x}",
         "type": "bar",
         "x": [
          605.6294642857143
         ],
         "xaxis": "x",
         "y": [
          "TEKNIK PENGAIRAN"
         ],
         "yaxis": "y"
        },
        {
         "alignmentgroup": "True",
         "hovertemplate": "first_major=%{y}<br>average_score=%{x}<extra></extra>",
         "legendgroup": "KEBIDANAN",
         "marker": {
          "color": "#19d3f3",
          "pattern": {
           "shape": ""
          }
         },
         "name": "KEBIDANAN",
         "offsetgroup": "KEBIDANAN",
         "orientation": "h",
         "showlegend": true,
         "textposition": "auto",
         "texttemplate": "%{x}",
         "type": "bar",
         "x": [
          604.6985294117648
         ],
         "xaxis": "x",
         "y": [
          "KEBIDANAN"
         ],
         "yaxis": "y"
        },
        {
         "alignmentgroup": "True",
         "hovertemplate": "first_major=%{y}<br>average_score=%{x}<extra></extra>",
         "legendgroup": "PENDIDIKAN DOKTER HEWAN",
         "marker": {
          "color": "#FF6692",
          "pattern": {
           "shape": ""
          }
         },
         "name": "PENDIDIKAN DOKTER HEWAN",
         "offsetgroup": "PENDIDIKAN DOKTER HEWAN",
         "orientation": "h",
         "showlegend": true,
         "textposition": "auto",
         "texttemplate": "%{x}",
         "type": "bar",
         "x": [
          603.6796875
         ],
         "xaxis": "x",
         "y": [
          "PENDIDIKAN DOKTER HEWAN"
         ],
         "yaxis": "y"
        },
        {
         "alignmentgroup": "True",
         "hovertemplate": "first_major=%{y}<br>average_score=%{x}<extra></extra>",
         "legendgroup": "TEKNOLOGI BIOPROSES",
         "marker": {
          "color": "#B6E880",
          "pattern": {
           "shape": ""
          }
         },
         "name": "TEKNOLOGI BIOPROSES",
         "offsetgroup": "TEKNOLOGI BIOPROSES",
         "orientation": "h",
         "showlegend": true,
         "textposition": "auto",
         "texttemplate": "%{x}",
         "type": "bar",
         "x": [
          598.4017857142857
         ],
         "xaxis": "x",
         "y": [
          "TEKNOLOGI BIOPROSES"
         ],
         "yaxis": "y"
        },
        {
         "alignmentgroup": "True",
         "hovertemplate": "first_major=%{y}<br>average_score=%{x}<extra></extra>",
         "legendgroup": "BIOLOGI",
         "marker": {
          "color": "#FF97FF",
          "pattern": {
           "shape": ""
          }
         },
         "name": "BIOLOGI",
         "offsetgroup": "BIOLOGI",
         "orientation": "h",
         "showlegend": true,
         "textposition": "auto",
         "texttemplate": "%{x}",
         "type": "bar",
         "x": [
          594.7321428571429
         ],
         "xaxis": "x",
         "y": [
          "BIOLOGI"
         ],
         "yaxis": "y"
        },
        {
         "alignmentgroup": "True",
         "hovertemplate": "first_major=%{y}<br>average_score=%{x}<extra></extra>",
         "legendgroup": "INSTRUMENTASI",
         "marker": {
          "color": "#FECB52",
          "pattern": {
           "shape": ""
          }
         },
         "name": "INSTRUMENTASI",
         "offsetgroup": "INSTRUMENTASI",
         "orientation": "h",
         "showlegend": true,
         "textposition": "auto",
         "texttemplate": "%{x}",
         "type": "bar",
         "x": [
          593.2053571428571
         ],
         "xaxis": "x",
         "y": [
          "INSTRUMENTASI"
         ],
         "yaxis": "y"
        },
        {
         "alignmentgroup": "True",
         "hovertemplate": "first_major=%{y}<br>average_score=%{x}<extra></extra>",
         "legendgroup": "TEKNOLOGI INDUSTRI PERTANIAN",
         "marker": {
          "color": "#636efa",
          "pattern": {
           "shape": ""
          }
         },
         "name": "TEKNOLOGI INDUSTRI PERTANIAN",
         "offsetgroup": "TEKNOLOGI INDUSTRI PERTANIAN",
         "orientation": "h",
         "showlegend": true,
         "textposition": "auto",
         "texttemplate": "%{x}",
         "type": "bar",
         "x": [
          592.54375
         ],
         "xaxis": "x",
         "y": [
          "TEKNOLOGI INDUSTRI PERTANIAN"
         ],
         "yaxis": "y"
        },
        {
         "alignmentgroup": "True",
         "hovertemplate": "first_major=%{y}<br>average_score=%{x}<extra></extra>",
         "legendgroup": "ILMU KELAUTAN",
         "marker": {
          "color": "#EF553B",
          "pattern": {
           "shape": ""
          }
         },
         "name": "ILMU KELAUTAN",
         "offsetgroup": "ILMU KELAUTAN",
         "orientation": "h",
         "showlegend": true,
         "textposition": "auto",
         "texttemplate": "%{x}",
         "type": "bar",
         "x": [
          591.8883928571429
         ],
         "xaxis": "x",
         "y": [
          "ILMU KELAUTAN"
         ],
         "yaxis": "y"
        },
        {
         "alignmentgroup": "True",
         "hovertemplate": "first_major=%{y}<br>average_score=%{x}<extra></extra>",
         "legendgroup": "AGRIBISNIS",
         "marker": {
          "color": "#00cc96",
          "pattern": {
           "shape": ""
          }
         },
         "name": "AGRIBISNIS",
         "offsetgroup": "AGRIBISNIS",
         "orientation": "h",
         "showlegend": true,
         "textposition": "auto",
         "texttemplate": "%{x}",
         "type": "bar",
         "x": [
          585.7835820895523
         ],
         "xaxis": "x",
         "y": [
          "AGRIBISNIS"
         ],
         "yaxis": "y"
        },
        {
         "alignmentgroup": "True",
         "hovertemplate": "first_major=%{y}<br>average_score=%{x}<extra></extra>",
         "legendgroup": "AGROEKOTEKNOLOGI",
         "marker": {
          "color": "#ab63fa",
          "pattern": {
           "shape": ""
          }
         },
         "name": "AGROEKOTEKNOLOGI",
         "offsetgroup": "AGROEKOTEKNOLOGI",
         "orientation": "h",
         "showlegend": true,
         "textposition": "auto",
         "texttemplate": "%{x}",
         "type": "bar",
         "x": [
          583.5292338709677
         ],
         "xaxis": "x",
         "y": [
          "AGROEKOTEKNOLOGI"
         ],
         "yaxis": "y"
        },
        {
         "alignmentgroup": "True",
         "hovertemplate": "first_major=%{y}<br>average_score=%{x}<extra></extra>",
         "legendgroup": "PENDIDIKAN TEKNOLOGI INFORMASI",
         "marker": {
          "color": "#FFA15A",
          "pattern": {
           "shape": ""
          }
         },
         "name": "PENDIDIKAN TEKNOLOGI INFORMASI",
         "offsetgroup": "PENDIDIKAN TEKNOLOGI INFORMASI",
         "orientation": "h",
         "showlegend": true,
         "textposition": "auto",
         "texttemplate": "%{x}",
         "type": "bar",
         "x": [
          582.0729166666666
         ],
         "xaxis": "x",
         "y": [
          "PENDIDIKAN TEKNOLOGI INFORMASI"
         ],
         "yaxis": "y"
        },
        {
         "alignmentgroup": "True",
         "hovertemplate": "first_major=%{y}<br>average_score=%{x}<extra></extra>",
         "legendgroup": "MANAJEMEN SUMBERDAYA PERAIRAN",
         "marker": {
          "color": "#19d3f3",
          "pattern": {
           "shape": ""
          }
         },
         "name": "MANAJEMEN SUMBERDAYA PERAIRAN",
         "offsetgroup": "MANAJEMEN SUMBERDAYA PERAIRAN",
         "orientation": "h",
         "showlegend": true,
         "textposition": "auto",
         "texttemplate": "%{x}",
         "type": "bar",
         "x": [
          578.71875
         ],
         "xaxis": "x",
         "y": [
          "MANAJEMEN SUMBERDAYA PERAIRAN"
         ],
         "yaxis": "y"
        },
        {
         "alignmentgroup": "True",
         "hovertemplate": "first_major=%{y}<br>average_score=%{x}<extra></extra>",
         "legendgroup": "KETEKNIKAN PERTANIAN",
         "marker": {
          "color": "#FF6692",
          "pattern": {
           "shape": ""
          }
         },
         "name": "KETEKNIKAN PERTANIAN",
         "offsetgroup": "KETEKNIKAN PERTANIAN",
         "orientation": "h",
         "showlegend": true,
         "textposition": "auto",
         "texttemplate": "%{x}",
         "type": "bar",
         "x": [
          576.31875
         ],
         "xaxis": "x",
         "y": [
          "KETEKNIKAN PERTANIAN"
         ],
         "yaxis": "y"
        },
        {
         "alignmentgroup": "True",
         "hovertemplate": "first_major=%{y}<br>average_score=%{x}<extra></extra>",
         "legendgroup": "AGRIBISNIS (PSDKU KEDIRI)",
         "marker": {
          "color": "#B6E880",
          "pattern": {
           "shape": ""
          }
         },
         "name": "AGRIBISNIS (PSDKU KEDIRI)",
         "offsetgroup": "AGRIBISNIS (PSDKU KEDIRI)",
         "orientation": "h",
         "showlegend": true,
         "textposition": "auto",
         "texttemplate": "%{x}",
         "type": "bar",
         "x": [
          576.125
         ],
         "xaxis": "x",
         "y": [
          "AGRIBISNIS (PSDKU KEDIRI)"
         ],
         "yaxis": "y"
        },
        {
         "alignmentgroup": "True",
         "hovertemplate": "first_major=%{y}<br>average_score=%{x}<extra></extra>",
         "legendgroup": "AGROBISNIS PERIKANAN",
         "marker": {
          "color": "#FF97FF",
          "pattern": {
           "shape": ""
          }
         },
         "name": "AGROBISNIS PERIKANAN",
         "offsetgroup": "AGROBISNIS PERIKANAN",
         "orientation": "h",
         "showlegend": true,
         "textposition": "auto",
         "texttemplate": "%{x}",
         "type": "bar",
         "x": [
          572.90625
         ],
         "xaxis": "x",
         "y": [
          "AGROBISNIS PERIKANAN"
         ],
         "yaxis": "y"
        },
        {
         "alignmentgroup": "True",
         "hovertemplate": "first_major=%{y}<br>average_score=%{x}<extra></extra>",
         "legendgroup": "BUDIDAYA PERAIRAN",
         "marker": {
          "color": "#FECB52",
          "pattern": {
           "shape": ""
          }
         },
         "name": "BUDIDAYA PERAIRAN",
         "offsetgroup": "BUDIDAYA PERAIRAN",
         "orientation": "h",
         "showlegend": true,
         "textposition": "auto",
         "texttemplate": "%{x}",
         "type": "bar",
         "x": [
          570.5223214285714
         ],
         "xaxis": "x",
         "y": [
          "BUDIDAYA PERAIRAN"
         ],
         "yaxis": "y"
        },
        {
         "alignmentgroup": "True",
         "hovertemplate": "first_major=%{y}<br>average_score=%{x}<extra></extra>",
         "legendgroup": "TEKNOLOGI HASIL PERIKANAN",
         "marker": {
          "color": "#636efa",
          "pattern": {
           "shape": ""
          }
         },
         "name": "TEKNOLOGI HASIL PERIKANAN",
         "offsetgroup": "TEKNOLOGI HASIL PERIKANAN",
         "orientation": "h",
         "showlegend": true,
         "textposition": "auto",
         "texttemplate": "%{x}",
         "type": "bar",
         "x": [
          570.2723214285714
         ],
         "xaxis": "x",
         "y": [
          "TEKNOLOGI HASIL PERIKANAN"
         ],
         "yaxis": "y"
        },
        {
         "alignmentgroup": "True",
         "hovertemplate": "first_major=%{y}<br>average_score=%{x}<extra></extra>",
         "legendgroup": "PEMANFAATAN SUMBERDAYA PERIKANAN",
         "marker": {
          "color": "#EF553B",
          "pattern": {
           "shape": ""
          }
         },
         "name": "PEMANFAATAN SUMBERDAYA PERIKANAN",
         "offsetgroup": "PEMANFAATAN SUMBERDAYA PERIKANAN",
         "orientation": "h",
         "showlegend": true,
         "textposition": "auto",
         "texttemplate": "%{x}",
         "type": "bar",
         "x": [
          569.4241071428571
         ],
         "xaxis": "x",
         "y": [
          "PEMANFAATAN SUMBERDAYA PERIKANAN"
         ],
         "yaxis": "y"
        },
        {
         "alignmentgroup": "True",
         "hovertemplate": "first_major=%{y}<br>average_score=%{x}<extra></extra>",
         "legendgroup": "PETERNAKAN",
         "marker": {
          "color": "#00cc96",
          "pattern": {
           "shape": ""
          }
         },
         "name": "PETERNAKAN",
         "offsetgroup": "PETERNAKAN",
         "orientation": "h",
         "showlegend": true,
         "textposition": "auto",
         "texttemplate": "%{x}",
         "type": "bar",
         "x": [
          566.1059523809524
         ],
         "xaxis": "x",
         "y": [
          "PETERNAKAN"
         ],
         "yaxis": "y"
        },
        {
         "alignmentgroup": "True",
         "hovertemplate": "first_major=%{y}<br>average_score=%{x}<extra></extra>",
         "legendgroup": "AGROEKOTEKNOLOGI (PSDKU KEDIRI)",
         "marker": {
          "color": "#ab63fa",
          "pattern": {
           "shape": ""
          }
         },
         "name": "AGROEKOTEKNOLOGI (PSDKU KEDIRI)",
         "offsetgroup": "AGROEKOTEKNOLOGI (PSDKU KEDIRI)",
         "orientation": "h",
         "showlegend": true,
         "textposition": "auto",
         "texttemplate": "%{x}",
         "type": "bar",
         "x": [
          554.0625
         ],
         "xaxis": "x",
         "y": [
          "AGROEKOTEKNOLOGI (PSDKU KEDIRI)"
         ],
         "yaxis": "y"
        },
        {
         "alignmentgroup": "True",
         "hovertemplate": "first_major=%{y}<br>average_score=%{x}<extra></extra>",
         "legendgroup": "SOSIAL EKONOMI PERIKANAN (PSDKU KEDIRI)",
         "marker": {
          "color": "#FFA15A",
          "pattern": {
           "shape": ""
          }
         },
         "name": "SOSIAL EKONOMI PERIKANAN (PSDKU KEDIRI)",
         "offsetgroup": "SOSIAL EKONOMI PERIKANAN (PSDKU KEDIRI)",
         "orientation": "h",
         "showlegend": true,
         "textposition": "auto",
         "texttemplate": "%{x}",
         "type": "bar",
         "x": [
          542.859375
         ],
         "xaxis": "x",
         "y": [
          "SOSIAL EKONOMI PERIKANAN (PSDKU KEDIRI)"
         ],
         "yaxis": "y"
        },
        {
         "alignmentgroup": "True",
         "hovertemplate": "first_major=%{y}<br>average_score=%{x}<extra></extra>",
         "legendgroup": "PETERNAKAN (PSDKU KEDIRI)",
         "marker": {
          "color": "#19d3f3",
          "pattern": {
           "shape": ""
          }
         },
         "name": "PETERNAKAN (PSDKU KEDIRI)",
         "offsetgroup": "PETERNAKAN (PSDKU KEDIRI)",
         "orientation": "h",
         "showlegend": true,
         "textposition": "auto",
         "texttemplate": "%{x}",
         "type": "bar",
         "x": [
          536.3541666666666
         ],
         "xaxis": "x",
         "y": [
          "PETERNAKAN (PSDKU KEDIRI)"
         ],
         "yaxis": "y"
        },
        {
         "alignmentgroup": "True",
         "hovertemplate": "first_major=%{y}<br>average_score=%{x}<extra></extra>",
         "legendgroup": "AKUAKULTUR (PSDKU KEDIRI) ",
         "marker": {
          "color": "#FF6692",
          "pattern": {
           "shape": ""
          }
         },
         "name": "AKUAKULTUR (PSDKU KEDIRI) ",
         "offsetgroup": "AKUAKULTUR (PSDKU KEDIRI) ",
         "orientation": "h",
         "showlegend": true,
         "textposition": "auto",
         "texttemplate": "%{x}",
         "type": "bar",
         "x": [
          535.734375
         ],
         "xaxis": "x",
         "y": [
          "AKUAKULTUR (PSDKU KEDIRI) "
         ],
         "yaxis": "y"
        }
       ],
       "layout": {
        "bargap": 0.15,
        "bargroupgap": 0.1,
        "barmode": "relative",
        "height": 1200,
        "legend": {
         "title": {
          "text": "first_major"
         },
         "tracegroupgap": 0
        },
        "margin": {
         "t": 60
        },
        "showlegend": false,
        "template": {
         "data": {
          "bar": [
           {
            "error_x": {
             "color": "#2a3f5f"
            },
            "error_y": {
             "color": "#2a3f5f"
            },
            "marker": {
             "line": {
              "color": "#E5ECF6",
              "width": 0.5
             },
             "pattern": {
              "fillmode": "overlay",
              "size": 10,
              "solidity": 0.2
             }
            },
            "type": "bar"
           }
          ],
          "barpolar": [
           {
            "marker": {
             "line": {
              "color": "#E5ECF6",
              "width": 0.5
             },
             "pattern": {
              "fillmode": "overlay",
              "size": 10,
              "solidity": 0.2
             }
            },
            "type": "barpolar"
           }
          ],
          "carpet": [
           {
            "aaxis": {
             "endlinecolor": "#2a3f5f",
             "gridcolor": "white",
             "linecolor": "white",
             "minorgridcolor": "white",
             "startlinecolor": "#2a3f5f"
            },
            "baxis": {
             "endlinecolor": "#2a3f5f",
             "gridcolor": "white",
             "linecolor": "white",
             "minorgridcolor": "white",
             "startlinecolor": "#2a3f5f"
            },
            "type": "carpet"
           }
          ],
          "choropleth": [
           {
            "colorbar": {
             "outlinewidth": 0,
             "ticks": ""
            },
            "type": "choropleth"
           }
          ],
          "contour": [
           {
            "colorbar": {
             "outlinewidth": 0,
             "ticks": ""
            },
            "colorscale": [
             [
              0,
              "#0d0887"
             ],
             [
              0.1111111111111111,
              "#46039f"
             ],
             [
              0.2222222222222222,
              "#7201a8"
             ],
             [
              0.3333333333333333,
              "#9c179e"
             ],
             [
              0.4444444444444444,
              "#bd3786"
             ],
             [
              0.5555555555555556,
              "#d8576b"
             ],
             [
              0.6666666666666666,
              "#ed7953"
             ],
             [
              0.7777777777777778,
              "#fb9f3a"
             ],
             [
              0.8888888888888888,
              "#fdca26"
             ],
             [
              1,
              "#f0f921"
             ]
            ],
            "type": "contour"
           }
          ],
          "contourcarpet": [
           {
            "colorbar": {
             "outlinewidth": 0,
             "ticks": ""
            },
            "type": "contourcarpet"
           }
          ],
          "heatmap": [
           {
            "colorbar": {
             "outlinewidth": 0,
             "ticks": ""
            },
            "colorscale": [
             [
              0,
              "#0d0887"
             ],
             [
              0.1111111111111111,
              "#46039f"
             ],
             [
              0.2222222222222222,
              "#7201a8"
             ],
             [
              0.3333333333333333,
              "#9c179e"
             ],
             [
              0.4444444444444444,
              "#bd3786"
             ],
             [
              0.5555555555555556,
              "#d8576b"
             ],
             [
              0.6666666666666666,
              "#ed7953"
             ],
             [
              0.7777777777777778,
              "#fb9f3a"
             ],
             [
              0.8888888888888888,
              "#fdca26"
             ],
             [
              1,
              "#f0f921"
             ]
            ],
            "type": "heatmap"
           }
          ],
          "heatmapgl": [
           {
            "colorbar": {
             "outlinewidth": 0,
             "ticks": ""
            },
            "colorscale": [
             [
              0,
              "#0d0887"
             ],
             [
              0.1111111111111111,
              "#46039f"
             ],
             [
              0.2222222222222222,
              "#7201a8"
             ],
             [
              0.3333333333333333,
              "#9c179e"
             ],
             [
              0.4444444444444444,
              "#bd3786"
             ],
             [
              0.5555555555555556,
              "#d8576b"
             ],
             [
              0.6666666666666666,
              "#ed7953"
             ],
             [
              0.7777777777777778,
              "#fb9f3a"
             ],
             [
              0.8888888888888888,
              "#fdca26"
             ],
             [
              1,
              "#f0f921"
             ]
            ],
            "type": "heatmapgl"
           }
          ],
          "histogram": [
           {
            "marker": {
             "pattern": {
              "fillmode": "overlay",
              "size": 10,
              "solidity": 0.2
             }
            },
            "type": "histogram"
           }
          ],
          "histogram2d": [
           {
            "colorbar": {
             "outlinewidth": 0,
             "ticks": ""
            },
            "colorscale": [
             [
              0,
              "#0d0887"
             ],
             [
              0.1111111111111111,
              "#46039f"
             ],
             [
              0.2222222222222222,
              "#7201a8"
             ],
             [
              0.3333333333333333,
              "#9c179e"
             ],
             [
              0.4444444444444444,
              "#bd3786"
             ],
             [
              0.5555555555555556,
              "#d8576b"
             ],
             [
              0.6666666666666666,
              "#ed7953"
             ],
             [
              0.7777777777777778,
              "#fb9f3a"
             ],
             [
              0.8888888888888888,
              "#fdca26"
             ],
             [
              1,
              "#f0f921"
             ]
            ],
            "type": "histogram2d"
           }
          ],
          "histogram2dcontour": [
           {
            "colorbar": {
             "outlinewidth": 0,
             "ticks": ""
            },
            "colorscale": [
             [
              0,
              "#0d0887"
             ],
             [
              0.1111111111111111,
              "#46039f"
             ],
             [
              0.2222222222222222,
              "#7201a8"
             ],
             [
              0.3333333333333333,
              "#9c179e"
             ],
             [
              0.4444444444444444,
              "#bd3786"
             ],
             [
              0.5555555555555556,
              "#d8576b"
             ],
             [
              0.6666666666666666,
              "#ed7953"
             ],
             [
              0.7777777777777778,
              "#fb9f3a"
             ],
             [
              0.8888888888888888,
              "#fdca26"
             ],
             [
              1,
              "#f0f921"
             ]
            ],
            "type": "histogram2dcontour"
           }
          ],
          "mesh3d": [
           {
            "colorbar": {
             "outlinewidth": 0,
             "ticks": ""
            },
            "type": "mesh3d"
           }
          ],
          "parcoords": [
           {
            "line": {
             "colorbar": {
              "outlinewidth": 0,
              "ticks": ""
             }
            },
            "type": "parcoords"
           }
          ],
          "pie": [
           {
            "automargin": true,
            "type": "pie"
           }
          ],
          "scatter": [
           {
            "marker": {
             "colorbar": {
              "outlinewidth": 0,
              "ticks": ""
             }
            },
            "type": "scatter"
           }
          ],
          "scatter3d": [
           {
            "line": {
             "colorbar": {
              "outlinewidth": 0,
              "ticks": ""
             }
            },
            "marker": {
             "colorbar": {
              "outlinewidth": 0,
              "ticks": ""
             }
            },
            "type": "scatter3d"
           }
          ],
          "scattercarpet": [
           {
            "marker": {
             "colorbar": {
              "outlinewidth": 0,
              "ticks": ""
             }
            },
            "type": "scattercarpet"
           }
          ],
          "scattergeo": [
           {
            "marker": {
             "colorbar": {
              "outlinewidth": 0,
              "ticks": ""
             }
            },
            "type": "scattergeo"
           }
          ],
          "scattergl": [
           {
            "marker": {
             "colorbar": {
              "outlinewidth": 0,
              "ticks": ""
             }
            },
            "type": "scattergl"
           }
          ],
          "scattermapbox": [
           {
            "marker": {
             "colorbar": {
              "outlinewidth": 0,
              "ticks": ""
             }
            },
            "type": "scattermapbox"
           }
          ],
          "scatterpolar": [
           {
            "marker": {
             "colorbar": {
              "outlinewidth": 0,
              "ticks": ""
             }
            },
            "type": "scatterpolar"
           }
          ],
          "scatterpolargl": [
           {
            "marker": {
             "colorbar": {
              "outlinewidth": 0,
              "ticks": ""
             }
            },
            "type": "scatterpolargl"
           }
          ],
          "scatterternary": [
           {
            "marker": {
             "colorbar": {
              "outlinewidth": 0,
              "ticks": ""
             }
            },
            "type": "scatterternary"
           }
          ],
          "surface": [
           {
            "colorbar": {
             "outlinewidth": 0,
             "ticks": ""
            },
            "colorscale": [
             [
              0,
              "#0d0887"
             ],
             [
              0.1111111111111111,
              "#46039f"
             ],
             [
              0.2222222222222222,
              "#7201a8"
             ],
             [
              0.3333333333333333,
              "#9c179e"
             ],
             [
              0.4444444444444444,
              "#bd3786"
             ],
             [
              0.5555555555555556,
              "#d8576b"
             ],
             [
              0.6666666666666666,
              "#ed7953"
             ],
             [
              0.7777777777777778,
              "#fb9f3a"
             ],
             [
              0.8888888888888888,
              "#fdca26"
             ],
             [
              1,
              "#f0f921"
             ]
            ],
            "type": "surface"
           }
          ],
          "table": [
           {
            "cells": {
             "fill": {
              "color": "#EBF0F8"
             },
             "line": {
              "color": "white"
             }
            },
            "header": {
             "fill": {
              "color": "#C8D4E3"
             },
             "line": {
              "color": "white"
             }
            },
            "type": "table"
           }
          ]
         },
         "layout": {
          "annotationdefaults": {
           "arrowcolor": "#2a3f5f",
           "arrowhead": 0,
           "arrowwidth": 1
          },
          "autotypenumbers": "strict",
          "coloraxis": {
           "colorbar": {
            "outlinewidth": 0,
            "ticks": ""
           }
          },
          "colorscale": {
           "diverging": [
            [
             0,
             "#8e0152"
            ],
            [
             0.1,
             "#c51b7d"
            ],
            [
             0.2,
             "#de77ae"
            ],
            [
             0.3,
             "#f1b6da"
            ],
            [
             0.4,
             "#fde0ef"
            ],
            [
             0.5,
             "#f7f7f7"
            ],
            [
             0.6,
             "#e6f5d0"
            ],
            [
             0.7,
             "#b8e186"
            ],
            [
             0.8,
             "#7fbc41"
            ],
            [
             0.9,
             "#4d9221"
            ],
            [
             1,
             "#276419"
            ]
           ],
           "sequential": [
            [
             0,
             "#0d0887"
            ],
            [
             0.1111111111111111,
             "#46039f"
            ],
            [
             0.2222222222222222,
             "#7201a8"
            ],
            [
             0.3333333333333333,
             "#9c179e"
            ],
            [
             0.4444444444444444,
             "#bd3786"
            ],
            [
             0.5555555555555556,
             "#d8576b"
            ],
            [
             0.6666666666666666,
             "#ed7953"
            ],
            [
             0.7777777777777778,
             "#fb9f3a"
            ],
            [
             0.8888888888888888,
             "#fdca26"
            ],
            [
             1,
             "#f0f921"
            ]
           ],
           "sequentialminus": [
            [
             0,
             "#0d0887"
            ],
            [
             0.1111111111111111,
             "#46039f"
            ],
            [
             0.2222222222222222,
             "#7201a8"
            ],
            [
             0.3333333333333333,
             "#9c179e"
            ],
            [
             0.4444444444444444,
             "#bd3786"
            ],
            [
             0.5555555555555556,
             "#d8576b"
            ],
            [
             0.6666666666666666,
             "#ed7953"
            ],
            [
             0.7777777777777778,
             "#fb9f3a"
            ],
            [
             0.8888888888888888,
             "#fdca26"
            ],
            [
             1,
             "#f0f921"
            ]
           ]
          },
          "colorway": [
           "#636efa",
           "#EF553B",
           "#00cc96",
           "#ab63fa",
           "#FFA15A",
           "#19d3f3",
           "#FF6692",
           "#B6E880",
           "#FF97FF",
           "#FECB52"
          ],
          "font": {
           "color": "#2a3f5f"
          },
          "geo": {
           "bgcolor": "white",
           "lakecolor": "white",
           "landcolor": "#E5ECF6",
           "showlakes": true,
           "showland": true,
           "subunitcolor": "white"
          },
          "hoverlabel": {
           "align": "left"
          },
          "hovermode": "closest",
          "mapbox": {
           "style": "light"
          },
          "paper_bgcolor": "white",
          "plot_bgcolor": "#E5ECF6",
          "polar": {
           "angularaxis": {
            "gridcolor": "white",
            "linecolor": "white",
            "ticks": ""
           },
           "bgcolor": "#E5ECF6",
           "radialaxis": {
            "gridcolor": "white",
            "linecolor": "white",
            "ticks": ""
           }
          },
          "scene": {
           "xaxis": {
            "backgroundcolor": "#E5ECF6",
            "gridcolor": "white",
            "gridwidth": 2,
            "linecolor": "white",
            "showbackground": true,
            "ticks": "",
            "zerolinecolor": "white"
           },
           "yaxis": {
            "backgroundcolor": "#E5ECF6",
            "gridcolor": "white",
            "gridwidth": 2,
            "linecolor": "white",
            "showbackground": true,
            "ticks": "",
            "zerolinecolor": "white"
           },
           "zaxis": {
            "backgroundcolor": "#E5ECF6",
            "gridcolor": "white",
            "gridwidth": 2,
            "linecolor": "white",
            "showbackground": true,
            "ticks": "",
            "zerolinecolor": "white"
           }
          },
          "shapedefaults": {
           "line": {
            "color": "#2a3f5f"
           }
          },
          "ternary": {
           "aaxis": {
            "gridcolor": "white",
            "linecolor": "white",
            "ticks": ""
           },
           "baxis": {
            "gridcolor": "white",
            "linecolor": "white",
            "ticks": ""
           },
           "bgcolor": "#E5ECF6",
           "caxis": {
            "gridcolor": "white",
            "linecolor": "white",
            "ticks": ""
           }
          },
          "title": {
           "x": 0.05
          },
          "xaxis": {
           "automargin": true,
           "gridcolor": "white",
           "linecolor": "white",
           "ticks": "",
           "title": {
            "standoff": 15
           },
           "zerolinecolor": "white",
           "zerolinewidth": 2
          },
          "yaxis": {
           "automargin": true,
           "gridcolor": "white",
           "linecolor": "white",
           "ticks": "",
           "title": {
            "standoff": 15
           },
           "zerolinecolor": "white",
           "zerolinewidth": 2
          }
         }
        },
        "title": {
         "text": "Avg Score in Science Major UB 2019"
        },
        "width": 1200,
        "xaxis": {
         "anchor": "y",
         "domain": [
          0,
          1
         ],
         "title": {
          "text": "Avg Score"
         }
        },
        "yaxis": {
         "anchor": "x",
         "categoryarray": [
          "AKUAKULTUR (PSDKU KEDIRI) ",
          "PETERNAKAN (PSDKU KEDIRI)",
          "SOSIAL EKONOMI PERIKANAN (PSDKU KEDIRI)",
          "AGROEKOTEKNOLOGI (PSDKU KEDIRI)",
          "PETERNAKAN",
          "PEMANFAATAN SUMBERDAYA PERIKANAN",
          "TEKNOLOGI HASIL PERIKANAN",
          "BUDIDAYA PERAIRAN",
          "AGROBISNIS PERIKANAN",
          "AGRIBISNIS (PSDKU KEDIRI)",
          "KETEKNIKAN PERTANIAN",
          "MANAJEMEN SUMBERDAYA PERAIRAN",
          "PENDIDIKAN TEKNOLOGI INFORMASI",
          "AGROEKOTEKNOLOGI",
          "AGRIBISNIS",
          "ILMU KELAUTAN",
          "TEKNOLOGI INDUSTRI PERTANIAN",
          "INSTRUMENTASI",
          "BIOLOGI",
          "TEKNOLOGI BIOPROSES",
          "PENDIDIKAN DOKTER HEWAN",
          "KEBIDANAN",
          "TEKNIK PENGAIRAN",
          "FISIKA",
          "ILMU KEPERAWATAN",
          "TEKNIK GEOFISIKA",
          "TEKNIK KOMPUTER",
          "MATEMATIKA",
          "BIOTEKNOLOGI",
          "KIMIA",
          "TEKNIK MESIN",
          "TEKNOLOGI INFORMASI",
          "PERENCANAAN WILAYAH & KOTA",
          "TEKNIK ELEKTRO",
          "ILMU DAN TEKNOLOGI PANGAN",
          "TEKNIK LINGKUNGAN",
          "TEKNIK KIMIA",
          "ARSITEKTUR",
          "SISTEM INFORMASI",
          "FARMASI",
          "STATISTIKA",
          "TEKNIK SIPIL",
          "GIZI KESEHATAN / ILMU GIZI",
          "TEKNIK INDUSTRI",
          "TEKNIK INFORMATIKA",
          "PENDIDIKAN DOKTER GIGI",
          "PENDIDIKAN DOKTER"
         ],
         "categoryorder": "array",
         "domain": [
          0,
          1
         ],
         "title": {
          "text": "Major"
         }
        }
       }
      }
     },
     "metadata": {},
     "output_type": "display_data"
    }
   ],
   "source": [
    "fig = px.bar(data_frame=df_univ_braw_clear.groupby('first_major').mean().reset_index().sort_values('average_score',ascending=False),x='average_score',y='first_major',color='first_major',height=1200,width=1200,text_auto=True)\n",
    "fig.update_layout(showlegend=False,title='Avg Score in Science Major UB 2019',xaxis_title='Avg Score',yaxis_title='Major',bargap=0.15,\n",
    "bargroupgap=0.1)\n",
    "# fig.update_traces(textfont_size=16, textangle=0, textposition=\"outside\", cliponaxis=False)"
   ]
  },
  {
   "cell_type": "code",
   "execution_count": 23,
   "metadata": {},
   "outputs": [
    {
     "data": {
      "application/vnd.plotly.v1+json": {
       "config": {
        "plotlyServerURL": "https://plot.ly"
       },
       "data": [
        {
         "alignmentgroup": "True",
         "hovertemplate": "variable=average_score<br>value=%{x}<br>first_major=%{y}<extra></extra>",
         "legendgroup": "average_score",
         "marker": {
          "color": "#636efa",
          "pattern": {
           "shape": ""
          }
         },
         "name": "average_score",
         "offsetgroup": "average_score",
         "orientation": "h",
         "showlegend": true,
         "textposition": "auto",
         "texttemplate": "%{x}",
         "type": "bar",
         "x": [
          696.759375,
          674.296875,
          650.5822368421053,
          642.671875,
          642.4868421052631
         ],
         "xaxis": "x",
         "y": [
          "PENDIDIKAN DOKTER",
          "PENDIDIKAN DOKTER GIGI",
          "TEKNIK INFORMATIKA",
          "TEKNIK INDUSTRI",
          "GIZI KESEHATAN / ILMU GIZI"
         ],
         "yaxis": "y"
        },
        {
         "alignmentgroup": "True",
         "hovertemplate": "variable=specialized_score<br>value=%{x}<br>first_major=%{y}<extra></extra>",
         "legendgroup": "specialized_score",
         "marker": {
          "color": "#EF553B",
          "pattern": {
           "shape": ""
          }
         },
         "name": "specialized_score",
         "offsetgroup": "specialized_score",
         "orientation": "h",
         "showlegend": true,
         "textposition": "auto",
         "texttemplate": "%{x}",
         "type": "bar",
         "x": [
          711.20625,
          677.71875,
          633.25,
          636.3203125,
          635.8947368421053
         ],
         "xaxis": "x",
         "y": [
          "PENDIDIKAN DOKTER",
          "PENDIDIKAN DOKTER GIGI",
          "TEKNIK INFORMATIKA",
          "TEKNIK INDUSTRI",
          "GIZI KESEHATAN / ILMU GIZI"
         ],
         "yaxis": "y"
        },
        {
         "alignmentgroup": "True",
         "hovertemplate": "variable=general_score<br>value=%{x}<br>first_major=%{y}<extra></extra>",
         "legendgroup": "general_score",
         "marker": {
          "color": "#00cc96",
          "pattern": {
           "shape": ""
          }
         },
         "name": "general_score",
         "offsetgroup": "general_score",
         "orientation": "h",
         "showlegend": true,
         "textposition": "auto",
         "texttemplate": "%{x}",
         "type": "bar",
         "x": [
          682.3125,
          670.875,
          667.9144736842105,
          649.0234375,
          649.078947368421
         ],
         "xaxis": "x",
         "y": [
          "PENDIDIKAN DOKTER",
          "PENDIDIKAN DOKTER GIGI",
          "TEKNIK INFORMATIKA",
          "TEKNIK INDUSTRI",
          "GIZI KESEHATAN / ILMU GIZI"
         ],
         "yaxis": "y"
        }
       ],
       "layout": {
        "bargap": 0.15,
        "bargroupgap": 0.1,
        "barmode": "group",
        "height": 500,
        "legend": {
         "title": {
          "text": "variable"
         },
         "tracegroupgap": 0
        },
        "margin": {
         "t": 60
        },
        "showlegend": true,
        "template": {
         "data": {
          "bar": [
           {
            "error_x": {
             "color": "#2a3f5f"
            },
            "error_y": {
             "color": "#2a3f5f"
            },
            "marker": {
             "line": {
              "color": "#E5ECF6",
              "width": 0.5
             },
             "pattern": {
              "fillmode": "overlay",
              "size": 10,
              "solidity": 0.2
             }
            },
            "type": "bar"
           }
          ],
          "barpolar": [
           {
            "marker": {
             "line": {
              "color": "#E5ECF6",
              "width": 0.5
             },
             "pattern": {
              "fillmode": "overlay",
              "size": 10,
              "solidity": 0.2
             }
            },
            "type": "barpolar"
           }
          ],
          "carpet": [
           {
            "aaxis": {
             "endlinecolor": "#2a3f5f",
             "gridcolor": "white",
             "linecolor": "white",
             "minorgridcolor": "white",
             "startlinecolor": "#2a3f5f"
            },
            "baxis": {
             "endlinecolor": "#2a3f5f",
             "gridcolor": "white",
             "linecolor": "white",
             "minorgridcolor": "white",
             "startlinecolor": "#2a3f5f"
            },
            "type": "carpet"
           }
          ],
          "choropleth": [
           {
            "colorbar": {
             "outlinewidth": 0,
             "ticks": ""
            },
            "type": "choropleth"
           }
          ],
          "contour": [
           {
            "colorbar": {
             "outlinewidth": 0,
             "ticks": ""
            },
            "colorscale": [
             [
              0,
              "#0d0887"
             ],
             [
              0.1111111111111111,
              "#46039f"
             ],
             [
              0.2222222222222222,
              "#7201a8"
             ],
             [
              0.3333333333333333,
              "#9c179e"
             ],
             [
              0.4444444444444444,
              "#bd3786"
             ],
             [
              0.5555555555555556,
              "#d8576b"
             ],
             [
              0.6666666666666666,
              "#ed7953"
             ],
             [
              0.7777777777777778,
              "#fb9f3a"
             ],
             [
              0.8888888888888888,
              "#fdca26"
             ],
             [
              1,
              "#f0f921"
             ]
            ],
            "type": "contour"
           }
          ],
          "contourcarpet": [
           {
            "colorbar": {
             "outlinewidth": 0,
             "ticks": ""
            },
            "type": "contourcarpet"
           }
          ],
          "heatmap": [
           {
            "colorbar": {
             "outlinewidth": 0,
             "ticks": ""
            },
            "colorscale": [
             [
              0,
              "#0d0887"
             ],
             [
              0.1111111111111111,
              "#46039f"
             ],
             [
              0.2222222222222222,
              "#7201a8"
             ],
             [
              0.3333333333333333,
              "#9c179e"
             ],
             [
              0.4444444444444444,
              "#bd3786"
             ],
             [
              0.5555555555555556,
              "#d8576b"
             ],
             [
              0.6666666666666666,
              "#ed7953"
             ],
             [
              0.7777777777777778,
              "#fb9f3a"
             ],
             [
              0.8888888888888888,
              "#fdca26"
             ],
             [
              1,
              "#f0f921"
             ]
            ],
            "type": "heatmap"
           }
          ],
          "heatmapgl": [
           {
            "colorbar": {
             "outlinewidth": 0,
             "ticks": ""
            },
            "colorscale": [
             [
              0,
              "#0d0887"
             ],
             [
              0.1111111111111111,
              "#46039f"
             ],
             [
              0.2222222222222222,
              "#7201a8"
             ],
             [
              0.3333333333333333,
              "#9c179e"
             ],
             [
              0.4444444444444444,
              "#bd3786"
             ],
             [
              0.5555555555555556,
              "#d8576b"
             ],
             [
              0.6666666666666666,
              "#ed7953"
             ],
             [
              0.7777777777777778,
              "#fb9f3a"
             ],
             [
              0.8888888888888888,
              "#fdca26"
             ],
             [
              1,
              "#f0f921"
             ]
            ],
            "type": "heatmapgl"
           }
          ],
          "histogram": [
           {
            "marker": {
             "pattern": {
              "fillmode": "overlay",
              "size": 10,
              "solidity": 0.2
             }
            },
            "type": "histogram"
           }
          ],
          "histogram2d": [
           {
            "colorbar": {
             "outlinewidth": 0,
             "ticks": ""
            },
            "colorscale": [
             [
              0,
              "#0d0887"
             ],
             [
              0.1111111111111111,
              "#46039f"
             ],
             [
              0.2222222222222222,
              "#7201a8"
             ],
             [
              0.3333333333333333,
              "#9c179e"
             ],
             [
              0.4444444444444444,
              "#bd3786"
             ],
             [
              0.5555555555555556,
              "#d8576b"
             ],
             [
              0.6666666666666666,
              "#ed7953"
             ],
             [
              0.7777777777777778,
              "#fb9f3a"
             ],
             [
              0.8888888888888888,
              "#fdca26"
             ],
             [
              1,
              "#f0f921"
             ]
            ],
            "type": "histogram2d"
           }
          ],
          "histogram2dcontour": [
           {
            "colorbar": {
             "outlinewidth": 0,
             "ticks": ""
            },
            "colorscale": [
             [
              0,
              "#0d0887"
             ],
             [
              0.1111111111111111,
              "#46039f"
             ],
             [
              0.2222222222222222,
              "#7201a8"
             ],
             [
              0.3333333333333333,
              "#9c179e"
             ],
             [
              0.4444444444444444,
              "#bd3786"
             ],
             [
              0.5555555555555556,
              "#d8576b"
             ],
             [
              0.6666666666666666,
              "#ed7953"
             ],
             [
              0.7777777777777778,
              "#fb9f3a"
             ],
             [
              0.8888888888888888,
              "#fdca26"
             ],
             [
              1,
              "#f0f921"
             ]
            ],
            "type": "histogram2dcontour"
           }
          ],
          "mesh3d": [
           {
            "colorbar": {
             "outlinewidth": 0,
             "ticks": ""
            },
            "type": "mesh3d"
           }
          ],
          "parcoords": [
           {
            "line": {
             "colorbar": {
              "outlinewidth": 0,
              "ticks": ""
             }
            },
            "type": "parcoords"
           }
          ],
          "pie": [
           {
            "automargin": true,
            "type": "pie"
           }
          ],
          "scatter": [
           {
            "marker": {
             "colorbar": {
              "outlinewidth": 0,
              "ticks": ""
             }
            },
            "type": "scatter"
           }
          ],
          "scatter3d": [
           {
            "line": {
             "colorbar": {
              "outlinewidth": 0,
              "ticks": ""
             }
            },
            "marker": {
             "colorbar": {
              "outlinewidth": 0,
              "ticks": ""
             }
            },
            "type": "scatter3d"
           }
          ],
          "scattercarpet": [
           {
            "marker": {
             "colorbar": {
              "outlinewidth": 0,
              "ticks": ""
             }
            },
            "type": "scattercarpet"
           }
          ],
          "scattergeo": [
           {
            "marker": {
             "colorbar": {
              "outlinewidth": 0,
              "ticks": ""
             }
            },
            "type": "scattergeo"
           }
          ],
          "scattergl": [
           {
            "marker": {
             "colorbar": {
              "outlinewidth": 0,
              "ticks": ""
             }
            },
            "type": "scattergl"
           }
          ],
          "scattermapbox": [
           {
            "marker": {
             "colorbar": {
              "outlinewidth": 0,
              "ticks": ""
             }
            },
            "type": "scattermapbox"
           }
          ],
          "scatterpolar": [
           {
            "marker": {
             "colorbar": {
              "outlinewidth": 0,
              "ticks": ""
             }
            },
            "type": "scatterpolar"
           }
          ],
          "scatterpolargl": [
           {
            "marker": {
             "colorbar": {
              "outlinewidth": 0,
              "ticks": ""
             }
            },
            "type": "scatterpolargl"
           }
          ],
          "scatterternary": [
           {
            "marker": {
             "colorbar": {
              "outlinewidth": 0,
              "ticks": ""
             }
            },
            "type": "scatterternary"
           }
          ],
          "surface": [
           {
            "colorbar": {
             "outlinewidth": 0,
             "ticks": ""
            },
            "colorscale": [
             [
              0,
              "#0d0887"
             ],
             [
              0.1111111111111111,
              "#46039f"
             ],
             [
              0.2222222222222222,
              "#7201a8"
             ],
             [
              0.3333333333333333,
              "#9c179e"
             ],
             [
              0.4444444444444444,
              "#bd3786"
             ],
             [
              0.5555555555555556,
              "#d8576b"
             ],
             [
              0.6666666666666666,
              "#ed7953"
             ],
             [
              0.7777777777777778,
              "#fb9f3a"
             ],
             [
              0.8888888888888888,
              "#fdca26"
             ],
             [
              1,
              "#f0f921"
             ]
            ],
            "type": "surface"
           }
          ],
          "table": [
           {
            "cells": {
             "fill": {
              "color": "#EBF0F8"
             },
             "line": {
              "color": "white"
             }
            },
            "header": {
             "fill": {
              "color": "#C8D4E3"
             },
             "line": {
              "color": "white"
             }
            },
            "type": "table"
           }
          ]
         },
         "layout": {
          "annotationdefaults": {
           "arrowcolor": "#2a3f5f",
           "arrowhead": 0,
           "arrowwidth": 1
          },
          "autotypenumbers": "strict",
          "coloraxis": {
           "colorbar": {
            "outlinewidth": 0,
            "ticks": ""
           }
          },
          "colorscale": {
           "diverging": [
            [
             0,
             "#8e0152"
            ],
            [
             0.1,
             "#c51b7d"
            ],
            [
             0.2,
             "#de77ae"
            ],
            [
             0.3,
             "#f1b6da"
            ],
            [
             0.4,
             "#fde0ef"
            ],
            [
             0.5,
             "#f7f7f7"
            ],
            [
             0.6,
             "#e6f5d0"
            ],
            [
             0.7,
             "#b8e186"
            ],
            [
             0.8,
             "#7fbc41"
            ],
            [
             0.9,
             "#4d9221"
            ],
            [
             1,
             "#276419"
            ]
           ],
           "sequential": [
            [
             0,
             "#0d0887"
            ],
            [
             0.1111111111111111,
             "#46039f"
            ],
            [
             0.2222222222222222,
             "#7201a8"
            ],
            [
             0.3333333333333333,
             "#9c179e"
            ],
            [
             0.4444444444444444,
             "#bd3786"
            ],
            [
             0.5555555555555556,
             "#d8576b"
            ],
            [
             0.6666666666666666,
             "#ed7953"
            ],
            [
             0.7777777777777778,
             "#fb9f3a"
            ],
            [
             0.8888888888888888,
             "#fdca26"
            ],
            [
             1,
             "#f0f921"
            ]
           ],
           "sequentialminus": [
            [
             0,
             "#0d0887"
            ],
            [
             0.1111111111111111,
             "#46039f"
            ],
            [
             0.2222222222222222,
             "#7201a8"
            ],
            [
             0.3333333333333333,
             "#9c179e"
            ],
            [
             0.4444444444444444,
             "#bd3786"
            ],
            [
             0.5555555555555556,
             "#d8576b"
            ],
            [
             0.6666666666666666,
             "#ed7953"
            ],
            [
             0.7777777777777778,
             "#fb9f3a"
            ],
            [
             0.8888888888888888,
             "#fdca26"
            ],
            [
             1,
             "#f0f921"
            ]
           ]
          },
          "colorway": [
           "#636efa",
           "#EF553B",
           "#00cc96",
           "#ab63fa",
           "#FFA15A",
           "#19d3f3",
           "#FF6692",
           "#B6E880",
           "#FF97FF",
           "#FECB52"
          ],
          "font": {
           "color": "#2a3f5f"
          },
          "geo": {
           "bgcolor": "white",
           "lakecolor": "white",
           "landcolor": "#E5ECF6",
           "showlakes": true,
           "showland": true,
           "subunitcolor": "white"
          },
          "hoverlabel": {
           "align": "left"
          },
          "hovermode": "closest",
          "mapbox": {
           "style": "light"
          },
          "paper_bgcolor": "white",
          "plot_bgcolor": "#E5ECF6",
          "polar": {
           "angularaxis": {
            "gridcolor": "white",
            "linecolor": "white",
            "ticks": ""
           },
           "bgcolor": "#E5ECF6",
           "radialaxis": {
            "gridcolor": "white",
            "linecolor": "white",
            "ticks": ""
           }
          },
          "scene": {
           "xaxis": {
            "backgroundcolor": "#E5ECF6",
            "gridcolor": "white",
            "gridwidth": 2,
            "linecolor": "white",
            "showbackground": true,
            "ticks": "",
            "zerolinecolor": "white"
           },
           "yaxis": {
            "backgroundcolor": "#E5ECF6",
            "gridcolor": "white",
            "gridwidth": 2,
            "linecolor": "white",
            "showbackground": true,
            "ticks": "",
            "zerolinecolor": "white"
           },
           "zaxis": {
            "backgroundcolor": "#E5ECF6",
            "gridcolor": "white",
            "gridwidth": 2,
            "linecolor": "white",
            "showbackground": true,
            "ticks": "",
            "zerolinecolor": "white"
           }
          },
          "shapedefaults": {
           "line": {
            "color": "#2a3f5f"
           }
          },
          "ternary": {
           "aaxis": {
            "gridcolor": "white",
            "linecolor": "white",
            "ticks": ""
           },
           "baxis": {
            "gridcolor": "white",
            "linecolor": "white",
            "ticks": ""
           },
           "bgcolor": "#E5ECF6",
           "caxis": {
            "gridcolor": "white",
            "linecolor": "white",
            "ticks": ""
           }
          },
          "title": {
           "x": 0.05
          },
          "xaxis": {
           "automargin": true,
           "gridcolor": "white",
           "linecolor": "white",
           "ticks": "",
           "title": {
            "standoff": 15
           },
           "zerolinecolor": "white",
           "zerolinewidth": 2
          },
          "yaxis": {
           "automargin": true,
           "gridcolor": "white",
           "linecolor": "white",
           "ticks": "",
           "title": {
            "standoff": 15
           },
           "zerolinecolor": "white",
           "zerolinewidth": 2
          }
         }
        },
        "title": {
         "text": "Top 5 Avg Score Major in UB 2019"
        },
        "xaxis": {
         "anchor": "y",
         "domain": [
          0,
          1
         ],
         "title": {
          "text": "Avg Score"
         }
        },
        "yaxis": {
         "anchor": "x",
         "categoryorder": "total ascending",
         "domain": [
          0,
          1
         ],
         "title": {
          "text": "Major"
         }
        }
       }
      }
     },
     "metadata": {},
     "output_type": "display_data"
    }
   ],
   "source": [
    "fig = px.bar(data_frame=df_univ_braw_clear.groupby('first_major').mean().sort_values('average_score',ascending=False).head(5).reset_index(),x=['average_score','specialized_score','general_score'],y='first_major',text_auto=True,barmode='group',height=500)\n",
    "\n",
    "fig.update_layout(showlegend=True,title='Top 5 Avg Score Major in UB 2019',xaxis_title='Avg Score',yaxis_title='Major',bargap=0.15,\n",
    "bargroupgap=0.1,yaxis={'categoryorder':'total ascending'})\n",
    "\n",
    "fig.show()"
   ]
  },
  {
   "cell_type": "code",
   "execution_count": 24,
   "metadata": {},
   "outputs": [
    {
     "data": {
      "text/html": [
       "<div>\n",
       "<style scoped>\n",
       "    .dataframe tbody tr th:only-of-type {\n",
       "        vertical-align: middle;\n",
       "    }\n",
       "\n",
       "    .dataframe tbody tr th {\n",
       "        vertical-align: top;\n",
       "    }\n",
       "\n",
       "    .dataframe thead th {\n",
       "        text-align: right;\n",
       "    }\n",
       "</style>\n",
       "<table border=\"1\" class=\"dataframe\">\n",
       "  <thead>\n",
       "    <tr style=\"text-align: right;\">\n",
       "      <th></th>\n",
       "      <th>general_score</th>\n",
       "      <th>specialized_score</th>\n",
       "      <th>average_score</th>\n",
       "      <th>first_major</th>\n",
       "    </tr>\n",
       "  </thead>\n",
       "  <tbody>\n",
       "    <tr>\n",
       "      <th>652</th>\n",
       "      <td>657.25</td>\n",
       "      <td>810.25</td>\n",
       "      <td>733.750</td>\n",
       "      <td>PENDIDIKAN DOKTER</td>\n",
       "    </tr>\n",
       "    <tr>\n",
       "      <th>653</th>\n",
       "      <td>714.00</td>\n",
       "      <td>728.00</td>\n",
       "      <td>721.000</td>\n",
       "      <td>PENDIDIKAN DOKTER</td>\n",
       "    </tr>\n",
       "    <tr>\n",
       "      <th>654</th>\n",
       "      <td>657.75</td>\n",
       "      <td>782.25</td>\n",
       "      <td>720.000</td>\n",
       "      <td>PENDIDIKAN DOKTER</td>\n",
       "    </tr>\n",
       "    <tr>\n",
       "      <th>655</th>\n",
       "      <td>726.25</td>\n",
       "      <td>709.00</td>\n",
       "      <td>717.625</td>\n",
       "      <td>PENDIDIKAN DOKTER</td>\n",
       "    </tr>\n",
       "    <tr>\n",
       "      <th>656</th>\n",
       "      <td>677.00</td>\n",
       "      <td>757.75</td>\n",
       "      <td>717.375</td>\n",
       "      <td>PENDIDIKAN DOKTER</td>\n",
       "    </tr>\n",
       "  </tbody>\n",
       "</table>\n",
       "</div>"
      ],
      "text/plain": [
       "     general_score  specialized_score  average_score        first_major\n",
       "652         657.25             810.25        733.750  PENDIDIKAN DOKTER\n",
       "653         714.00             728.00        721.000  PENDIDIKAN DOKTER\n",
       "654         657.75             782.25        720.000  PENDIDIKAN DOKTER\n",
       "655         726.25             709.00        717.625  PENDIDIKAN DOKTER\n",
       "656         677.00             757.75        717.375  PENDIDIKAN DOKTER"
      ]
     },
     "execution_count": 24,
     "metadata": {},
     "output_type": "execute_result"
    }
   ],
   "source": [
    "df_univ_braw_dokter = df_univ_braw_clear.loc[df_univ_braw_clear['first_major']=='PENDIDIKAN DOKTER'].sort_values(by=['average_score','specialized_score','general_score'],ascending=False).head(40)\n",
    "df_univ_braw_dokter.head()"
   ]
  },
  {
   "cell_type": "code",
   "execution_count": 25,
   "metadata": {},
   "outputs": [
    {
     "data": {
      "application/vnd.plotly.v1+json": {
       "config": {
        "plotlyServerURL": "https://plot.ly"
       },
       "data": [
        {
         "name": "Highest Score",
         "text": [
          733.75,
          721,
          720,
          717.625,
          717.375
         ],
         "type": "bar",
         "xaxis": "x",
         "y": [
          733.75,
          721,
          720,
          717.625,
          717.375
         ],
         "yaxis": "y"
        },
        {
         "name": "Lowest Score",
         "text": [
          680,
          678.875,
          678.75,
          678.375,
          677.25
         ],
         "type": "bar",
         "xaxis": "x2",
         "y": [
          680,
          678.875,
          678.75,
          678.375,
          677.25
         ],
         "yaxis": "y2"
        }
       ],
       "layout": {
        "annotations": [
         {
          "font": {
           "size": 16
          },
          "showarrow": false,
          "text": "Highest Score",
          "x": 0.225,
          "xanchor": "center",
          "xref": "paper",
          "y": 1,
          "yanchor": "bottom",
          "yref": "paper"
         },
         {
          "font": {
           "size": 16
          },
          "showarrow": false,
          "text": "Lowest Score",
          "x": 0.775,
          "xanchor": "center",
          "xref": "paper",
          "y": 1,
          "yanchor": "bottom",
          "yref": "paper"
         }
        ],
        "showlegend": false,
        "template": {
         "data": {
          "bar": [
           {
            "error_x": {
             "color": "#2a3f5f"
            },
            "error_y": {
             "color": "#2a3f5f"
            },
            "marker": {
             "line": {
              "color": "#E5ECF6",
              "width": 0.5
             },
             "pattern": {
              "fillmode": "overlay",
              "size": 10,
              "solidity": 0.2
             }
            },
            "type": "bar"
           }
          ],
          "barpolar": [
           {
            "marker": {
             "line": {
              "color": "#E5ECF6",
              "width": 0.5
             },
             "pattern": {
              "fillmode": "overlay",
              "size": 10,
              "solidity": 0.2
             }
            },
            "type": "barpolar"
           }
          ],
          "carpet": [
           {
            "aaxis": {
             "endlinecolor": "#2a3f5f",
             "gridcolor": "white",
             "linecolor": "white",
             "minorgridcolor": "white",
             "startlinecolor": "#2a3f5f"
            },
            "baxis": {
             "endlinecolor": "#2a3f5f",
             "gridcolor": "white",
             "linecolor": "white",
             "minorgridcolor": "white",
             "startlinecolor": "#2a3f5f"
            },
            "type": "carpet"
           }
          ],
          "choropleth": [
           {
            "colorbar": {
             "outlinewidth": 0,
             "ticks": ""
            },
            "type": "choropleth"
           }
          ],
          "contour": [
           {
            "colorbar": {
             "outlinewidth": 0,
             "ticks": ""
            },
            "colorscale": [
             [
              0,
              "#0d0887"
             ],
             [
              0.1111111111111111,
              "#46039f"
             ],
             [
              0.2222222222222222,
              "#7201a8"
             ],
             [
              0.3333333333333333,
              "#9c179e"
             ],
             [
              0.4444444444444444,
              "#bd3786"
             ],
             [
              0.5555555555555556,
              "#d8576b"
             ],
             [
              0.6666666666666666,
              "#ed7953"
             ],
             [
              0.7777777777777778,
              "#fb9f3a"
             ],
             [
              0.8888888888888888,
              "#fdca26"
             ],
             [
              1,
              "#f0f921"
             ]
            ],
            "type": "contour"
           }
          ],
          "contourcarpet": [
           {
            "colorbar": {
             "outlinewidth": 0,
             "ticks": ""
            },
            "type": "contourcarpet"
           }
          ],
          "heatmap": [
           {
            "colorbar": {
             "outlinewidth": 0,
             "ticks": ""
            },
            "colorscale": [
             [
              0,
              "#0d0887"
             ],
             [
              0.1111111111111111,
              "#46039f"
             ],
             [
              0.2222222222222222,
              "#7201a8"
             ],
             [
              0.3333333333333333,
              "#9c179e"
             ],
             [
              0.4444444444444444,
              "#bd3786"
             ],
             [
              0.5555555555555556,
              "#d8576b"
             ],
             [
              0.6666666666666666,
              "#ed7953"
             ],
             [
              0.7777777777777778,
              "#fb9f3a"
             ],
             [
              0.8888888888888888,
              "#fdca26"
             ],
             [
              1,
              "#f0f921"
             ]
            ],
            "type": "heatmap"
           }
          ],
          "heatmapgl": [
           {
            "colorbar": {
             "outlinewidth": 0,
             "ticks": ""
            },
            "colorscale": [
             [
              0,
              "#0d0887"
             ],
             [
              0.1111111111111111,
              "#46039f"
             ],
             [
              0.2222222222222222,
              "#7201a8"
             ],
             [
              0.3333333333333333,
              "#9c179e"
             ],
             [
              0.4444444444444444,
              "#bd3786"
             ],
             [
              0.5555555555555556,
              "#d8576b"
             ],
             [
              0.6666666666666666,
              "#ed7953"
             ],
             [
              0.7777777777777778,
              "#fb9f3a"
             ],
             [
              0.8888888888888888,
              "#fdca26"
             ],
             [
              1,
              "#f0f921"
             ]
            ],
            "type": "heatmapgl"
           }
          ],
          "histogram": [
           {
            "marker": {
             "pattern": {
              "fillmode": "overlay",
              "size": 10,
              "solidity": 0.2
             }
            },
            "type": "histogram"
           }
          ],
          "histogram2d": [
           {
            "colorbar": {
             "outlinewidth": 0,
             "ticks": ""
            },
            "colorscale": [
             [
              0,
              "#0d0887"
             ],
             [
              0.1111111111111111,
              "#46039f"
             ],
             [
              0.2222222222222222,
              "#7201a8"
             ],
             [
              0.3333333333333333,
              "#9c179e"
             ],
             [
              0.4444444444444444,
              "#bd3786"
             ],
             [
              0.5555555555555556,
              "#d8576b"
             ],
             [
              0.6666666666666666,
              "#ed7953"
             ],
             [
              0.7777777777777778,
              "#fb9f3a"
             ],
             [
              0.8888888888888888,
              "#fdca26"
             ],
             [
              1,
              "#f0f921"
             ]
            ],
            "type": "histogram2d"
           }
          ],
          "histogram2dcontour": [
           {
            "colorbar": {
             "outlinewidth": 0,
             "ticks": ""
            },
            "colorscale": [
             [
              0,
              "#0d0887"
             ],
             [
              0.1111111111111111,
              "#46039f"
             ],
             [
              0.2222222222222222,
              "#7201a8"
             ],
             [
              0.3333333333333333,
              "#9c179e"
             ],
             [
              0.4444444444444444,
              "#bd3786"
             ],
             [
              0.5555555555555556,
              "#d8576b"
             ],
             [
              0.6666666666666666,
              "#ed7953"
             ],
             [
              0.7777777777777778,
              "#fb9f3a"
             ],
             [
              0.8888888888888888,
              "#fdca26"
             ],
             [
              1,
              "#f0f921"
             ]
            ],
            "type": "histogram2dcontour"
           }
          ],
          "mesh3d": [
           {
            "colorbar": {
             "outlinewidth": 0,
             "ticks": ""
            },
            "type": "mesh3d"
           }
          ],
          "parcoords": [
           {
            "line": {
             "colorbar": {
              "outlinewidth": 0,
              "ticks": ""
             }
            },
            "type": "parcoords"
           }
          ],
          "pie": [
           {
            "automargin": true,
            "type": "pie"
           }
          ],
          "scatter": [
           {
            "marker": {
             "colorbar": {
              "outlinewidth": 0,
              "ticks": ""
             }
            },
            "type": "scatter"
           }
          ],
          "scatter3d": [
           {
            "line": {
             "colorbar": {
              "outlinewidth": 0,
              "ticks": ""
             }
            },
            "marker": {
             "colorbar": {
              "outlinewidth": 0,
              "ticks": ""
             }
            },
            "type": "scatter3d"
           }
          ],
          "scattercarpet": [
           {
            "marker": {
             "colorbar": {
              "outlinewidth": 0,
              "ticks": ""
             }
            },
            "type": "scattercarpet"
           }
          ],
          "scattergeo": [
           {
            "marker": {
             "colorbar": {
              "outlinewidth": 0,
              "ticks": ""
             }
            },
            "type": "scattergeo"
           }
          ],
          "scattergl": [
           {
            "marker": {
             "colorbar": {
              "outlinewidth": 0,
              "ticks": ""
             }
            },
            "type": "scattergl"
           }
          ],
          "scattermapbox": [
           {
            "marker": {
             "colorbar": {
              "outlinewidth": 0,
              "ticks": ""
             }
            },
            "type": "scattermapbox"
           }
          ],
          "scatterpolar": [
           {
            "marker": {
             "colorbar": {
              "outlinewidth": 0,
              "ticks": ""
             }
            },
            "type": "scatterpolar"
           }
          ],
          "scatterpolargl": [
           {
            "marker": {
             "colorbar": {
              "outlinewidth": 0,
              "ticks": ""
             }
            },
            "type": "scatterpolargl"
           }
          ],
          "scatterternary": [
           {
            "marker": {
             "colorbar": {
              "outlinewidth": 0,
              "ticks": ""
             }
            },
            "type": "scatterternary"
           }
          ],
          "surface": [
           {
            "colorbar": {
             "outlinewidth": 0,
             "ticks": ""
            },
            "colorscale": [
             [
              0,
              "#0d0887"
             ],
             [
              0.1111111111111111,
              "#46039f"
             ],
             [
              0.2222222222222222,
              "#7201a8"
             ],
             [
              0.3333333333333333,
              "#9c179e"
             ],
             [
              0.4444444444444444,
              "#bd3786"
             ],
             [
              0.5555555555555556,
              "#d8576b"
             ],
             [
              0.6666666666666666,
              "#ed7953"
             ],
             [
              0.7777777777777778,
              "#fb9f3a"
             ],
             [
              0.8888888888888888,
              "#fdca26"
             ],
             [
              1,
              "#f0f921"
             ]
            ],
            "type": "surface"
           }
          ],
          "table": [
           {
            "cells": {
             "fill": {
              "color": "#EBF0F8"
             },
             "line": {
              "color": "white"
             }
            },
            "header": {
             "fill": {
              "color": "#C8D4E3"
             },
             "line": {
              "color": "white"
             }
            },
            "type": "table"
           }
          ]
         },
         "layout": {
          "annotationdefaults": {
           "arrowcolor": "#2a3f5f",
           "arrowhead": 0,
           "arrowwidth": 1
          },
          "autotypenumbers": "strict",
          "coloraxis": {
           "colorbar": {
            "outlinewidth": 0,
            "ticks": ""
           }
          },
          "colorscale": {
           "diverging": [
            [
             0,
             "#8e0152"
            ],
            [
             0.1,
             "#c51b7d"
            ],
            [
             0.2,
             "#de77ae"
            ],
            [
             0.3,
             "#f1b6da"
            ],
            [
             0.4,
             "#fde0ef"
            ],
            [
             0.5,
             "#f7f7f7"
            ],
            [
             0.6,
             "#e6f5d0"
            ],
            [
             0.7,
             "#b8e186"
            ],
            [
             0.8,
             "#7fbc41"
            ],
            [
             0.9,
             "#4d9221"
            ],
            [
             1,
             "#276419"
            ]
           ],
           "sequential": [
            [
             0,
             "#0d0887"
            ],
            [
             0.1111111111111111,
             "#46039f"
            ],
            [
             0.2222222222222222,
             "#7201a8"
            ],
            [
             0.3333333333333333,
             "#9c179e"
            ],
            [
             0.4444444444444444,
             "#bd3786"
            ],
            [
             0.5555555555555556,
             "#d8576b"
            ],
            [
             0.6666666666666666,
             "#ed7953"
            ],
            [
             0.7777777777777778,
             "#fb9f3a"
            ],
            [
             0.8888888888888888,
             "#fdca26"
            ],
            [
             1,
             "#f0f921"
            ]
           ],
           "sequentialminus": [
            [
             0,
             "#0d0887"
            ],
            [
             0.1111111111111111,
             "#46039f"
            ],
            [
             0.2222222222222222,
             "#7201a8"
            ],
            [
             0.3333333333333333,
             "#9c179e"
            ],
            [
             0.4444444444444444,
             "#bd3786"
            ],
            [
             0.5555555555555556,
             "#d8576b"
            ],
            [
             0.6666666666666666,
             "#ed7953"
            ],
            [
             0.7777777777777778,
             "#fb9f3a"
            ],
            [
             0.8888888888888888,
             "#fdca26"
            ],
            [
             1,
             "#f0f921"
            ]
           ]
          },
          "colorway": [
           "#636efa",
           "#EF553B",
           "#00cc96",
           "#ab63fa",
           "#FFA15A",
           "#19d3f3",
           "#FF6692",
           "#B6E880",
           "#FF97FF",
           "#FECB52"
          ],
          "font": {
           "color": "#2a3f5f"
          },
          "geo": {
           "bgcolor": "white",
           "lakecolor": "white",
           "landcolor": "#E5ECF6",
           "showlakes": true,
           "showland": true,
           "subunitcolor": "white"
          },
          "hoverlabel": {
           "align": "left"
          },
          "hovermode": "closest",
          "mapbox": {
           "style": "light"
          },
          "paper_bgcolor": "white",
          "plot_bgcolor": "#E5ECF6",
          "polar": {
           "angularaxis": {
            "gridcolor": "white",
            "linecolor": "white",
            "ticks": ""
           },
           "bgcolor": "#E5ECF6",
           "radialaxis": {
            "gridcolor": "white",
            "linecolor": "white",
            "ticks": ""
           }
          },
          "scene": {
           "xaxis": {
            "backgroundcolor": "#E5ECF6",
            "gridcolor": "white",
            "gridwidth": 2,
            "linecolor": "white",
            "showbackground": true,
            "ticks": "",
            "zerolinecolor": "white"
           },
           "yaxis": {
            "backgroundcolor": "#E5ECF6",
            "gridcolor": "white",
            "gridwidth": 2,
            "linecolor": "white",
            "showbackground": true,
            "ticks": "",
            "zerolinecolor": "white"
           },
           "zaxis": {
            "backgroundcolor": "#E5ECF6",
            "gridcolor": "white",
            "gridwidth": 2,
            "linecolor": "white",
            "showbackground": true,
            "ticks": "",
            "zerolinecolor": "white"
           }
          },
          "shapedefaults": {
           "line": {
            "color": "#2a3f5f"
           }
          },
          "ternary": {
           "aaxis": {
            "gridcolor": "white",
            "linecolor": "white",
            "ticks": ""
           },
           "baxis": {
            "gridcolor": "white",
            "linecolor": "white",
            "ticks": ""
           },
           "bgcolor": "#E5ECF6",
           "caxis": {
            "gridcolor": "white",
            "linecolor": "white",
            "ticks": ""
           }
          },
          "title": {
           "x": 0.05
          },
          "xaxis": {
           "automargin": true,
           "gridcolor": "white",
           "linecolor": "white",
           "ticks": "",
           "title": {
            "standoff": 15
           },
           "zerolinecolor": "white",
           "zerolinewidth": 2
          },
          "yaxis": {
           "automargin": true,
           "gridcolor": "white",
           "linecolor": "white",
           "ticks": "",
           "title": {
            "standoff": 15
           },
           "zerolinecolor": "white",
           "zerolinewidth": 2
          }
         }
        },
        "title": {
         "text": "Medical School UB Avg Score 2019"
        },
        "xaxis": {
         "anchor": "y",
         "domain": [
          0,
          0.45
         ],
         "tickangle": 0,
         "tickfont": {
          "color": "black",
          "family": "Rockwell",
          "size": 14
         }
        },
        "xaxis2": {
         "anchor": "y2",
         "domain": [
          0.55,
          1
         ],
         "tickangle": 0,
         "tickfont": {
          "color": "black",
          "family": "Rockwell",
          "size": 14
         }
        },
        "yaxis": {
         "anchor": "x",
         "domain": [
          0,
          1
         ]
        },
        "yaxis2": {
         "anchor": "x2",
         "domain": [
          0,
          1
         ],
         "matches": "y",
         "showticklabels": false
        }
       }
      }
     },
     "metadata": {},
     "output_type": "display_data"
    }
   ],
   "source": [
    "from plotly.subplots import make_subplots\n",
    "import plotly.graph_objects as go\n",
    "\n",
    "fig = make_subplots(rows=1, cols=2, shared_yaxes=True,subplot_titles=('Highest Score','Lowest Score'))\n",
    "\n",
    "fig.add_trace(\n",
    "    go.Bar(y=df_univ_braw_dokter.loc[:,'average_score',].iloc[:5],name='Highest Score',text=df_univ_braw_dokter.loc[:,'average_score'].iloc[:5]),\n",
    "    row=1, col=1\n",
    ")\n",
    "\n",
    "fig.add_trace(\n",
    "    go.Bar(y=df_univ_braw_dokter.loc[:,'average_score'].iloc[-5:],name='Lowest Score',text=df_univ_braw_dokter.loc[:,'average_score'].iloc[-5:]),\n",
    "    row=1, col=2,\n",
    ")\n",
    "fig.update_layout(title_text='Medical School UB Avg Score 2019',showlegend=False,)\n",
    "fig.update_xaxes(tickangle=0, tickfont=dict(family='Rockwell', color='black', size=14))"
   ]
  }
 ],
 "metadata": {
  "interpreter": {
   "hash": "fadd12deb669ed8a1e500b85b650f6b7c52912287fdd991d1d178b5f322ba022"
  },
  "kernelspec": {
   "display_name": "Python 3.9.7 ('base')",
   "language": "python",
   "name": "python3"
  },
  "language_info": {
   "codemirror_mode": {
    "name": "ipython",
    "version": 3
   },
   "file_extension": ".py",
   "mimetype": "text/x-python",
   "name": "python",
   "nbconvert_exporter": "python",
   "pygments_lexer": "ipython3",
   "version": "3.9.7"
  },
  "orig_nbformat": 4
 },
 "nbformat": 4,
 "nbformat_minor": 2
}
